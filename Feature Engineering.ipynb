{
 "cells": [
  {
   "cell_type": "markdown",
   "id": "346e2250",
   "metadata": {
    "toc": true
   },
   "source": [
    "<h1>Table of Contents<span class=\"tocSkip\"></span></h1>\n",
    "<div class=\"toc\"><ul class=\"toc-item\"><li><span><a href=\"#Introduction\" data-toc-modified-id=\"Introduction-1\"><span class=\"toc-item-num\">1&nbsp;&nbsp;</span>Introduction</a></span></li><li><span><a href=\"#Library-imports\" data-toc-modified-id=\"Library-imports-2\"><span class=\"toc-item-num\">2&nbsp;&nbsp;</span>Library imports</a></span></li><li><span><a href=\"#Feature-Engineering\" data-toc-modified-id=\"Feature-Engineering-3\"><span class=\"toc-item-num\">3&nbsp;&nbsp;</span>Feature Engineering</a></span><ul class=\"toc-item\"><li><span><a href=\"#User-Logs-Features\" data-toc-modified-id=\"User-Logs-Features-3.1\"><span class=\"toc-item-num\">3.1&nbsp;&nbsp;</span>User Logs Features</a></span></li></ul></li></ul></div>"
   ]
  },
  {
   "cell_type": "markdown",
   "id": "c73b930a",
   "metadata": {},
   "source": [
    "# Introduction"
   ]
  },
  {
   "cell_type": "markdown",
   "id": "5a4eb59f",
   "metadata": {},
   "source": [
    "Feature engineering is a very integral part of the machine learning process, it comes after the data pre-processing and cleaning steps.\n",
    "\n",
    "After having a clean data, we can use it to generate features or input variables that the model will use to find correlations and patterns between them and the target variable that we want to predict.\n",
    "\n",
    "Feature are engineered relative to dates selected in the past, meaning that for each given date, features will only be calculated using the history prior to that date. And thus giving us multiple master tables or multiple snapshots of clients behaviors that vary with time and therefore giving the model more data to train."
   ]
  },
  {
   "cell_type": "markdown",
   "id": "9674ab9c",
   "metadata": {},
   "source": [
    "# Library imports"
   ]
  },
  {
   "cell_type": "code",
   "execution_count": 25,
   "id": "dabe7ce7",
   "metadata": {
    "ExecuteTime": {
     "end_time": "2022-04-16T16:35:22.382921Z",
     "start_time": "2022-04-16T16:35:20.872844Z"
    }
   },
   "outputs": [
    {
     "data": {
      "text/plain": [
       "RendererRegistry.enable('default')"
      ]
     },
     "execution_count": 25,
     "metadata": {},
     "output_type": "execute_result"
    }
   ],
   "source": [
    "%matplotlib inline\n",
    "import pandas as pd\n",
    "import matplotlib.pyplot as plt\n",
    "import seaborn as sns\n",
    "import altair as alt\n",
    "import warnings\n",
    "from IPython.core.interactiveshell import InteractiveShell\n",
    "import numpy as np\n",
    "import dask.dataframe as dd\n",
    "import os\n",
    "import itertools\n",
    "import matplotlib.ticker as ticker\n",
    "import vaex\n",
    "from dask.distributed import Client\n",
    "from dask import delayed, compute\n",
    "from datetime import datetime\n",
    "alt.renderers.enable('default')\n",
    "InteractiveShell.ast_node_interactivity = \"all\"\n",
    "sns.set_theme(style=\"darkgrid\")\n",
    "warnings.filterwarnings('ignore')\n",
    "sns.set_palette(sns.color_palette(\"Set3\"))\n",
    "client = Client(n_workers=6)\n"
   ]
  },
  {
   "cell_type": "code",
   "execution_count": 2,
   "id": "fd59580b",
   "metadata": {
    "ExecuteTime": {
     "end_time": "2022-04-16T16:31:04.554526Z",
     "start_time": "2022-04-16T16:31:04.551508Z"
    }
   },
   "outputs": [],
   "source": [
    "uid = 'msno'"
   ]
  },
  {
   "cell_type": "code",
   "execution_count": 3,
   "id": "94b7d769",
   "metadata": {
    "ExecuteTime": {
     "end_time": "2022-04-16T16:31:05.454067Z",
     "start_time": "2022-04-16T16:31:04.556679Z"
    }
   },
   "outputs": [
    {
     "data": {
      "text/html": [
       "<div>\n",
       "<style scoped>\n",
       "    .dataframe tbody tr th:only-of-type {\n",
       "        vertical-align: middle;\n",
       "    }\n",
       "\n",
       "    .dataframe tbody tr th {\n",
       "        vertical-align: top;\n",
       "    }\n",
       "\n",
       "    .dataframe thead th {\n",
       "        text-align: right;\n",
       "    }\n",
       "</style>\n",
       "<table border=\"1\" class=\"dataframe\">\n",
       "  <thead>\n",
       "    <tr style=\"text-align: right;\">\n",
       "      <th></th>\n",
       "      <th>msno</th>\n",
       "      <th>is_churn</th>\n",
       "    </tr>\n",
       "  </thead>\n",
       "  <tbody>\n",
       "    <tr>\n",
       "      <th>0</th>\n",
       "      <td>waLDQMmcOu2jLDaV1ddDkgCrB/jl6sD66Xzs0Vqax1Y=</td>\n",
       "      <td>1</td>\n",
       "    </tr>\n",
       "    <tr>\n",
       "      <th>1</th>\n",
       "      <td>QA7uiXy8vIbUSPOkCf9RwQ3FsT8jVq2OxDr8zqa7bRQ=</td>\n",
       "      <td>1</td>\n",
       "    </tr>\n",
       "    <tr>\n",
       "      <th>2</th>\n",
       "      <td>fGwBva6hikQmTJzrbz/2Ezjm5Cth5jZUNvXigKK2AFA=</td>\n",
       "      <td>1</td>\n",
       "    </tr>\n",
       "    <tr>\n",
       "      <th>3</th>\n",
       "      <td>mT5V8rEpa+8wuqi6x0DoVd3H5icMKkE9Prt49UlmK+4=</td>\n",
       "      <td>1</td>\n",
       "    </tr>\n",
       "    <tr>\n",
       "      <th>4</th>\n",
       "      <td>XaPhtGLk/5UvvOYHcONTwsnH97P4eGECeq+BARGItRw=</td>\n",
       "      <td>1</td>\n",
       "    </tr>\n",
       "  </tbody>\n",
       "</table>\n",
       "</div>"
      ],
      "text/plain": [
       "                                           msno is_churn\n",
       "0  waLDQMmcOu2jLDaV1ddDkgCrB/jl6sD66Xzs0Vqax1Y=        1\n",
       "1  QA7uiXy8vIbUSPOkCf9RwQ3FsT8jVq2OxDr8zqa7bRQ=        1\n",
       "2  fGwBva6hikQmTJzrbz/2Ezjm5Cth5jZUNvXigKK2AFA=        1\n",
       "3  mT5V8rEpa+8wuqi6x0DoVd3H5icMKkE9Prt49UlmK+4=        1\n",
       "4  XaPhtGLk/5UvvOYHcONTwsnH97P4eGECeq+BARGItRw=        1"
      ]
     },
     "execution_count": 3,
     "metadata": {},
     "output_type": "execute_result"
    }
   ],
   "source": [
    "# This can be changed to the directory where the datasets are stored\n",
    "data_dir = './data'\n",
    "\n",
    "# Training data for january, contains two columns : user id and binary churn target variable\n",
    "train = pd.read_csv(os.path.join(data_dir, 'train.csv'), dtype={'is_churn': str})\n",
    "\n",
    "train.head()"
   ]
  },
  {
   "cell_type": "markdown",
   "id": "4b2e29e8",
   "metadata": {},
   "source": [
    "# Feature Engineering"
   ]
  },
  {
   "cell_type": "markdown",
   "id": "55b14453",
   "metadata": {},
   "source": [
    "## User Logs Features"
   ]
  },
  {
   "cell_type": "markdown",
   "id": "073494f6",
   "metadata": {},
   "source": [
    "In this step of the feature engineering process, we will be using the user logs data to generate features containing information about the listening behavior of the clients.\n",
    "\n",
    "Since the data is very large and cannot fit in the server's memory, I will be using the <a href=\"https://vaex.io/docs/api.html\">vaex</a> library to be able to generate features for such large dataset."
   ]
  },
  {
   "cell_type": "code",
   "execution_count": 4,
   "id": "5cbd9fab",
   "metadata": {
    "ExecuteTime": {
     "end_time": "2022-04-16T16:31:07.623718Z",
     "start_time": "2022-04-16T16:31:06.726674Z"
    }
   },
   "outputs": [],
   "source": [
    "df = vaex.open('./data/user_logs_split_*.hdf5')"
   ]
  },
  {
   "cell_type": "code",
   "execution_count": 5,
   "id": "0fdfd569",
   "metadata": {
    "ExecuteTime": {
     "end_time": "2022-04-16T16:31:07.645084Z",
     "start_time": "2022-04-16T16:31:07.625911Z"
    }
   },
   "outputs": [
    {
     "data": {
      "text/plain": [
       "'msno'"
      ]
     },
     "execution_count": 5,
     "metadata": {},
     "output_type": "execute_result"
    },
    {
     "data": {
      "text/plain": [
       "'date'"
      ]
     },
     "execution_count": 5,
     "metadata": {},
     "output_type": "execute_result"
    },
    {
     "data": {
      "text/plain": [
       "'num_25'"
      ]
     },
     "execution_count": 5,
     "metadata": {},
     "output_type": "execute_result"
    },
    {
     "data": {
      "text/plain": [
       "'num_50'"
      ]
     },
     "execution_count": 5,
     "metadata": {},
     "output_type": "execute_result"
    },
    {
     "data": {
      "text/plain": [
       "'num_75'"
      ]
     },
     "execution_count": 5,
     "metadata": {},
     "output_type": "execute_result"
    },
    {
     "data": {
      "text/plain": [
       "'num_985'"
      ]
     },
     "execution_count": 5,
     "metadata": {},
     "output_type": "execute_result"
    },
    {
     "data": {
      "text/plain": [
       "'num_100'"
      ]
     },
     "execution_count": 5,
     "metadata": {},
     "output_type": "execute_result"
    },
    {
     "data": {
      "text/plain": [
       "'num_unq'"
      ]
     },
     "execution_count": 5,
     "metadata": {},
     "output_type": "execute_result"
    },
    {
     "data": {
      "text/plain": [
       "'total_secs'"
      ]
     },
     "execution_count": 5,
     "metadata": {},
     "output_type": "execute_result"
    }
   ],
   "source": [
    "names = ['msno','date','num_25','num_50','num_75','num_985','num_100','num_unq','total_secs']\n",
    "\n",
    "for i, new_name in enumerate(names):\n",
    "    df.rename(str(i), new_name)"
   ]
  },
  {
   "cell_type": "code",
   "execution_count": 6,
   "id": "5a8fb99a",
   "metadata": {
    "ExecuteTime": {
     "end_time": "2022-04-16T16:31:08.548302Z",
     "start_time": "2022-04-16T16:31:08.461609Z"
    }
   },
   "outputs": [
    {
     "data": {
      "text/html": [
       "<table>\n",
       "<thead>\n",
       "<tr><th>#                                      </th><th>msno                                          </th><th>date    </th><th>num_25  </th><th>num_50  </th><th>num_75  </th><th>num_985  </th><th>num_100  </th><th>num_unq  </th><th>total_secs        </th><th>date_formatted                  </th></tr>\n",
       "</thead>\n",
       "<tbody>\n",
       "<tr><td><i style='opacity: 0.6'>0</i>          </td><td>&#x27;rxIP2f2aN0rYNp+toI0Obt/N/FYQX8hcO1fTmmy2h34=&#x27;</td><td>20150513</td><td>0       </td><td>0       </td><td>0       </td><td>0        </td><td>1        </td><td>1        </td><td>280.335           </td><td>Timestamp(&#x27;2015-05-13 00:00:00&#x27;)</td></tr>\n",
       "<tr><td><i style='opacity: 0.6'>1</i>          </td><td>&#x27;rxIP2f2aN0rYNp+toI0Obt/N/FYQX8hcO1fTmmy2h34=&#x27;</td><td>20150709</td><td>9       </td><td>1       </td><td>0       </td><td>0        </td><td>7        </td><td>11       </td><td>1658.9479999999999</td><td>Timestamp(&#x27;2015-07-09 00:00:00&#x27;)</td></tr>\n",
       "<tr><td><i style='opacity: 0.6'>2</i>          </td><td>&#x27;yxiEWwE9VR5utpUecLxVdQ5B7NysUPfrNtGINaM2zA8=&#x27;</td><td>20150105</td><td>3       </td><td>3       </td><td>0       </td><td>0        </td><td>68       </td><td>36       </td><td>17364.956000000002</td><td>Timestamp(&#x27;2015-01-05 00:00:00&#x27;)</td></tr>\n",
       "<tr><td><i style='opacity: 0.6'>3</i>          </td><td>&#x27;yxiEWwE9VR5utpUecLxVdQ5B7NysUPfrNtGINaM2zA8=&#x27;</td><td>20150306</td><td>1       </td><td>0       </td><td>1       </td><td>1        </td><td>97       </td><td>27       </td><td>24667.317000000003</td><td>Timestamp(&#x27;2015-03-06 00:00:00&#x27;)</td></tr>\n",
       "<tr><td><i style='opacity: 0.6'>4</i>          </td><td>&#x27;yxiEWwE9VR5utpUecLxVdQ5B7NysUPfrNtGINaM2zA8=&#x27;</td><td>20150501</td><td>3       </td><td>0       </td><td>0       </td><td>0        </td><td>38       </td><td>38       </td><td>9649.029          </td><td>Timestamp(&#x27;2015-05-01 00:00:00&#x27;)</td></tr>\n",
       "<tr><td>...                                    </td><td>...                                           </td><td>...     </td><td>...     </td><td>...     </td><td>...     </td><td>...      </td><td>...      </td><td>...      </td><td>...               </td><td>...                             </td></tr>\n",
       "<tr><td><i style='opacity: 0.6'>391,865,090</i></td><td>&#x27;ccyBVC3HXqPi7D8GoxT0u3jntamqtPubA9hKhRQUsu0=&#x27;</td><td>20150925</td><td>0       </td><td>1       </td><td>0       </td><td>0        </td><td>1        </td><td>2        </td><td>342.207           </td><td>Timestamp(&#x27;2015-09-25 00:00:00&#x27;)</td></tr>\n",
       "<tr><td><i style='opacity: 0.6'>391,865,091</i></td><td>&#x27;ccyBVC3HXqPi7D8GoxT0u3jntamqtPubA9hKhRQUsu0=&#x27;</td><td>20160216</td><td>12      </td><td>9       </td><td>2       </td><td>0        </td><td>13       </td><td>30       </td><td>4220.209          </td><td>Timestamp(&#x27;2016-02-16 00:00:00&#x27;)</td></tr>\n",
       "<tr><td><i style='opacity: 0.6'>391,865,092</i></td><td>&#x27;ccyBVC3HXqPi7D8GoxT0u3jntamqtPubA9hKhRQUsu0=&#x27;</td><td>20160515</td><td>15      </td><td>9       </td><td>10      </td><td>5        </td><td>15       </td><td>47       </td><td>7300.25           </td><td>Timestamp(&#x27;2016-05-15 00:00:00&#x27;)</td></tr>\n",
       "<tr><td><i style='opacity: 0.6'>391,865,093</i></td><td>&#x27;ccyBVC3HXqPi7D8GoxT0u3jntamqtPubA9hKhRQUsu0=&#x27;</td><td>20160725</td><td>8       </td><td>0       </td><td>0       </td><td>0        </td><td>10       </td><td>13       </td><td>2498.097          </td><td>Timestamp(&#x27;2016-07-25 00:00:00&#x27;)</td></tr>\n",
       "<tr><td><i style='opacity: 0.6'>391,865,094</i></td><td>&#x27;ccyBVC3HXqPi7D8GoxT0u3jntamqtPubA9hKhRQUsu0=&#x27;</td><td>20161005</td><td>0       </td><td>4       </td><td>1       </td><td>1        </td><td>11       </td><td>10       </td><td>3268.739          </td><td>Timestamp(&#x27;2016-10-05 00:00:00&#x27;)</td></tr>\n",
       "</tbody>\n",
       "</table>"
      ],
      "text/plain": [
       "#            msno                                            date      num_25    num_50    num_75    num_985    num_100    num_unq    total_secs          date_formatted\n",
       "0            'rxIP2f2aN0rYNp+toI0Obt/N/FYQX8hcO1fTmmy2h34='  20150513  0         0         0         0          1          1          280.335             Timestamp('2015-05-13 00:00:00')\n",
       "1            'rxIP2f2aN0rYNp+toI0Obt/N/FYQX8hcO1fTmmy2h34='  20150709  9         1         0         0          7          11         1658.9479999999999  Timestamp('2015-07-09 00:00:00')\n",
       "2            'yxiEWwE9VR5utpUecLxVdQ5B7NysUPfrNtGINaM2zA8='  20150105  3         3         0         0          68         36         17364.956000000002  Timestamp('2015-01-05 00:00:00')\n",
       "3            'yxiEWwE9VR5utpUecLxVdQ5B7NysUPfrNtGINaM2zA8='  20150306  1         0         1         1          97         27         24667.317000000003  Timestamp('2015-03-06 00:00:00')\n",
       "4            'yxiEWwE9VR5utpUecLxVdQ5B7NysUPfrNtGINaM2zA8='  20150501  3         0         0         0          38         38         9649.029            Timestamp('2015-05-01 00:00:00')\n",
       "...          ...                                             ...       ...       ...       ...       ...        ...        ...        ...                 ...\n",
       "391,865,090  'ccyBVC3HXqPi7D8GoxT0u3jntamqtPubA9hKhRQUsu0='  20150925  0         1         0         0          1          2          342.207             Timestamp('2015-09-25 00:00:00')\n",
       "391,865,091  'ccyBVC3HXqPi7D8GoxT0u3jntamqtPubA9hKhRQUsu0='  20160216  12        9         2         0          13         30         4220.209            Timestamp('2016-02-16 00:00:00')\n",
       "391,865,092  'ccyBVC3HXqPi7D8GoxT0u3jntamqtPubA9hKhRQUsu0='  20160515  15        9         10        5          15         47         7300.25             Timestamp('2016-05-15 00:00:00')\n",
       "391,865,093  'ccyBVC3HXqPi7D8GoxT0u3jntamqtPubA9hKhRQUsu0='  20160725  8         0         0         0          10         13         2498.097            Timestamp('2016-07-25 00:00:00')\n",
       "391,865,094  'ccyBVC3HXqPi7D8GoxT0u3jntamqtPubA9hKhRQUsu0='  20161005  0         4         1         1          11         10         3268.739            Timestamp('2016-10-05 00:00:00')"
      ]
     },
     "execution_count": 6,
     "metadata": {},
     "output_type": "execute_result"
    }
   ],
   "source": [
    "# The data contains a date column but that's in a format that cannot be handled by vaex\n",
    "# we will need to convert from this format 20160301 to this format 2016-03-01 before converting to datetime type\n",
    "\n",
    "df['year'] = df['date'] // 10000\n",
    "df['month'] = (df['date'] // 100) % 100\n",
    "df['day'] = df['date'] % 100\n",
    "\n",
    "df['year'] = df['year'].astype(str)\n",
    "df['month'] = df['month'].astype(str).str.zfill(2)\n",
    "df['day'] = df['day'].astype(str).str.zfill(2)\n",
    "\n",
    "df['date_formatted'] = df['year'] + '-' + df['month'] + '-' + df['day']\n",
    "df['date_formatted'] = df['date_formatted'].astype('datetime64')\n",
    "\n",
    "df.drop(['year', 'month', 'day'], inplace=True)"
   ]
  },
  {
   "cell_type": "code",
   "execution_count": 7,
   "id": "0ba8e66a",
   "metadata": {
    "ExecuteTime": {
     "end_time": "2022-04-16T16:31:09.972207Z",
     "start_time": "2022-04-16T16:31:09.967324Z"
    }
   },
   "outputs": [],
   "source": [
    "def compute_aggregations_history(df, date_filter=20160201, resolution=\"D\", resolution_value=30, list_aggs=None):\n",
    "    \"\"\"\n",
    "    Filter df by only taking history prior to <date_filter> then generate aggregations each :\n",
    "                                                                            <resolution_value> * <resolution>\n",
    "    :param df: vaex dataframe\n",
    "    :param date_filter: filter date, only take instances having a date inferior to this\n",
    "    :param resolution: datetime frequency of aggregations\n",
    "    :param resolution_value: number of units of <resolution> to take\n",
    "    :param list_aggs: dictionary mapping the name of the output column to the aggregation to perform\n",
    "    :return: pandas df containing aggregations performed\n",
    "    \"\"\"\n",
    "    if list_aggs is None:\n",
    "        list_aggs = []\n",
    "    df_filtered = df[df.date <= date_filter]\n",
    "    return df_filtered.groupby(['msno', vaex.BinnerTime(df_filtered['date_formatted'],\n",
    "                                               resolution=resolution,\n",
    "                                               every=resolution_value)]).agg(*list_aggs).to_pandas_df()\n"
   ]
  },
  {
   "cell_type": "code",
   "execution_count": 8,
   "id": "2eac5f10",
   "metadata": {
    "ExecuteTime": {
     "end_time": "2022-04-16T16:31:10.661777Z",
     "start_time": "2022-04-16T16:31:10.657923Z"
    }
   },
   "outputs": [],
   "source": [
    "sample = df[:10000000]"
   ]
  },
  {
   "cell_type": "code",
   "execution_count": 9,
   "id": "41b1f401",
   "metadata": {
    "ExecuteTime": {
     "end_time": "2022-04-16T16:31:44.853495Z",
     "start_time": "2022-04-16T16:31:12.336702Z"
    }
   },
   "outputs": [],
   "source": [
    "# This is an example of calculating the features total seconds and average seconds of songs listened\n",
    "# every 6 months for each client (this is only computed using the sample and not the whole dataset)\n",
    "res = compute_aggregations_history(sample, 20160603, \"M\", 6, [{'total_seconds_6_months': vaex.agg.sum(sample.total_secs),\n",
    "           'avg_seconds_6_months': vaex.agg.mean(sample.total_secs)}])"
   ]
  },
  {
   "cell_type": "code",
   "execution_count": 10,
   "id": "ef8738a5",
   "metadata": {
    "ExecuteTime": {
     "end_time": "2022-04-16T16:31:44.867739Z",
     "start_time": "2022-04-16T16:31:44.855465Z"
    }
   },
   "outputs": [
    {
     "data": {
      "text/html": [
       "<div>\n",
       "<style scoped>\n",
       "    .dataframe tbody tr th:only-of-type {\n",
       "        vertical-align: middle;\n",
       "    }\n",
       "\n",
       "    .dataframe tbody tr th {\n",
       "        vertical-align: top;\n",
       "    }\n",
       "\n",
       "    .dataframe thead th {\n",
       "        text-align: right;\n",
       "    }\n",
       "</style>\n",
       "<table border=\"1\" class=\"dataframe\">\n",
       "  <thead>\n",
       "    <tr style=\"text-align: right;\">\n",
       "      <th></th>\n",
       "      <th>msno</th>\n",
       "      <th>date_formatted</th>\n",
       "      <th>total_seconds_6_months</th>\n",
       "      <th>avg_seconds_6_months</th>\n",
       "    </tr>\n",
       "  </thead>\n",
       "  <tbody>\n",
       "    <tr>\n",
       "      <th>0</th>\n",
       "      <td>V5gendGLIUHUEI9hglLiWprbX62M9dVKxHz6Nqr6rYk=</td>\n",
       "      <td>2015-06-01</td>\n",
       "      <td>3204.518</td>\n",
       "      <td>3204.518</td>\n",
       "    </tr>\n",
       "    <tr>\n",
       "      <th>1</th>\n",
       "      <td>V5gendGLIUHUEI9hglLiWprbX62M9dVKxHz6Nqr6rYk=</td>\n",
       "      <td>2015-12-01</td>\n",
       "      <td>1396.129</td>\n",
       "      <td>1396.129</td>\n",
       "    </tr>\n",
       "    <tr>\n",
       "      <th>2</th>\n",
       "      <td>w5TmRNc/J/33Oz+x4Ur23N1tCgqsC/It4u83vW5rpEw=</td>\n",
       "      <td>2014-12-01</td>\n",
       "      <td>206.207</td>\n",
       "      <td>206.207</td>\n",
       "    </tr>\n",
       "    <tr>\n",
       "      <th>3</th>\n",
       "      <td>uWz9ubBCh0Y4klpCgPZtstkgF9CRWOq1JAvEuoldU40=</td>\n",
       "      <td>2014-12-01</td>\n",
       "      <td>3745.980</td>\n",
       "      <td>3745.980</td>\n",
       "    </tr>\n",
       "    <tr>\n",
       "      <th>4</th>\n",
       "      <td>uWz9ubBCh0Y4klpCgPZtstkgF9CRWOq1JAvEuoldU40=</td>\n",
       "      <td>2015-06-01</td>\n",
       "      <td>6098.470</td>\n",
       "      <td>3049.235</td>\n",
       "    </tr>\n",
       "    <tr>\n",
       "      <th>5</th>\n",
       "      <td>uWz9ubBCh0Y4klpCgPZtstkgF9CRWOq1JAvEuoldU40=</td>\n",
       "      <td>2015-12-01</td>\n",
       "      <td>48261.662</td>\n",
       "      <td>24130.831</td>\n",
       "    </tr>\n",
       "    <tr>\n",
       "      <th>6</th>\n",
       "      <td>ZU/wGdIJSUGkv0v85/dFboKnAxyqWL/XYbbBXDRxU9c=</td>\n",
       "      <td>2014-12-01</td>\n",
       "      <td>942.345</td>\n",
       "      <td>942.345</td>\n",
       "    </tr>\n",
       "    <tr>\n",
       "      <th>7</th>\n",
       "      <td>VsFHZOZyDS5JWMU9vrVAUkKiyOaj9hxwaokAkLtHiek=</td>\n",
       "      <td>2014-12-01</td>\n",
       "      <td>1056.457</td>\n",
       "      <td>1056.457</td>\n",
       "    </tr>\n",
       "    <tr>\n",
       "      <th>8</th>\n",
       "      <td>8xXFFiPwv1phcRn1d0ZFKpk8yBaAtdlm+WMlu9r0P0U=</td>\n",
       "      <td>2014-12-01</td>\n",
       "      <td>1147.958</td>\n",
       "      <td>1147.958</td>\n",
       "    </tr>\n",
       "    <tr>\n",
       "      <th>9</th>\n",
       "      <td>3ZOrqDxhkzWY7RkqxjPPSW8UuNd1OVUfLftWp4iVM1k=</td>\n",
       "      <td>2014-12-01</td>\n",
       "      <td>19276.360</td>\n",
       "      <td>19276.360</td>\n",
       "    </tr>\n",
       "  </tbody>\n",
       "</table>\n",
       "</div>"
      ],
      "text/plain": [
       "                                           msno date_formatted  \\\n",
       "0  V5gendGLIUHUEI9hglLiWprbX62M9dVKxHz6Nqr6rYk=     2015-06-01   \n",
       "1  V5gendGLIUHUEI9hglLiWprbX62M9dVKxHz6Nqr6rYk=     2015-12-01   \n",
       "2  w5TmRNc/J/33Oz+x4Ur23N1tCgqsC/It4u83vW5rpEw=     2014-12-01   \n",
       "3  uWz9ubBCh0Y4klpCgPZtstkgF9CRWOq1JAvEuoldU40=     2014-12-01   \n",
       "4  uWz9ubBCh0Y4klpCgPZtstkgF9CRWOq1JAvEuoldU40=     2015-06-01   \n",
       "5  uWz9ubBCh0Y4klpCgPZtstkgF9CRWOq1JAvEuoldU40=     2015-12-01   \n",
       "6  ZU/wGdIJSUGkv0v85/dFboKnAxyqWL/XYbbBXDRxU9c=     2014-12-01   \n",
       "7  VsFHZOZyDS5JWMU9vrVAUkKiyOaj9hxwaokAkLtHiek=     2014-12-01   \n",
       "8  8xXFFiPwv1phcRn1d0ZFKpk8yBaAtdlm+WMlu9r0P0U=     2014-12-01   \n",
       "9  3ZOrqDxhkzWY7RkqxjPPSW8UuNd1OVUfLftWp4iVM1k=     2014-12-01   \n",
       "\n",
       "   total_seconds_6_months  avg_seconds_6_months  \n",
       "0                3204.518              3204.518  \n",
       "1                1396.129              1396.129  \n",
       "2                 206.207               206.207  \n",
       "3                3745.980              3745.980  \n",
       "4                6098.470              3049.235  \n",
       "5               48261.662             24130.831  \n",
       "6                 942.345               942.345  \n",
       "7                1056.457              1056.457  \n",
       "8                1147.958              1147.958  \n",
       "9               19276.360             19276.360  "
      ]
     },
     "execution_count": 10,
     "metadata": {},
     "output_type": "execute_result"
    }
   ],
   "source": [
    "res.head(10)"
   ]
  },
  {
   "cell_type": "markdown",
   "id": "3e5c0d1d",
   "metadata": {},
   "source": [
    "We can from the previous result, that for each client we get multiple instances (relative to multiple dates distanced by 6 months) that gives the total and average of seconds of songs that each user has listened to during the previous 6 months."
   ]
  },
  {
   "cell_type": "markdown",
   "id": "84c3fc0d",
   "metadata": {},
   "source": [
    "We can also the user logs dataset to get the number of logins for each user, this can be a very important information for the model since inactive clients tend to churn more likely than active clients.\n",
    "\n",
    "Since the dataset is very large, I have tested multiple values for aggregations of number of logins of clients and have found that the monthly aggregations fit in memory."
   ]
  },
  {
   "cell_type": "code",
   "execution_count": 11,
   "id": "e4d7cc34",
   "metadata": {
    "ExecuteTime": {
     "end_time": "2022-04-16T16:31:59.370169Z",
     "start_time": "2022-04-16T16:31:44.869869Z"
    }
   },
   "outputs": [],
   "source": [
    "res = df.groupby(['msno', vaex.BinnerTime(df['date_formatted'],\n",
    "                                               resolution=\"M\",\n",
    "                                               every=1)]).agg({'nbr_logins_monthly' : vaex.agg.count(df.date)}).to_pandas_df()"
   ]
  },
  {
   "cell_type": "code",
   "execution_count": 12,
   "id": "3343e5ea",
   "metadata": {
    "ExecuteTime": {
     "end_time": "2022-04-16T16:31:59.380887Z",
     "start_time": "2022-04-16T16:31:59.372153Z"
    }
   },
   "outputs": [
    {
     "data": {
      "text/html": [
       "<div>\n",
       "<style scoped>\n",
       "    .dataframe tbody tr th:only-of-type {\n",
       "        vertical-align: middle;\n",
       "    }\n",
       "\n",
       "    .dataframe tbody tr th {\n",
       "        vertical-align: top;\n",
       "    }\n",
       "\n",
       "    .dataframe thead th {\n",
       "        text-align: right;\n",
       "    }\n",
       "</style>\n",
       "<table border=\"1\" class=\"dataframe\">\n",
       "  <thead>\n",
       "    <tr style=\"text-align: right;\">\n",
       "      <th></th>\n",
       "      <th>msno</th>\n",
       "      <th>date_formatted</th>\n",
       "      <th>nbr_logins_monthly</th>\n",
       "    </tr>\n",
       "  </thead>\n",
       "  <tbody>\n",
       "    <tr>\n",
       "      <th>0</th>\n",
       "      <td>rxIP2f2aN0rYNp+toI0Obt/N/FYQX8hcO1fTmmy2h34=</td>\n",
       "      <td>2015-03-01</td>\n",
       "      <td>6</td>\n",
       "    </tr>\n",
       "    <tr>\n",
       "      <th>1</th>\n",
       "      <td>rxIP2f2aN0rYNp+toI0Obt/N/FYQX8hcO1fTmmy2h34=</td>\n",
       "      <td>2015-04-01</td>\n",
       "      <td>29</td>\n",
       "    </tr>\n",
       "    <tr>\n",
       "      <th>2</th>\n",
       "      <td>rxIP2f2aN0rYNp+toI0Obt/N/FYQX8hcO1fTmmy2h34=</td>\n",
       "      <td>2015-05-01</td>\n",
       "      <td>27</td>\n",
       "    </tr>\n",
       "    <tr>\n",
       "      <th>3</th>\n",
       "      <td>rxIP2f2aN0rYNp+toI0Obt/N/FYQX8hcO1fTmmy2h34=</td>\n",
       "      <td>2015-06-01</td>\n",
       "      <td>26</td>\n",
       "    </tr>\n",
       "    <tr>\n",
       "      <th>4</th>\n",
       "      <td>rxIP2f2aN0rYNp+toI0Obt/N/FYQX8hcO1fTmmy2h34=</td>\n",
       "      <td>2015-07-01</td>\n",
       "      <td>28</td>\n",
       "    </tr>\n",
       "  </tbody>\n",
       "</table>\n",
       "</div>"
      ],
      "text/plain": [
       "                                           msno date_formatted  \\\n",
       "0  rxIP2f2aN0rYNp+toI0Obt/N/FYQX8hcO1fTmmy2h34=     2015-03-01   \n",
       "1  rxIP2f2aN0rYNp+toI0Obt/N/FYQX8hcO1fTmmy2h34=     2015-04-01   \n",
       "2  rxIP2f2aN0rYNp+toI0Obt/N/FYQX8hcO1fTmmy2h34=     2015-05-01   \n",
       "3  rxIP2f2aN0rYNp+toI0Obt/N/FYQX8hcO1fTmmy2h34=     2015-06-01   \n",
       "4  rxIP2f2aN0rYNp+toI0Obt/N/FYQX8hcO1fTmmy2h34=     2015-07-01   \n",
       "\n",
       "   nbr_logins_monthly  \n",
       "0                   6  \n",
       "1                  29  \n",
       "2                  27  \n",
       "3                  26  \n",
       "4                  28  "
      ]
     },
     "execution_count": 12,
     "metadata": {},
     "output_type": "execute_result"
    }
   ],
   "source": [
    "res.head()"
   ]
  },
  {
   "cell_type": "code",
   "execution_count": null,
   "id": "36798d98",
   "metadata": {},
   "outputs": [],
   "source": [
    "res.to_csv('nbr_logins_monthly.csv', index=False)"
   ]
  },
  {
   "cell_type": "code",
   "execution_count": 13,
   "id": "3416d599",
   "metadata": {
    "ExecuteTime": {
     "end_time": "2022-04-16T16:32:41.119873Z",
     "start_time": "2022-04-16T16:32:22.772361Z"
    }
   },
   "outputs": [],
   "source": [
    "nbr_logins = pd.read_csv('nbr_logins_monthly.csv')\n",
    "\n",
    "nbr_logins['date_formatted'] = pd.to_datetime(nbr_logins['date_formatted'], format='%Y-%m-%d')"
   ]
  },
  {
   "cell_type": "code",
   "execution_count": 14,
   "id": "73c327dc",
   "metadata": {
    "ExecuteTime": {
     "end_time": "2022-04-16T16:32:41.125034Z",
     "start_time": "2022-04-16T16:32:41.122148Z"
    }
   },
   "outputs": [],
   "source": [
    "date = 201603"
   ]
  },
  {
   "cell_type": "code",
   "execution_count": 15,
   "id": "a17266c0",
   "metadata": {
    "ExecuteTime": {
     "end_time": "2022-04-16T16:32:41.202788Z",
     "start_time": "2022-04-16T16:32:41.128096Z"
    }
   },
   "outputs": [],
   "source": [
    "def months_last_login(unstacked_df, date):\n",
    "    \"\"\"\n",
    "    Generates a dataframe that contains the number of months since last login, relative to a given date.\n",
    "    \"\"\"\n",
    "    temp = unstacked_df[[x for x in unstacked_df.columns if x < pd.to_datetime(date, format='%Y%m')]]\n",
    "    temp = temp.isnull()\n",
    "    res = temp.apply(\n",
    "        lambda x: x.where(x).last_valid_index(), axis=1).reset_index(name=\"date_last_login\")\n",
    "    res.date_last_login.fillna(datetime(2015, 1, 1), inplace=True)\n",
    "    res['months_since_login'] = (pd.to_datetime(date, format='%Y%m') - res['date_last_login']).dt.days / 30\n",
    "    res['date_pred'] = date\n",
    "    return res[[uid, 'date_pred', \"months_since_login\"]]"
   ]
  },
  {
   "cell_type": "code",
   "execution_count": 16,
   "id": "0a90fa6f",
   "metadata": {
    "ExecuteTime": {
     "end_time": "2022-04-16T16:32:47.670272Z",
     "start_time": "2022-04-16T16:32:47.666945Z"
    }
   },
   "outputs": [],
   "source": [
    "months_last_login_dates = lambda unstacked_df, dates: [months_last_login(unstacked_df, date) for date in dates]"
   ]
  },
  {
   "cell_type": "code",
   "execution_count": 19,
   "id": "09c85032",
   "metadata": {
    "ExecuteTime": {
     "end_time": "2022-04-16T16:34:26.894932Z",
     "start_time": "2022-04-16T16:33:29.097108Z"
    }
   },
   "outputs": [],
   "source": [
    "unstacked_df = nbr_logins.groupby(\n",
    "    [uid, \"date_formatted\"])[\n",
    "    'nbr_logins_monthly'].mean().unstack('date_formatted')"
   ]
  },
  {
   "cell_type": "code",
   "execution_count": 20,
   "id": "c05256e7",
   "metadata": {
    "ExecuteTime": {
     "end_time": "2022-04-16T16:34:26.902353Z",
     "start_time": "2022-04-16T16:34:26.897280Z"
    }
   },
   "outputs": [],
   "source": [
    "def stats_logins_monthly(df, date):\n",
    "    df_filtered = df[df.date_formatted < datetime(date // 100, date % 100, 1)]\n",
    "    \n",
    "    stats_logins = df.groupby(uid)['nbr_logins_monthly'].agg(['mean', 'max', 'min', 'std', 'count'])\n",
    "    stats_logins.columns = ['_'.join(['nbr_logins_monthly', x]) for x in stats_logins.columns]\n",
    "\n",
    "    stats_logins = stats_logins.reset_index()\n",
    "    stats_logins.fillna(0, inplace=True)\n",
    "    stats_logins['date_pred'] = date\n",
    "    return stats_logins"
   ]
  },
  {
   "cell_type": "code",
   "execution_count": 30,
   "id": "d583e0f4",
   "metadata": {
    "ExecuteTime": {
     "end_time": "2022-04-16T16:44:43.683776Z",
     "start_time": "2022-04-16T16:44:15.197148Z"
    }
   },
   "outputs": [
    {
     "data": {
      "text/html": [
       "<div>\n",
       "<style scoped>\n",
       "    .dataframe tbody tr th:only-of-type {\n",
       "        vertical-align: middle;\n",
       "    }\n",
       "\n",
       "    .dataframe tbody tr th {\n",
       "        vertical-align: top;\n",
       "    }\n",
       "\n",
       "    .dataframe thead th {\n",
       "        text-align: right;\n",
       "    }\n",
       "</style>\n",
       "<table border=\"1\" class=\"dataframe\">\n",
       "  <thead>\n",
       "    <tr style=\"text-align: right;\">\n",
       "      <th></th>\n",
       "      <th>msno</th>\n",
       "      <th>nbr_logins_monthly_mean</th>\n",
       "      <th>nbr_logins_monthly_max</th>\n",
       "      <th>nbr_logins_monthly_min</th>\n",
       "      <th>nbr_logins_monthly_std</th>\n",
       "      <th>nbr_logins_monthly_count</th>\n",
       "      <th>date_pred</th>\n",
       "    </tr>\n",
       "  </thead>\n",
       "  <tbody>\n",
       "    <tr>\n",
       "      <th>0</th>\n",
       "      <td>+++4vcS9aMH7KWdfh5git6nA5fC5jjisd5H/NcM++WM=</td>\n",
       "      <td>1.000000</td>\n",
       "      <td>1</td>\n",
       "      <td>1</td>\n",
       "      <td>0.000000</td>\n",
       "      <td>1</td>\n",
       "      <td>201601</td>\n",
       "    </tr>\n",
       "    <tr>\n",
       "      <th>1</th>\n",
       "      <td>+++EI4HgyhgcJHIPXk/VRP7bt17+2joG39T6oEfJ+tc=</td>\n",
       "      <td>1.000000</td>\n",
       "      <td>1</td>\n",
       "      <td>1</td>\n",
       "      <td>0.000000</td>\n",
       "      <td>1</td>\n",
       "      <td>201601</td>\n",
       "    </tr>\n",
       "    <tr>\n",
       "      <th>2</th>\n",
       "      <td>+++FOrTS7ab3tIgIh8eWwX4FqRv8w/FoiOuyXsFvphY=</td>\n",
       "      <td>7.000000</td>\n",
       "      <td>7</td>\n",
       "      <td>7</td>\n",
       "      <td>0.000000</td>\n",
       "      <td>1</td>\n",
       "      <td>201601</td>\n",
       "    </tr>\n",
       "    <tr>\n",
       "      <th>3</th>\n",
       "      <td>+++IZseRRiQS9aaSkH6cMYU6bGDcxUieAi/tH67sC5s=</td>\n",
       "      <td>23.923077</td>\n",
       "      <td>31</td>\n",
       "      <td>8</td>\n",
       "      <td>5.992816</td>\n",
       "      <td>26</td>\n",
       "      <td>201601</td>\n",
       "    </tr>\n",
       "    <tr>\n",
       "      <th>4</th>\n",
       "      <td>+++TipL0Kt3JvgNE9ahuJ8o+drJAnQINtxD4c5GePXI=</td>\n",
       "      <td>1.000000</td>\n",
       "      <td>1</td>\n",
       "      <td>1</td>\n",
       "      <td>0.000000</td>\n",
       "      <td>1</td>\n",
       "      <td>201601</td>\n",
       "    </tr>\n",
       "    <tr>\n",
       "      <th>...</th>\n",
       "      <td>...</td>\n",
       "      <td>...</td>\n",
       "      <td>...</td>\n",
       "      <td>...</td>\n",
       "      <td>...</td>\n",
       "      <td>...</td>\n",
       "      <td>...</td>\n",
       "    </tr>\n",
       "    <tr>\n",
       "      <th>5234029</th>\n",
       "      <td>zzzeSzWGUrQw+eP47oa1CXqL/im1Uq6/JYAJs8oGjI8=</td>\n",
       "      <td>1.000000</td>\n",
       "      <td>1</td>\n",
       "      <td>1</td>\n",
       "      <td>0.000000</td>\n",
       "      <td>1</td>\n",
       "      <td>201601</td>\n",
       "    </tr>\n",
       "    <tr>\n",
       "      <th>5234030</th>\n",
       "      <td>zzzqx+aMPSFYjW71JqJ6T/hita+iVemVWzJTE4yQRx8=</td>\n",
       "      <td>2.000000</td>\n",
       "      <td>2</td>\n",
       "      <td>2</td>\n",
       "      <td>0.000000</td>\n",
       "      <td>1</td>\n",
       "      <td>201601</td>\n",
       "    </tr>\n",
       "    <tr>\n",
       "      <th>5234031</th>\n",
       "      <td>zzztPAN9xjMytpZ0RN2gU9mScDULJnHQZK8eZb4uELU=</td>\n",
       "      <td>6.000000</td>\n",
       "      <td>10</td>\n",
       "      <td>2</td>\n",
       "      <td>3.265986</td>\n",
       "      <td>4</td>\n",
       "      <td>201601</td>\n",
       "    </tr>\n",
       "    <tr>\n",
       "      <th>5234032</th>\n",
       "      <td>zzztsqkufVj9DPVJDM3FxDkhlbCL5z4aiYxgPSGkIK4=</td>\n",
       "      <td>3.750000</td>\n",
       "      <td>9</td>\n",
       "      <td>1</td>\n",
       "      <td>3.593976</td>\n",
       "      <td>4</td>\n",
       "      <td>201601</td>\n",
       "    </tr>\n",
       "    <tr>\n",
       "      <th>5234033</th>\n",
       "      <td>zzzyOgMk9MljCerbCCYrVtvu85aSCiy7yCMjAEgNYMs=</td>\n",
       "      <td>1.000000</td>\n",
       "      <td>1</td>\n",
       "      <td>1</td>\n",
       "      <td>0.000000</td>\n",
       "      <td>1</td>\n",
       "      <td>201601</td>\n",
       "    </tr>\n",
       "  </tbody>\n",
       "</table>\n",
       "<p>5234034 rows × 7 columns</p>\n",
       "</div>"
      ],
      "text/plain": [
       "                                                 msno  \\\n",
       "0        +++4vcS9aMH7KWdfh5git6nA5fC5jjisd5H/NcM++WM=   \n",
       "1        +++EI4HgyhgcJHIPXk/VRP7bt17+2joG39T6oEfJ+tc=   \n",
       "2        +++FOrTS7ab3tIgIh8eWwX4FqRv8w/FoiOuyXsFvphY=   \n",
       "3        +++IZseRRiQS9aaSkH6cMYU6bGDcxUieAi/tH67sC5s=   \n",
       "4        +++TipL0Kt3JvgNE9ahuJ8o+drJAnQINtxD4c5GePXI=   \n",
       "...                                               ...   \n",
       "5234029  zzzeSzWGUrQw+eP47oa1CXqL/im1Uq6/JYAJs8oGjI8=   \n",
       "5234030  zzzqx+aMPSFYjW71JqJ6T/hita+iVemVWzJTE4yQRx8=   \n",
       "5234031  zzztPAN9xjMytpZ0RN2gU9mScDULJnHQZK8eZb4uELU=   \n",
       "5234032  zzztsqkufVj9DPVJDM3FxDkhlbCL5z4aiYxgPSGkIK4=   \n",
       "5234033  zzzyOgMk9MljCerbCCYrVtvu85aSCiy7yCMjAEgNYMs=   \n",
       "\n",
       "         nbr_logins_monthly_mean  nbr_logins_monthly_max  \\\n",
       "0                       1.000000                       1   \n",
       "1                       1.000000                       1   \n",
       "2                       7.000000                       7   \n",
       "3                      23.923077                      31   \n",
       "4                       1.000000                       1   \n",
       "...                          ...                     ...   \n",
       "5234029                 1.000000                       1   \n",
       "5234030                 2.000000                       2   \n",
       "5234031                 6.000000                      10   \n",
       "5234032                 3.750000                       9   \n",
       "5234033                 1.000000                       1   \n",
       "\n",
       "         nbr_logins_monthly_min  nbr_logins_monthly_std  \\\n",
       "0                             1                0.000000   \n",
       "1                             1                0.000000   \n",
       "2                             7                0.000000   \n",
       "3                             8                5.992816   \n",
       "4                             1                0.000000   \n",
       "...                         ...                     ...   \n",
       "5234029                       1                0.000000   \n",
       "5234030                       2                0.000000   \n",
       "5234031                       2                3.265986   \n",
       "5234032                       1                3.593976   \n",
       "5234033                       1                0.000000   \n",
       "\n",
       "         nbr_logins_monthly_count  date_pred  \n",
       "0                               1     201601  \n",
       "1                               1     201601  \n",
       "2                               1     201601  \n",
       "3                              26     201601  \n",
       "4                               1     201601  \n",
       "...                           ...        ...  \n",
       "5234029                         1     201601  \n",
       "5234030                         1     201601  \n",
       "5234031                         4     201601  \n",
       "5234032                         4     201601  \n",
       "5234033                         1     201601  \n",
       "\n",
       "[5234034 rows x 7 columns]"
      ]
     },
     "execution_count": 30,
     "metadata": {},
     "output_type": "execute_result"
    }
   ],
   "source": [
    "stats_logins_monthly(nbr_logins, 201601)"
   ]
  },
  {
   "cell_type": "code",
   "execution_count": 22,
   "id": "1df91063",
   "metadata": {
    "ExecuteTime": {
     "end_time": "2022-04-16T16:34:50.046462Z",
     "start_time": "2022-04-16T16:34:50.037812Z"
    }
   },
   "outputs": [],
   "source": [
    "dates = [201603, 201608]"
   ]
  },
  {
   "cell_type": "code",
   "execution_count": 23,
   "id": "c52d95c1",
   "metadata": {
    "ExecuteTime": {
     "end_time": "2022-04-16T16:34:53.086381Z",
     "start_time": "2022-04-16T16:34:53.081693Z"
    }
   },
   "outputs": [],
   "source": [
    "def distribute_processes(func, **kwargs):\n",
    "    \"\"\"\n",
    "    Splits the process execution across multiple cores, useful for parallel execution of feature engineering\n",
    "    relative to multiple dates\n",
    "    \"\"\"\n",
    "    delayed_results = delayed(func)(**kwargs)\n",
    "    results = compute(delayed_results, scheduler=\"processes\")\n",
    "    final_res = pd.concat(results[0])\n",
    "    \n",
    "    return final_res"
   ]
  },
  {
   "cell_type": "code",
   "execution_count": 27,
   "id": "f0a22a91",
   "metadata": {
    "ExecuteTime": {
     "end_time": "2022-04-16T16:38:16.206989Z",
     "start_time": "2022-04-16T16:38:14.587354Z"
    },
    "scrolled": false
   },
   "outputs": [
    {
     "data": {
      "text/html": [
       "<div>\n",
       "<style scoped>\n",
       "    .dataframe tbody tr th:only-of-type {\n",
       "        vertical-align: middle;\n",
       "    }\n",
       "\n",
       "    .dataframe tbody tr th {\n",
       "        vertical-align: top;\n",
       "    }\n",
       "\n",
       "    .dataframe thead th {\n",
       "        text-align: right;\n",
       "    }\n",
       "</style>\n",
       "<table border=\"1\" class=\"dataframe\">\n",
       "  <thead>\n",
       "    <tr style=\"text-align: right;\">\n",
       "      <th></th>\n",
       "      <th>msno</th>\n",
       "      <th>date_pred</th>\n",
       "      <th>months_since_login</th>\n",
       "    </tr>\n",
       "  </thead>\n",
       "  <tbody>\n",
       "    <tr>\n",
       "      <th>0</th>\n",
       "      <td>+++4vcS9aMH7KWdfh5git6nA5fC5jjisd5H/NcM++WM=</td>\n",
       "      <td>201603</td>\n",
       "      <td>0.966667</td>\n",
       "    </tr>\n",
       "    <tr>\n",
       "      <th>1</th>\n",
       "      <td>+++EI4HgyhgcJHIPXk/VRP7bt17+2joG39T6oEfJ+tc=</td>\n",
       "      <td>201603</td>\n",
       "      <td>0.966667</td>\n",
       "    </tr>\n",
       "    <tr>\n",
       "      <th>2</th>\n",
       "      <td>+++FOrTS7ab3tIgIh8eWwX4FqRv8w/FoiOuyXsFvphY=</td>\n",
       "      <td>201603</td>\n",
       "      <td>0.966667</td>\n",
       "    </tr>\n",
       "    <tr>\n",
       "      <th>3</th>\n",
       "      <td>+++IZseRRiQS9aaSkH6cMYU6bGDcxUieAi/tH67sC5s=</td>\n",
       "      <td>201603</td>\n",
       "      <td>14.166667</td>\n",
       "    </tr>\n",
       "    <tr>\n",
       "      <th>4</th>\n",
       "      <td>+++TipL0Kt3JvgNE9ahuJ8o+drJAnQINtxD4c5GePXI=</td>\n",
       "      <td>201603</td>\n",
       "      <td>0.966667</td>\n",
       "    </tr>\n",
       "    <tr>\n",
       "      <th>...</th>\n",
       "      <td>...</td>\n",
       "      <td>...</td>\n",
       "      <td>...</td>\n",
       "    </tr>\n",
       "    <tr>\n",
       "      <th>495</th>\n",
       "      <td>++OrO+qyw4KsyivgnrEzl5ALtN7gj7BNEodVdR5UIss=</td>\n",
       "      <td>201608</td>\n",
       "      <td>1.033333</td>\n",
       "    </tr>\n",
       "    <tr>\n",
       "      <th>496</th>\n",
       "      <td>++OtuWs8cKG2710CCnsZTeVKK9Co38gFamjS9nkus+8=</td>\n",
       "      <td>201608</td>\n",
       "      <td>1.033333</td>\n",
       "    </tr>\n",
       "    <tr>\n",
       "      <th>497</th>\n",
       "      <td>++OvJH5FmfZ5CRrYfmbQEk7tJwCZhsJnkWbxClRaUpw=</td>\n",
       "      <td>201608</td>\n",
       "      <td>6.066667</td>\n",
       "    </tr>\n",
       "    <tr>\n",
       "      <th>498</th>\n",
       "      <td>++OwfFddNO06garROtSdQUfkCwbKF+9pfndYHGRKDas=</td>\n",
       "      <td>201608</td>\n",
       "      <td>1.033333</td>\n",
       "    </tr>\n",
       "    <tr>\n",
       "      <th>499</th>\n",
       "      <td>++P/FDHkWGuv4MEI9DEwbwn6Yvks4lEObpi8H2DOZr0=</td>\n",
       "      <td>201608</td>\n",
       "      <td>1.033333</td>\n",
       "    </tr>\n",
       "  </tbody>\n",
       "</table>\n",
       "<p>1000 rows × 3 columns</p>\n",
       "</div>"
      ],
      "text/plain": [
       "                                             msno  date_pred  \\\n",
       "0    +++4vcS9aMH7KWdfh5git6nA5fC5jjisd5H/NcM++WM=     201603   \n",
       "1    +++EI4HgyhgcJHIPXk/VRP7bt17+2joG39T6oEfJ+tc=     201603   \n",
       "2    +++FOrTS7ab3tIgIh8eWwX4FqRv8w/FoiOuyXsFvphY=     201603   \n",
       "3    +++IZseRRiQS9aaSkH6cMYU6bGDcxUieAi/tH67sC5s=     201603   \n",
       "4    +++TipL0Kt3JvgNE9ahuJ8o+drJAnQINtxD4c5GePXI=     201603   \n",
       "..                                            ...        ...   \n",
       "495  ++OrO+qyw4KsyivgnrEzl5ALtN7gj7BNEodVdR5UIss=     201608   \n",
       "496  ++OtuWs8cKG2710CCnsZTeVKK9Co38gFamjS9nkus+8=     201608   \n",
       "497  ++OvJH5FmfZ5CRrYfmbQEk7tJwCZhsJnkWbxClRaUpw=     201608   \n",
       "498  ++OwfFddNO06garROtSdQUfkCwbKF+9pfndYHGRKDas=     201608   \n",
       "499  ++P/FDHkWGuv4MEI9DEwbwn6Yvks4lEObpi8H2DOZr0=     201608   \n",
       "\n",
       "     months_since_login  \n",
       "0              0.966667  \n",
       "1              0.966667  \n",
       "2              0.966667  \n",
       "3             14.166667  \n",
       "4              0.966667  \n",
       "..                  ...  \n",
       "495            1.033333  \n",
       "496            1.033333  \n",
       "497            6.066667  \n",
       "498            1.033333  \n",
       "499            1.033333  \n",
       "\n",
       "[1000 rows x 3 columns]"
      ]
     },
     "execution_count": 27,
     "metadata": {},
     "output_type": "execute_result"
    }
   ],
   "source": [
    "distribute_processes(months_last_login_dates, unstacked_df=unstacked_df.head(500), dates=dates)"
   ]
  },
  {
   "cell_type": "code",
   "execution_count": null,
   "id": "40d275c1",
   "metadata": {},
   "outputs": [],
   "source": []
  }
 ],
 "metadata": {
  "kernelspec": {
   "display_name": "Python 3",
   "language": "python",
   "name": "python3"
  },
  "language_info": {
   "codemirror_mode": {
    "name": "ipython",
    "version": 3
   },
   "file_extension": ".py",
   "mimetype": "text/x-python",
   "name": "python",
   "nbconvert_exporter": "python",
   "pygments_lexer": "ipython3",
   "version": "3.7.10"
  },
  "toc": {
   "base_numbering": 1,
   "nav_menu": {},
   "number_sections": true,
   "sideBar": true,
   "skip_h1_title": false,
   "title_cell": "Table of Contents",
   "title_sidebar": "Contents",
   "toc_cell": true,
   "toc_position": {
    "height": "795px",
    "left": "35px",
    "top": "111.125px",
    "width": "384px"
   },
   "toc_section_display": true,
   "toc_window_display": true
  }
 },
 "nbformat": 4,
 "nbformat_minor": 5
}
