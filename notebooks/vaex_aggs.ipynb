{
 "cells": [
  {
   "cell_type": "markdown",
   "id": "c5268b7a",
   "metadata": {
    "toc": true
   },
   "source": [
    "<h1>Table of Contents<span class=\"tocSkip\"></span></h1>\n",
    "<div class=\"toc\"><ul class=\"toc-item\"><li><span><a href=\"#num_unq-aggregations\" data-toc-modified-id=\"num_unq-aggregations-1\"><span class=\"toc-item-num\">1&nbsp;&nbsp;</span>num_unq aggregations</a></span></li></ul></div>"
   ]
  },
  {
   "cell_type": "code",
   "execution_count": 1,
   "id": "99cbe773",
   "metadata": {
    "ExecuteTime": {
     "end_time": "2021-06-16T08:45:02.699138Z",
     "start_time": "2021-06-16T08:45:01.671181Z"
    }
   },
   "outputs": [],
   "source": [
    "import pandas as pd\n",
    "import numpy as np\n",
    "import vaex"
   ]
  },
  {
   "cell_type": "code",
   "execution_count": 2,
   "id": "a11d8b91",
   "metadata": {
    "ExecuteTime": {
     "end_time": "2021-06-16T08:45:03.993043Z",
     "start_time": "2021-06-16T08:45:02.701512Z"
    }
   },
   "outputs": [],
   "source": [
    "df = vaex.open('./data/user_logs_split*')"
   ]
  },
  {
   "cell_type": "code",
   "execution_count": 3,
   "id": "274c90ae",
   "metadata": {
    "ExecuteTime": {
     "end_time": "2021-06-16T08:45:03.998825Z",
     "start_time": "2021-06-16T08:45:03.995480Z"
    }
   },
   "outputs": [],
   "source": [
    "dict_names = dict(zip(list(range(9)), ['msno','date','num_25','num_50','num_75','num_985','num_100','num_unq','total_secs']))"
   ]
  },
  {
   "cell_type": "code",
   "execution_count": 4,
   "id": "0de0be5b",
   "metadata": {
    "ExecuteTime": {
     "end_time": "2021-06-16T08:45:04.011692Z",
     "start_time": "2021-06-16T08:45:04.000676Z"
    },
    "scrolled": true
   },
   "outputs": [
    {
     "data": {
      "text/plain": [
       "{0: 'msno',\n",
       " 1: 'date',\n",
       " 2: 'num_25',\n",
       " 3: 'num_50',\n",
       " 4: 'num_75',\n",
       " 5: 'num_985',\n",
       " 6: 'num_100',\n",
       " 7: 'num_unq',\n",
       " 8: 'total_secs'}"
      ]
     },
     "execution_count": 4,
     "metadata": {},
     "output_type": "execute_result"
    }
   ],
   "source": [
    "dict_names"
   ]
  },
  {
   "cell_type": "code",
   "execution_count": 5,
   "id": "93425b1a",
   "metadata": {
    "ExecuteTime": {
     "end_time": "2021-06-16T08:45:07.831299Z",
     "start_time": "2021-06-16T08:45:07.826602Z"
    }
   },
   "outputs": [],
   "source": [
    "for x in dict_names.keys():\n",
    "    df.rename(str(x), dict_names[x])"
   ]
  },
  {
   "cell_type": "code",
   "execution_count": 6,
   "id": "18c98227",
   "metadata": {
    "ExecuteTime": {
     "end_time": "2021-06-16T08:45:08.320566Z",
     "start_time": "2021-06-16T08:45:08.316774Z"
    }
   },
   "outputs": [],
   "source": [
    "sample = df[:50000]"
   ]
  },
  {
   "cell_type": "code",
   "execution_count": 7,
   "id": "a622fcf3",
   "metadata": {
    "ExecuteTime": {
     "end_time": "2021-06-16T08:45:08.840443Z",
     "start_time": "2021-06-16T08:45:08.836712Z"
    }
   },
   "outputs": [],
   "source": [
    "sample['year'] = sample['date'] // 10000\n",
    "sample['month'] = (sample['date'] // 100) % 100\n",
    "sample['day'] = sample['date'] % 100"
   ]
  },
  {
   "cell_type": "code",
   "execution_count": 8,
   "id": "308de4d1",
   "metadata": {
    "ExecuteTime": {
     "end_time": "2021-06-16T08:45:09.286931Z",
     "start_time": "2021-06-16T08:45:09.278524Z"
    }
   },
   "outputs": [],
   "source": [
    "sample['year'] = sample['year'].astype(str)\n",
    "sample['month'] = sample['month'].astype(str).str.zfill(2)\n",
    "sample['day'] = sample['day'].astype(str).str.zfill(2)"
   ]
  },
  {
   "cell_type": "code",
   "execution_count": 9,
   "id": "acd9389b",
   "metadata": {
    "ExecuteTime": {
     "end_time": "2021-06-16T08:45:09.884875Z",
     "start_time": "2021-06-16T08:45:09.878036Z"
    }
   },
   "outputs": [],
   "source": [
    "sample['date_formatted'] = sample['year'] + '-' + sample['month'] + '-' + sample['day']\n",
    "sample['date_formatted'] = sample['date_formatted'].astype('datetime64')"
   ]
  },
  {
   "cell_type": "code",
   "execution_count": 10,
   "id": "90750b3a",
   "metadata": {
    "ExecuteTime": {
     "end_time": "2021-06-16T08:45:46.348264Z",
     "start_time": "2021-06-16T08:45:45.721944Z"
    },
    "scrolled": false
   },
   "outputs": [],
   "source": [
    "temp = sample.groupby(['msno', vaex.BinnerTime(sample['date_formatted'], resolution='M', every=6)]).agg(\n",
    "    {'total_uid_seconds_month': vaex.agg.sum(sample.total_secs)})"
   ]
  },
  {
   "cell_type": "code",
   "execution_count": 11,
   "id": "d0d27b1b",
   "metadata": {
    "ExecuteTime": {
     "end_time": "2021-06-16T08:45:46.793742Z",
     "start_time": "2021-06-16T08:45:46.749921Z"
    }
   },
   "outputs": [],
   "source": [
    "res = temp.to_pandas_df()"
   ]
  },
  {
   "cell_type": "code",
   "execution_count": 12,
   "id": "00dc416f",
   "metadata": {
    "ExecuteTime": {
     "end_time": "2021-06-16T08:45:47.643163Z",
     "start_time": "2021-06-16T08:45:47.529289Z"
    },
    "scrolled": false
   },
   "outputs": [
    {
     "data": {
      "text/html": [
       "<div>\n",
       "<style scoped>\n",
       "    .dataframe tbody tr th:only-of-type {\n",
       "        vertical-align: middle;\n",
       "    }\n",
       "\n",
       "    .dataframe tbody tr th {\n",
       "        vertical-align: top;\n",
       "    }\n",
       "\n",
       "    .dataframe thead th {\n",
       "        text-align: right;\n",
       "    }\n",
       "</style>\n",
       "<table border=\"1\" class=\"dataframe\">\n",
       "  <thead>\n",
       "    <tr style=\"text-align: right;\">\n",
       "      <th></th>\n",
       "      <th>msno</th>\n",
       "      <th>date_formatted</th>\n",
       "      <th>total_uid_seconds_month</th>\n",
       "    </tr>\n",
       "  </thead>\n",
       "  <tbody>\n",
       "    <tr>\n",
       "      <th>0</th>\n",
       "      <td>WW6mBsp6J76Z4P4IE/3gikg23E5xOQAnemGBIkCZyVc=</td>\n",
       "      <td>2014-12-01</td>\n",
       "      <td>14529.872</td>\n",
       "    </tr>\n",
       "    <tr>\n",
       "      <th>1</th>\n",
       "      <td>WW6mBsp6J76Z4P4IE/3gikg23E5xOQAnemGBIkCZyVc=</td>\n",
       "      <td>2015-06-01</td>\n",
       "      <td>14660.008</td>\n",
       "    </tr>\n",
       "    <tr>\n",
       "      <th>2</th>\n",
       "      <td>WW6mBsp6J76Z4P4IE/3gikg23E5xOQAnemGBIkCZyVc=</td>\n",
       "      <td>2015-12-01</td>\n",
       "      <td>22235.482</td>\n",
       "    </tr>\n",
       "    <tr>\n",
       "      <th>3</th>\n",
       "      <td>WW6mBsp6J76Z4P4IE/3gikg23E5xOQAnemGBIkCZyVc=</td>\n",
       "      <td>2016-06-01</td>\n",
       "      <td>1781.418</td>\n",
       "    </tr>\n",
       "    <tr>\n",
       "      <th>4</th>\n",
       "      <td>WW6mBsp6J76Z4P4IE/3gikg23E5xOQAnemGBIkCZyVc=</td>\n",
       "      <td>2016-12-01</td>\n",
       "      <td>9703.137</td>\n",
       "    </tr>\n",
       "    <tr>\n",
       "      <th>...</th>\n",
       "      <td>...</td>\n",
       "      <td>...</td>\n",
       "      <td>...</td>\n",
       "    </tr>\n",
       "    <tr>\n",
       "      <th>26494</th>\n",
       "      <td>P5atmaCDvQ6sBooufk6uLD/NVklEXJ4A/JWFiOkaz90=</td>\n",
       "      <td>2014-12-01</td>\n",
       "      <td>12752.983</td>\n",
       "    </tr>\n",
       "    <tr>\n",
       "      <th>26495</th>\n",
       "      <td>P5atmaCDvQ6sBooufk6uLD/NVklEXJ4A/JWFiOkaz90=</td>\n",
       "      <td>2015-06-01</td>\n",
       "      <td>9773.071</td>\n",
       "    </tr>\n",
       "    <tr>\n",
       "      <th>26496</th>\n",
       "      <td>P5atmaCDvQ6sBooufk6uLD/NVklEXJ4A/JWFiOkaz90=</td>\n",
       "      <td>2015-12-01</td>\n",
       "      <td>12873.443</td>\n",
       "    </tr>\n",
       "    <tr>\n",
       "      <th>26497</th>\n",
       "      <td>P5atmaCDvQ6sBooufk6uLD/NVklEXJ4A/JWFiOkaz90=</td>\n",
       "      <td>2016-06-01</td>\n",
       "      <td>16944.040</td>\n",
       "    </tr>\n",
       "    <tr>\n",
       "      <th>26498</th>\n",
       "      <td>P5atmaCDvQ6sBooufk6uLD/NVklEXJ4A/JWFiOkaz90=</td>\n",
       "      <td>2016-12-01</td>\n",
       "      <td>1102.175</td>\n",
       "    </tr>\n",
       "  </tbody>\n",
       "</table>\n",
       "<p>26499 rows × 3 columns</p>\n",
       "</div>"
      ],
      "text/plain": [
       "                                               msno date_formatted  \\\n",
       "0      WW6mBsp6J76Z4P4IE/3gikg23E5xOQAnemGBIkCZyVc=     2014-12-01   \n",
       "1      WW6mBsp6J76Z4P4IE/3gikg23E5xOQAnemGBIkCZyVc=     2015-06-01   \n",
       "2      WW6mBsp6J76Z4P4IE/3gikg23E5xOQAnemGBIkCZyVc=     2015-12-01   \n",
       "3      WW6mBsp6J76Z4P4IE/3gikg23E5xOQAnemGBIkCZyVc=     2016-06-01   \n",
       "4      WW6mBsp6J76Z4P4IE/3gikg23E5xOQAnemGBIkCZyVc=     2016-12-01   \n",
       "...                                             ...            ...   \n",
       "26494  P5atmaCDvQ6sBooufk6uLD/NVklEXJ4A/JWFiOkaz90=     2014-12-01   \n",
       "26495  P5atmaCDvQ6sBooufk6uLD/NVklEXJ4A/JWFiOkaz90=     2015-06-01   \n",
       "26496  P5atmaCDvQ6sBooufk6uLD/NVklEXJ4A/JWFiOkaz90=     2015-12-01   \n",
       "26497  P5atmaCDvQ6sBooufk6uLD/NVklEXJ4A/JWFiOkaz90=     2016-06-01   \n",
       "26498  P5atmaCDvQ6sBooufk6uLD/NVklEXJ4A/JWFiOkaz90=     2016-12-01   \n",
       "\n",
       "       total_uid_seconds_month  \n",
       "0                    14529.872  \n",
       "1                    14660.008  \n",
       "2                    22235.482  \n",
       "3                     1781.418  \n",
       "4                     9703.137  \n",
       "...                        ...  \n",
       "26494                12752.983  \n",
       "26495                 9773.071  \n",
       "26496                12873.443  \n",
       "26497                16944.040  \n",
       "26498                 1102.175  \n",
       "\n",
       "[26499 rows x 3 columns]"
      ]
     },
     "execution_count": 12,
     "metadata": {},
     "output_type": "execute_result"
    }
   ],
   "source": [
    "res"
   ]
  },
  {
   "cell_type": "code",
   "execution_count": 13,
   "id": "c56482fb",
   "metadata": {
    "ExecuteTime": {
     "end_time": "2021-06-16T08:45:47.950495Z",
     "start_time": "2021-06-16T08:45:47.947571Z"
    }
   },
   "outputs": [],
   "source": [
    "del temp"
   ]
  },
  {
   "cell_type": "code",
   "execution_count": 14,
   "id": "bfc2b0a1",
   "metadata": {
    "ExecuteTime": {
     "end_time": "2021-06-16T08:45:48.311436Z",
     "start_time": "2021-06-16T08:45:48.302936Z"
    }
   },
   "outputs": [
    {
     "data": {
      "text/plain": [
       "9460"
      ]
     },
     "execution_count": 14,
     "metadata": {},
     "output_type": "execute_result"
    }
   ],
   "source": [
    "res.msno.nunique()"
   ]
  },
  {
   "cell_type": "code",
   "execution_count": 10,
   "id": "53c07f1b",
   "metadata": {
    "ExecuteTime": {
     "end_time": "2021-06-16T08:47:41.837277Z",
     "start_time": "2021-06-16T08:47:41.834472Z"
    }
   },
   "outputs": [],
   "source": [
    "import os"
   ]
  },
  {
   "cell_type": "code",
   "execution_count": 11,
   "id": "4544ba64",
   "metadata": {
    "ExecuteTime": {
     "end_time": "2021-06-16T08:48:26.175876Z",
     "start_time": "2021-06-16T08:48:26.172910Z"
    }
   },
   "outputs": [],
   "source": [
    "path = os.path.abspath('./data/train.csv')"
   ]
  },
  {
   "cell_type": "code",
   "execution_count": 24,
   "id": "8c4969ad",
   "metadata": {
    "ExecuteTime": {
     "end_time": "2021-06-16T08:48:26.989109Z",
     "start_time": "2021-06-16T08:48:26.984762Z"
    }
   },
   "outputs": [
    {
     "data": {
      "text/plain": [
       "'/home/achraf/kaggle_challenge/project/data/train.csv'"
      ]
     },
     "execution_count": 24,
     "metadata": {},
     "output_type": "execute_result"
    }
   ],
   "source": [
    "path"
   ]
  },
  {
   "cell_type": "code",
   "execution_count": 31,
   "id": "a4e36865",
   "metadata": {
    "ExecuteTime": {
     "end_time": "2021-06-16T08:53:56.374288Z",
     "start_time": "2021-06-16T08:53:56.367620Z"
    }
   },
   "outputs": [],
   "source": [
    "splitted_path = path.split('.')[0]"
   ]
  },
  {
   "cell_type": "code",
   "execution_count": 12,
   "id": "690d1843",
   "metadata": {
    "ExecuteTime": {
     "end_time": "2021-06-16T08:51:20.968076Z",
     "start_time": "2021-06-16T08:51:20.965101Z"
    }
   },
   "outputs": [],
   "source": [
    "import pandas as pd"
   ]
  },
  {
   "cell_type": "code",
   "execution_count": 33,
   "id": "abf46079",
   "metadata": {
    "ExecuteTime": {
     "end_time": "2021-06-16T08:56:01.117893Z",
     "start_time": "2021-06-16T08:55:59.357442Z"
    }
   },
   "outputs": [],
   "source": [
    "for i, chunk in enumerate(pd.read_csv(path, chunksize=5e4, header=None)):\n",
    "    df = vaex.from_pandas(chunk)\n",
    "    df.export_hdf5(splitted_path + '_split_' + str(i) + '.hdf5')"
   ]
  },
  {
   "cell_type": "code",
   "execution_count": 34,
   "id": "5d1a2448",
   "metadata": {
    "ExecuteTime": {
     "end_time": "2021-06-16T08:57:39.135752Z",
     "start_time": "2021-06-16T08:57:38.892494Z"
    },
    "scrolled": false
   },
   "outputs": [
    {
     "data": {
      "text/html": [
       "<table>\n",
       "<thead>\n",
       "<tr><th>#                                 </th><th>msno                                          </th><th>date    </th><th>num_25  </th><th>num_50  </th><th>num_75  </th><th>num_985  </th><th>num_100  </th><th>num_unq  </th><th>total_secs        </th><th>year  </th><th>month  </th><th>day  </th><th>date_formatted                  </th></tr>\n",
       "</thead>\n",
       "<tbody>\n",
       "<tr><td><i style='opacity: 0.6'>0</i>     </td><td>&#x27;rxIP2f2aN0rYNp+toI0Obt/N/FYQX8hcO1fTmmy2h34=&#x27;</td><td>20150513</td><td>0       </td><td>0       </td><td>0       </td><td>0        </td><td>1        </td><td>1        </td><td>280.335           </td><td>&#x27;2015&#x27;</td><td>&#x27;05&#x27;   </td><td>&#x27;13&#x27; </td><td>Timestamp(&#x27;2015-05-13 00:00:00&#x27;)</td></tr>\n",
       "<tr><td><i style='opacity: 0.6'>1</i>     </td><td>&#x27;rxIP2f2aN0rYNp+toI0Obt/N/FYQX8hcO1fTmmy2h34=&#x27;</td><td>20150709</td><td>9       </td><td>1       </td><td>0       </td><td>0        </td><td>7        </td><td>11       </td><td>1658.9479999999999</td><td>&#x27;2015&#x27;</td><td>&#x27;07&#x27;   </td><td>&#x27;09&#x27; </td><td>Timestamp(&#x27;2015-07-09 00:00:00&#x27;)</td></tr>\n",
       "<tr><td><i style='opacity: 0.6'>2</i>     </td><td>&#x27;yxiEWwE9VR5utpUecLxVdQ5B7NysUPfrNtGINaM2zA8=&#x27;</td><td>20150105</td><td>3       </td><td>3       </td><td>0       </td><td>0        </td><td>68       </td><td>36       </td><td>17364.956000000002</td><td>&#x27;2015&#x27;</td><td>&#x27;01&#x27;   </td><td>&#x27;05&#x27; </td><td>Timestamp(&#x27;2015-01-05 00:00:00&#x27;)</td></tr>\n",
       "<tr><td><i style='opacity: 0.6'>3</i>     </td><td>&#x27;yxiEWwE9VR5utpUecLxVdQ5B7NysUPfrNtGINaM2zA8=&#x27;</td><td>20150306</td><td>1       </td><td>0       </td><td>1       </td><td>1        </td><td>97       </td><td>27       </td><td>24667.317000000003</td><td>&#x27;2015&#x27;</td><td>&#x27;03&#x27;   </td><td>&#x27;06&#x27; </td><td>Timestamp(&#x27;2015-03-06 00:00:00&#x27;)</td></tr>\n",
       "<tr><td><i style='opacity: 0.6'>4</i>     </td><td>&#x27;yxiEWwE9VR5utpUecLxVdQ5B7NysUPfrNtGINaM2zA8=&#x27;</td><td>20150501</td><td>3       </td><td>0       </td><td>0       </td><td>0        </td><td>38       </td><td>38       </td><td>9649.029          </td><td>&#x27;2015&#x27;</td><td>&#x27;05&#x27;   </td><td>&#x27;01&#x27; </td><td>Timestamp(&#x27;2015-05-01 00:00:00&#x27;)</td></tr>\n",
       "<tr><td>...                               </td><td>...                                           </td><td>...     </td><td>...     </td><td>...     </td><td>...     </td><td>...      </td><td>...      </td><td>...      </td><td>...               </td><td>...   </td><td>...    </td><td>...  </td><td>...                             </td></tr>\n",
       "<tr><td><i style='opacity: 0.6'>49,995</i></td><td>&#x27;w8Wv1H79RS3LL5Q75COIm/rt2V8B6uOr/7V8Wzw3SKM=&#x27;</td><td>20161123</td><td>2       </td><td>1       </td><td>0       </td><td>1        </td><td>10       </td><td>14       </td><td>3048.51           </td><td>&#x27;2016&#x27;</td><td>&#x27;11&#x27;   </td><td>&#x27;23&#x27; </td><td>Timestamp(&#x27;2016-11-23 00:00:00&#x27;)</td></tr>\n",
       "<tr><td><i style='opacity: 0.6'>49,996</i></td><td>&#x27;LdvtNHmd5f5iJSxFroRbmaP5VkiDc7PEv6kzfOq8/j8=&#x27;</td><td>20150321</td><td>2       </td><td>0       </td><td>0       </td><td>0        </td><td>10       </td><td>9        </td><td>2534.337          </td><td>&#x27;2015&#x27;</td><td>&#x27;03&#x27;   </td><td>&#x27;21&#x27; </td><td>Timestamp(&#x27;2015-03-21 00:00:00&#x27;)</td></tr>\n",
       "<tr><td><i style='opacity: 0.6'>49,997</i></td><td>&#x27;LdvtNHmd5f5iJSxFroRbmaP5VkiDc7PEv6kzfOq8/j8=&#x27;</td><td>20150601</td><td>0       </td><td>1       </td><td>0       </td><td>0        </td><td>0        </td><td>1        </td><td>98.31299999999999 </td><td>&#x27;2015&#x27;</td><td>&#x27;06&#x27;   </td><td>&#x27;01&#x27; </td><td>Timestamp(&#x27;2015-06-01 00:00:00&#x27;)</td></tr>\n",
       "<tr><td><i style='opacity: 0.6'>49,998</i></td><td>&#x27;LdvtNHmd5f5iJSxFroRbmaP5VkiDc7PEv6kzfOq8/j8=&#x27;</td><td>20150902</td><td>0       </td><td>0       </td><td>0       </td><td>0        </td><td>14       </td><td>13       </td><td>3521.985          </td><td>&#x27;2015&#x27;</td><td>&#x27;09&#x27;   </td><td>&#x27;02&#x27; </td><td>Timestamp(&#x27;2015-09-02 00:00:00&#x27;)</td></tr>\n",
       "<tr><td><i style='opacity: 0.6'>49,999</i></td><td>&#x27;LdvtNHmd5f5iJSxFroRbmaP5VkiDc7PEv6kzfOq8/j8=&#x27;</td><td>20151212</td><td>0       </td><td>0       </td><td>0       </td><td>0        </td><td>6        </td><td>6        </td><td>1497.628          </td><td>&#x27;2015&#x27;</td><td>&#x27;12&#x27;   </td><td>&#x27;12&#x27; </td><td>Timestamp(&#x27;2015-12-12 00:00:00&#x27;)</td></tr>\n",
       "</tbody>\n",
       "</table>"
      ],
      "text/plain": [
       "#       msno                                            date      num_25    num_50    num_75    num_985    num_100    num_unq    total_secs          year    month    day    date_formatted\n",
       "0       'rxIP2f2aN0rYNp+toI0Obt/N/FYQX8hcO1fTmmy2h34='  20150513  0         0         0         0          1          1          280.335             '2015'  '05'     '13'   Timestamp('2015-05-13 00:00:00')\n",
       "1       'rxIP2f2aN0rYNp+toI0Obt/N/FYQX8hcO1fTmmy2h34='  20150709  9         1         0         0          7          11         1658.9479999999999  '2015'  '07'     '09'   Timestamp('2015-07-09 00:00:00')\n",
       "2       'yxiEWwE9VR5utpUecLxVdQ5B7NysUPfrNtGINaM2zA8='  20150105  3         3         0         0          68         36         17364.956000000002  '2015'  '01'     '05'   Timestamp('2015-01-05 00:00:00')\n",
       "3       'yxiEWwE9VR5utpUecLxVdQ5B7NysUPfrNtGINaM2zA8='  20150306  1         0         1         1          97         27         24667.317000000003  '2015'  '03'     '06'   Timestamp('2015-03-06 00:00:00')\n",
       "4       'yxiEWwE9VR5utpUecLxVdQ5B7NysUPfrNtGINaM2zA8='  20150501  3         0         0         0          38         38         9649.029            '2015'  '05'     '01'   Timestamp('2015-05-01 00:00:00')\n",
       "...     ...                                             ...       ...       ...       ...       ...        ...        ...        ...                 ...     ...      ...    ...\n",
       "49,995  'w8Wv1H79RS3LL5Q75COIm/rt2V8B6uOr/7V8Wzw3SKM='  20161123  2         1         0         1          10         14         3048.51             '2016'  '11'     '23'   Timestamp('2016-11-23 00:00:00')\n",
       "49,996  'LdvtNHmd5f5iJSxFroRbmaP5VkiDc7PEv6kzfOq8/j8='  20150321  2         0         0         0          10         9          2534.337            '2015'  '03'     '21'   Timestamp('2015-03-21 00:00:00')\n",
       "49,997  'LdvtNHmd5f5iJSxFroRbmaP5VkiDc7PEv6kzfOq8/j8='  20150601  0         1         0         0          0          1          98.31299999999999   '2015'  '06'     '01'   Timestamp('2015-06-01 00:00:00')\n",
       "49,998  'LdvtNHmd5f5iJSxFroRbmaP5VkiDc7PEv6kzfOq8/j8='  20150902  0         0         0         0          14         13         3521.985            '2015'  '09'     '02'   Timestamp('2015-09-02 00:00:00')\n",
       "49,999  'LdvtNHmd5f5iJSxFroRbmaP5VkiDc7PEv6kzfOq8/j8='  20151212  0         0         0         0          6          6          1497.628            '2015'  '12'     '12'   Timestamp('2015-12-12 00:00:00')"
      ]
     },
     "execution_count": 34,
     "metadata": {},
     "output_type": "execute_result"
    }
   ],
   "source": [
    "sample"
   ]
  },
  {
   "cell_type": "code",
   "execution_count": 35,
   "id": "72266671",
   "metadata": {
    "ExecuteTime": {
     "end_time": "2021-06-16T09:00:24.592315Z",
     "start_time": "2021-06-16T09:00:24.290768Z"
    }
   },
   "outputs": [],
   "source": [
    "temp = sample.groupby(['msno', vaex.BinnerTime(sample['date_formatted'], resolution='M', every=6)]).agg(\n",
    "    {'total_seconds_6_months': vaex.agg.sum(sample.total_secs),\n",
    "    'avg_seconds_6_months': vaex.agg.mean(sample.total_secs)})"
   ]
  },
  {
   "cell_type": "code",
   "execution_count": 36,
   "id": "16818a26",
   "metadata": {
    "ExecuteTime": {
     "end_time": "2021-06-16T09:00:26.174585Z",
     "start_time": "2021-06-16T09:00:26.162602Z"
    }
   },
   "outputs": [
    {
     "data": {
      "text/html": [
       "<table>\n",
       "<thead>\n",
       "<tr><th>#                                 </th><th>msno                                          </th><th>date_formatted  </th><th>total_seconds_6_months  </th><th>average_seconds_6_months  </th></tr>\n",
       "</thead>\n",
       "<tbody>\n",
       "<tr><td><i style='opacity: 0.6'>0</i>     </td><td>&#x27;RIJgWL2TuK6y58Ca3W/dfJGknBanXfe0fkMHllC/vJY=&#x27;</td><td>2014-12         </td><td>75637.76699999999       </td><td>25212.588999999996        </td></tr>\n",
       "<tr><td><i style='opacity: 0.6'>1</i>     </td><td>&#x27;RIJgWL2TuK6y58Ca3W/dfJGknBanXfe0fkMHllC/vJY=&#x27;</td><td>2015-06         </td><td>72942.37599999999       </td><td>18235.593999999997        </td></tr>\n",
       "<tr><td><i style='opacity: 0.6'>2</i>     </td><td>&#x27;RIJgWL2TuK6y58Ca3W/dfJGknBanXfe0fkMHllC/vJY=&#x27;</td><td>2015-12         </td><td>64750.97900000001       </td><td>21583.65966666667         </td></tr>\n",
       "<tr><td><i style='opacity: 0.6'>3</i>     </td><td>&#x27;RIJgWL2TuK6y58Ca3W/dfJGknBanXfe0fkMHllC/vJY=&#x27;</td><td>2016-06         </td><td>78364.671               </td><td>19591.16775               </td></tr>\n",
       "<tr><td><i style='opacity: 0.6'>4</i>     </td><td>&#x27;RIJgWL2TuK6y58Ca3W/dfJGknBanXfe0fkMHllC/vJY=&#x27;</td><td>2016-12         </td><td>13442.364000000001      </td><td>6721.182000000001         </td></tr>\n",
       "<tr><td>...                               </td><td>...                                           </td><td>...             </td><td>...                     </td><td>...                       </td></tr>\n",
       "<tr><td><i style='opacity: 0.6'>26,494</i></td><td>&#x27;O7ueKy1Wo8k64CWkxBnG4iMje0m9t3KfZMpiS2CdCSM=&#x27;</td><td>2015-12         </td><td>48658.625               </td><td>16219.541666666666        </td></tr>\n",
       "<tr><td><i style='opacity: 0.6'>26,495</i></td><td>&#x27;O7ueKy1Wo8k64CWkxBnG4iMje0m9t3KfZMpiS2CdCSM=&#x27;</td><td>2016-06         </td><td>13644.572               </td><td>6822.286                  </td></tr>\n",
       "<tr><td><i style='opacity: 0.6'>26,496</i></td><td>&#x27;O7ueKy1Wo8k64CWkxBnG4iMje0m9t3KfZMpiS2CdCSM=&#x27;</td><td>2016-12         </td><td>4588.589                </td><td>4588.589                  </td></tr>\n",
       "<tr><td><i style='opacity: 0.6'>26,497</i></td><td>&#x27;nSTyR6e5MmKwIvWplfmBFx8izI94Xj9KMeFiCacJbVY=&#x27;</td><td>2015-12         </td><td>398.754                 </td><td>398.754                   </td></tr>\n",
       "<tr><td><i style='opacity: 0.6'>26,498</i></td><td>&#x27;nSTyR6e5MmKwIvWplfmBFx8izI94Xj9KMeFiCacJbVY=&#x27;</td><td>2016-06         </td><td>21349.519               </td><td>10674.7595                </td></tr>\n",
       "</tbody>\n",
       "</table>"
      ],
      "text/plain": [
       "#       msno                                            date_formatted    total_seconds_6_months    average_seconds_6_months\n",
       "0       'RIJgWL2TuK6y58Ca3W/dfJGknBanXfe0fkMHllC/vJY='  2014-12           75637.76699999999         25212.588999999996\n",
       "1       'RIJgWL2TuK6y58Ca3W/dfJGknBanXfe0fkMHllC/vJY='  2015-06           72942.37599999999         18235.593999999997\n",
       "2       'RIJgWL2TuK6y58Ca3W/dfJGknBanXfe0fkMHllC/vJY='  2015-12           64750.97900000001         21583.65966666667\n",
       "3       'RIJgWL2TuK6y58Ca3W/dfJGknBanXfe0fkMHllC/vJY='  2016-06           78364.671                 19591.16775\n",
       "4       'RIJgWL2TuK6y58Ca3W/dfJGknBanXfe0fkMHllC/vJY='  2016-12           13442.364000000001        6721.182000000001\n",
       "...     ...                                             ...               ...                       ...\n",
       "26,494  'O7ueKy1Wo8k64CWkxBnG4iMje0m9t3KfZMpiS2CdCSM='  2015-12           48658.625                 16219.541666666666\n",
       "26,495  'O7ueKy1Wo8k64CWkxBnG4iMje0m9t3KfZMpiS2CdCSM='  2016-06           13644.572                 6822.286\n",
       "26,496  'O7ueKy1Wo8k64CWkxBnG4iMje0m9t3KfZMpiS2CdCSM='  2016-12           4588.589                  4588.589\n",
       "26,497  'nSTyR6e5MmKwIvWplfmBFx8izI94Xj9KMeFiCacJbVY='  2015-12           398.754                   398.754\n",
       "26,498  'nSTyR6e5MmKwIvWplfmBFx8izI94Xj9KMeFiCacJbVY='  2016-06           21349.519                 10674.7595"
      ]
     },
     "execution_count": 36,
     "metadata": {},
     "output_type": "execute_result"
    }
   ],
   "source": [
    "temp"
   ]
  },
  {
   "cell_type": "code",
   "execution_count": 37,
   "id": "a0b114f4",
   "metadata": {
    "ExecuteTime": {
     "end_time": "2021-06-16T09:00:39.935578Z",
     "start_time": "2021-06-16T09:00:39.930995Z"
    }
   },
   "outputs": [
    {
     "data": {
      "text/plain": [
       "(26499, 4)"
      ]
     },
     "execution_count": 37,
     "metadata": {},
     "output_type": "execute_result"
    }
   ],
   "source": [
    "temp.shape"
   ]
  },
  {
   "cell_type": "code",
   "execution_count": 41,
   "id": "969bdc0e",
   "metadata": {
    "ExecuteTime": {
     "end_time": "2021-06-16T09:22:07.066447Z",
     "start_time": "2021-06-16T09:22:06.989971Z"
    }
   },
   "outputs": [
    {
     "data": {
      "text/html": [
       "<table>\n",
       "<thead>\n",
       "<tr><th>#                                </th><th>msno                                          </th><th>avg_num_unq       </th></tr>\n",
       "</thead>\n",
       "<tbody>\n",
       "<tr><td><i style='opacity: 0.6'>0</i>    </td><td>&#x27;QiIddYgkK/kg64vUSceUgMkrfRdTD835iuRTx58KaYs=&#x27;</td><td>23.785714285714285</td></tr>\n",
       "<tr><td><i style='opacity: 0.6'>1</i>    </td><td>&#x27;PjIozBWbtHFNte0hWowl7lkfoJyIHOkXffw2xKCXMzQ=&#x27;</td><td>7.0               </td></tr>\n",
       "<tr><td><i style='opacity: 0.6'>2</i>    </td><td>&#x27;kcCTUO3AS8suFa0ONtaJAr/QBsXxviihQfoAFCq1VbM=&#x27;</td><td>22.916666666666668</td></tr>\n",
       "<tr><td><i style='opacity: 0.6'>3</i>    </td><td>&#x27;OZFfHmeW6lCkxI12tG8nER17EO1LbzI4iKptFjDvFI8=&#x27;</td><td>24.666666666666668</td></tr>\n",
       "<tr><td><i style='opacity: 0.6'>4</i>    </td><td>&#x27;S1EnE+jqaXaVlPRnOyignxkKVjSoXt+R1I20BbDNQf4=&#x27;</td><td>19.666666666666668</td></tr>\n",
       "<tr><td>...                              </td><td>...                                           </td><td>...               </td></tr>\n",
       "<tr><td><i style='opacity: 0.6'>9,455</i></td><td>&#x27;U9wZ+C6jSSjcNGwO5b5vjKlJ8Ip9lsG1NxPdGrjAUpc=&#x27;</td><td>65.14285714285714 </td></tr>\n",
       "<tr><td><i style='opacity: 0.6'>9,456</i></td><td>&#x27;QawonBRmAUdH76bsSUhMv2S75ABPbhB8Wu79PIV3BrE=&#x27;</td><td>17.0              </td></tr>\n",
       "<tr><td><i style='opacity: 0.6'>9,457</i></td><td>&#x27;PEX0oJ6D87UM42/BAVVhX8fWwTq/3EfDLCVJ1x3xhYA=&#x27;</td><td>13.222222222222221</td></tr>\n",
       "<tr><td><i style='opacity: 0.6'>9,458</i></td><td>&#x27;pxrhl5Ub4GcRP0w5OpPa9CnLZm7rsIcR1zN5xYNadkI=&#x27;</td><td>27.833333333333332</td></tr>\n",
       "<tr><td><i style='opacity: 0.6'>9,459</i></td><td>&#x27;kQbFgqHSLZeupySWMoBZpdfThEwkUZ6f9egJrKp5FuQ=&#x27;</td><td>94.0              </td></tr>\n",
       "</tbody>\n",
       "</table>"
      ],
      "text/plain": [
       "#      msno                                            avg_num_unq\n",
       "0      'QiIddYgkK/kg64vUSceUgMkrfRdTD835iuRTx58KaYs='  23.785714285714285\n",
       "1      'PjIozBWbtHFNte0hWowl7lkfoJyIHOkXffw2xKCXMzQ='  7.0\n",
       "2      'kcCTUO3AS8suFa0ONtaJAr/QBsXxviihQfoAFCq1VbM='  22.916666666666668\n",
       "3      'OZFfHmeW6lCkxI12tG8nER17EO1LbzI4iKptFjDvFI8='  24.666666666666668\n",
       "4      'S1EnE+jqaXaVlPRnOyignxkKVjSoXt+R1I20BbDNQf4='  19.666666666666668\n",
       "...    ...                                             ...\n",
       "9,455  'U9wZ+C6jSSjcNGwO5b5vjKlJ8Ip9lsG1NxPdGrjAUpc='  65.14285714285714\n",
       "9,456  'QawonBRmAUdH76bsSUhMv2S75ABPbhB8Wu79PIV3BrE='  17.0\n",
       "9,457  'PEX0oJ6D87UM42/BAVVhX8fWwTq/3EfDLCVJ1x3xhYA='  13.222222222222221\n",
       "9,458  'pxrhl5Ub4GcRP0w5OpPa9CnLZm7rsIcR1zN5xYNadkI='  27.833333333333332\n",
       "9,459  'kQbFgqHSLZeupySWMoBZpdfThEwkUZ6f9egJrKp5FuQ='  94.0"
      ]
     },
     "execution_count": 41,
     "metadata": {},
     "output_type": "execute_result"
    }
   ],
   "source": [
    "sample.groupby('msno').agg({'avg_num_unq': vaex.agg.mean(sample.num_unq)})"
   ]
  },
  {
   "cell_type": "code",
   "execution_count": 38,
   "id": "7786a250",
   "metadata": {
    "ExecuteTime": {
     "end_time": "2021-06-16T09:00:44.285977Z",
     "start_time": "2021-06-16T09:00:44.236827Z"
    }
   },
   "outputs": [
    {
     "data": {
      "text/html": [
       "<table>\n",
       "<thead>\n",
       "<tr><th>#                                 </th><th>msno                                          </th><th>date    </th><th>num_25  </th><th>num_50  </th><th>num_75  </th><th>num_985  </th><th>num_100  </th><th>num_unq  </th><th>total_secs        </th><th>year  </th><th>month  </th><th>day  </th><th>date_formatted                  </th></tr>\n",
       "</thead>\n",
       "<tbody>\n",
       "<tr><td><i style='opacity: 0.6'>0</i>     </td><td>&#x27;rxIP2f2aN0rYNp+toI0Obt/N/FYQX8hcO1fTmmy2h34=&#x27;</td><td>20150513</td><td>0       </td><td>0       </td><td>0       </td><td>0        </td><td>1        </td><td>1        </td><td>280.335           </td><td>&#x27;2015&#x27;</td><td>&#x27;05&#x27;   </td><td>&#x27;13&#x27; </td><td>Timestamp(&#x27;2015-05-13 00:00:00&#x27;)</td></tr>\n",
       "<tr><td><i style='opacity: 0.6'>1</i>     </td><td>&#x27;rxIP2f2aN0rYNp+toI0Obt/N/FYQX8hcO1fTmmy2h34=&#x27;</td><td>20150709</td><td>9       </td><td>1       </td><td>0       </td><td>0        </td><td>7        </td><td>11       </td><td>1658.9479999999999</td><td>&#x27;2015&#x27;</td><td>&#x27;07&#x27;   </td><td>&#x27;09&#x27; </td><td>Timestamp(&#x27;2015-07-09 00:00:00&#x27;)</td></tr>\n",
       "<tr><td><i style='opacity: 0.6'>2</i>     </td><td>&#x27;yxiEWwE9VR5utpUecLxVdQ5B7NysUPfrNtGINaM2zA8=&#x27;</td><td>20150105</td><td>3       </td><td>3       </td><td>0       </td><td>0        </td><td>68       </td><td>36       </td><td>17364.956000000002</td><td>&#x27;2015&#x27;</td><td>&#x27;01&#x27;   </td><td>&#x27;05&#x27; </td><td>Timestamp(&#x27;2015-01-05 00:00:00&#x27;)</td></tr>\n",
       "<tr><td><i style='opacity: 0.6'>3</i>     </td><td>&#x27;yxiEWwE9VR5utpUecLxVdQ5B7NysUPfrNtGINaM2zA8=&#x27;</td><td>20150306</td><td>1       </td><td>0       </td><td>1       </td><td>1        </td><td>97       </td><td>27       </td><td>24667.317000000003</td><td>&#x27;2015&#x27;</td><td>&#x27;03&#x27;   </td><td>&#x27;06&#x27; </td><td>Timestamp(&#x27;2015-03-06 00:00:00&#x27;)</td></tr>\n",
       "<tr><td><i style='opacity: 0.6'>4</i>     </td><td>&#x27;yxiEWwE9VR5utpUecLxVdQ5B7NysUPfrNtGINaM2zA8=&#x27;</td><td>20150501</td><td>3       </td><td>0       </td><td>0       </td><td>0        </td><td>38       </td><td>38       </td><td>9649.029          </td><td>&#x27;2015&#x27;</td><td>&#x27;05&#x27;   </td><td>&#x27;01&#x27; </td><td>Timestamp(&#x27;2015-05-01 00:00:00&#x27;)</td></tr>\n",
       "<tr><td>...                               </td><td>...                                           </td><td>...     </td><td>...     </td><td>...     </td><td>...     </td><td>...      </td><td>...      </td><td>...      </td><td>...               </td><td>...   </td><td>...    </td><td>...  </td><td>...                             </td></tr>\n",
       "<tr><td><i style='opacity: 0.6'>49,995</i></td><td>&#x27;w8Wv1H79RS3LL5Q75COIm/rt2V8B6uOr/7V8Wzw3SKM=&#x27;</td><td>20161123</td><td>2       </td><td>1       </td><td>0       </td><td>1        </td><td>10       </td><td>14       </td><td>3048.51           </td><td>&#x27;2016&#x27;</td><td>&#x27;11&#x27;   </td><td>&#x27;23&#x27; </td><td>Timestamp(&#x27;2016-11-23 00:00:00&#x27;)</td></tr>\n",
       "<tr><td><i style='opacity: 0.6'>49,996</i></td><td>&#x27;LdvtNHmd5f5iJSxFroRbmaP5VkiDc7PEv6kzfOq8/j8=&#x27;</td><td>20150321</td><td>2       </td><td>0       </td><td>0       </td><td>0        </td><td>10       </td><td>9        </td><td>2534.337          </td><td>&#x27;2015&#x27;</td><td>&#x27;03&#x27;   </td><td>&#x27;21&#x27; </td><td>Timestamp(&#x27;2015-03-21 00:00:00&#x27;)</td></tr>\n",
       "<tr><td><i style='opacity: 0.6'>49,997</i></td><td>&#x27;LdvtNHmd5f5iJSxFroRbmaP5VkiDc7PEv6kzfOq8/j8=&#x27;</td><td>20150601</td><td>0       </td><td>1       </td><td>0       </td><td>0        </td><td>0        </td><td>1        </td><td>98.31299999999999 </td><td>&#x27;2015&#x27;</td><td>&#x27;06&#x27;   </td><td>&#x27;01&#x27; </td><td>Timestamp(&#x27;2015-06-01 00:00:00&#x27;)</td></tr>\n",
       "<tr><td><i style='opacity: 0.6'>49,998</i></td><td>&#x27;LdvtNHmd5f5iJSxFroRbmaP5VkiDc7PEv6kzfOq8/j8=&#x27;</td><td>20150902</td><td>0       </td><td>0       </td><td>0       </td><td>0        </td><td>14       </td><td>13       </td><td>3521.985          </td><td>&#x27;2015&#x27;</td><td>&#x27;09&#x27;   </td><td>&#x27;02&#x27; </td><td>Timestamp(&#x27;2015-09-02 00:00:00&#x27;)</td></tr>\n",
       "<tr><td><i style='opacity: 0.6'>49,999</i></td><td>&#x27;LdvtNHmd5f5iJSxFroRbmaP5VkiDc7PEv6kzfOq8/j8=&#x27;</td><td>20151212</td><td>0       </td><td>0       </td><td>0       </td><td>0        </td><td>6        </td><td>6        </td><td>1497.628          </td><td>&#x27;2015&#x27;</td><td>&#x27;12&#x27;   </td><td>&#x27;12&#x27; </td><td>Timestamp(&#x27;2015-12-12 00:00:00&#x27;)</td></tr>\n",
       "</tbody>\n",
       "</table>"
      ],
      "text/plain": [
       "#       msno                                            date      num_25    num_50    num_75    num_985    num_100    num_unq    total_secs          year    month    day    date_formatted\n",
       "0       'rxIP2f2aN0rYNp+toI0Obt/N/FYQX8hcO1fTmmy2h34='  20150513  0         0         0         0          1          1          280.335             '2015'  '05'     '13'   Timestamp('2015-05-13 00:00:00')\n",
       "1       'rxIP2f2aN0rYNp+toI0Obt/N/FYQX8hcO1fTmmy2h34='  20150709  9         1         0         0          7          11         1658.9479999999999  '2015'  '07'     '09'   Timestamp('2015-07-09 00:00:00')\n",
       "2       'yxiEWwE9VR5utpUecLxVdQ5B7NysUPfrNtGINaM2zA8='  20150105  3         3         0         0          68         36         17364.956000000002  '2015'  '01'     '05'   Timestamp('2015-01-05 00:00:00')\n",
       "3       'yxiEWwE9VR5utpUecLxVdQ5B7NysUPfrNtGINaM2zA8='  20150306  1         0         1         1          97         27         24667.317000000003  '2015'  '03'     '06'   Timestamp('2015-03-06 00:00:00')\n",
       "4       'yxiEWwE9VR5utpUecLxVdQ5B7NysUPfrNtGINaM2zA8='  20150501  3         0         0         0          38         38         9649.029            '2015'  '05'     '01'   Timestamp('2015-05-01 00:00:00')\n",
       "...     ...                                             ...       ...       ...       ...       ...        ...        ...        ...                 ...     ...      ...    ...\n",
       "49,995  'w8Wv1H79RS3LL5Q75COIm/rt2V8B6uOr/7V8Wzw3SKM='  20161123  2         1         0         1          10         14         3048.51             '2016'  '11'     '23'   Timestamp('2016-11-23 00:00:00')\n",
       "49,996  'LdvtNHmd5f5iJSxFroRbmaP5VkiDc7PEv6kzfOq8/j8='  20150321  2         0         0         0          10         9          2534.337            '2015'  '03'     '21'   Timestamp('2015-03-21 00:00:00')\n",
       "49,997  'LdvtNHmd5f5iJSxFroRbmaP5VkiDc7PEv6kzfOq8/j8='  20150601  0         1         0         0          0          1          98.31299999999999   '2015'  '06'     '01'   Timestamp('2015-06-01 00:00:00')\n",
       "49,998  'LdvtNHmd5f5iJSxFroRbmaP5VkiDc7PEv6kzfOq8/j8='  20150902  0         0         0         0          14         13         3521.985            '2015'  '09'     '02'   Timestamp('2015-09-02 00:00:00')\n",
       "49,999  'LdvtNHmd5f5iJSxFroRbmaP5VkiDc7PEv6kzfOq8/j8='  20151212  0         0         0         0          6          6          1497.628            '2015'  '12'     '12'   Timestamp('2015-12-12 00:00:00')"
      ]
     },
     "execution_count": 38,
     "metadata": {},
     "output_type": "execute_result"
    }
   ],
   "source": [
    "sample['total_secs']."
   ]
  },
  {
   "cell_type": "code",
   "execution_count": 39,
   "id": "ab9c1211",
   "metadata": {
    "ExecuteTime": {
     "end_time": "2021-06-16T09:06:22.922257Z",
     "start_time": "2021-06-16T09:06:22.874516Z"
    }
   },
   "outputs": [
    {
     "data": {
      "text/html": [
       "<table>\n",
       "<thead>\n",
       "<tr><th>#                                 </th><th>msno                                          </th><th>date    </th><th>num_25  </th><th>num_50  </th><th>num_75  </th><th>num_985  </th><th>num_100  </th><th>num_unq  </th><th>total_secs        </th><th>year  </th><th>month  </th><th>day  </th><th>date_formatted                  </th></tr>\n",
       "</thead>\n",
       "<tbody>\n",
       "<tr><td><i style='opacity: 0.6'>0</i>     </td><td>&#x27;rxIP2f2aN0rYNp+toI0Obt/N/FYQX8hcO1fTmmy2h34=&#x27;</td><td>20150513</td><td>0       </td><td>0       </td><td>0       </td><td>0        </td><td>1        </td><td>1        </td><td>280.335           </td><td>&#x27;2015&#x27;</td><td>&#x27;05&#x27;   </td><td>&#x27;13&#x27; </td><td>Timestamp(&#x27;2015-05-13 00:00:00&#x27;)</td></tr>\n",
       "<tr><td><i style='opacity: 0.6'>1</i>     </td><td>&#x27;rxIP2f2aN0rYNp+toI0Obt/N/FYQX8hcO1fTmmy2h34=&#x27;</td><td>20150709</td><td>9       </td><td>1       </td><td>0       </td><td>0        </td><td>7        </td><td>11       </td><td>1658.9479999999999</td><td>&#x27;2015&#x27;</td><td>&#x27;07&#x27;   </td><td>&#x27;09&#x27; </td><td>Timestamp(&#x27;2015-07-09 00:00:00&#x27;)</td></tr>\n",
       "<tr><td><i style='opacity: 0.6'>2</i>     </td><td>&#x27;yxiEWwE9VR5utpUecLxVdQ5B7NysUPfrNtGINaM2zA8=&#x27;</td><td>20150105</td><td>3       </td><td>3       </td><td>0       </td><td>0        </td><td>68       </td><td>36       </td><td>17364.956000000002</td><td>&#x27;2015&#x27;</td><td>&#x27;01&#x27;   </td><td>&#x27;05&#x27; </td><td>Timestamp(&#x27;2015-01-05 00:00:00&#x27;)</td></tr>\n",
       "<tr><td><i style='opacity: 0.6'>3</i>     </td><td>&#x27;yxiEWwE9VR5utpUecLxVdQ5B7NysUPfrNtGINaM2zA8=&#x27;</td><td>20150306</td><td>1       </td><td>0       </td><td>1       </td><td>1        </td><td>97       </td><td>27       </td><td>24667.317000000003</td><td>&#x27;2015&#x27;</td><td>&#x27;03&#x27;   </td><td>&#x27;06&#x27; </td><td>Timestamp(&#x27;2015-03-06 00:00:00&#x27;)</td></tr>\n",
       "<tr><td><i style='opacity: 0.6'>4</i>     </td><td>&#x27;yxiEWwE9VR5utpUecLxVdQ5B7NysUPfrNtGINaM2zA8=&#x27;</td><td>20150501</td><td>3       </td><td>0       </td><td>0       </td><td>0        </td><td>38       </td><td>38       </td><td>9649.029          </td><td>&#x27;2015&#x27;</td><td>&#x27;05&#x27;   </td><td>&#x27;01&#x27; </td><td>Timestamp(&#x27;2015-05-01 00:00:00&#x27;)</td></tr>\n",
       "<tr><td>...                               </td><td>...                                           </td><td>...     </td><td>...     </td><td>...     </td><td>...     </td><td>...      </td><td>...      </td><td>...      </td><td>...               </td><td>...   </td><td>...    </td><td>...  </td><td>...                             </td></tr>\n",
       "<tr><td><i style='opacity: 0.6'>49,995</i></td><td>&#x27;w8Wv1H79RS3LL5Q75COIm/rt2V8B6uOr/7V8Wzw3SKM=&#x27;</td><td>20161123</td><td>2       </td><td>1       </td><td>0       </td><td>1        </td><td>10       </td><td>14       </td><td>3048.51           </td><td>&#x27;2016&#x27;</td><td>&#x27;11&#x27;   </td><td>&#x27;23&#x27; </td><td>Timestamp(&#x27;2016-11-23 00:00:00&#x27;)</td></tr>\n",
       "<tr><td><i style='opacity: 0.6'>49,996</i></td><td>&#x27;LdvtNHmd5f5iJSxFroRbmaP5VkiDc7PEv6kzfOq8/j8=&#x27;</td><td>20150321</td><td>2       </td><td>0       </td><td>0       </td><td>0        </td><td>10       </td><td>9        </td><td>2534.337          </td><td>&#x27;2015&#x27;</td><td>&#x27;03&#x27;   </td><td>&#x27;21&#x27; </td><td>Timestamp(&#x27;2015-03-21 00:00:00&#x27;)</td></tr>\n",
       "<tr><td><i style='opacity: 0.6'>49,997</i></td><td>&#x27;LdvtNHmd5f5iJSxFroRbmaP5VkiDc7PEv6kzfOq8/j8=&#x27;</td><td>20150601</td><td>0       </td><td>1       </td><td>0       </td><td>0        </td><td>0        </td><td>1        </td><td>98.31299999999999 </td><td>&#x27;2015&#x27;</td><td>&#x27;06&#x27;   </td><td>&#x27;01&#x27; </td><td>Timestamp(&#x27;2015-06-01 00:00:00&#x27;)</td></tr>\n",
       "<tr><td><i style='opacity: 0.6'>49,998</i></td><td>&#x27;LdvtNHmd5f5iJSxFroRbmaP5VkiDc7PEv6kzfOq8/j8=&#x27;</td><td>20150902</td><td>0       </td><td>0       </td><td>0       </td><td>0        </td><td>14       </td><td>13       </td><td>3521.985          </td><td>&#x27;2015&#x27;</td><td>&#x27;09&#x27;   </td><td>&#x27;02&#x27; </td><td>Timestamp(&#x27;2015-09-02 00:00:00&#x27;)</td></tr>\n",
       "<tr><td><i style='opacity: 0.6'>49,999</i></td><td>&#x27;LdvtNHmd5f5iJSxFroRbmaP5VkiDc7PEv6kzfOq8/j8=&#x27;</td><td>20151212</td><td>0       </td><td>0       </td><td>0       </td><td>0        </td><td>6        </td><td>6        </td><td>1497.628          </td><td>&#x27;2015&#x27;</td><td>&#x27;12&#x27;   </td><td>&#x27;12&#x27; </td><td>Timestamp(&#x27;2015-12-12 00:00:00&#x27;)</td></tr>\n",
       "</tbody>\n",
       "</table>"
      ],
      "text/plain": [
       "#       msno                                            date      num_25    num_50    num_75    num_985    num_100    num_unq    total_secs          year    month    day    date_formatted\n",
       "0       'rxIP2f2aN0rYNp+toI0Obt/N/FYQX8hcO1fTmmy2h34='  20150513  0         0         0         0          1          1          280.335             '2015'  '05'     '13'   Timestamp('2015-05-13 00:00:00')\n",
       "1       'rxIP2f2aN0rYNp+toI0Obt/N/FYQX8hcO1fTmmy2h34='  20150709  9         1         0         0          7          11         1658.9479999999999  '2015'  '07'     '09'   Timestamp('2015-07-09 00:00:00')\n",
       "2       'yxiEWwE9VR5utpUecLxVdQ5B7NysUPfrNtGINaM2zA8='  20150105  3         3         0         0          68         36         17364.956000000002  '2015'  '01'     '05'   Timestamp('2015-01-05 00:00:00')\n",
       "3       'yxiEWwE9VR5utpUecLxVdQ5B7NysUPfrNtGINaM2zA8='  20150306  1         0         1         1          97         27         24667.317000000003  '2015'  '03'     '06'   Timestamp('2015-03-06 00:00:00')\n",
       "4       'yxiEWwE9VR5utpUecLxVdQ5B7NysUPfrNtGINaM2zA8='  20150501  3         0         0         0          38         38         9649.029            '2015'  '05'     '01'   Timestamp('2015-05-01 00:00:00')\n",
       "...     ...                                             ...       ...       ...       ...       ...        ...        ...        ...                 ...     ...      ...    ...\n",
       "49,995  'w8Wv1H79RS3LL5Q75COIm/rt2V8B6uOr/7V8Wzw3SKM='  20161123  2         1         0         1          10         14         3048.51             '2016'  '11'     '23'   Timestamp('2016-11-23 00:00:00')\n",
       "49,996  'LdvtNHmd5f5iJSxFroRbmaP5VkiDc7PEv6kzfOq8/j8='  20150321  2         0         0         0          10         9          2534.337            '2015'  '03'     '21'   Timestamp('2015-03-21 00:00:00')\n",
       "49,997  'LdvtNHmd5f5iJSxFroRbmaP5VkiDc7PEv6kzfOq8/j8='  20150601  0         1         0         0          0          1          98.31299999999999   '2015'  '06'     '01'   Timestamp('2015-06-01 00:00:00')\n",
       "49,998  'LdvtNHmd5f5iJSxFroRbmaP5VkiDc7PEv6kzfOq8/j8='  20150902  0         0         0         0          14         13         3521.985            '2015'  '09'     '02'   Timestamp('2015-09-02 00:00:00')\n",
       "49,999  'LdvtNHmd5f5iJSxFroRbmaP5VkiDc7PEv6kzfOq8/j8='  20151212  0         0         0         0          6          6          1497.628            '2015'  '12'     '12'   Timestamp('2015-12-12 00:00:00')"
      ]
     },
     "execution_count": 39,
     "metadata": {},
     "output_type": "execute_result"
    }
   ],
   "source": [
    "sample"
   ]
  },
  {
   "cell_type": "code",
   "execution_count": 45,
   "id": "ddcae04b",
   "metadata": {
    "ExecuteTime": {
     "end_time": "2021-06-16T09:36:37.160649Z",
     "start_time": "2021-06-16T09:36:37.144696Z"
    }
   },
   "outputs": [
    {
     "data": {
      "text/plain": [
       "<vaex.groupby.GroupBy at 0x7fa034fc3fd0>"
      ]
     },
     "execution_count": 45,
     "metadata": {},
     "output_type": "execute_result"
    }
   ],
   "source": [
    "sample.groupby('msno')"
   ]
  },
  {
   "cell_type": "code",
   "execution_count": 46,
   "id": "38e6cd64",
   "metadata": {
    "ExecuteTime": {
     "end_time": "2021-06-16T09:39:18.264504Z",
     "start_time": "2021-06-16T09:39:18.215415Z"
    }
   },
   "outputs": [
    {
     "data": {
      "text/html": [
       "<table>\n",
       "<thead>\n",
       "<tr><th>#                                 </th><th>msno                                          </th><th>date    </th><th>num_25  </th><th>num_50  </th><th>num_75  </th><th>num_985  </th><th>num_100  </th><th>num_unq  </th><th>total_secs        </th><th>year  </th><th>month  </th><th>day  </th><th>date_formatted                  </th></tr>\n",
       "</thead>\n",
       "<tbody>\n",
       "<tr><td><i style='opacity: 0.6'>0</i>     </td><td>&#x27;rxIP2f2aN0rYNp+toI0Obt/N/FYQX8hcO1fTmmy2h34=&#x27;</td><td>20150513</td><td>0       </td><td>0       </td><td>0       </td><td>0        </td><td>1        </td><td>1        </td><td>280.335           </td><td>&#x27;2015&#x27;</td><td>&#x27;05&#x27;   </td><td>&#x27;13&#x27; </td><td>Timestamp(&#x27;2015-05-13 00:00:00&#x27;)</td></tr>\n",
       "<tr><td><i style='opacity: 0.6'>1</i>     </td><td>&#x27;rxIP2f2aN0rYNp+toI0Obt/N/FYQX8hcO1fTmmy2h34=&#x27;</td><td>20150709</td><td>9       </td><td>1       </td><td>0       </td><td>0        </td><td>7        </td><td>11       </td><td>1658.9479999999999</td><td>&#x27;2015&#x27;</td><td>&#x27;07&#x27;   </td><td>&#x27;09&#x27; </td><td>Timestamp(&#x27;2015-07-09 00:00:00&#x27;)</td></tr>\n",
       "<tr><td><i style='opacity: 0.6'>2</i>     </td><td>&#x27;yxiEWwE9VR5utpUecLxVdQ5B7NysUPfrNtGINaM2zA8=&#x27;</td><td>20150105</td><td>3       </td><td>3       </td><td>0       </td><td>0        </td><td>68       </td><td>36       </td><td>17364.956000000002</td><td>&#x27;2015&#x27;</td><td>&#x27;01&#x27;   </td><td>&#x27;05&#x27; </td><td>Timestamp(&#x27;2015-01-05 00:00:00&#x27;)</td></tr>\n",
       "<tr><td><i style='opacity: 0.6'>3</i>     </td><td>&#x27;yxiEWwE9VR5utpUecLxVdQ5B7NysUPfrNtGINaM2zA8=&#x27;</td><td>20150306</td><td>1       </td><td>0       </td><td>1       </td><td>1        </td><td>97       </td><td>27       </td><td>24667.317000000003</td><td>&#x27;2015&#x27;</td><td>&#x27;03&#x27;   </td><td>&#x27;06&#x27; </td><td>Timestamp(&#x27;2015-03-06 00:00:00&#x27;)</td></tr>\n",
       "<tr><td><i style='opacity: 0.6'>4</i>     </td><td>&#x27;yxiEWwE9VR5utpUecLxVdQ5B7NysUPfrNtGINaM2zA8=&#x27;</td><td>20150501</td><td>3       </td><td>0       </td><td>0       </td><td>0        </td><td>38       </td><td>38       </td><td>9649.029          </td><td>&#x27;2015&#x27;</td><td>&#x27;05&#x27;   </td><td>&#x27;01&#x27; </td><td>Timestamp(&#x27;2015-05-01 00:00:00&#x27;)</td></tr>\n",
       "<tr><td>...                               </td><td>...                                           </td><td>...     </td><td>...     </td><td>...     </td><td>...     </td><td>...      </td><td>...      </td><td>...      </td><td>...               </td><td>...   </td><td>...    </td><td>...  </td><td>...                             </td></tr>\n",
       "<tr><td><i style='opacity: 0.6'>49,995</i></td><td>&#x27;w8Wv1H79RS3LL5Q75COIm/rt2V8B6uOr/7V8Wzw3SKM=&#x27;</td><td>20161123</td><td>2       </td><td>1       </td><td>0       </td><td>1        </td><td>10       </td><td>14       </td><td>3048.51           </td><td>&#x27;2016&#x27;</td><td>&#x27;11&#x27;   </td><td>&#x27;23&#x27; </td><td>Timestamp(&#x27;2016-11-23 00:00:00&#x27;)</td></tr>\n",
       "<tr><td><i style='opacity: 0.6'>49,996</i></td><td>&#x27;LdvtNHmd5f5iJSxFroRbmaP5VkiDc7PEv6kzfOq8/j8=&#x27;</td><td>20150321</td><td>2       </td><td>0       </td><td>0       </td><td>0        </td><td>10       </td><td>9        </td><td>2534.337          </td><td>&#x27;2015&#x27;</td><td>&#x27;03&#x27;   </td><td>&#x27;21&#x27; </td><td>Timestamp(&#x27;2015-03-21 00:00:00&#x27;)</td></tr>\n",
       "<tr><td><i style='opacity: 0.6'>49,997</i></td><td>&#x27;LdvtNHmd5f5iJSxFroRbmaP5VkiDc7PEv6kzfOq8/j8=&#x27;</td><td>20150601</td><td>0       </td><td>1       </td><td>0       </td><td>0        </td><td>0        </td><td>1        </td><td>98.31299999999999 </td><td>&#x27;2015&#x27;</td><td>&#x27;06&#x27;   </td><td>&#x27;01&#x27; </td><td>Timestamp(&#x27;2015-06-01 00:00:00&#x27;)</td></tr>\n",
       "<tr><td><i style='opacity: 0.6'>49,998</i></td><td>&#x27;LdvtNHmd5f5iJSxFroRbmaP5VkiDc7PEv6kzfOq8/j8=&#x27;</td><td>20150902</td><td>0       </td><td>0       </td><td>0       </td><td>0        </td><td>14       </td><td>13       </td><td>3521.985          </td><td>&#x27;2015&#x27;</td><td>&#x27;09&#x27;   </td><td>&#x27;02&#x27; </td><td>Timestamp(&#x27;2015-09-02 00:00:00&#x27;)</td></tr>\n",
       "<tr><td><i style='opacity: 0.6'>49,999</i></td><td>&#x27;LdvtNHmd5f5iJSxFroRbmaP5VkiDc7PEv6kzfOq8/j8=&#x27;</td><td>20151212</td><td>0       </td><td>0       </td><td>0       </td><td>0        </td><td>6        </td><td>6        </td><td>1497.628          </td><td>&#x27;2015&#x27;</td><td>&#x27;12&#x27;   </td><td>&#x27;12&#x27; </td><td>Timestamp(&#x27;2015-12-12 00:00:00&#x27;)</td></tr>\n",
       "</tbody>\n",
       "</table>"
      ],
      "text/plain": [
       "#       msno                                            date      num_25    num_50    num_75    num_985    num_100    num_unq    total_secs          year    month    day    date_formatted\n",
       "0       'rxIP2f2aN0rYNp+toI0Obt/N/FYQX8hcO1fTmmy2h34='  20150513  0         0         0         0          1          1          280.335             '2015'  '05'     '13'   Timestamp('2015-05-13 00:00:00')\n",
       "1       'rxIP2f2aN0rYNp+toI0Obt/N/FYQX8hcO1fTmmy2h34='  20150709  9         1         0         0          7          11         1658.9479999999999  '2015'  '07'     '09'   Timestamp('2015-07-09 00:00:00')\n",
       "2       'yxiEWwE9VR5utpUecLxVdQ5B7NysUPfrNtGINaM2zA8='  20150105  3         3         0         0          68         36         17364.956000000002  '2015'  '01'     '05'   Timestamp('2015-01-05 00:00:00')\n",
       "3       'yxiEWwE9VR5utpUecLxVdQ5B7NysUPfrNtGINaM2zA8='  20150306  1         0         1         1          97         27         24667.317000000003  '2015'  '03'     '06'   Timestamp('2015-03-06 00:00:00')\n",
       "4       'yxiEWwE9VR5utpUecLxVdQ5B7NysUPfrNtGINaM2zA8='  20150501  3         0         0         0          38         38         9649.029            '2015'  '05'     '01'   Timestamp('2015-05-01 00:00:00')\n",
       "...     ...                                             ...       ...       ...       ...       ...        ...        ...        ...                 ...     ...      ...    ...\n",
       "49,995  'w8Wv1H79RS3LL5Q75COIm/rt2V8B6uOr/7V8Wzw3SKM='  20161123  2         1         0         1          10         14         3048.51             '2016'  '11'     '23'   Timestamp('2016-11-23 00:00:00')\n",
       "49,996  'LdvtNHmd5f5iJSxFroRbmaP5VkiDc7PEv6kzfOq8/j8='  20150321  2         0         0         0          10         9          2534.337            '2015'  '03'     '21'   Timestamp('2015-03-21 00:00:00')\n",
       "49,997  'LdvtNHmd5f5iJSxFroRbmaP5VkiDc7PEv6kzfOq8/j8='  20150601  0         1         0         0          0          1          98.31299999999999   '2015'  '06'     '01'   Timestamp('2015-06-01 00:00:00')\n",
       "49,998  'LdvtNHmd5f5iJSxFroRbmaP5VkiDc7PEv6kzfOq8/j8='  20150902  0         0         0         0          14         13         3521.985            '2015'  '09'     '02'   Timestamp('2015-09-02 00:00:00')\n",
       "49,999  'LdvtNHmd5f5iJSxFroRbmaP5VkiDc7PEv6kzfOq8/j8='  20151212  0         0         0         0          6          6          1497.628            '2015'  '12'     '12'   Timestamp('2015-12-12 00:00:00')"
      ]
     },
     "execution_count": 46,
     "metadata": {},
     "output_type": "execute_result"
    }
   ],
   "source": [
    "sample"
   ]
  },
  {
   "cell_type": "code",
   "execution_count": 15,
   "id": "1801c152",
   "metadata": {
    "ExecuteTime": {
     "end_time": "2021-06-16T09:57:31.476920Z",
     "start_time": "2021-06-16T09:57:31.451271Z"
    }
   },
   "outputs": [],
   "source": [
    "t1 = sample.groupby('msno').agg({'max_date_uid': vaex.agg.max(sample.date)})"
   ]
  },
  {
   "cell_type": "code",
   "execution_count": 16,
   "id": "e6f71d27",
   "metadata": {
    "ExecuteTime": {
     "end_time": "2021-06-16T09:58:01.072257Z",
     "start_time": "2021-06-16T09:58:01.056659Z"
    }
   },
   "outputs": [],
   "source": [
    "sample = sample.join(t1, how=\"left\", on=\"msno\")"
   ]
  },
  {
   "cell_type": "code",
   "execution_count": 17,
   "id": "de3c74b7",
   "metadata": {
    "ExecuteTime": {
     "end_time": "2021-06-16T09:58:02.556406Z",
     "start_time": "2021-06-16T09:58:02.497886Z"
    }
   },
   "outputs": [
    {
     "data": {
      "text/html": [
       "<table>\n",
       "<thead>\n",
       "<tr><th>#                                 </th><th>msno                                          </th><th>date    </th><th>num_25  </th><th>num_50  </th><th>num_75  </th><th>num_985  </th><th>num_100  </th><th>num_unq  </th><th>total_secs        </th><th>year  </th><th>month  </th><th>day  </th><th>date_formatted                  </th><th>max_date_uid  </th></tr>\n",
       "</thead>\n",
       "<tbody>\n",
       "<tr><td><i style='opacity: 0.6'>0</i>     </td><td>&#x27;rxIP2f2aN0rYNp+toI0Obt/N/FYQX8hcO1fTmmy2h34=&#x27;</td><td>20150513</td><td>0       </td><td>0       </td><td>0       </td><td>0        </td><td>1        </td><td>1        </td><td>280.335           </td><td>&#x27;2015&#x27;</td><td>&#x27;05&#x27;   </td><td>&#x27;13&#x27; </td><td>Timestamp(&#x27;2015-05-13 00:00:00&#x27;)</td><td>20150709      </td></tr>\n",
       "<tr><td><i style='opacity: 0.6'>1</i>     </td><td>&#x27;rxIP2f2aN0rYNp+toI0Obt/N/FYQX8hcO1fTmmy2h34=&#x27;</td><td>20150709</td><td>9       </td><td>1       </td><td>0       </td><td>0        </td><td>7        </td><td>11       </td><td>1658.9479999999999</td><td>&#x27;2015&#x27;</td><td>&#x27;07&#x27;   </td><td>&#x27;09&#x27; </td><td>Timestamp(&#x27;2015-07-09 00:00:00&#x27;)</td><td>20150709      </td></tr>\n",
       "<tr><td><i style='opacity: 0.6'>2</i>     </td><td>&#x27;yxiEWwE9VR5utpUecLxVdQ5B7NysUPfrNtGINaM2zA8=&#x27;</td><td>20150105</td><td>3       </td><td>3       </td><td>0       </td><td>0        </td><td>68       </td><td>36       </td><td>17364.956000000002</td><td>&#x27;2015&#x27;</td><td>&#x27;01&#x27;   </td><td>&#x27;05&#x27; </td><td>Timestamp(&#x27;2015-01-05 00:00:00&#x27;)</td><td>20170106      </td></tr>\n",
       "<tr><td><i style='opacity: 0.6'>3</i>     </td><td>&#x27;yxiEWwE9VR5utpUecLxVdQ5B7NysUPfrNtGINaM2zA8=&#x27;</td><td>20150306</td><td>1       </td><td>0       </td><td>1       </td><td>1        </td><td>97       </td><td>27       </td><td>24667.317000000003</td><td>&#x27;2015&#x27;</td><td>&#x27;03&#x27;   </td><td>&#x27;06&#x27; </td><td>Timestamp(&#x27;2015-03-06 00:00:00&#x27;)</td><td>20170106      </td></tr>\n",
       "<tr><td><i style='opacity: 0.6'>4</i>     </td><td>&#x27;yxiEWwE9VR5utpUecLxVdQ5B7NysUPfrNtGINaM2zA8=&#x27;</td><td>20150501</td><td>3       </td><td>0       </td><td>0       </td><td>0        </td><td>38       </td><td>38       </td><td>9649.029          </td><td>&#x27;2015&#x27;</td><td>&#x27;05&#x27;   </td><td>&#x27;01&#x27; </td><td>Timestamp(&#x27;2015-05-01 00:00:00&#x27;)</td><td>20170106      </td></tr>\n",
       "<tr><td>...                               </td><td>...                                           </td><td>...     </td><td>...     </td><td>...     </td><td>...     </td><td>...      </td><td>...      </td><td>...      </td><td>...               </td><td>...   </td><td>...    </td><td>...  </td><td>...                             </td><td>...           </td></tr>\n",
       "<tr><td><i style='opacity: 0.6'>49,995</i></td><td>&#x27;w8Wv1H79RS3LL5Q75COIm/rt2V8B6uOr/7V8Wzw3SKM=&#x27;</td><td>20161123</td><td>2       </td><td>1       </td><td>0       </td><td>1        </td><td>10       </td><td>14       </td><td>3048.51           </td><td>&#x27;2016&#x27;</td><td>&#x27;11&#x27;   </td><td>&#x27;23&#x27; </td><td>Timestamp(&#x27;2016-11-23 00:00:00&#x27;)</td><td>20161123      </td></tr>\n",
       "<tr><td><i style='opacity: 0.6'>49,996</i></td><td>&#x27;LdvtNHmd5f5iJSxFroRbmaP5VkiDc7PEv6kzfOq8/j8=&#x27;</td><td>20150321</td><td>2       </td><td>0       </td><td>0       </td><td>0        </td><td>10       </td><td>9        </td><td>2534.337          </td><td>&#x27;2015&#x27;</td><td>&#x27;03&#x27;   </td><td>&#x27;21&#x27; </td><td>Timestamp(&#x27;2015-03-21 00:00:00&#x27;)</td><td>20151212      </td></tr>\n",
       "<tr><td><i style='opacity: 0.6'>49,997</i></td><td>&#x27;LdvtNHmd5f5iJSxFroRbmaP5VkiDc7PEv6kzfOq8/j8=&#x27;</td><td>20150601</td><td>0       </td><td>1       </td><td>0       </td><td>0        </td><td>0        </td><td>1        </td><td>98.31299999999999 </td><td>&#x27;2015&#x27;</td><td>&#x27;06&#x27;   </td><td>&#x27;01&#x27; </td><td>Timestamp(&#x27;2015-06-01 00:00:00&#x27;)</td><td>20151212      </td></tr>\n",
       "<tr><td><i style='opacity: 0.6'>49,998</i></td><td>&#x27;LdvtNHmd5f5iJSxFroRbmaP5VkiDc7PEv6kzfOq8/j8=&#x27;</td><td>20150902</td><td>0       </td><td>0       </td><td>0       </td><td>0        </td><td>14       </td><td>13       </td><td>3521.985          </td><td>&#x27;2015&#x27;</td><td>&#x27;09&#x27;   </td><td>&#x27;02&#x27; </td><td>Timestamp(&#x27;2015-09-02 00:00:00&#x27;)</td><td>20151212      </td></tr>\n",
       "<tr><td><i style='opacity: 0.6'>49,999</i></td><td>&#x27;LdvtNHmd5f5iJSxFroRbmaP5VkiDc7PEv6kzfOq8/j8=&#x27;</td><td>20151212</td><td>0       </td><td>0       </td><td>0       </td><td>0        </td><td>6        </td><td>6        </td><td>1497.628          </td><td>&#x27;2015&#x27;</td><td>&#x27;12&#x27;   </td><td>&#x27;12&#x27; </td><td>Timestamp(&#x27;2015-12-12 00:00:00&#x27;)</td><td>20151212      </td></tr>\n",
       "</tbody>\n",
       "</table>"
      ],
      "text/plain": [
       "#       msno                                            date      num_25    num_50    num_75    num_985    num_100    num_unq    total_secs          year    month    day    date_formatted                    max_date_uid\n",
       "0       'rxIP2f2aN0rYNp+toI0Obt/N/FYQX8hcO1fTmmy2h34='  20150513  0         0         0         0          1          1          280.335             '2015'  '05'     '13'   Timestamp('2015-05-13 00:00:00')  20150709\n",
       "1       'rxIP2f2aN0rYNp+toI0Obt/N/FYQX8hcO1fTmmy2h34='  20150709  9         1         0         0          7          11         1658.9479999999999  '2015'  '07'     '09'   Timestamp('2015-07-09 00:00:00')  20150709\n",
       "2       'yxiEWwE9VR5utpUecLxVdQ5B7NysUPfrNtGINaM2zA8='  20150105  3         3         0         0          68         36         17364.956000000002  '2015'  '01'     '05'   Timestamp('2015-01-05 00:00:00')  20170106\n",
       "3       'yxiEWwE9VR5utpUecLxVdQ5B7NysUPfrNtGINaM2zA8='  20150306  1         0         1         1          97         27         24667.317000000003  '2015'  '03'     '06'   Timestamp('2015-03-06 00:00:00')  20170106\n",
       "4       'yxiEWwE9VR5utpUecLxVdQ5B7NysUPfrNtGINaM2zA8='  20150501  3         0         0         0          38         38         9649.029            '2015'  '05'     '01'   Timestamp('2015-05-01 00:00:00')  20170106\n",
       "...     ...                                             ...       ...       ...       ...       ...        ...        ...        ...                 ...     ...      ...    ...                               ...\n",
       "49,995  'w8Wv1H79RS3LL5Q75COIm/rt2V8B6uOr/7V8Wzw3SKM='  20161123  2         1         0         1          10         14         3048.51             '2016'  '11'     '23'   Timestamp('2016-11-23 00:00:00')  20161123\n",
       "49,996  'LdvtNHmd5f5iJSxFroRbmaP5VkiDc7PEv6kzfOq8/j8='  20150321  2         0         0         0          10         9          2534.337            '2015'  '03'     '21'   Timestamp('2015-03-21 00:00:00')  20151212\n",
       "49,997  'LdvtNHmd5f5iJSxFroRbmaP5VkiDc7PEv6kzfOq8/j8='  20150601  0         1         0         0          0          1          98.31299999999999   '2015'  '06'     '01'   Timestamp('2015-06-01 00:00:00')  20151212\n",
       "49,998  'LdvtNHmd5f5iJSxFroRbmaP5VkiDc7PEv6kzfOq8/j8='  20150902  0         0         0         0          14         13         3521.985            '2015'  '09'     '02'   Timestamp('2015-09-02 00:00:00')  20151212\n",
       "49,999  'LdvtNHmd5f5iJSxFroRbmaP5VkiDc7PEv6kzfOq8/j8='  20151212  0         0         0         0          6          6          1497.628            '2015'  '12'     '12'   Timestamp('2015-12-12 00:00:00')  20151212"
      ]
     },
     "execution_count": 17,
     "metadata": {},
     "output_type": "execute_result"
    }
   ],
   "source": [
    "sample"
   ]
  },
  {
   "cell_type": "code",
   "execution_count": 88,
   "id": "25d17cbf",
   "metadata": {
    "ExecuteTime": {
     "end_time": "2021-06-16T10:09:02.843874Z",
     "start_time": "2021-06-16T10:09:02.830092Z"
    }
   },
   "outputs": [
    {
     "data": {
      "text/plain": [
       "Expression = ((max_date_uid // 10000) * 12)\n",
       "Length: 50,000 dtype: int64 (expression)\n",
       "----------------------------------------\n",
       "    0  24180\n",
       "    1  24180\n",
       "    2  24204\n",
       "    3  24204\n",
       "    4  24204\n",
       "    ...     \n",
       "49995  24192\n",
       "49996  24180\n",
       "49997  24180\n",
       "49998  24180\n",
       "49999  24180"
      ]
     },
     "execution_count": 88,
     "metadata": {},
     "output_type": "execute_result"
    }
   ],
   "source": [
    "(sample['max_date_uid'] // 10000) * 12"
   ]
  },
  {
   "cell_type": "code",
   "execution_count": 18,
   "id": "6e879026",
   "metadata": {
    "ExecuteTime": {
     "end_time": "2021-06-16T10:14:12.049772Z",
     "start_time": "2021-06-16T10:14:12.046453Z"
    }
   },
   "outputs": [],
   "source": [
    "def to_days(series):\n",
    "    return series % 100 + ((series // 100) % 100) * 30 + (series // 10000) * 365"
   ]
  },
  {
   "cell_type": "code",
   "execution_count": 19,
   "id": "16d328ba",
   "metadata": {
    "ExecuteTime": {
     "end_time": "2021-06-16T10:14:26.303174Z",
     "start_time": "2021-06-16T10:14:26.284071Z"
    }
   },
   "outputs": [
    {
     "data": {
      "text/plain": [
       "Expression = (((max_date_uid % 100) + (((max_date_uid // 100) % 100) *...\n",
       "Length: 50,000 dtype: int64 (expression)\n",
       "----------------------------------------\n",
       "    0  735694\n",
       "    1  735694\n",
       "    2  736241\n",
       "    3  736241\n",
       "    4  736241\n",
       "     ...     \n",
       "49995  736193\n",
       "49996  735847\n",
       "49997  735847\n",
       "49998  735847\n",
       "49999  735847"
      ]
     },
     "execution_count": 19,
     "metadata": {},
     "output_type": "execute_result"
    }
   ],
   "source": [
    "to_days(sample['max_date_uid'])"
   ]
  },
  {
   "cell_type": "code",
   "execution_count": 102,
   "id": "2f9780d9",
   "metadata": {
    "ExecuteTime": {
     "end_time": "2021-06-16T10:14:55.216369Z",
     "start_time": "2021-06-16T10:14:55.209735Z"
    }
   },
   "outputs": [],
   "source": [
    "res1 = (to_days(sample['max_date_uid']) - to_days(sample['date'])) > 6 * 30"
   ]
  },
  {
   "cell_type": "code",
   "execution_count": 95,
   "id": "803206e6",
   "metadata": {
    "ExecuteTime": {
     "end_time": "2021-06-16T10:10:48.384359Z",
     "start_time": "2021-06-16T10:10:48.381213Z"
    }
   },
   "outputs": [],
   "source": [
    "sample.select(res1)"
   ]
  },
  {
   "cell_type": "code",
   "execution_count": 103,
   "id": "6523d95b",
   "metadata": {
    "ExecuteTime": {
     "end_time": "2021-06-16T10:15:03.520939Z",
     "start_time": "2021-06-16T10:15:03.409988Z"
    }
   },
   "outputs": [
    {
     "data": {
      "text/html": [
       "<table>\n",
       "<thead>\n",
       "<tr><th>#                                 </th><th>msno                                          </th><th>date    </th><th>num_25  </th><th>num_50  </th><th>num_75  </th><th>num_985  </th><th>num_100  </th><th>num_unq  </th><th>total_secs        </th><th>year  </th><th>month  </th><th>day  </th><th>date_formatted                  </th><th>max_date_uid  </th></tr>\n",
       "</thead>\n",
       "<tbody>\n",
       "<tr><td><i style='opacity: 0.6'>0</i>     </td><td>&#x27;yxiEWwE9VR5utpUecLxVdQ5B7NysUPfrNtGINaM2zA8=&#x27;</td><td>20150105</td><td>3       </td><td>3       </td><td>0       </td><td>0        </td><td>68       </td><td>36       </td><td>17364.956000000002</td><td>&#x27;2015&#x27;</td><td>&#x27;01&#x27;   </td><td>&#x27;05&#x27; </td><td>Timestamp(&#x27;2015-01-05 00:00:00&#x27;)</td><td>20170106      </td></tr>\n",
       "<tr><td><i style='opacity: 0.6'>1</i>     </td><td>&#x27;yxiEWwE9VR5utpUecLxVdQ5B7NysUPfrNtGINaM2zA8=&#x27;</td><td>20150306</td><td>1       </td><td>0       </td><td>1       </td><td>1        </td><td>97       </td><td>27       </td><td>24667.317000000003</td><td>&#x27;2015&#x27;</td><td>&#x27;03&#x27;   </td><td>&#x27;06&#x27; </td><td>Timestamp(&#x27;2015-03-06 00:00:00&#x27;)</td><td>20170106      </td></tr>\n",
       "<tr><td><i style='opacity: 0.6'>2</i>     </td><td>&#x27;yxiEWwE9VR5utpUecLxVdQ5B7NysUPfrNtGINaM2zA8=&#x27;</td><td>20150501</td><td>3       </td><td>0       </td><td>0       </td><td>0        </td><td>38       </td><td>38       </td><td>9649.029          </td><td>&#x27;2015&#x27;</td><td>&#x27;05&#x27;   </td><td>&#x27;01&#x27; </td><td>Timestamp(&#x27;2015-05-01 00:00:00&#x27;)</td><td>20170106      </td></tr>\n",
       "<tr><td><i style='opacity: 0.6'>3</i>     </td><td>&#x27;yxiEWwE9VR5utpUecLxVdQ5B7NysUPfrNtGINaM2zA8=&#x27;</td><td>20150702</td><td>4       </td><td>0       </td><td>1       </td><td>1        </td><td>33       </td><td>10       </td><td>10021.52          </td><td>&#x27;2015&#x27;</td><td>&#x27;07&#x27;   </td><td>&#x27;02&#x27; </td><td>Timestamp(&#x27;2015-07-02 00:00:00&#x27;)</td><td>20170106      </td></tr>\n",
       "<tr><td><i style='opacity: 0.6'>4</i>     </td><td>&#x27;yxiEWwE9VR5utpUecLxVdQ5B7NysUPfrNtGINaM2zA8=&#x27;</td><td>20150830</td><td>3       </td><td>1       </td><td>0       </td><td>0        </td><td>4        </td><td>7        </td><td>1119.555          </td><td>&#x27;2015&#x27;</td><td>&#x27;08&#x27;   </td><td>&#x27;30&#x27; </td><td>Timestamp(&#x27;2015-08-30 00:00:00&#x27;)</td><td>20170106      </td></tr>\n",
       "<tr><td>...                               </td><td>...                                           </td><td>...     </td><td>...     </td><td>...     </td><td>...     </td><td>...      </td><td>...      </td><td>...      </td><td>...               </td><td>...   </td><td>...    </td><td>...  </td><td>...                             </td><td>...           </td></tr>\n",
       "<tr><td><i style='opacity: 0.6'>29,012</i></td><td>&#x27;w8Wv1H79RS3LL5Q75COIm/rt2V8B6uOr/7V8Wzw3SKM=&#x27;</td><td>20151229</td><td>1       </td><td>1       </td><td>1       </td><td>0        </td><td>9        </td><td>10       </td><td>2381.3360000000002</td><td>&#x27;2015&#x27;</td><td>&#x27;12&#x27;   </td><td>&#x27;29&#x27; </td><td>Timestamp(&#x27;2015-12-29 00:00:00&#x27;)</td><td>20161123      </td></tr>\n",
       "<tr><td><i style='opacity: 0.6'>29,013</i></td><td>&#x27;w8Wv1H79RS3LL5Q75COIm/rt2V8B6uOr/7V8Wzw3SKM=&#x27;</td><td>20160221</td><td>5       </td><td>1       </td><td>1       </td><td>1        </td><td>6        </td><td>12       </td><td>2260.229          </td><td>&#x27;2016&#x27;</td><td>&#x27;02&#x27;   </td><td>&#x27;21&#x27; </td><td>Timestamp(&#x27;2016-02-21 00:00:00&#x27;)</td><td>20161123      </td></tr>\n",
       "<tr><td><i style='opacity: 0.6'>29,014</i></td><td>&#x27;w8Wv1H79RS3LL5Q75COIm/rt2V8B6uOr/7V8Wzw3SKM=&#x27;</td><td>20160414</td><td>10      </td><td>2       </td><td>0       </td><td>1        </td><td>7        </td><td>17       </td><td>2291.386          </td><td>&#x27;2016&#x27;</td><td>&#x27;04&#x27;   </td><td>&#x27;14&#x27; </td><td>Timestamp(&#x27;2016-04-14 00:00:00&#x27;)</td><td>20161123      </td></tr>\n",
       "<tr><td><i style='opacity: 0.6'>29,015</i></td><td>&#x27;LdvtNHmd5f5iJSxFroRbmaP5VkiDc7PEv6kzfOq8/j8=&#x27;</td><td>20150321</td><td>2       </td><td>0       </td><td>0       </td><td>0        </td><td>10       </td><td>9        </td><td>2534.337          </td><td>&#x27;2015&#x27;</td><td>&#x27;03&#x27;   </td><td>&#x27;21&#x27; </td><td>Timestamp(&#x27;2015-03-21 00:00:00&#x27;)</td><td>20151212      </td></tr>\n",
       "<tr><td><i style='opacity: 0.6'>29,016</i></td><td>&#x27;LdvtNHmd5f5iJSxFroRbmaP5VkiDc7PEv6kzfOq8/j8=&#x27;</td><td>20150601</td><td>0       </td><td>1       </td><td>0       </td><td>0        </td><td>0        </td><td>1        </td><td>98.31299999999999 </td><td>&#x27;2015&#x27;</td><td>&#x27;06&#x27;   </td><td>&#x27;01&#x27; </td><td>Timestamp(&#x27;2015-06-01 00:00:00&#x27;)</td><td>20151212      </td></tr>\n",
       "</tbody>\n",
       "</table>"
      ],
      "text/plain": [
       "#       msno                                            date      num_25    num_50    num_75    num_985    num_100    num_unq    total_secs          year    month    day    date_formatted                    max_date_uid\n",
       "0       'yxiEWwE9VR5utpUecLxVdQ5B7NysUPfrNtGINaM2zA8='  20150105  3         3         0         0          68         36         17364.956000000002  '2015'  '01'     '05'   Timestamp('2015-01-05 00:00:00')  20170106\n",
       "1       'yxiEWwE9VR5utpUecLxVdQ5B7NysUPfrNtGINaM2zA8='  20150306  1         0         1         1          97         27         24667.317000000003  '2015'  '03'     '06'   Timestamp('2015-03-06 00:00:00')  20170106\n",
       "2       'yxiEWwE9VR5utpUecLxVdQ5B7NysUPfrNtGINaM2zA8='  20150501  3         0         0         0          38         38         9649.029            '2015'  '05'     '01'   Timestamp('2015-05-01 00:00:00')  20170106\n",
       "3       'yxiEWwE9VR5utpUecLxVdQ5B7NysUPfrNtGINaM2zA8='  20150702  4         0         1         1          33         10         10021.52            '2015'  '07'     '02'   Timestamp('2015-07-02 00:00:00')  20170106\n",
       "4       'yxiEWwE9VR5utpUecLxVdQ5B7NysUPfrNtGINaM2zA8='  20150830  3         1         0         0          4          7          1119.555            '2015'  '08'     '30'   Timestamp('2015-08-30 00:00:00')  20170106\n",
       "...     ...                                             ...       ...       ...       ...       ...        ...        ...        ...                 ...     ...      ...    ...                               ...\n",
       "29,012  'w8Wv1H79RS3LL5Q75COIm/rt2V8B6uOr/7V8Wzw3SKM='  20151229  1         1         1         0          9          10         2381.3360000000002  '2015'  '12'     '29'   Timestamp('2015-12-29 00:00:00')  20161123\n",
       "29,013  'w8Wv1H79RS3LL5Q75COIm/rt2V8B6uOr/7V8Wzw3SKM='  20160221  5         1         1         1          6          12         2260.229            '2016'  '02'     '21'   Timestamp('2016-02-21 00:00:00')  20161123\n",
       "29,014  'w8Wv1H79RS3LL5Q75COIm/rt2V8B6uOr/7V8Wzw3SKM='  20160414  10        2         0         1          7          17         2291.386            '2016'  '04'     '14'   Timestamp('2016-04-14 00:00:00')  20161123\n",
       "29,015  'LdvtNHmd5f5iJSxFroRbmaP5VkiDc7PEv6kzfOq8/j8='  20150321  2         0         0         0          10         9          2534.337            '2015'  '03'     '21'   Timestamp('2015-03-21 00:00:00')  20151212\n",
       "29,016  'LdvtNHmd5f5iJSxFroRbmaP5VkiDc7PEv6kzfOq8/j8='  20150601  0         1         0         0          0          1          98.31299999999999   '2015'  '06'     '01'   Timestamp('2015-06-01 00:00:00')  20151212"
      ]
     },
     "execution_count": 103,
     "metadata": {},
     "output_type": "execute_result"
    }
   ],
   "source": [
    "sample[res1]"
   ]
  },
  {
   "cell_type": "code",
   "execution_count": 20,
   "id": "76111eab",
   "metadata": {
    "ExecuteTime": {
     "end_time": "2021-06-16T10:11:39.154995Z",
     "start_time": "2021-06-16T10:11:39.097377Z"
    }
   },
   "outputs": [
    {
     "data": {
      "text/html": [
       "<table>\n",
       "<thead>\n",
       "<tr><th>#                                 </th><th>msno                                          </th><th>date    </th><th>num_25  </th><th>num_50  </th><th>num_75  </th><th>num_985  </th><th>num_100  </th><th>num_unq  </th><th>total_secs        </th><th>year  </th><th>month  </th><th>day  </th><th>date_formatted                  </th><th>max_date_uid  </th></tr>\n",
       "</thead>\n",
       "<tbody>\n",
       "<tr><td><i style='opacity: 0.6'>0</i>     </td><td>&#x27;rxIP2f2aN0rYNp+toI0Obt/N/FYQX8hcO1fTmmy2h34=&#x27;</td><td>20150513</td><td>0       </td><td>0       </td><td>0       </td><td>0        </td><td>1        </td><td>1        </td><td>280.335           </td><td>&#x27;2015&#x27;</td><td>&#x27;05&#x27;   </td><td>&#x27;13&#x27; </td><td>Timestamp(&#x27;2015-05-13 00:00:00&#x27;)</td><td>20150709      </td></tr>\n",
       "<tr><td><i style='opacity: 0.6'>1</i>     </td><td>&#x27;rxIP2f2aN0rYNp+toI0Obt/N/FYQX8hcO1fTmmy2h34=&#x27;</td><td>20150709</td><td>9       </td><td>1       </td><td>0       </td><td>0        </td><td>7        </td><td>11       </td><td>1658.9479999999999</td><td>&#x27;2015&#x27;</td><td>&#x27;07&#x27;   </td><td>&#x27;09&#x27; </td><td>Timestamp(&#x27;2015-07-09 00:00:00&#x27;)</td><td>20150709      </td></tr>\n",
       "<tr><td><i style='opacity: 0.6'>2</i>     </td><td>&#x27;yxiEWwE9VR5utpUecLxVdQ5B7NysUPfrNtGINaM2zA8=&#x27;</td><td>20150105</td><td>3       </td><td>3       </td><td>0       </td><td>0        </td><td>68       </td><td>36       </td><td>17364.956000000002</td><td>&#x27;2015&#x27;</td><td>&#x27;01&#x27;   </td><td>&#x27;05&#x27; </td><td>Timestamp(&#x27;2015-01-05 00:00:00&#x27;)</td><td>20170106      </td></tr>\n",
       "<tr><td><i style='opacity: 0.6'>3</i>     </td><td>&#x27;yxiEWwE9VR5utpUecLxVdQ5B7NysUPfrNtGINaM2zA8=&#x27;</td><td>20150306</td><td>1       </td><td>0       </td><td>1       </td><td>1        </td><td>97       </td><td>27       </td><td>24667.317000000003</td><td>&#x27;2015&#x27;</td><td>&#x27;03&#x27;   </td><td>&#x27;06&#x27; </td><td>Timestamp(&#x27;2015-03-06 00:00:00&#x27;)</td><td>20170106      </td></tr>\n",
       "<tr><td><i style='opacity: 0.6'>4</i>     </td><td>&#x27;yxiEWwE9VR5utpUecLxVdQ5B7NysUPfrNtGINaM2zA8=&#x27;</td><td>20150501</td><td>3       </td><td>0       </td><td>0       </td><td>0        </td><td>38       </td><td>38       </td><td>9649.029          </td><td>&#x27;2015&#x27;</td><td>&#x27;05&#x27;   </td><td>&#x27;01&#x27; </td><td>Timestamp(&#x27;2015-05-01 00:00:00&#x27;)</td><td>20170106      </td></tr>\n",
       "<tr><td>...                               </td><td>...                                           </td><td>...     </td><td>...     </td><td>...     </td><td>...     </td><td>...      </td><td>...      </td><td>...      </td><td>...               </td><td>...   </td><td>...    </td><td>...  </td><td>...                             </td><td>...           </td></tr>\n",
       "<tr><td><i style='opacity: 0.6'>49,995</i></td><td>&#x27;w8Wv1H79RS3LL5Q75COIm/rt2V8B6uOr/7V8Wzw3SKM=&#x27;</td><td>20161123</td><td>2       </td><td>1       </td><td>0       </td><td>1        </td><td>10       </td><td>14       </td><td>3048.51           </td><td>&#x27;2016&#x27;</td><td>&#x27;11&#x27;   </td><td>&#x27;23&#x27; </td><td>Timestamp(&#x27;2016-11-23 00:00:00&#x27;)</td><td>20161123      </td></tr>\n",
       "<tr><td><i style='opacity: 0.6'>49,996</i></td><td>&#x27;LdvtNHmd5f5iJSxFroRbmaP5VkiDc7PEv6kzfOq8/j8=&#x27;</td><td>20150321</td><td>2       </td><td>0       </td><td>0       </td><td>0        </td><td>10       </td><td>9        </td><td>2534.337          </td><td>&#x27;2015&#x27;</td><td>&#x27;03&#x27;   </td><td>&#x27;21&#x27; </td><td>Timestamp(&#x27;2015-03-21 00:00:00&#x27;)</td><td>20151212      </td></tr>\n",
       "<tr><td><i style='opacity: 0.6'>49,997</i></td><td>&#x27;LdvtNHmd5f5iJSxFroRbmaP5VkiDc7PEv6kzfOq8/j8=&#x27;</td><td>20150601</td><td>0       </td><td>1       </td><td>0       </td><td>0        </td><td>0        </td><td>1        </td><td>98.31299999999999 </td><td>&#x27;2015&#x27;</td><td>&#x27;06&#x27;   </td><td>&#x27;01&#x27; </td><td>Timestamp(&#x27;2015-06-01 00:00:00&#x27;)</td><td>20151212      </td></tr>\n",
       "<tr><td><i style='opacity: 0.6'>49,998</i></td><td>&#x27;LdvtNHmd5f5iJSxFroRbmaP5VkiDc7PEv6kzfOq8/j8=&#x27;</td><td>20150902</td><td>0       </td><td>0       </td><td>0       </td><td>0        </td><td>14       </td><td>13       </td><td>3521.985          </td><td>&#x27;2015&#x27;</td><td>&#x27;09&#x27;   </td><td>&#x27;02&#x27; </td><td>Timestamp(&#x27;2015-09-02 00:00:00&#x27;)</td><td>20151212      </td></tr>\n",
       "<tr><td><i style='opacity: 0.6'>49,999</i></td><td>&#x27;LdvtNHmd5f5iJSxFroRbmaP5VkiDc7PEv6kzfOq8/j8=&#x27;</td><td>20151212</td><td>0       </td><td>0       </td><td>0       </td><td>0        </td><td>6        </td><td>6        </td><td>1497.628          </td><td>&#x27;2015&#x27;</td><td>&#x27;12&#x27;   </td><td>&#x27;12&#x27; </td><td>Timestamp(&#x27;2015-12-12 00:00:00&#x27;)</td><td>20151212      </td></tr>\n",
       "</tbody>\n",
       "</table>"
      ],
      "text/plain": [
       "#       msno                                            date      num_25    num_50    num_75    num_985    num_100    num_unq    total_secs          year    month    day    date_formatted                    max_date_uid\n",
       "0       'rxIP2f2aN0rYNp+toI0Obt/N/FYQX8hcO1fTmmy2h34='  20150513  0         0         0         0          1          1          280.335             '2015'  '05'     '13'   Timestamp('2015-05-13 00:00:00')  20150709\n",
       "1       'rxIP2f2aN0rYNp+toI0Obt/N/FYQX8hcO1fTmmy2h34='  20150709  9         1         0         0          7          11         1658.9479999999999  '2015'  '07'     '09'   Timestamp('2015-07-09 00:00:00')  20150709\n",
       "2       'yxiEWwE9VR5utpUecLxVdQ5B7NysUPfrNtGINaM2zA8='  20150105  3         3         0         0          68         36         17364.956000000002  '2015'  '01'     '05'   Timestamp('2015-01-05 00:00:00')  20170106\n",
       "3       'yxiEWwE9VR5utpUecLxVdQ5B7NysUPfrNtGINaM2zA8='  20150306  1         0         1         1          97         27         24667.317000000003  '2015'  '03'     '06'   Timestamp('2015-03-06 00:00:00')  20170106\n",
       "4       'yxiEWwE9VR5utpUecLxVdQ5B7NysUPfrNtGINaM2zA8='  20150501  3         0         0         0          38         38         9649.029            '2015'  '05'     '01'   Timestamp('2015-05-01 00:00:00')  20170106\n",
       "...     ...                                             ...       ...       ...       ...       ...        ...        ...        ...                 ...     ...      ...    ...                               ...\n",
       "49,995  'w8Wv1H79RS3LL5Q75COIm/rt2V8B6uOr/7V8Wzw3SKM='  20161123  2         1         0         1          10         14         3048.51             '2016'  '11'     '23'   Timestamp('2016-11-23 00:00:00')  20161123\n",
       "49,996  'LdvtNHmd5f5iJSxFroRbmaP5VkiDc7PEv6kzfOq8/j8='  20150321  2         0         0         0          10         9          2534.337            '2015'  '03'     '21'   Timestamp('2015-03-21 00:00:00')  20151212\n",
       "49,997  'LdvtNHmd5f5iJSxFroRbmaP5VkiDc7PEv6kzfOq8/j8='  20150601  0         1         0         0          0          1          98.31299999999999   '2015'  '06'     '01'   Timestamp('2015-06-01 00:00:00')  20151212\n",
       "49,998  'LdvtNHmd5f5iJSxFroRbmaP5VkiDc7PEv6kzfOq8/j8='  20150902  0         0         0         0          14         13         3521.985            '2015'  '09'     '02'   Timestamp('2015-09-02 00:00:00')  20151212\n",
       "49,999  'LdvtNHmd5f5iJSxFroRbmaP5VkiDc7PEv6kzfOq8/j8='  20151212  0         0         0         0          6          6          1497.628            '2015'  '12'     '12'   Timestamp('2015-12-12 00:00:00')  20151212"
      ]
     },
     "execution_count": 20,
     "metadata": {},
     "output_type": "execute_result"
    }
   ],
   "source": [
    "sample"
   ]
  },
  {
   "cell_type": "code",
   "execution_count": 81,
   "id": "f86bbecc",
   "metadata": {
    "ExecuteTime": {
     "end_time": "2021-06-16T10:06:25.625131Z",
     "start_time": "2021-06-16T10:06:25.622273Z"
    }
   },
   "outputs": [],
   "source": [
    "s1, s2 = 20150720, 20140930"
   ]
  },
  {
   "cell_type": "code",
   "execution_count": 82,
   "id": "2024febd",
   "metadata": {
    "ExecuteTime": {
     "end_time": "2021-06-16T10:06:38.052263Z",
     "start_time": "2021-06-16T10:06:38.047547Z"
    }
   },
   "outputs": [
    {
     "data": {
      "text/plain": [
       "331"
      ]
     },
     "execution_count": 82,
     "metadata": {},
     "output_type": "execute_result"
    }
   ],
   "source": [
    "(2015 * 365 + 7 * 12 + 20) - (2014 * 365 + 9 * 12 + 30)"
   ]
  },
  {
   "cell_type": "code",
   "execution_count": 83,
   "id": "cf190ebe",
   "metadata": {
    "ExecuteTime": {
     "end_time": "2021-06-16T10:06:46.733270Z",
     "start_time": "2021-06-16T10:06:46.728665Z"
    }
   },
   "outputs": [
    {
     "data": {
      "text/plain": [
       "11.0"
      ]
     },
     "execution_count": 83,
     "metadata": {},
     "output_type": "execute_result"
    }
   ],
   "source": [
    "330/ 30"
   ]
  },
  {
   "cell_type": "code",
   "execution_count": 61,
   "id": "4f8abcb0",
   "metadata": {
    "ExecuteTime": {
     "end_time": "2021-06-16T09:54:29.620688Z",
     "start_time": "2021-06-16T09:54:29.321665Z"
    }
   },
   "outputs": [],
   "source": [
    "res = sample.groupby(['msno',\n",
    "                vaex.BinnerTime(sample.date_formatted,\n",
    "                                resolution='M',\n",
    "                                every=2)]).agg({'avg_num_unq_2_weeks': vaex.agg.mean(sample.num_unq)})"
   ]
  },
  {
   "cell_type": "code",
   "execution_count": 66,
   "id": "4634a0a9",
   "metadata": {
    "ExecuteTime": {
     "end_time": "2021-06-16T09:54:56.463526Z",
     "start_time": "2021-06-16T09:54:56.453203Z"
    }
   },
   "outputs": [
    {
     "data": {
      "text/html": [
       "<table>\n",
       "<thead>\n",
       "<tr><th>#                                 </th><th>msno                                          </th><th>date_formatted  </th><th>avg_num_unq_biweekly  </th></tr>\n",
       "</thead>\n",
       "<tbody>\n",
       "<tr><td><i style='opacity: 0.6'>0</i>     </td><td>&#x27;rxIP2f2aN0rYNp+toI0Obt/N/FYQX8hcO1fTmmy2h34=&#x27;</td><td>2015-04         </td><td>1.0                   </td></tr>\n",
       "<tr><td><i style='opacity: 0.6'>1</i>     </td><td>&#x27;rxIP2f2aN0rYNp+toI0Obt/N/FYQX8hcO1fTmmy2h34=&#x27;</td><td>2015-06         </td><td>11.0                  </td></tr>\n",
       "<tr><td><i style='opacity: 0.6'>2</i>     </td><td>&#x27;yxiEWwE9VR5utpUecLxVdQ5B7NysUPfrNtGINaM2zA8=&#x27;</td><td>2014-12         </td><td>36.0                  </td></tr>\n",
       "<tr><td><i style='opacity: 0.6'>3</i>     </td><td>&#x27;yxiEWwE9VR5utpUecLxVdQ5B7NysUPfrNtGINaM2zA8=&#x27;</td><td>2015-02         </td><td>27.0                  </td></tr>\n",
       "<tr><td><i style='opacity: 0.6'>4</i>     </td><td>&#x27;yxiEWwE9VR5utpUecLxVdQ5B7NysUPfrNtGINaM2zA8=&#x27;</td><td>2015-04         </td><td>38.0                  </td></tr>\n",
       "<tr><td>...                               </td><td>...                                           </td><td>...             </td><td>...                   </td></tr>\n",
       "<tr><td><i style='opacity: 0.6'>47,760</i></td><td>&#x27;O7ueKy1Wo8k64CWkxBnG4iMje0m9t3KfZMpiS2CdCSM=&#x27;</td><td>2016-10         </td><td>24.0                  </td></tr>\n",
       "<tr><td><i style='opacity: 0.6'>47,761</i></td><td>&#x27;O7ueKy1Wo8k64CWkxBnG4iMje0m9t3KfZMpiS2CdCSM=&#x27;</td><td>2016-12         </td><td>37.0                  </td></tr>\n",
       "<tr><td><i style='opacity: 0.6'>47,762</i></td><td>&#x27;nSTyR6e5MmKwIvWplfmBFx8izI94Xj9KMeFiCacJbVY=&#x27;</td><td>2016-04         </td><td>12.0                  </td></tr>\n",
       "<tr><td><i style='opacity: 0.6'>47,763</i></td><td>&#x27;nSTyR6e5MmKwIvWplfmBFx8izI94Xj9KMeFiCacJbVY=&#x27;</td><td>2016-06         </td><td>16.0                  </td></tr>\n",
       "<tr><td><i style='opacity: 0.6'>47,764</i></td><td>&#x27;nSTyR6e5MmKwIvWplfmBFx8izI94Xj9KMeFiCacJbVY=&#x27;</td><td>2016-10         </td><td>58.0                  </td></tr>\n",
       "</tbody>\n",
       "</table>"
      ],
      "text/plain": [
       "#       msno                                            date_formatted    avg_num_unq_biweekly\n",
       "0       'rxIP2f2aN0rYNp+toI0Obt/N/FYQX8hcO1fTmmy2h34='  2015-04           1.0\n",
       "1       'rxIP2f2aN0rYNp+toI0Obt/N/FYQX8hcO1fTmmy2h34='  2015-06           11.0\n",
       "2       'yxiEWwE9VR5utpUecLxVdQ5B7NysUPfrNtGINaM2zA8='  2014-12           36.0\n",
       "3       'yxiEWwE9VR5utpUecLxVdQ5B7NysUPfrNtGINaM2zA8='  2015-02           27.0\n",
       "4       'yxiEWwE9VR5utpUecLxVdQ5B7NysUPfrNtGINaM2zA8='  2015-04           38.0\n",
       "...     ...                                             ...               ...\n",
       "47,760  'O7ueKy1Wo8k64CWkxBnG4iMje0m9t3KfZMpiS2CdCSM='  2016-10           24.0\n",
       "47,761  'O7ueKy1Wo8k64CWkxBnG4iMje0m9t3KfZMpiS2CdCSM='  2016-12           37.0\n",
       "47,762  'nSTyR6e5MmKwIvWplfmBFx8izI94Xj9KMeFiCacJbVY='  2016-04           12.0\n",
       "47,763  'nSTyR6e5MmKwIvWplfmBFx8izI94Xj9KMeFiCacJbVY='  2016-06           16.0\n",
       "47,764  'nSTyR6e5MmKwIvWplfmBFx8izI94Xj9KMeFiCacJbVY='  2016-10           58.0"
      ]
     },
     "execution_count": 66,
     "metadata": {},
     "output_type": "execute_result"
    }
   ],
   "source": [
    "res"
   ]
  },
  {
   "cell_type": "code",
   "execution_count": 104,
   "id": "925eb8cd",
   "metadata": {
    "ExecuteTime": {
     "end_time": "2021-06-16T10:20:56.413944Z",
     "start_time": "2021-06-16T10:20:56.359725Z"
    }
   },
   "outputs": [
    {
     "data": {
      "text/html": [
       "<table>\n",
       "<thead>\n",
       "<tr><th>#                                 </th><th>msno                                          </th><th>date    </th><th>num_25  </th><th>num_50  </th><th>num_75  </th><th>num_985  </th><th>num_100  </th><th>num_unq  </th><th>total_secs        </th><th>year  </th><th>month  </th><th>day  </th><th>date_formatted                  </th><th>max_date_uid  </th></tr>\n",
       "</thead>\n",
       "<tbody>\n",
       "<tr><td><i style='opacity: 0.6'>0</i>     </td><td>&#x27;rxIP2f2aN0rYNp+toI0Obt/N/FYQX8hcO1fTmmy2h34=&#x27;</td><td>20150513</td><td>0       </td><td>0       </td><td>0       </td><td>0        </td><td>1        </td><td>1        </td><td>280.335           </td><td>&#x27;2015&#x27;</td><td>&#x27;05&#x27;   </td><td>&#x27;13&#x27; </td><td>Timestamp(&#x27;2015-05-13 00:00:00&#x27;)</td><td>20150709      </td></tr>\n",
       "<tr><td><i style='opacity: 0.6'>1</i>     </td><td>&#x27;rxIP2f2aN0rYNp+toI0Obt/N/FYQX8hcO1fTmmy2h34=&#x27;</td><td>20150709</td><td>9       </td><td>1       </td><td>0       </td><td>0        </td><td>7        </td><td>11       </td><td>1658.9479999999999</td><td>&#x27;2015&#x27;</td><td>&#x27;07&#x27;   </td><td>&#x27;09&#x27; </td><td>Timestamp(&#x27;2015-07-09 00:00:00&#x27;)</td><td>20150709      </td></tr>\n",
       "<tr><td><i style='opacity: 0.6'>2</i>     </td><td>&#x27;yxiEWwE9VR5utpUecLxVdQ5B7NysUPfrNtGINaM2zA8=&#x27;</td><td>20150105</td><td>3       </td><td>3       </td><td>0       </td><td>0        </td><td>68       </td><td>36       </td><td>17364.956000000002</td><td>&#x27;2015&#x27;</td><td>&#x27;01&#x27;   </td><td>&#x27;05&#x27; </td><td>Timestamp(&#x27;2015-01-05 00:00:00&#x27;)</td><td>20170106      </td></tr>\n",
       "<tr><td><i style='opacity: 0.6'>3</i>     </td><td>&#x27;yxiEWwE9VR5utpUecLxVdQ5B7NysUPfrNtGINaM2zA8=&#x27;</td><td>20150306</td><td>1       </td><td>0       </td><td>1       </td><td>1        </td><td>97       </td><td>27       </td><td>24667.317000000003</td><td>&#x27;2015&#x27;</td><td>&#x27;03&#x27;   </td><td>&#x27;06&#x27; </td><td>Timestamp(&#x27;2015-03-06 00:00:00&#x27;)</td><td>20170106      </td></tr>\n",
       "<tr><td><i style='opacity: 0.6'>4</i>     </td><td>&#x27;yxiEWwE9VR5utpUecLxVdQ5B7NysUPfrNtGINaM2zA8=&#x27;</td><td>20150501</td><td>3       </td><td>0       </td><td>0       </td><td>0        </td><td>38       </td><td>38       </td><td>9649.029          </td><td>&#x27;2015&#x27;</td><td>&#x27;05&#x27;   </td><td>&#x27;01&#x27; </td><td>Timestamp(&#x27;2015-05-01 00:00:00&#x27;)</td><td>20170106      </td></tr>\n",
       "<tr><td>...                               </td><td>...                                           </td><td>...     </td><td>...     </td><td>...     </td><td>...     </td><td>...      </td><td>...      </td><td>...      </td><td>...               </td><td>...   </td><td>...    </td><td>...  </td><td>...                             </td><td>...           </td></tr>\n",
       "<tr><td><i style='opacity: 0.6'>49,995</i></td><td>&#x27;w8Wv1H79RS3LL5Q75COIm/rt2V8B6uOr/7V8Wzw3SKM=&#x27;</td><td>20161123</td><td>2       </td><td>1       </td><td>0       </td><td>1        </td><td>10       </td><td>14       </td><td>3048.51           </td><td>&#x27;2016&#x27;</td><td>&#x27;11&#x27;   </td><td>&#x27;23&#x27; </td><td>Timestamp(&#x27;2016-11-23 00:00:00&#x27;)</td><td>20161123      </td></tr>\n",
       "<tr><td><i style='opacity: 0.6'>49,996</i></td><td>&#x27;LdvtNHmd5f5iJSxFroRbmaP5VkiDc7PEv6kzfOq8/j8=&#x27;</td><td>20150321</td><td>2       </td><td>0       </td><td>0       </td><td>0        </td><td>10       </td><td>9        </td><td>2534.337          </td><td>&#x27;2015&#x27;</td><td>&#x27;03&#x27;   </td><td>&#x27;21&#x27; </td><td>Timestamp(&#x27;2015-03-21 00:00:00&#x27;)</td><td>20151212      </td></tr>\n",
       "<tr><td><i style='opacity: 0.6'>49,997</i></td><td>&#x27;LdvtNHmd5f5iJSxFroRbmaP5VkiDc7PEv6kzfOq8/j8=&#x27;</td><td>20150601</td><td>0       </td><td>1       </td><td>0       </td><td>0        </td><td>0        </td><td>1        </td><td>98.31299999999999 </td><td>&#x27;2015&#x27;</td><td>&#x27;06&#x27;   </td><td>&#x27;01&#x27; </td><td>Timestamp(&#x27;2015-06-01 00:00:00&#x27;)</td><td>20151212      </td></tr>\n",
       "<tr><td><i style='opacity: 0.6'>49,998</i></td><td>&#x27;LdvtNHmd5f5iJSxFroRbmaP5VkiDc7PEv6kzfOq8/j8=&#x27;</td><td>20150902</td><td>0       </td><td>0       </td><td>0       </td><td>0        </td><td>14       </td><td>13       </td><td>3521.985          </td><td>&#x27;2015&#x27;</td><td>&#x27;09&#x27;   </td><td>&#x27;02&#x27; </td><td>Timestamp(&#x27;2015-09-02 00:00:00&#x27;)</td><td>20151212      </td></tr>\n",
       "<tr><td><i style='opacity: 0.6'>49,999</i></td><td>&#x27;LdvtNHmd5f5iJSxFroRbmaP5VkiDc7PEv6kzfOq8/j8=&#x27;</td><td>20151212</td><td>0       </td><td>0       </td><td>0       </td><td>0        </td><td>6        </td><td>6        </td><td>1497.628          </td><td>&#x27;2015&#x27;</td><td>&#x27;12&#x27;   </td><td>&#x27;12&#x27; </td><td>Timestamp(&#x27;2015-12-12 00:00:00&#x27;)</td><td>20151212      </td></tr>\n",
       "</tbody>\n",
       "</table>"
      ],
      "text/plain": [
       "#       msno                                            date      num_25    num_50    num_75    num_985    num_100    num_unq    total_secs          year    month    day    date_formatted                    max_date_uid\n",
       "0       'rxIP2f2aN0rYNp+toI0Obt/N/FYQX8hcO1fTmmy2h34='  20150513  0         0         0         0          1          1          280.335             '2015'  '05'     '13'   Timestamp('2015-05-13 00:00:00')  20150709\n",
       "1       'rxIP2f2aN0rYNp+toI0Obt/N/FYQX8hcO1fTmmy2h34='  20150709  9         1         0         0          7          11         1658.9479999999999  '2015'  '07'     '09'   Timestamp('2015-07-09 00:00:00')  20150709\n",
       "2       'yxiEWwE9VR5utpUecLxVdQ5B7NysUPfrNtGINaM2zA8='  20150105  3         3         0         0          68         36         17364.956000000002  '2015'  '01'     '05'   Timestamp('2015-01-05 00:00:00')  20170106\n",
       "3       'yxiEWwE9VR5utpUecLxVdQ5B7NysUPfrNtGINaM2zA8='  20150306  1         0         1         1          97         27         24667.317000000003  '2015'  '03'     '06'   Timestamp('2015-03-06 00:00:00')  20170106\n",
       "4       'yxiEWwE9VR5utpUecLxVdQ5B7NysUPfrNtGINaM2zA8='  20150501  3         0         0         0          38         38         9649.029            '2015'  '05'     '01'   Timestamp('2015-05-01 00:00:00')  20170106\n",
       "...     ...                                             ...       ...       ...       ...       ...        ...        ...        ...                 ...     ...      ...    ...                               ...\n",
       "49,995  'w8Wv1H79RS3LL5Q75COIm/rt2V8B6uOr/7V8Wzw3SKM='  20161123  2         1         0         1          10         14         3048.51             '2016'  '11'     '23'   Timestamp('2016-11-23 00:00:00')  20161123\n",
       "49,996  'LdvtNHmd5f5iJSxFroRbmaP5VkiDc7PEv6kzfOq8/j8='  20150321  2         0         0         0          10         9          2534.337            '2015'  '03'     '21'   Timestamp('2015-03-21 00:00:00')  20151212\n",
       "49,997  'LdvtNHmd5f5iJSxFroRbmaP5VkiDc7PEv6kzfOq8/j8='  20150601  0         1         0         0          0          1          98.31299999999999   '2015'  '06'     '01'   Timestamp('2015-06-01 00:00:00')  20151212\n",
       "49,998  'LdvtNHmd5f5iJSxFroRbmaP5VkiDc7PEv6kzfOq8/j8='  20150902  0         0         0         0          14         13         3521.985            '2015'  '09'     '02'   Timestamp('2015-09-02 00:00:00')  20151212\n",
       "49,999  'LdvtNHmd5f5iJSxFroRbmaP5VkiDc7PEv6kzfOq8/j8='  20151212  0         0         0         0          6          6          1497.628            '2015'  '12'     '12'   Timestamp('2015-12-12 00:00:00')  20151212"
      ]
     },
     "execution_count": 104,
     "metadata": {},
     "output_type": "execute_result"
    }
   ],
   "source": [
    "sample"
   ]
  },
  {
   "cell_type": "markdown",
   "id": "0b901fa7",
   "metadata": {},
   "source": [
    "# num_unq aggregations"
   ]
  },
  {
   "cell_type": "code",
   "execution_count": 112,
   "id": "05a90643",
   "metadata": {
    "ExecuteTime": {
     "end_time": "2021-06-16T10:26:52.052514Z",
     "start_time": "2021-06-16T10:26:51.663908Z"
    }
   },
   "outputs": [
    {
     "data": {
      "text/html": [
       "<table>\n",
       "<thead>\n",
       "<tr><th>#                                 </th><th>msno                                          </th><th>date_formatted  </th><th>avg_num_unq_2_weeks  </th><th>sum_num_unq_2_weeks  </th></tr>\n",
       "</thead>\n",
       "<tbody>\n",
       "<tr><td><i style='opacity: 0.6'>0</i>     </td><td>&#x27;XSKxTn/s9fzMDRLHoI8Ouc8CSlW6PYT071JaBojv+p0=&#x27;</td><td>2015-01-22      </td><td>43.0                 </td><td>43                   </td></tr>\n",
       "<tr><td><i style='opacity: 0.6'>1</i>     </td><td>&#x27;XSKxTn/s9fzMDRLHoI8Ouc8CSlW6PYT071JaBojv+p0=&#x27;</td><td>2015-03-19      </td><td>150.0                </td><td>150                  </td></tr>\n",
       "<tr><td><i style='opacity: 0.6'>2</i>     </td><td>&#x27;XSKxTn/s9fzMDRLHoI8Ouc8CSlW6PYT071JaBojv+p0=&#x27;</td><td>2015-05-14      </td><td>22.0                 </td><td>22                   </td></tr>\n",
       "<tr><td><i style='opacity: 0.6'>3</i>     </td><td>&#x27;XSKxTn/s9fzMDRLHoI8Ouc8CSlW6PYT071JaBojv+p0=&#x27;</td><td>2015-08-06      </td><td>30.0                 </td><td>30                   </td></tr>\n",
       "<tr><td><i style='opacity: 0.6'>4</i>     </td><td>&#x27;XSKxTn/s9fzMDRLHoI8Ouc8CSlW6PYT071JaBojv+p0=&#x27;</td><td>2015-10-01      </td><td>31.0                 </td><td>31                   </td></tr>\n",
       "<tr><td>...                               </td><td>...                                           </td><td>...             </td><td>...                  </td><td>...                  </td></tr>\n",
       "<tr><td><i style='opacity: 0.6'>49,995</i></td><td>&#x27;eWCMedKf+yid9kFcC4kn1cBE2xEFdwojZTC5pxnznaU=&#x27;</td><td>2015-10-29      </td><td>98.0                 </td><td>98                   </td></tr>\n",
       "<tr><td><i style='opacity: 0.6'>49,996</i></td><td>&#x27;nUC1vXdNQKZap5i9aKiCGb5nV0d5JmrtNKBI1ybZNwo=&#x27;</td><td>2016-11-10      </td><td>1.0                  </td><td>1                    </td></tr>\n",
       "<tr><td><i style='opacity: 0.6'>49,997</i></td><td>&#x27;w6RFLkszYXEJUNw5rkJ51/D1KbXAdkyW8oBnOVuELa4=&#x27;</td><td>2016-08-18      </td><td>10.0                 </td><td>10                   </td></tr>\n",
       "<tr><td><i style='opacity: 0.6'>49,998</i></td><td>&#x27;w6RFLkszYXEJUNw5rkJ51/D1KbXAdkyW8oBnOVuELa4=&#x27;</td><td>2016-11-24      </td><td>5.0                  </td><td>5                    </td></tr>\n",
       "<tr><td><i style='opacity: 0.6'>49,999</i></td><td>&#x27;QwGyot0/sQZqCezMSuKXwo2P7gPZhgiFZOBLK40nMI0=&#x27;</td><td>2016-12-08      </td><td>11.0                 </td><td>11                   </td></tr>\n",
       "</tbody>\n",
       "</table>"
      ],
      "text/plain": [
       "#       msno                                            date_formatted    avg_num_unq_2_weeks    sum_num_unq_2_weeks\n",
       "0       'XSKxTn/s9fzMDRLHoI8Ouc8CSlW6PYT071JaBojv+p0='  2015-01-22        43.0                   43\n",
       "1       'XSKxTn/s9fzMDRLHoI8Ouc8CSlW6PYT071JaBojv+p0='  2015-03-19        150.0                  150\n",
       "2       'XSKxTn/s9fzMDRLHoI8Ouc8CSlW6PYT071JaBojv+p0='  2015-05-14        22.0                   22\n",
       "3       'XSKxTn/s9fzMDRLHoI8Ouc8CSlW6PYT071JaBojv+p0='  2015-08-06        30.0                   30\n",
       "4       'XSKxTn/s9fzMDRLHoI8Ouc8CSlW6PYT071JaBojv+p0='  2015-10-01        31.0                   31\n",
       "...     ...                                             ...               ...                    ...\n",
       "49,995  'eWCMedKf+yid9kFcC4kn1cBE2xEFdwojZTC5pxnznaU='  2015-10-29        98.0                   98\n",
       "49,996  'nUC1vXdNQKZap5i9aKiCGb5nV0d5JmrtNKBI1ybZNwo='  2016-11-10        1.0                    1\n",
       "49,997  'w6RFLkszYXEJUNw5rkJ51/D1KbXAdkyW8oBnOVuELa4='  2016-08-18        10.0                   10\n",
       "49,998  'w6RFLkszYXEJUNw5rkJ51/D1KbXAdkyW8oBnOVuELa4='  2016-11-24        5.0                    5\n",
       "49,999  'QwGyot0/sQZqCezMSuKXwo2P7gPZhgiFZOBLK40nMI0='  2016-12-08        11.0                   11"
      ]
     },
     "execution_count": 112,
     "metadata": {},
     "output_type": "execute_result"
    }
   ],
   "source": [
    "sample.groupby(['msno', vaex.BinnerTime(sample.date_formatted, resolution='W', every=2)]).agg(\n",
    "    {'avg_num_unq_2_weeks': vaex.agg.mean(sample.num_unq), 'sum_num_unq_2_weeks': vaex.agg.sum(sample.num_unq)})"
   ]
  },
  {
   "cell_type": "code",
   "execution_count": 113,
   "id": "6e717594",
   "metadata": {
    "ExecuteTime": {
     "end_time": "2021-06-16T10:27:20.916230Z",
     "start_time": "2021-06-16T10:27:20.546796Z"
    }
   },
   "outputs": [
    {
     "data": {
      "text/html": [
       "<table>\n",
       "<thead>\n",
       "<tr><th>#                                 </th><th>msno                                          </th><th>date_formatted  </th><th>avg_num_unq_monthly  </th><th>sum_num_unq_monthly  </th></tr>\n",
       "</thead>\n",
       "<tbody>\n",
       "<tr><td><i style='opacity: 0.6'>0</i>     </td><td>&#x27;kj6EKhEip7IuujcmWfmQp+oKIJZ+pIATkxVFvCQyPac=&#x27;</td><td>2015-11         </td><td>34.0                 </td><td>34                   </td></tr>\n",
       "<tr><td><i style='opacity: 0.6'>1</i>     </td><td>&#x27;kj6EKhEip7IuujcmWfmQp+oKIJZ+pIATkxVFvCQyPac=&#x27;</td><td>2016-01         </td><td>16.0                 </td><td>16                   </td></tr>\n",
       "<tr><td><i style='opacity: 0.6'>2</i>     </td><td>&#x27;kj6EKhEip7IuujcmWfmQp+oKIJZ+pIATkxVFvCQyPac=&#x27;</td><td>2016-03         </td><td>10.0                 </td><td>10                   </td></tr>\n",
       "<tr><td><i style='opacity: 0.6'>3</i>     </td><td>&#x27;kj6EKhEip7IuujcmWfmQp+oKIJZ+pIATkxVFvCQyPac=&#x27;</td><td>2016-06         </td><td>25.0                 </td><td>25                   </td></tr>\n",
       "<tr><td><i style='opacity: 0.6'>4</i>     </td><td>&#x27;kj6EKhEip7IuujcmWfmQp+oKIJZ+pIATkxVFvCQyPac=&#x27;</td><td>2016-08         </td><td>1.0                  </td><td>1                    </td></tr>\n",
       "<tr><td>...                               </td><td>...                                           </td><td>...             </td><td>...                  </td><td>...                  </td></tr>\n",
       "<tr><td><i style='opacity: 0.6'>49,995</i></td><td>&#x27;KGrkTdr5HLYmGA/lMvOJSknlA2S6/9xip4SmRSo2iSE=&#x27;</td><td>2016-03         </td><td>115.0                </td><td>115                  </td></tr>\n",
       "<tr><td><i style='opacity: 0.6'>49,996</i></td><td>&#x27;KGrkTdr5HLYmGA/lMvOJSknlA2S6/9xip4SmRSo2iSE=&#x27;</td><td>2016-09         </td><td>40.0                 </td><td>40                   </td></tr>\n",
       "<tr><td><i style='opacity: 0.6'>49,997</i></td><td>&#x27;KGrkTdr5HLYmGA/lMvOJSknlA2S6/9xip4SmRSo2iSE=&#x27;</td><td>2016-10         </td><td>149.0                </td><td>149                  </td></tr>\n",
       "<tr><td><i style='opacity: 0.6'>49,998</i></td><td>&#x27;KGrkTdr5HLYmGA/lMvOJSknlA2S6/9xip4SmRSo2iSE=&#x27;</td><td>2016-12         </td><td>86.0                 </td><td>86                   </td></tr>\n",
       "<tr><td><i style='opacity: 0.6'>49,999</i></td><td>&#x27;KGrkTdr5HLYmGA/lMvOJSknlA2S6/9xip4SmRSo2iSE=&#x27;</td><td>2017-02         </td><td>15.0                 </td><td>15                   </td></tr>\n",
       "</tbody>\n",
       "</table>"
      ],
      "text/plain": [
       "#       msno                                            date_formatted    avg_num_unq_monthly    sum_num_unq_monthly\n",
       "0       'kj6EKhEip7IuujcmWfmQp+oKIJZ+pIATkxVFvCQyPac='  2015-11           34.0                   34\n",
       "1       'kj6EKhEip7IuujcmWfmQp+oKIJZ+pIATkxVFvCQyPac='  2016-01           16.0                   16\n",
       "2       'kj6EKhEip7IuujcmWfmQp+oKIJZ+pIATkxVFvCQyPac='  2016-03           10.0                   10\n",
       "3       'kj6EKhEip7IuujcmWfmQp+oKIJZ+pIATkxVFvCQyPac='  2016-06           25.0                   25\n",
       "4       'kj6EKhEip7IuujcmWfmQp+oKIJZ+pIATkxVFvCQyPac='  2016-08           1.0                    1\n",
       "...     ...                                             ...               ...                    ...\n",
       "49,995  'KGrkTdr5HLYmGA/lMvOJSknlA2S6/9xip4SmRSo2iSE='  2016-03           115.0                  115\n",
       "49,996  'KGrkTdr5HLYmGA/lMvOJSknlA2S6/9xip4SmRSo2iSE='  2016-09           40.0                   40\n",
       "49,997  'KGrkTdr5HLYmGA/lMvOJSknlA2S6/9xip4SmRSo2iSE='  2016-10           149.0                  149\n",
       "49,998  'KGrkTdr5HLYmGA/lMvOJSknlA2S6/9xip4SmRSo2iSE='  2016-12           86.0                   86\n",
       "49,999  'KGrkTdr5HLYmGA/lMvOJSknlA2S6/9xip4SmRSo2iSE='  2017-02           15.0                   15"
      ]
     },
     "execution_count": 113,
     "metadata": {},
     "output_type": "execute_result"
    }
   ],
   "source": [
    "sample.groupby(['msno', vaex.BinnerTime(sample.date_formatted, resolution='M', every=1)]).agg(\n",
    "    {'avg_num_unq_monthly': vaex.agg.mean(sample.num_unq), 'sum_num_unq_monthly': vaex.agg.sum(sample.num_unq)})"
   ]
  },
  {
   "cell_type": "code",
   "execution_count": 114,
   "id": "1db0c170",
   "metadata": {
    "ExecuteTime": {
     "end_time": "2021-06-16T10:27:39.972469Z",
     "start_time": "2021-06-16T10:27:39.641594Z"
    }
   },
   "outputs": [
    {
     "data": {
      "text/html": [
       "<table>\n",
       "<thead>\n",
       "<tr><th>#                                 </th><th>msno                                          </th><th>date_formatted  </th><th>avg_num_unq_3_months  </th><th>sum_num_unq_3_months  </th></tr>\n",
       "</thead>\n",
       "<tbody>\n",
       "<tr><td><i style='opacity: 0.6'>0</i>     </td><td>&#x27;kj6EKhEip7IuujcmWfmQp+oKIJZ+pIATkxVFvCQyPac=&#x27;</td><td>2015-09         </td><td>34.0                  </td><td>34                    </td></tr>\n",
       "<tr><td><i style='opacity: 0.6'>1</i>     </td><td>&#x27;kj6EKhEip7IuujcmWfmQp+oKIJZ+pIATkxVFvCQyPac=&#x27;</td><td>2015-12         </td><td>16.0                  </td><td>16                    </td></tr>\n",
       "<tr><td><i style='opacity: 0.6'>2</i>     </td><td>&#x27;kj6EKhEip7IuujcmWfmQp+oKIJZ+pIATkxVFvCQyPac=&#x27;</td><td>2016-03         </td><td>10.0                  </td><td>10                    </td></tr>\n",
       "<tr><td><i style='opacity: 0.6'>3</i>     </td><td>&#x27;kj6EKhEip7IuujcmWfmQp+oKIJZ+pIATkxVFvCQyPac=&#x27;</td><td>2016-06         </td><td>13.0                  </td><td>26                    </td></tr>\n",
       "<tr><td><i style='opacity: 0.6'>4</i>     </td><td>&#x27;kj6EKhEip7IuujcmWfmQp+oKIJZ+pIATkxVFvCQyPac=&#x27;</td><td>2016-09         </td><td>6.0                   </td><td>6                     </td></tr>\n",
       "<tr><td>...                               </td><td>...                                           </td><td>...             </td><td>...                   </td><td>...                   </td></tr>\n",
       "<tr><td><i style='opacity: 0.6'>39,118</i></td><td>&#x27;KGrkTdr5HLYmGA/lMvOJSknlA2S6/9xip4SmRSo2iSE=&#x27;</td><td>2015-09         </td><td>26.0                  </td><td>26                    </td></tr>\n",
       "<tr><td><i style='opacity: 0.6'>39,119</i></td><td>&#x27;KGrkTdr5HLYmGA/lMvOJSknlA2S6/9xip4SmRSo2iSE=&#x27;</td><td>2015-12         </td><td>24.0                  </td><td>24                    </td></tr>\n",
       "<tr><td><i style='opacity: 0.6'>39,120</i></td><td>&#x27;KGrkTdr5HLYmGA/lMvOJSknlA2S6/9xip4SmRSo2iSE=&#x27;</td><td>2016-03         </td><td>115.0                 </td><td>115                   </td></tr>\n",
       "<tr><td><i style='opacity: 0.6'>39,121</i></td><td>&#x27;KGrkTdr5HLYmGA/lMvOJSknlA2S6/9xip4SmRSo2iSE=&#x27;</td><td>2016-09         </td><td>94.5                  </td><td>189                   </td></tr>\n",
       "<tr><td><i style='opacity: 0.6'>39,122</i></td><td>&#x27;KGrkTdr5HLYmGA/lMvOJSknlA2S6/9xip4SmRSo2iSE=&#x27;</td><td>2016-12         </td><td>50.5                  </td><td>101                   </td></tr>\n",
       "</tbody>\n",
       "</table>"
      ],
      "text/plain": [
       "#       msno                                            date_formatted    avg_num_unq_3_months    sum_num_unq_3_months\n",
       "0       'kj6EKhEip7IuujcmWfmQp+oKIJZ+pIATkxVFvCQyPac='  2015-09           34.0                    34\n",
       "1       'kj6EKhEip7IuujcmWfmQp+oKIJZ+pIATkxVFvCQyPac='  2015-12           16.0                    16\n",
       "2       'kj6EKhEip7IuujcmWfmQp+oKIJZ+pIATkxVFvCQyPac='  2016-03           10.0                    10\n",
       "3       'kj6EKhEip7IuujcmWfmQp+oKIJZ+pIATkxVFvCQyPac='  2016-06           13.0                    26\n",
       "4       'kj6EKhEip7IuujcmWfmQp+oKIJZ+pIATkxVFvCQyPac='  2016-09           6.0                     6\n",
       "...     ...                                             ...               ...                     ...\n",
       "39,118  'KGrkTdr5HLYmGA/lMvOJSknlA2S6/9xip4SmRSo2iSE='  2015-09           26.0                    26\n",
       "39,119  'KGrkTdr5HLYmGA/lMvOJSknlA2S6/9xip4SmRSo2iSE='  2015-12           24.0                    24\n",
       "39,120  'KGrkTdr5HLYmGA/lMvOJSknlA2S6/9xip4SmRSo2iSE='  2016-03           115.0                   115\n",
       "39,121  'KGrkTdr5HLYmGA/lMvOJSknlA2S6/9xip4SmRSo2iSE='  2016-09           94.5                    189\n",
       "39,122  'KGrkTdr5HLYmGA/lMvOJSknlA2S6/9xip4SmRSo2iSE='  2016-12           50.5                    101"
      ]
     },
     "execution_count": 114,
     "metadata": {},
     "output_type": "execute_result"
    }
   ],
   "source": [
    "sample.groupby(['msno', vaex.BinnerTime(sample.date_formatted, resolution='M', every=3)]).agg(\n",
    "    {'avg_num_unq_3_months': vaex.agg.mean(sample.num_unq), 'sum_num_unq_3_months': vaex.agg.sum(sample.num_unq)})"
   ]
  },
  {
   "cell_type": "code",
   "execution_count": 115,
   "id": "41f175cd",
   "metadata": {
    "ExecuteTime": {
     "end_time": "2021-06-16T10:27:57.084300Z",
     "start_time": "2021-06-16T10:27:56.768328Z"
    }
   },
   "outputs": [
    {
     "data": {
      "text/html": [
       "<table>\n",
       "<thead>\n",
       "<tr><th>#                                 </th><th>msno                                          </th><th>date_formatted  </th><th>avg_num_unq_6_months  </th><th>sum_num_unq_6_months  </th></tr>\n",
       "</thead>\n",
       "<tbody>\n",
       "<tr><td><i style='opacity: 0.6'>0</i>     </td><td>&#x27;rxIP2f2aN0rYNp+toI0Obt/N/FYQX8hcO1fTmmy2h34=&#x27;</td><td>2014-12         </td><td>1.0                   </td><td>1                     </td></tr>\n",
       "<tr><td><i style='opacity: 0.6'>1</i>     </td><td>&#x27;rxIP2f2aN0rYNp+toI0Obt/N/FYQX8hcO1fTmmy2h34=&#x27;</td><td>2015-06         </td><td>11.0                  </td><td>11                    </td></tr>\n",
       "<tr><td><i style='opacity: 0.6'>2</i>     </td><td>&#x27;yxiEWwE9VR5utpUecLxVdQ5B7NysUPfrNtGINaM2zA8=&#x27;</td><td>2014-12         </td><td>33.666666666666664    </td><td>101                   </td></tr>\n",
       "<tr><td><i style='opacity: 0.6'>3</i>     </td><td>&#x27;yxiEWwE9VR5utpUecLxVdQ5B7NysUPfrNtGINaM2zA8=&#x27;</td><td>2015-06         </td><td>7.333333333333333     </td><td>22                    </td></tr>\n",
       "<tr><td><i style='opacity: 0.6'>4</i>     </td><td>&#x27;yxiEWwE9VR5utpUecLxVdQ5B7NysUPfrNtGINaM2zA8=&#x27;</td><td>2015-12         </td><td>40.666666666666664    </td><td>122                   </td></tr>\n",
       "<tr><td>...                               </td><td>...                                           </td><td>...             </td><td>...                   </td><td>...                   </td></tr>\n",
       "<tr><td><i style='opacity: 0.6'>26,494</i></td><td>&#x27;eWCMedKf+yid9kFcC4kn1cBE2xEFdwojZTC5pxnznaU=&#x27;</td><td>2015-06         </td><td>98.0                  </td><td>98                    </td></tr>\n",
       "<tr><td><i style='opacity: 0.6'>26,495</i></td><td>&#x27;nUC1vXdNQKZap5i9aKiCGb5nV0d5JmrtNKBI1ybZNwo=&#x27;</td><td>2016-06         </td><td>1.0                   </td><td>1                     </td></tr>\n",
       "<tr><td><i style='opacity: 0.6'>26,496</i></td><td>&#x27;w6RFLkszYXEJUNw5rkJ51/D1KbXAdkyW8oBnOVuELa4=&#x27;</td><td>2016-06         </td><td>10.0                  </td><td>10                    </td></tr>\n",
       "<tr><td><i style='opacity: 0.6'>26,497</i></td><td>&#x27;w6RFLkszYXEJUNw5rkJ51/D1KbXAdkyW8oBnOVuELa4=&#x27;</td><td>2016-12         </td><td>5.0                   </td><td>5                     </td></tr>\n",
       "<tr><td><i style='opacity: 0.6'>26,498</i></td><td>&#x27;QwGyot0/sQZqCezMSuKXwo2P7gPZhgiFZOBLK40nMI0=&#x27;</td><td>2016-12         </td><td>11.0                  </td><td>11                    </td></tr>\n",
       "</tbody>\n",
       "</table>"
      ],
      "text/plain": [
       "#       msno                                            date_formatted    avg_num_unq_6_months    sum_num_unq_6_months\n",
       "0       'rxIP2f2aN0rYNp+toI0Obt/N/FYQX8hcO1fTmmy2h34='  2014-12           1.0                     1\n",
       "1       'rxIP2f2aN0rYNp+toI0Obt/N/FYQX8hcO1fTmmy2h34='  2015-06           11.0                    11\n",
       "2       'yxiEWwE9VR5utpUecLxVdQ5B7NysUPfrNtGINaM2zA8='  2014-12           33.666666666666664      101\n",
       "3       'yxiEWwE9VR5utpUecLxVdQ5B7NysUPfrNtGINaM2zA8='  2015-06           7.333333333333333       22\n",
       "4       'yxiEWwE9VR5utpUecLxVdQ5B7NysUPfrNtGINaM2zA8='  2015-12           40.666666666666664      122\n",
       "...     ...                                             ...               ...                     ...\n",
       "26,494  'eWCMedKf+yid9kFcC4kn1cBE2xEFdwojZTC5pxnznaU='  2015-06           98.0                    98\n",
       "26,495  'nUC1vXdNQKZap5i9aKiCGb5nV0d5JmrtNKBI1ybZNwo='  2016-06           1.0                     1\n",
       "26,496  'w6RFLkszYXEJUNw5rkJ51/D1KbXAdkyW8oBnOVuELa4='  2016-06           10.0                    10\n",
       "26,497  'w6RFLkszYXEJUNw5rkJ51/D1KbXAdkyW8oBnOVuELa4='  2016-12           5.0                     5\n",
       "26,498  'QwGyot0/sQZqCezMSuKXwo2P7gPZhgiFZOBLK40nMI0='  2016-12           11.0                    11"
      ]
     },
     "execution_count": 115,
     "metadata": {},
     "output_type": "execute_result"
    }
   ],
   "source": [
    "sample.groupby(['msno', vaex.BinnerTime(sample.date_formatted, resolution='M', every=6)]).agg(\n",
    "    {'avg_num_unq_6_months': vaex.agg.mean(sample.num_unq), 'sum_num_unq_6_months': vaex.agg.sum(sample.num_unq)})"
   ]
  },
  {
   "cell_type": "code",
   "execution_count": 21,
   "id": "d4873595",
   "metadata": {
    "ExecuteTime": {
     "end_time": "2021-06-16T10:32:35.652877Z",
     "start_time": "2021-06-16T10:32:35.649714Z"
    }
   },
   "outputs": [],
   "source": [
    "mappings_resolutions = {'Y': 'year', 'M': 'month', 'W': 'week'}"
   ]
  },
  {
   "cell_type": "code",
   "execution_count": 38,
   "id": "243b8a33",
   "metadata": {
    "ExecuteTime": {
     "end_time": "2021-06-16T10:39:54.228958Z",
     "start_time": "2021-06-16T10:39:54.223627Z"
    }
   },
   "outputs": [],
   "source": [
    "def return_agg_by_time(df, uid_col, time_col, to_agg_col, resolution, every=1):\n",
    "    res_agg_name = to_agg_col + '_' + str(every) + '_' + mappings_resolutions[resolution]\n",
    "    return df.groupby([uid_col, vaex.BinnerTime(df[time_col], resolution=resolution, every=every)]).agg(\n",
    "        {'avg_' + res_agg_name: vaex.agg.mean(df[to_agg_col]),\n",
    "         'sum_' + res_agg_name: vaex.agg.sum(df[to_agg_col]),\n",
    "         'max_' + res_agg_name: vaex.agg.max(df[to_agg_col]),\n",
    "         'min_' + res_agg_name: vaex.agg.min(df[to_agg_col]),\n",
    "         'std_' + res_agg_name: vaex.agg.std(df[to_agg_col])\n",
    "        }\n",
    "    ).to_pandas_df()"
   ]
  },
  {
   "cell_type": "code",
   "execution_count": 39,
   "id": "df25e526",
   "metadata": {
    "ExecuteTime": {
     "end_time": "2021-06-16T10:36:59.746859Z",
     "start_time": "2021-06-16T10:36:59.427598Z"
    }
   },
   "outputs": [],
   "source": [
    "r1 = return_agg_by_time(sample, 'msno', 'date_formatted', 'num_unq', resolution='Y', every=1)"
   ]
  },
  {
   "cell_type": "code",
   "execution_count": 24,
   "id": "d170a2f8",
   "metadata": {
    "ExecuteTime": {
     "end_time": "2021-06-16T10:37:02.829300Z",
     "start_time": "2021-06-16T10:37:02.517141Z"
    }
   },
   "outputs": [],
   "source": [
    "r2 = sample.groupby(['msno', vaex.BinnerTime(sample.date_formatted, resolution='Y', every=1)]).agg(\n",
    "    {'avg_num_unq_yearly': vaex.agg.mean(sample.num_unq), 'sum_num_unq_yearly': vaex.agg.sum(sample.num_unq),\n",
    "    'min_num_unq_yearly': vaex.agg.min(sample.num_unq), 'max_num_unq_yearly': vaex.agg.max(sample['num_unq'])})"
   ]
  },
  {
   "cell_type": "code",
   "execution_count": 25,
   "id": "b2392d05",
   "metadata": {
    "ExecuteTime": {
     "end_time": "2021-06-16T10:37:33.147535Z",
     "start_time": "2021-06-16T10:37:33.082375Z"
    }
   },
   "outputs": [
    {
     "data": {
      "text/html": [
       "<div>\n",
       "<style scoped>\n",
       "    .dataframe tbody tr th:only-of-type {\n",
       "        vertical-align: middle;\n",
       "    }\n",
       "\n",
       "    .dataframe tbody tr th {\n",
       "        vertical-align: top;\n",
       "    }\n",
       "\n",
       "    .dataframe thead th {\n",
       "        text-align: right;\n",
       "    }\n",
       "</style>\n",
       "<table border=\"1\" class=\"dataframe\">\n",
       "  <thead>\n",
       "    <tr style=\"text-align: right;\">\n",
       "      <th></th>\n",
       "      <th>msno</th>\n",
       "      <th>date_formatted</th>\n",
       "      <th>avg_num_unq_1_year</th>\n",
       "      <th>sum_num_unq_1_year</th>\n",
       "      <th>max_num_unq_1_year</th>\n",
       "      <th>min_num_unq_1_year</th>\n",
       "      <th>std_num_unq_1_year</th>\n",
       "    </tr>\n",
       "  </thead>\n",
       "  <tbody>\n",
       "    <tr>\n",
       "      <th>14134</th>\n",
       "      <td>++Re/XY4v6500lA5vyrUA/WPsAfXqv1A/4d0FCbvpSI=</td>\n",
       "      <td>2017-01-01</td>\n",
       "      <td>57.000000</td>\n",
       "      <td>57</td>\n",
       "      <td>57</td>\n",
       "      <td>57</td>\n",
       "      <td>0.000000</td>\n",
       "    </tr>\n",
       "    <tr>\n",
       "      <th>9245</th>\n",
       "      <td>++am6f+rLDE3gjQM7pKLVAthwCgaI46WHbTNuKtgpbI=</td>\n",
       "      <td>2016-01-01</td>\n",
       "      <td>6.000000</td>\n",
       "      <td>6</td>\n",
       "      <td>6</td>\n",
       "      <td>6</td>\n",
       "      <td>0.000000</td>\n",
       "    </tr>\n",
       "    <tr>\n",
       "      <th>9244</th>\n",
       "      <td>++am6f+rLDE3gjQM7pKLVAthwCgaI46WHbTNuKtgpbI=</td>\n",
       "      <td>2015-01-01</td>\n",
       "      <td>94.000000</td>\n",
       "      <td>94</td>\n",
       "      <td>94</td>\n",
       "      <td>94</td>\n",
       "      <td>0.000000</td>\n",
       "    </tr>\n",
       "    <tr>\n",
       "      <th>1204</th>\n",
       "      <td>++wYPELMJ2byTXrC7gO4p96cSGNrLmGn8zNHXI97g6o=</td>\n",
       "      <td>2016-01-01</td>\n",
       "      <td>20.000000</td>\n",
       "      <td>140</td>\n",
       "      <td>44</td>\n",
       "      <td>4</td>\n",
       "      <td>13.918128</td>\n",
       "    </tr>\n",
       "    <tr>\n",
       "      <th>1203</th>\n",
       "      <td>++wYPELMJ2byTXrC7gO4p96cSGNrLmGn8zNHXI97g6o=</td>\n",
       "      <td>2015-01-01</td>\n",
       "      <td>20.857143</td>\n",
       "      <td>146</td>\n",
       "      <td>34</td>\n",
       "      <td>2</td>\n",
       "      <td>12.310606</td>\n",
       "    </tr>\n",
       "    <tr>\n",
       "      <th>...</th>\n",
       "      <td>...</td>\n",
       "      <td>...</td>\n",
       "      <td>...</td>\n",
       "      <td>...</td>\n",
       "      <td>...</td>\n",
       "      <td>...</td>\n",
       "      <td>...</td>\n",
       "    </tr>\n",
       "    <tr>\n",
       "      <th>13861</th>\n",
       "      <td>zyJc6C/9nxPksg1QqAH6x5Hg+aY7c6hHzGJm43bxI4g=</td>\n",
       "      <td>2016-01-01</td>\n",
       "      <td>1.000000</td>\n",
       "      <td>1</td>\n",
       "      <td>1</td>\n",
       "      <td>1</td>\n",
       "      <td>0.000000</td>\n",
       "    </tr>\n",
       "    <tr>\n",
       "      <th>10551</th>\n",
       "      <td>zyv/tgkfq6v1kmCG1zkblK91VDVwjIVo9l68ixn5d70=</td>\n",
       "      <td>2017-01-01</td>\n",
       "      <td>26.000000</td>\n",
       "      <td>26</td>\n",
       "      <td>26</td>\n",
       "      <td>26</td>\n",
       "      <td>0.000000</td>\n",
       "    </tr>\n",
       "    <tr>\n",
       "      <th>10550</th>\n",
       "      <td>zyv/tgkfq6v1kmCG1zkblK91VDVwjIVo9l68ixn5d70=</td>\n",
       "      <td>2016-01-01</td>\n",
       "      <td>26.666667</td>\n",
       "      <td>80</td>\n",
       "      <td>43</td>\n",
       "      <td>9</td>\n",
       "      <td>13.912425</td>\n",
       "    </tr>\n",
       "    <tr>\n",
       "      <th>13477</th>\n",
       "      <td>zzVLNBeDA/LeQX9kVCwgd/mr0YAbrdUY/jkoJvNoW/c=</td>\n",
       "      <td>2017-01-01</td>\n",
       "      <td>8.000000</td>\n",
       "      <td>8</td>\n",
       "      <td>8</td>\n",
       "      <td>8</td>\n",
       "      <td>0.000000</td>\n",
       "    </tr>\n",
       "    <tr>\n",
       "      <th>13476</th>\n",
       "      <td>zzVLNBeDA/LeQX9kVCwgd/mr0YAbrdUY/jkoJvNoW/c=</td>\n",
       "      <td>2016-01-01</td>\n",
       "      <td>57.250000</td>\n",
       "      <td>229</td>\n",
       "      <td>151</td>\n",
       "      <td>11</td>\n",
       "      <td>56.437465</td>\n",
       "    </tr>\n",
       "  </tbody>\n",
       "</table>\n",
       "<p>17666 rows × 7 columns</p>\n",
       "</div>"
      ],
      "text/plain": [
       "                                               msno date_formatted  \\\n",
       "14134  ++Re/XY4v6500lA5vyrUA/WPsAfXqv1A/4d0FCbvpSI=     2017-01-01   \n",
       "9245   ++am6f+rLDE3gjQM7pKLVAthwCgaI46WHbTNuKtgpbI=     2016-01-01   \n",
       "9244   ++am6f+rLDE3gjQM7pKLVAthwCgaI46WHbTNuKtgpbI=     2015-01-01   \n",
       "1204   ++wYPELMJ2byTXrC7gO4p96cSGNrLmGn8zNHXI97g6o=     2016-01-01   \n",
       "1203   ++wYPELMJ2byTXrC7gO4p96cSGNrLmGn8zNHXI97g6o=     2015-01-01   \n",
       "...                                             ...            ...   \n",
       "13861  zyJc6C/9nxPksg1QqAH6x5Hg+aY7c6hHzGJm43bxI4g=     2016-01-01   \n",
       "10551  zyv/tgkfq6v1kmCG1zkblK91VDVwjIVo9l68ixn5d70=     2017-01-01   \n",
       "10550  zyv/tgkfq6v1kmCG1zkblK91VDVwjIVo9l68ixn5d70=     2016-01-01   \n",
       "13477  zzVLNBeDA/LeQX9kVCwgd/mr0YAbrdUY/jkoJvNoW/c=     2017-01-01   \n",
       "13476  zzVLNBeDA/LeQX9kVCwgd/mr0YAbrdUY/jkoJvNoW/c=     2016-01-01   \n",
       "\n",
       "       avg_num_unq_1_year  sum_num_unq_1_year  max_num_unq_1_year  \\\n",
       "14134           57.000000                  57                  57   \n",
       "9245             6.000000                   6                   6   \n",
       "9244            94.000000                  94                  94   \n",
       "1204            20.000000                 140                  44   \n",
       "1203            20.857143                 146                  34   \n",
       "...                   ...                 ...                 ...   \n",
       "13861            1.000000                   1                   1   \n",
       "10551           26.000000                  26                  26   \n",
       "10550           26.666667                  80                  43   \n",
       "13477            8.000000                   8                   8   \n",
       "13476           57.250000                 229                 151   \n",
       "\n",
       "       min_num_unq_1_year  std_num_unq_1_year  \n",
       "14134                  57            0.000000  \n",
       "9245                    6            0.000000  \n",
       "9244                   94            0.000000  \n",
       "1204                    4           13.918128  \n",
       "1203                    2           12.310606  \n",
       "...                   ...                 ...  \n",
       "13861                   1            0.000000  \n",
       "10551                  26            0.000000  \n",
       "10550                   9           13.912425  \n",
       "13477                   8            0.000000  \n",
       "13476                  11           56.437465  \n",
       "\n",
       "[17666 rows x 7 columns]"
      ]
     },
     "execution_count": 25,
     "metadata": {},
     "output_type": "execute_result"
    }
   ],
   "source": [
    "r1.to_pandas_df().sort_values('msno')"
   ]
  },
  {
   "cell_type": "code",
   "execution_count": 26,
   "id": "5d9ac78a",
   "metadata": {
    "ExecuteTime": {
     "end_time": "2021-06-16T10:37:40.866147Z",
     "start_time": "2021-06-16T10:37:40.831987Z"
    }
   },
   "outputs": [
    {
     "data": {
      "text/html": [
       "<div>\n",
       "<style scoped>\n",
       "    .dataframe tbody tr th:only-of-type {\n",
       "        vertical-align: middle;\n",
       "    }\n",
       "\n",
       "    .dataframe tbody tr th {\n",
       "        vertical-align: top;\n",
       "    }\n",
       "\n",
       "    .dataframe thead th {\n",
       "        text-align: right;\n",
       "    }\n",
       "</style>\n",
       "<table border=\"1\" class=\"dataframe\">\n",
       "  <thead>\n",
       "    <tr style=\"text-align: right;\">\n",
       "      <th></th>\n",
       "      <th>msno</th>\n",
       "      <th>date_formatted</th>\n",
       "      <th>avg_num_unq_yearly</th>\n",
       "      <th>sum_num_unq_yearly</th>\n",
       "      <th>min_num_unq_yearly</th>\n",
       "      <th>max_num_unq_yearly</th>\n",
       "    </tr>\n",
       "  </thead>\n",
       "  <tbody>\n",
       "    <tr>\n",
       "      <th>2572</th>\n",
       "      <td>++Re/XY4v6500lA5vyrUA/WPsAfXqv1A/4d0FCbvpSI=</td>\n",
       "      <td>2017-01-01</td>\n",
       "      <td>57.000000</td>\n",
       "      <td>57</td>\n",
       "      <td>57</td>\n",
       "      <td>57</td>\n",
       "    </tr>\n",
       "    <tr>\n",
       "      <th>5259</th>\n",
       "      <td>++am6f+rLDE3gjQM7pKLVAthwCgaI46WHbTNuKtgpbI=</td>\n",
       "      <td>2016-01-01</td>\n",
       "      <td>6.000000</td>\n",
       "      <td>6</td>\n",
       "      <td>6</td>\n",
       "      <td>6</td>\n",
       "    </tr>\n",
       "    <tr>\n",
       "      <th>5258</th>\n",
       "      <td>++am6f+rLDE3gjQM7pKLVAthwCgaI46WHbTNuKtgpbI=</td>\n",
       "      <td>2015-01-01</td>\n",
       "      <td>94.000000</td>\n",
       "      <td>94</td>\n",
       "      <td>94</td>\n",
       "      <td>94</td>\n",
       "    </tr>\n",
       "    <tr>\n",
       "      <th>12613</th>\n",
       "      <td>++wYPELMJ2byTXrC7gO4p96cSGNrLmGn8zNHXI97g6o=</td>\n",
       "      <td>2016-01-01</td>\n",
       "      <td>20.000000</td>\n",
       "      <td>140</td>\n",
       "      <td>4</td>\n",
       "      <td>44</td>\n",
       "    </tr>\n",
       "    <tr>\n",
       "      <th>12612</th>\n",
       "      <td>++wYPELMJ2byTXrC7gO4p96cSGNrLmGn8zNHXI97g6o=</td>\n",
       "      <td>2015-01-01</td>\n",
       "      <td>20.857143</td>\n",
       "      <td>146</td>\n",
       "      <td>2</td>\n",
       "      <td>34</td>\n",
       "    </tr>\n",
       "    <tr>\n",
       "      <th>...</th>\n",
       "      <td>...</td>\n",
       "      <td>...</td>\n",
       "      <td>...</td>\n",
       "      <td>...</td>\n",
       "      <td>...</td>\n",
       "      <td>...</td>\n",
       "    </tr>\n",
       "    <tr>\n",
       "      <th>595</th>\n",
       "      <td>zyJc6C/9nxPksg1QqAH6x5Hg+aY7c6hHzGJm43bxI4g=</td>\n",
       "      <td>2016-01-01</td>\n",
       "      <td>1.000000</td>\n",
       "      <td>1</td>\n",
       "      <td>1</td>\n",
       "      <td>1</td>\n",
       "    </tr>\n",
       "    <tr>\n",
       "      <th>2127</th>\n",
       "      <td>zyv/tgkfq6v1kmCG1zkblK91VDVwjIVo9l68ixn5d70=</td>\n",
       "      <td>2016-01-01</td>\n",
       "      <td>26.666667</td>\n",
       "      <td>80</td>\n",
       "      <td>9</td>\n",
       "      <td>43</td>\n",
       "    </tr>\n",
       "    <tr>\n",
       "      <th>2128</th>\n",
       "      <td>zyv/tgkfq6v1kmCG1zkblK91VDVwjIVo9l68ixn5d70=</td>\n",
       "      <td>2017-01-01</td>\n",
       "      <td>26.000000</td>\n",
       "      <td>26</td>\n",
       "      <td>26</td>\n",
       "      <td>26</td>\n",
       "    </tr>\n",
       "    <tr>\n",
       "      <th>1753</th>\n",
       "      <td>zzVLNBeDA/LeQX9kVCwgd/mr0YAbrdUY/jkoJvNoW/c=</td>\n",
       "      <td>2016-01-01</td>\n",
       "      <td>57.250000</td>\n",
       "      <td>229</td>\n",
       "      <td>11</td>\n",
       "      <td>151</td>\n",
       "    </tr>\n",
       "    <tr>\n",
       "      <th>1754</th>\n",
       "      <td>zzVLNBeDA/LeQX9kVCwgd/mr0YAbrdUY/jkoJvNoW/c=</td>\n",
       "      <td>2017-01-01</td>\n",
       "      <td>8.000000</td>\n",
       "      <td>8</td>\n",
       "      <td>8</td>\n",
       "      <td>8</td>\n",
       "    </tr>\n",
       "  </tbody>\n",
       "</table>\n",
       "<p>17666 rows × 6 columns</p>\n",
       "</div>"
      ],
      "text/plain": [
       "                                               msno date_formatted  \\\n",
       "2572   ++Re/XY4v6500lA5vyrUA/WPsAfXqv1A/4d0FCbvpSI=     2017-01-01   \n",
       "5259   ++am6f+rLDE3gjQM7pKLVAthwCgaI46WHbTNuKtgpbI=     2016-01-01   \n",
       "5258   ++am6f+rLDE3gjQM7pKLVAthwCgaI46WHbTNuKtgpbI=     2015-01-01   \n",
       "12613  ++wYPELMJ2byTXrC7gO4p96cSGNrLmGn8zNHXI97g6o=     2016-01-01   \n",
       "12612  ++wYPELMJ2byTXrC7gO4p96cSGNrLmGn8zNHXI97g6o=     2015-01-01   \n",
       "...                                             ...            ...   \n",
       "595    zyJc6C/9nxPksg1QqAH6x5Hg+aY7c6hHzGJm43bxI4g=     2016-01-01   \n",
       "2127   zyv/tgkfq6v1kmCG1zkblK91VDVwjIVo9l68ixn5d70=     2016-01-01   \n",
       "2128   zyv/tgkfq6v1kmCG1zkblK91VDVwjIVo9l68ixn5d70=     2017-01-01   \n",
       "1753   zzVLNBeDA/LeQX9kVCwgd/mr0YAbrdUY/jkoJvNoW/c=     2016-01-01   \n",
       "1754   zzVLNBeDA/LeQX9kVCwgd/mr0YAbrdUY/jkoJvNoW/c=     2017-01-01   \n",
       "\n",
       "       avg_num_unq_yearly  sum_num_unq_yearly  min_num_unq_yearly  \\\n",
       "2572            57.000000                  57                  57   \n",
       "5259             6.000000                   6                   6   \n",
       "5258            94.000000                  94                  94   \n",
       "12613           20.000000                 140                   4   \n",
       "12612           20.857143                 146                   2   \n",
       "...                   ...                 ...                 ...   \n",
       "595              1.000000                   1                   1   \n",
       "2127            26.666667                  80                   9   \n",
       "2128            26.000000                  26                  26   \n",
       "1753            57.250000                 229                  11   \n",
       "1754             8.000000                   8                   8   \n",
       "\n",
       "       max_num_unq_yearly  \n",
       "2572                   57  \n",
       "5259                    6  \n",
       "5258                   94  \n",
       "12613                  44  \n",
       "12612                  34  \n",
       "...                   ...  \n",
       "595                     1  \n",
       "2127                   43  \n",
       "2128                   26  \n",
       "1753                  151  \n",
       "1754                    8  \n",
       "\n",
       "[17666 rows x 6 columns]"
      ]
     },
     "execution_count": 26,
     "metadata": {},
     "output_type": "execute_result"
    }
   ],
   "source": [
    "r2.to_pandas_df().sort_values('msno')"
   ]
  },
  {
   "cell_type": "code",
   "execution_count": 27,
   "id": "4a1f223a",
   "metadata": {
    "ExecuteTime": {
     "end_time": "2021-06-16T10:39:57.448457Z",
     "start_time": "2021-06-16T10:39:57.101455Z"
    }
   },
   "outputs": [],
   "source": [
    "yearly_aggs_num_unq = return_agg_by_time(sample, 'msno', 'date_formatted', 'num_unq', resolution='Y', every=1)"
   ]
  },
  {
   "cell_type": "code",
   "execution_count": 28,
   "id": "6f360734",
   "metadata": {
    "ExecuteTime": {
     "end_time": "2021-06-16T10:39:57.560401Z",
     "start_time": "2021-06-16T10:39:57.546779Z"
    }
   },
   "outputs": [
    {
     "data": {
      "text/html": [
       "<table>\n",
       "<thead>\n",
       "<tr><th>#                                 </th><th>msno                                          </th><th>date_formatted  </th><th>avg_num_unq_1_year  </th><th>sum_num_unq_1_year  </th><th>max_num_unq_1_year  </th><th>min_num_unq_1_year  </th><th>std_num_unq_1_year  </th></tr>\n",
       "</thead>\n",
       "<tbody>\n",
       "<tr><td><i style='opacity: 0.6'>0</i>     </td><td>&#x27;RIJgWL2TuK6y58Ca3W/dfJGknBanXfe0fkMHllC/vJY=&#x27;</td><td>2015            </td><td>84.42857142857143   </td><td>591                 </td><td>130                 </td><td>50                  </td><td>27.259898033857844  </td></tr>\n",
       "<tr><td><i style='opacity: 0.6'>1</i>     </td><td>&#x27;RIJgWL2TuK6y58Ca3W/dfJGknBanXfe0fkMHllC/vJY=&#x27;</td><td>2016            </td><td>63.5                </td><td>508                 </td><td>102                 </td><td>17                  </td><td>27.847800631288642  </td></tr>\n",
       "<tr><td><i style='opacity: 0.6'>2</i>     </td><td>&#x27;RIJgWL2TuK6y58Ca3W/dfJGknBanXfe0fkMHllC/vJY=&#x27;</td><td>2017            </td><td>35.0                </td><td>35                  </td><td>35                  </td><td>35                  </td><td>0.0                 </td></tr>\n",
       "<tr><td><i style='opacity: 0.6'>3</i>     </td><td>&#x27;KsiXgnQvL6mb1DnuEF/eljW9cnyZrJTWr3Fc3VPQB9Y=&#x27;</td><td>2015            </td><td>2.5                 </td><td>5                   </td><td>3                   </td><td>2                   </td><td>0.5                 </td></tr>\n",
       "<tr><td><i style='opacity: 0.6'>4</i>     </td><td>&#x27;JPB+YKy0nEKCG0JCyv65x4SRjIqvH0zF4ouN7TW3jhI=&#x27;</td><td>2015            </td><td>2.0                 </td><td>2                   </td><td>2                   </td><td>2                   </td><td>0.0                 </td></tr>\n",
       "<tr><td>...                               </td><td>...                                           </td><td>...             </td><td>...                 </td><td>...                 </td><td>...                 </td><td>...                 </td><td>...                 </td></tr>\n",
       "<tr><td><i style='opacity: 0.6'>17,661</i></td><td>&#x27;uxL/GrAO/17mWRBAb2s+o23QE4w1FfOIcLvQPc16cYo=&#x27;</td><td>2016            </td><td>36.5                </td><td>146                 </td><td>111                 </td><td>6                   </td><td>43.22325762827231   </td></tr>\n",
       "<tr><td><i style='opacity: 0.6'>17,662</i></td><td>&#x27;uxL/GrAO/17mWRBAb2s+o23QE4w1FfOIcLvQPc16cYo=&#x27;</td><td>2017            </td><td>124.0               </td><td>124                 </td><td>124                 </td><td>124                 </td><td>0.0                 </td></tr>\n",
       "<tr><td><i style='opacity: 0.6'>17,663</i></td><td>&#x27;KGrkTdr5HLYmGA/lMvOJSknlA2S6/9xip4SmRSo2iSE=&#x27;</td><td>2015            </td><td>45.5                </td><td>182                 </td><td>140                 </td><td>1                   </td><td>55.274315916164895  </td></tr>\n",
       "<tr><td><i style='opacity: 0.6'>17,664</i></td><td>&#x27;KGrkTdr5HLYmGA/lMvOJSknlA2S6/9xip4SmRSo2iSE=&#x27;</td><td>2016            </td><td>82.8                </td><td>414                 </td><td>149                 </td><td>24                  </td><td>46.30075593335384   </td></tr>\n",
       "<tr><td><i style='opacity: 0.6'>17,665</i></td><td>&#x27;KGrkTdr5HLYmGA/lMvOJSknlA2S6/9xip4SmRSo2iSE=&#x27;</td><td>2017            </td><td>15.0                </td><td>15                  </td><td>15                  </td><td>15                  </td><td>0.0                 </td></tr>\n",
       "</tbody>\n",
       "</table>"
      ],
      "text/plain": [
       "#       msno                                            date_formatted    avg_num_unq_1_year    sum_num_unq_1_year    max_num_unq_1_year    min_num_unq_1_year    std_num_unq_1_year\n",
       "0       'RIJgWL2TuK6y58Ca3W/dfJGknBanXfe0fkMHllC/vJY='  2015              84.42857142857143     591                   130                   50                    27.259898033857844\n",
       "1       'RIJgWL2TuK6y58Ca3W/dfJGknBanXfe0fkMHllC/vJY='  2016              63.5                  508                   102                   17                    27.847800631288642\n",
       "2       'RIJgWL2TuK6y58Ca3W/dfJGknBanXfe0fkMHllC/vJY='  2017              35.0                  35                    35                    35                    0.0\n",
       "3       'KsiXgnQvL6mb1DnuEF/eljW9cnyZrJTWr3Fc3VPQB9Y='  2015              2.5                   5                     3                     2                     0.5\n",
       "4       'JPB+YKy0nEKCG0JCyv65x4SRjIqvH0zF4ouN7TW3jhI='  2015              2.0                   2                     2                     2                     0.0\n",
       "...     ...                                             ...               ...                   ...                   ...                   ...                   ...\n",
       "17,661  'uxL/GrAO/17mWRBAb2s+o23QE4w1FfOIcLvQPc16cYo='  2016              36.5                  146                   111                   6                     43.22325762827231\n",
       "17,662  'uxL/GrAO/17mWRBAb2s+o23QE4w1FfOIcLvQPc16cYo='  2017              124.0                 124                   124                   124                   0.0\n",
       "17,663  'KGrkTdr5HLYmGA/lMvOJSknlA2S6/9xip4SmRSo2iSE='  2015              45.5                  182                   140                   1                     55.274315916164895\n",
       "17,664  'KGrkTdr5HLYmGA/lMvOJSknlA2S6/9xip4SmRSo2iSE='  2016              82.8                  414                   149                   24                    46.30075593335384\n",
       "17,665  'KGrkTdr5HLYmGA/lMvOJSknlA2S6/9xip4SmRSo2iSE='  2017              15.0                  15                    15                    15                    0.0"
      ]
     },
     "execution_count": 28,
     "metadata": {},
     "output_type": "execute_result"
    }
   ],
   "source": [
    "yearly_aggs_num_unq"
   ]
  },
  {
   "cell_type": "code",
   "execution_count": 31,
   "id": "35365822",
   "metadata": {},
   "outputs": [
    {
     "data": {
      "text/html": [
       "<table>\n",
       "<thead>\n",
       "<tr><th>#                                 </th><th>msno                                          </th><th>date_formatted  </th><th>avg_num_unq_1_month  </th><th>sum_num_unq_1_month  </th><th>max_num_unq_1_month  </th><th>min_num_unq_1_month  </th><th>std_num_unq_1_month  </th></tr>\n",
       "</thead>\n",
       "<tbody>\n",
       "<tr><td><i style='opacity: 0.6'>0</i>     </td><td>&#x27;kj6EKhEip7IuujcmWfmQp+oKIJZ+pIATkxVFvCQyPac=&#x27;</td><td>2015-11         </td><td>34.0                 </td><td>34                   </td><td>34                   </td><td>34                   </td><td>0.0                  </td></tr>\n",
       "<tr><td><i style='opacity: 0.6'>1</i>     </td><td>&#x27;kj6EKhEip7IuujcmWfmQp+oKIJZ+pIATkxVFvCQyPac=&#x27;</td><td>2016-01         </td><td>16.0                 </td><td>16                   </td><td>16                   </td><td>16                   </td><td>0.0                  </td></tr>\n",
       "<tr><td><i style='opacity: 0.6'>2</i>     </td><td>&#x27;kj6EKhEip7IuujcmWfmQp+oKIJZ+pIATkxVFvCQyPac=&#x27;</td><td>2016-03         </td><td>10.0                 </td><td>10                   </td><td>10                   </td><td>10                   </td><td>0.0                  </td></tr>\n",
       "<tr><td><i style='opacity: 0.6'>3</i>     </td><td>&#x27;kj6EKhEip7IuujcmWfmQp+oKIJZ+pIATkxVFvCQyPac=&#x27;</td><td>2016-06         </td><td>25.0                 </td><td>25                   </td><td>25                   </td><td>25                   </td><td>0.0                  </td></tr>\n",
       "<tr><td><i style='opacity: 0.6'>4</i>     </td><td>&#x27;kj6EKhEip7IuujcmWfmQp+oKIJZ+pIATkxVFvCQyPac=&#x27;</td><td>2016-08         </td><td>1.0                  </td><td>1                    </td><td>1                    </td><td>1                    </td><td>0.0                  </td></tr>\n",
       "<tr><td>...                               </td><td>...                                           </td><td>...             </td><td>...                  </td><td>...                  </td><td>...                  </td><td>...                  </td><td>...                  </td></tr>\n",
       "<tr><td><i style='opacity: 0.6'>49,995</i></td><td>&#x27;KGrkTdr5HLYmGA/lMvOJSknlA2S6/9xip4SmRSo2iSE=&#x27;</td><td>2016-03         </td><td>115.0                </td><td>115                  </td><td>115                  </td><td>115                  </td><td>0.0                  </td></tr>\n",
       "<tr><td><i style='opacity: 0.6'>49,996</i></td><td>&#x27;KGrkTdr5HLYmGA/lMvOJSknlA2S6/9xip4SmRSo2iSE=&#x27;</td><td>2016-09         </td><td>40.0                 </td><td>40                   </td><td>40                   </td><td>40                   </td><td>0.0                  </td></tr>\n",
       "<tr><td><i style='opacity: 0.6'>49,997</i></td><td>&#x27;KGrkTdr5HLYmGA/lMvOJSknlA2S6/9xip4SmRSo2iSE=&#x27;</td><td>2016-10         </td><td>149.0                </td><td>149                  </td><td>149                  </td><td>149                  </td><td>0.0                  </td></tr>\n",
       "<tr><td><i style='opacity: 0.6'>49,998</i></td><td>&#x27;KGrkTdr5HLYmGA/lMvOJSknlA2S6/9xip4SmRSo2iSE=&#x27;</td><td>2016-12         </td><td>86.0                 </td><td>86                   </td><td>86                   </td><td>86                   </td><td>0.0                  </td></tr>\n",
       "<tr><td><i style='opacity: 0.6'>49,999</i></td><td>&#x27;KGrkTdr5HLYmGA/lMvOJSknlA2S6/9xip4SmRSo2iSE=&#x27;</td><td>2017-02         </td><td>15.0                 </td><td>15                   </td><td>15                   </td><td>15                   </td><td>0.0                  </td></tr>\n",
       "</tbody>\n",
       "</table>"
      ],
      "text/plain": [
       "#       msno                                            date_formatted    avg_num_unq_1_month    sum_num_unq_1_month    max_num_unq_1_month    min_num_unq_1_month    std_num_unq_1_month\n",
       "0       'kj6EKhEip7IuujcmWfmQp+oKIJZ+pIATkxVFvCQyPac='  2015-11           34.0                   34                     34                     34                     0.0\n",
       "1       'kj6EKhEip7IuujcmWfmQp+oKIJZ+pIATkxVFvCQyPac='  2016-01           16.0                   16                     16                     16                     0.0\n",
       "2       'kj6EKhEip7IuujcmWfmQp+oKIJZ+pIATkxVFvCQyPac='  2016-03           10.0                   10                     10                     10                     0.0\n",
       "3       'kj6EKhEip7IuujcmWfmQp+oKIJZ+pIATkxVFvCQyPac='  2016-06           25.0                   25                     25                     25                     0.0\n",
       "4       'kj6EKhEip7IuujcmWfmQp+oKIJZ+pIATkxVFvCQyPac='  2016-08           1.0                    1                      1                      1                      0.0\n",
       "...     ...                                             ...               ...                    ...                    ...                    ...                    ...\n",
       "49,995  'KGrkTdr5HLYmGA/lMvOJSknlA2S6/9xip4SmRSo2iSE='  2016-03           115.0                  115                    115                    115                    0.0\n",
       "49,996  'KGrkTdr5HLYmGA/lMvOJSknlA2S6/9xip4SmRSo2iSE='  2016-09           40.0                   40                     40                     40                     0.0\n",
       "49,997  'KGrkTdr5HLYmGA/lMvOJSknlA2S6/9xip4SmRSo2iSE='  2016-10           149.0                  149                    149                    149                    0.0\n",
       "49,998  'KGrkTdr5HLYmGA/lMvOJSknlA2S6/9xip4SmRSo2iSE='  2016-12           86.0                   86                     86                     86                     0.0\n",
       "49,999  'KGrkTdr5HLYmGA/lMvOJSknlA2S6/9xip4SmRSo2iSE='  2017-02           15.0                   15                     15                     15                     0.0"
      ]
     },
     "execution_count": 31,
     "metadata": {},
     "output_type": "execute_result"
    }
   ],
   "source": [
    "return_agg_by_time(sample, 'msno', 'date_formatted', 'num_unq', resolution='M', every=1)"
   ]
  },
  {
   "cell_type": "code",
   "execution_count": 33,
   "id": "df4e2ec4",
   "metadata": {},
   "outputs": [
    {
     "data": {
      "text/html": [
       "<table>\n",
       "<thead>\n",
       "<tr><th>#                                 </th><th>msno                                          </th><th>date_formatted  </th><th>avg_num_unq_6_month  </th><th>sum_num_unq_6_month  </th><th>max_num_unq_6_month  </th><th>min_num_unq_6_month  </th><th>std_num_unq_6_month  </th></tr>\n",
       "</thead>\n",
       "<tbody>\n",
       "<tr><td><i style='opacity: 0.6'>0</i>     </td><td>&#x27;QiIddYgkK/kg64vUSceUgMkrfRdTD835iuRTx58KaYs=&#x27;</td><td>2014-12         </td><td>21.666666666666668   </td><td>65                   </td><td>28                   </td><td>12                   </td><td>6.944222218666545    </td></tr>\n",
       "<tr><td><i style='opacity: 0.6'>1</i>     </td><td>&#x27;QiIddYgkK/kg64vUSceUgMkrfRdTD835iuRTx58KaYs=&#x27;</td><td>2015-06         </td><td>15.0                 </td><td>45                   </td><td>23                   </td><td>6                    </td><td>6.976149845485451    </td></tr>\n",
       "<tr><td><i style='opacity: 0.6'>2</i>     </td><td>&#x27;QiIddYgkK/kg64vUSceUgMkrfRdTD835iuRTx58KaYs=&#x27;</td><td>2015-12         </td><td>31.0                 </td><td>93                   </td><td>47                   </td><td>16                   </td><td>12.675435561221033   </td></tr>\n",
       "<tr><td><i style='opacity: 0.6'>3</i>     </td><td>&#x27;QiIddYgkK/kg64vUSceUgMkrfRdTD835iuRTx58KaYs=&#x27;</td><td>2016-06         </td><td>19.0                 </td><td>57                   </td><td>25                   </td><td>10                   </td><td>6.48074069840786     </td></tr>\n",
       "<tr><td><i style='opacity: 0.6'>4</i>     </td><td>&#x27;QiIddYgkK/kg64vUSceUgMkrfRdTD835iuRTx58KaYs=&#x27;</td><td>2016-12         </td><td>36.5                 </td><td>73                   </td><td>57                   </td><td>16                   </td><td>20.5                 </td></tr>\n",
       "<tr><td>...                               </td><td>...                                           </td><td>...             </td><td>...                  </td><td>...                  </td><td>...                  </td><td>...                  </td><td>...                  </td></tr>\n",
       "<tr><td><i style='opacity: 0.6'>26,494</i></td><td>&#x27;P5atmaCDvQ6sBooufk6uLD/NVklEXJ4A/JWFiOkaz90=&#x27;</td><td>2014-12         </td><td>23.333333333333332   </td><td>70                   </td><td>61                   </td><td>1                    </td><td>26.787227470485924   </td></tr>\n",
       "<tr><td><i style='opacity: 0.6'>26,495</i></td><td>&#x27;P5atmaCDvQ6sBooufk6uLD/NVklEXJ4A/JWFiOkaz90=&#x27;</td><td>2015-06         </td><td>6.333333333333333    </td><td>19                   </td><td>13                   </td><td>1                    </td><td>4.988876515698589    </td></tr>\n",
       "<tr><td><i style='opacity: 0.6'>26,496</i></td><td>&#x27;P5atmaCDvQ6sBooufk6uLD/NVklEXJ4A/JWFiOkaz90=&#x27;</td><td>2015-12         </td><td>18.666666666666668   </td><td>56                   </td><td>28                   </td><td>3                    </td><td>11.145502331533656   </td></tr>\n",
       "<tr><td><i style='opacity: 0.6'>26,497</i></td><td>&#x27;P5atmaCDvQ6sBooufk6uLD/NVklEXJ4A/JWFiOkaz90=&#x27;</td><td>2016-06         </td><td>12.333333333333334   </td><td>37                   </td><td>18                   </td><td>8                    </td><td>4.189935029992177    </td></tr>\n",
       "<tr><td><i style='opacity: 0.6'>26,498</i></td><td>&#x27;P5atmaCDvQ6sBooufk6uLD/NVklEXJ4A/JWFiOkaz90=&#x27;</td><td>2016-12         </td><td>1.0                  </td><td>1                    </td><td>1                    </td><td>1                    </td><td>0.0                  </td></tr>\n",
       "</tbody>\n",
       "</table>"
      ],
      "text/plain": [
       "#       msno                                            date_formatted    avg_num_unq_6_month    sum_num_unq_6_month    max_num_unq_6_month    min_num_unq_6_month    std_num_unq_6_month\n",
       "0       'QiIddYgkK/kg64vUSceUgMkrfRdTD835iuRTx58KaYs='  2014-12           21.666666666666668     65                     28                     12                     6.944222218666545\n",
       "1       'QiIddYgkK/kg64vUSceUgMkrfRdTD835iuRTx58KaYs='  2015-06           15.0                   45                     23                     6                      6.976149845485451\n",
       "2       'QiIddYgkK/kg64vUSceUgMkrfRdTD835iuRTx58KaYs='  2015-12           31.0                   93                     47                     16                     12.675435561221033\n",
       "3       'QiIddYgkK/kg64vUSceUgMkrfRdTD835iuRTx58KaYs='  2016-06           19.0                   57                     25                     10                     6.48074069840786\n",
       "4       'QiIddYgkK/kg64vUSceUgMkrfRdTD835iuRTx58KaYs='  2016-12           36.5                   73                     57                     16                     20.5\n",
       "...     ...                                             ...               ...                    ...                    ...                    ...                    ...\n",
       "26,494  'P5atmaCDvQ6sBooufk6uLD/NVklEXJ4A/JWFiOkaz90='  2014-12           23.333333333333332     70                     61                     1                      26.787227470485924\n",
       "26,495  'P5atmaCDvQ6sBooufk6uLD/NVklEXJ4A/JWFiOkaz90='  2015-06           6.333333333333333      19                     13                     1                      4.988876515698589\n",
       "26,496  'P5atmaCDvQ6sBooufk6uLD/NVklEXJ4A/JWFiOkaz90='  2015-12           18.666666666666668     56                     28                     3                      11.145502331533656\n",
       "26,497  'P5atmaCDvQ6sBooufk6uLD/NVklEXJ4A/JWFiOkaz90='  2016-06           12.333333333333334     37                     18                     8                      4.189935029992177\n",
       "26,498  'P5atmaCDvQ6sBooufk6uLD/NVklEXJ4A/JWFiOkaz90='  2016-12           1.0                    1                      1                      1                      0.0"
      ]
     },
     "execution_count": 33,
     "metadata": {},
     "output_type": "execute_result"
    }
   ],
   "source": [
    "return_agg_by_time(sample, 'msno', 'date_formatted', 'num_unq', resolution='M', every=6)"
   ]
  },
  {
   "cell_type": "code",
   "execution_count": 42,
   "id": "2c394729",
   "metadata": {},
   "outputs": [],
   "source": [
    "temp = return_agg_by_time(sample, 'msno', 'date_formatted', 'num_unq', resolution='M', every=3)"
   ]
  },
  {
   "cell_type": "code",
   "execution_count": 29,
   "id": "80472665",
   "metadata": {
    "ExecuteTime": {
     "end_time": "2021-06-16T10:41:25.540099Z",
     "start_time": "2021-06-16T10:41:25.194254Z"
    }
   },
   "outputs": [],
   "source": [
    "yearly_aggs_total_secs = return_agg_by_time(sample, 'msno', 'date_formatted', 'total_secs', resolution='Y', every=1)"
   ]
  },
  {
   "cell_type": "code",
   "execution_count": 35,
   "id": "ba71cd06",
   "metadata": {
    "ExecuteTime": {
     "end_time": "2021-06-16T10:41:28.122360Z",
     "start_time": "2021-06-16T10:41:28.108840Z"
    }
   },
   "outputs": [],
   "source": [
    "t3 = yearly_aggs_total_secs.to_pandas_df()"
   ]
  },
  {
   "cell_type": "code",
   "execution_count": 41,
   "id": "be1eb0f3",
   "metadata": {},
   "outputs": [
    {
     "data": {
      "text/html": [
       "<div>\n",
       "<style scoped>\n",
       "    .dataframe tbody tr th:only-of-type {\n",
       "        vertical-align: middle;\n",
       "    }\n",
       "\n",
       "    .dataframe tbody tr th {\n",
       "        vertical-align: top;\n",
       "    }\n",
       "\n",
       "    .dataframe thead th {\n",
       "        text-align: right;\n",
       "    }\n",
       "</style>\n",
       "<table border=\"1\" class=\"dataframe\">\n",
       "  <thead>\n",
       "    <tr style=\"text-align: right;\">\n",
       "      <th></th>\n",
       "      <th>msno</th>\n",
       "      <th>date_formatted</th>\n",
       "      <th>avg_total_secs_1_year</th>\n",
       "      <th>sum_total_secs_1_year</th>\n",
       "      <th>max_total_secs_1_year</th>\n",
       "      <th>min_total_secs_1_year</th>\n",
       "      <th>std_total_secs_1_year</th>\n",
       "    </tr>\n",
       "  </thead>\n",
       "  <tbody>\n",
       "    <tr>\n",
       "      <th>0</th>\n",
       "      <td>QiIddYgkK/kg64vUSceUgMkrfRdTD835iuRTx58KaYs=</td>\n",
       "      <td>2015-01-01</td>\n",
       "      <td>5157.103000</td>\n",
       "      <td>36099.721</td>\n",
       "      <td>8817.947</td>\n",
       "      <td>1372.082</td>\n",
       "      <td>2385.354467</td>\n",
       "    </tr>\n",
       "    <tr>\n",
       "      <th>1</th>\n",
       "      <td>QiIddYgkK/kg64vUSceUgMkrfRdTD835iuRTx58KaYs=</td>\n",
       "      <td>2016-01-01</td>\n",
       "      <td>8745.694500</td>\n",
       "      <td>52474.167</td>\n",
       "      <td>20013.525</td>\n",
       "      <td>2614.562</td>\n",
       "      <td>5915.981749</td>\n",
       "    </tr>\n",
       "    <tr>\n",
       "      <th>2</th>\n",
       "      <td>QiIddYgkK/kg64vUSceUgMkrfRdTD835iuRTx58KaYs=</td>\n",
       "      <td>2017-01-01</td>\n",
       "      <td>3755.116000</td>\n",
       "      <td>3755.116</td>\n",
       "      <td>3755.116</td>\n",
       "      <td>3755.116</td>\n",
       "      <td>0.000000</td>\n",
       "    </tr>\n",
       "    <tr>\n",
       "      <th>3</th>\n",
       "      <td>PjIozBWbtHFNte0hWowl7lkfoJyIHOkXffw2xKCXMzQ=</td>\n",
       "      <td>2015-01-01</td>\n",
       "      <td>1543.538000</td>\n",
       "      <td>4630.614</td>\n",
       "      <td>2414.502</td>\n",
       "      <td>756.971</td>\n",
       "      <td>679.310628</td>\n",
       "    </tr>\n",
       "    <tr>\n",
       "      <th>4</th>\n",
       "      <td>PjIozBWbtHFNte0hWowl7lkfoJyIHOkXffw2xKCXMzQ=</td>\n",
       "      <td>2016-01-01</td>\n",
       "      <td>1574.624500</td>\n",
       "      <td>6298.498</td>\n",
       "      <td>2876.080</td>\n",
       "      <td>1046.711</td>\n",
       "      <td>756.653734</td>\n",
       "    </tr>\n",
       "    <tr>\n",
       "      <th>...</th>\n",
       "      <td>...</td>\n",
       "      <td>...</td>\n",
       "      <td>...</td>\n",
       "      <td>...</td>\n",
       "      <td>...</td>\n",
       "      <td>...</td>\n",
       "      <td>...</td>\n",
       "    </tr>\n",
       "    <tr>\n",
       "      <th>17661</th>\n",
       "      <td>pxrhl5Ub4GcRP0w5OpPa9CnLZm7rsIcR1zN5xYNadkI=</td>\n",
       "      <td>2015-01-01</td>\n",
       "      <td>5281.913000</td>\n",
       "      <td>21127.652</td>\n",
       "      <td>16062.739</td>\n",
       "      <td>934.551</td>\n",
       "      <td>6241.471662</td>\n",
       "    </tr>\n",
       "    <tr>\n",
       "      <th>17662</th>\n",
       "      <td>pxrhl5Ub4GcRP0w5OpPa9CnLZm7rsIcR1zN5xYNadkI=</td>\n",
       "      <td>2016-01-01</td>\n",
       "      <td>8676.083000</td>\n",
       "      <td>17352.166</td>\n",
       "      <td>11375.424</td>\n",
       "      <td>5976.742</td>\n",
       "      <td>2699.341000</td>\n",
       "    </tr>\n",
       "    <tr>\n",
       "      <th>17663</th>\n",
       "      <td>kQbFgqHSLZeupySWMoBZpdfThEwkUZ6f9egJrKp5FuQ=</td>\n",
       "      <td>2015-01-01</td>\n",
       "      <td>26766.683667</td>\n",
       "      <td>160600.102</td>\n",
       "      <td>42556.736</td>\n",
       "      <td>8716.640</td>\n",
       "      <td>11425.052221</td>\n",
       "    </tr>\n",
       "    <tr>\n",
       "      <th>17664</th>\n",
       "      <td>kQbFgqHSLZeupySWMoBZpdfThEwkUZ6f9egJrKp5FuQ=</td>\n",
       "      <td>2016-01-01</td>\n",
       "      <td>16236.977200</td>\n",
       "      <td>81184.886</td>\n",
       "      <td>49621.556</td>\n",
       "      <td>5273.781</td>\n",
       "      <td>16927.209613</td>\n",
       "    </tr>\n",
       "    <tr>\n",
       "      <th>17665</th>\n",
       "      <td>kQbFgqHSLZeupySWMoBZpdfThEwkUZ6f9egJrKp5FuQ=</td>\n",
       "      <td>2017-01-01</td>\n",
       "      <td>32852.600000</td>\n",
       "      <td>32852.600</td>\n",
       "      <td>32852.600</td>\n",
       "      <td>32852.600</td>\n",
       "      <td>0.000000</td>\n",
       "    </tr>\n",
       "  </tbody>\n",
       "</table>\n",
       "<p>17666 rows × 7 columns</p>\n",
       "</div>"
      ],
      "text/plain": [
       "                                               msno date_formatted  \\\n",
       "0      QiIddYgkK/kg64vUSceUgMkrfRdTD835iuRTx58KaYs=     2015-01-01   \n",
       "1      QiIddYgkK/kg64vUSceUgMkrfRdTD835iuRTx58KaYs=     2016-01-01   \n",
       "2      QiIddYgkK/kg64vUSceUgMkrfRdTD835iuRTx58KaYs=     2017-01-01   \n",
       "3      PjIozBWbtHFNte0hWowl7lkfoJyIHOkXffw2xKCXMzQ=     2015-01-01   \n",
       "4      PjIozBWbtHFNte0hWowl7lkfoJyIHOkXffw2xKCXMzQ=     2016-01-01   \n",
       "...                                             ...            ...   \n",
       "17661  pxrhl5Ub4GcRP0w5OpPa9CnLZm7rsIcR1zN5xYNadkI=     2015-01-01   \n",
       "17662  pxrhl5Ub4GcRP0w5OpPa9CnLZm7rsIcR1zN5xYNadkI=     2016-01-01   \n",
       "17663  kQbFgqHSLZeupySWMoBZpdfThEwkUZ6f9egJrKp5FuQ=     2015-01-01   \n",
       "17664  kQbFgqHSLZeupySWMoBZpdfThEwkUZ6f9egJrKp5FuQ=     2016-01-01   \n",
       "17665  kQbFgqHSLZeupySWMoBZpdfThEwkUZ6f9egJrKp5FuQ=     2017-01-01   \n",
       "\n",
       "       avg_total_secs_1_year  sum_total_secs_1_year  max_total_secs_1_year  \\\n",
       "0                5157.103000              36099.721               8817.947   \n",
       "1                8745.694500              52474.167              20013.525   \n",
       "2                3755.116000               3755.116               3755.116   \n",
       "3                1543.538000               4630.614               2414.502   \n",
       "4                1574.624500               6298.498               2876.080   \n",
       "...                      ...                    ...                    ...   \n",
       "17661            5281.913000              21127.652              16062.739   \n",
       "17662            8676.083000              17352.166              11375.424   \n",
       "17663           26766.683667             160600.102              42556.736   \n",
       "17664           16236.977200              81184.886              49621.556   \n",
       "17665           32852.600000              32852.600              32852.600   \n",
       "\n",
       "       min_total_secs_1_year  std_total_secs_1_year  \n",
       "0                   1372.082            2385.354467  \n",
       "1                   2614.562            5915.981749  \n",
       "2                   3755.116               0.000000  \n",
       "3                    756.971             679.310628  \n",
       "4                   1046.711             756.653734  \n",
       "...                      ...                    ...  \n",
       "17661                934.551            6241.471662  \n",
       "17662               5976.742            2699.341000  \n",
       "17663               8716.640           11425.052221  \n",
       "17664               5273.781           16927.209613  \n",
       "17665              32852.600               0.000000  \n",
       "\n",
       "[17666 rows x 7 columns]"
      ]
     },
     "execution_count": 41,
     "metadata": {},
     "output_type": "execute_result"
    }
   ],
   "source": [
    "t3.groupby('msno').tail(3)"
   ]
  },
  {
   "cell_type": "code",
   "execution_count": 44,
   "id": "5fad0654",
   "metadata": {},
   "outputs": [
    {
     "data": {
      "text/html": [
       "<div>\n",
       "<style scoped>\n",
       "    .dataframe tbody tr th:only-of-type {\n",
       "        vertical-align: middle;\n",
       "    }\n",
       "\n",
       "    .dataframe tbody tr th {\n",
       "        vertical-align: top;\n",
       "    }\n",
       "\n",
       "    .dataframe thead th {\n",
       "        text-align: right;\n",
       "    }\n",
       "</style>\n",
       "<table border=\"1\" class=\"dataframe\">\n",
       "  <thead>\n",
       "    <tr style=\"text-align: right;\">\n",
       "      <th></th>\n",
       "      <th>msno</th>\n",
       "      <th>date_formatted</th>\n",
       "      <th>avg_num_unq_3_month</th>\n",
       "      <th>sum_num_unq_3_month</th>\n",
       "      <th>max_num_unq_3_month</th>\n",
       "      <th>min_num_unq_3_month</th>\n",
       "      <th>std_num_unq_3_month</th>\n",
       "    </tr>\n",
       "  </thead>\n",
       "  <tbody>\n",
       "    <tr>\n",
       "      <th>6</th>\n",
       "      <td>RIJgWL2TuK6y58Ca3W/dfJGknBanXfe0fkMHllC/vJY=</td>\n",
       "      <td>2016-06-01</td>\n",
       "      <td>58.5</td>\n",
       "      <td>117</td>\n",
       "      <td>63</td>\n",
       "      <td>54</td>\n",
       "      <td>4.5</td>\n",
       "    </tr>\n",
       "    <tr>\n",
       "      <th>7</th>\n",
       "      <td>RIJgWL2TuK6y58Ca3W/dfJGknBanXfe0fkMHllC/vJY=</td>\n",
       "      <td>2016-09-01</td>\n",
       "      <td>82.5</td>\n",
       "      <td>165</td>\n",
       "      <td>102</td>\n",
       "      <td>63</td>\n",
       "      <td>19.5</td>\n",
       "    </tr>\n",
       "    <tr>\n",
       "      <th>8</th>\n",
       "      <td>RIJgWL2TuK6y58Ca3W/dfJGknBanXfe0fkMHllC/vJY=</td>\n",
       "      <td>2016-12-01</td>\n",
       "      <td>26.0</td>\n",
       "      <td>52</td>\n",
       "      <td>35</td>\n",
       "      <td>17</td>\n",
       "      <td>9.0</td>\n",
       "    </tr>\n",
       "    <tr>\n",
       "      <th>9</th>\n",
       "      <td>KsiXgnQvL6mb1DnuEF/eljW9cnyZrJTWr3Fc3VPQB9Y=</td>\n",
       "      <td>2014-12-01</td>\n",
       "      <td>2.0</td>\n",
       "      <td>2</td>\n",
       "      <td>2</td>\n",
       "      <td>2</td>\n",
       "      <td>0.0</td>\n",
       "    </tr>\n",
       "    <tr>\n",
       "      <th>10</th>\n",
       "      <td>KsiXgnQvL6mb1DnuEF/eljW9cnyZrJTWr3Fc3VPQB9Y=</td>\n",
       "      <td>2015-06-01</td>\n",
       "      <td>3.0</td>\n",
       "      <td>3</td>\n",
       "      <td>3</td>\n",
       "      <td>3</td>\n",
       "      <td>0.0</td>\n",
       "    </tr>\n",
       "    <tr>\n",
       "      <th>...</th>\n",
       "      <td>...</td>\n",
       "      <td>...</td>\n",
       "      <td>...</td>\n",
       "      <td>...</td>\n",
       "      <td>...</td>\n",
       "      <td>...</td>\n",
       "      <td>...</td>\n",
       "    </tr>\n",
       "    <tr>\n",
       "      <th>39112</th>\n",
       "      <td>RkQJydyfehW6xoiMl+56fzUpP2f6OdwkHDz165r554k=</td>\n",
       "      <td>2016-09-01</td>\n",
       "      <td>22.5</td>\n",
       "      <td>45</td>\n",
       "      <td>26</td>\n",
       "      <td>19</td>\n",
       "      <td>3.5</td>\n",
       "    </tr>\n",
       "    <tr>\n",
       "      <th>39113</th>\n",
       "      <td>RkQJydyfehW6xoiMl+56fzUpP2f6OdwkHDz165r554k=</td>\n",
       "      <td>2016-12-01</td>\n",
       "      <td>9.0</td>\n",
       "      <td>9</td>\n",
       "      <td>9</td>\n",
       "      <td>9</td>\n",
       "      <td>0.0</td>\n",
       "    </tr>\n",
       "    <tr>\n",
       "      <th>39120</th>\n",
       "      <td>ptJrO2x1bUg54fo7X51J/2kofVKuUga59xyiLwCJ5Io=</td>\n",
       "      <td>2016-06-01</td>\n",
       "      <td>59.0</td>\n",
       "      <td>59</td>\n",
       "      <td>59</td>\n",
       "      <td>59</td>\n",
       "      <td>0.0</td>\n",
       "    </tr>\n",
       "    <tr>\n",
       "      <th>39121</th>\n",
       "      <td>ptJrO2x1bUg54fo7X51J/2kofVKuUga59xyiLwCJ5Io=</td>\n",
       "      <td>2016-09-01</td>\n",
       "      <td>90.0</td>\n",
       "      <td>90</td>\n",
       "      <td>90</td>\n",
       "      <td>90</td>\n",
       "      <td>0.0</td>\n",
       "    </tr>\n",
       "    <tr>\n",
       "      <th>39122</th>\n",
       "      <td>ptJrO2x1bUg54fo7X51J/2kofVKuUga59xyiLwCJ5Io=</td>\n",
       "      <td>2016-12-01</td>\n",
       "      <td>54.0</td>\n",
       "      <td>108</td>\n",
       "      <td>70</td>\n",
       "      <td>38</td>\n",
       "      <td>16.0</td>\n",
       "    </tr>\n",
       "  </tbody>\n",
       "</table>\n",
       "<p>21703 rows × 7 columns</p>\n",
       "</div>"
      ],
      "text/plain": [
       "                                               msno date_formatted  \\\n",
       "6      RIJgWL2TuK6y58Ca3W/dfJGknBanXfe0fkMHllC/vJY=     2016-06-01   \n",
       "7      RIJgWL2TuK6y58Ca3W/dfJGknBanXfe0fkMHllC/vJY=     2016-09-01   \n",
       "8      RIJgWL2TuK6y58Ca3W/dfJGknBanXfe0fkMHllC/vJY=     2016-12-01   \n",
       "9      KsiXgnQvL6mb1DnuEF/eljW9cnyZrJTWr3Fc3VPQB9Y=     2014-12-01   \n",
       "10     KsiXgnQvL6mb1DnuEF/eljW9cnyZrJTWr3Fc3VPQB9Y=     2015-06-01   \n",
       "...                                             ...            ...   \n",
       "39112  RkQJydyfehW6xoiMl+56fzUpP2f6OdwkHDz165r554k=     2016-09-01   \n",
       "39113  RkQJydyfehW6xoiMl+56fzUpP2f6OdwkHDz165r554k=     2016-12-01   \n",
       "39120  ptJrO2x1bUg54fo7X51J/2kofVKuUga59xyiLwCJ5Io=     2016-06-01   \n",
       "39121  ptJrO2x1bUg54fo7X51J/2kofVKuUga59xyiLwCJ5Io=     2016-09-01   \n",
       "39122  ptJrO2x1bUg54fo7X51J/2kofVKuUga59xyiLwCJ5Io=     2016-12-01   \n",
       "\n",
       "       avg_num_unq_3_month  sum_num_unq_3_month  max_num_unq_3_month  \\\n",
       "6                     58.5                  117                   63   \n",
       "7                     82.5                  165                  102   \n",
       "8                     26.0                   52                   35   \n",
       "9                      2.0                    2                    2   \n",
       "10                     3.0                    3                    3   \n",
       "...                    ...                  ...                  ...   \n",
       "39112                 22.5                   45                   26   \n",
       "39113                  9.0                    9                    9   \n",
       "39120                 59.0                   59                   59   \n",
       "39121                 90.0                   90                   90   \n",
       "39122                 54.0                  108                   70   \n",
       "\n",
       "       min_num_unq_3_month  std_num_unq_3_month  \n",
       "6                       54                  4.5  \n",
       "7                       63                 19.5  \n",
       "8                       17                  9.0  \n",
       "9                        2                  0.0  \n",
       "10                       3                  0.0  \n",
       "...                    ...                  ...  \n",
       "39112                   19                  3.5  \n",
       "39113                    9                  0.0  \n",
       "39120                   59                  0.0  \n",
       "39121                   90                  0.0  \n",
       "39122                   38                 16.0  \n",
       "\n",
       "[21703 rows x 7 columns]"
      ]
     },
     "execution_count": 44,
     "metadata": {},
     "output_type": "execute_result"
    }
   ],
   "source": [
    "temp.groupby('msno').tail(3)"
   ]
  },
  {
   "cell_type": "code",
   "execution_count": null,
   "id": "ed2c72b0",
   "metadata": {},
   "outputs": [],
   "source": []
  },
  {
   "cell_type": "code",
   "execution_count": null,
   "id": "1204423d",
   "metadata": {},
   "outputs": [],
   "source": []
  }
 ],
 "metadata": {
  "kernelspec": {
   "display_name": "env",
   "language": "python",
   "name": "env"
  },
  "language_info": {
   "codemirror_mode": {
    "name": "ipython",
    "version": 3
   },
   "file_extension": ".py",
   "mimetype": "text/x-python",
   "name": "python",
   "nbconvert_exporter": "python",
   "pygments_lexer": "ipython3",
   "version": "3.7.10"
  },
  "toc": {
   "base_numbering": 1,
   "nav_menu": {},
   "number_sections": true,
   "sideBar": true,
   "skip_h1_title": false,
   "title_cell": "Table of Contents",
   "title_sidebar": "Contents",
   "toc_cell": true,
   "toc_position": {},
   "toc_section_display": true,
   "toc_window_display": true
  }
 },
 "nbformat": 4,
 "nbformat_minor": 5
}
