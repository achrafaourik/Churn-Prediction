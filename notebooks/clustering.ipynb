{
 "cells": [
  {
   "cell_type": "code",
   "execution_count": 1,
   "id": "8039d4f7",
   "metadata": {
    "ExecuteTime": {
     "end_time": "2022-02-09T16:56:15.862170Z",
     "start_time": "2022-02-09T16:56:14.153228Z"
    }
   },
   "outputs": [],
   "source": [
    "%matplotlib inline\n",
    "import pandas as pd\n",
    "import matplotlib.pyplot as plt\n",
    "import seaborn as sns\n",
    "import altair as alt\n",
    "import warnings\n",
    "from IPython.core.interactiveshell import InteractiveShell\n",
    "import numpy as np\n",
    "import dask.dataframe as dd\n",
    "import os\n",
    "import itertools\n",
    "import matplotlib.ticker as ticker\n",
    "alt.renderers.enable('default')\n",
    "InteractiveShell.ast_node_interactivity = \"all\"\n",
    "sns.set_theme(style=\"darkgrid\")\n",
    "warnings.filterwarnings('ignore')\n",
    "sns.set_palette(sns.color_palette(\"Set3\"))"
   ]
  },
  {
   "cell_type": "code",
   "execution_count": 2,
   "id": "adb2cbdf",
   "metadata": {
    "ExecuteTime": {
     "end_time": "2022-02-09T16:56:15.867469Z",
     "start_time": "2022-02-09T16:56:15.864494Z"
    }
   },
   "outputs": [],
   "source": [
    "uid = 'msno'"
   ]
  },
  {
   "cell_type": "code",
   "execution_count": 3,
   "id": "2dc1d4b8",
   "metadata": {
    "ExecuteTime": {
     "end_time": "2022-02-09T16:56:19.625678Z",
     "start_time": "2022-02-09T16:56:18.505800Z"
    }
   },
   "outputs": [
    {
     "data": {
      "text/html": [
       "<div>\n",
       "<style scoped>\n",
       "    .dataframe tbody tr th:only-of-type {\n",
       "        vertical-align: middle;\n",
       "    }\n",
       "\n",
       "    .dataframe tbody tr th {\n",
       "        vertical-align: top;\n",
       "    }\n",
       "\n",
       "    .dataframe thead th {\n",
       "        text-align: right;\n",
       "    }\n",
       "</style>\n",
       "<table border=\"1\" class=\"dataframe\">\n",
       "  <thead>\n",
       "    <tr style=\"text-align: right;\">\n",
       "      <th></th>\n",
       "      <th>msno</th>\n",
       "      <th>is_churn</th>\n",
       "    </tr>\n",
       "  </thead>\n",
       "  <tbody>\n",
       "    <tr>\n",
       "      <th>0</th>\n",
       "      <td>waLDQMmcOu2jLDaV1ddDkgCrB/jl6sD66Xzs0Vqax1Y=</td>\n",
       "      <td>1</td>\n",
       "    </tr>\n",
       "    <tr>\n",
       "      <th>1</th>\n",
       "      <td>QA7uiXy8vIbUSPOkCf9RwQ3FsT8jVq2OxDr8zqa7bRQ=</td>\n",
       "      <td>1</td>\n",
       "    </tr>\n",
       "    <tr>\n",
       "      <th>2</th>\n",
       "      <td>fGwBva6hikQmTJzrbz/2Ezjm5Cth5jZUNvXigKK2AFA=</td>\n",
       "      <td>1</td>\n",
       "    </tr>\n",
       "    <tr>\n",
       "      <th>3</th>\n",
       "      <td>mT5V8rEpa+8wuqi6x0DoVd3H5icMKkE9Prt49UlmK+4=</td>\n",
       "      <td>1</td>\n",
       "    </tr>\n",
       "    <tr>\n",
       "      <th>4</th>\n",
       "      <td>XaPhtGLk/5UvvOYHcONTwsnH97P4eGECeq+BARGItRw=</td>\n",
       "      <td>1</td>\n",
       "    </tr>\n",
       "  </tbody>\n",
       "</table>\n",
       "</div>"
      ],
      "text/plain": [
       "                                           msno is_churn\n",
       "0  waLDQMmcOu2jLDaV1ddDkgCrB/jl6sD66Xzs0Vqax1Y=        1\n",
       "1  QA7uiXy8vIbUSPOkCf9RwQ3FsT8jVq2OxDr8zqa7bRQ=        1\n",
       "2  fGwBva6hikQmTJzrbz/2Ezjm5Cth5jZUNvXigKK2AFA=        1\n",
       "3  mT5V8rEpa+8wuqi6x0DoVd3H5icMKkE9Prt49UlmK+4=        1\n",
       "4  XaPhtGLk/5UvvOYHcONTwsnH97P4eGECeq+BARGItRw=        1"
      ]
     },
     "execution_count": 3,
     "metadata": {},
     "output_type": "execute_result"
    }
   ],
   "source": [
    "# This can be changed to the directory where the datasets are stored\n",
    "data_dir = './data'\n",
    "\n",
    "# Training data for january, contains two columns : user id and binary churn target variable\n",
    "train = pd.read_csv(os.path.join(data_dir, 'train.csv'), dtype={'is_churn': str})\n",
    "\n",
    "train.head()"
   ]
  },
  {
   "cell_type": "code",
   "execution_count": 4,
   "id": "5def2d6b",
   "metadata": {
    "ExecuteTime": {
     "end_time": "2022-02-09T16:56:50.360759Z",
     "start_time": "2022-02-09T16:56:20.061977Z"
    }
   },
   "outputs": [],
   "source": [
    "user_logs = dd.read_csv(os.path.join(data_dir, 'user_logs_cleaned.csv'), header=None,\n",
    "                        names=['msno','date','num_25','num_50','num_75','num_985','num_100','num_unq','total_secs'])\n",
    "transactions = pd.read_csv(os.path.join(data_dir, 'transactions_cleaned.csv'))"
   ]
  },
  {
   "cell_type": "code",
   "execution_count": 5,
   "id": "34cacfc5",
   "metadata": {
    "ExecuteTime": {
     "end_time": "2022-02-07T18:05:51.562154Z",
     "start_time": "2022-02-07T18:05:42.338516Z"
    }
   },
   "outputs": [],
   "source": [
    "members = pd.read_csv(os.path.join(data_dir, 'members_v3.csv'))"
   ]
  },
  {
   "cell_type": "code",
   "execution_count": 6,
   "id": "efff70e6",
   "metadata": {
    "ExecuteTime": {
     "end_time": "2022-02-07T18:05:51.574512Z",
     "start_time": "2022-02-07T18:05:51.564513Z"
    }
   },
   "outputs": [
    {
     "data": {
      "text/html": [
       "<div>\n",
       "<style scoped>\n",
       "    .dataframe tbody tr th:only-of-type {\n",
       "        vertical-align: middle;\n",
       "    }\n",
       "\n",
       "    .dataframe tbody tr th {\n",
       "        vertical-align: top;\n",
       "    }\n",
       "\n",
       "    .dataframe thead th {\n",
       "        text-align: right;\n",
       "    }\n",
       "</style>\n",
       "<table border=\"1\" class=\"dataframe\">\n",
       "  <thead>\n",
       "    <tr style=\"text-align: right;\">\n",
       "      <th></th>\n",
       "      <th>msno</th>\n",
       "      <th>city</th>\n",
       "      <th>bd</th>\n",
       "      <th>gender</th>\n",
       "      <th>registered_via</th>\n",
       "      <th>registration_init_time</th>\n",
       "    </tr>\n",
       "  </thead>\n",
       "  <tbody>\n",
       "    <tr>\n",
       "      <th>0</th>\n",
       "      <td>Rb9UwLQTrxzBVwCB6+bCcSQWZ9JiNLC9dXtM1oEsZA8=</td>\n",
       "      <td>1</td>\n",
       "      <td>0</td>\n",
       "      <td>NaN</td>\n",
       "      <td>11</td>\n",
       "      <td>20110911</td>\n",
       "    </tr>\n",
       "    <tr>\n",
       "      <th>1</th>\n",
       "      <td>+tJonkh+O1CA796Fm5X60UMOtB6POHAwPjbTRVl/EuU=</td>\n",
       "      <td>1</td>\n",
       "      <td>0</td>\n",
       "      <td>NaN</td>\n",
       "      <td>7</td>\n",
       "      <td>20110914</td>\n",
       "    </tr>\n",
       "    <tr>\n",
       "      <th>2</th>\n",
       "      <td>cV358ssn7a0f7jZOwGNWS07wCKVqxyiImJUX6xcIwKw=</td>\n",
       "      <td>1</td>\n",
       "      <td>0</td>\n",
       "      <td>NaN</td>\n",
       "      <td>11</td>\n",
       "      <td>20110915</td>\n",
       "    </tr>\n",
       "    <tr>\n",
       "      <th>3</th>\n",
       "      <td>9bzDeJP6sQodK73K5CBlJ6fgIQzPeLnRl0p5B77XP+g=</td>\n",
       "      <td>1</td>\n",
       "      <td>0</td>\n",
       "      <td>NaN</td>\n",
       "      <td>11</td>\n",
       "      <td>20110915</td>\n",
       "    </tr>\n",
       "    <tr>\n",
       "      <th>4</th>\n",
       "      <td>WFLY3s7z4EZsieHCt63XrsdtfTEmJ+2PnnKLH5GY4Tk=</td>\n",
       "      <td>6</td>\n",
       "      <td>32</td>\n",
       "      <td>female</td>\n",
       "      <td>9</td>\n",
       "      <td>20110915</td>\n",
       "    </tr>\n",
       "  </tbody>\n",
       "</table>\n",
       "</div>"
      ],
      "text/plain": [
       "                                           msno  city  bd  gender  \\\n",
       "0  Rb9UwLQTrxzBVwCB6+bCcSQWZ9JiNLC9dXtM1oEsZA8=     1   0     NaN   \n",
       "1  +tJonkh+O1CA796Fm5X60UMOtB6POHAwPjbTRVl/EuU=     1   0     NaN   \n",
       "2  cV358ssn7a0f7jZOwGNWS07wCKVqxyiImJUX6xcIwKw=     1   0     NaN   \n",
       "3  9bzDeJP6sQodK73K5CBlJ6fgIQzPeLnRl0p5B77XP+g=     1   0     NaN   \n",
       "4  WFLY3s7z4EZsieHCt63XrsdtfTEmJ+2PnnKLH5GY4Tk=     6  32  female   \n",
       "\n",
       "   registered_via  registration_init_time  \n",
       "0              11                20110911  \n",
       "1               7                20110914  \n",
       "2              11                20110915  \n",
       "3              11                20110915  \n",
       "4               9                20110915  "
      ]
     },
     "execution_count": 6,
     "metadata": {},
     "output_type": "execute_result"
    }
   ],
   "source": [
    "members.head()"
   ]
  },
  {
   "cell_type": "code",
   "execution_count": 10,
   "id": "019b4e3b",
   "metadata": {
    "ExecuteTime": {
     "end_time": "2022-02-09T16:36:59.591778Z",
     "start_time": "2022-02-09T16:36:59.588615Z"
    }
   },
   "outputs": [],
   "source": [
    "date_pred = 20170131"
   ]
  },
  {
   "cell_type": "code",
   "execution_count": 12,
   "id": "278d9a61",
   "metadata": {
    "ExecuteTime": {
     "end_time": "2022-02-07T18:11:26.939880Z",
     "start_time": "2022-02-07T18:11:26.895324Z"
    }
   },
   "outputs": [],
   "source": [
    "user_logs = user_logs.loc[user_logs.date <= date_pred]"
   ]
  },
  {
   "cell_type": "code",
   "execution_count": 13,
   "id": "22799931",
   "metadata": {
    "ExecuteTime": {
     "end_time": "2022-02-07T18:23:27.238298Z",
     "start_time": "2022-02-07T18:11:32.393002Z"
    }
   },
   "outputs": [],
   "source": [
    "# Using Dask API to generate basic features from the user logs dataset\n",
    "aggs_user_logs = user_logs.groupby(uid).agg({'total_secs': ['mean', 'sum'], 'num_unq': ['mean', 'sum']}).compute()"
   ]
  },
  {
   "cell_type": "code",
   "execution_count": 14,
   "id": "b880ad9e",
   "metadata": {
    "ExecuteTime": {
     "end_time": "2022-02-07T18:23:30.906294Z",
     "start_time": "2022-02-07T18:23:27.240860Z"
    }
   },
   "outputs": [],
   "source": [
    "aggs_user_logs = aggs_user_logs.reset_index()\n",
    "aggs_user_logs.columns = ['_'.join(x) for x in aggs_user_logs.columns.ravel()]\n",
    "aggs_user_logs.rename(columns={'msno_': 'msno'}, inplace=True)\n",
    "\n",
    "aggs_user_logs_filtered = aggs_user_logs[aggs_user_logs[uid].isin(train[uid])]\n",
    "\n",
    "aggs_user_logs_filtered.reset_index(inplace=True)"
   ]
  },
  {
   "cell_type": "code",
   "execution_count": 17,
   "id": "429c3aca",
   "metadata": {
    "ExecuteTime": {
     "end_time": "2022-02-07T18:24:29.522018Z",
     "start_time": "2022-02-07T18:24:29.509013Z"
    }
   },
   "outputs": [
    {
     "data": {
      "text/html": [
       "<div>\n",
       "<style scoped>\n",
       "    .dataframe tbody tr th:only-of-type {\n",
       "        vertical-align: middle;\n",
       "    }\n",
       "\n",
       "    .dataframe tbody tr th {\n",
       "        vertical-align: top;\n",
       "    }\n",
       "\n",
       "    .dataframe thead th {\n",
       "        text-align: right;\n",
       "    }\n",
       "</style>\n",
       "<table border=\"1\" class=\"dataframe\">\n",
       "  <thead>\n",
       "    <tr style=\"text-align: right;\">\n",
       "      <th></th>\n",
       "      <th>index</th>\n",
       "      <th>msno</th>\n",
       "      <th>total_secs_mean</th>\n",
       "      <th>total_secs_sum</th>\n",
       "      <th>num_unq_mean</th>\n",
       "      <th>num_unq_sum</th>\n",
       "    </tr>\n",
       "  </thead>\n",
       "  <tbody>\n",
       "    <tr>\n",
       "      <th>0</th>\n",
       "      <td>3</td>\n",
       "      <td>+++hVY1rZox/33YtvDgmKA2Frg/2qhkz12B9ylCvh8o=</td>\n",
       "      <td>7412.483605</td>\n",
       "      <td>563348.754</td>\n",
       "      <td>28.460526</td>\n",
       "      <td>2163</td>\n",
       "    </tr>\n",
       "    <tr>\n",
       "      <th>1</th>\n",
       "      <td>4</td>\n",
       "      <td>+++l/EXNMLTijfLBa8p2TUVVVp2aFGSuUI/h7mLmthw=</td>\n",
       "      <td>6665.326570</td>\n",
       "      <td>3872554.737</td>\n",
       "      <td>25.051635</td>\n",
       "      <td>14555</td>\n",
       "    </tr>\n",
       "    <tr>\n",
       "      <th>2</th>\n",
       "      <td>6</td>\n",
       "      <td>+++snpr7pmobhLKUgSHTv/mpkqgBT0tQJ0zQj6qKrqc=</td>\n",
       "      <td>11250.902094</td>\n",
       "      <td>6559275.921</td>\n",
       "      <td>41.360206</td>\n",
       "      <td>24113</td>\n",
       "    </tr>\n",
       "    <tr>\n",
       "      <th>3</th>\n",
       "      <td>8</td>\n",
       "      <td>++/9R3sX37CjxbY/AaGvbwr3QkwElKBCtSvVzhCBDOk=</td>\n",
       "      <td>5269.431311</td>\n",
       "      <td>1406938.160</td>\n",
       "      <td>13.745318</td>\n",
       "      <td>3670</td>\n",
       "    </tr>\n",
       "    <tr>\n",
       "      <th>4</th>\n",
       "      <td>12</td>\n",
       "      <td>++/UDNo9DLrxT8QVGiDi1OnWfczAdEwThaVyD0fXO50=</td>\n",
       "      <td>3160.614991</td>\n",
       "      <td>1349582.601</td>\n",
       "      <td>14.927400</td>\n",
       "      <td>6374</td>\n",
       "    </tr>\n",
       "  </tbody>\n",
       "</table>\n",
       "</div>"
      ],
      "text/plain": [
       "   index                                          msno  total_secs_mean  \\\n",
       "0      3  +++hVY1rZox/33YtvDgmKA2Frg/2qhkz12B9ylCvh8o=      7412.483605   \n",
       "1      4  +++l/EXNMLTijfLBa8p2TUVVVp2aFGSuUI/h7mLmthw=      6665.326570   \n",
       "2      6  +++snpr7pmobhLKUgSHTv/mpkqgBT0tQJ0zQj6qKrqc=     11250.902094   \n",
       "3      8  ++/9R3sX37CjxbY/AaGvbwr3QkwElKBCtSvVzhCBDOk=      5269.431311   \n",
       "4     12  ++/UDNo9DLrxT8QVGiDi1OnWfczAdEwThaVyD0fXO50=      3160.614991   \n",
       "\n",
       "   total_secs_sum  num_unq_mean  num_unq_sum  \n",
       "0      563348.754     28.460526         2163  \n",
       "1     3872554.737     25.051635        14555  \n",
       "2     6559275.921     41.360206        24113  \n",
       "3     1406938.160     13.745318         3670  \n",
       "4     1349582.601     14.927400         6374  "
      ]
     },
     "execution_count": 17,
     "metadata": {},
     "output_type": "execute_result"
    }
   ],
   "source": [
    "aggs_user_logs_filtered.head()"
   ]
  },
  {
   "cell_type": "code",
   "execution_count": 16,
   "id": "3ec55e4d",
   "metadata": {
    "ExecuteTime": {
     "end_time": "2022-02-07T18:24:21.944500Z",
     "start_time": "2022-02-07T18:24:21.933266Z"
    }
   },
   "outputs": [
    {
     "data": {
      "text/html": [
       "<div>\n",
       "<style scoped>\n",
       "    .dataframe tbody tr th:only-of-type {\n",
       "        vertical-align: middle;\n",
       "    }\n",
       "\n",
       "    .dataframe tbody tr th {\n",
       "        vertical-align: top;\n",
       "    }\n",
       "\n",
       "    .dataframe thead th {\n",
       "        text-align: right;\n",
       "    }\n",
       "</style>\n",
       "<table border=\"1\" class=\"dataframe\">\n",
       "  <thead>\n",
       "    <tr style=\"text-align: right;\">\n",
       "      <th></th>\n",
       "      <th>msno</th>\n",
       "      <th>payment_method_id</th>\n",
       "      <th>payment_plan_days</th>\n",
       "      <th>plan_list_price</th>\n",
       "      <th>actual_amount_paid</th>\n",
       "      <th>is_auto_renew</th>\n",
       "      <th>transaction_date</th>\n",
       "      <th>membership_expire_date</th>\n",
       "      <th>is_cancel</th>\n",
       "    </tr>\n",
       "  </thead>\n",
       "  <tbody>\n",
       "    <tr>\n",
       "      <th>0</th>\n",
       "      <td>JQqsvSC2BNWif2jSUS0BJ3JT1/oREqxrrL4jNjbjFWU=</td>\n",
       "      <td>41</td>\n",
       "      <td>30</td>\n",
       "      <td>149</td>\n",
       "      <td>149</td>\n",
       "      <td>1</td>\n",
       "      <td>20150101</td>\n",
       "      <td>20150202</td>\n",
       "      <td>0</td>\n",
       "    </tr>\n",
       "    <tr>\n",
       "      <th>1</th>\n",
       "      <td>Z1CV2CrBP9tR4Xr5H4VqgGzx650b2HtwJWJV/ExQNaw=</td>\n",
       "      <td>41</td>\n",
       "      <td>30</td>\n",
       "      <td>149</td>\n",
       "      <td>149</td>\n",
       "      <td>1</td>\n",
       "      <td>20150101</td>\n",
       "      <td>20150201</td>\n",
       "      <td>0</td>\n",
       "    </tr>\n",
       "    <tr>\n",
       "      <th>2</th>\n",
       "      <td>flo7XEv3URucBlewH+Y/QgdmrAapKq3+NMs97Z+A9Sc=</td>\n",
       "      <td>41</td>\n",
       "      <td>30</td>\n",
       "      <td>149</td>\n",
       "      <td>149</td>\n",
       "      <td>1</td>\n",
       "      <td>20150101</td>\n",
       "      <td>20150201</td>\n",
       "      <td>0</td>\n",
       "    </tr>\n",
       "    <tr>\n",
       "      <th>3</th>\n",
       "      <td>Bv0w1EeVjiPLB8r5mR1ny2x8guIdqzGNpKa1LgJ1d9M=</td>\n",
       "      <td>41</td>\n",
       "      <td>30</td>\n",
       "      <td>149</td>\n",
       "      <td>149</td>\n",
       "      <td>1</td>\n",
       "      <td>20150101</td>\n",
       "      <td>20150203</td>\n",
       "      <td>0</td>\n",
       "    </tr>\n",
       "    <tr>\n",
       "      <th>4</th>\n",
       "      <td>fSn3mhLjNEREk1f/84iU1FFas2l4zAaMk4JT15WLlvE=</td>\n",
       "      <td>41</td>\n",
       "      <td>30</td>\n",
       "      <td>149</td>\n",
       "      <td>149</td>\n",
       "      <td>1</td>\n",
       "      <td>20150101</td>\n",
       "      <td>20150201</td>\n",
       "      <td>0</td>\n",
       "    </tr>\n",
       "  </tbody>\n",
       "</table>\n",
       "</div>"
      ],
      "text/plain": [
       "                                           msno  payment_method_id  \\\n",
       "0  JQqsvSC2BNWif2jSUS0BJ3JT1/oREqxrrL4jNjbjFWU=                 41   \n",
       "1  Z1CV2CrBP9tR4Xr5H4VqgGzx650b2HtwJWJV/ExQNaw=                 41   \n",
       "2  flo7XEv3URucBlewH+Y/QgdmrAapKq3+NMs97Z+A9Sc=                 41   \n",
       "3  Bv0w1EeVjiPLB8r5mR1ny2x8guIdqzGNpKa1LgJ1d9M=                 41   \n",
       "4  fSn3mhLjNEREk1f/84iU1FFas2l4zAaMk4JT15WLlvE=                 41   \n",
       "\n",
       "   payment_plan_days  plan_list_price  actual_amount_paid  is_auto_renew  \\\n",
       "0                 30              149                 149              1   \n",
       "1                 30              149                 149              1   \n",
       "2                 30              149                 149              1   \n",
       "3                 30              149                 149              1   \n",
       "4                 30              149                 149              1   \n",
       "\n",
       "   transaction_date  membership_expire_date  is_cancel  \n",
       "0          20150101                20150202          0  \n",
       "1          20150101                20150201          0  \n",
       "2          20150101                20150201          0  \n",
       "3          20150101                20150203          0  \n",
       "4          20150101                20150201          0  "
      ]
     },
     "execution_count": 16,
     "metadata": {},
     "output_type": "execute_result"
    }
   ],
   "source": [
    "transactions.head()"
   ]
  },
  {
   "cell_type": "code",
   "execution_count": 5,
   "id": "a6db3910",
   "metadata": {
    "ExecuteTime": {
     "end_time": "2022-02-09T16:56:50.382199Z",
     "start_time": "2022-02-09T16:56:50.362814Z"
    }
   },
   "outputs": [
    {
     "ename": "NameError",
     "evalue": "name 'date_pred' is not defined",
     "output_type": "error",
     "traceback": [
      "\u001b[0;31m---------------------------------------------------------------------------\u001b[0m",
      "\u001b[0;31mNameError\u001b[0m                                 Traceback (most recent call last)",
      "\u001b[0;32m<ipython-input-5-3609bf175363>\u001b[0m in \u001b[0;36m<module>\u001b[0;34m\u001b[0m\n\u001b[0;32m----> 1\u001b[0;31m \u001b[0mtransactions\u001b[0m \u001b[0;34m=\u001b[0m \u001b[0mtransactions\u001b[0m\u001b[0;34m.\u001b[0m\u001b[0mloc\u001b[0m\u001b[0;34m[\u001b[0m\u001b[0mtransactions\u001b[0m\u001b[0;34m.\u001b[0m\u001b[0mtransaction_date\u001b[0m \u001b[0;34m<=\u001b[0m \u001b[0mdate_pred\u001b[0m\u001b[0;34m]\u001b[0m\u001b[0;34m\u001b[0m\u001b[0;34m\u001b[0m\u001b[0m\n\u001b[0m",
      "\u001b[0;31mNameError\u001b[0m: name 'date_pred' is not defined"
     ]
    }
   ],
   "source": [
    "transactions = transactions.loc[transactions.transaction_date <= date_pred]"
   ]
  },
  {
   "cell_type": "code",
   "execution_count": null,
   "id": "9887e454",
   "metadata": {
    "ExecuteTime": {
     "end_time": "2022-02-09T16:56:50.383932Z",
     "start_time": "2022-02-09T16:56:28.864Z"
    }
   },
   "outputs": [],
   "source": [
    "transactions['transaction_date'] = pd.to_datetime(transactions['transaction_date'], format='%Y%m%d')"
   ]
  },
  {
   "cell_type": "code",
   "execution_count": 20,
   "id": "8c5df838",
   "metadata": {
    "ExecuteTime": {
     "end_time": "2022-02-07T18:25:54.886288Z",
     "start_time": "2022-02-07T18:25:50.916798Z"
    }
   },
   "outputs": [],
   "source": [
    "agg_transactions = transactions.groupby(['transaction_date', 'is_cancel']).agg(\n",
    "    nbr_daily_transactions=('msno', 'count'), total_daily_amount=('actual_amount_paid', 'sum')).reset_index()"
   ]
  },
  {
   "cell_type": "code",
   "execution_count": 21,
   "id": "4ca08837",
   "metadata": {
    "ExecuteTime": {
     "end_time": "2022-02-07T18:26:49.383531Z",
     "start_time": "2022-02-07T18:26:49.297668Z"
    }
   },
   "outputs": [],
   "source": [
    "agg_transactions.to_csv('agg_transactions.csv', index=False)"
   ]
  },
  {
   "cell_type": "code",
   "execution_count": 22,
   "id": "b7908c3f",
   "metadata": {
    "ExecuteTime": {
     "end_time": "2022-02-07T18:27:10.215765Z",
     "start_time": "2022-02-07T18:27:03.992105Z"
    }
   },
   "outputs": [],
   "source": [
    "aggs_user_logs_filtered.to_csv('agg_user_logs.csv', index=False)"
   ]
  },
  {
   "cell_type": "code",
   "execution_count": 2,
   "id": "bcdbf14e",
   "metadata": {
    "ExecuteTime": {
     "end_time": "2022-02-09T16:29:54.529618Z",
     "start_time": "2022-02-09T16:29:52.592142Z"
    }
   },
   "outputs": [],
   "source": [
    "agg_transactions = pd.read_csv('agg_transactions.csv')\n",
    "agg_user_logs = pd.read_csv('agg_user_logs.csv')"
   ]
  },
  {
   "cell_type": "code",
   "execution_count": 3,
   "id": "7bf71b84",
   "metadata": {
    "ExecuteTime": {
     "end_time": "2022-02-09T16:30:08.252903Z",
     "start_time": "2022-02-09T16:30:08.132961Z"
    }
   },
   "outputs": [
    {
     "data": {
      "text/html": [
       "<div>\n",
       "<style scoped>\n",
       "    .dataframe tbody tr th:only-of-type {\n",
       "        vertical-align: middle;\n",
       "    }\n",
       "\n",
       "    .dataframe tbody tr th {\n",
       "        vertical-align: top;\n",
       "    }\n",
       "\n",
       "    .dataframe thead th {\n",
       "        text-align: right;\n",
       "    }\n",
       "</style>\n",
       "<table border=\"1\" class=\"dataframe\">\n",
       "  <thead>\n",
       "    <tr style=\"text-align: right;\">\n",
       "      <th></th>\n",
       "      <th>transaction_date</th>\n",
       "      <th>is_cancel</th>\n",
       "      <th>nbr_daily_transactions</th>\n",
       "      <th>total_daily_amount</th>\n",
       "    </tr>\n",
       "  </thead>\n",
       "  <tbody>\n",
       "    <tr>\n",
       "      <th>0</th>\n",
       "      <td>2015-01-01</td>\n",
       "      <td>0</td>\n",
       "      <td>21309</td>\n",
       "      <td>3570800</td>\n",
       "    </tr>\n",
       "    <tr>\n",
       "      <th>1</th>\n",
       "      <td>2015-01-01</td>\n",
       "      <td>1</td>\n",
       "      <td>544</td>\n",
       "      <td>57174</td>\n",
       "    </tr>\n",
       "    <tr>\n",
       "      <th>2</th>\n",
       "      <td>2015-01-02</td>\n",
       "      <td>0</td>\n",
       "      <td>15532</td>\n",
       "      <td>2726927</td>\n",
       "    </tr>\n",
       "    <tr>\n",
       "      <th>3</th>\n",
       "      <td>2015-01-02</td>\n",
       "      <td>1</td>\n",
       "      <td>855</td>\n",
       "      <td>101020</td>\n",
       "    </tr>\n",
       "    <tr>\n",
       "      <th>4</th>\n",
       "      <td>2015-01-03</td>\n",
       "      <td>0</td>\n",
       "      <td>15904</td>\n",
       "      <td>2799779</td>\n",
       "    </tr>\n",
       "  </tbody>\n",
       "</table>\n",
       "</div>"
      ],
      "text/plain": [
       "  transaction_date  is_cancel  nbr_daily_transactions  total_daily_amount\n",
       "0       2015-01-01          0                   21309             3570800\n",
       "1       2015-01-01          1                     544               57174\n",
       "2       2015-01-02          0                   15532             2726927\n",
       "3       2015-01-02          1                     855              101020\n",
       "4       2015-01-03          0                   15904             2799779"
      ]
     },
     "execution_count": 3,
     "metadata": {},
     "output_type": "execute_result"
    }
   ],
   "source": [
    "agg_transactions.head()"
   ]
  },
  {
   "cell_type": "code",
   "execution_count": 12,
   "id": "f2c00370",
   "metadata": {
    "ExecuteTime": {
     "end_time": "2022-02-09T16:37:05.436228Z",
     "start_time": "2022-02-09T16:37:05.424375Z"
    }
   },
   "outputs": [
    {
     "data": {
      "text/html": [
       "<div>\n",
       "<style scoped>\n",
       "    .dataframe tbody tr th:only-of-type {\n",
       "        vertical-align: middle;\n",
       "    }\n",
       "\n",
       "    .dataframe tbody tr th {\n",
       "        vertical-align: top;\n",
       "    }\n",
       "\n",
       "    .dataframe thead th {\n",
       "        text-align: right;\n",
       "    }\n",
       "</style>\n",
       "<table border=\"1\" class=\"dataframe\">\n",
       "  <thead>\n",
       "    <tr style=\"text-align: right;\">\n",
       "      <th></th>\n",
       "      <th>msno</th>\n",
       "      <th>payment_method_id</th>\n",
       "      <th>payment_plan_days</th>\n",
       "      <th>plan_list_price</th>\n",
       "      <th>actual_amount_paid</th>\n",
       "      <th>is_auto_renew</th>\n",
       "      <th>transaction_date</th>\n",
       "      <th>membership_expire_date</th>\n",
       "      <th>is_cancel</th>\n",
       "    </tr>\n",
       "  </thead>\n",
       "  <tbody>\n",
       "    <tr>\n",
       "      <th>0</th>\n",
       "      <td>JQqsvSC2BNWif2jSUS0BJ3JT1/oREqxrrL4jNjbjFWU=</td>\n",
       "      <td>41</td>\n",
       "      <td>30</td>\n",
       "      <td>149</td>\n",
       "      <td>149</td>\n",
       "      <td>1</td>\n",
       "      <td>20150101</td>\n",
       "      <td>20150202</td>\n",
       "      <td>0</td>\n",
       "    </tr>\n",
       "    <tr>\n",
       "      <th>1</th>\n",
       "      <td>Z1CV2CrBP9tR4Xr5H4VqgGzx650b2HtwJWJV/ExQNaw=</td>\n",
       "      <td>41</td>\n",
       "      <td>30</td>\n",
       "      <td>149</td>\n",
       "      <td>149</td>\n",
       "      <td>1</td>\n",
       "      <td>20150101</td>\n",
       "      <td>20150201</td>\n",
       "      <td>0</td>\n",
       "    </tr>\n",
       "    <tr>\n",
       "      <th>2</th>\n",
       "      <td>flo7XEv3URucBlewH+Y/QgdmrAapKq3+NMs97Z+A9Sc=</td>\n",
       "      <td>41</td>\n",
       "      <td>30</td>\n",
       "      <td>149</td>\n",
       "      <td>149</td>\n",
       "      <td>1</td>\n",
       "      <td>20150101</td>\n",
       "      <td>20150201</td>\n",
       "      <td>0</td>\n",
       "    </tr>\n",
       "    <tr>\n",
       "      <th>3</th>\n",
       "      <td>Bv0w1EeVjiPLB8r5mR1ny2x8guIdqzGNpKa1LgJ1d9M=</td>\n",
       "      <td>41</td>\n",
       "      <td>30</td>\n",
       "      <td>149</td>\n",
       "      <td>149</td>\n",
       "      <td>1</td>\n",
       "      <td>20150101</td>\n",
       "      <td>20150203</td>\n",
       "      <td>0</td>\n",
       "    </tr>\n",
       "    <tr>\n",
       "      <th>4</th>\n",
       "      <td>fSn3mhLjNEREk1f/84iU1FFas2l4zAaMk4JT15WLlvE=</td>\n",
       "      <td>41</td>\n",
       "      <td>30</td>\n",
       "      <td>149</td>\n",
       "      <td>149</td>\n",
       "      <td>1</td>\n",
       "      <td>20150101</td>\n",
       "      <td>20150201</td>\n",
       "      <td>0</td>\n",
       "    </tr>\n",
       "  </tbody>\n",
       "</table>\n",
       "</div>"
      ],
      "text/plain": [
       "                                           msno  payment_method_id  \\\n",
       "0  JQqsvSC2BNWif2jSUS0BJ3JT1/oREqxrrL4jNjbjFWU=                 41   \n",
       "1  Z1CV2CrBP9tR4Xr5H4VqgGzx650b2HtwJWJV/ExQNaw=                 41   \n",
       "2  flo7XEv3URucBlewH+Y/QgdmrAapKq3+NMs97Z+A9Sc=                 41   \n",
       "3  Bv0w1EeVjiPLB8r5mR1ny2x8guIdqzGNpKa1LgJ1d9M=                 41   \n",
       "4  fSn3mhLjNEREk1f/84iU1FFas2l4zAaMk4JT15WLlvE=                 41   \n",
       "\n",
       "   payment_plan_days  plan_list_price  actual_amount_paid  is_auto_renew  \\\n",
       "0                 30              149                 149              1   \n",
       "1                 30              149                 149              1   \n",
       "2                 30              149                 149              1   \n",
       "3                 30              149                 149              1   \n",
       "4                 30              149                 149              1   \n",
       "\n",
       "   transaction_date  membership_expire_date  is_cancel  \n",
       "0          20150101                20150202          0  \n",
       "1          20150101                20150201          0  \n",
       "2          20150101                20150201          0  \n",
       "3          20150101                20150203          0  \n",
       "4          20150101                20150201          0  "
      ]
     },
     "execution_count": 12,
     "metadata": {},
     "output_type": "execute_result"
    }
   ],
   "source": [
    "transactions.head()"
   ]
  },
  {
   "cell_type": "code",
   "execution_count": null,
   "id": "fbc96aa0",
   "metadata": {},
   "outputs": [],
   "source": [
    "transactions"
   ]
  },
  {
   "cell_type": "code",
   "execution_count": 14,
   "id": "9967ec80",
   "metadata": {
    "ExecuteTime": {
     "end_time": "2022-02-09T16:40:11.114306Z",
     "start_time": "2022-02-09T16:39:50.475021Z"
    }
   },
   "outputs": [],
   "source": [
    "nbr_cancels = transactions.groupby(uid).agg(nbr_cancels=(\"is_cancel\", \"sum\")).reset_index()"
   ]
  },
  {
   "cell_type": "code",
   "execution_count": 6,
   "id": "a6218e1f",
   "metadata": {
    "ExecuteTime": {
     "end_time": "2022-02-09T16:57:28.052003Z",
     "start_time": "2022-02-09T16:57:26.721890Z"
    }
   },
   "outputs": [],
   "source": [
    "filtered_trx = transactions.loc[transactions.is_cancel == 0]"
   ]
  },
  {
   "cell_type": "code",
   "execution_count": 7,
   "id": "8e7c199b",
   "metadata": {
    "ExecuteTime": {
     "end_time": "2022-02-09T16:57:28.770968Z",
     "start_time": "2022-02-09T16:57:28.765731Z"
    }
   },
   "outputs": [
    {
     "data": {
      "text/plain": [
       "(22086771, 9)"
      ]
     },
     "execution_count": 7,
     "metadata": {},
     "output_type": "execute_result"
    }
   ],
   "source": [
    "filtered_trx.shape"
   ]
  },
  {
   "cell_type": "code",
   "execution_count": 17,
   "id": "bce09aa2",
   "metadata": {
    "ExecuteTime": {
     "end_time": "2022-02-09T17:05:08.316803Z",
     "start_time": "2022-02-09T17:04:39.902363Z"
    }
   },
   "outputs": [],
   "source": [
    "aggs_trx = filtered_trx.groupby(uid).agg(total_days_subscribed=(\"payment_plan_days\", \"sum\"), \n",
    "                                         total_amount_paid=(\"actual_amount_paid\", \"sum\"),\n",
    "                                         average_days_subscribed=(\"payment_plan_days\", \"mean\"),\n",
    "                                         average_amount_paid=(\"actual_amount_paid\", \"mean\"),\n",
    "                                         percentage_auto_renew=(\"is_auto_renew\", \"mean\")\n",
    "                                        ).reset_index()"
   ]
  },
  {
   "cell_type": "code",
   "execution_count": 18,
   "id": "78e5905e",
   "metadata": {
    "ExecuteTime": {
     "end_time": "2022-02-09T17:05:08.330558Z",
     "start_time": "2022-02-09T17:05:08.319029Z"
    }
   },
   "outputs": [
    {
     "data": {
      "text/html": [
       "<div>\n",
       "<style scoped>\n",
       "    .dataframe tbody tr th:only-of-type {\n",
       "        vertical-align: middle;\n",
       "    }\n",
       "\n",
       "    .dataframe tbody tr th {\n",
       "        vertical-align: top;\n",
       "    }\n",
       "\n",
       "    .dataframe thead th {\n",
       "        text-align: right;\n",
       "    }\n",
       "</style>\n",
       "<table border=\"1\" class=\"dataframe\">\n",
       "  <thead>\n",
       "    <tr style=\"text-align: right;\">\n",
       "      <th></th>\n",
       "      <th>msno</th>\n",
       "      <th>total_days_subscribed</th>\n",
       "      <th>total_amount_paid</th>\n",
       "      <th>average_days_subscribed</th>\n",
       "      <th>average_amount_paid</th>\n",
       "      <th>percentage_auto_renew</th>\n",
       "    </tr>\n",
       "  </thead>\n",
       "  <tbody>\n",
       "    <tr>\n",
       "      <th>0</th>\n",
       "      <td>+++FOrTS7ab3tIgIh8eWwX4FqRv8w/FoiOuyXsFvphY=</td>\n",
       "      <td>7</td>\n",
       "      <td>0</td>\n",
       "      <td>7.000000</td>\n",
       "      <td>0.0</td>\n",
       "      <td>0.0</td>\n",
       "    </tr>\n",
       "    <tr>\n",
       "      <th>1</th>\n",
       "      <td>+++IZseRRiQS9aaSkH6cMYU6bGDcxUieAi/tH67sC5s=</td>\n",
       "      <td>805</td>\n",
       "      <td>3387</td>\n",
       "      <td>402.500000</td>\n",
       "      <td>1693.5</td>\n",
       "      <td>0.0</td>\n",
       "    </tr>\n",
       "    <tr>\n",
       "      <th>2</th>\n",
       "      <td>+++hVY1rZox/33YtvDgmKA2Frg/2qhkz12B9ylCvh8o=</td>\n",
       "      <td>150</td>\n",
       "      <td>495</td>\n",
       "      <td>30.000000</td>\n",
       "      <td>99.0</td>\n",
       "      <td>1.0</td>\n",
       "    </tr>\n",
       "    <tr>\n",
       "      <th>3</th>\n",
       "      <td>+++l/EXNMLTijfLBa8p2TUVVVp2aFGSuUI/h7mLmthw=</td>\n",
       "      <td>603</td>\n",
       "      <td>3129</td>\n",
       "      <td>28.714286</td>\n",
       "      <td>149.0</td>\n",
       "      <td>1.0</td>\n",
       "    </tr>\n",
       "    <tr>\n",
       "      <th>4</th>\n",
       "      <td>+++snpr7pmobhLKUgSHTv/mpkqgBT0tQJ0zQj6qKrqc=</td>\n",
       "      <td>780</td>\n",
       "      <td>4023</td>\n",
       "      <td>28.888889</td>\n",
       "      <td>149.0</td>\n",
       "      <td>1.0</td>\n",
       "    </tr>\n",
       "  </tbody>\n",
       "</table>\n",
       "</div>"
      ],
      "text/plain": [
       "                                           msno  total_days_subscribed  \\\n",
       "0  +++FOrTS7ab3tIgIh8eWwX4FqRv8w/FoiOuyXsFvphY=                      7   \n",
       "1  +++IZseRRiQS9aaSkH6cMYU6bGDcxUieAi/tH67sC5s=                    805   \n",
       "2  +++hVY1rZox/33YtvDgmKA2Frg/2qhkz12B9ylCvh8o=                    150   \n",
       "3  +++l/EXNMLTijfLBa8p2TUVVVp2aFGSuUI/h7mLmthw=                    603   \n",
       "4  +++snpr7pmobhLKUgSHTv/mpkqgBT0tQJ0zQj6qKrqc=                    780   \n",
       "\n",
       "   total_amount_paid  average_days_subscribed  average_amount_paid  \\\n",
       "0                  0                 7.000000                  0.0   \n",
       "1               3387               402.500000               1693.5   \n",
       "2                495                30.000000                 99.0   \n",
       "3               3129                28.714286                149.0   \n",
       "4               4023                28.888889                149.0   \n",
       "\n",
       "   percentage_auto_renew  \n",
       "0                    0.0  \n",
       "1                    0.0  \n",
       "2                    1.0  \n",
       "3                    1.0  \n",
       "4                    1.0  "
      ]
     },
     "execution_count": 18,
     "metadata": {},
     "output_type": "execute_result"
    }
   ],
   "source": [
    "aggs_trx.head()"
   ]
  },
  {
   "cell_type": "code",
   "execution_count": 20,
   "id": "1043bba0",
   "metadata": {
    "ExecuteTime": {
     "end_time": "2022-02-09T17:06:20.640158Z",
     "start_time": "2022-02-09T17:06:06.461997Z"
    }
   },
   "outputs": [],
   "source": [
    "aggs_trx.to_csv('agg_transactions.csv', index=False)"
   ]
  },
  {
   "cell_type": "code",
   "execution_count": 25,
   "id": "59e14812",
   "metadata": {
    "ExecuteTime": {
     "end_time": "2022-02-09T16:46:27.034454Z",
     "start_time": "2022-02-09T16:46:26.966924Z"
    }
   },
   "outputs": [
    {
     "data": {
      "text/plain": [
       "min          0.000000\n",
       "max       2000.000000\n",
       "median       0.000000\n",
       "mean         0.992147\n",
       "Name: total_amount_paid, dtype: float64"
      ]
     },
     "execution_count": 25,
     "metadata": {},
     "output_type": "execute_result"
    }
   ],
   "source": [
    "aggs_trx[aggs_trx.total_days_subscribed==7]['total_amount_paid'].agg(['min', 'max', 'median', 'mean'])"
   ]
  },
  {
   "cell_type": "code",
   "execution_count": 27,
   "id": "549ab727",
   "metadata": {
    "ExecuteTime": {
     "end_time": "2022-02-09T16:46:59.366343Z",
     "start_time": "2022-02-09T16:46:59.319850Z"
    }
   },
   "outputs": [],
   "source": [
    "seven_days_sub = aggs_trx[aggs_trx.total_days_subscribed==7]"
   ]
  },
  {
   "cell_type": "code",
   "execution_count": 29,
   "id": "5609d739",
   "metadata": {
    "ExecuteTime": {
     "end_time": "2022-02-09T16:47:10.291797Z",
     "start_time": "2022-02-09T16:47:10.284367Z"
    }
   },
   "outputs": [
    {
     "data": {
      "text/plain": [
       "0.9955495361278527"
      ]
     },
     "execution_count": 29,
     "metadata": {},
     "output_type": "execute_result"
    }
   ],
   "source": [
    "(seven_days_sub['total_amount_paid'] == 0).mean()"
   ]
  },
  {
   "cell_type": "code",
   "execution_count": 22,
   "id": "d202ef5d",
   "metadata": {
    "ExecuteTime": {
     "end_time": "2022-02-09T16:43:01.893789Z",
     "start_time": "2022-02-09T16:43:01.810541Z"
    }
   },
   "outputs": [
    {
     "data": {
      "text/plain": [
       "min          0.000000\n",
       "max       7695.000000\n",
       "mean       295.317309\n",
       "median     213.000000\n",
       "std        271.597388\n",
       "Name: total_days_subscribed, dtype: float64"
      ]
     },
     "execution_count": 22,
     "metadata": {},
     "output_type": "execute_result"
    }
   ],
   "source": [
    "aggs_trx.total_days_subscribed.agg(['min', 'max', 'mean', 'median', 'std'])"
   ]
  },
  {
   "cell_type": "code",
   "execution_count": 33,
   "id": "6f590334",
   "metadata": {
    "ExecuteTime": {
     "end_time": "2022-02-09T16:49:13.205644Z",
     "start_time": "2022-02-09T16:49:07.216117Z"
    }
   },
   "outputs": [],
   "source": [
    "agg_user_logs.drop('index', 1).to_csv('agg_user_logs.csv', index=False)"
   ]
  },
  {
   "cell_type": "code",
   "execution_count": 36,
   "id": "f834a6fd",
   "metadata": {
    "ExecuteTime": {
     "end_time": "2022-02-09T16:53:26.532557Z",
     "start_time": "2022-02-09T16:53:26.520593Z"
    }
   },
   "outputs": [
    {
     "data": {
      "text/html": [
       "<div>\n",
       "<style scoped>\n",
       "    .dataframe tbody tr th:only-of-type {\n",
       "        vertical-align: middle;\n",
       "    }\n",
       "\n",
       "    .dataframe tbody tr th {\n",
       "        vertical-align: top;\n",
       "    }\n",
       "\n",
       "    .dataframe thead th {\n",
       "        text-align: right;\n",
       "    }\n",
       "</style>\n",
       "<table border=\"1\" class=\"dataframe\">\n",
       "  <thead>\n",
       "    <tr style=\"text-align: right;\">\n",
       "      <th></th>\n",
       "      <th>msno</th>\n",
       "      <th>total_days_subscribed</th>\n",
       "      <th>total_amount_paid</th>\n",
       "    </tr>\n",
       "  </thead>\n",
       "  <tbody>\n",
       "    <tr>\n",
       "      <th>0</th>\n",
       "      <td>+++FOrTS7ab3tIgIh8eWwX4FqRv8w/FoiOuyXsFvphY=</td>\n",
       "      <td>7</td>\n",
       "      <td>0</td>\n",
       "    </tr>\n",
       "    <tr>\n",
       "      <th>1</th>\n",
       "      <td>+++IZseRRiQS9aaSkH6cMYU6bGDcxUieAi/tH67sC5s=</td>\n",
       "      <td>805</td>\n",
       "      <td>3387</td>\n",
       "    </tr>\n",
       "    <tr>\n",
       "      <th>2</th>\n",
       "      <td>+++hVY1rZox/33YtvDgmKA2Frg/2qhkz12B9ylCvh8o=</td>\n",
       "      <td>90</td>\n",
       "      <td>297</td>\n",
       "    </tr>\n",
       "    <tr>\n",
       "      <th>3</th>\n",
       "      <td>+++l/EXNMLTijfLBa8p2TUVVVp2aFGSuUI/h7mLmthw=</td>\n",
       "      <td>543</td>\n",
       "      <td>2831</td>\n",
       "    </tr>\n",
       "    <tr>\n",
       "      <th>4</th>\n",
       "      <td>+++snpr7pmobhLKUgSHTv/mpkqgBT0tQJ0zQj6qKrqc=</td>\n",
       "      <td>720</td>\n",
       "      <td>3725</td>\n",
       "    </tr>\n",
       "    <tr>\n",
       "      <th>...</th>\n",
       "      <td>...</td>\n",
       "      <td>...</td>\n",
       "      <td>...</td>\n",
       "    </tr>\n",
       "    <tr>\n",
       "      <th>2354614</th>\n",
       "      <td>zzz672Xpk1wKox75rJ5gak43ZkFQUV1f7Xek3jnPeRM=</td>\n",
       "      <td>7</td>\n",
       "      <td>0</td>\n",
       "    </tr>\n",
       "    <tr>\n",
       "      <th>2354615</th>\n",
       "      <td>zzz9+ZF4+GMyt63oU8xfjo1EkvRqH5OINlES0RUJI6I=</td>\n",
       "      <td>420</td>\n",
       "      <td>1846</td>\n",
       "    </tr>\n",
       "    <tr>\n",
       "      <th>2354616</th>\n",
       "      <td>zzzN9thH22os1dRS0VHReY/8FTfGHOi86//d+wGGFsQ=</td>\n",
       "      <td>330</td>\n",
       "      <td>1089</td>\n",
       "    </tr>\n",
       "    <tr>\n",
       "      <th>2354617</th>\n",
       "      <td>zzztsqkufVj9DPVJDM3FxDkhlbCL5z4aiYxgPSGkIK4=</td>\n",
       "      <td>7</td>\n",
       "      <td>0</td>\n",
       "    </tr>\n",
       "    <tr>\n",
       "      <th>2354618</th>\n",
       "      <td>zzzyOgMk9MljCerbCCYrVtvu85aSCiy7yCMjAEgNYMs=</td>\n",
       "      <td>7</td>\n",
       "      <td>0</td>\n",
       "    </tr>\n",
       "  </tbody>\n",
       "</table>\n",
       "<p>2354619 rows × 3 columns</p>\n",
       "</div>"
      ],
      "text/plain": [
       "                                                 msno  total_days_subscribed  \\\n",
       "0        +++FOrTS7ab3tIgIh8eWwX4FqRv8w/FoiOuyXsFvphY=                      7   \n",
       "1        +++IZseRRiQS9aaSkH6cMYU6bGDcxUieAi/tH67sC5s=                    805   \n",
       "2        +++hVY1rZox/33YtvDgmKA2Frg/2qhkz12B9ylCvh8o=                     90   \n",
       "3        +++l/EXNMLTijfLBa8p2TUVVVp2aFGSuUI/h7mLmthw=                    543   \n",
       "4        +++snpr7pmobhLKUgSHTv/mpkqgBT0tQJ0zQj6qKrqc=                    720   \n",
       "...                                               ...                    ...   \n",
       "2354614  zzz672Xpk1wKox75rJ5gak43ZkFQUV1f7Xek3jnPeRM=                      7   \n",
       "2354615  zzz9+ZF4+GMyt63oU8xfjo1EkvRqH5OINlES0RUJI6I=                    420   \n",
       "2354616  zzzN9thH22os1dRS0VHReY/8FTfGHOi86//d+wGGFsQ=                    330   \n",
       "2354617  zzztsqkufVj9DPVJDM3FxDkhlbCL5z4aiYxgPSGkIK4=                      7   \n",
       "2354618  zzzyOgMk9MljCerbCCYrVtvu85aSCiy7yCMjAEgNYMs=                      7   \n",
       "\n",
       "         total_amount_paid  \n",
       "0                        0  \n",
       "1                     3387  \n",
       "2                      297  \n",
       "3                     2831  \n",
       "4                     3725  \n",
       "...                    ...  \n",
       "2354614                  0  \n",
       "2354615               1846  \n",
       "2354616               1089  \n",
       "2354617                  0  \n",
       "2354618                  0  \n",
       "\n",
       "[2354619 rows x 3 columns]"
      ]
     },
     "execution_count": 36,
     "metadata": {},
     "output_type": "execute_result"
    }
   ],
   "source": [
    "aggs_trx"
   ]
  },
  {
   "cell_type": "code",
   "execution_count": 10,
   "id": "f47fe11c",
   "metadata": {
    "ExecuteTime": {
     "end_time": "2022-02-09T16:58:01.616993Z",
     "start_time": "2022-02-09T16:58:01.430316Z"
    }
   },
   "outputs": [],
   "source": [
    "free_trx = filtered_trx[filtered_trx.actual_amount_paid < 1]"
   ]
  },
  {
   "cell_type": "code",
   "execution_count": 11,
   "id": "382dfd7b",
   "metadata": {
    "ExecuteTime": {
     "end_time": "2022-02-09T16:58:04.738242Z",
     "start_time": "2022-02-09T16:58:04.726467Z"
    }
   },
   "outputs": [
    {
     "data": {
      "text/html": [
       "<div>\n",
       "<style scoped>\n",
       "    .dataframe tbody tr th:only-of-type {\n",
       "        vertical-align: middle;\n",
       "    }\n",
       "\n",
       "    .dataframe tbody tr th {\n",
       "        vertical-align: top;\n",
       "    }\n",
       "\n",
       "    .dataframe thead th {\n",
       "        text-align: right;\n",
       "    }\n",
       "</style>\n",
       "<table border=\"1\" class=\"dataframe\">\n",
       "  <thead>\n",
       "    <tr style=\"text-align: right;\">\n",
       "      <th></th>\n",
       "      <th>msno</th>\n",
       "      <th>payment_method_id</th>\n",
       "      <th>payment_plan_days</th>\n",
       "      <th>plan_list_price</th>\n",
       "      <th>actual_amount_paid</th>\n",
       "      <th>is_auto_renew</th>\n",
       "      <th>transaction_date</th>\n",
       "      <th>membership_expire_date</th>\n",
       "      <th>is_cancel</th>\n",
       "    </tr>\n",
       "  </thead>\n",
       "  <tbody>\n",
       "    <tr>\n",
       "      <th>34</th>\n",
       "      <td>bZbiJQudC6SZnQjKmX0JEt38qxLM0l4XYrPWuDTG+I8=</td>\n",
       "      <td>40</td>\n",
       "      <td>31</td>\n",
       "      <td>149</td>\n",
       "      <td>0</td>\n",
       "      <td>1</td>\n",
       "      <td>20150101</td>\n",
       "      <td>20150131</td>\n",
       "      <td>0</td>\n",
       "    </tr>\n",
       "    <tr>\n",
       "      <th>41</th>\n",
       "      <td>dQfQJhtaW7tIRR+4btyRsNMwMoZVjZ0pS38EXsNzNhk=</td>\n",
       "      <td>40</td>\n",
       "      <td>31</td>\n",
       "      <td>149</td>\n",
       "      <td>0</td>\n",
       "      <td>1</td>\n",
       "      <td>20150101</td>\n",
       "      <td>20150131</td>\n",
       "      <td>0</td>\n",
       "    </tr>\n",
       "    <tr>\n",
       "      <th>70</th>\n",
       "      <td>iPBYwVbW/JZzihWRGeyo31ZA0gew345hzw0LaHQ/eC4=</td>\n",
       "      <td>41</td>\n",
       "      <td>30</td>\n",
       "      <td>149</td>\n",
       "      <td>0</td>\n",
       "      <td>1</td>\n",
       "      <td>20150101</td>\n",
       "      <td>20150228</td>\n",
       "      <td>0</td>\n",
       "    </tr>\n",
       "    <tr>\n",
       "      <th>127</th>\n",
       "      <td>AdO/q0fOLGiT2xaMIa7GHAjhBQpHWovPg4oWlbdmc18=</td>\n",
       "      <td>41</td>\n",
       "      <td>30</td>\n",
       "      <td>149</td>\n",
       "      <td>0</td>\n",
       "      <td>1</td>\n",
       "      <td>20150101</td>\n",
       "      <td>20150228</td>\n",
       "      <td>0</td>\n",
       "    </tr>\n",
       "    <tr>\n",
       "      <th>141</th>\n",
       "      <td>e3Qu5mwLPc5K7Rs/JtFR11wkOI/fb9RDK6pHSh55bFE=</td>\n",
       "      <td>41</td>\n",
       "      <td>30</td>\n",
       "      <td>149</td>\n",
       "      <td>0</td>\n",
       "      <td>1</td>\n",
       "      <td>20150101</td>\n",
       "      <td>20150228</td>\n",
       "      <td>0</td>\n",
       "    </tr>\n",
       "  </tbody>\n",
       "</table>\n",
       "</div>"
      ],
      "text/plain": [
       "                                             msno  payment_method_id  \\\n",
       "34   bZbiJQudC6SZnQjKmX0JEt38qxLM0l4XYrPWuDTG+I8=                 40   \n",
       "41   dQfQJhtaW7tIRR+4btyRsNMwMoZVjZ0pS38EXsNzNhk=                 40   \n",
       "70   iPBYwVbW/JZzihWRGeyo31ZA0gew345hzw0LaHQ/eC4=                 41   \n",
       "127  AdO/q0fOLGiT2xaMIa7GHAjhBQpHWovPg4oWlbdmc18=                 41   \n",
       "141  e3Qu5mwLPc5K7Rs/JtFR11wkOI/fb9RDK6pHSh55bFE=                 41   \n",
       "\n",
       "     payment_plan_days  plan_list_price  actual_amount_paid  is_auto_renew  \\\n",
       "34                  31              149                   0              1   \n",
       "41                  31              149                   0              1   \n",
       "70                  30              149                   0              1   \n",
       "127                 30              149                   0              1   \n",
       "141                 30              149                   0              1   \n",
       "\n",
       "     transaction_date  membership_expire_date  is_cancel  \n",
       "34           20150101                20150131          0  \n",
       "41           20150101                20150131          0  \n",
       "70           20150101                20150228          0  \n",
       "127          20150101                20150228          0  \n",
       "141          20150101                20150228          0  "
      ]
     },
     "execution_count": 11,
     "metadata": {},
     "output_type": "execute_result"
    }
   ],
   "source": [
    "free_trx.head()"
   ]
  },
  {
   "cell_type": "code",
   "execution_count": 13,
   "id": "056ce727",
   "metadata": {
    "ExecuteTime": {
     "end_time": "2022-02-09T16:58:41.603839Z",
     "start_time": "2022-02-09T16:58:41.593777Z"
    }
   },
   "outputs": [
    {
     "data": {
      "text/plain": [
       "array([0])"
      ]
     },
     "execution_count": 13,
     "metadata": {},
     "output_type": "execute_result"
    }
   ],
   "source": [
    "free_trx.actual_amount_paid.unique()"
   ]
  },
  {
   "cell_type": "code",
   "execution_count": 15,
   "id": "24f0c97e",
   "metadata": {
    "ExecuteTime": {
     "end_time": "2022-02-09T17:00:20.847187Z",
     "start_time": "2022-02-09T17:00:20.818365Z"
    }
   },
   "outputs": [
    {
     "data": {
      "text/html": [
       "<div>\n",
       "<style scoped>\n",
       "    .dataframe tbody tr th:only-of-type {\n",
       "        vertical-align: middle;\n",
       "    }\n",
       "\n",
       "    .dataframe tbody tr th {\n",
       "        vertical-align: top;\n",
       "    }\n",
       "\n",
       "    .dataframe thead th {\n",
       "        text-align: right;\n",
       "    }\n",
       "</style>\n",
       "<table border=\"1\" class=\"dataframe\">\n",
       "  <thead>\n",
       "    <tr style=\"text-align: right;\">\n",
       "      <th></th>\n",
       "      <th>mean</th>\n",
       "      <th>median</th>\n",
       "      <th>min</th>\n",
       "      <th>max</th>\n",
       "    </tr>\n",
       "  </thead>\n",
       "  <tbody>\n",
       "    <tr>\n",
       "      <th>payment_plan_days</th>\n",
       "      <td>17.032884</td>\n",
       "      <td>7.0</td>\n",
       "      <td>0.0</td>\n",
       "      <td>415.0</td>\n",
       "    </tr>\n",
       "  </tbody>\n",
       "</table>\n",
       "</div>"
      ],
      "text/plain": [
       "                        mean  median  min    max\n",
       "payment_plan_days  17.032884     7.0  0.0  415.0"
      ]
     },
     "execution_count": 15,
     "metadata": {},
     "output_type": "execute_result"
    }
   ],
   "source": [
    "free_trx.agg({'payment_plan_days': ['mean', 'median', 'min', 'max']}).T"
   ]
  },
  {
   "cell_type": "code",
   "execution_count": 16,
   "id": "bc3b680f",
   "metadata": {
    "ExecuteTime": {
     "end_time": "2022-02-09T17:00:40.121878Z",
     "start_time": "2022-02-09T17:00:40.092780Z"
    }
   },
   "outputs": [
    {
     "data": {
      "text/plain": [
       "count    971561.000000\n",
       "mean         17.032884\n",
       "std          27.341103\n",
       "min           0.000000\n",
       "25%           7.000000\n",
       "50%           7.000000\n",
       "75%          30.000000\n",
       "max         415.000000\n",
       "Name: payment_plan_days, dtype: float64"
      ]
     },
     "execution_count": 16,
     "metadata": {},
     "output_type": "execute_result"
    }
   ],
   "source": [
    "free_trx.payment_plan_days.describe()"
   ]
  },
  {
   "cell_type": "code",
   "execution_count": null,
   "id": "a5ca115d",
   "metadata": {},
   "outputs": [],
   "source": []
  }
 ],
 "metadata": {
  "kernelspec": {
   "display_name": "env",
   "language": "python",
   "name": "env"
  },
  "language_info": {
   "codemirror_mode": {
    "name": "ipython",
    "version": 3
   },
   "file_extension": ".py",
   "mimetype": "text/x-python",
   "name": "python",
   "nbconvert_exporter": "python",
   "pygments_lexer": "ipython3",
   "version": "3.7.10"
  },
  "toc": {
   "base_numbering": 1,
   "nav_menu": {},
   "number_sections": true,
   "sideBar": true,
   "skip_h1_title": false,
   "title_cell": "Table of Contents",
   "title_sidebar": "Contents",
   "toc_cell": false,
   "toc_position": {
    "height": "calc(100% - 180px)",
    "left": "10px",
    "top": "150px",
    "width": "349.091px"
   },
   "toc_section_display": true,
   "toc_window_display": true
  }
 },
 "nbformat": 4,
 "nbformat_minor": 5
}
