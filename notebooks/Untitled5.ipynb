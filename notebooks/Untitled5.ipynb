{
 "cells": [
  {
   "cell_type": "code",
   "execution_count": 1,
   "id": "c37cf4bd",
   "metadata": {
    "ExecuteTime": {
     "end_time": "2021-06-11T09:12:45.141926Z",
     "start_time": "2021-06-11T09:12:36.584668Z"
    }
   },
   "outputs": [],
   "source": [
    "import vaex\n",
    "import pandas as pd\n",
    "import numpy as np"
   ]
  },
  {
   "cell_type": "code",
   "execution_count": 95,
   "id": "14ad38a5",
   "metadata": {
    "ExecuteTime": {
     "end_time": "2021-06-11T10:01:19.603902Z",
     "start_time": "2021-06-11T10:01:19.181309Z"
    }
   },
   "outputs": [],
   "source": [
    "df = vaex.open('./data/user_logs_split*')"
   ]
  },
  {
   "cell_type": "code",
   "execution_count": 4,
   "id": "a9e0a6bf",
   "metadata": {
    "ExecuteTime": {
     "end_time": "2021-06-11T09:13:20.875782Z",
     "start_time": "2021-06-11T09:13:20.871712Z"
    }
   },
   "outputs": [
    {
     "data": {
      "text/plain": [
       "(391865095, 9)"
      ]
     },
     "execution_count": 4,
     "metadata": {},
     "output_type": "execute_result"
    }
   ],
   "source": [
    "df.shape"
   ]
  },
  {
   "cell_type": "code",
   "execution_count": 96,
   "id": "4c60f2ce",
   "metadata": {
    "ExecuteTime": {
     "end_time": "2021-06-11T10:01:22.873208Z",
     "start_time": "2021-06-11T10:01:22.870204Z"
    }
   },
   "outputs": [],
   "source": [
    "names = ['msno','date','num_25','num_50','num_75','num_985','num_100','num_unq','total_secs']"
   ]
  },
  {
   "cell_type": "code",
   "execution_count": 97,
   "id": "6d705f73",
   "metadata": {
    "ExecuteTime": {
     "end_time": "2021-06-11T10:01:23.517446Z",
     "start_time": "2021-06-11T10:01:23.512738Z"
    },
    "scrolled": true
   },
   "outputs": [
    {
     "data": {
      "text/plain": [
       "{0: 'msno',\n",
       " 1: 'date',\n",
       " 2: 'num_25',\n",
       " 3: 'num_50',\n",
       " 4: 'num_75',\n",
       " 5: 'num_985',\n",
       " 6: 'num_100',\n",
       " 7: 'num_unq',\n",
       " 8: 'total_secs'}"
      ]
     },
     "execution_count": 97,
     "metadata": {},
     "output_type": "execute_result"
    }
   ],
   "source": [
    "dict_names = dict(zip(list(range(9)), names))\n",
    "dict_names"
   ]
  },
  {
   "cell_type": "code",
   "execution_count": 98,
   "id": "89898ad6",
   "metadata": {
    "ExecuteTime": {
     "end_time": "2021-06-11T10:01:25.134979Z",
     "start_time": "2021-06-11T10:01:25.130623Z"
    }
   },
   "outputs": [],
   "source": [
    "for x in dict_names.keys():\n",
    "    df.rename(str(x), dict_names[x])"
   ]
  },
  {
   "cell_type": "code",
   "execution_count": 99,
   "id": "5186b4a0",
   "metadata": {
    "ExecuteTime": {
     "end_time": "2021-06-11T10:01:27.371756Z",
     "start_time": "2021-06-11T10:01:27.354604Z"
    }
   },
   "outputs": [
    {
     "data": {
      "text/html": [
       "<table>\n",
       "<thead>\n",
       "<tr><th>#                                      </th><th>msno                                          </th><th>date    </th><th>num_25  </th><th>num_50  </th><th>num_75  </th><th>num_985  </th><th>num_100  </th><th>num_unq  </th><th>total_secs        </th></tr>\n",
       "</thead>\n",
       "<tbody>\n",
       "<tr><td><i style='opacity: 0.6'>0</i>          </td><td>&#x27;rxIP2f2aN0rYNp+toI0Obt/N/FYQX8hcO1fTmmy2h34=&#x27;</td><td>20150513</td><td>0       </td><td>0       </td><td>0       </td><td>0        </td><td>1        </td><td>1        </td><td>280.335           </td></tr>\n",
       "<tr><td><i style='opacity: 0.6'>1</i>          </td><td>&#x27;rxIP2f2aN0rYNp+toI0Obt/N/FYQX8hcO1fTmmy2h34=&#x27;</td><td>20150709</td><td>9       </td><td>1       </td><td>0       </td><td>0        </td><td>7        </td><td>11       </td><td>1658.9479999999999</td></tr>\n",
       "<tr><td><i style='opacity: 0.6'>2</i>          </td><td>&#x27;yxiEWwE9VR5utpUecLxVdQ5B7NysUPfrNtGINaM2zA8=&#x27;</td><td>20150105</td><td>3       </td><td>3       </td><td>0       </td><td>0        </td><td>68       </td><td>36       </td><td>17364.956000000002</td></tr>\n",
       "<tr><td><i style='opacity: 0.6'>3</i>          </td><td>&#x27;yxiEWwE9VR5utpUecLxVdQ5B7NysUPfrNtGINaM2zA8=&#x27;</td><td>20150306</td><td>1       </td><td>0       </td><td>1       </td><td>1        </td><td>97       </td><td>27       </td><td>24667.317000000003</td></tr>\n",
       "<tr><td><i style='opacity: 0.6'>4</i>          </td><td>&#x27;yxiEWwE9VR5utpUecLxVdQ5B7NysUPfrNtGINaM2zA8=&#x27;</td><td>20150501</td><td>3       </td><td>0       </td><td>0       </td><td>0        </td><td>38       </td><td>38       </td><td>9649.029          </td></tr>\n",
       "<tr><td>...                                    </td><td>...                                           </td><td>...     </td><td>...     </td><td>...     </td><td>...     </td><td>...      </td><td>...      </td><td>...      </td><td>...               </td></tr>\n",
       "<tr><td><i style='opacity: 0.6'>391,865,090</i></td><td>&#x27;ccyBVC3HXqPi7D8GoxT0u3jntamqtPubA9hKhRQUsu0=&#x27;</td><td>20150925</td><td>0       </td><td>1       </td><td>0       </td><td>0        </td><td>1        </td><td>2        </td><td>342.207           </td></tr>\n",
       "<tr><td><i style='opacity: 0.6'>391,865,091</i></td><td>&#x27;ccyBVC3HXqPi7D8GoxT0u3jntamqtPubA9hKhRQUsu0=&#x27;</td><td>20160216</td><td>12      </td><td>9       </td><td>2       </td><td>0        </td><td>13       </td><td>30       </td><td>4220.209          </td></tr>\n",
       "<tr><td><i style='opacity: 0.6'>391,865,092</i></td><td>&#x27;ccyBVC3HXqPi7D8GoxT0u3jntamqtPubA9hKhRQUsu0=&#x27;</td><td>20160515</td><td>15      </td><td>9       </td><td>10      </td><td>5        </td><td>15       </td><td>47       </td><td>7300.25           </td></tr>\n",
       "<tr><td><i style='opacity: 0.6'>391,865,093</i></td><td>&#x27;ccyBVC3HXqPi7D8GoxT0u3jntamqtPubA9hKhRQUsu0=&#x27;</td><td>20160725</td><td>8       </td><td>0       </td><td>0       </td><td>0        </td><td>10       </td><td>13       </td><td>2498.097          </td></tr>\n",
       "<tr><td><i style='opacity: 0.6'>391,865,094</i></td><td>&#x27;ccyBVC3HXqPi7D8GoxT0u3jntamqtPubA9hKhRQUsu0=&#x27;</td><td>20161005</td><td>0       </td><td>4       </td><td>1       </td><td>1        </td><td>11       </td><td>10       </td><td>3268.739          </td></tr>\n",
       "</tbody>\n",
       "</table>"
      ],
      "text/plain": [
       "#            msno                                            date      num_25    num_50    num_75    num_985    num_100    num_unq    total_secs\n",
       "0            'rxIP2f2aN0rYNp+toI0Obt/N/FYQX8hcO1fTmmy2h34='  20150513  0         0         0         0          1          1          280.335\n",
       "1            'rxIP2f2aN0rYNp+toI0Obt/N/FYQX8hcO1fTmmy2h34='  20150709  9         1         0         0          7          11         1658.9479999999999\n",
       "2            'yxiEWwE9VR5utpUecLxVdQ5B7NysUPfrNtGINaM2zA8='  20150105  3         3         0         0          68         36         17364.956000000002\n",
       "3            'yxiEWwE9VR5utpUecLxVdQ5B7NysUPfrNtGINaM2zA8='  20150306  1         0         1         1          97         27         24667.317000000003\n",
       "4            'yxiEWwE9VR5utpUecLxVdQ5B7NysUPfrNtGINaM2zA8='  20150501  3         0         0         0          38         38         9649.029\n",
       "...          ...                                             ...       ...       ...       ...       ...        ...        ...        ...\n",
       "391,865,090  'ccyBVC3HXqPi7D8GoxT0u3jntamqtPubA9hKhRQUsu0='  20150925  0         1         0         0          1          2          342.207\n",
       "391,865,091  'ccyBVC3HXqPi7D8GoxT0u3jntamqtPubA9hKhRQUsu0='  20160216  12        9         2         0          13         30         4220.209\n",
       "391,865,092  'ccyBVC3HXqPi7D8GoxT0u3jntamqtPubA9hKhRQUsu0='  20160515  15        9         10        5          15         47         7300.25\n",
       "391,865,093  'ccyBVC3HXqPi7D8GoxT0u3jntamqtPubA9hKhRQUsu0='  20160725  8         0         0         0          10         13         2498.097\n",
       "391,865,094  'ccyBVC3HXqPi7D8GoxT0u3jntamqtPubA9hKhRQUsu0='  20161005  0         4         1         1          11         10         3268.739"
      ]
     },
     "execution_count": 99,
     "metadata": {},
     "output_type": "execute_result"
    }
   ],
   "source": [
    "df"
   ]
  },
  {
   "cell_type": "code",
   "execution_count": 23,
   "id": "b237975f",
   "metadata": {
    "ExecuteTime": {
     "end_time": "2021-06-11T09:25:36.609861Z",
     "start_time": "2021-06-11T09:25:35.111240Z"
    }
   },
   "outputs": [
    {
     "data": {
      "text/plain": [
       "Expression = date\n",
       "Length: 391,865,095 dtype: large_string (column)\n",
       "------------------------------------------------\n",
       "        0  '20150513'\n",
       "        1  '20150709'\n",
       "        2  '20150105'\n",
       "        3  '20150306'\n",
       "        4  '20150501'\n",
       "         ...         \n",
       "391865090  '20150925'\n",
       "391865091  '20160216'\n",
       "391865092  '20160515'\n",
       "391865093  '20160725'\n",
       "391865094  '20161005'"
      ]
     },
     "execution_count": 23,
     "metadata": {},
     "output_type": "execute_result"
    }
   ],
   "source": [
    "df['date']"
   ]
  },
  {
   "cell_type": "code",
   "execution_count": 13,
   "id": "b43135a4",
   "metadata": {
    "ExecuteTime": {
     "end_time": "2021-06-11T09:21:01.372276Z",
     "start_time": "2021-06-11T09:17:42.944977Z"
    }
   },
   "outputs": [],
   "source": [
    "temp = df.groupby('msno').agg({'sum_secs': vaex.agg.sum(df.total_secs)})"
   ]
  },
  {
   "cell_type": "code",
   "execution_count": 14,
   "id": "2a1032a5",
   "metadata": {
    "ExecuteTime": {
     "end_time": "2021-06-11T09:21:11.336856Z",
     "start_time": "2021-06-11T09:21:11.327952Z"
    }
   },
   "outputs": [
    {
     "data": {
      "text/html": [
       "<table>\n",
       "<thead>\n",
       "<tr><th>#                                    </th><th>msno                                          </th><th>sum_secs          </th></tr>\n",
       "</thead>\n",
       "<tbody>\n",
       "<tr><td><i style='opacity: 0.6'>0</i>        </td><td>&#x27;tgaNZ0NyE0d/dqXMRyeUyar/QebQabS0ik9k6s3XZz0=&#x27;</td><td>2816422.185       </td></tr>\n",
       "<tr><td><i style='opacity: 0.6'>1</i>        </td><td>&#x27;BpqxyDq35GRbCsat/TBoecjsLZuOq5zwGq8ghx3Ycck=&#x27;</td><td>2197175.2989999996</td></tr>\n",
       "<tr><td><i style='opacity: 0.6'>2</i>        </td><td>&#x27;xTbpaHtGUIeUu8bY4j5heuxYFy7BmgtqCMH2hEfazuQ=&#x27;</td><td>139944.652        </td></tr>\n",
       "<tr><td><i style='opacity: 0.6'>3</i>        </td><td>&#x27;5zVkLVdNKUp8/l0JcdV+6oc31X7Ts41HQKSA8LFOSuc=&#x27;</td><td>324656.667        </td></tr>\n",
       "<tr><td><i style='opacity: 0.6'>4</i>        </td><td>&#x27;1lr06R/6UemqQ0KCQwWWUzQXzJWtKsrDTm6gLI90ziQ=&#x27;</td><td>2122799.2649999997</td></tr>\n",
       "<tr><td>...                                  </td><td>...                                           </td><td>...               </td></tr>\n",
       "<tr><td><i style='opacity: 0.6'>5,234,029</i></td><td>&#x27;LpjrzkwsyzatMRTp1D0FTOCeQbkU0l4ReLKfzOkMmx0=&#x27;</td><td>64.638            </td></tr>\n",
       "<tr><td><i style='opacity: 0.6'>5,234,030</i></td><td>&#x27;JgLVL4iFlj2YB+LZw+nw/I9DUXwbvsBKEPuQDuqtO8s=&#x27;</td><td>957.082           </td></tr>\n",
       "<tr><td><i style='opacity: 0.6'>5,234,031</i></td><td>&#x27;/oB/2SZiB9dHrMjCsQiWpAuEKtEd3h8SB8IPUO8GvYE=&#x27;</td><td>302.184           </td></tr>\n",
       "<tr><td><i style='opacity: 0.6'>5,234,032</i></td><td>&#x27;pNSbBVbJQ3m2wYrZZUjpvm0YyMlpCLloQ7SRk9uqLrc=&#x27;</td><td>111.551           </td></tr>\n",
       "<tr><td><i style='opacity: 0.6'>5,234,033</i></td><td>&#x27;eBNIBUJpwqiHmHEStFV5IjcN3uG98be7NXX7kxUUMKc=&#x27;</td><td>38.374            </td></tr>\n",
       "</tbody>\n",
       "</table>"
      ],
      "text/plain": [
       "#          msno                                            sum_secs\n",
       "0          'tgaNZ0NyE0d/dqXMRyeUyar/QebQabS0ik9k6s3XZz0='  2816422.185\n",
       "1          'BpqxyDq35GRbCsat/TBoecjsLZuOq5zwGq8ghx3Ycck='  2197175.2989999996\n",
       "2          'xTbpaHtGUIeUu8bY4j5heuxYFy7BmgtqCMH2hEfazuQ='  139944.652\n",
       "3          '5zVkLVdNKUp8/l0JcdV+6oc31X7Ts41HQKSA8LFOSuc='  324656.667\n",
       "4          '1lr06R/6UemqQ0KCQwWWUzQXzJWtKsrDTm6gLI90ziQ='  2122799.2649999997\n",
       "...        ...                                             ...\n",
       "5,234,029  'LpjrzkwsyzatMRTp1D0FTOCeQbkU0l4ReLKfzOkMmx0='  64.638\n",
       "5,234,030  'JgLVL4iFlj2YB+LZw+nw/I9DUXwbvsBKEPuQDuqtO8s='  957.082\n",
       "5,234,031  '/oB/2SZiB9dHrMjCsQiWpAuEKtEd3h8SB8IPUO8GvYE='  302.184\n",
       "5,234,032  'pNSbBVbJQ3m2wYrZZUjpvm0YyMlpCLloQ7SRk9uqLrc='  111.551\n",
       "5,234,033  'eBNIBUJpwqiHmHEStFV5IjcN3uG98be7NXX7kxUUMKc='  38.374"
      ]
     },
     "execution_count": 14,
     "metadata": {},
     "output_type": "execute_result"
    }
   ],
   "source": [
    "temp"
   ]
  },
  {
   "cell_type": "code",
   "execution_count": 25,
   "id": "1d959a1a",
   "metadata": {
    "ExecuteTime": {
     "end_time": "2021-06-11T09:33:17.043861Z",
     "start_time": "2021-06-11T09:33:15.634301Z"
    }
   },
   "outputs": [
    {
     "data": {
      "text/html": [
       "<table>\n",
       "<thead>\n",
       "<tr><th>#                                      </th><th>msno                                          </th><th>date      </th><th>num_25  </th><th>num_50  </th><th>num_75  </th><th>num_985  </th><th>num_100  </th><th>num_unq  </th><th>total_secs        </th></tr>\n",
       "</thead>\n",
       "<tbody>\n",
       "<tr><td><i style='opacity: 0.6'>0</i>          </td><td>&#x27;rxIP2f2aN0rYNp+toI0Obt/N/FYQX8hcO1fTmmy2h34=&#x27;</td><td>&#x27;20150513&#x27;</td><td>0       </td><td>0       </td><td>0       </td><td>0        </td><td>1        </td><td>1        </td><td>280.335           </td></tr>\n",
       "<tr><td><i style='opacity: 0.6'>1</i>          </td><td>&#x27;rxIP2f2aN0rYNp+toI0Obt/N/FYQX8hcO1fTmmy2h34=&#x27;</td><td>&#x27;20150709&#x27;</td><td>9       </td><td>1       </td><td>0       </td><td>0        </td><td>7        </td><td>11       </td><td>1658.9479999999999</td></tr>\n",
       "<tr><td><i style='opacity: 0.6'>2</i>          </td><td>&#x27;yxiEWwE9VR5utpUecLxVdQ5B7NysUPfrNtGINaM2zA8=&#x27;</td><td>&#x27;20150105&#x27;</td><td>3       </td><td>3       </td><td>0       </td><td>0        </td><td>68       </td><td>36       </td><td>17364.956000000002</td></tr>\n",
       "<tr><td><i style='opacity: 0.6'>3</i>          </td><td>&#x27;yxiEWwE9VR5utpUecLxVdQ5B7NysUPfrNtGINaM2zA8=&#x27;</td><td>&#x27;20150306&#x27;</td><td>1       </td><td>0       </td><td>1       </td><td>1        </td><td>97       </td><td>27       </td><td>24667.317000000003</td></tr>\n",
       "<tr><td><i style='opacity: 0.6'>4</i>          </td><td>&#x27;yxiEWwE9VR5utpUecLxVdQ5B7NysUPfrNtGINaM2zA8=&#x27;</td><td>&#x27;20150501&#x27;</td><td>3       </td><td>0       </td><td>0       </td><td>0        </td><td>38       </td><td>38       </td><td>9649.029          </td></tr>\n",
       "<tr><td>...                                    </td><td>...                                           </td><td>...       </td><td>...     </td><td>...     </td><td>...     </td><td>...      </td><td>...      </td><td>...      </td><td>...               </td></tr>\n",
       "<tr><td><i style='opacity: 0.6'>391,865,090</i></td><td>&#x27;ccyBVC3HXqPi7D8GoxT0u3jntamqtPubA9hKhRQUsu0=&#x27;</td><td>&#x27;20150925&#x27;</td><td>0       </td><td>1       </td><td>0       </td><td>0        </td><td>1        </td><td>2        </td><td>342.207           </td></tr>\n",
       "<tr><td><i style='opacity: 0.6'>391,865,091</i></td><td>&#x27;ccyBVC3HXqPi7D8GoxT0u3jntamqtPubA9hKhRQUsu0=&#x27;</td><td>&#x27;20160216&#x27;</td><td>12      </td><td>9       </td><td>2       </td><td>0        </td><td>13       </td><td>30       </td><td>4220.209          </td></tr>\n",
       "<tr><td><i style='opacity: 0.6'>391,865,092</i></td><td>&#x27;ccyBVC3HXqPi7D8GoxT0u3jntamqtPubA9hKhRQUsu0=&#x27;</td><td>&#x27;20160515&#x27;</td><td>15      </td><td>9       </td><td>10      </td><td>5        </td><td>15       </td><td>47       </td><td>7300.25           </td></tr>\n",
       "<tr><td><i style='opacity: 0.6'>391,865,093</i></td><td>&#x27;ccyBVC3HXqPi7D8GoxT0u3jntamqtPubA9hKhRQUsu0=&#x27;</td><td>&#x27;20160725&#x27;</td><td>8       </td><td>0       </td><td>0       </td><td>0        </td><td>10       </td><td>13       </td><td>2498.097          </td></tr>\n",
       "<tr><td><i style='opacity: 0.6'>391,865,094</i></td><td>&#x27;ccyBVC3HXqPi7D8GoxT0u3jntamqtPubA9hKhRQUsu0=&#x27;</td><td>&#x27;20161005&#x27;</td><td>0       </td><td>4       </td><td>1       </td><td>1        </td><td>11       </td><td>10       </td><td>3268.739          </td></tr>\n",
       "</tbody>\n",
       "</table>"
      ],
      "text/plain": [
       "#            msno                                            date        num_25    num_50    num_75    num_985    num_100    num_unq    total_secs\n",
       "0            'rxIP2f2aN0rYNp+toI0Obt/N/FYQX8hcO1fTmmy2h34='  '20150513'  0         0         0         0          1          1          280.335\n",
       "1            'rxIP2f2aN0rYNp+toI0Obt/N/FYQX8hcO1fTmmy2h34='  '20150709'  9         1         0         0          7          11         1658.9479999999999\n",
       "2            'yxiEWwE9VR5utpUecLxVdQ5B7NysUPfrNtGINaM2zA8='  '20150105'  3         3         0         0          68         36         17364.956000000002\n",
       "3            'yxiEWwE9VR5utpUecLxVdQ5B7NysUPfrNtGINaM2zA8='  '20150306'  1         0         1         1          97         27         24667.317000000003\n",
       "4            'yxiEWwE9VR5utpUecLxVdQ5B7NysUPfrNtGINaM2zA8='  '20150501'  3         0         0         0          38         38         9649.029\n",
       "...          ...                                             ...         ...       ...       ...       ...        ...        ...        ...\n",
       "391,865,090  'ccyBVC3HXqPi7D8GoxT0u3jntamqtPubA9hKhRQUsu0='  '20150925'  0         1         0         0          1          2          342.207\n",
       "391,865,091  'ccyBVC3HXqPi7D8GoxT0u3jntamqtPubA9hKhRQUsu0='  '20160216'  12        9         2         0          13         30         4220.209\n",
       "391,865,092  'ccyBVC3HXqPi7D8GoxT0u3jntamqtPubA9hKhRQUsu0='  '20160515'  15        9         10        5          15         47         7300.25\n",
       "391,865,093  'ccyBVC3HXqPi7D8GoxT0u3jntamqtPubA9hKhRQUsu0='  '20160725'  8         0         0         0          10         13         2498.097\n",
       "391,865,094  'ccyBVC3HXqPi7D8GoxT0u3jntamqtPubA9hKhRQUsu0='  '20161005'  0         4         1         1          11         10         3268.739"
      ]
     },
     "execution_count": 25,
     "metadata": {},
     "output_type": "execute_result"
    }
   ],
   "source": [
    "df"
   ]
  },
  {
   "cell_type": "code",
   "execution_count": null,
   "id": "ad78d03b",
   "metadata": {},
   "outputs": [],
   "source": [
    "df.groupby(['msno', vaex.BinnerTime('date',)])"
   ]
  },
  {
   "cell_type": "code",
   "execution_count": 28,
   "id": "7dc83171",
   "metadata": {
    "ExecuteTime": {
     "end_time": "2021-06-11T09:36:18.718695Z",
     "start_time": "2021-06-11T09:36:18.391847Z"
    }
   },
   "outputs": [],
   "source": [
    "transactions = pd.read_csv('./data/transactions.csv', nrows=5e4)"
   ]
  },
  {
   "cell_type": "code",
   "execution_count": 30,
   "id": "8afec361",
   "metadata": {
    "ExecuteTime": {
     "end_time": "2021-06-11T09:36:23.103056Z",
     "start_time": "2021-06-11T09:36:23.089515Z"
    }
   },
   "outputs": [
    {
     "data": {
      "text/html": [
       "<div>\n",
       "<style scoped>\n",
       "    .dataframe tbody tr th:only-of-type {\n",
       "        vertical-align: middle;\n",
       "    }\n",
       "\n",
       "    .dataframe tbody tr th {\n",
       "        vertical-align: top;\n",
       "    }\n",
       "\n",
       "    .dataframe thead th {\n",
       "        text-align: right;\n",
       "    }\n",
       "</style>\n",
       "<table border=\"1\" class=\"dataframe\">\n",
       "  <thead>\n",
       "    <tr style=\"text-align: right;\">\n",
       "      <th></th>\n",
       "      <th>msno</th>\n",
       "      <th>payment_method_id</th>\n",
       "      <th>payment_plan_days</th>\n",
       "      <th>plan_list_price</th>\n",
       "      <th>actual_amount_paid</th>\n",
       "      <th>is_auto_renew</th>\n",
       "      <th>transaction_date</th>\n",
       "      <th>membership_expire_date</th>\n",
       "      <th>is_cancel</th>\n",
       "    </tr>\n",
       "  </thead>\n",
       "  <tbody>\n",
       "    <tr>\n",
       "      <th>0</th>\n",
       "      <td>YyO+tlZtAXYXoZhNr3Vg3+dfVQvrBVGO8j1mfqe4ZHc=</td>\n",
       "      <td>41</td>\n",
       "      <td>30</td>\n",
       "      <td>129</td>\n",
       "      <td>129</td>\n",
       "      <td>1</td>\n",
       "      <td>20150930</td>\n",
       "      <td>20151101</td>\n",
       "      <td>0</td>\n",
       "    </tr>\n",
       "    <tr>\n",
       "      <th>1</th>\n",
       "      <td>AZtu6Wl0gPojrEQYB8Q3vBSmE2wnZ3hi1FbK1rQQ0A4=</td>\n",
       "      <td>41</td>\n",
       "      <td>30</td>\n",
       "      <td>149</td>\n",
       "      <td>149</td>\n",
       "      <td>1</td>\n",
       "      <td>20150930</td>\n",
       "      <td>20151031</td>\n",
       "      <td>0</td>\n",
       "    </tr>\n",
       "    <tr>\n",
       "      <th>2</th>\n",
       "      <td>UkDFI97Qb6+s2LWcijVVv4rMAsORbVDT2wNXF0aVbns=</td>\n",
       "      <td>41</td>\n",
       "      <td>30</td>\n",
       "      <td>129</td>\n",
       "      <td>129</td>\n",
       "      <td>1</td>\n",
       "      <td>20150930</td>\n",
       "      <td>20160427</td>\n",
       "      <td>0</td>\n",
       "    </tr>\n",
       "    <tr>\n",
       "      <th>3</th>\n",
       "      <td>M1C56ijxozNaGD0t2h68PnH2xtx5iO5iR2MVYQB6nBI=</td>\n",
       "      <td>39</td>\n",
       "      <td>30</td>\n",
       "      <td>149</td>\n",
       "      <td>149</td>\n",
       "      <td>1</td>\n",
       "      <td>20150930</td>\n",
       "      <td>20151128</td>\n",
       "      <td>0</td>\n",
       "    </tr>\n",
       "    <tr>\n",
       "      <th>4</th>\n",
       "      <td>yvj6zyBUaqdbUQSrKsrZ+xNDVM62knauSZJzakS9OW4=</td>\n",
       "      <td>39</td>\n",
       "      <td>30</td>\n",
       "      <td>149</td>\n",
       "      <td>149</td>\n",
       "      <td>1</td>\n",
       "      <td>20150930</td>\n",
       "      <td>20151121</td>\n",
       "      <td>0</td>\n",
       "    </tr>\n",
       "    <tr>\n",
       "      <th>...</th>\n",
       "      <td>...</td>\n",
       "      <td>...</td>\n",
       "      <td>...</td>\n",
       "      <td>...</td>\n",
       "      <td>...</td>\n",
       "      <td>...</td>\n",
       "      <td>...</td>\n",
       "      <td>...</td>\n",
       "      <td>...</td>\n",
       "    </tr>\n",
       "    <tr>\n",
       "      <th>49995</th>\n",
       "      <td>WqbQV71/axozIDK/P2jIoepuY0o/Vm8D6J3KGwRqg9E=</td>\n",
       "      <td>41</td>\n",
       "      <td>30</td>\n",
       "      <td>149</td>\n",
       "      <td>149</td>\n",
       "      <td>1</td>\n",
       "      <td>20160305</td>\n",
       "      <td>20160405</td>\n",
       "      <td>0</td>\n",
       "    </tr>\n",
       "    <tr>\n",
       "      <th>49996</th>\n",
       "      <td>aMKed/QzQYpoXeliW27WaNZyn6xdQ5sBegnOVCwNZ+U=</td>\n",
       "      <td>41</td>\n",
       "      <td>30</td>\n",
       "      <td>99</td>\n",
       "      <td>99</td>\n",
       "      <td>1</td>\n",
       "      <td>20160305</td>\n",
       "      <td>20160405</td>\n",
       "      <td>0</td>\n",
       "    </tr>\n",
       "    <tr>\n",
       "      <th>49997</th>\n",
       "      <td>fUCK5svMXnoZAgHi5WqZlJZW6j6T9g9K+4saSARKuaU=</td>\n",
       "      <td>41</td>\n",
       "      <td>30</td>\n",
       "      <td>99</td>\n",
       "      <td>99</td>\n",
       "      <td>1</td>\n",
       "      <td>20160305</td>\n",
       "      <td>20160405</td>\n",
       "      <td>0</td>\n",
       "    </tr>\n",
       "    <tr>\n",
       "      <th>49998</th>\n",
       "      <td>sCGST7e3M9y7D/8uH5G9mNTXC+tGDVeoSMlxGSoze2I=</td>\n",
       "      <td>41</td>\n",
       "      <td>30</td>\n",
       "      <td>99</td>\n",
       "      <td>99</td>\n",
       "      <td>1</td>\n",
       "      <td>20160305</td>\n",
       "      <td>20160405</td>\n",
       "      <td>0</td>\n",
       "    </tr>\n",
       "    <tr>\n",
       "      <th>49999</th>\n",
       "      <td>Lgb/HA0fVOY1lUgr/KpMU4pzlpUeG+uPBRFb+aTh/EI=</td>\n",
       "      <td>38</td>\n",
       "      <td>360</td>\n",
       "      <td>1200</td>\n",
       "      <td>1200</td>\n",
       "      <td>0</td>\n",
       "      <td>20160306</td>\n",
       "      <td>20170306</td>\n",
       "      <td>0</td>\n",
       "    </tr>\n",
       "  </tbody>\n",
       "</table>\n",
       "<p>50000 rows × 9 columns</p>\n",
       "</div>"
      ],
      "text/plain": [
       "                                               msno  payment_method_id  \\\n",
       "0      YyO+tlZtAXYXoZhNr3Vg3+dfVQvrBVGO8j1mfqe4ZHc=                 41   \n",
       "1      AZtu6Wl0gPojrEQYB8Q3vBSmE2wnZ3hi1FbK1rQQ0A4=                 41   \n",
       "2      UkDFI97Qb6+s2LWcijVVv4rMAsORbVDT2wNXF0aVbns=                 41   \n",
       "3      M1C56ijxozNaGD0t2h68PnH2xtx5iO5iR2MVYQB6nBI=                 39   \n",
       "4      yvj6zyBUaqdbUQSrKsrZ+xNDVM62knauSZJzakS9OW4=                 39   \n",
       "...                                             ...                ...   \n",
       "49995  WqbQV71/axozIDK/P2jIoepuY0o/Vm8D6J3KGwRqg9E=                 41   \n",
       "49996  aMKed/QzQYpoXeliW27WaNZyn6xdQ5sBegnOVCwNZ+U=                 41   \n",
       "49997  fUCK5svMXnoZAgHi5WqZlJZW6j6T9g9K+4saSARKuaU=                 41   \n",
       "49998  sCGST7e3M9y7D/8uH5G9mNTXC+tGDVeoSMlxGSoze2I=                 41   \n",
       "49999  Lgb/HA0fVOY1lUgr/KpMU4pzlpUeG+uPBRFb+aTh/EI=                 38   \n",
       "\n",
       "       payment_plan_days  plan_list_price  actual_amount_paid  is_auto_renew  \\\n",
       "0                     30              129                 129              1   \n",
       "1                     30              149                 149              1   \n",
       "2                     30              129                 129              1   \n",
       "3                     30              149                 149              1   \n",
       "4                     30              149                 149              1   \n",
       "...                  ...              ...                 ...            ...   \n",
       "49995                 30              149                 149              1   \n",
       "49996                 30               99                  99              1   \n",
       "49997                 30               99                  99              1   \n",
       "49998                 30               99                  99              1   \n",
       "49999                360             1200                1200              0   \n",
       "\n",
       "       transaction_date  membership_expire_date  is_cancel  \n",
       "0              20150930                20151101          0  \n",
       "1              20150930                20151031          0  \n",
       "2              20150930                20160427          0  \n",
       "3              20150930                20151128          0  \n",
       "4              20150930                20151121          0  \n",
       "...                 ...                     ...        ...  \n",
       "49995          20160305                20160405          0  \n",
       "49996          20160305                20160405          0  \n",
       "49997          20160305                20160405          0  \n",
       "49998          20160305                20160405          0  \n",
       "49999          20160306                20170306          0  \n",
       "\n",
       "[50000 rows x 9 columns]"
      ]
     },
     "execution_count": 30,
     "metadata": {},
     "output_type": "execute_result"
    }
   ],
   "source": [
    "transactions"
   ]
  },
  {
   "cell_type": "code",
   "execution_count": 33,
   "id": "f0b21171",
   "metadata": {
    "ExecuteTime": {
     "end_time": "2021-06-11T09:36:52.341689Z",
     "start_time": "2021-06-11T09:36:52.302810Z"
    }
   },
   "outputs": [],
   "source": [
    "transactions['transaction_date'] = transactions['transaction_date'].astype(str)"
   ]
  },
  {
   "cell_type": "code",
   "execution_count": 36,
   "id": "e03ee8f4",
   "metadata": {
    "ExecuteTime": {
     "end_time": "2021-06-11T09:37:05.843035Z",
     "start_time": "2021-06-11T09:37:05.823962Z"
    }
   },
   "outputs": [
    {
     "data": {
      "text/plain": [
       "0        2015\n",
       "1        2015\n",
       "2        2015\n",
       "3        2015\n",
       "4        2015\n",
       "         ... \n",
       "49995    2016\n",
       "49996    2016\n",
       "49997    2016\n",
       "49998    2016\n",
       "49999    2016\n",
       "Name: transaction_date, Length: 50000, dtype: object"
      ]
     },
     "execution_count": 36,
     "metadata": {},
     "output_type": "execute_result"
    }
   ],
   "source": [
    "transactions['transaction_date'].str[:4]"
   ]
  },
  {
   "cell_type": "code",
   "execution_count": 40,
   "id": "79ea0f35",
   "metadata": {
    "ExecuteTime": {
     "end_time": "2021-06-11T09:38:30.604877Z",
     "start_time": "2021-06-11T09:38:30.574639Z"
    }
   },
   "outputs": [
    {
     "data": {
      "text/plain": [
       "Expression = date\n",
       "Length: 391,865,095 dtype: large_string (column)\n",
       "------------------------------------------------\n",
       "        0  '20150513'\n",
       "        1  '20150709'\n",
       "        2  '20150105'\n",
       "        3  '20150306'\n",
       "        4  '20150501'\n",
       "         ...         \n",
       "391865090  '20150925'\n",
       "391865091  '20160216'\n",
       "391865092  '20160515'\n",
       "391865093  '20160725'\n",
       "391865094  '20161005'"
      ]
     },
     "execution_count": 40,
     "metadata": {},
     "output_type": "execute_result"
    }
   ],
   "source": [
    "df['date']"
   ]
  },
  {
   "cell_type": "code",
   "execution_count": 105,
   "id": "9e5d6a58",
   "metadata": {
    "ExecuteTime": {
     "end_time": "2021-06-11T10:05:08.542094Z",
     "start_time": "2021-06-11T10:05:08.538897Z"
    }
   },
   "outputs": [],
   "source": [
    "df['year']  = df['date'] // 10000"
   ]
  },
  {
   "cell_type": "code",
   "execution_count": 106,
   "id": "669284d0",
   "metadata": {
    "ExecuteTime": {
     "end_time": "2021-06-11T10:05:09.114074Z",
     "start_time": "2021-06-11T10:05:09.110940Z"
    }
   },
   "outputs": [],
   "source": [
    "df['month'] = (df['date'] // 100) % 100"
   ]
  },
  {
   "cell_type": "code",
   "execution_count": 107,
   "id": "50dd298b",
   "metadata": {
    "ExecuteTime": {
     "end_time": "2021-06-11T10:05:09.725236Z",
     "start_time": "2021-06-11T10:05:09.722125Z"
    }
   },
   "outputs": [],
   "source": [
    "df['day'] = df['date'] % 100"
   ]
  },
  {
   "cell_type": "code",
   "execution_count": 57,
   "id": "148d46e7",
   "metadata": {
    "ExecuteTime": {
     "end_time": "2021-06-11T09:41:08.250306Z",
     "start_time": "2021-06-11T09:41:08.193607Z"
    }
   },
   "outputs": [
    {
     "data": {
      "text/html": [
       "<table>\n",
       "<thead>\n",
       "<tr><th>#                                      </th><th>msno                                          </th><th>date    </th><th>num_25  </th><th>num_50  </th><th>num_75  </th><th>num_985  </th><th>num_100  </th><th>num_unq  </th><th>total_secs        </th><th>year  </th><th>month  </th><th>day  </th></tr>\n",
       "</thead>\n",
       "<tbody>\n",
       "<tr><td><i style='opacity: 0.6'>0</i>          </td><td>&#x27;rxIP2f2aN0rYNp+toI0Obt/N/FYQX8hcO1fTmmy2h34=&#x27;</td><td>20150513</td><td>0       </td><td>0       </td><td>0       </td><td>0        </td><td>1        </td><td>1        </td><td>280.335           </td><td>2015  </td><td>5      </td><td>13   </td></tr>\n",
       "<tr><td><i style='opacity: 0.6'>1</i>          </td><td>&#x27;rxIP2f2aN0rYNp+toI0Obt/N/FYQX8hcO1fTmmy2h34=&#x27;</td><td>20150709</td><td>9       </td><td>1       </td><td>0       </td><td>0        </td><td>7        </td><td>11       </td><td>1658.9479999999999</td><td>2015  </td><td>7      </td><td>9    </td></tr>\n",
       "<tr><td><i style='opacity: 0.6'>2</i>          </td><td>&#x27;yxiEWwE9VR5utpUecLxVdQ5B7NysUPfrNtGINaM2zA8=&#x27;</td><td>20150105</td><td>3       </td><td>3       </td><td>0       </td><td>0        </td><td>68       </td><td>36       </td><td>17364.956000000002</td><td>2015  </td><td>1      </td><td>5    </td></tr>\n",
       "<tr><td><i style='opacity: 0.6'>3</i>          </td><td>&#x27;yxiEWwE9VR5utpUecLxVdQ5B7NysUPfrNtGINaM2zA8=&#x27;</td><td>20150306</td><td>1       </td><td>0       </td><td>1       </td><td>1        </td><td>97       </td><td>27       </td><td>24667.317000000003</td><td>2015  </td><td>3      </td><td>6    </td></tr>\n",
       "<tr><td><i style='opacity: 0.6'>4</i>          </td><td>&#x27;yxiEWwE9VR5utpUecLxVdQ5B7NysUPfrNtGINaM2zA8=&#x27;</td><td>20150501</td><td>3       </td><td>0       </td><td>0       </td><td>0        </td><td>38       </td><td>38       </td><td>9649.029          </td><td>2015  </td><td>5      </td><td>1    </td></tr>\n",
       "<tr><td>...                                    </td><td>...                                           </td><td>...     </td><td>...     </td><td>...     </td><td>...     </td><td>...      </td><td>...      </td><td>...      </td><td>...               </td><td>...   </td><td>...    </td><td>...  </td></tr>\n",
       "<tr><td><i style='opacity: 0.6'>391,865,090</i></td><td>&#x27;ccyBVC3HXqPi7D8GoxT0u3jntamqtPubA9hKhRQUsu0=&#x27;</td><td>20150925</td><td>0       </td><td>1       </td><td>0       </td><td>0        </td><td>1        </td><td>2        </td><td>342.207           </td><td>2015  </td><td>9      </td><td>25   </td></tr>\n",
       "<tr><td><i style='opacity: 0.6'>391,865,091</i></td><td>&#x27;ccyBVC3HXqPi7D8GoxT0u3jntamqtPubA9hKhRQUsu0=&#x27;</td><td>20160216</td><td>12      </td><td>9       </td><td>2       </td><td>0        </td><td>13       </td><td>30       </td><td>4220.209          </td><td>2016  </td><td>2      </td><td>16   </td></tr>\n",
       "<tr><td><i style='opacity: 0.6'>391,865,092</i></td><td>&#x27;ccyBVC3HXqPi7D8GoxT0u3jntamqtPubA9hKhRQUsu0=&#x27;</td><td>20160515</td><td>15      </td><td>9       </td><td>10      </td><td>5        </td><td>15       </td><td>47       </td><td>7300.25           </td><td>2016  </td><td>5      </td><td>15   </td></tr>\n",
       "<tr><td><i style='opacity: 0.6'>391,865,093</i></td><td>&#x27;ccyBVC3HXqPi7D8GoxT0u3jntamqtPubA9hKhRQUsu0=&#x27;</td><td>20160725</td><td>8       </td><td>0       </td><td>0       </td><td>0        </td><td>10       </td><td>13       </td><td>2498.097          </td><td>2016  </td><td>7      </td><td>25   </td></tr>\n",
       "<tr><td><i style='opacity: 0.6'>391,865,094</i></td><td>&#x27;ccyBVC3HXqPi7D8GoxT0u3jntamqtPubA9hKhRQUsu0=&#x27;</td><td>20161005</td><td>0       </td><td>4       </td><td>1       </td><td>1        </td><td>11       </td><td>10       </td><td>3268.739          </td><td>2016  </td><td>10     </td><td>5    </td></tr>\n",
       "</tbody>\n",
       "</table>"
      ],
      "text/plain": [
       "#            msno                                            date      num_25    num_50    num_75    num_985    num_100    num_unq    total_secs          year    month    day\n",
       "0            'rxIP2f2aN0rYNp+toI0Obt/N/FYQX8hcO1fTmmy2h34='  20150513  0         0         0         0          1          1          280.335             2015    5        13\n",
       "1            'rxIP2f2aN0rYNp+toI0Obt/N/FYQX8hcO1fTmmy2h34='  20150709  9         1         0         0          7          11         1658.9479999999999  2015    7        9\n",
       "2            'yxiEWwE9VR5utpUecLxVdQ5B7NysUPfrNtGINaM2zA8='  20150105  3         3         0         0          68         36         17364.956000000002  2015    1        5\n",
       "3            'yxiEWwE9VR5utpUecLxVdQ5B7NysUPfrNtGINaM2zA8='  20150306  1         0         1         1          97         27         24667.317000000003  2015    3        6\n",
       "4            'yxiEWwE9VR5utpUecLxVdQ5B7NysUPfrNtGINaM2zA8='  20150501  3         0         0         0          38         38         9649.029            2015    5        1\n",
       "...          ...                                             ...       ...       ...       ...       ...        ...        ...        ...                 ...     ...      ...\n",
       "391,865,090  'ccyBVC3HXqPi7D8GoxT0u3jntamqtPubA9hKhRQUsu0='  20150925  0         1         0         0          1          2          342.207             2015    9        25\n",
       "391,865,091  'ccyBVC3HXqPi7D8GoxT0u3jntamqtPubA9hKhRQUsu0='  20160216  12        9         2         0          13         30         4220.209            2016    2        16\n",
       "391,865,092  'ccyBVC3HXqPi7D8GoxT0u3jntamqtPubA9hKhRQUsu0='  20160515  15        9         10        5          15         47         7300.25             2016    5        15\n",
       "391,865,093  'ccyBVC3HXqPi7D8GoxT0u3jntamqtPubA9hKhRQUsu0='  20160725  8         0         0         0          10         13         2498.097            2016    7        25\n",
       "391,865,094  'ccyBVC3HXqPi7D8GoxT0u3jntamqtPubA9hKhRQUsu0='  20161005  0         4         1         1          11         10         3268.739            2016    10       5"
      ]
     },
     "execution_count": 57,
     "metadata": {},
     "output_type": "execute_result"
    }
   ],
   "source": [
    "df"
   ]
  },
  {
   "cell_type": "code",
   "execution_count": 108,
   "id": "fb9fc67d",
   "metadata": {
    "ExecuteTime": {
     "end_time": "2021-06-11T10:05:13.438200Z",
     "start_time": "2021-06-11T10:05:13.435336Z"
    }
   },
   "outputs": [],
   "source": [
    "to_str = ['year', 'month', 'day']"
   ]
  },
  {
   "cell_type": "code",
   "execution_count": 109,
   "id": "9af9a38f",
   "metadata": {
    "ExecuteTime": {
     "end_time": "2021-06-11T10:05:14.301898Z",
     "start_time": "2021-06-11T10:05:14.295666Z"
    }
   },
   "outputs": [],
   "source": [
    "for col in to_str:\n",
    "    df[col] = df[col].astype(str)"
   ]
  },
  {
   "cell_type": "code",
   "execution_count": 115,
   "id": "10eae28c",
   "metadata": {
    "ExecuteTime": {
     "end_time": "2021-06-11T10:06:20.363741Z",
     "start_time": "2021-06-11T10:06:20.358190Z"
    }
   },
   "outputs": [],
   "source": [
    "df['month'] = df['month'].str.zfill(2)\n",
    "df['day'] = df['day'].str.zfill(2)"
   ]
  },
  {
   "cell_type": "code",
   "execution_count": 116,
   "id": "43510d66",
   "metadata": {
    "ExecuteTime": {
     "end_time": "2021-06-11T10:06:21.552225Z",
     "start_time": "2021-06-11T10:06:21.546310Z"
    }
   },
   "outputs": [],
   "source": [
    "df['date_formatted'] = df['year'] + '-' + df['month'] + '-' + df['day']"
   ]
  },
  {
   "cell_type": "code",
   "execution_count": 118,
   "id": "4e6b0c50",
   "metadata": {
    "ExecuteTime": {
     "end_time": "2021-06-11T10:06:48.954296Z",
     "start_time": "2021-06-11T10:06:48.949738Z"
    }
   },
   "outputs": [],
   "source": [
    "df['date_formatted']  = df['date_formatted'].astype('datetime64')"
   ]
  },
  {
   "cell_type": "code",
   "execution_count": 119,
   "id": "9d6be0b3",
   "metadata": {
    "ExecuteTime": {
     "end_time": "2021-06-11T10:06:51.569586Z",
     "start_time": "2021-06-11T10:06:51.558791Z"
    }
   },
   "outputs": [
    {
     "data": {
      "text/plain": [
       "msno                      string\n",
       "date                       int64\n",
       "num_25                     int64\n",
       "num_50                     int64\n",
       "num_75                     int64\n",
       "num_985                    int64\n",
       "num_100                    int64\n",
       "num_unq                    int64\n",
       "total_secs               float64\n",
       "year                large_string\n",
       "month               large_string\n",
       "day                 large_string\n",
       "date_formatted    datetime64[ns]\n",
       "dtype: object"
      ]
     },
     "execution_count": 119,
     "metadata": {},
     "output_type": "execute_result"
    }
   ],
   "source": [
    "df.dtypes"
   ]
  },
  {
   "cell_type": "code",
   "execution_count": 76,
   "id": "a9339ed7",
   "metadata": {
    "ExecuteTime": {
     "end_time": "2021-06-11T09:45:48.049082Z",
     "start_time": "2021-06-11T09:45:48.045242Z"
    }
   },
   "outputs": [],
   "source": [
    "def convert_to_datetime(series):\n",
    "    return pd.to_datetime(series, format='%Y%m%d')"
   ]
  },
  {
   "cell_type": "code",
   "execution_count": 78,
   "id": "887748e5",
   "metadata": {
    "ExecuteTime": {
     "end_time": "2021-06-11T09:45:57.425500Z",
     "start_time": "2021-06-11T09:45:57.420592Z"
    }
   },
   "outputs": [],
   "source": [
    "df['date'] = df['date'].astype(str)"
   ]
  },
  {
   "cell_type": "code",
   "execution_count": 82,
   "id": "c51e0645",
   "metadata": {
    "ExecuteTime": {
     "end_time": "2021-06-11T09:46:44.370112Z",
     "start_time": "2021-06-11T09:46:44.365531Z"
    }
   },
   "outputs": [],
   "source": [
    "df['date'] = df['date'].apply(convert_to_datetime)"
   ]
  },
  {
   "cell_type": "code",
   "execution_count": 84,
   "id": "c285c253",
   "metadata": {
    "ExecuteTime": {
     "end_time": "2021-06-11T09:47:01.698325Z",
     "start_time": "2021-06-11T09:47:01.581271Z"
    }
   },
   "outputs": [
    {
     "data": {
      "text/html": [
       "<table>\n",
       "<thead>\n",
       "<tr><th>#                                      </th><th>msno                                          </th><th>date               </th><th>num_25  </th><th>num_50  </th><th>num_75  </th><th>num_985  </th><th>num_100  </th><th>num_unq  </th><th>total_secs        </th><th>year  </th><th>month  </th><th>day  </th><th>date_formatted  </th></tr>\n",
       "</thead>\n",
       "<tbody>\n",
       "<tr><td><i style='opacity: 0.6'>0</i>          </td><td>&#x27;rxIP2f2aN0rYNp+toI0Obt/N/FYQX8hcO1fTmmy2h34=&#x27;</td><td>2015-05-13 00:00:00</td><td>0       </td><td>0       </td><td>0       </td><td>0        </td><td>1        </td><td>1        </td><td>280.335           </td><td>&#x27;2015&#x27;</td><td>&#x27;5&#x27;    </td><td>&#x27;13&#x27; </td><td>&#x27;2015/5/13&#x27;     </td></tr>\n",
       "<tr><td><i style='opacity: 0.6'>1</i>          </td><td>&#x27;rxIP2f2aN0rYNp+toI0Obt/N/FYQX8hcO1fTmmy2h34=&#x27;</td><td>2015-07-09 00:00:00</td><td>9       </td><td>1       </td><td>0       </td><td>0        </td><td>7        </td><td>11       </td><td>1658.9479999999999</td><td>&#x27;2015&#x27;</td><td>&#x27;7&#x27;    </td><td>&#x27;9&#x27;  </td><td>&#x27;2015/7/9&#x27;      </td></tr>\n",
       "<tr><td><i style='opacity: 0.6'>2</i>          </td><td>&#x27;yxiEWwE9VR5utpUecLxVdQ5B7NysUPfrNtGINaM2zA8=&#x27;</td><td>2015-01-05 00:00:00</td><td>3       </td><td>3       </td><td>0       </td><td>0        </td><td>68       </td><td>36       </td><td>17364.956000000002</td><td>&#x27;2015&#x27;</td><td>&#x27;1&#x27;    </td><td>&#x27;5&#x27;  </td><td>&#x27;2015/1/5&#x27;      </td></tr>\n",
       "<tr><td><i style='opacity: 0.6'>3</i>          </td><td>&#x27;yxiEWwE9VR5utpUecLxVdQ5B7NysUPfrNtGINaM2zA8=&#x27;</td><td>2015-03-06 00:00:00</td><td>1       </td><td>0       </td><td>1       </td><td>1        </td><td>97       </td><td>27       </td><td>24667.317000000003</td><td>&#x27;2015&#x27;</td><td>&#x27;3&#x27;    </td><td>&#x27;6&#x27;  </td><td>&#x27;2015/3/6&#x27;      </td></tr>\n",
       "<tr><td><i style='opacity: 0.6'>4</i>          </td><td>&#x27;yxiEWwE9VR5utpUecLxVdQ5B7NysUPfrNtGINaM2zA8=&#x27;</td><td>2015-05-01 00:00:00</td><td>3       </td><td>0       </td><td>0       </td><td>0        </td><td>38       </td><td>38       </td><td>9649.029          </td><td>&#x27;2015&#x27;</td><td>&#x27;5&#x27;    </td><td>&#x27;1&#x27;  </td><td>&#x27;2015/5/1&#x27;      </td></tr>\n",
       "<tr><td>...                                    </td><td>...                                           </td><td>...                </td><td>...     </td><td>...     </td><td>...     </td><td>...      </td><td>...      </td><td>...      </td><td>...               </td><td>...   </td><td>...    </td><td>...  </td><td>...             </td></tr>\n",
       "<tr><td><i style='opacity: 0.6'>391,865,090</i></td><td>&#x27;ccyBVC3HXqPi7D8GoxT0u3jntamqtPubA9hKhRQUsu0=&#x27;</td><td>2015-09-25 00:00:00</td><td>0       </td><td>1       </td><td>0       </td><td>0        </td><td>1        </td><td>2        </td><td>342.207           </td><td>&#x27;2015&#x27;</td><td>&#x27;9&#x27;    </td><td>&#x27;25&#x27; </td><td>&#x27;2015/9/25&#x27;     </td></tr>\n",
       "<tr><td><i style='opacity: 0.6'>391,865,091</i></td><td>&#x27;ccyBVC3HXqPi7D8GoxT0u3jntamqtPubA9hKhRQUsu0=&#x27;</td><td>2016-02-16 00:00:00</td><td>12      </td><td>9       </td><td>2       </td><td>0        </td><td>13       </td><td>30       </td><td>4220.209          </td><td>&#x27;2016&#x27;</td><td>&#x27;2&#x27;    </td><td>&#x27;16&#x27; </td><td>&#x27;2016/2/16&#x27;     </td></tr>\n",
       "<tr><td><i style='opacity: 0.6'>391,865,092</i></td><td>&#x27;ccyBVC3HXqPi7D8GoxT0u3jntamqtPubA9hKhRQUsu0=&#x27;</td><td>2016-05-15 00:00:00</td><td>15      </td><td>9       </td><td>10      </td><td>5        </td><td>15       </td><td>47       </td><td>7300.25           </td><td>&#x27;2016&#x27;</td><td>&#x27;5&#x27;    </td><td>&#x27;15&#x27; </td><td>&#x27;2016/5/15&#x27;     </td></tr>\n",
       "<tr><td><i style='opacity: 0.6'>391,865,093</i></td><td>&#x27;ccyBVC3HXqPi7D8GoxT0u3jntamqtPubA9hKhRQUsu0=&#x27;</td><td>2016-07-25 00:00:00</td><td>8       </td><td>0       </td><td>0       </td><td>0        </td><td>10       </td><td>13       </td><td>2498.097          </td><td>&#x27;2016&#x27;</td><td>&#x27;7&#x27;    </td><td>&#x27;25&#x27; </td><td>&#x27;2016/7/25&#x27;     </td></tr>\n",
       "<tr><td><i style='opacity: 0.6'>391,865,094</i></td><td>&#x27;ccyBVC3HXqPi7D8GoxT0u3jntamqtPubA9hKhRQUsu0=&#x27;</td><td>2016-10-05 00:00:00</td><td>0       </td><td>4       </td><td>1       </td><td>1        </td><td>11       </td><td>10       </td><td>3268.739          </td><td>&#x27;2016&#x27;</td><td>&#x27;10&#x27;   </td><td>&#x27;5&#x27;  </td><td>&#x27;2016/10/5&#x27;     </td></tr>\n",
       "</tbody>\n",
       "</table>"
      ],
      "text/plain": [
       "#            msno                                            date                 num_25    num_50    num_75    num_985    num_100    num_unq    total_secs          year    month    day    date_formatted\n",
       "0            'rxIP2f2aN0rYNp+toI0Obt/N/FYQX8hcO1fTmmy2h34='  2015-05-13 00:00:00  0         0         0         0          1          1          280.335             '2015'  '5'      '13'   '2015/5/13'\n",
       "1            'rxIP2f2aN0rYNp+toI0Obt/N/FYQX8hcO1fTmmy2h34='  2015-07-09 00:00:00  9         1         0         0          7          11         1658.9479999999999  '2015'  '7'      '9'    '2015/7/9'\n",
       "2            'yxiEWwE9VR5utpUecLxVdQ5B7NysUPfrNtGINaM2zA8='  2015-01-05 00:00:00  3         3         0         0          68         36         17364.956000000002  '2015'  '1'      '5'    '2015/1/5'\n",
       "3            'yxiEWwE9VR5utpUecLxVdQ5B7NysUPfrNtGINaM2zA8='  2015-03-06 00:00:00  1         0         1         1          97         27         24667.317000000003  '2015'  '3'      '6'    '2015/3/6'\n",
       "4            'yxiEWwE9VR5utpUecLxVdQ5B7NysUPfrNtGINaM2zA8='  2015-05-01 00:00:00  3         0         0         0          38         38         9649.029            '2015'  '5'      '1'    '2015/5/1'\n",
       "...          ...                                             ...                  ...       ...       ...       ...        ...        ...        ...                 ...     ...      ...    ...\n",
       "391,865,090  'ccyBVC3HXqPi7D8GoxT0u3jntamqtPubA9hKhRQUsu0='  2015-09-25 00:00:00  0         1         0         0          1          2          342.207             '2015'  '9'      '25'   '2015/9/25'\n",
       "391,865,091  'ccyBVC3HXqPi7D8GoxT0u3jntamqtPubA9hKhRQUsu0='  2016-02-16 00:00:00  12        9         2         0          13         30         4220.209            '2016'  '2'      '16'   '2016/2/16'\n",
       "391,865,092  'ccyBVC3HXqPi7D8GoxT0u3jntamqtPubA9hKhRQUsu0='  2016-05-15 00:00:00  15        9         10        5          15         47         7300.25             '2016'  '5'      '15'   '2016/5/15'\n",
       "391,865,093  'ccyBVC3HXqPi7D8GoxT0u3jntamqtPubA9hKhRQUsu0='  2016-07-25 00:00:00  8         0         0         0          10         13         2498.097            '2016'  '7'      '25'   '2016/7/25'\n",
       "391,865,094  'ccyBVC3HXqPi7D8GoxT0u3jntamqtPubA9hKhRQUsu0='  2016-10-05 00:00:00  0         4         1         1          11         10         3268.739            '2016'  '10'     '5'    '2016/10/5'"
      ]
     },
     "execution_count": 84,
     "metadata": {},
     "output_type": "execute_result"
    }
   ],
   "source": [
    "df"
   ]
  },
  {
   "cell_type": "code",
   "execution_count": 120,
   "id": "5052a3cc",
   "metadata": {
    "ExecuteTime": {
     "end_time": "2021-06-11T10:06:59.365035Z",
     "start_time": "2021-06-11T10:06:59.360886Z"
    }
   },
   "outputs": [],
   "source": [
    "sample = df[:50000]"
   ]
  },
  {
   "cell_type": "code",
   "execution_count": 91,
   "id": "5a6b81af",
   "metadata": {
    "ExecuteTime": {
     "end_time": "2021-06-11T09:56:50.462060Z",
     "start_time": "2021-06-11T09:56:50.406040Z"
    }
   },
   "outputs": [],
   "source": [
    "temp2 = sample.groupby([sample.msno, vaex.BinnerTime(sample.date, resolution='W', every=1)]).agg({'total_uid_seconds_month': \n",
    "                                                                             vaex.agg.sum(sample.total_secs)})"
   ]
  },
  {
   "cell_type": "code",
   "execution_count": 92,
   "id": "046eb673",
   "metadata": {
    "ExecuteTime": {
     "end_time": "2021-06-11T09:56:56.809169Z",
     "start_time": "2021-06-11T09:56:56.800047Z"
    }
   },
   "outputs": [
    {
     "data": {
      "text/html": [
       "<table>\n",
       "<thead>\n",
       "<tr><th>#                                </th><th>msno                                          </th><th>total_uid_seconds_month  </th></tr>\n",
       "</thead>\n",
       "<tbody>\n",
       "<tr><td><i style='opacity: 0.6'>0</i>    </td><td>&#x27;kj6EKhEip7IuujcmWfmQp+oKIJZ+pIATkxVFvCQyPac=&#x27;</td><td>48231.759999999995       </td></tr>\n",
       "<tr><td><i style='opacity: 0.6'>1</i>    </td><td>&#x27;tEr7thVbvPOUagbusAanLgoO06u0vEgOjpwlDEx9kYQ=&#x27;</td><td>209.058                  </td></tr>\n",
       "<tr><td><i style='opacity: 0.6'>2</i>    </td><td>&#x27;CvNOYPmF7iRQLlmYvDx11+LH28uEjR/4w5hMCVvDjQ8=&#x27;</td><td>31740.401999999995       </td></tr>\n",
       "<tr><td><i style='opacity: 0.6'>3</i>    </td><td>&#x27;L/Kb6fSjfpv7RP86EK0oMFmd2akaos1JGBbNjAQZxEE=&#x27;</td><td>6032.6230000000005       </td></tr>\n",
       "<tr><td><i style='opacity: 0.6'>4</i>    </td><td>&#x27;MaAVO6qmIEof0Wn1P5hAcIQaZG6NJ0ro69q24QJSfdU=&#x27;</td><td>9403.16                  </td></tr>\n",
       "<tr><td>...                              </td><td>...                                           </td><td>...                      </td></tr>\n",
       "<tr><td><i style='opacity: 0.6'>9,455</i></td><td>&#x27;NhO1bPsHkbMtlQMc+nDKROB3Fp1w9dXOrEKDjBGBpYU=&#x27;</td><td>4517.9439999999995       </td></tr>\n",
       "<tr><td><i style='opacity: 0.6'>9,456</i></td><td>&#x27;nuOIhvZ8a7sdYnm5SReQ4VSFcJGl8f5lxAiwfGOFZyY=&#x27;</td><td>14283.269                </td></tr>\n",
       "<tr><td><i style='opacity: 0.6'>9,457</i></td><td>&#x27;9PTnCrybDEVhkjThhr/xh+RpUwJmM2HriSVZAKOAZiQ=&#x27;</td><td>61719.962                </td></tr>\n",
       "<tr><td><i style='opacity: 0.6'>9,458</i></td><td>&#x27;uxL/GrAO/17mWRBAb2s+o23QE4w1FfOIcLvQPc16cYo=&#x27;</td><td>100108.835               </td></tr>\n",
       "<tr><td><i style='opacity: 0.6'>9,459</i></td><td>&#x27;KGrkTdr5HLYmGA/lMvOJSknlA2S6/9xip4SmRSo2iSE=&#x27;</td><td>197763.3                 </td></tr>\n",
       "</tbody>\n",
       "</table>"
      ],
      "text/plain": [
       "#      msno                                            total_uid_seconds_month\n",
       "0      'kj6EKhEip7IuujcmWfmQp+oKIJZ+pIATkxVFvCQyPac='  48231.759999999995\n",
       "1      'tEr7thVbvPOUagbusAanLgoO06u0vEgOjpwlDEx9kYQ='  209.058\n",
       "2      'CvNOYPmF7iRQLlmYvDx11+LH28uEjR/4w5hMCVvDjQ8='  31740.401999999995\n",
       "3      'L/Kb6fSjfpv7RP86EK0oMFmd2akaos1JGBbNjAQZxEE='  6032.6230000000005\n",
       "4      'MaAVO6qmIEof0Wn1P5hAcIQaZG6NJ0ro69q24QJSfdU='  9403.16\n",
       "...    ...                                             ...\n",
       "9,455  'NhO1bPsHkbMtlQMc+nDKROB3Fp1w9dXOrEKDjBGBpYU='  4517.9439999999995\n",
       "9,456  'nuOIhvZ8a7sdYnm5SReQ4VSFcJGl8f5lxAiwfGOFZyY='  14283.269\n",
       "9,457  '9PTnCrybDEVhkjThhr/xh+RpUwJmM2HriSVZAKOAZiQ='  61719.962\n",
       "9,458  'uxL/GrAO/17mWRBAb2s+o23QE4w1FfOIcLvQPc16cYo='  100108.835\n",
       "9,459  'KGrkTdr5HLYmGA/lMvOJSknlA2S6/9xip4SmRSo2iSE='  197763.3"
      ]
     },
     "execution_count": 92,
     "metadata": {},
     "output_type": "execute_result"
    }
   ],
   "source": [
    "temp2"
   ]
  },
  {
   "cell_type": "code",
   "execution_count": 86,
   "id": "b3a0e94c",
   "metadata": {
    "ExecuteTime": {
     "end_time": "2021-06-11T09:53:26.896996Z",
     "start_time": "2021-06-11T09:53:26.883212Z"
    }
   },
   "outputs": [
    {
     "data": {
      "text/plain": [
       "msno                    string\n",
       "date                    object\n",
       "num_25                   int64\n",
       "num_50                   int64\n",
       "num_75                   int64\n",
       "num_985                  int64\n",
       "num_100                  int64\n",
       "num_unq                  int64\n",
       "total_secs             float64\n",
       "year              large_string\n",
       "month             large_string\n",
       "day               large_string\n",
       "date_formatted    large_string\n",
       "dtype: object"
      ]
     },
     "execution_count": 86,
     "metadata": {},
     "output_type": "execute_result"
    }
   ],
   "source": [
    "df.dtypes"
   ]
  },
  {
   "cell_type": "code",
   "execution_count": null,
   "id": "8246b71e",
   "metadata": {
    "ExecuteTime": {
     "end_time": "2021-06-11T09:52:57.864984Z",
     "start_time": "2021-06-11T09:48:21.325Z"
    }
   },
   "outputs": [],
   "source": [
    "temp2"
   ]
  },
  {
   "cell_type": "code",
   "execution_count": null,
   "id": "e662660c",
   "metadata": {},
   "outputs": [],
   "source": [
    "df.groupby([df.x, vaex.BinnerTime(df.t, resolution='W', every=3)]).agg({'sum_cuteness': \n",
    "                                                                        vaex.agg.sum(df.cuteness)})"
   ]
  },
  {
   "cell_type": "code",
   "execution_count": 101,
   "id": "9d391de5",
   "metadata": {
    "ExecuteTime": {
     "end_time": "2021-06-11T10:03:04.671065Z",
     "start_time": "2021-06-11T10:03:04.667413Z"
    }
   },
   "outputs": [],
   "source": [
    "sample = df[:50000]"
   ]
  },
  {
   "cell_type": "code",
   "execution_count": 102,
   "id": "d3792c9e",
   "metadata": {
    "ExecuteTime": {
     "end_time": "2021-06-11T10:03:05.734828Z",
     "start_time": "2021-06-11T10:03:05.720214Z"
    }
   },
   "outputs": [
    {
     "data": {
      "text/html": [
       "<table>\n",
       "<thead>\n",
       "<tr><th>#                                 </th><th>msno                                          </th><th>date    </th><th>num_25  </th><th>num_50  </th><th>num_75  </th><th>num_985  </th><th>num_100  </th><th>num_unq  </th><th>total_secs        </th></tr>\n",
       "</thead>\n",
       "<tbody>\n",
       "<tr><td><i style='opacity: 0.6'>0</i>     </td><td>&#x27;rxIP2f2aN0rYNp+toI0Obt/N/FYQX8hcO1fTmmy2h34=&#x27;</td><td>20150513</td><td>0       </td><td>0       </td><td>0       </td><td>0        </td><td>1        </td><td>1        </td><td>280.335           </td></tr>\n",
       "<tr><td><i style='opacity: 0.6'>1</i>     </td><td>&#x27;rxIP2f2aN0rYNp+toI0Obt/N/FYQX8hcO1fTmmy2h34=&#x27;</td><td>20150709</td><td>9       </td><td>1       </td><td>0       </td><td>0        </td><td>7        </td><td>11       </td><td>1658.9479999999999</td></tr>\n",
       "<tr><td><i style='opacity: 0.6'>2</i>     </td><td>&#x27;yxiEWwE9VR5utpUecLxVdQ5B7NysUPfrNtGINaM2zA8=&#x27;</td><td>20150105</td><td>3       </td><td>3       </td><td>0       </td><td>0        </td><td>68       </td><td>36       </td><td>17364.956000000002</td></tr>\n",
       "<tr><td><i style='opacity: 0.6'>3</i>     </td><td>&#x27;yxiEWwE9VR5utpUecLxVdQ5B7NysUPfrNtGINaM2zA8=&#x27;</td><td>20150306</td><td>1       </td><td>0       </td><td>1       </td><td>1        </td><td>97       </td><td>27       </td><td>24667.317000000003</td></tr>\n",
       "<tr><td><i style='opacity: 0.6'>4</i>     </td><td>&#x27;yxiEWwE9VR5utpUecLxVdQ5B7NysUPfrNtGINaM2zA8=&#x27;</td><td>20150501</td><td>3       </td><td>0       </td><td>0       </td><td>0        </td><td>38       </td><td>38       </td><td>9649.029          </td></tr>\n",
       "<tr><td>...                               </td><td>...                                           </td><td>...     </td><td>...     </td><td>...     </td><td>...     </td><td>...      </td><td>...      </td><td>...      </td><td>...               </td></tr>\n",
       "<tr><td><i style='opacity: 0.6'>49,995</i></td><td>&#x27;w8Wv1H79RS3LL5Q75COIm/rt2V8B6uOr/7V8Wzw3SKM=&#x27;</td><td>20161123</td><td>2       </td><td>1       </td><td>0       </td><td>1        </td><td>10       </td><td>14       </td><td>3048.51           </td></tr>\n",
       "<tr><td><i style='opacity: 0.6'>49,996</i></td><td>&#x27;LdvtNHmd5f5iJSxFroRbmaP5VkiDc7PEv6kzfOq8/j8=&#x27;</td><td>20150321</td><td>2       </td><td>0       </td><td>0       </td><td>0        </td><td>10       </td><td>9        </td><td>2534.337          </td></tr>\n",
       "<tr><td><i style='opacity: 0.6'>49,997</i></td><td>&#x27;LdvtNHmd5f5iJSxFroRbmaP5VkiDc7PEv6kzfOq8/j8=&#x27;</td><td>20150601</td><td>0       </td><td>1       </td><td>0       </td><td>0        </td><td>0        </td><td>1        </td><td>98.31299999999999 </td></tr>\n",
       "<tr><td><i style='opacity: 0.6'>49,998</i></td><td>&#x27;LdvtNHmd5f5iJSxFroRbmaP5VkiDc7PEv6kzfOq8/j8=&#x27;</td><td>20150902</td><td>0       </td><td>0       </td><td>0       </td><td>0        </td><td>14       </td><td>13       </td><td>3521.985          </td></tr>\n",
       "<tr><td><i style='opacity: 0.6'>49,999</i></td><td>&#x27;LdvtNHmd5f5iJSxFroRbmaP5VkiDc7PEv6kzfOq8/j8=&#x27;</td><td>20151212</td><td>0       </td><td>0       </td><td>0       </td><td>0        </td><td>6        </td><td>6        </td><td>1497.628          </td></tr>\n",
       "</tbody>\n",
       "</table>"
      ],
      "text/plain": [
       "#       msno                                            date      num_25    num_50    num_75    num_985    num_100    num_unq    total_secs\n",
       "0       'rxIP2f2aN0rYNp+toI0Obt/N/FYQX8hcO1fTmmy2h34='  20150513  0         0         0         0          1          1          280.335\n",
       "1       'rxIP2f2aN0rYNp+toI0Obt/N/FYQX8hcO1fTmmy2h34='  20150709  9         1         0         0          7          11         1658.9479999999999\n",
       "2       'yxiEWwE9VR5utpUecLxVdQ5B7NysUPfrNtGINaM2zA8='  20150105  3         3         0         0          68         36         17364.956000000002\n",
       "3       'yxiEWwE9VR5utpUecLxVdQ5B7NysUPfrNtGINaM2zA8='  20150306  1         0         1         1          97         27         24667.317000000003\n",
       "4       'yxiEWwE9VR5utpUecLxVdQ5B7NysUPfrNtGINaM2zA8='  20150501  3         0         0         0          38         38         9649.029\n",
       "...     ...                                             ...       ...       ...       ...       ...        ...        ...        ...\n",
       "49,995  'w8Wv1H79RS3LL5Q75COIm/rt2V8B6uOr/7V8Wzw3SKM='  20161123  2         1         0         1          10         14         3048.51\n",
       "49,996  'LdvtNHmd5f5iJSxFroRbmaP5VkiDc7PEv6kzfOq8/j8='  20150321  2         0         0         0          10         9          2534.337\n",
       "49,997  'LdvtNHmd5f5iJSxFroRbmaP5VkiDc7PEv6kzfOq8/j8='  20150601  0         1         0         0          0          1          98.31299999999999\n",
       "49,998  'LdvtNHmd5f5iJSxFroRbmaP5VkiDc7PEv6kzfOq8/j8='  20150902  0         0         0         0          14         13         3521.985\n",
       "49,999  'LdvtNHmd5f5iJSxFroRbmaP5VkiDc7PEv6kzfOq8/j8='  20151212  0         0         0         0          6          6          1497.628"
      ]
     },
     "execution_count": 102,
     "metadata": {},
     "output_type": "execute_result"
    }
   ],
   "source": [
    "sample"
   ]
  },
  {
   "cell_type": "code",
   "execution_count": null,
   "id": "51bf48d4",
   "metadata": {
    "ExecuteTime": {
     "start_time": "2021-06-11T10:53:28.136Z"
    }
   },
   "outputs": [],
   "source": [
    "sample"
   ]
  },
  {
   "cell_type": "code",
   "execution_count": 153,
   "id": "02b9ed43",
   "metadata": {
    "ExecuteTime": {
     "end_time": "2021-06-11T10:17:51.713867Z",
     "start_time": "2021-06-11T10:17:25.358768Z"
    }
   },
   "outputs": [],
   "source": [
    "temp2 = sample.groupby([sample.msno, vaex.BinnerTime(sample.date, resolution='M', every=1)]).agg({'total_uid_seconds_month': \n",
    "                                                                             vaex.agg.sum(sample.total_secs)})"
   ]
  },
  {
   "cell_type": "code",
   "execution_count": 154,
   "id": "3f2bd2ca",
   "metadata": {
    "ExecuteTime": {
     "end_time": "2021-06-11T10:17:51.727851Z",
     "start_time": "2021-06-11T10:17:51.715860Z"
    }
   },
   "outputs": [
    {
     "data": {
      "text/html": [
       "<table>\n",
       "<thead>\n",
       "<tr><th>#                                 </th><th>msno                                          </th><th>date      </th><th>total_uid_seconds_month  </th></tr>\n",
       "</thead>\n",
       "<tbody>\n",
       "<tr><td><i style='opacity: 0.6'>0</i>     </td><td>&#x27;rxIP2f2aN0rYNp+toI0Obt/N/FYQX8hcO1fTmmy2h34=&#x27;</td><td>1681179-06</td><td>280.335                  </td></tr>\n",
       "<tr><td><i style='opacity: 0.6'>1</i>     </td><td>&#x27;rxIP2f2aN0rYNp+toI0Obt/N/FYQX8hcO1fTmmy2h34=&#x27;</td><td>1681195-10</td><td>1658.9479999999999       </td></tr>\n",
       "<tr><td><i style='opacity: 0.6'>2</i>     </td><td>&#x27;yxiEWwE9VR5utpUecLxVdQ5B7NysUPfrNtGINaM2zA8=&#x27;</td><td>1681145-06</td><td>17364.956000000002       </td></tr>\n",
       "<tr><td><i style='opacity: 0.6'>3</i>     </td><td>&#x27;yxiEWwE9VR5utpUecLxVdQ5B7NysUPfrNtGINaM2zA8=&#x27;</td><td>1681162-03</td><td>24667.317000000003       </td></tr>\n",
       "<tr><td><i style='opacity: 0.6'>4</i>     </td><td>&#x27;yxiEWwE9VR5utpUecLxVdQ5B7NysUPfrNtGINaM2zA8=&#x27;</td><td>1681178-06</td><td>9649.029                 </td></tr>\n",
       "<tr><td>...                               </td><td>...                                           </td><td>...       </td><td>...                      </td></tr>\n",
       "<tr><td><i style='opacity: 0.6'>49,995</i></td><td>&#x27;eWCMedKf+yid9kFcC4kn1cBE2xEFdwojZTC5pxnznaU=&#x27;</td><td>1681229-04</td><td>33907.672999999995       </td></tr>\n",
       "<tr><td><i style='opacity: 0.6'>49,996</i></td><td>&#x27;nUC1vXdNQKZap5i9aKiCGb5nV0d5JmrtNKBI1ybZNwo=&#x27;</td><td>1682062-08</td><td>190.58900000000003       </td></tr>\n",
       "<tr><td><i style='opacity: 0.6'>49,997</i></td><td>&#x27;w6RFLkszYXEJUNw5rkJ51/D1KbXAdkyW8oBnOVuELa4=&#x27;</td><td>1682038-08</td><td>4903.467000000001        </td></tr>\n",
       "<tr><td><i style='opacity: 0.6'>49,998</i></td><td>&#x27;w6RFLkszYXEJUNw5rkJ51/D1KbXAdkyW8oBnOVuELa4=&#x27;</td><td>1682070-06</td><td>1280.442                 </td></tr>\n",
       "<tr><td><i style='opacity: 0.6'>49,999</i></td><td>&#x27;QwGyot0/sQZqCezMSuKXwo2P7gPZhgiFZOBLK40nMI0=&#x27;</td><td>1682071-07</td><td>2672.7209999999995       </td></tr>\n",
       "</tbody>\n",
       "</table>"
      ],
      "text/plain": [
       "#       msno                                            date        total_uid_seconds_month\n",
       "0       'rxIP2f2aN0rYNp+toI0Obt/N/FYQX8hcO1fTmmy2h34='  1681179-06  280.335\n",
       "1       'rxIP2f2aN0rYNp+toI0Obt/N/FYQX8hcO1fTmmy2h34='  1681195-10  1658.9479999999999\n",
       "2       'yxiEWwE9VR5utpUecLxVdQ5B7NysUPfrNtGINaM2zA8='  1681145-06  17364.956000000002\n",
       "3       'yxiEWwE9VR5utpUecLxVdQ5B7NysUPfrNtGINaM2zA8='  1681162-03  24667.317000000003\n",
       "4       'yxiEWwE9VR5utpUecLxVdQ5B7NysUPfrNtGINaM2zA8='  1681178-06  9649.029\n",
       "...     ...                                             ...         ...\n",
       "49,995  'eWCMedKf+yid9kFcC4kn1cBE2xEFdwojZTC5pxnznaU='  1681229-04  33907.672999999995\n",
       "49,996  'nUC1vXdNQKZap5i9aKiCGb5nV0d5JmrtNKBI1ybZNwo='  1682062-08  190.58900000000003\n",
       "49,997  'w6RFLkszYXEJUNw5rkJ51/D1KbXAdkyW8oBnOVuELa4='  1682038-08  4903.467000000001\n",
       "49,998  'w6RFLkszYXEJUNw5rkJ51/D1KbXAdkyW8oBnOVuELa4='  1682070-06  1280.442\n",
       "49,999  'QwGyot0/sQZqCezMSuKXwo2P7gPZhgiFZOBLK40nMI0='  1682071-07  2672.7209999999995"
      ]
     },
     "execution_count": 154,
     "metadata": {},
     "output_type": "execute_result"
    }
   ],
   "source": [
    "temp2"
   ]
  },
  {
   "cell_type": "code",
   "execution_count": 152,
   "id": "ff8ab119",
   "metadata": {
    "ExecuteTime": {
     "end_time": "2021-06-11T10:16:52.826690Z",
     "start_time": "2021-06-11T10:16:52.819848Z"
    }
   },
   "outputs": [
    {
     "data": {
      "text/plain": [
       "20151115"
      ]
     },
     "execution_count": 152,
     "metadata": {},
     "output_type": "execute_result"
    }
   ],
   "source": [
    "temp2[0][1]"
   ]
  },
  {
   "cell_type": "code",
   "execution_count": 2,
   "id": "a6063a89",
   "metadata": {
    "ExecuteTime": {
     "end_time": "2021-06-15T09:37:27.291877Z",
     "start_time": "2021-06-15T09:37:27.287467Z"
    }
   },
   "outputs": [
    {
     "data": {
      "text/plain": [
       "735475"
      ]
     },
     "execution_count": 2,
     "metadata": {},
     "output_type": "execute_result"
    }
   ],
   "source": [
    "2015 * 365 "
   ]
  },
  {
   "cell_type": "code",
   "execution_count": 139,
   "id": "106b2a0b",
   "metadata": {
    "ExecuteTime": {
     "end_time": "2021-06-11T10:13:46.878917Z",
     "start_time": "2021-06-11T10:13:46.823627Z"
    }
   },
   "outputs": [
    {
     "data": {
      "text/plain": [
       "[<pyarrow.lib.StringArray object at 0x7f8a09db73d0>\n",
       " [\n",
       "   \"kj6EKhEip7IuujcmWfmQp+oKIJZ+pIATkxVFvCQyPac=\",\n",
       "   \"kj6EKhEip7IuujcmWfmQp+oKIJZ+pIATkxVFvCQyPac=\",\n",
       "   \"kj6EKhEip7IuujcmWfmQp+oKIJZ+pIATkxVFvCQyPac=\",\n",
       "   \"kj6EKhEip7IuujcmWfmQp+oKIJZ+pIATkxVFvCQyPac=\",\n",
       "   \"kj6EKhEip7IuujcmWfmQp+oKIJZ+pIATkxVFvCQyPac=\",\n",
       "   \"kj6EKhEip7IuujcmWfmQp+oKIJZ+pIATkxVFvCQyPac=\",\n",
       "   \"kj6EKhEip7IuujcmWfmQp+oKIJZ+pIATkxVFvCQyPac=\",\n",
       "   \"tEr7thVbvPOUagbusAanLgoO06u0vEgOjpwlDEx9kYQ=\",\n",
       "   \"CvNOYPmF7iRQLlmYvDx11+LH28uEjR/4w5hMCVvDjQ8=\",\n",
       "   \"CvNOYPmF7iRQLlmYvDx11+LH28uEjR/4w5hMCVvDjQ8=\",\n",
       "   ...\n",
       "   \"P5atmaCDvQ6sBooufk6uLD/NVklEXJ4A/JWFiOkaz90=\",\n",
       "   \"P5atmaCDvQ6sBooufk6uLD/NVklEXJ4A/JWFiOkaz90=\",\n",
       "   \"P5atmaCDvQ6sBooufk6uLD/NVklEXJ4A/JWFiOkaz90=\",\n",
       "   \"P5atmaCDvQ6sBooufk6uLD/NVklEXJ4A/JWFiOkaz90=\",\n",
       "   \"P5atmaCDvQ6sBooufk6uLD/NVklEXJ4A/JWFiOkaz90=\",\n",
       "   \"P5atmaCDvQ6sBooufk6uLD/NVklEXJ4A/JWFiOkaz90=\",\n",
       "   \"P5atmaCDvQ6sBooufk6uLD/NVklEXJ4A/JWFiOkaz90=\",\n",
       "   \"P5atmaCDvQ6sBooufk6uLD/NVklEXJ4A/JWFiOkaz90=\",\n",
       "   \"P5atmaCDvQ6sBooufk6uLD/NVklEXJ4A/JWFiOkaz90=\",\n",
       "   \"P5atmaCDvQ6sBooufk6uLD/NVklEXJ4A/JWFiOkaz90=\"\n",
       " ],\n",
       " array(['1681229-08', '1681979-08', '1681996-02', ..., '1682045-08',\n",
       "        '1682062-02', '1682811-08'], dtype='datetime64[M]'),\n",
       " array([7033.23 , 7882.171, 5179.466, ..., 5008.496, 2391.421, 1102.175])]"
      ]
     },
     "execution_count": 139,
     "metadata": {},
     "output_type": "execute_result"
    }
   ],
   "source": [
    "temp2.to_arrays()"
   ]
  },
  {
   "cell_type": "code",
   "execution_count": 137,
   "id": "a2e17183",
   "metadata": {
    "ExecuteTime": {
     "end_time": "2021-06-11T10:13:22.656543Z",
     "start_time": "2021-06-11T10:13:22.650134Z"
    }
   },
   "outputs": [
    {
     "data": {
      "text/plain": [
       "['kj6EKhEip7IuujcmWfmQp+oKIJZ+pIATkxVFvCQyPac=', 20151115, 7033.23]"
      ]
     },
     "execution_count": 137,
     "metadata": {},
     "output_type": "execute_result"
    }
   ],
   "source": [
    "temp2[0]"
   ]
  },
  {
   "cell_type": "code",
   "execution_count": 104,
   "id": "2a16d455",
   "metadata": {
    "ExecuteTime": {
     "end_time": "2021-06-11T10:03:23.644117Z",
     "start_time": "2021-06-11T10:03:23.639538Z"
    }
   },
   "outputs": [
    {
     "data": {
      "text/plain": [
       "numpy.datetime64('2013-02-02')"
      ]
     },
     "execution_count": 104,
     "metadata": {},
     "output_type": "execute_result"
    }
   ],
   "source": [
    "np.datetime64('2013-02-02')"
   ]
  }
 ],
 "metadata": {
  "kernelspec": {
   "display_name": "Python 3",
   "language": "python",
   "name": "python3"
  },
  "language_info": {
   "codemirror_mode": {
    "name": "ipython",
    "version": 3
   },
   "file_extension": ".py",
   "mimetype": "text/x-python",
   "name": "python",
   "nbconvert_exporter": "python",
   "pygments_lexer": "ipython3",
   "version": "3.7.10"
  },
  "toc": {
   "base_numbering": 1,
   "nav_menu": {},
   "number_sections": true,
   "sideBar": true,
   "skip_h1_title": false,
   "title_cell": "Table of Contents",
   "title_sidebar": "Contents",
   "toc_cell": false,
   "toc_position": {
    "height": "calc(100% - 180px)",
    "left": "10px",
    "top": "150px",
    "width": "165px"
   },
   "toc_section_display": true,
   "toc_window_display": true
  }
 },
 "nbformat": 4,
 "nbformat_minor": 5
}
