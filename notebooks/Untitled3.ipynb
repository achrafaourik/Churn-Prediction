{
 "cells": [
  {
   "cell_type": "code",
   "execution_count": 1,
   "id": "b93dd65e",
   "metadata": {
    "ExecuteTime": {
     "end_time": "2021-06-08T09:58:38.592749Z",
     "start_time": "2021-06-08T09:58:31.310410Z"
    }
   },
   "outputs": [],
   "source": [
    "import pandas as pd\n",
    "import vaex"
   ]
  },
  {
   "cell_type": "code",
   "execution_count": 2,
   "id": "ccb1ad61",
   "metadata": {
    "ExecuteTime": {
     "end_time": "2021-06-04T09:39:15.289173Z",
     "start_time": "2021-06-04T09:39:14.369816Z"
    }
   },
   "outputs": [],
   "source": [
    "df = vaex.from_csv('./data/train.csv', convert='train.hdf5', chunk_size=50_000_000)"
   ]
  },
  {
   "cell_type": "code",
   "execution_count": 3,
   "id": "57a2aca5",
   "metadata": {
    "ExecuteTime": {
     "end_time": "2021-06-04T09:39:19.887384Z",
     "start_time": "2021-06-04T09:39:19.876635Z"
    }
   },
   "outputs": [
    {
     "data": {
      "text/html": [
       "<table>\n",
       "<thead>\n",
       "<tr><th>#                            </th><th>msno                                          </th><th style=\"text-align: right;\">  is_churn</th></tr>\n",
       "</thead>\n",
       "<tbody>\n",
       "<tr><td><i style='opacity: 0.6'>0</i></td><td>&#x27;waLDQMmcOu2jLDaV1ddDkgCrB/jl6sD66Xzs0Vqax1Y=&#x27;</td><td style=\"text-align: right;\">         1</td></tr>\n",
       "<tr><td><i style='opacity: 0.6'>1</i></td><td>&#x27;QA7uiXy8vIbUSPOkCf9RwQ3FsT8jVq2OxDr8zqa7bRQ=&#x27;</td><td style=\"text-align: right;\">         1</td></tr>\n",
       "<tr><td><i style='opacity: 0.6'>2</i></td><td>&#x27;fGwBva6hikQmTJzrbz/2Ezjm5Cth5jZUNvXigKK2AFA=&#x27;</td><td style=\"text-align: right;\">         1</td></tr>\n",
       "<tr><td><i style='opacity: 0.6'>3</i></td><td>&#x27;mT5V8rEpa+8wuqi6x0DoVd3H5icMKkE9Prt49UlmK+4=&#x27;</td><td style=\"text-align: right;\">         1</td></tr>\n",
       "<tr><td><i style='opacity: 0.6'>4</i></td><td>&#x27;XaPhtGLk/5UvvOYHcONTwsnH97P4eGECeq+BARGItRw=&#x27;</td><td style=\"text-align: right;\">         1</td></tr>\n",
       "<tr><td><i style='opacity: 0.6'>5</i></td><td>&#x27;GBy8qSz16X5iYWD+3CMxv/Hm6OPSrXBYtmbnlRtknW0=&#x27;</td><td style=\"text-align: right;\">         1</td></tr>\n",
       "<tr><td><i style='opacity: 0.6'>6</i></td><td>&#x27;lYLh7TdkWpIoQs3i3o6mIjLH8/IEgMWP9r7OpsLX0Vo=&#x27;</td><td style=\"text-align: right;\">         1</td></tr>\n",
       "<tr><td><i style='opacity: 0.6'>7</i></td><td>&#x27;T0FF6lumjKcqEO0O+tUH2ytc+Kb9EkeaLzcVUiTr1aE=&#x27;</td><td style=\"text-align: right;\">         1</td></tr>\n",
       "<tr><td><i style='opacity: 0.6'>8</i></td><td>&#x27;Nb1ZGEmagQeba5E+nQj8VlQoWl+8SFmLZu+Y8ytIamw=&#x27;</td><td style=\"text-align: right;\">         1</td></tr>\n",
       "<tr><td><i style='opacity: 0.6'>9</i></td><td>&#x27;MkuWz0Nq6/Oq5fKqRddWL7oh2SLUSRe3/g+XmAWqW1Q=&#x27;</td><td style=\"text-align: right;\">         1</td></tr>\n",
       "</tbody>\n",
       "</table>"
      ],
      "text/plain": [
       "  #  msno                                              is_churn\n",
       "  0  'waLDQMmcOu2jLDaV1ddDkgCrB/jl6sD66Xzs0Vqax1Y='           1\n",
       "  1  'QA7uiXy8vIbUSPOkCf9RwQ3FsT8jVq2OxDr8zqa7bRQ='           1\n",
       "  2  'fGwBva6hikQmTJzrbz/2Ezjm5Cth5jZUNvXigKK2AFA='           1\n",
       "  3  'mT5V8rEpa+8wuqi6x0DoVd3H5icMKkE9Prt49UlmK+4='           1\n",
       "  4  'XaPhtGLk/5UvvOYHcONTwsnH97P4eGECeq+BARGItRw='           1\n",
       "  5  'GBy8qSz16X5iYWD+3CMxv/Hm6OPSrXBYtmbnlRtknW0='           1\n",
       "  6  'lYLh7TdkWpIoQs3i3o6mIjLH8/IEgMWP9r7OpsLX0Vo='           1\n",
       "  7  'T0FF6lumjKcqEO0O+tUH2ytc+Kb9EkeaLzcVUiTr1aE='           1\n",
       "  8  'Nb1ZGEmagQeba5E+nQj8VlQoWl+8SFmLZu+Y8ytIamw='           1\n",
       "  9  'MkuWz0Nq6/Oq5fKqRddWL7oh2SLUSRe3/g+XmAWqW1Q='           1"
      ]
     },
     "execution_count": 3,
     "metadata": {},
     "output_type": "execute_result"
    }
   ],
   "source": [
    "df.head()"
   ]
  },
  {
   "cell_type": "code",
   "execution_count": 2,
   "id": "bfa9e6de",
   "metadata": {
    "ExecuteTime": {
     "end_time": "2021-06-04T09:53:55.344616Z",
     "start_time": "2021-06-04T09:39:49.353090Z"
    }
   },
   "outputs": [
    {
     "name": "stderr",
     "output_type": "stream",
     "text": [
      "ERROR:MainThread:vaex:error opening './data/user_logs_chunk_0..hdf5'\n"
     ]
    },
    {
     "ename": "KeyError",
     "evalue": "\"Unable to open object (object 'data' doesn't exist)\"",
     "output_type": "error",
     "traceback": [
      "\u001b[0;31m---------------------------------------------------------------------------\u001b[0m",
      "\u001b[0;31mKeyError\u001b[0m                                  Traceback (most recent call last)",
      "\u001b[0;32m<ipython-input-2-1670ae0c701f>\u001b[0m in \u001b[0;36m<module>\u001b[0;34m\u001b[0m\n\u001b[0;32m----> 1\u001b[0;31m \u001b[0muser_logs\u001b[0m \u001b[0;34m=\u001b[0m \u001b[0mvaex\u001b[0m\u001b[0;34m.\u001b[0m\u001b[0mfrom_csv\u001b[0m\u001b[0;34m(\u001b[0m\u001b[0;34m'./data/user_logs_cleaned.csv'\u001b[0m\u001b[0;34m,\u001b[0m \u001b[0mconvert\u001b[0m\u001b[0;34m=\u001b[0m\u001b[0;34m'./data/user_logs.hdf5'\u001b[0m\u001b[0;34m,\u001b[0m \u001b[0mchunk_size\u001b[0m\u001b[0;34m=\u001b[0m\u001b[0;36m50_000_000\u001b[0m\u001b[0;34m)\u001b[0m\u001b[0;34m\u001b[0m\u001b[0;34m\u001b[0m\u001b[0m\n\u001b[0m",
      "\u001b[0;32m~/anaconda3/envs/env/lib/python3.7/site-packages/vaex/__init__.py\u001b[0m in \u001b[0;36mfrom_csv\u001b[0;34m(filename_or_buffer, copy_index, chunk_size, convert, fs_options, fs, **kwargs)\u001b[0m\n\u001b[1;32m    534\u001b[0m             \u001b[0mchunk_size\u001b[0m\u001b[0;34m=\u001b[0m\u001b[0mchunk_size\u001b[0m\u001b[0;34m,\u001b[0m\u001b[0;34m\u001b[0m\u001b[0;34m\u001b[0m\u001b[0m\n\u001b[1;32m    535\u001b[0m             \u001b[0mcopy_index\u001b[0m\u001b[0;34m=\u001b[0m\u001b[0mcopy_index\u001b[0m\u001b[0;34m,\u001b[0m\u001b[0;34m\u001b[0m\u001b[0;34m\u001b[0m\u001b[0m\n\u001b[0;32m--> 536\u001b[0;31m             \u001b[0;34m**\u001b[0m\u001b[0mkwargs\u001b[0m\u001b[0;34m\u001b[0m\u001b[0;34m\u001b[0m\u001b[0m\n\u001b[0m\u001b[1;32m    537\u001b[0m         )\n\u001b[1;32m    538\u001b[0m         \u001b[0;32mreturn\u001b[0m \u001b[0mopen\u001b[0m\u001b[0;34m(\u001b[0m\u001b[0mpath_output\u001b[0m\u001b[0;34m,\u001b[0m \u001b[0mfs_options\u001b[0m\u001b[0;34m=\u001b[0m\u001b[0mfs_options\u001b[0m\u001b[0;34m,\u001b[0m \u001b[0mfs\u001b[0m\u001b[0;34m=\u001b[0m\u001b[0mfs\u001b[0m\u001b[0;34m)\u001b[0m\u001b[0;34m\u001b[0m\u001b[0;34m\u001b[0m\u001b[0m\n",
      "\u001b[0;32m~/anaconda3/envs/env/lib/python3.7/site-packages/vaex/convert.py\u001b[0m in \u001b[0;36mconvert_csv\u001b[0;34m(path_input, fs_options_input, fs_input, path_output, fs_options_output, fs_output, *args, **kwargs)\u001b[0m\n\u001b[1;32m     49\u001b[0m             \u001b[0mkwargs\u001b[0m\u001b[0;34m[\u001b[0m\u001b[0;34m'chunk_size'\u001b[0m\u001b[0;34m]\u001b[0m \u001b[0;34m=\u001b[0m \u001b[0;36m5_000_000\u001b[0m\u001b[0;34m\u001b[0m\u001b[0;34m\u001b[0m\u001b[0m\n\u001b[1;32m     50\u001b[0m         \u001b[0m_from_csv_convert_and_read\u001b[0m\u001b[0;34m(\u001b[0m\u001b[0mpath_input\u001b[0m\u001b[0;34m,\u001b[0m \u001b[0mpath_output\u001b[0m\u001b[0;34m=\u001b[0m\u001b[0mpath_output\u001b[0m\u001b[0;34m,\u001b[0m \u001b[0mfs_options\u001b[0m\u001b[0;34m=\u001b[0m\u001b[0mfs_options_input\u001b[0m\u001b[0;34m,\u001b[0m \u001b[0mfs\u001b[0m\u001b[0;34m=\u001b[0m\u001b[0mfs_input\u001b[0m\u001b[0;34m,\u001b[0m \u001b[0;34m**\u001b[0m\u001b[0mkwargs\u001b[0m\u001b[0;34m)\u001b[0m\u001b[0;34m\u001b[0m\u001b[0;34m\u001b[0m\u001b[0m\n\u001b[0;32m---> 51\u001b[0;31m     \u001b[0mcached_output\u001b[0m\u001b[0;34m(\u001b[0m\u001b[0;34m*\u001b[0m\u001b[0margs\u001b[0m\u001b[0;34m,\u001b[0m \u001b[0;34m**\u001b[0m\u001b[0mkwargs\u001b[0m\u001b[0;34m)\u001b[0m\u001b[0;34m\u001b[0m\u001b[0;34m\u001b[0m\u001b[0m\n\u001b[0m\u001b[1;32m     52\u001b[0m \u001b[0;34m\u001b[0m\u001b[0m\n\u001b[1;32m     53\u001b[0m \u001b[0;34m\u001b[0m\u001b[0m\n",
      "\u001b[0;32m~/anaconda3/envs/env/lib/python3.7/site-packages/vaex/cache.py\u001b[0m in \u001b[0;36mcall\u001b[0;34m(callable, *args, **kwargs)\u001b[0m\n\u001b[1;32m     46\u001b[0m                 \u001b[0;32mif\u001b[0m \u001b[0;32mnot\u001b[0m \u001b[0mvaex\u001b[0m\u001b[0;34m.\u001b[0m\u001b[0mfile\u001b[0m\u001b[0;34m.\u001b[0m\u001b[0mexists\u001b[0m\u001b[0;34m(\u001b[0m\u001b[0mpath_output\u001b[0m\u001b[0;34m,\u001b[0m \u001b[0mfs_options\u001b[0m\u001b[0;34m=\u001b[0m\u001b[0mfs_options_output_\u001b[0m\u001b[0;34m,\u001b[0m \u001b[0mfs\u001b[0m\u001b[0;34m=\u001b[0m\u001b[0mfs_output\u001b[0m\u001b[0;34m)\u001b[0m\u001b[0;34m:\u001b[0m\u001b[0;34m\u001b[0m\u001b[0;34m\u001b[0m\u001b[0m\n\u001b[1;32m     47\u001b[0m                     \u001b[0mlog\u001b[0m\u001b[0;34m.\u001b[0m\u001b[0minfo\u001b[0m\u001b[0;34m(\u001b[0m\u001b[0;34m'file %s does not exist yet, running conversion %s → %s'\u001b[0m\u001b[0;34m,\u001b[0m \u001b[0mpath_output_meta\u001b[0m\u001b[0;34m,\u001b[0m \u001b[0mpath_input\u001b[0m\u001b[0;34m,\u001b[0m \u001b[0mpath_output\u001b[0m\u001b[0;34m)\u001b[0m\u001b[0;34m\u001b[0m\u001b[0;34m\u001b[0m\u001b[0m\n\u001b[0;32m---> 48\u001b[0;31m                     \u001b[0mvalue\u001b[0m \u001b[0;34m=\u001b[0m \u001b[0mcallable\u001b[0m\u001b[0;34m(\u001b[0m\u001b[0;34m*\u001b[0m\u001b[0margs\u001b[0m\u001b[0;34m,\u001b[0m \u001b[0;34m**\u001b[0m\u001b[0mkwargs\u001b[0m\u001b[0;34m)\u001b[0m\u001b[0;34m\u001b[0m\u001b[0;34m\u001b[0m\u001b[0m\n\u001b[0m\u001b[1;32m     49\u001b[0m                     \u001b[0mwrite_fingerprint\u001b[0m\u001b[0;34m(\u001b[0m\u001b[0;34m)\u001b[0m\u001b[0;34m\u001b[0m\u001b[0;34m\u001b[0m\u001b[0m\n\u001b[1;32m     50\u001b[0m                     \u001b[0;32mreturn\u001b[0m \u001b[0mvalue\u001b[0m\u001b[0;34m\u001b[0m\u001b[0;34m\u001b[0m\u001b[0m\n",
      "\u001b[0;32m~/anaconda3/envs/env/lib/python3.7/site-packages/vaex/convert.py\u001b[0m in \u001b[0;36mcached_output\u001b[0;34m(*args, **kwargs)\u001b[0m\n\u001b[1;32m     48\u001b[0m             \u001b[0;31m# make it memory efficient by default\u001b[0m\u001b[0;34m\u001b[0m\u001b[0;34m\u001b[0m\u001b[0;34m\u001b[0m\u001b[0m\n\u001b[1;32m     49\u001b[0m             \u001b[0mkwargs\u001b[0m\u001b[0;34m[\u001b[0m\u001b[0;34m'chunk_size'\u001b[0m\u001b[0;34m]\u001b[0m \u001b[0;34m=\u001b[0m \u001b[0;36m5_000_000\u001b[0m\u001b[0;34m\u001b[0m\u001b[0;34m\u001b[0m\u001b[0m\n\u001b[0;32m---> 50\u001b[0;31m         \u001b[0m_from_csv_convert_and_read\u001b[0m\u001b[0;34m(\u001b[0m\u001b[0mpath_input\u001b[0m\u001b[0;34m,\u001b[0m \u001b[0mpath_output\u001b[0m\u001b[0;34m=\u001b[0m\u001b[0mpath_output\u001b[0m\u001b[0;34m,\u001b[0m \u001b[0mfs_options\u001b[0m\u001b[0;34m=\u001b[0m\u001b[0mfs_options_input\u001b[0m\u001b[0;34m,\u001b[0m \u001b[0mfs\u001b[0m\u001b[0;34m=\u001b[0m\u001b[0mfs_input\u001b[0m\u001b[0;34m,\u001b[0m \u001b[0;34m**\u001b[0m\u001b[0mkwargs\u001b[0m\u001b[0;34m)\u001b[0m\u001b[0;34m\u001b[0m\u001b[0;34m\u001b[0m\u001b[0m\n\u001b[0m\u001b[1;32m     51\u001b[0m     \u001b[0mcached_output\u001b[0m\u001b[0;34m(\u001b[0m\u001b[0;34m*\u001b[0m\u001b[0margs\u001b[0m\u001b[0;34m,\u001b[0m \u001b[0;34m**\u001b[0m\u001b[0mkwargs\u001b[0m\u001b[0;34m)\u001b[0m\u001b[0;34m\u001b[0m\u001b[0;34m\u001b[0m\u001b[0m\n\u001b[1;32m     52\u001b[0m \u001b[0;34m\u001b[0m\u001b[0m\n",
      "\u001b[0;32m~/anaconda3/envs/env/lib/python3.7/site-packages/vaex/convert.py\u001b[0m in \u001b[0;36m_from_csv_convert_and_read\u001b[0;34m(filename_or_buffer, path_output, chunk_size, fs_options, fs, copy_index, **kwargs)\u001b[0m\n\u001b[1;32m     77\u001b[0m     \u001b[0;32melse\u001b[0m\u001b[0;34m:\u001b[0m\u001b[0;34m\u001b[0m\u001b[0;34m\u001b[0m\u001b[0m\n\u001b[1;32m     78\u001b[0m         \u001b[0mlog\u001b[0m\u001b[0;34m.\u001b[0m\u001b[0minfo\u001b[0m\u001b[0;34m(\u001b[0m\u001b[0;34m'converting %d chunks into single file %s'\u001b[0m \u001b[0;34m%\u001b[0m \u001b[0;34m(\u001b[0m\u001b[0mlen\u001b[0m\u001b[0;34m(\u001b[0m\u001b[0mconverted_paths\u001b[0m\u001b[0;34m)\u001b[0m\u001b[0;34m,\u001b[0m \u001b[0mpath_output\u001b[0m\u001b[0;34m)\u001b[0m\u001b[0;34m)\u001b[0m\u001b[0;34m\u001b[0m\u001b[0;34m\u001b[0m\u001b[0m\n\u001b[0;32m---> 79\u001b[0;31m         \u001b[0mdfs\u001b[0m \u001b[0;34m=\u001b[0m \u001b[0;34m[\u001b[0m\u001b[0mvaex\u001b[0m\u001b[0;34m.\u001b[0m\u001b[0mopen\u001b[0m\u001b[0;34m(\u001b[0m\u001b[0mp\u001b[0m\u001b[0;34m)\u001b[0m \u001b[0;32mfor\u001b[0m \u001b[0mp\u001b[0m \u001b[0;32min\u001b[0m \u001b[0mconverted_paths\u001b[0m\u001b[0;34m]\u001b[0m\u001b[0;34m\u001b[0m\u001b[0;34m\u001b[0m\u001b[0m\n\u001b[0m\u001b[1;32m     80\u001b[0m         \u001b[0mdf_combined\u001b[0m \u001b[0;34m=\u001b[0m \u001b[0mvaex\u001b[0m\u001b[0;34m.\u001b[0m\u001b[0mconcat\u001b[0m\u001b[0;34m(\u001b[0m\u001b[0mdfs\u001b[0m\u001b[0;34m)\u001b[0m\u001b[0;34m\u001b[0m\u001b[0;34m\u001b[0m\u001b[0m\n\u001b[1;32m     81\u001b[0m         \u001b[0mdf_combined\u001b[0m\u001b[0;34m.\u001b[0m\u001b[0mexport\u001b[0m\u001b[0;34m(\u001b[0m\u001b[0mpath_output\u001b[0m\u001b[0;34m)\u001b[0m\u001b[0;34m\u001b[0m\u001b[0;34m\u001b[0m\u001b[0m\n",
      "\u001b[0;32m~/anaconda3/envs/env/lib/python3.7/site-packages/vaex/convert.py\u001b[0m in \u001b[0;36m<listcomp>\u001b[0;34m(.0)\u001b[0m\n\u001b[1;32m     77\u001b[0m     \u001b[0;32melse\u001b[0m\u001b[0;34m:\u001b[0m\u001b[0;34m\u001b[0m\u001b[0;34m\u001b[0m\u001b[0m\n\u001b[1;32m     78\u001b[0m         \u001b[0mlog\u001b[0m\u001b[0;34m.\u001b[0m\u001b[0minfo\u001b[0m\u001b[0;34m(\u001b[0m\u001b[0;34m'converting %d chunks into single file %s'\u001b[0m \u001b[0;34m%\u001b[0m \u001b[0;34m(\u001b[0m\u001b[0mlen\u001b[0m\u001b[0;34m(\u001b[0m\u001b[0mconverted_paths\u001b[0m\u001b[0;34m)\u001b[0m\u001b[0;34m,\u001b[0m \u001b[0mpath_output\u001b[0m\u001b[0;34m)\u001b[0m\u001b[0;34m)\u001b[0m\u001b[0;34m\u001b[0m\u001b[0;34m\u001b[0m\u001b[0m\n\u001b[0;32m---> 79\u001b[0;31m         \u001b[0mdfs\u001b[0m \u001b[0;34m=\u001b[0m \u001b[0;34m[\u001b[0m\u001b[0mvaex\u001b[0m\u001b[0;34m.\u001b[0m\u001b[0mopen\u001b[0m\u001b[0;34m(\u001b[0m\u001b[0mp\u001b[0m\u001b[0;34m)\u001b[0m \u001b[0;32mfor\u001b[0m \u001b[0mp\u001b[0m \u001b[0;32min\u001b[0m \u001b[0mconverted_paths\u001b[0m\u001b[0;34m]\u001b[0m\u001b[0;34m\u001b[0m\u001b[0;34m\u001b[0m\u001b[0m\n\u001b[0m\u001b[1;32m     80\u001b[0m         \u001b[0mdf_combined\u001b[0m \u001b[0;34m=\u001b[0m \u001b[0mvaex\u001b[0m\u001b[0;34m.\u001b[0m\u001b[0mconcat\u001b[0m\u001b[0;34m(\u001b[0m\u001b[0mdfs\u001b[0m\u001b[0;34m)\u001b[0m\u001b[0;34m\u001b[0m\u001b[0;34m\u001b[0m\u001b[0m\n\u001b[1;32m     81\u001b[0m         \u001b[0mdf_combined\u001b[0m\u001b[0;34m.\u001b[0m\u001b[0mexport\u001b[0m\u001b[0;34m(\u001b[0m\u001b[0mpath_output\u001b[0m\u001b[0;34m)\u001b[0m\u001b[0;34m\u001b[0m\u001b[0;34m\u001b[0m\u001b[0m\n",
      "\u001b[0;32m~/anaconda3/envs/env/lib/python3.7/site-packages/vaex/__init__.py\u001b[0m in \u001b[0;36mopen\u001b[0;34m(path, convert, shuffle, fs_options, fs, *args, **kwargs)\u001b[0m\n\u001b[1;32m    220\u001b[0m                 \u001b[0mds\u001b[0m \u001b[0;34m=\u001b[0m \u001b[0mvaex\u001b[0m\u001b[0;34m.\u001b[0m\u001b[0mdataset\u001b[0m\u001b[0;34m.\u001b[0m\u001b[0mopen\u001b[0m\u001b[0;34m(\u001b[0m\u001b[0mpath_output\u001b[0m\u001b[0;34m,\u001b[0m \u001b[0mfs_options\u001b[0m\u001b[0;34m=\u001b[0m\u001b[0mfs_options\u001b[0m\u001b[0;34m,\u001b[0m \u001b[0mfs\u001b[0m\u001b[0;34m=\u001b[0m\u001b[0mfs\u001b[0m\u001b[0;34m,\u001b[0m \u001b[0;34m**\u001b[0m\u001b[0mkwargs\u001b[0m\u001b[0;34m)\u001b[0m\u001b[0;34m\u001b[0m\u001b[0;34m\u001b[0m\u001b[0m\n\u001b[1;32m    221\u001b[0m             \u001b[0;32melse\u001b[0m\u001b[0;34m:\u001b[0m\u001b[0;34m\u001b[0m\u001b[0;34m\u001b[0m\u001b[0m\n\u001b[0;32m--> 222\u001b[0;31m                 \u001b[0mds\u001b[0m \u001b[0;34m=\u001b[0m \u001b[0mvaex\u001b[0m\u001b[0;34m.\u001b[0m\u001b[0mdataset\u001b[0m\u001b[0;34m.\u001b[0m\u001b[0mopen\u001b[0m\u001b[0;34m(\u001b[0m\u001b[0mpath\u001b[0m\u001b[0;34m,\u001b[0m \u001b[0mfs_options\u001b[0m\u001b[0;34m=\u001b[0m\u001b[0mfs_options\u001b[0m\u001b[0;34m,\u001b[0m \u001b[0mfs\u001b[0m\u001b[0;34m=\u001b[0m\u001b[0mfs\u001b[0m\u001b[0;34m,\u001b[0m \u001b[0;34m**\u001b[0m\u001b[0mkwargs\u001b[0m\u001b[0;34m)\u001b[0m\u001b[0;34m\u001b[0m\u001b[0;34m\u001b[0m\u001b[0m\n\u001b[0m\u001b[1;32m    223\u001b[0m             \u001b[0mdf\u001b[0m \u001b[0;34m=\u001b[0m \u001b[0mvaex\u001b[0m\u001b[0;34m.\u001b[0m\u001b[0mfrom_dataset\u001b[0m\u001b[0;34m(\u001b[0m\u001b[0mds\u001b[0m\u001b[0;34m)\u001b[0m\u001b[0;34m\u001b[0m\u001b[0;34m\u001b[0m\u001b[0m\n\u001b[1;32m    224\u001b[0m             \u001b[0;32mif\u001b[0m \u001b[0mdf\u001b[0m \u001b[0;32mis\u001b[0m \u001b[0;32mNone\u001b[0m\u001b[0;34m:\u001b[0m\u001b[0;34m\u001b[0m\u001b[0;34m\u001b[0m\u001b[0m\n",
      "\u001b[0;32m~/anaconda3/envs/env/lib/python3.7/site-packages/vaex/dataset.py\u001b[0m in \u001b[0;36mopen\u001b[0;34m(path, fs_options, fs, *args, **kwargs)\u001b[0m\n\u001b[1;32m     43\u001b[0m         \u001b[0;32mif\u001b[0m \u001b[0mopener\u001b[0m\u001b[0;34m.\u001b[0m\u001b[0mquick_test\u001b[0m\u001b[0;34m(\u001b[0m\u001b[0mpath\u001b[0m\u001b[0;34m,\u001b[0m \u001b[0mfs_options\u001b[0m\u001b[0;34m=\u001b[0m\u001b[0mfs_options\u001b[0m\u001b[0;34m,\u001b[0m \u001b[0mfs\u001b[0m\u001b[0;34m=\u001b[0m\u001b[0mfs\u001b[0m\u001b[0;34m)\u001b[0m\u001b[0;34m:\u001b[0m\u001b[0;34m\u001b[0m\u001b[0;34m\u001b[0m\u001b[0m\n\u001b[1;32m     44\u001b[0m             \u001b[0;32mif\u001b[0m \u001b[0mopener\u001b[0m\u001b[0;34m.\u001b[0m\u001b[0mcan_open\u001b[0m\u001b[0;34m(\u001b[0m\u001b[0mpath\u001b[0m\u001b[0;34m,\u001b[0m \u001b[0mfs_options\u001b[0m\u001b[0;34m=\u001b[0m\u001b[0mfs_options\u001b[0m\u001b[0;34m,\u001b[0m \u001b[0mfs\u001b[0m\u001b[0;34m=\u001b[0m\u001b[0mfs\u001b[0m\u001b[0;34m,\u001b[0m \u001b[0;34m*\u001b[0m\u001b[0margs\u001b[0m\u001b[0;34m,\u001b[0m \u001b[0;34m**\u001b[0m\u001b[0mkwargs\u001b[0m\u001b[0;34m)\u001b[0m\u001b[0;34m:\u001b[0m\u001b[0;34m\u001b[0m\u001b[0;34m\u001b[0m\u001b[0m\n\u001b[0;32m---> 45\u001b[0;31m                 \u001b[0;32mreturn\u001b[0m \u001b[0mopener\u001b[0m\u001b[0;34m.\u001b[0m\u001b[0mopen\u001b[0m\u001b[0;34m(\u001b[0m\u001b[0mpath\u001b[0m\u001b[0;34m,\u001b[0m \u001b[0mfs_options\u001b[0m\u001b[0;34m=\u001b[0m\u001b[0mfs_options\u001b[0m\u001b[0;34m,\u001b[0m \u001b[0mfs\u001b[0m\u001b[0;34m=\u001b[0m\u001b[0mfs\u001b[0m\u001b[0;34m,\u001b[0m \u001b[0;34m*\u001b[0m\u001b[0margs\u001b[0m\u001b[0;34m,\u001b[0m \u001b[0;34m**\u001b[0m\u001b[0mkwargs\u001b[0m\u001b[0;34m)\u001b[0m\u001b[0;34m\u001b[0m\u001b[0;34m\u001b[0m\u001b[0m\n\u001b[0m\u001b[1;32m     46\u001b[0m \u001b[0;34m\u001b[0m\u001b[0m\n\u001b[1;32m     47\u001b[0m     \u001b[0;31m# otherwise try all openers\u001b[0m\u001b[0;34m\u001b[0m\u001b[0;34m\u001b[0m\u001b[0;34m\u001b[0m\u001b[0m\n",
      "\u001b[0;32m~/anaconda3/envs/env/lib/python3.7/site-packages/vaex/dataset.py\u001b[0m in \u001b[0;36mopen\u001b[0;34m(cls, path, *args, **kwargs)\u001b[0m\n\u001b[1;32m   1059\u001b[0m     \u001b[0;34m@\u001b[0m\u001b[0mclassmethod\u001b[0m\u001b[0;34m\u001b[0m\u001b[0;34m\u001b[0m\u001b[0m\n\u001b[1;32m   1060\u001b[0m     \u001b[0;32mdef\u001b[0m \u001b[0mopen\u001b[0m\u001b[0;34m(\u001b[0m\u001b[0mcls\u001b[0m\u001b[0;34m,\u001b[0m \u001b[0mpath\u001b[0m\u001b[0;34m,\u001b[0m \u001b[0;34m*\u001b[0m\u001b[0margs\u001b[0m\u001b[0;34m,\u001b[0m \u001b[0;34m**\u001b[0m\u001b[0mkwargs\u001b[0m\u001b[0;34m)\u001b[0m\u001b[0;34m:\u001b[0m\u001b[0;34m\u001b[0m\u001b[0;34m\u001b[0m\u001b[0m\n\u001b[0;32m-> 1061\u001b[0;31m         \u001b[0;32mreturn\u001b[0m \u001b[0mcls\u001b[0m\u001b[0;34m(\u001b[0m\u001b[0mpath\u001b[0m\u001b[0;34m,\u001b[0m \u001b[0;34m*\u001b[0m\u001b[0margs\u001b[0m\u001b[0;34m,\u001b[0m \u001b[0;34m**\u001b[0m\u001b[0mkwargs\u001b[0m\u001b[0;34m)\u001b[0m\u001b[0;34m\u001b[0m\u001b[0;34m\u001b[0m\u001b[0m\n\u001b[0m\u001b[1;32m   1062\u001b[0m \u001b[0;34m\u001b[0m\u001b[0m\n\u001b[1;32m   1063\u001b[0m     \u001b[0;32mdef\u001b[0m \u001b[0mchunk_iterator\u001b[0m\u001b[0;34m(\u001b[0m\u001b[0mself\u001b[0m\u001b[0;34m,\u001b[0m \u001b[0mcolumns\u001b[0m\u001b[0;34m,\u001b[0m \u001b[0mchunk_size\u001b[0m\u001b[0;34m=\u001b[0m\u001b[0;32mNone\u001b[0m\u001b[0;34m,\u001b[0m \u001b[0mreverse\u001b[0m\u001b[0;34m=\u001b[0m\u001b[0;32mFalse\u001b[0m\u001b[0;34m)\u001b[0m\u001b[0;34m:\u001b[0m\u001b[0;34m\u001b[0m\u001b[0;34m\u001b[0m\u001b[0m\n",
      "\u001b[0;32m~/anaconda3/envs/env/lib/python3.7/site-packages/vaex/hdf5/dataset.py\u001b[0m in \u001b[0;36m__init__\u001b[0;34m(self, path, write, fs_options, fs)\u001b[0m\n\u001b[1;32m     69\u001b[0m         \u001b[0mself\u001b[0m\u001b[0;34m.\u001b[0m\u001b[0mh5table_root_name\u001b[0m \u001b[0;34m=\u001b[0m \u001b[0;32mNone\u001b[0m\u001b[0;34m\u001b[0m\u001b[0;34m\u001b[0m\u001b[0m\n\u001b[1;32m     70\u001b[0m         \u001b[0mself\u001b[0m\u001b[0;34m.\u001b[0m\u001b[0m_version\u001b[0m \u001b[0;34m=\u001b[0m \u001b[0;36m1\u001b[0m\u001b[0;34m\u001b[0m\u001b[0;34m\u001b[0m\u001b[0m\n\u001b[0;32m---> 71\u001b[0;31m         \u001b[0mself\u001b[0m\u001b[0;34m.\u001b[0m\u001b[0m_load\u001b[0m\u001b[0;34m(\u001b[0m\u001b[0;34m)\u001b[0m\u001b[0;34m\u001b[0m\u001b[0;34m\u001b[0m\u001b[0m\n\u001b[0m\u001b[1;32m     72\u001b[0m         \u001b[0;32mif\u001b[0m \u001b[0;32mnot\u001b[0m \u001b[0mwrite\u001b[0m\u001b[0;34m:\u001b[0m  \u001b[0;31m# in write mode, call freeze yourself, so the hashes are computed\u001b[0m\u001b[0;34m\u001b[0m\u001b[0;34m\u001b[0m\u001b[0m\n\u001b[1;32m     73\u001b[0m             \u001b[0mself\u001b[0m\u001b[0;34m.\u001b[0m\u001b[0m_freeze\u001b[0m\u001b[0;34m(\u001b[0m\u001b[0;34m)\u001b[0m\u001b[0;34m\u001b[0m\u001b[0;34m\u001b[0m\u001b[0m\n",
      "\u001b[0;32m~/anaconda3/envs/env/lib/python3.7/site-packages/vaex/hdf5/dataset.py\u001b[0m in \u001b[0;36m_load\u001b[0;34m(self)\u001b[0m\n\u001b[1;32m    195\u001b[0m         \u001b[0;32mif\u001b[0m \u001b[0;34m\"table\"\u001b[0m \u001b[0;32min\u001b[0m \u001b[0mself\u001b[0m\u001b[0;34m.\u001b[0m\u001b[0mh5file\u001b[0m\u001b[0;34m:\u001b[0m\u001b[0;34m\u001b[0m\u001b[0;34m\u001b[0m\u001b[0m\n\u001b[1;32m    196\u001b[0m             \u001b[0mself\u001b[0m\u001b[0;34m.\u001b[0m\u001b[0m_version\u001b[0m \u001b[0;34m=\u001b[0m \u001b[0;36m2\u001b[0m\u001b[0;34m\u001b[0m\u001b[0;34m\u001b[0m\u001b[0m\n\u001b[0;32m--> 197\u001b[0;31m             \u001b[0mself\u001b[0m\u001b[0;34m.\u001b[0m\u001b[0m_load_columns\u001b[0m\u001b[0;34m(\u001b[0m\u001b[0mself\u001b[0m\u001b[0;34m.\u001b[0m\u001b[0mh5file\u001b[0m\u001b[0;34m[\u001b[0m\u001b[0;34m\"/table\"\u001b[0m\u001b[0;34m]\u001b[0m\u001b[0;34m)\u001b[0m\u001b[0;34m\u001b[0m\u001b[0;34m\u001b[0m\u001b[0m\n\u001b[0m\u001b[1;32m    198\u001b[0m             \u001b[0mself\u001b[0m\u001b[0;34m.\u001b[0m\u001b[0mh5table_root_name\u001b[0m \u001b[0;34m=\u001b[0m \u001b[0;34m\"/table\"\u001b[0m\u001b[0;34m\u001b[0m\u001b[0;34m\u001b[0m\u001b[0m\n\u001b[1;32m    199\u001b[0m         \u001b[0mroot_datasets\u001b[0m \u001b[0;34m=\u001b[0m \u001b[0;34m[\u001b[0m\u001b[0mdataset\u001b[0m \u001b[0;32mfor\u001b[0m \u001b[0mname\u001b[0m\u001b[0;34m,\u001b[0m \u001b[0mdataset\u001b[0m \u001b[0;32min\u001b[0m \u001b[0mself\u001b[0m\u001b[0;34m.\u001b[0m\u001b[0mh5file\u001b[0m\u001b[0;34m.\u001b[0m\u001b[0mitems\u001b[0m\u001b[0;34m(\u001b[0m\u001b[0;34m)\u001b[0m \u001b[0;32mif\u001b[0m \u001b[0misinstance\u001b[0m\u001b[0;34m(\u001b[0m\u001b[0mdataset\u001b[0m\u001b[0;34m,\u001b[0m \u001b[0mh5py\u001b[0m\u001b[0;34m.\u001b[0m\u001b[0mDataset\u001b[0m\u001b[0;34m)\u001b[0m\u001b[0;34m]\u001b[0m\u001b[0;34m\u001b[0m\u001b[0;34m\u001b[0m\u001b[0m\n",
      "\u001b[0;32m~/anaconda3/envs/env/lib/python3.7/site-packages/vaex/hdf5/dataset.py\u001b[0m in \u001b[0;36m_load_columns\u001b[0;34m(self, h5data, first)\u001b[0m\n\u001b[1;32m    338\u001b[0m                     \u001b[0;32mif\u001b[0m \u001b[0munitname\u001b[0m \u001b[0;34m==\u001b[0m \u001b[0;34m\"system.get('S.I.').base('mass')\"\u001b[0m\u001b[0;34m:\u001b[0m\u001b[0;34m\u001b[0m\u001b[0;34m\u001b[0m\u001b[0m\n\u001b[1;32m    339\u001b[0m                         \u001b[0mself\u001b[0m\u001b[0;34m.\u001b[0m\u001b[0munits\u001b[0m\u001b[0;34m[\u001b[0m\u001b[0mcolumn_name\u001b[0m\u001b[0;34m]\u001b[0m \u001b[0;34m=\u001b[0m \u001b[0mastropy\u001b[0m\u001b[0;34m.\u001b[0m\u001b[0munits\u001b[0m\u001b[0;34m.\u001b[0m\u001b[0mUnit\u001b[0m\u001b[0;34m(\u001b[0m\u001b[0;34m\"kg\"\u001b[0m\u001b[0;34m)\u001b[0m\u001b[0;34m\u001b[0m\u001b[0;34m\u001b[0m\u001b[0m\n\u001b[0;32m--> 340\u001b[0;31m                 \u001b[0mdata\u001b[0m \u001b[0;34m=\u001b[0m \u001b[0mcolumn\u001b[0m \u001b[0;32mif\u001b[0m \u001b[0mself\u001b[0m\u001b[0;34m.\u001b[0m\u001b[0m_version\u001b[0m \u001b[0;34m==\u001b[0m \u001b[0;36m1\u001b[0m \u001b[0;32melse\u001b[0m \u001b[0mcolumn\u001b[0m\u001b[0;34m[\u001b[0m\u001b[0;34m'data'\u001b[0m\u001b[0;34m]\u001b[0m\u001b[0;34m\u001b[0m\u001b[0;34m\u001b[0m\u001b[0m\n\u001b[0m\u001b[1;32m    341\u001b[0m                 \u001b[0;32mif\u001b[0m \u001b[0mhasattr\u001b[0m\u001b[0;34m(\u001b[0m\u001b[0mdata\u001b[0m\u001b[0;34m,\u001b[0m \u001b[0;34m\"dtype\"\u001b[0m\u001b[0;34m)\u001b[0m\u001b[0;34m:\u001b[0m\u001b[0;34m\u001b[0m\u001b[0;34m\u001b[0m\u001b[0m\n\u001b[1;32m    342\u001b[0m                     \u001b[0;32mif\u001b[0m \u001b[0;34m\"dtype\"\u001b[0m \u001b[0;32min\u001b[0m \u001b[0mdata\u001b[0m\u001b[0;34m.\u001b[0m\u001b[0mattrs\u001b[0m \u001b[0;32mand\u001b[0m \u001b[0mdata\u001b[0m\u001b[0;34m.\u001b[0m\u001b[0mattrs\u001b[0m\u001b[0;34m[\u001b[0m\u001b[0;34m\"dtype\"\u001b[0m\u001b[0;34m]\u001b[0m \u001b[0;34m==\u001b[0m \u001b[0;34m\"str\"\u001b[0m\u001b[0;34m:\u001b[0m\u001b[0;34m\u001b[0m\u001b[0;34m\u001b[0m\u001b[0m\n",
      "\u001b[0;32mh5py/_objects.pyx\u001b[0m in \u001b[0;36mh5py._objects.with_phil.wrapper\u001b[0;34m()\u001b[0m\n",
      "\u001b[0;32mh5py/_objects.pyx\u001b[0m in \u001b[0;36mh5py._objects.with_phil.wrapper\u001b[0;34m()\u001b[0m\n",
      "\u001b[0;32m~/anaconda3/envs/env/lib/python3.7/site-packages/h5py/_hl/group.py\u001b[0m in \u001b[0;36m__getitem__\u001b[0;34m(self, name)\u001b[0m\n\u001b[1;32m    262\u001b[0m                 \u001b[0;32mraise\u001b[0m \u001b[0mValueError\u001b[0m\u001b[0;34m(\u001b[0m\u001b[0;34m\"Invalid HDF5 object reference\"\u001b[0m\u001b[0;34m)\u001b[0m\u001b[0;34m\u001b[0m\u001b[0;34m\u001b[0m\u001b[0m\n\u001b[1;32m    263\u001b[0m         \u001b[0;32melse\u001b[0m\u001b[0;34m:\u001b[0m\u001b[0;34m\u001b[0m\u001b[0;34m\u001b[0m\u001b[0m\n\u001b[0;32m--> 264\u001b[0;31m             \u001b[0moid\u001b[0m \u001b[0;34m=\u001b[0m \u001b[0mh5o\u001b[0m\u001b[0;34m.\u001b[0m\u001b[0mopen\u001b[0m\u001b[0;34m(\u001b[0m\u001b[0mself\u001b[0m\u001b[0;34m.\u001b[0m\u001b[0mid\u001b[0m\u001b[0;34m,\u001b[0m \u001b[0mself\u001b[0m\u001b[0;34m.\u001b[0m\u001b[0m_e\u001b[0m\u001b[0;34m(\u001b[0m\u001b[0mname\u001b[0m\u001b[0;34m)\u001b[0m\u001b[0;34m,\u001b[0m \u001b[0mlapl\u001b[0m\u001b[0;34m=\u001b[0m\u001b[0mself\u001b[0m\u001b[0;34m.\u001b[0m\u001b[0m_lapl\u001b[0m\u001b[0;34m)\u001b[0m\u001b[0;34m\u001b[0m\u001b[0;34m\u001b[0m\u001b[0m\n\u001b[0m\u001b[1;32m    265\u001b[0m \u001b[0;34m\u001b[0m\u001b[0m\n\u001b[1;32m    266\u001b[0m         \u001b[0motype\u001b[0m \u001b[0;34m=\u001b[0m \u001b[0mh5i\u001b[0m\u001b[0;34m.\u001b[0m\u001b[0mget_type\u001b[0m\u001b[0;34m(\u001b[0m\u001b[0moid\u001b[0m\u001b[0;34m)\u001b[0m\u001b[0;34m\u001b[0m\u001b[0;34m\u001b[0m\u001b[0m\n",
      "\u001b[0;32mh5py/_objects.pyx\u001b[0m in \u001b[0;36mh5py._objects.with_phil.wrapper\u001b[0;34m()\u001b[0m\n",
      "\u001b[0;32mh5py/_objects.pyx\u001b[0m in \u001b[0;36mh5py._objects.with_phil.wrapper\u001b[0;34m()\u001b[0m\n",
      "\u001b[0;32mh5py/h5o.pyx\u001b[0m in \u001b[0;36mh5py.h5o.open\u001b[0;34m()\u001b[0m\n",
      "\u001b[0;31mKeyError\u001b[0m: \"Unable to open object (object 'data' doesn't exist)\""
     ]
    }
   ],
   "source": [
    "user_logs = vaex.from_csv('./data/user_logs_cleaned.csv', convert='./data/user_logs.hdf5', chunk_size=50_000_000)"
   ]
  },
  {
   "cell_type": "code",
   "execution_count": 11,
   "id": "60dc43b7",
   "metadata": {
    "ExecuteTime": {
     "end_time": "2021-06-04T10:03:17.112406Z",
     "start_time": "2021-06-04T10:03:17.061655Z"
    }
   },
   "outputs": [
    {
     "name": "stderr",
     "output_type": "stream",
     "text": [
      "ERROR:MainThread:vaex:error opening './data/user_logs_chunk_0..hdf5'\n",
      "ERROR:MainThread:vaex:error opening './data/user_logs_chunk_*..hdf5'\n"
     ]
    },
    {
     "ename": "KeyError",
     "evalue": "\"Unable to open object (object 'data' doesn't exist)\"",
     "output_type": "error",
     "traceback": [
      "\u001b[0;31m---------------------------------------------------------------------------\u001b[0m",
      "\u001b[0;31mKeyError\u001b[0m                                  Traceback (most recent call last)",
      "\u001b[0;32m<ipython-input-11-a6281611cac4>\u001b[0m in \u001b[0;36m<module>\u001b[0;34m\u001b[0m\n\u001b[0;32m----> 1\u001b[0;31m \u001b[0mdf\u001b[0m \u001b[0;34m=\u001b[0m \u001b[0mvaex\u001b[0m\u001b[0;34m.\u001b[0m\u001b[0mopen\u001b[0m\u001b[0;34m(\u001b[0m\u001b[0;34m'./data/user_logs_chunk_*..hdf5'\u001b[0m\u001b[0;34m)\u001b[0m\u001b[0;34m\u001b[0m\u001b[0;34m\u001b[0m\u001b[0m\n\u001b[0m",
      "\u001b[0;32m~/anaconda3/envs/env/lib/python3.7/site-packages/vaex/__init__.py\u001b[0m in \u001b[0;36mopen\u001b[0;34m(path, convert, shuffle, fs_options, fs, *args, **kwargs)\u001b[0m\n\u001b[1;32m    235\u001b[0m                 \u001b[0mdfs\u001b[0m \u001b[0;34m=\u001b[0m \u001b[0;34m[\u001b[0m\u001b[0;34m]\u001b[0m\u001b[0;34m\u001b[0m\u001b[0;34m\u001b[0m\u001b[0m\n\u001b[1;32m    236\u001b[0m                 \u001b[0;32mfor\u001b[0m \u001b[0mfilename\u001b[0m \u001b[0;32min\u001b[0m \u001b[0mfilenames\u001b[0m\u001b[0;34m:\u001b[0m\u001b[0;34m\u001b[0m\u001b[0;34m\u001b[0m\u001b[0m\n\u001b[0;32m--> 237\u001b[0;31m                     \u001b[0mdfs\u001b[0m\u001b[0;34m.\u001b[0m\u001b[0mappend\u001b[0m\u001b[0;34m(\u001b[0m\u001b[0mvaex\u001b[0m\u001b[0;34m.\u001b[0m\u001b[0mopen\u001b[0m\u001b[0;34m(\u001b[0m\u001b[0mfilename\u001b[0m\u001b[0;34m,\u001b[0m \u001b[0mconvert\u001b[0m\u001b[0;34m=\u001b[0m\u001b[0mbool\u001b[0m\u001b[0;34m(\u001b[0m\u001b[0mconvert\u001b[0m\u001b[0;34m)\u001b[0m\u001b[0;34m,\u001b[0m \u001b[0mshuffle\u001b[0m\u001b[0;34m=\u001b[0m\u001b[0mshuffle\u001b[0m\u001b[0;34m,\u001b[0m \u001b[0;34m**\u001b[0m\u001b[0mkwargs\u001b[0m\u001b[0;34m)\u001b[0m\u001b[0;34m)\u001b[0m\u001b[0;34m\u001b[0m\u001b[0;34m\u001b[0m\u001b[0m\n\u001b[0m\u001b[1;32m    238\u001b[0m                 \u001b[0mdf\u001b[0m \u001b[0;34m=\u001b[0m \u001b[0mvaex\u001b[0m\u001b[0;34m.\u001b[0m\u001b[0mconcat\u001b[0m\u001b[0;34m(\u001b[0m\u001b[0mdfs\u001b[0m\u001b[0;34m)\u001b[0m\u001b[0;34m\u001b[0m\u001b[0;34m\u001b[0m\u001b[0m\n\u001b[1;32m    239\u001b[0m                 \u001b[0;32mif\u001b[0m \u001b[0mconvert\u001b[0m\u001b[0;34m:\u001b[0m\u001b[0;34m\u001b[0m\u001b[0;34m\u001b[0m\u001b[0m\n",
      "\u001b[0;32m~/anaconda3/envs/env/lib/python3.7/site-packages/vaex/__init__.py\u001b[0m in \u001b[0;36mopen\u001b[0;34m(path, convert, shuffle, fs_options, fs, *args, **kwargs)\u001b[0m\n\u001b[1;32m    220\u001b[0m                 \u001b[0mds\u001b[0m \u001b[0;34m=\u001b[0m \u001b[0mvaex\u001b[0m\u001b[0;34m.\u001b[0m\u001b[0mdataset\u001b[0m\u001b[0;34m.\u001b[0m\u001b[0mopen\u001b[0m\u001b[0;34m(\u001b[0m\u001b[0mpath_output\u001b[0m\u001b[0;34m,\u001b[0m \u001b[0mfs_options\u001b[0m\u001b[0;34m=\u001b[0m\u001b[0mfs_options\u001b[0m\u001b[0;34m,\u001b[0m \u001b[0mfs\u001b[0m\u001b[0;34m=\u001b[0m\u001b[0mfs\u001b[0m\u001b[0;34m,\u001b[0m \u001b[0;34m**\u001b[0m\u001b[0mkwargs\u001b[0m\u001b[0;34m)\u001b[0m\u001b[0;34m\u001b[0m\u001b[0;34m\u001b[0m\u001b[0m\n\u001b[1;32m    221\u001b[0m             \u001b[0;32melse\u001b[0m\u001b[0;34m:\u001b[0m\u001b[0;34m\u001b[0m\u001b[0;34m\u001b[0m\u001b[0m\n\u001b[0;32m--> 222\u001b[0;31m                 \u001b[0mds\u001b[0m \u001b[0;34m=\u001b[0m \u001b[0mvaex\u001b[0m\u001b[0;34m.\u001b[0m\u001b[0mdataset\u001b[0m\u001b[0;34m.\u001b[0m\u001b[0mopen\u001b[0m\u001b[0;34m(\u001b[0m\u001b[0mpath\u001b[0m\u001b[0;34m,\u001b[0m \u001b[0mfs_options\u001b[0m\u001b[0;34m=\u001b[0m\u001b[0mfs_options\u001b[0m\u001b[0;34m,\u001b[0m \u001b[0mfs\u001b[0m\u001b[0;34m=\u001b[0m\u001b[0mfs\u001b[0m\u001b[0;34m,\u001b[0m \u001b[0;34m**\u001b[0m\u001b[0mkwargs\u001b[0m\u001b[0;34m)\u001b[0m\u001b[0;34m\u001b[0m\u001b[0;34m\u001b[0m\u001b[0m\n\u001b[0m\u001b[1;32m    223\u001b[0m             \u001b[0mdf\u001b[0m \u001b[0;34m=\u001b[0m \u001b[0mvaex\u001b[0m\u001b[0;34m.\u001b[0m\u001b[0mfrom_dataset\u001b[0m\u001b[0;34m(\u001b[0m\u001b[0mds\u001b[0m\u001b[0;34m)\u001b[0m\u001b[0;34m\u001b[0m\u001b[0;34m\u001b[0m\u001b[0m\n\u001b[1;32m    224\u001b[0m             \u001b[0;32mif\u001b[0m \u001b[0mdf\u001b[0m \u001b[0;32mis\u001b[0m \u001b[0;32mNone\u001b[0m\u001b[0;34m:\u001b[0m\u001b[0;34m\u001b[0m\u001b[0;34m\u001b[0m\u001b[0m\n",
      "\u001b[0;32m~/anaconda3/envs/env/lib/python3.7/site-packages/vaex/dataset.py\u001b[0m in \u001b[0;36mopen\u001b[0;34m(path, fs_options, fs, *args, **kwargs)\u001b[0m\n\u001b[1;32m     43\u001b[0m         \u001b[0;32mif\u001b[0m \u001b[0mopener\u001b[0m\u001b[0;34m.\u001b[0m\u001b[0mquick_test\u001b[0m\u001b[0;34m(\u001b[0m\u001b[0mpath\u001b[0m\u001b[0;34m,\u001b[0m \u001b[0mfs_options\u001b[0m\u001b[0;34m=\u001b[0m\u001b[0mfs_options\u001b[0m\u001b[0;34m,\u001b[0m \u001b[0mfs\u001b[0m\u001b[0;34m=\u001b[0m\u001b[0mfs\u001b[0m\u001b[0;34m)\u001b[0m\u001b[0;34m:\u001b[0m\u001b[0;34m\u001b[0m\u001b[0;34m\u001b[0m\u001b[0m\n\u001b[1;32m     44\u001b[0m             \u001b[0;32mif\u001b[0m \u001b[0mopener\u001b[0m\u001b[0;34m.\u001b[0m\u001b[0mcan_open\u001b[0m\u001b[0;34m(\u001b[0m\u001b[0mpath\u001b[0m\u001b[0;34m,\u001b[0m \u001b[0mfs_options\u001b[0m\u001b[0;34m=\u001b[0m\u001b[0mfs_options\u001b[0m\u001b[0;34m,\u001b[0m \u001b[0mfs\u001b[0m\u001b[0;34m=\u001b[0m\u001b[0mfs\u001b[0m\u001b[0;34m,\u001b[0m \u001b[0;34m*\u001b[0m\u001b[0margs\u001b[0m\u001b[0;34m,\u001b[0m \u001b[0;34m**\u001b[0m\u001b[0mkwargs\u001b[0m\u001b[0;34m)\u001b[0m\u001b[0;34m:\u001b[0m\u001b[0;34m\u001b[0m\u001b[0;34m\u001b[0m\u001b[0m\n\u001b[0;32m---> 45\u001b[0;31m                 \u001b[0;32mreturn\u001b[0m \u001b[0mopener\u001b[0m\u001b[0;34m.\u001b[0m\u001b[0mopen\u001b[0m\u001b[0;34m(\u001b[0m\u001b[0mpath\u001b[0m\u001b[0;34m,\u001b[0m \u001b[0mfs_options\u001b[0m\u001b[0;34m=\u001b[0m\u001b[0mfs_options\u001b[0m\u001b[0;34m,\u001b[0m \u001b[0mfs\u001b[0m\u001b[0;34m=\u001b[0m\u001b[0mfs\u001b[0m\u001b[0;34m,\u001b[0m \u001b[0;34m*\u001b[0m\u001b[0margs\u001b[0m\u001b[0;34m,\u001b[0m \u001b[0;34m**\u001b[0m\u001b[0mkwargs\u001b[0m\u001b[0;34m)\u001b[0m\u001b[0;34m\u001b[0m\u001b[0;34m\u001b[0m\u001b[0m\n\u001b[0m\u001b[1;32m     46\u001b[0m \u001b[0;34m\u001b[0m\u001b[0m\n\u001b[1;32m     47\u001b[0m     \u001b[0;31m# otherwise try all openers\u001b[0m\u001b[0;34m\u001b[0m\u001b[0;34m\u001b[0m\u001b[0;34m\u001b[0m\u001b[0m\n",
      "\u001b[0;32m~/anaconda3/envs/env/lib/python3.7/site-packages/vaex/dataset.py\u001b[0m in \u001b[0;36mopen\u001b[0;34m(cls, path, *args, **kwargs)\u001b[0m\n\u001b[1;32m   1059\u001b[0m     \u001b[0;34m@\u001b[0m\u001b[0mclassmethod\u001b[0m\u001b[0;34m\u001b[0m\u001b[0;34m\u001b[0m\u001b[0m\n\u001b[1;32m   1060\u001b[0m     \u001b[0;32mdef\u001b[0m \u001b[0mopen\u001b[0m\u001b[0;34m(\u001b[0m\u001b[0mcls\u001b[0m\u001b[0;34m,\u001b[0m \u001b[0mpath\u001b[0m\u001b[0;34m,\u001b[0m \u001b[0;34m*\u001b[0m\u001b[0margs\u001b[0m\u001b[0;34m,\u001b[0m \u001b[0;34m**\u001b[0m\u001b[0mkwargs\u001b[0m\u001b[0;34m)\u001b[0m\u001b[0;34m:\u001b[0m\u001b[0;34m\u001b[0m\u001b[0;34m\u001b[0m\u001b[0m\n\u001b[0;32m-> 1061\u001b[0;31m         \u001b[0;32mreturn\u001b[0m \u001b[0mcls\u001b[0m\u001b[0;34m(\u001b[0m\u001b[0mpath\u001b[0m\u001b[0;34m,\u001b[0m \u001b[0;34m*\u001b[0m\u001b[0margs\u001b[0m\u001b[0;34m,\u001b[0m \u001b[0;34m**\u001b[0m\u001b[0mkwargs\u001b[0m\u001b[0;34m)\u001b[0m\u001b[0;34m\u001b[0m\u001b[0;34m\u001b[0m\u001b[0m\n\u001b[0m\u001b[1;32m   1062\u001b[0m \u001b[0;34m\u001b[0m\u001b[0m\n\u001b[1;32m   1063\u001b[0m     \u001b[0;32mdef\u001b[0m \u001b[0mchunk_iterator\u001b[0m\u001b[0;34m(\u001b[0m\u001b[0mself\u001b[0m\u001b[0;34m,\u001b[0m \u001b[0mcolumns\u001b[0m\u001b[0;34m,\u001b[0m \u001b[0mchunk_size\u001b[0m\u001b[0;34m=\u001b[0m\u001b[0;32mNone\u001b[0m\u001b[0;34m,\u001b[0m \u001b[0mreverse\u001b[0m\u001b[0;34m=\u001b[0m\u001b[0;32mFalse\u001b[0m\u001b[0;34m)\u001b[0m\u001b[0;34m:\u001b[0m\u001b[0;34m\u001b[0m\u001b[0;34m\u001b[0m\u001b[0m\n",
      "\u001b[0;32m~/anaconda3/envs/env/lib/python3.7/site-packages/vaex/hdf5/dataset.py\u001b[0m in \u001b[0;36m__init__\u001b[0;34m(self, path, write, fs_options, fs)\u001b[0m\n\u001b[1;32m     69\u001b[0m         \u001b[0mself\u001b[0m\u001b[0;34m.\u001b[0m\u001b[0mh5table_root_name\u001b[0m \u001b[0;34m=\u001b[0m \u001b[0;32mNone\u001b[0m\u001b[0;34m\u001b[0m\u001b[0;34m\u001b[0m\u001b[0m\n\u001b[1;32m     70\u001b[0m         \u001b[0mself\u001b[0m\u001b[0;34m.\u001b[0m\u001b[0m_version\u001b[0m \u001b[0;34m=\u001b[0m \u001b[0;36m1\u001b[0m\u001b[0;34m\u001b[0m\u001b[0;34m\u001b[0m\u001b[0m\n\u001b[0;32m---> 71\u001b[0;31m         \u001b[0mself\u001b[0m\u001b[0;34m.\u001b[0m\u001b[0m_load\u001b[0m\u001b[0;34m(\u001b[0m\u001b[0;34m)\u001b[0m\u001b[0;34m\u001b[0m\u001b[0;34m\u001b[0m\u001b[0m\n\u001b[0m\u001b[1;32m     72\u001b[0m         \u001b[0;32mif\u001b[0m \u001b[0;32mnot\u001b[0m \u001b[0mwrite\u001b[0m\u001b[0;34m:\u001b[0m  \u001b[0;31m# in write mode, call freeze yourself, so the hashes are computed\u001b[0m\u001b[0;34m\u001b[0m\u001b[0;34m\u001b[0m\u001b[0m\n\u001b[1;32m     73\u001b[0m             \u001b[0mself\u001b[0m\u001b[0;34m.\u001b[0m\u001b[0m_freeze\u001b[0m\u001b[0;34m(\u001b[0m\u001b[0;34m)\u001b[0m\u001b[0;34m\u001b[0m\u001b[0;34m\u001b[0m\u001b[0m\n",
      "\u001b[0;32m~/anaconda3/envs/env/lib/python3.7/site-packages/vaex/hdf5/dataset.py\u001b[0m in \u001b[0;36m_load\u001b[0;34m(self)\u001b[0m\n\u001b[1;32m    195\u001b[0m         \u001b[0;32mif\u001b[0m \u001b[0;34m\"table\"\u001b[0m \u001b[0;32min\u001b[0m \u001b[0mself\u001b[0m\u001b[0;34m.\u001b[0m\u001b[0mh5file\u001b[0m\u001b[0;34m:\u001b[0m\u001b[0;34m\u001b[0m\u001b[0;34m\u001b[0m\u001b[0m\n\u001b[1;32m    196\u001b[0m             \u001b[0mself\u001b[0m\u001b[0;34m.\u001b[0m\u001b[0m_version\u001b[0m \u001b[0;34m=\u001b[0m \u001b[0;36m2\u001b[0m\u001b[0;34m\u001b[0m\u001b[0;34m\u001b[0m\u001b[0m\n\u001b[0;32m--> 197\u001b[0;31m             \u001b[0mself\u001b[0m\u001b[0;34m.\u001b[0m\u001b[0m_load_columns\u001b[0m\u001b[0;34m(\u001b[0m\u001b[0mself\u001b[0m\u001b[0;34m.\u001b[0m\u001b[0mh5file\u001b[0m\u001b[0;34m[\u001b[0m\u001b[0;34m\"/table\"\u001b[0m\u001b[0;34m]\u001b[0m\u001b[0;34m)\u001b[0m\u001b[0;34m\u001b[0m\u001b[0;34m\u001b[0m\u001b[0m\n\u001b[0m\u001b[1;32m    198\u001b[0m             \u001b[0mself\u001b[0m\u001b[0;34m.\u001b[0m\u001b[0mh5table_root_name\u001b[0m \u001b[0;34m=\u001b[0m \u001b[0;34m\"/table\"\u001b[0m\u001b[0;34m\u001b[0m\u001b[0;34m\u001b[0m\u001b[0m\n\u001b[1;32m    199\u001b[0m         \u001b[0mroot_datasets\u001b[0m \u001b[0;34m=\u001b[0m \u001b[0;34m[\u001b[0m\u001b[0mdataset\u001b[0m \u001b[0;32mfor\u001b[0m \u001b[0mname\u001b[0m\u001b[0;34m,\u001b[0m \u001b[0mdataset\u001b[0m \u001b[0;32min\u001b[0m \u001b[0mself\u001b[0m\u001b[0;34m.\u001b[0m\u001b[0mh5file\u001b[0m\u001b[0;34m.\u001b[0m\u001b[0mitems\u001b[0m\u001b[0;34m(\u001b[0m\u001b[0;34m)\u001b[0m \u001b[0;32mif\u001b[0m \u001b[0misinstance\u001b[0m\u001b[0;34m(\u001b[0m\u001b[0mdataset\u001b[0m\u001b[0;34m,\u001b[0m \u001b[0mh5py\u001b[0m\u001b[0;34m.\u001b[0m\u001b[0mDataset\u001b[0m\u001b[0;34m)\u001b[0m\u001b[0;34m]\u001b[0m\u001b[0;34m\u001b[0m\u001b[0;34m\u001b[0m\u001b[0m\n",
      "\u001b[0;32m~/anaconda3/envs/env/lib/python3.7/site-packages/vaex/hdf5/dataset.py\u001b[0m in \u001b[0;36m_load_columns\u001b[0;34m(self, h5data, first)\u001b[0m\n\u001b[1;32m    338\u001b[0m                     \u001b[0;32mif\u001b[0m \u001b[0munitname\u001b[0m \u001b[0;34m==\u001b[0m \u001b[0;34m\"system.get('S.I.').base('mass')\"\u001b[0m\u001b[0;34m:\u001b[0m\u001b[0;34m\u001b[0m\u001b[0;34m\u001b[0m\u001b[0m\n\u001b[1;32m    339\u001b[0m                         \u001b[0mself\u001b[0m\u001b[0;34m.\u001b[0m\u001b[0munits\u001b[0m\u001b[0;34m[\u001b[0m\u001b[0mcolumn_name\u001b[0m\u001b[0;34m]\u001b[0m \u001b[0;34m=\u001b[0m \u001b[0mastropy\u001b[0m\u001b[0;34m.\u001b[0m\u001b[0munits\u001b[0m\u001b[0;34m.\u001b[0m\u001b[0mUnit\u001b[0m\u001b[0;34m(\u001b[0m\u001b[0;34m\"kg\"\u001b[0m\u001b[0;34m)\u001b[0m\u001b[0;34m\u001b[0m\u001b[0;34m\u001b[0m\u001b[0m\n\u001b[0;32m--> 340\u001b[0;31m                 \u001b[0mdata\u001b[0m \u001b[0;34m=\u001b[0m \u001b[0mcolumn\u001b[0m \u001b[0;32mif\u001b[0m \u001b[0mself\u001b[0m\u001b[0;34m.\u001b[0m\u001b[0m_version\u001b[0m \u001b[0;34m==\u001b[0m \u001b[0;36m1\u001b[0m \u001b[0;32melse\u001b[0m \u001b[0mcolumn\u001b[0m\u001b[0;34m[\u001b[0m\u001b[0;34m'data'\u001b[0m\u001b[0;34m]\u001b[0m\u001b[0;34m\u001b[0m\u001b[0;34m\u001b[0m\u001b[0m\n\u001b[0m\u001b[1;32m    341\u001b[0m                 \u001b[0;32mif\u001b[0m \u001b[0mhasattr\u001b[0m\u001b[0;34m(\u001b[0m\u001b[0mdata\u001b[0m\u001b[0;34m,\u001b[0m \u001b[0;34m\"dtype\"\u001b[0m\u001b[0;34m)\u001b[0m\u001b[0;34m:\u001b[0m\u001b[0;34m\u001b[0m\u001b[0;34m\u001b[0m\u001b[0m\n\u001b[1;32m    342\u001b[0m                     \u001b[0;32mif\u001b[0m \u001b[0;34m\"dtype\"\u001b[0m \u001b[0;32min\u001b[0m \u001b[0mdata\u001b[0m\u001b[0;34m.\u001b[0m\u001b[0mattrs\u001b[0m \u001b[0;32mand\u001b[0m \u001b[0mdata\u001b[0m\u001b[0;34m.\u001b[0m\u001b[0mattrs\u001b[0m\u001b[0;34m[\u001b[0m\u001b[0;34m\"dtype\"\u001b[0m\u001b[0;34m]\u001b[0m \u001b[0;34m==\u001b[0m \u001b[0;34m\"str\"\u001b[0m\u001b[0;34m:\u001b[0m\u001b[0;34m\u001b[0m\u001b[0;34m\u001b[0m\u001b[0m\n",
      "\u001b[0;32mh5py/_objects.pyx\u001b[0m in \u001b[0;36mh5py._objects.with_phil.wrapper\u001b[0;34m()\u001b[0m\n",
      "\u001b[0;32mh5py/_objects.pyx\u001b[0m in \u001b[0;36mh5py._objects.with_phil.wrapper\u001b[0;34m()\u001b[0m\n",
      "\u001b[0;32m~/anaconda3/envs/env/lib/python3.7/site-packages/h5py/_hl/group.py\u001b[0m in \u001b[0;36m__getitem__\u001b[0;34m(self, name)\u001b[0m\n\u001b[1;32m    262\u001b[0m                 \u001b[0;32mraise\u001b[0m \u001b[0mValueError\u001b[0m\u001b[0;34m(\u001b[0m\u001b[0;34m\"Invalid HDF5 object reference\"\u001b[0m\u001b[0;34m)\u001b[0m\u001b[0;34m\u001b[0m\u001b[0;34m\u001b[0m\u001b[0m\n\u001b[1;32m    263\u001b[0m         \u001b[0;32melse\u001b[0m\u001b[0;34m:\u001b[0m\u001b[0;34m\u001b[0m\u001b[0;34m\u001b[0m\u001b[0m\n\u001b[0;32m--> 264\u001b[0;31m             \u001b[0moid\u001b[0m \u001b[0;34m=\u001b[0m \u001b[0mh5o\u001b[0m\u001b[0;34m.\u001b[0m\u001b[0mopen\u001b[0m\u001b[0;34m(\u001b[0m\u001b[0mself\u001b[0m\u001b[0;34m.\u001b[0m\u001b[0mid\u001b[0m\u001b[0;34m,\u001b[0m \u001b[0mself\u001b[0m\u001b[0;34m.\u001b[0m\u001b[0m_e\u001b[0m\u001b[0;34m(\u001b[0m\u001b[0mname\u001b[0m\u001b[0;34m)\u001b[0m\u001b[0;34m,\u001b[0m \u001b[0mlapl\u001b[0m\u001b[0;34m=\u001b[0m\u001b[0mself\u001b[0m\u001b[0;34m.\u001b[0m\u001b[0m_lapl\u001b[0m\u001b[0;34m)\u001b[0m\u001b[0;34m\u001b[0m\u001b[0;34m\u001b[0m\u001b[0m\n\u001b[0m\u001b[1;32m    265\u001b[0m \u001b[0;34m\u001b[0m\u001b[0m\n\u001b[1;32m    266\u001b[0m         \u001b[0motype\u001b[0m \u001b[0;34m=\u001b[0m \u001b[0mh5i\u001b[0m\u001b[0;34m.\u001b[0m\u001b[0mget_type\u001b[0m\u001b[0;34m(\u001b[0m\u001b[0moid\u001b[0m\u001b[0;34m)\u001b[0m\u001b[0;34m\u001b[0m\u001b[0;34m\u001b[0m\u001b[0m\n",
      "\u001b[0;32mh5py/_objects.pyx\u001b[0m in \u001b[0;36mh5py._objects.with_phil.wrapper\u001b[0;34m()\u001b[0m\n",
      "\u001b[0;32mh5py/_objects.pyx\u001b[0m in \u001b[0;36mh5py._objects.with_phil.wrapper\u001b[0;34m()\u001b[0m\n",
      "\u001b[0;32mh5py/h5o.pyx\u001b[0m in \u001b[0;36mh5py.h5o.open\u001b[0;34m()\u001b[0m\n",
      "\u001b[0;31mKeyError\u001b[0m: \"Unable to open object (object 'data' doesn't exist)\""
     ]
    }
   ],
   "source": [
    "df = vaex.open('./data/user_logs_chunk_*..hdf5')"
   ]
  },
  {
   "cell_type": "code",
   "execution_count": 8,
   "id": "27561bd7",
   "metadata": {
    "ExecuteTime": {
     "end_time": "2021-06-04T09:59:06.356627Z",
     "start_time": "2021-06-04T09:59:00.279334Z"
    },
    "scrolled": false
   },
   "outputs": [
    {
     "name": "stdout",
     "output_type": "stream",
     "text": [
      "                                                msno  is_churn\n",
      "0       waLDQMmcOu2jLDaV1ddDkgCrB/jl6sD66Xzs0Vqax1Y=         1\n",
      "1       QA7uiXy8vIbUSPOkCf9RwQ3FsT8jVq2OxDr8zqa7bRQ=         1\n",
      "2       fGwBva6hikQmTJzrbz/2Ezjm5Cth5jZUNvXigKK2AFA=         1\n",
      "3       mT5V8rEpa+8wuqi6x0DoVd3H5icMKkE9Prt49UlmK+4=         1\n",
      "4       XaPhtGLk/5UvvOYHcONTwsnH97P4eGECeq+BARGItRw=         1\n",
      "...                                              ...       ...\n",
      "992926  tUM0yxAj50Vc35vQZ++xMlomdyeLJUW9lEcoPnt3H+g=         0\n",
      "992927  KQS8etmfGgvE/7Y9gK+E9wdLnRTI0lyyPXaXL3I8E4c=         0\n",
      "992928  8/jDLgNREuWI9hcKVYp8723nmavn01T+AuMWkK3uM7g=         0\n",
      "992929  iNV99F1Rml7EMndOeLI0Y/iek6aCj/Qp1Z4dZvR+sak=         0\n",
      "992930  ZoVEIVMCpKT9/MJgqO+fh9xYrNM2vNisLhJ4xY/CVyk=         0\n",
      "\n",
      "[1985862 rows x 2 columns]\n"
     ]
    }
   ],
   "source": [
    "import numpy as np\n",
    "import pandas as pd\n",
    "\n",
    "filename = './data/something.hdf5'\n",
    "store = pd.HDFStore(filename)\n",
    "\n",
    "for i in range(2):\n",
    "    df = pd.read_csv('./data/train.csv')\n",
    "    store.append('data', df)\n",
    "\n",
    "store.close()\n",
    "\n",
    "store = pd.HDFStore(filename)\n",
    "data = store['data']\n",
    "print(data)\n",
    "store.close()"
   ]
  },
  {
   "cell_type": "code",
   "execution_count": 9,
   "id": "9e2965ef",
   "metadata": {
    "ExecuteTime": {
     "end_time": "2021-06-04T09:59:39.231010Z",
     "start_time": "2021-06-04T09:59:39.184284Z"
    }
   },
   "outputs": [],
   "source": [
    "df = vaex.open('./data/something.hdf5')"
   ]
  },
  {
   "cell_type": "code",
   "execution_count": 10,
   "id": "070bea1b",
   "metadata": {
    "ExecuteTime": {
     "end_time": "2021-06-04T09:59:41.250443Z",
     "start_time": "2021-06-04T09:59:41.173011Z"
    },
    "scrolled": true
   },
   "outputs": [
    {
     "data": {
      "text/html": [
       "<table>\n",
       "<thead>\n",
       "<tr><th>#                            </th><th>table                                              </th></tr>\n",
       "</thead>\n",
       "<tbody>\n",
       "<tr><td><i style='opacity: 0.6'>0</i></td><td>&quot;(0, [1], [b&#x27;waLDQMmcOu2jLDaV1ddDkgCrB/jl6sD66Xz...</td></tr>\n",
       "<tr><td><i style='opacity: 0.6'>1</i></td><td>&quot;(1, [1], [b&#x27;QA7uiXy8vIbUSPOkCf9RwQ3FsT8jVq2OxDr...</td></tr>\n",
       "<tr><td><i style='opacity: 0.6'>2</i></td><td>&quot;(2, [1], [b&#x27;fGwBva6hikQmTJzrbz/2Ezjm5Cth5jZUNvX...</td></tr>\n",
       "<tr><td><i style='opacity: 0.6'>3</i></td><td>&quot;(3, [1], [b&#x27;mT5V8rEpa+8wuqi6x0DoVd3H5icMKkE9Prt...</td></tr>\n",
       "<tr><td><i style='opacity: 0.6'>4</i></td><td>&quot;(4, [1], [b&#x27;XaPhtGLk/5UvvOYHcONTwsnH97P4eGECeq+...</td></tr>\n",
       "<tr><td><i style='opacity: 0.6'>5</i></td><td>&quot;(5, [1], [b&#x27;GBy8qSz16X5iYWD+3CMxv/Hm6OPSrXBYtmb...</td></tr>\n",
       "<tr><td><i style='opacity: 0.6'>6</i></td><td>&quot;(6, [1], [b&#x27;lYLh7TdkWpIoQs3i3o6mIjLH8/IEgMWP9r7...</td></tr>\n",
       "<tr><td><i style='opacity: 0.6'>7</i></td><td>&quot;(7, [1], [b&#x27;T0FF6lumjKcqEO0O+tUH2ytc+Kb9EkeaLzc...</td></tr>\n",
       "<tr><td><i style='opacity: 0.6'>8</i></td><td>&quot;(8, [1], [b&#x27;Nb1ZGEmagQeba5E+nQj8VlQoWl+8SFmLZu+...</td></tr>\n",
       "<tr><td><i style='opacity: 0.6'>9</i></td><td>&quot;(9, [1], [b&#x27;MkuWz0Nq6/Oq5fKqRddWL7oh2SLUSRe3/g+...</td></tr>\n",
       "</tbody>\n",
       "</table>"
      ],
      "text/plain": [
       "  #  table\n",
       "  0  \"(0, [1], [b'waLDQMmcOu2jLDaV1ddDkgCrB/jl6sD66Xz...\n",
       "  1  \"(1, [1], [b'QA7uiXy8vIbUSPOkCf9RwQ3FsT8jVq2OxDr...\n",
       "  2  \"(2, [1], [b'fGwBva6hikQmTJzrbz/2Ezjm5Cth5jZUNvX...\n",
       "  3  \"(3, [1], [b'mT5V8rEpa+8wuqi6x0DoVd3H5icMKkE9Prt...\n",
       "  4  \"(4, [1], [b'XaPhtGLk/5UvvOYHcONTwsnH97P4eGECeq+...\n",
       "  5  \"(5, [1], [b'GBy8qSz16X5iYWD+3CMxv/Hm6OPSrXBYtmb...\n",
       "  6  \"(6, [1], [b'lYLh7TdkWpIoQs3i3o6mIjLH8/IEgMWP9r7...\n",
       "  7  \"(7, [1], [b'T0FF6lumjKcqEO0O+tUH2ytc+Kb9EkeaLzc...\n",
       "  8  \"(8, [1], [b'Nb1ZGEmagQeba5E+nQj8VlQoWl+8SFmLZu+...\n",
       "  9  \"(9, [1], [b'MkuWz0Nq6/Oq5fKqRddWL7oh2SLUSRe3/g+..."
      ]
     },
     "execution_count": 10,
     "metadata": {},
     "output_type": "execute_result"
    }
   ],
   "source": [
    "df.head()"
   ]
  },
  {
   "cell_type": "code",
   "execution_count": 12,
   "id": "60d25b24",
   "metadata": {
    "ExecuteTime": {
     "end_time": "2021-06-04T10:04:19.062794Z",
     "start_time": "2021-06-04T10:04:19.054328Z"
    }
   },
   "outputs": [
    {
     "data": {
      "text/plain": [
       "table    [('index', '<i8'), ('values_block_0', '<i8', (...\n",
       "dtype: object"
      ]
     },
     "execution_count": 12,
     "metadata": {},
     "output_type": "execute_result"
    }
   ],
   "source": [
    "df.dtypes"
   ]
  },
  {
   "cell_type": "code",
   "execution_count": 15,
   "id": "1e9925f7",
   "metadata": {
    "ExecuteTime": {
     "end_time": "2021-06-04T10:07:52.679220Z",
     "start_time": "2021-06-04T10:07:51.919253Z"
    }
   },
   "outputs": [],
   "source": [
    "df = pd.read_csv('./data/user_logs_cleaned.csv', nrows=1e6, header=None)"
   ]
  },
  {
   "cell_type": "code",
   "execution_count": 16,
   "id": "a2108e0d",
   "metadata": {
    "ExecuteTime": {
     "end_time": "2021-06-04T10:07:53.542823Z",
     "start_time": "2021-06-04T10:07:53.470919Z"
    },
    "scrolled": false
   },
   "outputs": [
    {
     "data": {
      "text/html": [
       "<div>\n",
       "<style scoped>\n",
       "    .dataframe tbody tr th:only-of-type {\n",
       "        vertical-align: middle;\n",
       "    }\n",
       "\n",
       "    .dataframe tbody tr th {\n",
       "        vertical-align: top;\n",
       "    }\n",
       "\n",
       "    .dataframe thead th {\n",
       "        text-align: right;\n",
       "    }\n",
       "</style>\n",
       "<table border=\"1\" class=\"dataframe\">\n",
       "  <thead>\n",
       "    <tr style=\"text-align: right;\">\n",
       "      <th></th>\n",
       "      <th>0</th>\n",
       "      <th>1</th>\n",
       "      <th>2</th>\n",
       "      <th>3</th>\n",
       "      <th>4</th>\n",
       "      <th>5</th>\n",
       "      <th>6</th>\n",
       "      <th>7</th>\n",
       "      <th>8</th>\n",
       "    </tr>\n",
       "  </thead>\n",
       "  <tbody>\n",
       "    <tr>\n",
       "      <th>0</th>\n",
       "      <td>rxIP2f2aN0rYNp+toI0Obt/N/FYQX8hcO1fTmmy2h34=</td>\n",
       "      <td>20150513</td>\n",
       "      <td>0</td>\n",
       "      <td>0</td>\n",
       "      <td>0</td>\n",
       "      <td>0</td>\n",
       "      <td>1</td>\n",
       "      <td>1</td>\n",
       "      <td>280.335</td>\n",
       "    </tr>\n",
       "    <tr>\n",
       "      <th>1</th>\n",
       "      <td>rxIP2f2aN0rYNp+toI0Obt/N/FYQX8hcO1fTmmy2h34=</td>\n",
       "      <td>20150709</td>\n",
       "      <td>9</td>\n",
       "      <td>1</td>\n",
       "      <td>0</td>\n",
       "      <td>0</td>\n",
       "      <td>7</td>\n",
       "      <td>11</td>\n",
       "      <td>1658.948</td>\n",
       "    </tr>\n",
       "    <tr>\n",
       "      <th>2</th>\n",
       "      <td>yxiEWwE9VR5utpUecLxVdQ5B7NysUPfrNtGINaM2zA8=</td>\n",
       "      <td>20150105</td>\n",
       "      <td>3</td>\n",
       "      <td>3</td>\n",
       "      <td>0</td>\n",
       "      <td>0</td>\n",
       "      <td>68</td>\n",
       "      <td>36</td>\n",
       "      <td>17364.956</td>\n",
       "    </tr>\n",
       "    <tr>\n",
       "      <th>3</th>\n",
       "      <td>yxiEWwE9VR5utpUecLxVdQ5B7NysUPfrNtGINaM2zA8=</td>\n",
       "      <td>20150306</td>\n",
       "      <td>1</td>\n",
       "      <td>0</td>\n",
       "      <td>1</td>\n",
       "      <td>1</td>\n",
       "      <td>97</td>\n",
       "      <td>27</td>\n",
       "      <td>24667.317</td>\n",
       "    </tr>\n",
       "    <tr>\n",
       "      <th>4</th>\n",
       "      <td>yxiEWwE9VR5utpUecLxVdQ5B7NysUPfrNtGINaM2zA8=</td>\n",
       "      <td>20150501</td>\n",
       "      <td>3</td>\n",
       "      <td>0</td>\n",
       "      <td>0</td>\n",
       "      <td>0</td>\n",
       "      <td>38</td>\n",
       "      <td>38</td>\n",
       "      <td>9649.029</td>\n",
       "    </tr>\n",
       "    <tr>\n",
       "      <th>...</th>\n",
       "      <td>...</td>\n",
       "      <td>...</td>\n",
       "      <td>...</td>\n",
       "      <td>...</td>\n",
       "      <td>...</td>\n",
       "      <td>...</td>\n",
       "      <td>...</td>\n",
       "      <td>...</td>\n",
       "      <td>...</td>\n",
       "    </tr>\n",
       "    <tr>\n",
       "      <th>999995</th>\n",
       "      <td>6fT4bgfaqP5vFtQKR74kI7uv01D8yLxfk2AsJ/XyiP0=</td>\n",
       "      <td>20150221</td>\n",
       "      <td>1</td>\n",
       "      <td>0</td>\n",
       "      <td>1</td>\n",
       "      <td>0</td>\n",
       "      <td>19</td>\n",
       "      <td>21</td>\n",
       "      <td>5170.615</td>\n",
       "    </tr>\n",
       "    <tr>\n",
       "      <th>999996</th>\n",
       "      <td>6fT4bgfaqP5vFtQKR74kI7uv01D8yLxfk2AsJ/XyiP0=</td>\n",
       "      <td>20150419</td>\n",
       "      <td>11</td>\n",
       "      <td>1</td>\n",
       "      <td>0</td>\n",
       "      <td>4</td>\n",
       "      <td>26</td>\n",
       "      <td>35</td>\n",
       "      <td>7734.410</td>\n",
       "    </tr>\n",
       "    <tr>\n",
       "      <th>999997</th>\n",
       "      <td>6fT4bgfaqP5vFtQKR74kI7uv01D8yLxfk2AsJ/XyiP0=</td>\n",
       "      <td>20150624</td>\n",
       "      <td>4</td>\n",
       "      <td>8</td>\n",
       "      <td>0</td>\n",
       "      <td>0</td>\n",
       "      <td>3</td>\n",
       "      <td>14</td>\n",
       "      <td>1482.793</td>\n",
       "    </tr>\n",
       "    <tr>\n",
       "      <th>999998</th>\n",
       "      <td>6fT4bgfaqP5vFtQKR74kI7uv01D8yLxfk2AsJ/XyiP0=</td>\n",
       "      <td>20160327</td>\n",
       "      <td>0</td>\n",
       "      <td>0</td>\n",
       "      <td>0</td>\n",
       "      <td>0</td>\n",
       "      <td>3</td>\n",
       "      <td>3</td>\n",
       "      <td>767.583</td>\n",
       "    </tr>\n",
       "    <tr>\n",
       "      <th>999999</th>\n",
       "      <td>xcYYO9zsdTMiwfzZyWQN0s2UR6m7MfiJPQrJeudjdEc=</td>\n",
       "      <td>20150201</td>\n",
       "      <td>3</td>\n",
       "      <td>1</td>\n",
       "      <td>0</td>\n",
       "      <td>1</td>\n",
       "      <td>6</td>\n",
       "      <td>10</td>\n",
       "      <td>1663.135</td>\n",
       "    </tr>\n",
       "  </tbody>\n",
       "</table>\n",
       "<p>1000000 rows × 9 columns</p>\n",
       "</div>"
      ],
      "text/plain": [
       "                                                   0         1   2  3  4  5  \\\n",
       "0       rxIP2f2aN0rYNp+toI0Obt/N/FYQX8hcO1fTmmy2h34=  20150513   0  0  0  0   \n",
       "1       rxIP2f2aN0rYNp+toI0Obt/N/FYQX8hcO1fTmmy2h34=  20150709   9  1  0  0   \n",
       "2       yxiEWwE9VR5utpUecLxVdQ5B7NysUPfrNtGINaM2zA8=  20150105   3  3  0  0   \n",
       "3       yxiEWwE9VR5utpUecLxVdQ5B7NysUPfrNtGINaM2zA8=  20150306   1  0  1  1   \n",
       "4       yxiEWwE9VR5utpUecLxVdQ5B7NysUPfrNtGINaM2zA8=  20150501   3  0  0  0   \n",
       "...                                              ...       ...  .. .. .. ..   \n",
       "999995  6fT4bgfaqP5vFtQKR74kI7uv01D8yLxfk2AsJ/XyiP0=  20150221   1  0  1  0   \n",
       "999996  6fT4bgfaqP5vFtQKR74kI7uv01D8yLxfk2AsJ/XyiP0=  20150419  11  1  0  4   \n",
       "999997  6fT4bgfaqP5vFtQKR74kI7uv01D8yLxfk2AsJ/XyiP0=  20150624   4  8  0  0   \n",
       "999998  6fT4bgfaqP5vFtQKR74kI7uv01D8yLxfk2AsJ/XyiP0=  20160327   0  0  0  0   \n",
       "999999  xcYYO9zsdTMiwfzZyWQN0s2UR6m7MfiJPQrJeudjdEc=  20150201   3  1  0  1   \n",
       "\n",
       "         6   7          8  \n",
       "0        1   1    280.335  \n",
       "1        7  11   1658.948  \n",
       "2       68  36  17364.956  \n",
       "3       97  27  24667.317  \n",
       "4       38  38   9649.029  \n",
       "...     ..  ..        ...  \n",
       "999995  19  21   5170.615  \n",
       "999996  26  35   7734.410  \n",
       "999997   3  14   1482.793  \n",
       "999998   3   3    767.583  \n",
       "999999   6  10   1663.135  \n",
       "\n",
       "[1000000 rows x 9 columns]"
      ]
     },
     "execution_count": 16,
     "metadata": {},
     "output_type": "execute_result"
    }
   ],
   "source": [
    "df"
   ]
  },
  {
   "cell_type": "code",
   "execution_count": 18,
   "id": "b093c7ba",
   "metadata": {
    "ExecuteTime": {
     "end_time": "2021-06-04T10:08:31.152198Z",
     "start_time": "2021-06-04T10:08:31.023899Z"
    }
   },
   "outputs": [],
   "source": [
    "df = vaex.from_pandas(df)"
   ]
  },
  {
   "cell_type": "code",
   "execution_count": 21,
   "id": "e84fe889",
   "metadata": {
    "ExecuteTime": {
     "end_time": "2021-06-04T10:09:10.978366Z",
     "start_time": "2021-06-04T10:09:10.616710Z"
    }
   },
   "outputs": [],
   "source": [
    "df.export_hdf5('test.hdf5')"
   ]
  },
  {
   "cell_type": "code",
   "execution_count": 22,
   "id": "b1f96341",
   "metadata": {
    "ExecuteTime": {
     "end_time": "2021-06-04T10:09:21.377823Z",
     "start_time": "2021-06-04T10:09:21.345202Z"
    }
   },
   "outputs": [
    {
     "data": {
      "text/html": [
       "<table>\n",
       "<thead>\n",
       "<tr><th>#                                  </th><th>0                                             </th><th>1       </th><th>2  </th><th>3  </th><th>4  </th><th>5  </th><th>6  </th><th>7  </th><th>8                 </th></tr>\n",
       "</thead>\n",
       "<tbody>\n",
       "<tr><td><i style='opacity: 0.6'>0</i>      </td><td>&#x27;rxIP2f2aN0rYNp+toI0Obt/N/FYQX8hcO1fTmmy2h34=&#x27;</td><td>20150513</td><td>0  </td><td>0  </td><td>0  </td><td>0  </td><td>1  </td><td>1  </td><td>280.335           </td></tr>\n",
       "<tr><td><i style='opacity: 0.6'>1</i>      </td><td>&#x27;rxIP2f2aN0rYNp+toI0Obt/N/FYQX8hcO1fTmmy2h34=&#x27;</td><td>20150709</td><td>9  </td><td>1  </td><td>0  </td><td>0  </td><td>7  </td><td>11 </td><td>1658.9479999999999</td></tr>\n",
       "<tr><td><i style='opacity: 0.6'>2</i>      </td><td>&#x27;yxiEWwE9VR5utpUecLxVdQ5B7NysUPfrNtGINaM2zA8=&#x27;</td><td>20150105</td><td>3  </td><td>3  </td><td>0  </td><td>0  </td><td>68 </td><td>36 </td><td>17364.956000000002</td></tr>\n",
       "<tr><td><i style='opacity: 0.6'>3</i>      </td><td>&#x27;yxiEWwE9VR5utpUecLxVdQ5B7NysUPfrNtGINaM2zA8=&#x27;</td><td>20150306</td><td>1  </td><td>0  </td><td>1  </td><td>1  </td><td>97 </td><td>27 </td><td>24667.317000000003</td></tr>\n",
       "<tr><td><i style='opacity: 0.6'>4</i>      </td><td>&#x27;yxiEWwE9VR5utpUecLxVdQ5B7NysUPfrNtGINaM2zA8=&#x27;</td><td>20150501</td><td>3  </td><td>0  </td><td>0  </td><td>0  </td><td>38 </td><td>38 </td><td>9649.029          </td></tr>\n",
       "<tr><td>...                                </td><td>...                                           </td><td>...     </td><td>...</td><td>...</td><td>...</td><td>...</td><td>...</td><td>...</td><td>...               </td></tr>\n",
       "<tr><td><i style='opacity: 0.6'>999,995</i></td><td>&#x27;6fT4bgfaqP5vFtQKR74kI7uv01D8yLxfk2AsJ/XyiP0=&#x27;</td><td>20150221</td><td>1  </td><td>0  </td><td>1  </td><td>0  </td><td>19 </td><td>21 </td><td>5170.615          </td></tr>\n",
       "<tr><td><i style='opacity: 0.6'>999,996</i></td><td>&#x27;6fT4bgfaqP5vFtQKR74kI7uv01D8yLxfk2AsJ/XyiP0=&#x27;</td><td>20150419</td><td>11 </td><td>1  </td><td>0  </td><td>4  </td><td>26 </td><td>35 </td><td>7734.41           </td></tr>\n",
       "<tr><td><i style='opacity: 0.6'>999,997</i></td><td>&#x27;6fT4bgfaqP5vFtQKR74kI7uv01D8yLxfk2AsJ/XyiP0=&#x27;</td><td>20150624</td><td>4  </td><td>8  </td><td>0  </td><td>0  </td><td>3  </td><td>14 </td><td>1482.793          </td></tr>\n",
       "<tr><td><i style='opacity: 0.6'>999,998</i></td><td>&#x27;6fT4bgfaqP5vFtQKR74kI7uv01D8yLxfk2AsJ/XyiP0=&#x27;</td><td>20160327</td><td>0  </td><td>0  </td><td>0  </td><td>0  </td><td>3  </td><td>3  </td><td>767.5830000000001 </td></tr>\n",
       "<tr><td><i style='opacity: 0.6'>999,999</i></td><td>&#x27;xcYYO9zsdTMiwfzZyWQN0s2UR6m7MfiJPQrJeudjdEc=&#x27;</td><td>20150201</td><td>3  </td><td>1  </td><td>0  </td><td>1  </td><td>6  </td><td>10 </td><td>1663.135          </td></tr>\n",
       "</tbody>\n",
       "</table>"
      ],
      "text/plain": [
       "#        0                                               1         2    3    4    5    6    7    8\n",
       "0        'rxIP2f2aN0rYNp+toI0Obt/N/FYQX8hcO1fTmmy2h34='  20150513  0    0    0    0    1    1    280.335\n",
       "1        'rxIP2f2aN0rYNp+toI0Obt/N/FYQX8hcO1fTmmy2h34='  20150709  9    1    0    0    7    11   1658.9479999999999\n",
       "2        'yxiEWwE9VR5utpUecLxVdQ5B7NysUPfrNtGINaM2zA8='  20150105  3    3    0    0    68   36   17364.956000000002\n",
       "3        'yxiEWwE9VR5utpUecLxVdQ5B7NysUPfrNtGINaM2zA8='  20150306  1    0    1    1    97   27   24667.317000000003\n",
       "4        'yxiEWwE9VR5utpUecLxVdQ5B7NysUPfrNtGINaM2zA8='  20150501  3    0    0    0    38   38   9649.029\n",
       "...      ...                                             ...       ...  ...  ...  ...  ...  ...  ...\n",
       "999,995  '6fT4bgfaqP5vFtQKR74kI7uv01D8yLxfk2AsJ/XyiP0='  20150221  1    0    1    0    19   21   5170.615\n",
       "999,996  '6fT4bgfaqP5vFtQKR74kI7uv01D8yLxfk2AsJ/XyiP0='  20150419  11   1    0    4    26   35   7734.41\n",
       "999,997  '6fT4bgfaqP5vFtQKR74kI7uv01D8yLxfk2AsJ/XyiP0='  20150624  4    8    0    0    3    14   1482.793\n",
       "999,998  '6fT4bgfaqP5vFtQKR74kI7uv01D8yLxfk2AsJ/XyiP0='  20160327  0    0    0    0    3    3    767.5830000000001\n",
       "999,999  'xcYYO9zsdTMiwfzZyWQN0s2UR6m7MfiJPQrJeudjdEc='  20150201  3    1    0    1    6    10   1663.135"
      ]
     },
     "execution_count": 22,
     "metadata": {},
     "output_type": "execute_result"
    }
   ],
   "source": [
    "vaex.open('test.hdf5')"
   ]
  },
  {
   "cell_type": "code",
   "execution_count": 35,
   "id": "97c21fc7",
   "metadata": {
    "ExecuteTime": {
     "end_time": "2021-06-08T10:20:51.059914Z",
     "start_time": "2021-06-08T10:07:17.169369Z"
    }
   },
   "outputs": [],
   "source": [
    "for i, chunk in enumerate(pd.read_csv('./data/user_logs_cleaned.csv', chunksize=5e6, header=None)):\n",
    "    df = vaex.from_pandas(chunk)\n",
    "    df.export_hdf5(f'./data/user_logs_split_{i}.hdf5')"
   ]
  },
  {
   "cell_type": "code",
   "execution_count": 14,
   "id": "a8a7761e",
   "metadata": {
    "ExecuteTime": {
     "end_time": "2021-06-08T10:02:08.682649Z",
     "start_time": "2021-06-08T10:02:08.657745Z"
    },
    "scrolled": true
   },
   "outputs": [
    {
     "data": {
      "text/html": [
       "<table>\n",
       "<thead>\n",
       "<tr><th>#                                    </th><th>0                                             </th><th>1       </th><th>2  </th><th>3  </th><th>4  </th><th>5  </th><th>6  </th><th>7  </th><th>8                 </th></tr>\n",
       "</thead>\n",
       "<tbody>\n",
       "<tr><td><i style='opacity: 0.6'>0</i>        </td><td>&#x27;i44NZhAlrZNltcV8V9AnyXP29tFkDDXoG8ISUlULNJA=&#x27;</td><td>20150617</td><td>1  </td><td>1  </td><td>0  </td><td>0  </td><td>5  </td><td>5  </td><td>1204.85           </td></tr>\n",
       "<tr><td><i style='opacity: 0.6'>1</i>        </td><td>&#x27;ok/qYI7jbhlu81XAkixcztTcNh4Fv/QH4Gus5+PmAOY=&#x27;</td><td>20150614</td><td>0  </td><td>0  </td><td>0  </td><td>0  </td><td>6  </td><td>6  </td><td>1700.5970000000002</td></tr>\n",
       "<tr><td><i style='opacity: 0.6'>2</i>        </td><td>&#x27;YUTePYKy3bjrCj098euOBSbfYFI8bWOrwouFWq1rrQc=&#x27;</td><td>20151106</td><td>1  </td><td>0  </td><td>0  </td><td>0  </td><td>5  </td><td>6  </td><td>1343.255          </td></tr>\n",
       "<tr><td><i style='opacity: 0.6'>3</i>        </td><td>&#x27;YUTePYKy3bjrCj098euOBSbfYFI8bWOrwouFWq1rrQc=&#x27;</td><td>20160318</td><td>1  </td><td>0  </td><td>0  </td><td>1  </td><td>9  </td><td>1  </td><td>2673.587          </td></tr>\n",
       "<tr><td><i style='opacity: 0.6'>4</i>        </td><td>&#x27;YUTePYKy3bjrCj098euOBSbfYFI8bWOrwouFWq1rrQc=&#x27;</td><td>20160519</td><td>2  </td><td>0  </td><td>0  </td><td>1  </td><td>14 </td><td>17 </td><td>3846.672          </td></tr>\n",
       "<tr><td>...                                  </td><td>...                                           </td><td>...     </td><td>...</td><td>...</td><td>...</td><td>...</td><td>...</td><td>...</td><td>...               </td></tr>\n",
       "<tr><td><i style='opacity: 0.6'>4,999,995</i></td><td>&#x27;Cb2dd6Y+9tkdiZ7kgziUsYt5r8uHWxnxCCkZjDp5ap4=&#x27;</td><td>20150519</td><td>8  </td><td>3  </td><td>1  </td><td>1  </td><td>132</td><td>85 </td><td>35504.642         </td></tr>\n",
       "<tr><td><i style='opacity: 0.6'>4,999,996</i></td><td>&#x27;Cb2dd6Y+9tkdiZ7kgziUsYt5r8uHWxnxCCkZjDp5ap4=&#x27;</td><td>20150708</td><td>2  </td><td>0  </td><td>0  </td><td>1  </td><td>146</td><td>92 </td><td>34711.318         </td></tr>\n",
       "<tr><td><i style='opacity: 0.6'>4,999,997</i></td><td>&#x27;Cb2dd6Y+9tkdiZ7kgziUsYt5r8uHWxnxCCkZjDp5ap4=&#x27;</td><td>20150830</td><td>2  </td><td>2  </td><td>1  </td><td>2  </td><td>113</td><td>71 </td><td>31170.249         </td></tr>\n",
       "<tr><td><i style='opacity: 0.6'>4,999,998</i></td><td>&#x27;Cb2dd6Y+9tkdiZ7kgziUsYt5r8uHWxnxCCkZjDp5ap4=&#x27;</td><td>20151020</td><td>0  </td><td>0  </td><td>0  </td><td>1  </td><td>137</td><td>120</td><td>33632.117999999995</td></tr>\n",
       "<tr><td><i style='opacity: 0.6'>4,999,999</i></td><td>&#x27;Cb2dd6Y+9tkdiZ7kgziUsYt5r8uHWxnxCCkZjDp5ap4=&#x27;</td><td>20151209</td><td>0  </td><td>0  </td><td>0  </td><td>0  </td><td>136</td><td>136</td><td>34113.129         </td></tr>\n",
       "</tbody>\n",
       "</table>"
      ],
      "text/plain": [
       "#          0                                               1         2    3    4    5    6    7    8\n",
       "0          'i44NZhAlrZNltcV8V9AnyXP29tFkDDXoG8ISUlULNJA='  20150617  1    1    0    0    5    5    1204.85\n",
       "1          'ok/qYI7jbhlu81XAkixcztTcNh4Fv/QH4Gus5+PmAOY='  20150614  0    0    0    0    6    6    1700.5970000000002\n",
       "2          'YUTePYKy3bjrCj098euOBSbfYFI8bWOrwouFWq1rrQc='  20151106  1    0    0    0    5    6    1343.255\n",
       "3          'YUTePYKy3bjrCj098euOBSbfYFI8bWOrwouFWq1rrQc='  20160318  1    0    0    1    9    1    2673.587\n",
       "4          'YUTePYKy3bjrCj098euOBSbfYFI8bWOrwouFWq1rrQc='  20160519  2    0    0    1    14   17   3846.672\n",
       "...        ...                                             ...       ...  ...  ...  ...  ...  ...  ...\n",
       "4,999,995  'Cb2dd6Y+9tkdiZ7kgziUsYt5r8uHWxnxCCkZjDp5ap4='  20150519  8    3    1    1    132  85   35504.642\n",
       "4,999,996  'Cb2dd6Y+9tkdiZ7kgziUsYt5r8uHWxnxCCkZjDp5ap4='  20150708  2    0    0    1    146  92   34711.318\n",
       "4,999,997  'Cb2dd6Y+9tkdiZ7kgziUsYt5r8uHWxnxCCkZjDp5ap4='  20150830  2    2    1    2    113  71   31170.249\n",
       "4,999,998  'Cb2dd6Y+9tkdiZ7kgziUsYt5r8uHWxnxCCkZjDp5ap4='  20151020  0    0    0    1    137  120  33632.117999999995\n",
       "4,999,999  'Cb2dd6Y+9tkdiZ7kgziUsYt5r8uHWxnxCCkZjDp5ap4='  20151209  0    0    0    0    136  136  34113.129"
      ]
     },
     "execution_count": 14,
     "metadata": {},
     "output_type": "execute_result"
    }
   ],
   "source": [
    "df"
   ]
  },
  {
   "cell_type": "code",
   "execution_count": 1,
   "id": "d66a74f4",
   "metadata": {
    "ExecuteTime": {
     "end_time": "2021-06-10T09:48:07.186081Z",
     "start_time": "2021-06-10T09:47:59.848459Z"
    }
   },
   "outputs": [],
   "source": [
    "import pandas as pd\n",
    "import vaex"
   ]
  },
  {
   "cell_type": "code",
   "execution_count": 8,
   "id": "a698b418",
   "metadata": {
    "ExecuteTime": {
     "end_time": "2021-06-10T10:04:51.370484Z",
     "start_time": "2021-06-10T10:04:50.920369Z"
    }
   },
   "outputs": [],
   "source": [
    "temp = vaex.open('./data/user_logs_split_*.hdf5')"
   ]
  },
  {
   "cell_type": "code",
   "execution_count": 9,
   "id": "13fc395a",
   "metadata": {
    "ExecuteTime": {
     "end_time": "2021-06-10T10:04:51.710943Z",
     "start_time": "2021-06-10T10:04:51.585931Z"
    }
   },
   "outputs": [
    {
     "data": {
      "text/html": [
       "<table>\n",
       "<thead>\n",
       "<tr><th>#                                      </th><th>0                                             </th><th>1       </th><th>2  </th><th>3  </th><th>4  </th><th>5  </th><th>6  </th><th>7  </th><th>8                 </th></tr>\n",
       "</thead>\n",
       "<tbody>\n",
       "<tr><td><i style='opacity: 0.6'>0</i>          </td><td>&#x27;rxIP2f2aN0rYNp+toI0Obt/N/FYQX8hcO1fTmmy2h34=&#x27;</td><td>20150513</td><td>0  </td><td>0  </td><td>0  </td><td>0  </td><td>1  </td><td>1  </td><td>280.335           </td></tr>\n",
       "<tr><td><i style='opacity: 0.6'>1</i>          </td><td>&#x27;rxIP2f2aN0rYNp+toI0Obt/N/FYQX8hcO1fTmmy2h34=&#x27;</td><td>20150709</td><td>9  </td><td>1  </td><td>0  </td><td>0  </td><td>7  </td><td>11 </td><td>1658.9479999999999</td></tr>\n",
       "<tr><td><i style='opacity: 0.6'>2</i>          </td><td>&#x27;yxiEWwE9VR5utpUecLxVdQ5B7NysUPfrNtGINaM2zA8=&#x27;</td><td>20150105</td><td>3  </td><td>3  </td><td>0  </td><td>0  </td><td>68 </td><td>36 </td><td>17364.956000000002</td></tr>\n",
       "<tr><td><i style='opacity: 0.6'>3</i>          </td><td>&#x27;yxiEWwE9VR5utpUecLxVdQ5B7NysUPfrNtGINaM2zA8=&#x27;</td><td>20150306</td><td>1  </td><td>0  </td><td>1  </td><td>1  </td><td>97 </td><td>27 </td><td>24667.317000000003</td></tr>\n",
       "<tr><td><i style='opacity: 0.6'>4</i>          </td><td>&#x27;yxiEWwE9VR5utpUecLxVdQ5B7NysUPfrNtGINaM2zA8=&#x27;</td><td>20150501</td><td>3  </td><td>0  </td><td>0  </td><td>0  </td><td>38 </td><td>38 </td><td>9649.029          </td></tr>\n",
       "<tr><td>...                                    </td><td>...                                           </td><td>...     </td><td>...</td><td>...</td><td>...</td><td>...</td><td>...</td><td>...</td><td>...               </td></tr>\n",
       "<tr><td><i style='opacity: 0.6'>391,865,090</i></td><td>&#x27;ccyBVC3HXqPi7D8GoxT0u3jntamqtPubA9hKhRQUsu0=&#x27;</td><td>20150925</td><td>0  </td><td>1  </td><td>0  </td><td>0  </td><td>1  </td><td>2  </td><td>342.207           </td></tr>\n",
       "<tr><td><i style='opacity: 0.6'>391,865,091</i></td><td>&#x27;ccyBVC3HXqPi7D8GoxT0u3jntamqtPubA9hKhRQUsu0=&#x27;</td><td>20160216</td><td>12 </td><td>9  </td><td>2  </td><td>0  </td><td>13 </td><td>30 </td><td>4220.209          </td></tr>\n",
       "<tr><td><i style='opacity: 0.6'>391,865,092</i></td><td>&#x27;ccyBVC3HXqPi7D8GoxT0u3jntamqtPubA9hKhRQUsu0=&#x27;</td><td>20160515</td><td>15 </td><td>9  </td><td>10 </td><td>5  </td><td>15 </td><td>47 </td><td>7300.25           </td></tr>\n",
       "<tr><td><i style='opacity: 0.6'>391,865,093</i></td><td>&#x27;ccyBVC3HXqPi7D8GoxT0u3jntamqtPubA9hKhRQUsu0=&#x27;</td><td>20160725</td><td>8  </td><td>0  </td><td>0  </td><td>0  </td><td>10 </td><td>13 </td><td>2498.097          </td></tr>\n",
       "<tr><td><i style='opacity: 0.6'>391,865,094</i></td><td>&#x27;ccyBVC3HXqPi7D8GoxT0u3jntamqtPubA9hKhRQUsu0=&#x27;</td><td>20161005</td><td>0  </td><td>4  </td><td>1  </td><td>1  </td><td>11 </td><td>10 </td><td>3268.739          </td></tr>\n",
       "</tbody>\n",
       "</table>"
      ],
      "text/plain": [
       "#            0                                               1         2    3    4    5    6    7    8\n",
       "0            'rxIP2f2aN0rYNp+toI0Obt/N/FYQX8hcO1fTmmy2h34='  20150513  0    0    0    0    1    1    280.335\n",
       "1            'rxIP2f2aN0rYNp+toI0Obt/N/FYQX8hcO1fTmmy2h34='  20150709  9    1    0    0    7    11   1658.9479999999999\n",
       "2            'yxiEWwE9VR5utpUecLxVdQ5B7NysUPfrNtGINaM2zA8='  20150105  3    3    0    0    68   36   17364.956000000002\n",
       "3            'yxiEWwE9VR5utpUecLxVdQ5B7NysUPfrNtGINaM2zA8='  20150306  1    0    1    1    97   27   24667.317000000003\n",
       "4            'yxiEWwE9VR5utpUecLxVdQ5B7NysUPfrNtGINaM2zA8='  20150501  3    0    0    0    38   38   9649.029\n",
       "...          ...                                             ...       ...  ...  ...  ...  ...  ...  ...\n",
       "391,865,090  'ccyBVC3HXqPi7D8GoxT0u3jntamqtPubA9hKhRQUsu0='  20150925  0    1    0    0    1    2    342.207\n",
       "391,865,091  'ccyBVC3HXqPi7D8GoxT0u3jntamqtPubA9hKhRQUsu0='  20160216  12   9    2    0    13   30   4220.209\n",
       "391,865,092  'ccyBVC3HXqPi7D8GoxT0u3jntamqtPubA9hKhRQUsu0='  20160515  15   9    10   5    15   47   7300.25\n",
       "391,865,093  'ccyBVC3HXqPi7D8GoxT0u3jntamqtPubA9hKhRQUsu0='  20160725  8    0    0    0    10   13   2498.097\n",
       "391,865,094  'ccyBVC3HXqPi7D8GoxT0u3jntamqtPubA9hKhRQUsu0='  20161005  0    4    1    1    11   10   3268.739"
      ]
     },
     "execution_count": 9,
     "metadata": {},
     "output_type": "execute_result"
    }
   ],
   "source": [
    "temp"
   ]
  },
  {
   "cell_type": "code",
   "execution_count": 14,
   "id": "cac89895",
   "metadata": {
    "ExecuteTime": {
     "end_time": "2021-06-10T10:13:28.244348Z",
     "start_time": "2021-06-10T10:13:28.238082Z"
    }
   },
   "outputs": [
    {
     "data": {
      "text/plain": [
       "'msno'"
      ]
     },
     "execution_count": 14,
     "metadata": {},
     "output_type": "execute_result"
    }
   ],
   "source": [
    "temp.rename('0', 'msno')"
   ]
  },
  {
   "cell_type": "code",
   "execution_count": 15,
   "id": "0c241050",
   "metadata": {
    "ExecuteTime": {
     "end_time": "2021-06-10T10:13:33.019784Z",
     "start_time": "2021-06-10T10:13:32.914016Z"
    }
   },
   "outputs": [
    {
     "data": {
      "text/html": [
       "<table>\n",
       "<thead>\n",
       "<tr><th>#                                      </th><th>msno                                          </th><th>1       </th><th>2  </th><th>3  </th><th>4  </th><th>5  </th><th>6  </th><th>7  </th><th>8                 </th></tr>\n",
       "</thead>\n",
       "<tbody>\n",
       "<tr><td><i style='opacity: 0.6'>0</i>          </td><td>&#x27;rxIP2f2aN0rYNp+toI0Obt/N/FYQX8hcO1fTmmy2h34=&#x27;</td><td>20150513</td><td>0  </td><td>0  </td><td>0  </td><td>0  </td><td>1  </td><td>1  </td><td>280.335           </td></tr>\n",
       "<tr><td><i style='opacity: 0.6'>1</i>          </td><td>&#x27;rxIP2f2aN0rYNp+toI0Obt/N/FYQX8hcO1fTmmy2h34=&#x27;</td><td>20150709</td><td>9  </td><td>1  </td><td>0  </td><td>0  </td><td>7  </td><td>11 </td><td>1658.9479999999999</td></tr>\n",
       "<tr><td><i style='opacity: 0.6'>2</i>          </td><td>&#x27;yxiEWwE9VR5utpUecLxVdQ5B7NysUPfrNtGINaM2zA8=&#x27;</td><td>20150105</td><td>3  </td><td>3  </td><td>0  </td><td>0  </td><td>68 </td><td>36 </td><td>17364.956000000002</td></tr>\n",
       "<tr><td><i style='opacity: 0.6'>3</i>          </td><td>&#x27;yxiEWwE9VR5utpUecLxVdQ5B7NysUPfrNtGINaM2zA8=&#x27;</td><td>20150306</td><td>1  </td><td>0  </td><td>1  </td><td>1  </td><td>97 </td><td>27 </td><td>24667.317000000003</td></tr>\n",
       "<tr><td><i style='opacity: 0.6'>4</i>          </td><td>&#x27;yxiEWwE9VR5utpUecLxVdQ5B7NysUPfrNtGINaM2zA8=&#x27;</td><td>20150501</td><td>3  </td><td>0  </td><td>0  </td><td>0  </td><td>38 </td><td>38 </td><td>9649.029          </td></tr>\n",
       "<tr><td>...                                    </td><td>...                                           </td><td>...     </td><td>...</td><td>...</td><td>...</td><td>...</td><td>...</td><td>...</td><td>...               </td></tr>\n",
       "<tr><td><i style='opacity: 0.6'>391,865,090</i></td><td>&#x27;ccyBVC3HXqPi7D8GoxT0u3jntamqtPubA9hKhRQUsu0=&#x27;</td><td>20150925</td><td>0  </td><td>1  </td><td>0  </td><td>0  </td><td>1  </td><td>2  </td><td>342.207           </td></tr>\n",
       "<tr><td><i style='opacity: 0.6'>391,865,091</i></td><td>&#x27;ccyBVC3HXqPi7D8GoxT0u3jntamqtPubA9hKhRQUsu0=&#x27;</td><td>20160216</td><td>12 </td><td>9  </td><td>2  </td><td>0  </td><td>13 </td><td>30 </td><td>4220.209          </td></tr>\n",
       "<tr><td><i style='opacity: 0.6'>391,865,092</i></td><td>&#x27;ccyBVC3HXqPi7D8GoxT0u3jntamqtPubA9hKhRQUsu0=&#x27;</td><td>20160515</td><td>15 </td><td>9  </td><td>10 </td><td>5  </td><td>15 </td><td>47 </td><td>7300.25           </td></tr>\n",
       "<tr><td><i style='opacity: 0.6'>391,865,093</i></td><td>&#x27;ccyBVC3HXqPi7D8GoxT0u3jntamqtPubA9hKhRQUsu0=&#x27;</td><td>20160725</td><td>8  </td><td>0  </td><td>0  </td><td>0  </td><td>10 </td><td>13 </td><td>2498.097          </td></tr>\n",
       "<tr><td><i style='opacity: 0.6'>391,865,094</i></td><td>&#x27;ccyBVC3HXqPi7D8GoxT0u3jntamqtPubA9hKhRQUsu0=&#x27;</td><td>20161005</td><td>0  </td><td>4  </td><td>1  </td><td>1  </td><td>11 </td><td>10 </td><td>3268.739          </td></tr>\n",
       "</tbody>\n",
       "</table>"
      ],
      "text/plain": [
       "#            msno                                            1         2    3    4    5    6    7    8\n",
       "0            'rxIP2f2aN0rYNp+toI0Obt/N/FYQX8hcO1fTmmy2h34='  20150513  0    0    0    0    1    1    280.335\n",
       "1            'rxIP2f2aN0rYNp+toI0Obt/N/FYQX8hcO1fTmmy2h34='  20150709  9    1    0    0    7    11   1658.9479999999999\n",
       "2            'yxiEWwE9VR5utpUecLxVdQ5B7NysUPfrNtGINaM2zA8='  20150105  3    3    0    0    68   36   17364.956000000002\n",
       "3            'yxiEWwE9VR5utpUecLxVdQ5B7NysUPfrNtGINaM2zA8='  20150306  1    0    1    1    97   27   24667.317000000003\n",
       "4            'yxiEWwE9VR5utpUecLxVdQ5B7NysUPfrNtGINaM2zA8='  20150501  3    0    0    0    38   38   9649.029\n",
       "...          ...                                             ...       ...  ...  ...  ...  ...  ...  ...\n",
       "391,865,090  'ccyBVC3HXqPi7D8GoxT0u3jntamqtPubA9hKhRQUsu0='  20150925  0    1    0    0    1    2    342.207\n",
       "391,865,091  'ccyBVC3HXqPi7D8GoxT0u3jntamqtPubA9hKhRQUsu0='  20160216  12   9    2    0    13   30   4220.209\n",
       "391,865,092  'ccyBVC3HXqPi7D8GoxT0u3jntamqtPubA9hKhRQUsu0='  20160515  15   9    10   5    15   47   7300.25\n",
       "391,865,093  'ccyBVC3HXqPi7D8GoxT0u3jntamqtPubA9hKhRQUsu0='  20160725  8    0    0    0    10   13   2498.097\n",
       "391,865,094  'ccyBVC3HXqPi7D8GoxT0u3jntamqtPubA9hKhRQUsu0='  20161005  0    4    1    1    11   10   3268.739"
      ]
     },
     "execution_count": 15,
     "metadata": {},
     "output_type": "execute_result"
    }
   ],
   "source": [
    "temp"
   ]
  },
  {
   "cell_type": "code",
   "execution_count": 39,
   "id": "cfaabb80",
   "metadata": {
    "ExecuteTime": {
     "end_time": "2021-06-08T13:03:39.248343Z",
     "start_time": "2021-06-08T13:03:39.245204Z"
    }
   },
   "outputs": [],
   "source": [
    "import os"
   ]
  },
  {
   "cell_type": "code",
   "execution_count": 41,
   "id": "571d74a4",
   "metadata": {
    "ExecuteTime": {
     "end_time": "2021-06-08T13:07:44.424221Z",
     "start_time": "2021-06-08T13:03:48.175441Z"
    }
   },
   "outputs": [],
   "source": [
    "# An efficient way to compute the number of rows in the dataset\n",
    "with open(os.path.join('./data', 'user_logs_cleaned.csv')) as file:\n",
    "    shape = sum(1 for row in file)"
   ]
  },
  {
   "cell_type": "code",
   "execution_count": 42,
   "id": "03750cd7",
   "metadata": {
    "ExecuteTime": {
     "end_time": "2021-06-08T13:07:44.431675Z",
     "start_time": "2021-06-08T13:07:44.426853Z"
    }
   },
   "outputs": [
    {
     "data": {
      "text/plain": [
       "391865095"
      ]
     },
     "execution_count": 42,
     "metadata": {},
     "output_type": "execute_result"
    }
   ],
   "source": [
    "shape"
   ]
  }
 ],
 "metadata": {
  "kernelspec": {
   "display_name": "env",
   "language": "python",
   "name": "env"
  },
  "language_info": {
   "codemirror_mode": {
    "name": "ipython",
    "version": 3
   },
   "file_extension": ".py",
   "mimetype": "text/x-python",
   "name": "python",
   "nbconvert_exporter": "python",
   "pygments_lexer": "ipython3",
   "version": "3.7.10"
  },
  "toc": {
   "base_numbering": 1,
   "nav_menu": {},
   "number_sections": true,
   "sideBar": true,
   "skip_h1_title": false,
   "title_cell": "Table of Contents",
   "title_sidebar": "Contents",
   "toc_cell": false,
   "toc_position": {},
   "toc_section_display": true,
   "toc_window_display": true
  }
 },
 "nbformat": 4,
 "nbformat_minor": 5
}
