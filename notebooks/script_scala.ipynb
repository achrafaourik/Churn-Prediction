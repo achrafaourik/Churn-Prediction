{
 "cells": [
  {
   "cell_type": "code",
   "execution_count": 5,
   "id": "a66b0b1e",
   "metadata": {
    "ExecuteTime": {
     "end_time": "2022-02-12T13:47:07.983421Z",
     "start_time": "2022-02-12T13:47:07.980063Z"
    }
   },
   "outputs": [],
   "source": [
    "import pandas as pd\n",
    "import calendar\n",
    "import os\n",
    "import shutil\n",
    "import subprocess\n",
    "from time import sleep\n",
    "import time"
   ]
  },
  {
   "cell_type": "code",
   "execution_count": 6,
   "id": "fac3458c",
   "metadata": {
    "ExecuteTime": {
     "end_time": "2022-02-12T13:47:08.177282Z",
     "start_time": "2022-02-12T13:47:08.172300Z"
    }
   },
   "outputs": [],
   "source": [
    "def return_command_sbt(year, month):\n",
    "    first_argument = str(year) + str(month).zfill(2) + str(calendar.monthlen(year, month)).zfill(2)\n",
    "    next_month = calendar.nextmonth(year, month)\n",
    "    second_argument = str(next_month[0]) + str(next_month[1]).zfill(2) + '01'\n",
    "    third_argument = str(next_month[0]) + str(next_month[1]).zfill(2) + str(calendar.monthlen(next_month[0], next_month[1])).zfill(2)\n",
    "    return [first_argument, second_argument, third_argument]"
   ]
  },
  {
   "cell_type": "code",
   "execution_count": 7,
   "id": "188fbff5",
   "metadata": {
    "ExecuteTime": {
     "end_time": "2022-02-12T13:47:10.613525Z",
     "start_time": "2022-02-12T13:47:10.608443Z"
    }
   },
   "outputs": [
    {
     "data": {
      "text/plain": [
       "['20161231', '20170101', '20170131']"
      ]
     },
     "execution_count": 7,
     "metadata": {},
     "output_type": "execute_result"
    }
   ],
   "source": [
    "return_command_sbt(2016, 12)"
   ]
  },
  {
   "cell_type": "code",
   "execution_count": 8,
   "id": "8743f09d",
   "metadata": {
    "ExecuteTime": {
     "end_time": "2022-02-12T13:47:30.580387Z",
     "start_time": "2022-02-12T13:47:30.572634Z"
    }
   },
   "outputs": [],
   "source": [
    "list_months_train = pd.date_range('2014-12-30','2017-02-01', \n",
    "              freq='MS').strftime(\"%Y-%m\").tolist()"
   ]
  },
  {
   "cell_type": "code",
   "execution_count": 9,
   "id": "a488127a",
   "metadata": {
    "ExecuteTime": {
     "end_time": "2022-02-12T13:47:42.100756Z",
     "start_time": "2022-02-12T13:47:42.097348Z"
    }
   },
   "outputs": [],
   "source": [
    "list_months = [[int(y) for y in x.split(\"-\")] for x in list_months_train]"
   ]
  },
  {
   "cell_type": "code",
   "execution_count": 21,
   "id": "889762fa",
   "metadata": {
    "ExecuteTime": {
     "end_time": "2022-02-12T13:56:09.960275Z",
     "start_time": "2022-02-12T13:56:09.954425Z"
    }
   },
   "outputs": [
    {
     "data": {
      "text/plain": [
       "[[2015, 1],\n",
       " [2015, 2],\n",
       " [2015, 3],\n",
       " [2015, 4],\n",
       " [2015, 5],\n",
       " [2015, 6],\n",
       " [2015, 7],\n",
       " [2015, 8],\n",
       " [2015, 9],\n",
       " [2015, 10],\n",
       " [2015, 11],\n",
       " [2015, 12],\n",
       " [2016, 1],\n",
       " [2016, 2],\n",
       " [2016, 3],\n",
       " [2016, 4],\n",
       " [2016, 5],\n",
       " [2016, 6],\n",
       " [2016, 7],\n",
       " [2016, 8],\n",
       " [2016, 9],\n",
       " [2016, 10],\n",
       " [2016, 11],\n",
       " [2016, 12],\n",
       " [2017, 1],\n",
       " [2017, 2]]"
      ]
     },
     "execution_count": 21,
     "metadata": {},
     "output_type": "execute_result"
    }
   ],
   "source": [
    "list_months"
   ]
  },
  {
   "cell_type": "code",
   "execution_count": 19,
   "id": "ace2ab9a",
   "metadata": {
    "ExecuteTime": {
     "end_time": "2022-02-12T13:53:03.151245Z",
     "start_time": "2022-02-12T13:53:03.146990Z"
    }
   },
   "outputs": [],
   "source": [
    "list_commands = [['sbt', '--error'] + [' '.join(['run'] + ['\"' + x + '\"' for x in return_command_sbt(month[0], month[1])])] for month in list_months]"
   ]
  },
  {
   "cell_type": "code",
   "execution_count": 20,
   "id": "28f9581a",
   "metadata": {
    "ExecuteTime": {
     "end_time": "2022-02-12T13:53:03.943667Z",
     "start_time": "2022-02-12T13:53:03.937328Z"
    }
   },
   "outputs": [
    {
     "data": {
      "text/plain": [
       "[['sbt', '--error', 'run \"20150131\" \"20150201\" \"20150228\"'],\n",
       " ['sbt', '--error', 'run \"20150228\" \"20150301\" \"20150331\"'],\n",
       " ['sbt', '--error', 'run \"20150331\" \"20150401\" \"20150430\"'],\n",
       " ['sbt', '--error', 'run \"20150430\" \"20150501\" \"20150531\"'],\n",
       " ['sbt', '--error', 'run \"20150531\" \"20150601\" \"20150630\"'],\n",
       " ['sbt', '--error', 'run \"20150630\" \"20150701\" \"20150731\"'],\n",
       " ['sbt', '--error', 'run \"20150731\" \"20150801\" \"20150831\"'],\n",
       " ['sbt', '--error', 'run \"20150831\" \"20150901\" \"20150930\"'],\n",
       " ['sbt', '--error', 'run \"20150930\" \"20151001\" \"20151031\"'],\n",
       " ['sbt', '--error', 'run \"20151031\" \"20151101\" \"20151130\"'],\n",
       " ['sbt', '--error', 'run \"20151130\" \"20151201\" \"20151231\"'],\n",
       " ['sbt', '--error', 'run \"20151231\" \"20160101\" \"20160131\"'],\n",
       " ['sbt', '--error', 'run \"20160131\" \"20160201\" \"20160229\"'],\n",
       " ['sbt', '--error', 'run \"20160229\" \"20160301\" \"20160331\"'],\n",
       " ['sbt', '--error', 'run \"20160331\" \"20160401\" \"20160430\"'],\n",
       " ['sbt', '--error', 'run \"20160430\" \"20160501\" \"20160531\"'],\n",
       " ['sbt', '--error', 'run \"20160531\" \"20160601\" \"20160630\"'],\n",
       " ['sbt', '--error', 'run \"20160630\" \"20160701\" \"20160731\"'],\n",
       " ['sbt', '--error', 'run \"20160731\" \"20160801\" \"20160831\"'],\n",
       " ['sbt', '--error', 'run \"20160831\" \"20160901\" \"20160930\"'],\n",
       " ['sbt', '--error', 'run \"20160930\" \"20161001\" \"20161031\"'],\n",
       " ['sbt', '--error', 'run \"20161031\" \"20161101\" \"20161130\"'],\n",
       " ['sbt', '--error', 'run \"20161130\" \"20161201\" \"20161231\"'],\n",
       " ['sbt', '--error', 'run \"20161231\" \"20170101\" \"20170131\"'],\n",
       " ['sbt', '--error', 'run \"20170131\" \"20170201\" \"20170228\"'],\n",
       " ['sbt', '--error', 'run \"20170228\" \"20170301\" \"20170331\"']]"
      ]
     },
     "execution_count": 20,
     "metadata": {},
     "output_type": "execute_result"
    }
   ],
   "source": [
    "list_commands"
   ]
  },
  {
   "cell_type": "code",
   "execution_count": 26,
   "id": "fddbe309",
   "metadata": {
    "ExecuteTime": {
     "end_time": "2022-02-12T14:17:07.861193Z",
     "start_time": "2022-02-12T14:17:07.856255Z"
    }
   },
   "outputs": [
    {
     "data": {
      "text/plain": [
       "26"
      ]
     },
     "execution_count": 26,
     "metadata": {},
     "output_type": "execute_result"
    }
   ],
   "source": [
    "len(list_commands)"
   ]
  },
  {
   "cell_type": "code",
   "execution_count": 27,
   "id": "b379563e",
   "metadata": {
    "ExecuteTime": {
     "end_time": "2022-02-12T14:17:15.582121Z",
     "start_time": "2022-02-12T14:17:15.579009Z"
    }
   },
   "outputs": [],
   "source": [
    "list_pids = []"
   ]
  },
  {
   "cell_type": "code",
   "execution_count": null,
   "id": "6e9effbc",
   "metadata": {
    "ExecuteTime": {
     "start_time": "2022-02-12T14:19:28.723Z"
    }
   },
   "outputs": [
    {
     "name": "stdout",
     "output_type": "stream",
     "text": [
      "0\n"
     ]
    }
   ],
   "source": [
    "for i, command in enumerate(list_commands):\n",
    "    pro = subprocess.Popen(command,\n",
    "                           stdout=subprocess.PIPE, preexec_fn=os.setsid) \n",
    "    list_pids.append(os.getpgid(pro.pid))\n",
    "    \n",
    "    if i % 5 == 0:\n",
    "        print(i)\n",
    "        sleep(15 * 60)\n",
    "        for pid in list_pids:\n",
    "            os.killpg(pid, signal.SIGTERM)\n",
    "        list_pids = []"
   ]
  },
  {
   "cell_type": "code",
   "execution_count": 7,
   "id": "da702d8a",
   "metadata": {
    "ExecuteTime": {
     "end_time": "2022-02-12T12:44:12.340782Z",
     "start_time": "2022-02-12T12:44:12.337473Z"
    }
   },
   "outputs": [],
   "source": [
    "dirs_csv = ['./' + x for x in os.listdir() if x.startswith('sample_user_')]"
   ]
  },
  {
   "cell_type": "code",
   "execution_count": 8,
   "id": "fc48a17c",
   "metadata": {
    "ExecuteTime": {
     "end_time": "2022-02-12T12:44:13.757143Z",
     "start_time": "2022-02-12T12:44:13.752839Z"
    }
   },
   "outputs": [],
   "source": [
    "for directory in dirs_csv:\n",
    "    csv_file = [x for x in os.listdir(directory) if x.endswith('.csv')]\n",
    "    csv_path = os.path.join(directory, csv_file[0])\n",
    "    date_pred = directory.split('_')[-1]\n",
    "    os.rename(csv_path, './data/' + 'train_set' + date_pred + '.csv')"
   ]
  }
 ],
 "metadata": {
  "kernelspec": {
   "display_name": "Python 3",
   "language": "python",
   "name": "python3"
  },
  "language_info": {
   "codemirror_mode": {
    "name": "ipython",
    "version": 3
   },
   "file_extension": ".py",
   "mimetype": "text/x-python",
   "name": "python",
   "nbconvert_exporter": "python",
   "pygments_lexer": "ipython3",
   "version": "3.7.10"
  },
  "toc": {
   "base_numbering": 1,
   "nav_menu": {},
   "number_sections": true,
   "sideBar": true,
   "skip_h1_title": false,
   "title_cell": "Table of Contents",
   "title_sidebar": "Contents",
   "toc_cell": false,
   "toc_position": {},
   "toc_section_display": true,
   "toc_window_display": true
  }
 },
 "nbformat": 4,
 "nbformat_minor": 5
}
