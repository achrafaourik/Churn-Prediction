{
 "cells": [
  {
   "cell_type": "code",
   "execution_count": 2,
   "id": "ce0ee304",
   "metadata": {
    "ExecuteTime": {
     "end_time": "2021-06-24T10:43:02.667136Z",
     "start_time": "2021-06-24T10:43:02.664088Z"
    }
   },
   "outputs": [],
   "source": [
    "import pandas as pd\n",
    "import os"
   ]
  },
  {
   "cell_type": "code",
   "execution_count": 3,
   "id": "4f2c99a7",
   "metadata": {
    "ExecuteTime": {
     "end_time": "2021-06-24T10:43:06.071217Z",
     "start_time": "2021-06-24T10:43:06.068394Z"
    }
   },
   "outputs": [],
   "source": [
    "data_dir = './data'"
   ]
  },
  {
   "cell_type": "code",
   "execution_count": 4,
   "id": "612f02fc",
   "metadata": {
    "ExecuteTime": {
     "end_time": "2021-06-24T10:48:32.551730Z",
     "start_time": "2021-06-24T10:48:02.374949Z"
    }
   },
   "outputs": [],
   "source": [
    "transactions = pd.read_csv(os.path.join(data_dir, 'transactions_cleaned.csv'))"
   ]
  },
  {
   "cell_type": "code",
   "execution_count": 5,
   "id": "40cb73a4",
   "metadata": {
    "ExecuteTime": {
     "end_time": "2021-06-24T10:48:33.503074Z",
     "start_time": "2021-06-24T10:48:32.553678Z"
    }
   },
   "outputs": [],
   "source": [
    "transactions['transaction_date'] = pd.to_datetime(transactions['transaction_date'], format='%Y%m%d')"
   ]
  },
  {
   "cell_type": "code",
   "execution_count": 6,
   "id": "f8979173",
   "metadata": {
    "ExecuteTime": {
     "end_time": "2021-06-24T10:48:51.005700Z",
     "start_time": "2021-06-24T10:48:47.431453Z"
    }
   },
   "outputs": [],
   "source": [
    "sample = transactions.sample(int(5e6))"
   ]
  },
  {
   "cell_type": "code",
   "execution_count": null,
   "id": "4c843eff",
   "metadata": {},
   "outputs": [],
   "source": [
    "res = sample.groupby(['msno',\n",
    "                      pd.Grouper(key=\"transaction_date\", freq=\"1M\")])[\n",
    "    'payment_plan_days'].agg(['mean', 'median', 'count'])"
   ]
  },
  {
   "cell_type": "code",
   "execution_count": 9,
   "id": "d901fdb2",
   "metadata": {
    "ExecuteTime": {
     "end_time": "2021-06-24T10:51:59.251086Z",
     "start_time": "2021-06-24T10:51:59.245474Z"
    }
   },
   "outputs": [
    {
     "data": {
      "text/plain": [
       "msno                              object\n",
       "payment_method_id                  int64\n",
       "payment_plan_days                  int64\n",
       "plan_list_price                    int64\n",
       "actual_amount_paid                 int64\n",
       "is_auto_renew                      int64\n",
       "transaction_date          datetime64[ns]\n",
       "membership_expire_date             int64\n",
       "is_cancel                          int64\n",
       "dtype: object"
      ]
     },
     "execution_count": 9,
     "metadata": {},
     "output_type": "execute_result"
    }
   ],
   "source": [
    "sample.dtypes"
   ]
  },
  {
   "cell_type": "code",
   "execution_count": 11,
   "id": "4adc6f88",
   "metadata": {
    "ExecuteTime": {
     "end_time": "2021-06-24T10:53:24.733965Z",
     "start_time": "2021-06-24T10:53:24.731286Z"
    }
   },
   "outputs": [],
   "source": [
    "from datetime import datetime"
   ]
  },
  {
   "cell_type": "code",
   "execution_count": 12,
   "id": "f19a6b0b",
   "metadata": {
    "ExecuteTime": {
     "end_time": "2021-06-24T10:53:30.494493Z",
     "start_time": "2021-06-24T10:53:30.489925Z"
    }
   },
   "outputs": [
    {
     "data": {
      "text/plain": [
       "datetime.datetime(2017, 7, 3, 0, 0)"
      ]
     },
     "execution_count": 12,
     "metadata": {},
     "output_type": "execute_result"
    }
   ],
   "source": [
    "datetime(2017, 7, 3)"
   ]
  },
  {
   "cell_type": "code",
   "execution_count": 10,
   "id": "339b1f02",
   "metadata": {
    "ExecuteTime": {
     "end_time": "2021-06-24T10:52:15.667210Z",
     "start_time": "2021-06-24T10:52:15.664719Z"
    }
   },
   "outputs": [],
   "source": [
    "uid = \"msno\""
   ]
  },
  {
   "cell_type": "code",
   "execution_count": 18,
   "id": "2a3874dd",
   "metadata": {
    "ExecuteTime": {
     "end_time": "2021-06-24T10:59:56.998703Z",
     "start_time": "2021-06-24T10:59:56.994901Z"
    }
   },
   "outputs": [],
   "source": [
    "def aggregate_n_months_prior_to_date(df, agg_col, date, freq=\"1M\",\n",
    "                                     date_col=\"transaction_date\", aggs=['mean', 'median', 'count', 'sum', 'std']):\n",
    "    \"\"\"Generates aggregations of agg_col per uid prior to a certain date\"\"\"\n",
    "    filtered_df = df[df.transaction_date <= date]\n",
    "    res = filtered_df.groupby([uid, pd.Grouper(key=date_col, freq=freq)])[agg_col].agg(aggs).reset_index()\n",
    "    return res"
   ]
  },
  {
   "cell_type": "code",
   "execution_count": 19,
   "id": "d7f103a1",
   "metadata": {
    "ExecuteTime": {
     "end_time": "2021-06-24T11:00:14.922826Z",
     "start_time": "2021-06-24T11:00:02.646577Z"
    }
   },
   "outputs": [],
   "source": [
    "temp = aggregate_n_months_prior_to_date(sample, \"payment_plan_days\", datetime(2016, 9, 1), freq=\"1M\",\n",
    "                                        date_col=\"transaction_date\")"
   ]
  },
  {
   "cell_type": "code",
   "execution_count": 20,
   "id": "6a325d96",
   "metadata": {
    "ExecuteTime": {
     "end_time": "2021-06-24T11:00:14.939453Z",
     "start_time": "2021-06-24T11:00:14.924514Z"
    }
   },
   "outputs": [
    {
     "data": {
      "text/html": [
       "<div>\n",
       "<style scoped>\n",
       "    .dataframe tbody tr th:only-of-type {\n",
       "        vertical-align: middle;\n",
       "    }\n",
       "\n",
       "    .dataframe tbody tr th {\n",
       "        vertical-align: top;\n",
       "    }\n",
       "\n",
       "    .dataframe thead th {\n",
       "        text-align: right;\n",
       "    }\n",
       "</style>\n",
       "<table border=\"1\" class=\"dataframe\">\n",
       "  <thead>\n",
       "    <tr style=\"text-align: right;\">\n",
       "      <th></th>\n",
       "      <th>msno</th>\n",
       "      <th>transaction_date</th>\n",
       "      <th>mean</th>\n",
       "      <th>median</th>\n",
       "      <th>count</th>\n",
       "      <th>sum</th>\n",
       "      <th>std</th>\n",
       "    </tr>\n",
       "  </thead>\n",
       "  <tbody>\n",
       "    <tr>\n",
       "      <th>0</th>\n",
       "      <td>+++l/EXNMLTijfLBa8p2TUVVVp2aFGSuUI/h7mLmthw=</td>\n",
       "      <td>2015-08-31</td>\n",
       "      <td>30.0</td>\n",
       "      <td>30.0</td>\n",
       "      <td>1</td>\n",
       "      <td>30</td>\n",
       "      <td>NaN</td>\n",
       "    </tr>\n",
       "    <tr>\n",
       "      <th>1</th>\n",
       "      <td>+++snpr7pmobhLKUgSHTv/mpkqgBT0tQJ0zQj6qKrqc=</td>\n",
       "      <td>2015-01-31</td>\n",
       "      <td>30.0</td>\n",
       "      <td>30.0</td>\n",
       "      <td>1</td>\n",
       "      <td>30</td>\n",
       "      <td>NaN</td>\n",
       "    </tr>\n",
       "    <tr>\n",
       "      <th>2</th>\n",
       "      <td>+++snpr7pmobhLKUgSHTv/mpkqgBT0tQJ0zQj6qKrqc=</td>\n",
       "      <td>2015-02-28</td>\n",
       "      <td>30.0</td>\n",
       "      <td>30.0</td>\n",
       "      <td>1</td>\n",
       "      <td>30</td>\n",
       "      <td>NaN</td>\n",
       "    </tr>\n",
       "    <tr>\n",
       "      <th>3</th>\n",
       "      <td>+++snpr7pmobhLKUgSHTv/mpkqgBT0tQJ0zQj6qKrqc=</td>\n",
       "      <td>2015-03-31</td>\n",
       "      <td>30.0</td>\n",
       "      <td>30.0</td>\n",
       "      <td>1</td>\n",
       "      <td>30</td>\n",
       "      <td>NaN</td>\n",
       "    </tr>\n",
       "    <tr>\n",
       "      <th>4</th>\n",
       "      <td>+++snpr7pmobhLKUgSHTv/mpkqgBT0tQJ0zQj6qKrqc=</td>\n",
       "      <td>2015-04-30</td>\n",
       "      <td>0.0</td>\n",
       "      <td>0.0</td>\n",
       "      <td>1</td>\n",
       "      <td>0</td>\n",
       "      <td>NaN</td>\n",
       "    </tr>\n",
       "    <tr>\n",
       "      <th>...</th>\n",
       "      <td>...</td>\n",
       "      <td>...</td>\n",
       "      <td>...</td>\n",
       "      <td>...</td>\n",
       "      <td>...</td>\n",
       "      <td>...</td>\n",
       "      <td>...</td>\n",
       "    </tr>\n",
       "    <tr>\n",
       "      <th>3352986</th>\n",
       "      <td>zzz9+ZF4+GMyt63oU8xfjo1EkvRqH5OINlES0RUJI6I=</td>\n",
       "      <td>2016-04-30</td>\n",
       "      <td>30.0</td>\n",
       "      <td>30.0</td>\n",
       "      <td>1</td>\n",
       "      <td>30</td>\n",
       "      <td>NaN</td>\n",
       "    </tr>\n",
       "    <tr>\n",
       "      <th>3352987</th>\n",
       "      <td>zzzN9thH22os1dRS0VHReY/8FTfGHOi86//d+wGGFsQ=</td>\n",
       "      <td>2016-03-31</td>\n",
       "      <td>30.0</td>\n",
       "      <td>30.0</td>\n",
       "      <td>1</td>\n",
       "      <td>30</td>\n",
       "      <td>NaN</td>\n",
       "    </tr>\n",
       "    <tr>\n",
       "      <th>3352988</th>\n",
       "      <td>zzzN9thH22os1dRS0VHReY/8FTfGHOi86//d+wGGFsQ=</td>\n",
       "      <td>2016-04-30</td>\n",
       "      <td>30.0</td>\n",
       "      <td>30.0</td>\n",
       "      <td>1</td>\n",
       "      <td>30</td>\n",
       "      <td>NaN</td>\n",
       "    </tr>\n",
       "    <tr>\n",
       "      <th>3352989</th>\n",
       "      <td>zzzN9thH22os1dRS0VHReY/8FTfGHOi86//d+wGGFsQ=</td>\n",
       "      <td>2016-05-31</td>\n",
       "      <td>30.0</td>\n",
       "      <td>30.0</td>\n",
       "      <td>1</td>\n",
       "      <td>30</td>\n",
       "      <td>NaN</td>\n",
       "    </tr>\n",
       "    <tr>\n",
       "      <th>3352990</th>\n",
       "      <td>zzzN9thH22os1dRS0VHReY/8FTfGHOi86//d+wGGFsQ=</td>\n",
       "      <td>2016-08-31</td>\n",
       "      <td>30.0</td>\n",
       "      <td>30.0</td>\n",
       "      <td>1</td>\n",
       "      <td>30</td>\n",
       "      <td>NaN</td>\n",
       "    </tr>\n",
       "  </tbody>\n",
       "</table>\n",
       "<p>3352991 rows × 7 columns</p>\n",
       "</div>"
      ],
      "text/plain": [
       "                                                 msno transaction_date  mean  \\\n",
       "0        +++l/EXNMLTijfLBa8p2TUVVVp2aFGSuUI/h7mLmthw=       2015-08-31  30.0   \n",
       "1        +++snpr7pmobhLKUgSHTv/mpkqgBT0tQJ0zQj6qKrqc=       2015-01-31  30.0   \n",
       "2        +++snpr7pmobhLKUgSHTv/mpkqgBT0tQJ0zQj6qKrqc=       2015-02-28  30.0   \n",
       "3        +++snpr7pmobhLKUgSHTv/mpkqgBT0tQJ0zQj6qKrqc=       2015-03-31  30.0   \n",
       "4        +++snpr7pmobhLKUgSHTv/mpkqgBT0tQJ0zQj6qKrqc=       2015-04-30   0.0   \n",
       "...                                               ...              ...   ...   \n",
       "3352986  zzz9+ZF4+GMyt63oU8xfjo1EkvRqH5OINlES0RUJI6I=       2016-04-30  30.0   \n",
       "3352987  zzzN9thH22os1dRS0VHReY/8FTfGHOi86//d+wGGFsQ=       2016-03-31  30.0   \n",
       "3352988  zzzN9thH22os1dRS0VHReY/8FTfGHOi86//d+wGGFsQ=       2016-04-30  30.0   \n",
       "3352989  zzzN9thH22os1dRS0VHReY/8FTfGHOi86//d+wGGFsQ=       2016-05-31  30.0   \n",
       "3352990  zzzN9thH22os1dRS0VHReY/8FTfGHOi86//d+wGGFsQ=       2016-08-31  30.0   \n",
       "\n",
       "         median  count  sum  std  \n",
       "0          30.0      1   30  NaN  \n",
       "1          30.0      1   30  NaN  \n",
       "2          30.0      1   30  NaN  \n",
       "3          30.0      1   30  NaN  \n",
       "4           0.0      1    0  NaN  \n",
       "...         ...    ...  ...  ...  \n",
       "3352986    30.0      1   30  NaN  \n",
       "3352987    30.0      1   30  NaN  \n",
       "3352988    30.0      1   30  NaN  \n",
       "3352989    30.0      1   30  NaN  \n",
       "3352990    30.0      1   30  NaN  \n",
       "\n",
       "[3352991 rows x 7 columns]"
      ]
     },
     "execution_count": 20,
     "metadata": {},
     "output_type": "execute_result"
    }
   ],
   "source": [
    "temp"
   ]
  },
  {
   "cell_type": "code",
   "execution_count": 21,
   "id": "2525f721",
   "metadata": {
    "ExecuteTime": {
     "end_time": "2021-06-24T11:00:47.194308Z",
     "start_time": "2021-06-24T11:00:47.178892Z"
    }
   },
   "outputs": [
    {
     "data": {
      "text/plain": [
       "Timestamp('2016-09-30 00:00:00')"
      ]
     },
     "execution_count": 21,
     "metadata": {},
     "output_type": "execute_result"
    }
   ],
   "source": [
    "temp['transaction_date'].max()"
   ]
  },
  {
   "cell_type": "code",
   "execution_count": null,
   "id": "d562caca",
   "metadata": {},
   "outputs": [],
   "source": []
  },
  {
   "cell_type": "code",
   "execution_count": null,
   "id": "c102da6e",
   "metadata": {},
   "outputs": [],
   "source": []
  },
  {
   "cell_type": "code",
   "execution_count": null,
   "id": "3b263f1a",
   "metadata": {},
   "outputs": [],
   "source": []
  },
  {
   "cell_type": "code",
   "execution_count": null,
   "id": "b09c9cb9",
   "metadata": {},
   "outputs": [],
   "source": []
  }
 ],
 "metadata": {
  "kernelspec": {
   "display_name": "env",
   "language": "python",
   "name": "env"
  },
  "language_info": {
   "codemirror_mode": {
    "name": "ipython",
    "version": 3
   },
   "file_extension": ".py",
   "mimetype": "text/x-python",
   "name": "python",
   "nbconvert_exporter": "python",
   "pygments_lexer": "ipython3",
   "version": "3.7.10"
  },
  "toc": {
   "base_numbering": 1,
   "nav_menu": {},
   "number_sections": true,
   "sideBar": true,
   "skip_h1_title": false,
   "title_cell": "Table of Contents",
   "title_sidebar": "Contents",
   "toc_cell": false,
   "toc_position": {},
   "toc_section_display": true,
   "toc_window_display": true
  }
 },
 "nbformat": 4,
 "nbformat_minor": 5
}
