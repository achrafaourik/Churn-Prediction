{
 "cells": [
  {
   "cell_type": "code",
   "execution_count": 1,
   "id": "616876bf",
   "metadata": {
    "ExecuteTime": {
     "end_time": "2022-02-11T17:09:06.545646Z",
     "start_time": "2022-02-11T17:09:04.832655Z"
    }
   },
   "outputs": [],
   "source": [
    "%matplotlib inline\n",
    "import pandas as pd\n",
    "import matplotlib.pyplot as plt\n",
    "import seaborn as sns\n",
    "import altair as alt\n",
    "import warnings\n",
    "from IPython.core.interactiveshell import InteractiveShell\n",
    "import numpy as np\n",
    "import dask.dataframe as dd\n",
    "import os\n",
    "import itertools\n",
    "import matplotlib.ticker as ticker\n",
    "alt.renderers.enable('default')\n",
    "InteractiveShell.ast_node_interactivity = \"all\"\n",
    "sns.set_theme(style=\"darkgrid\")\n",
    "warnings.filterwarnings('ignore')\n",
    "sns.set_palette(sns.color_palette(\"Set3\"))"
   ]
  },
  {
   "cell_type": "code",
   "execution_count": 2,
   "id": "e37bf427",
   "metadata": {
    "ExecuteTime": {
     "end_time": "2022-02-11T17:09:06.550867Z",
     "start_time": "2022-02-11T17:09:06.548040Z"
    }
   },
   "outputs": [],
   "source": [
    "uid = 'msno'"
   ]
  },
  {
   "cell_type": "code",
   "execution_count": 3,
   "id": "42041886",
   "metadata": {
    "ExecuteTime": {
     "end_time": "2022-02-11T17:09:07.499536Z",
     "start_time": "2022-02-11T17:09:06.553532Z"
    },
    "scrolled": false
   },
   "outputs": [
    {
     "data": {
      "text/html": [
       "<div>\n",
       "<style scoped>\n",
       "    .dataframe tbody tr th:only-of-type {\n",
       "        vertical-align: middle;\n",
       "    }\n",
       "\n",
       "    .dataframe tbody tr th {\n",
       "        vertical-align: top;\n",
       "    }\n",
       "\n",
       "    .dataframe thead th {\n",
       "        text-align: right;\n",
       "    }\n",
       "</style>\n",
       "<table border=\"1\" class=\"dataframe\">\n",
       "  <thead>\n",
       "    <tr style=\"text-align: right;\">\n",
       "      <th></th>\n",
       "      <th>msno</th>\n",
       "      <th>is_churn</th>\n",
       "    </tr>\n",
       "  </thead>\n",
       "  <tbody>\n",
       "    <tr>\n",
       "      <th>0</th>\n",
       "      <td>waLDQMmcOu2jLDaV1ddDkgCrB/jl6sD66Xzs0Vqax1Y=</td>\n",
       "      <td>1</td>\n",
       "    </tr>\n",
       "    <tr>\n",
       "      <th>1</th>\n",
       "      <td>QA7uiXy8vIbUSPOkCf9RwQ3FsT8jVq2OxDr8zqa7bRQ=</td>\n",
       "      <td>1</td>\n",
       "    </tr>\n",
       "    <tr>\n",
       "      <th>2</th>\n",
       "      <td>fGwBva6hikQmTJzrbz/2Ezjm5Cth5jZUNvXigKK2AFA=</td>\n",
       "      <td>1</td>\n",
       "    </tr>\n",
       "    <tr>\n",
       "      <th>3</th>\n",
       "      <td>mT5V8rEpa+8wuqi6x0DoVd3H5icMKkE9Prt49UlmK+4=</td>\n",
       "      <td>1</td>\n",
       "    </tr>\n",
       "    <tr>\n",
       "      <th>4</th>\n",
       "      <td>XaPhtGLk/5UvvOYHcONTwsnH97P4eGECeq+BARGItRw=</td>\n",
       "      <td>1</td>\n",
       "    </tr>\n",
       "  </tbody>\n",
       "</table>\n",
       "</div>"
      ],
      "text/plain": [
       "                                           msno is_churn\n",
       "0  waLDQMmcOu2jLDaV1ddDkgCrB/jl6sD66Xzs0Vqax1Y=        1\n",
       "1  QA7uiXy8vIbUSPOkCf9RwQ3FsT8jVq2OxDr8zqa7bRQ=        1\n",
       "2  fGwBva6hikQmTJzrbz/2Ezjm5Cth5jZUNvXigKK2AFA=        1\n",
       "3  mT5V8rEpa+8wuqi6x0DoVd3H5icMKkE9Prt49UlmK+4=        1\n",
       "4  XaPhtGLk/5UvvOYHcONTwsnH97P4eGECeq+BARGItRw=        1"
      ]
     },
     "execution_count": 3,
     "metadata": {},
     "output_type": "execute_result"
    }
   ],
   "source": [
    "# This can be changed to the directory where the datasets are stored\n",
    "data_dir = './data'\n",
    "\n",
    "# Training data for january, contains two columns : user id and binary churn target variable\n",
    "train = pd.read_csv(os.path.join(data_dir, 'train.csv'), dtype={'is_churn': str})\n",
    "\n",
    "train.head()"
   ]
  },
  {
   "cell_type": "code",
   "execution_count": 4,
   "id": "7abe4977",
   "metadata": {
    "ExecuteTime": {
     "end_time": "2022-02-11T17:09:08.019063Z",
     "start_time": "2022-02-11T17:09:07.501901Z"
    }
   },
   "outputs": [],
   "source": [
    "import vaex"
   ]
  },
  {
   "cell_type": "code",
   "execution_count": 5,
   "id": "903b32e1",
   "metadata": {
    "ExecuteTime": {
     "end_time": "2022-02-11T17:09:08.917190Z",
     "start_time": "2022-02-11T17:09:08.021338Z"
    }
   },
   "outputs": [],
   "source": [
    "df = vaex.open('./data/user_logs_split_*.hdf5')"
   ]
  },
  {
   "cell_type": "code",
   "execution_count": 6,
   "id": "00e38a77",
   "metadata": {
    "ExecuteTime": {
     "end_time": "2022-02-11T17:09:08.922477Z",
     "start_time": "2022-02-11T17:09:08.919408Z"
    }
   },
   "outputs": [],
   "source": [
    "names = ['msno','date','num_25','num_50','num_75','num_985','num_100','num_unq','total_secs']"
   ]
  },
  {
   "cell_type": "code",
   "execution_count": 7,
   "id": "ea1bcf9a",
   "metadata": {
    "ExecuteTime": {
     "end_time": "2022-02-11T17:09:08.948956Z",
     "start_time": "2022-02-11T17:09:08.929551Z"
    },
    "scrolled": true
   },
   "outputs": [
    {
     "data": {
      "text/plain": [
       "'msno'"
      ]
     },
     "execution_count": 7,
     "metadata": {},
     "output_type": "execute_result"
    },
    {
     "data": {
      "text/plain": [
       "'date'"
      ]
     },
     "execution_count": 7,
     "metadata": {},
     "output_type": "execute_result"
    },
    {
     "data": {
      "text/plain": [
       "'num_25'"
      ]
     },
     "execution_count": 7,
     "metadata": {},
     "output_type": "execute_result"
    },
    {
     "data": {
      "text/plain": [
       "'num_50'"
      ]
     },
     "execution_count": 7,
     "metadata": {},
     "output_type": "execute_result"
    },
    {
     "data": {
      "text/plain": [
       "'num_75'"
      ]
     },
     "execution_count": 7,
     "metadata": {},
     "output_type": "execute_result"
    },
    {
     "data": {
      "text/plain": [
       "'num_985'"
      ]
     },
     "execution_count": 7,
     "metadata": {},
     "output_type": "execute_result"
    },
    {
     "data": {
      "text/plain": [
       "'num_100'"
      ]
     },
     "execution_count": 7,
     "metadata": {},
     "output_type": "execute_result"
    },
    {
     "data": {
      "text/plain": [
       "'num_unq'"
      ]
     },
     "execution_count": 7,
     "metadata": {},
     "output_type": "execute_result"
    },
    {
     "data": {
      "text/plain": [
       "'total_secs'"
      ]
     },
     "execution_count": 7,
     "metadata": {},
     "output_type": "execute_result"
    }
   ],
   "source": [
    "for i, new_name in enumerate(names):\n",
    "    df.rename(str(i), new_name)"
   ]
  },
  {
   "cell_type": "code",
   "execution_count": 8,
   "id": "121a87c1",
   "metadata": {
    "ExecuteTime": {
     "end_time": "2022-02-11T17:09:08.977085Z",
     "start_time": "2022-02-11T17:09:08.951185Z"
    }
   },
   "outputs": [],
   "source": [
    "df['year'] = df['date'] // 10000\n",
    "df['month'] = (df['date'] // 100) % 100\n",
    "df['day'] = df['date'] % 100\n",
    "\n",
    "df['year'] = df['year'].astype(str)\n",
    "df['month'] = df['month'].astype(str).str.zfill(2)\n",
    "df['day'] = df['day'].astype(str).str.zfill(2)\n",
    "\n",
    "df['date_formatted'] = df['year'] + '-' + df['month'] + '-' + df['day']\n",
    "df['date_formatted'] = df['date_formatted'].astype('datetime64')"
   ]
  },
  {
   "cell_type": "code",
   "execution_count": 9,
   "id": "54c72efb",
   "metadata": {
    "ExecuteTime": {
     "end_time": "2022-02-11T17:09:09.057138Z",
     "start_time": "2022-02-11T17:09:08.979234Z"
    }
   },
   "outputs": [
    {
     "data": {
      "text/html": [
       "<table>\n",
       "<thead>\n",
       "<tr><th>#                                      </th><th>msno                                          </th><th>date    </th><th>num_25  </th><th>num_50  </th><th>num_75  </th><th>num_985  </th><th>num_100  </th><th>num_unq  </th><th>total_secs        </th><th>date_formatted                  </th></tr>\n",
       "</thead>\n",
       "<tbody>\n",
       "<tr><td><i style='opacity: 0.6'>0</i>          </td><td>&#x27;rxIP2f2aN0rYNp+toI0Obt/N/FYQX8hcO1fTmmy2h34=&#x27;</td><td>20150513</td><td>0       </td><td>0       </td><td>0       </td><td>0        </td><td>1        </td><td>1        </td><td>280.335           </td><td>Timestamp(&#x27;2015-05-13 00:00:00&#x27;)</td></tr>\n",
       "<tr><td><i style='opacity: 0.6'>1</i>          </td><td>&#x27;rxIP2f2aN0rYNp+toI0Obt/N/FYQX8hcO1fTmmy2h34=&#x27;</td><td>20150709</td><td>9       </td><td>1       </td><td>0       </td><td>0        </td><td>7        </td><td>11       </td><td>1658.9479999999999</td><td>Timestamp(&#x27;2015-07-09 00:00:00&#x27;)</td></tr>\n",
       "<tr><td><i style='opacity: 0.6'>2</i>          </td><td>&#x27;yxiEWwE9VR5utpUecLxVdQ5B7NysUPfrNtGINaM2zA8=&#x27;</td><td>20150105</td><td>3       </td><td>3       </td><td>0       </td><td>0        </td><td>68       </td><td>36       </td><td>17364.956000000002</td><td>Timestamp(&#x27;2015-01-05 00:00:00&#x27;)</td></tr>\n",
       "<tr><td><i style='opacity: 0.6'>3</i>          </td><td>&#x27;yxiEWwE9VR5utpUecLxVdQ5B7NysUPfrNtGINaM2zA8=&#x27;</td><td>20150306</td><td>1       </td><td>0       </td><td>1       </td><td>1        </td><td>97       </td><td>27       </td><td>24667.317000000003</td><td>Timestamp(&#x27;2015-03-06 00:00:00&#x27;)</td></tr>\n",
       "<tr><td><i style='opacity: 0.6'>4</i>          </td><td>&#x27;yxiEWwE9VR5utpUecLxVdQ5B7NysUPfrNtGINaM2zA8=&#x27;</td><td>20150501</td><td>3       </td><td>0       </td><td>0       </td><td>0        </td><td>38       </td><td>38       </td><td>9649.029          </td><td>Timestamp(&#x27;2015-05-01 00:00:00&#x27;)</td></tr>\n",
       "<tr><td>...                                    </td><td>...                                           </td><td>...     </td><td>...     </td><td>...     </td><td>...     </td><td>...      </td><td>...      </td><td>...      </td><td>...               </td><td>...                             </td></tr>\n",
       "<tr><td><i style='opacity: 0.6'>391,865,090</i></td><td>&#x27;ccyBVC3HXqPi7D8GoxT0u3jntamqtPubA9hKhRQUsu0=&#x27;</td><td>20150925</td><td>0       </td><td>1       </td><td>0       </td><td>0        </td><td>1        </td><td>2        </td><td>342.207           </td><td>Timestamp(&#x27;2015-09-25 00:00:00&#x27;)</td></tr>\n",
       "<tr><td><i style='opacity: 0.6'>391,865,091</i></td><td>&#x27;ccyBVC3HXqPi7D8GoxT0u3jntamqtPubA9hKhRQUsu0=&#x27;</td><td>20160216</td><td>12      </td><td>9       </td><td>2       </td><td>0        </td><td>13       </td><td>30       </td><td>4220.209          </td><td>Timestamp(&#x27;2016-02-16 00:00:00&#x27;)</td></tr>\n",
       "<tr><td><i style='opacity: 0.6'>391,865,092</i></td><td>&#x27;ccyBVC3HXqPi7D8GoxT0u3jntamqtPubA9hKhRQUsu0=&#x27;</td><td>20160515</td><td>15      </td><td>9       </td><td>10      </td><td>5        </td><td>15       </td><td>47       </td><td>7300.25           </td><td>Timestamp(&#x27;2016-05-15 00:00:00&#x27;)</td></tr>\n",
       "<tr><td><i style='opacity: 0.6'>391,865,093</i></td><td>&#x27;ccyBVC3HXqPi7D8GoxT0u3jntamqtPubA9hKhRQUsu0=&#x27;</td><td>20160725</td><td>8       </td><td>0       </td><td>0       </td><td>0        </td><td>10       </td><td>13       </td><td>2498.097          </td><td>Timestamp(&#x27;2016-07-25 00:00:00&#x27;)</td></tr>\n",
       "<tr><td><i style='opacity: 0.6'>391,865,094</i></td><td>&#x27;ccyBVC3HXqPi7D8GoxT0u3jntamqtPubA9hKhRQUsu0=&#x27;</td><td>20161005</td><td>0       </td><td>4       </td><td>1       </td><td>1        </td><td>11       </td><td>10       </td><td>3268.739          </td><td>Timestamp(&#x27;2016-10-05 00:00:00&#x27;)</td></tr>\n",
       "</tbody>\n",
       "</table>"
      ],
      "text/plain": [
       "#            msno                                            date      num_25    num_50    num_75    num_985    num_100    num_unq    total_secs          date_formatted\n",
       "0            'rxIP2f2aN0rYNp+toI0Obt/N/FYQX8hcO1fTmmy2h34='  20150513  0         0         0         0          1          1          280.335             Timestamp('2015-05-13 00:00:00')\n",
       "1            'rxIP2f2aN0rYNp+toI0Obt/N/FYQX8hcO1fTmmy2h34='  20150709  9         1         0         0          7          11         1658.9479999999999  Timestamp('2015-07-09 00:00:00')\n",
       "2            'yxiEWwE9VR5utpUecLxVdQ5B7NysUPfrNtGINaM2zA8='  20150105  3         3         0         0          68         36         17364.956000000002  Timestamp('2015-01-05 00:00:00')\n",
       "3            'yxiEWwE9VR5utpUecLxVdQ5B7NysUPfrNtGINaM2zA8='  20150306  1         0         1         1          97         27         24667.317000000003  Timestamp('2015-03-06 00:00:00')\n",
       "4            'yxiEWwE9VR5utpUecLxVdQ5B7NysUPfrNtGINaM2zA8='  20150501  3         0         0         0          38         38         9649.029            Timestamp('2015-05-01 00:00:00')\n",
       "...          ...                                             ...       ...       ...       ...       ...        ...        ...        ...                 ...\n",
       "391,865,090  'ccyBVC3HXqPi7D8GoxT0u3jntamqtPubA9hKhRQUsu0='  20150925  0         1         0         0          1          2          342.207             Timestamp('2015-09-25 00:00:00')\n",
       "391,865,091  'ccyBVC3HXqPi7D8GoxT0u3jntamqtPubA9hKhRQUsu0='  20160216  12        9         2         0          13         30         4220.209            Timestamp('2016-02-16 00:00:00')\n",
       "391,865,092  'ccyBVC3HXqPi7D8GoxT0u3jntamqtPubA9hKhRQUsu0='  20160515  15        9         10        5          15         47         7300.25             Timestamp('2016-05-15 00:00:00')\n",
       "391,865,093  'ccyBVC3HXqPi7D8GoxT0u3jntamqtPubA9hKhRQUsu0='  20160725  8         0         0         0          10         13         2498.097            Timestamp('2016-07-25 00:00:00')\n",
       "391,865,094  'ccyBVC3HXqPi7D8GoxT0u3jntamqtPubA9hKhRQUsu0='  20161005  0         4         1         1          11         10         3268.739            Timestamp('2016-10-05 00:00:00')"
      ]
     },
     "execution_count": 9,
     "metadata": {},
     "output_type": "execute_result"
    }
   ],
   "source": [
    "df.drop(['year', 'month', 'day'], inplace=True)"
   ]
  },
  {
   "cell_type": "code",
   "execution_count": 10,
   "id": "88b04c89",
   "metadata": {
    "ExecuteTime": {
     "end_time": "2022-02-11T17:09:09.063784Z",
     "start_time": "2022-02-11T17:09:09.059264Z"
    }
   },
   "outputs": [
    {
     "data": {
      "text/plain": [
       "(391865095, 10)"
      ]
     },
     "execution_count": 10,
     "metadata": {},
     "output_type": "execute_result"
    }
   ],
   "source": [
    "df.shape"
   ]
  },
  {
   "cell_type": "code",
   "execution_count": 11,
   "id": "23cbe7a1",
   "metadata": {
    "ExecuteTime": {
     "end_time": "2022-02-11T17:09:09.069910Z",
     "start_time": "2022-02-11T17:09:09.065809Z"
    }
   },
   "outputs": [],
   "source": [
    "sample = df[:1000]"
   ]
  },
  {
   "cell_type": "code",
   "execution_count": 12,
   "id": "48af84e5",
   "metadata": {
    "ExecuteTime": {
     "end_time": "2022-02-11T17:09:09.241782Z",
     "start_time": "2022-02-11T17:09:09.071929Z"
    },
    "scrolled": true
   },
   "outputs": [
    {
     "data": {
      "text/html": [
       "<table>\n",
       "<thead>\n",
       "<tr><th>#                              </th><th>msno                                          </th><th>date_formatted  </th><th>total_seconds_6_months  </th><th>avg_seconds_6_months  </th></tr>\n",
       "</thead>\n",
       "<tbody>\n",
       "<tr><td><i style='opacity: 0.6'>0</i>  </td><td>&#x27;rxIP2f2aN0rYNp+toI0Obt/N/FYQX8hcO1fTmmy2h34=&#x27;</td><td>2015-04-30      </td><td>280.335                 </td><td>280.335               </td></tr>\n",
       "<tr><td><i style='opacity: 0.6'>1</i>  </td><td>&#x27;rxIP2f2aN0rYNp+toI0Obt/N/FYQX8hcO1fTmmy2h34=&#x27;</td><td>2015-06-29      </td><td>1658.9479999999999      </td><td>1658.9479999999999    </td></tr>\n",
       "<tr><td><i style='opacity: 0.6'>2</i>  </td><td>&#x27;yxiEWwE9VR5utpUecLxVdQ5B7NysUPfrNtGINaM2zA8=&#x27;</td><td>2014-12-31      </td><td>17364.956000000002      </td><td>17364.956000000002    </td></tr>\n",
       "<tr><td><i style='opacity: 0.6'>3</i>  </td><td>&#x27;yxiEWwE9VR5utpUecLxVdQ5B7NysUPfrNtGINaM2zA8=&#x27;</td><td>2015-03-01      </td><td>24667.317000000003      </td><td>24667.317000000003    </td></tr>\n",
       "<tr><td><i style='opacity: 0.6'>4</i>  </td><td>&#x27;yxiEWwE9VR5utpUecLxVdQ5B7NysUPfrNtGINaM2zA8=&#x27;</td><td>2015-04-30      </td><td>9649.029                </td><td>9649.029              </td></tr>\n",
       "<tr><td>...                            </td><td>...                                           </td><td>...             </td><td>...                     </td><td>...                   </td></tr>\n",
       "<tr><td><i style='opacity: 0.6'>959</i></td><td>&#x27;GsxqOgdbfqplwVMVVMu/0spt8ysfkSjexZqzyTb5T/E=&#x27;</td><td>2016-02-24      </td><td>982.0                   </td><td>982.0                 </td></tr>\n",
       "<tr><td><i style='opacity: 0.6'>960</i></td><td>&#x27;GsxqOgdbfqplwVMVVMu/0spt8ysfkSjexZqzyTb5T/E=&#x27;</td><td>2016-06-23      </td><td>1993.35                 </td><td>1993.35               </td></tr>\n",
       "<tr><td><i style='opacity: 0.6'>961</i></td><td>&#x27;GsxqOgdbfqplwVMVVMu/0spt8ysfkSjexZqzyTb5T/E=&#x27;</td><td>2016-08-22      </td><td>2236.254                </td><td>2236.254              </td></tr>\n",
       "<tr><td><i style='opacity: 0.6'>962</i></td><td>&#x27;GsxqOgdbfqplwVMVVMu/0spt8ysfkSjexZqzyTb5T/E=&#x27;</td><td>2016-12-20      </td><td>5719.019                </td><td>5719.019              </td></tr>\n",
       "<tr><td><i style='opacity: 0.6'>963</i></td><td>&#x27;wyzgGFDQuTiy23ZpvnNuJqD7MfjRtjwyCegyznmOtH8=&#x27;</td><td>2015-03-01      </td><td>15381.218               </td><td>15381.218             </td></tr>\n",
       "</tbody>\n",
       "</table>"
      ],
      "text/plain": [
       "#    msno                                            date_formatted    total_seconds_6_months    avg_seconds_6_months\n",
       "0    'rxIP2f2aN0rYNp+toI0Obt/N/FYQX8hcO1fTmmy2h34='  2015-04-30        280.335                   280.335\n",
       "1    'rxIP2f2aN0rYNp+toI0Obt/N/FYQX8hcO1fTmmy2h34='  2015-06-29        1658.9479999999999        1658.9479999999999\n",
       "2    'yxiEWwE9VR5utpUecLxVdQ5B7NysUPfrNtGINaM2zA8='  2014-12-31        17364.956000000002        17364.956000000002\n",
       "3    'yxiEWwE9VR5utpUecLxVdQ5B7NysUPfrNtGINaM2zA8='  2015-03-01        24667.317000000003        24667.317000000003\n",
       "4    'yxiEWwE9VR5utpUecLxVdQ5B7NysUPfrNtGINaM2zA8='  2015-04-30        9649.029                  9649.029\n",
       "...  ...                                             ...               ...                       ...\n",
       "959  'GsxqOgdbfqplwVMVVMu/0spt8ysfkSjexZqzyTb5T/E='  2016-02-24        982.0                     982.0\n",
       "960  'GsxqOgdbfqplwVMVVMu/0spt8ysfkSjexZqzyTb5T/E='  2016-06-23        1993.35                   1993.35\n",
       "961  'GsxqOgdbfqplwVMVVMu/0spt8ysfkSjexZqzyTb5T/E='  2016-08-22        2236.254                  2236.254\n",
       "962  'GsxqOgdbfqplwVMVVMu/0spt8ysfkSjexZqzyTb5T/E='  2016-12-20        5719.019                  5719.019\n",
       "963  'wyzgGFDQuTiy23ZpvnNuJqD7MfjRtjwyCegyznmOtH8='  2015-03-01        15381.218                 15381.218"
      ]
     },
     "execution_count": 12,
     "metadata": {},
     "output_type": "execute_result"
    }
   ],
   "source": [
    "temp = sample.groupby(['msno', vaex.BinnerTime(sample['date_formatted'], resolution='D', every=60)]).agg(\n",
    "    *[{'total_seconds_6_months': vaex.agg.sum(sample.total_secs),\n",
    "    'avg_seconds_6_months': vaex.agg.mean(sample.total_secs)}])\n",
    "\n",
    "temp"
   ]
  },
  {
   "cell_type": "code",
   "execution_count": 15,
   "id": "55cba680",
   "metadata": {
    "ExecuteTime": {
     "end_time": "2022-02-11T17:27:02.920088Z",
     "start_time": "2022-02-11T17:27:02.915224Z"
    }
   },
   "outputs": [],
   "source": [
    "def compute_aggregations_history(df, date_filter=20160201, resolution=\"D\", resolution_value=30, list_aggs=None):\n",
    "    \"\"\"\n",
    "    Filter df by only taking history inferior to <date_filter> then generate aggregations each :\n",
    "                                                                            <resolution_value> * <resolution>\n",
    "    :param df: vaex dataframe\n",
    "    :param date_filter: filter date, only take instances having a date inferior to this\n",
    "    :param resolution: datetime frequency of aggregations\n",
    "    :param resolution_value: number of units of <resolution> to take\n",
    "    :param list_aggs: dictionary mapping the name of the output column to the aggregation to perform\n",
    "    :return: pandas df containing aggregations performed\n",
    "    \"\"\"\n",
    "    if list_aggs is None:\n",
    "        list_aggs = []\n",
    "    df_filtered = df[df.date <= date_filter]\n",
    "    return df_filtered.groupby(['msno', vaex.BinnerTime(df_filtered['date_formatted'],\n",
    "                                               resolution=resolution,\n",
    "                                               every=resolution_value)]).agg(*list_aggs).to_pandas_df()\n"
   ]
  },
  {
   "cell_type": "code",
   "execution_count": 16,
   "id": "9bfde53c",
   "metadata": {
    "ExecuteTime": {
     "end_time": "2022-02-11T17:27:03.556138Z",
     "start_time": "2022-02-11T17:27:03.496140Z"
    }
   },
   "outputs": [],
   "source": [
    "res = compute_aggregations_history(sample, 20160603, \"M\", 6, [{'total_seconds_6_months': vaex.agg.sum(sample.total_secs),\n",
    "           'avg_seconds_6_months': vaex.agg.mean(sample.total_secs)}])"
   ]
  },
  {
   "cell_type": "code",
   "execution_count": 17,
   "id": "4987a5c3",
   "metadata": {
    "ExecuteTime": {
     "end_time": "2022-02-11T17:27:07.301607Z",
     "start_time": "2022-02-11T17:27:07.265685Z"
    }
   },
   "outputs": [
    {
     "data": {
      "text/html": [
       "<div>\n",
       "<style scoped>\n",
       "    .dataframe tbody tr th:only-of-type {\n",
       "        vertical-align: middle;\n",
       "    }\n",
       "\n",
       "    .dataframe tbody tr th {\n",
       "        vertical-align: top;\n",
       "    }\n",
       "\n",
       "    .dataframe thead th {\n",
       "        text-align: right;\n",
       "    }\n",
       "</style>\n",
       "<table border=\"1\" class=\"dataframe\">\n",
       "  <thead>\n",
       "    <tr style=\"text-align: right;\">\n",
       "      <th></th>\n",
       "      <th>msno</th>\n",
       "      <th>date_formatted</th>\n",
       "      <th>total_seconds_6_months</th>\n",
       "      <th>avg_seconds_6_months</th>\n",
       "    </tr>\n",
       "  </thead>\n",
       "  <tbody>\n",
       "    <tr>\n",
       "      <th>0</th>\n",
       "      <td>rxIP2f2aN0rYNp+toI0Obt/N/FYQX8hcO1fTmmy2h34=</td>\n",
       "      <td>2014-12-01</td>\n",
       "      <td>280.335</td>\n",
       "      <td>280.335000</td>\n",
       "    </tr>\n",
       "    <tr>\n",
       "      <th>1</th>\n",
       "      <td>rxIP2f2aN0rYNp+toI0Obt/N/FYQX8hcO1fTmmy2h34=</td>\n",
       "      <td>2015-06-01</td>\n",
       "      <td>1658.948</td>\n",
       "      <td>1658.948000</td>\n",
       "    </tr>\n",
       "    <tr>\n",
       "      <th>2</th>\n",
       "      <td>yxiEWwE9VR5utpUecLxVdQ5B7NysUPfrNtGINaM2zA8=</td>\n",
       "      <td>2014-12-01</td>\n",
       "      <td>51681.302</td>\n",
       "      <td>17227.100667</td>\n",
       "    </tr>\n",
       "    <tr>\n",
       "      <th>3</th>\n",
       "      <td>yxiEWwE9VR5utpUecLxVdQ5B7NysUPfrNtGINaM2zA8=</td>\n",
       "      <td>2015-06-01</td>\n",
       "      <td>12079.097</td>\n",
       "      <td>4026.365667</td>\n",
       "    </tr>\n",
       "    <tr>\n",
       "      <th>4</th>\n",
       "      <td>yxiEWwE9VR5utpUecLxVdQ5B7NysUPfrNtGINaM2zA8=</td>\n",
       "      <td>2015-12-01</td>\n",
       "      <td>38025.935</td>\n",
       "      <td>12675.311667</td>\n",
       "    </tr>\n",
       "    <tr>\n",
       "      <th>...</th>\n",
       "      <td>...</td>\n",
       "      <td>...</td>\n",
       "      <td>...</td>\n",
       "      <td>...</td>\n",
       "    </tr>\n",
       "    <tr>\n",
       "      <th>311</th>\n",
       "      <td>sTJMA5qPerG7atP3EH4Cqu2OZprKCCnW1oE6fOFOJDs=</td>\n",
       "      <td>2015-12-01</td>\n",
       "      <td>24419.594</td>\n",
       "      <td>8139.864667</td>\n",
       "    </tr>\n",
       "    <tr>\n",
       "      <th>312</th>\n",
       "      <td>GsxqOgdbfqplwVMVVMu/0spt8ysfkSjexZqzyTb5T/E=</td>\n",
       "      <td>2014-12-01</td>\n",
       "      <td>5271.971</td>\n",
       "      <td>1757.323667</td>\n",
       "    </tr>\n",
       "    <tr>\n",
       "      <th>313</th>\n",
       "      <td>GsxqOgdbfqplwVMVVMu/0spt8ysfkSjexZqzyTb5T/E=</td>\n",
       "      <td>2015-06-01</td>\n",
       "      <td>2613.544</td>\n",
       "      <td>1306.772000</td>\n",
       "    </tr>\n",
       "    <tr>\n",
       "      <th>314</th>\n",
       "      <td>GsxqOgdbfqplwVMVVMu/0spt8ysfkSjexZqzyTb5T/E=</td>\n",
       "      <td>2015-12-01</td>\n",
       "      <td>4907.802</td>\n",
       "      <td>1635.934000</td>\n",
       "    </tr>\n",
       "    <tr>\n",
       "      <th>315</th>\n",
       "      <td>wyzgGFDQuTiy23ZpvnNuJqD7MfjRtjwyCegyznmOtH8=</td>\n",
       "      <td>2014-12-01</td>\n",
       "      <td>15381.218</td>\n",
       "      <td>15381.218000</td>\n",
       "    </tr>\n",
       "  </tbody>\n",
       "</table>\n",
       "<p>316 rows × 4 columns</p>\n",
       "</div>"
      ],
      "text/plain": [
       "                                             msno date_formatted  \\\n",
       "0    rxIP2f2aN0rYNp+toI0Obt/N/FYQX8hcO1fTmmy2h34=     2014-12-01   \n",
       "1    rxIP2f2aN0rYNp+toI0Obt/N/FYQX8hcO1fTmmy2h34=     2015-06-01   \n",
       "2    yxiEWwE9VR5utpUecLxVdQ5B7NysUPfrNtGINaM2zA8=     2014-12-01   \n",
       "3    yxiEWwE9VR5utpUecLxVdQ5B7NysUPfrNtGINaM2zA8=     2015-06-01   \n",
       "4    yxiEWwE9VR5utpUecLxVdQ5B7NysUPfrNtGINaM2zA8=     2015-12-01   \n",
       "..                                            ...            ...   \n",
       "311  sTJMA5qPerG7atP3EH4Cqu2OZprKCCnW1oE6fOFOJDs=     2015-12-01   \n",
       "312  GsxqOgdbfqplwVMVVMu/0spt8ysfkSjexZqzyTb5T/E=     2014-12-01   \n",
       "313  GsxqOgdbfqplwVMVVMu/0spt8ysfkSjexZqzyTb5T/E=     2015-06-01   \n",
       "314  GsxqOgdbfqplwVMVVMu/0spt8ysfkSjexZqzyTb5T/E=     2015-12-01   \n",
       "315  wyzgGFDQuTiy23ZpvnNuJqD7MfjRtjwyCegyznmOtH8=     2014-12-01   \n",
       "\n",
       "     total_seconds_6_months  avg_seconds_6_months  \n",
       "0                   280.335            280.335000  \n",
       "1                  1658.948           1658.948000  \n",
       "2                 51681.302          17227.100667  \n",
       "3                 12079.097           4026.365667  \n",
       "4                 38025.935          12675.311667  \n",
       "..                      ...                   ...  \n",
       "311               24419.594           8139.864667  \n",
       "312                5271.971           1757.323667  \n",
       "313                2613.544           1306.772000  \n",
       "314                4907.802           1635.934000  \n",
       "315               15381.218          15381.218000  \n",
       "\n",
       "[316 rows x 4 columns]"
      ]
     },
     "execution_count": 17,
     "metadata": {},
     "output_type": "execute_result"
    }
   ],
   "source": [
    "res"
   ]
  }
 ],
 "metadata": {
  "kernelspec": {
   "display_name": "env",
   "language": "python",
   "name": "env"
  },
  "language_info": {
   "codemirror_mode": {
    "name": "ipython",
    "version": 3
   },
   "file_extension": ".py",
   "mimetype": "text/x-python",
   "name": "python",
   "nbconvert_exporter": "python",
   "pygments_lexer": "ipython3",
   "version": "3.7.10"
  },
  "toc": {
   "base_numbering": 1,
   "nav_menu": {},
   "number_sections": true,
   "sideBar": true,
   "skip_h1_title": false,
   "title_cell": "Table of Contents",
   "title_sidebar": "Contents",
   "toc_cell": false,
   "toc_position": {},
   "toc_section_display": true,
   "toc_window_display": true
  }
 },
 "nbformat": 4,
 "nbformat_minor": 5
}
