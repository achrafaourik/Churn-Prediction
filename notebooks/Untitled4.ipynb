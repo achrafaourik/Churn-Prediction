{
 "cells": [
  {
   "cell_type": "code",
   "execution_count": 2,
   "id": "91ba09de",
   "metadata": {
    "ExecuteTime": {
     "end_time": "2021-06-08T10:10:36.944368Z",
     "start_time": "2021-06-08T10:10:36.941562Z"
    }
   },
   "outputs": [],
   "source": [
    "import pandas as pd\n",
    "import vaex\n",
    "from argparse import ArgumentParser\n",
    "\n",
    "parser = ArgumentParser(prog='converter', usage='Convert Csv files to HDF5', \n",
    "                       description='Takes the path given as argument for the csv file and converts it to an HDF5 file')                  \n",
    "\n",
    "parser.add_argument('path')\n",
    "\n",
    "args = parser.parse_args()\n",
    "\n",
    "print(args.echo)"
   ]
  }
 ],
 "metadata": {
  "kernelspec": {
   "display_name": "env",
   "language": "python",
   "name": "env"
  },
  "language_info": {
   "codemirror_mode": {
    "name": "ipython",
    "version": 3
   },
   "file_extension": ".py",
   "mimetype": "text/x-python",
   "name": "python",
   "nbconvert_exporter": "python",
   "pygments_lexer": "ipython3",
   "version": "3.7.10"
  },
  "toc": {
   "base_numbering": 1,
   "nav_menu": {},
   "number_sections": true,
   "sideBar": true,
   "skip_h1_title": false,
   "title_cell": "Table of Contents",
   "title_sidebar": "Contents",
   "toc_cell": false,
   "toc_position": {},
   "toc_section_display": true,
   "toc_window_display": true
  }
 },
 "nbformat": 4,
 "nbformat_minor": 5
}
