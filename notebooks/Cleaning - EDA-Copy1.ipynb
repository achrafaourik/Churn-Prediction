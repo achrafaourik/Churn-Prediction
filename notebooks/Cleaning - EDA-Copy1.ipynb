{
 "cells": [
  {
   "cell_type": "markdown",
   "id": "5f10bbf4",
   "metadata": {
    "toc": true
   },
   "source": [
    "<h1>Table of Contents<span class=\"tocSkip\"></span></h1>\n",
    "<div class=\"toc\"><ul class=\"toc-item\"><li><span><a href=\"#Imports-and-loading\" data-toc-modified-id=\"Imports-and-loading-1\"><span class=\"toc-item-num\">1&nbsp;&nbsp;</span>Imports and loading</a></span><ul class=\"toc-item\"><li><span><a href=\"#Library-imports\" data-toc-modified-id=\"Library-imports-1.1\"><span class=\"toc-item-num\">1.1&nbsp;&nbsp;</span>Library imports</a></span></li><li><span><a href=\"#Data-Loading\" data-toc-modified-id=\"Data-Loading-1.2\"><span class=\"toc-item-num\">1.2&nbsp;&nbsp;</span>Data Loading</a></span></li></ul></li><li><span><a href=\"#Data-Cleaning\" data-toc-modified-id=\"Data-Cleaning-2\"><span class=\"toc-item-num\">2&nbsp;&nbsp;</span>Data Cleaning</a></span><ul class=\"toc-item\"><li><span><a href=\"#Null-Values-Handling\" data-toc-modified-id=\"Null-Values-Handling-2.1\"><span class=\"toc-item-num\">2.1&nbsp;&nbsp;</span>Null Values Handling</a></span><ul class=\"toc-item\"><li><span><a href=\"#Members-data\" data-toc-modified-id=\"Members-data-2.1.1\"><span class=\"toc-item-num\">2.1.1&nbsp;&nbsp;</span>Members data</a></span></li><li><span><a href=\"#Transactions-Data\" data-toc-modified-id=\"Transactions-Data-2.1.2\"><span class=\"toc-item-num\">2.1.2&nbsp;&nbsp;</span>Transactions Data</a></span></li><li><span><a href=\"#User-Logs-Data\" data-toc-modified-id=\"User-Logs-Data-2.1.3\"><span class=\"toc-item-num\">2.1.3&nbsp;&nbsp;</span>User Logs Data</a></span></li></ul></li></ul></li></ul></div>"
   ]
  },
  {
   "cell_type": "markdown",
   "id": "9bfb2165",
   "metadata": {},
   "source": [
    "# Imports and loading"
   ]
  },
  {
   "cell_type": "markdown",
   "id": "6cf966cf",
   "metadata": {},
   "source": [
    "## Library imports"
   ]
  },
  {
   "cell_type": "code",
   "execution_count": 1,
   "id": "3af70712",
   "metadata": {
    "ExecuteTime": {
     "end_time": "2021-05-02T13:14:32.109022Z",
     "start_time": "2021-05-02T13:14:16.678884Z"
    }
   },
   "outputs": [],
   "source": [
    "%matplotlib inline\n",
    "import pandas as pd\n",
    "import matplotlib.pyplot as plt\n",
    "import seaborn as sns\n",
    "import altair as alt\n",
    "import warnings\n",
    "from IPython.core.interactiveshell import InteractiveShell\n",
    "import numpy as np\n",
    "import dask.dataframe as dd\n",
    "import os\n",
    "alt.renderers.enable('notebook')\n",
    "InteractiveShell.ast_node_interactivity = \"all\"\n",
    "sns.set_theme(style=\"darkgrid\")\n",
    "warnings.filterwarnings('ignore')"
   ]
  },
  {
   "cell_type": "markdown",
   "id": "c67aed6d",
   "metadata": {
    "ExecuteTime": {
     "end_time": "2021-05-01T16:09:30.853441Z",
     "start_time": "2021-05-01T16:09:30.849330Z"
    }
   },
   "source": [
    "## Data Loading"
   ]
  },
  {
   "cell_type": "code",
   "execution_count": 2,
   "id": "02792561",
   "metadata": {
    "ExecuteTime": {
     "end_time": "2021-05-02T13:14:32.114945Z",
     "start_time": "2021-05-02T13:14:32.111593Z"
    }
   },
   "outputs": [],
   "source": [
    "uid = 'msno'"
   ]
  },
  {
   "cell_type": "code",
   "execution_count": 3,
   "id": "59f5d689",
   "metadata": {
    "ExecuteTime": {
     "end_time": "2021-05-02T13:14:33.822325Z",
     "start_time": "2021-05-02T13:14:32.117967Z"
    },
    "scrolled": true
   },
   "outputs": [
    {
     "data": {
      "text/html": [
       "<div>\n",
       "<style scoped>\n",
       "    .dataframe tbody tr th:only-of-type {\n",
       "        vertical-align: middle;\n",
       "    }\n",
       "\n",
       "    .dataframe tbody tr th {\n",
       "        vertical-align: top;\n",
       "    }\n",
       "\n",
       "    .dataframe thead th {\n",
       "        text-align: right;\n",
       "    }\n",
       "</style>\n",
       "<table border=\"1\" class=\"dataframe\">\n",
       "  <thead>\n",
       "    <tr style=\"text-align: right;\">\n",
       "      <th></th>\n",
       "      <th>msno</th>\n",
       "      <th>is_churn</th>\n",
       "    </tr>\n",
       "  </thead>\n",
       "  <tbody>\n",
       "    <tr>\n",
       "      <th>0</th>\n",
       "      <td>waLDQMmcOu2jLDaV1ddDkgCrB/jl6sD66Xzs0Vqax1Y=</td>\n",
       "      <td>1</td>\n",
       "    </tr>\n",
       "    <tr>\n",
       "      <th>1</th>\n",
       "      <td>QA7uiXy8vIbUSPOkCf9RwQ3FsT8jVq2OxDr8zqa7bRQ=</td>\n",
       "      <td>1</td>\n",
       "    </tr>\n",
       "    <tr>\n",
       "      <th>2</th>\n",
       "      <td>fGwBva6hikQmTJzrbz/2Ezjm5Cth5jZUNvXigKK2AFA=</td>\n",
       "      <td>1</td>\n",
       "    </tr>\n",
       "    <tr>\n",
       "      <th>3</th>\n",
       "      <td>mT5V8rEpa+8wuqi6x0DoVd3H5icMKkE9Prt49UlmK+4=</td>\n",
       "      <td>1</td>\n",
       "    </tr>\n",
       "    <tr>\n",
       "      <th>4</th>\n",
       "      <td>XaPhtGLk/5UvvOYHcONTwsnH97P4eGECeq+BARGItRw=</td>\n",
       "      <td>1</td>\n",
       "    </tr>\n",
       "  </tbody>\n",
       "</table>\n",
       "</div>"
      ],
      "text/plain": [
       "                                           msno  is_churn\n",
       "0  waLDQMmcOu2jLDaV1ddDkgCrB/jl6sD66Xzs0Vqax1Y=         1\n",
       "1  QA7uiXy8vIbUSPOkCf9RwQ3FsT8jVq2OxDr8zqa7bRQ=         1\n",
       "2  fGwBva6hikQmTJzrbz/2Ezjm5Cth5jZUNvXigKK2AFA=         1\n",
       "3  mT5V8rEpa+8wuqi6x0DoVd3H5icMKkE9Prt49UlmK+4=         1\n",
       "4  XaPhtGLk/5UvvOYHcONTwsnH97P4eGECeq+BARGItRw=         1"
      ]
     },
     "execution_count": 3,
     "metadata": {},
     "output_type": "execute_result"
    }
   ],
   "source": [
    "data_dir = './data'\n",
    "\n",
    "# Training data for january, contains two columns : user id and binary churn target variable\n",
    "train = pd.read_csv(os.path.join(data_dir, 'train.csv'))\n",
    "\n",
    "train.head()"
   ]
  },
  {
   "cell_type": "markdown",
   "id": "703c9f2e",
   "metadata": {},
   "source": [
    "The previous dataset is the train set, containing the user ids and whether they have churned.\n",
    "\n",
    "- **msno**: user id\n",
    "- **is_churn**: This is the target variable. Churn is defined as whether or not a user has subscribed within 30 days of the expiration date. is_churn = 1 means that the client churned, is_churn = 0 means renewal. "
   ]
  },
  {
   "cell_type": "code",
   "execution_count": 4,
   "id": "4831cb99",
   "metadata": {
    "ExecuteTime": {
     "end_time": "2021-05-02T13:14:33.973495Z",
     "start_time": "2021-05-02T13:14:33.825277Z"
    }
   },
   "outputs": [
    {
     "name": "stdout",
     "output_type": "stream",
     "text": [
      "<class 'pandas.core.frame.DataFrame'>\n",
      "RangeIndex: 992931 entries, 0 to 992930\n",
      "Data columns (total 2 columns):\n",
      " #   Column    Non-Null Count   Dtype \n",
      "---  ------    --------------   ----- \n",
      " 0   msno      992931 non-null  object\n",
      " 1   is_churn  992931 non-null  int64 \n",
      "dtypes: int64(1), object(1)\n",
      "memory usage: 15.2+ MB\n"
     ]
    },
    {
     "data": {
      "text/html": [
       "<div>\n",
       "<style scoped>\n",
       "    .dataframe tbody tr th:only-of-type {\n",
       "        vertical-align: middle;\n",
       "    }\n",
       "\n",
       "    .dataframe tbody tr th {\n",
       "        vertical-align: top;\n",
       "    }\n",
       "\n",
       "    .dataframe thead th {\n",
       "        text-align: right;\n",
       "    }\n",
       "</style>\n",
       "<table border=\"1\" class=\"dataframe\">\n",
       "  <thead>\n",
       "    <tr style=\"text-align: right;\">\n",
       "      <th></th>\n",
       "      <th>count</th>\n",
       "      <th>mean</th>\n",
       "      <th>std</th>\n",
       "      <th>min</th>\n",
       "      <th>25%</th>\n",
       "      <th>50%</th>\n",
       "      <th>75%</th>\n",
       "      <th>max</th>\n",
       "    </tr>\n",
       "  </thead>\n",
       "  <tbody>\n",
       "    <tr>\n",
       "      <th>is_churn</th>\n",
       "      <td>992931.0</td>\n",
       "      <td>0.063923</td>\n",
       "      <td>0.244616</td>\n",
       "      <td>0.0</td>\n",
       "      <td>0.0</td>\n",
       "      <td>0.0</td>\n",
       "      <td>0.0</td>\n",
       "      <td>1.0</td>\n",
       "    </tr>\n",
       "  </tbody>\n",
       "</table>\n",
       "</div>"
      ],
      "text/plain": [
       "             count      mean       std  min  25%  50%  75%  max\n",
       "is_churn  992931.0  0.063923  0.244616  0.0  0.0  0.0  0.0  1.0"
      ]
     },
     "execution_count": 4,
     "metadata": {},
     "output_type": "execute_result"
    }
   ],
   "source": [
    "# A quick summary of the train dataset using .info() and .describe()\n",
    "train.info()\n",
    "train.describe().T"
   ]
  },
  {
   "cell_type": "code",
   "execution_count": 5,
   "id": "03714e70",
   "metadata": {
    "ExecuteTime": {
     "end_time": "2021-05-02T13:14:52.006333Z",
     "start_time": "2021-05-02T13:14:33.976388Z"
    }
   },
   "outputs": [
    {
     "data": {
      "text/html": [
       "<div>\n",
       "<style scoped>\n",
       "    .dataframe tbody tr th:only-of-type {\n",
       "        vertical-align: middle;\n",
       "    }\n",
       "\n",
       "    .dataframe tbody tr th {\n",
       "        vertical-align: top;\n",
       "    }\n",
       "\n",
       "    .dataframe thead th {\n",
       "        text-align: right;\n",
       "    }\n",
       "</style>\n",
       "<table border=\"1\" class=\"dataframe\">\n",
       "  <thead>\n",
       "    <tr style=\"text-align: right;\">\n",
       "      <th></th>\n",
       "      <th>msno</th>\n",
       "      <th>city</th>\n",
       "      <th>bd</th>\n",
       "      <th>gender</th>\n",
       "      <th>registered_via</th>\n",
       "      <th>registration_init_time</th>\n",
       "    </tr>\n",
       "  </thead>\n",
       "  <tbody>\n",
       "    <tr>\n",
       "      <th>1</th>\n",
       "      <td>+tJonkh+O1CA796Fm5X60UMOtB6POHAwPjbTRVl/EuU=</td>\n",
       "      <td>1</td>\n",
       "      <td>0</td>\n",
       "      <td>NaN</td>\n",
       "      <td>7</td>\n",
       "      <td>20110914</td>\n",
       "    </tr>\n",
       "    <tr>\n",
       "      <th>5</th>\n",
       "      <td>yLkV2gbZ4GLFwqTOXLVHz0VGrMYcgBGgKZ3kj9RiYu8=</td>\n",
       "      <td>4</td>\n",
       "      <td>30</td>\n",
       "      <td>male</td>\n",
       "      <td>9</td>\n",
       "      <td>20110916</td>\n",
       "    </tr>\n",
       "    <tr>\n",
       "      <th>7</th>\n",
       "      <td>WH5Jq4mgtfUFXh2yz+HrcTXKS4Oess4k4W3qKolAeb0=</td>\n",
       "      <td>5</td>\n",
       "      <td>34</td>\n",
       "      <td>male</td>\n",
       "      <td>9</td>\n",
       "      <td>20110916</td>\n",
       "    </tr>\n",
       "    <tr>\n",
       "      <th>9</th>\n",
       "      <td>I0yFvqMoNkM8ZNHb617e1RBzIS/YRKemHO7Wj13EtA0=</td>\n",
       "      <td>13</td>\n",
       "      <td>63</td>\n",
       "      <td>male</td>\n",
       "      <td>9</td>\n",
       "      <td>20110918</td>\n",
       "    </tr>\n",
       "    <tr>\n",
       "      <th>10</th>\n",
       "      <td>OoDwiKZM+ZGr9P3fRivavgOtglTEaNfWJO4KaJcTTts=</td>\n",
       "      <td>1</td>\n",
       "      <td>0</td>\n",
       "      <td>NaN</td>\n",
       "      <td>7</td>\n",
       "      <td>20110918</td>\n",
       "    </tr>\n",
       "  </tbody>\n",
       "</table>\n",
       "</div>"
      ],
      "text/plain": [
       "                                            msno city  bd gender  \\\n",
       "1   +tJonkh+O1CA796Fm5X60UMOtB6POHAwPjbTRVl/EuU=    1   0    NaN   \n",
       "5   yLkV2gbZ4GLFwqTOXLVHz0VGrMYcgBGgKZ3kj9RiYu8=    4  30   male   \n",
       "7   WH5Jq4mgtfUFXh2yz+HrcTXKS4Oess4k4W3qKolAeb0=    5  34   male   \n",
       "9   I0yFvqMoNkM8ZNHb617e1RBzIS/YRKemHO7Wj13EtA0=   13  63   male   \n",
       "10  OoDwiKZM+ZGr9P3fRivavgOtglTEaNfWJO4KaJcTTts=    1   0    NaN   \n",
       "\n",
       "   registered_via registration_init_time  \n",
       "1               7               20110914  \n",
       "5               9               20110916  \n",
       "7               9               20110916  \n",
       "9               9               20110918  \n",
       "10              7               20110918  "
      ]
     },
     "execution_count": 5,
     "metadata": {},
     "output_type": "execute_result"
    }
   ],
   "source": [
    "# Members info : city, age, registration method and date of first subscription\n",
    "members = pd.read_csv(os.path.join(data_dir, 'members_v3.csv'),\n",
    "                      dtype={'gender': str, \"registered_via\": str, 'city': str, 'registration_init_time': str})\n",
    "members = members[members[uid].isin(train[uid])]\n",
    "\n",
    "members.head()"
   ]
  },
  {
   "cell_type": "markdown",
   "id": "4fef0137",
   "metadata": {},
   "source": [
    "The previous dataset has the members info, it contains the following:\n",
    "\n",
    "- **msno**: user id \n",
    "- **city**\n",
    "- **bd**: age\n",
    "- **gender**\n",
    "- **registered_via**: registration method\n",
    "- **registration_init_time**: format %Y%m%d"
   ]
  },
  {
   "cell_type": "code",
   "execution_count": 6,
   "id": "3ccf2ec0",
   "metadata": {
    "ExecuteTime": {
     "end_time": "2021-05-02T13:14:52.303361Z",
     "start_time": "2021-05-02T13:14:52.009799Z"
    }
   },
   "outputs": [
    {
     "name": "stdout",
     "output_type": "stream",
     "text": [
      "<class 'pandas.core.frame.DataFrame'>\n",
      "Int64Index: 877161 entries, 1 to 6769469\n",
      "Data columns (total 6 columns):\n",
      " #   Column                  Non-Null Count   Dtype \n",
      "---  ------                  --------------   ----- \n",
      " 0   msno                    877161 non-null  object\n",
      " 1   city                    877161 non-null  object\n",
      " 2   bd                      877161 non-null  int64 \n",
      " 3   gender                  391692 non-null  object\n",
      " 4   registered_via          877161 non-null  object\n",
      " 5   registration_init_time  877161 non-null  object\n",
      "dtypes: int64(1), object(5)\n",
      "memory usage: 46.8+ MB\n"
     ]
    },
    {
     "data": {
      "text/html": [
       "<div>\n",
       "<style scoped>\n",
       "    .dataframe tbody tr th:only-of-type {\n",
       "        vertical-align: middle;\n",
       "    }\n",
       "\n",
       "    .dataframe tbody tr th {\n",
       "        vertical-align: top;\n",
       "    }\n",
       "\n",
       "    .dataframe thead th {\n",
       "        text-align: right;\n",
       "    }\n",
       "</style>\n",
       "<table border=\"1\" class=\"dataframe\">\n",
       "  <thead>\n",
       "    <tr style=\"text-align: right;\">\n",
       "      <th></th>\n",
       "      <th>count</th>\n",
       "      <th>mean</th>\n",
       "      <th>std</th>\n",
       "      <th>min</th>\n",
       "      <th>25%</th>\n",
       "      <th>50%</th>\n",
       "      <th>75%</th>\n",
       "      <th>max</th>\n",
       "    </tr>\n",
       "  </thead>\n",
       "  <tbody>\n",
       "    <tr>\n",
       "      <th>bd</th>\n",
       "      <td>877161.0</td>\n",
       "      <td>13.453973</td>\n",
       "      <td>20.226865</td>\n",
       "      <td>-3152.0</td>\n",
       "      <td>0.0</td>\n",
       "      <td>0.0</td>\n",
       "      <td>27.0</td>\n",
       "      <td>2016.0</td>\n",
       "    </tr>\n",
       "  </tbody>\n",
       "</table>\n",
       "</div>"
      ],
      "text/plain": [
       "       count       mean        std     min  25%  50%   75%     max\n",
       "bd  877161.0  13.453973  20.226865 -3152.0  0.0  0.0  27.0  2016.0"
      ]
     },
     "execution_count": 6,
     "metadata": {},
     "output_type": "execute_result"
    }
   ],
   "source": [
    "# A quick summary of the members data using .info() and .describe()\n",
    "members.info()\n",
    "members.describe().T"
   ]
  },
  {
   "cell_type": "code",
   "execution_count": 7,
   "id": "c7fa05e2",
   "metadata": {
    "ExecuteTime": {
     "end_time": "2021-05-02T13:14:54.407738Z",
     "start_time": "2021-05-02T13:14:52.306239Z"
    }
   },
   "outputs": [
    {
     "data": {
      "text/html": [
       "<div>\n",
       "<style scoped>\n",
       "    .dataframe tbody tr th:only-of-type {\n",
       "        vertical-align: middle;\n",
       "    }\n",
       "\n",
       "    .dataframe tbody tr th {\n",
       "        vertical-align: top;\n",
       "    }\n",
       "\n",
       "    .dataframe thead th {\n",
       "        text-align: right;\n",
       "    }\n",
       "</style>\n",
       "<table border=\"1\" class=\"dataframe\">\n",
       "  <thead>\n",
       "    <tr style=\"text-align: right;\">\n",
       "      <th></th>\n",
       "      <th>msno</th>\n",
       "      <th>date</th>\n",
       "      <th>num_25</th>\n",
       "      <th>num_50</th>\n",
       "      <th>num_75</th>\n",
       "      <th>num_985</th>\n",
       "      <th>num_100</th>\n",
       "      <th>num_unq</th>\n",
       "      <th>total_secs</th>\n",
       "    </tr>\n",
       "  </thead>\n",
       "  <tbody>\n",
       "    <tr>\n",
       "      <th>2</th>\n",
       "      <td>yxiEWwE9VR5utpUecLxVdQ5B7NysUPfrNtGINaM2zA8=</td>\n",
       "      <td>20150105</td>\n",
       "      <td>3</td>\n",
       "      <td>3</td>\n",
       "      <td>0</td>\n",
       "      <td>0</td>\n",
       "      <td>68</td>\n",
       "      <td>36</td>\n",
       "      <td>17364.956</td>\n",
       "    </tr>\n",
       "    <tr>\n",
       "      <th>3</th>\n",
       "      <td>yxiEWwE9VR5utpUecLxVdQ5B7NysUPfrNtGINaM2zA8=</td>\n",
       "      <td>20150306</td>\n",
       "      <td>1</td>\n",
       "      <td>0</td>\n",
       "      <td>1</td>\n",
       "      <td>1</td>\n",
       "      <td>97</td>\n",
       "      <td>27</td>\n",
       "      <td>24667.317</td>\n",
       "    </tr>\n",
       "    <tr>\n",
       "      <th>4</th>\n",
       "      <td>yxiEWwE9VR5utpUecLxVdQ5B7NysUPfrNtGINaM2zA8=</td>\n",
       "      <td>20150501</td>\n",
       "      <td>3</td>\n",
       "      <td>0</td>\n",
       "      <td>0</td>\n",
       "      <td>0</td>\n",
       "      <td>38</td>\n",
       "      <td>38</td>\n",
       "      <td>9649.029</td>\n",
       "    </tr>\n",
       "    <tr>\n",
       "      <th>5</th>\n",
       "      <td>yxiEWwE9VR5utpUecLxVdQ5B7NysUPfrNtGINaM2zA8=</td>\n",
       "      <td>20150702</td>\n",
       "      <td>4</td>\n",
       "      <td>0</td>\n",
       "      <td>1</td>\n",
       "      <td>1</td>\n",
       "      <td>33</td>\n",
       "      <td>10</td>\n",
       "      <td>10021.520</td>\n",
       "    </tr>\n",
       "    <tr>\n",
       "      <th>6</th>\n",
       "      <td>yxiEWwE9VR5utpUecLxVdQ5B7NysUPfrNtGINaM2zA8=</td>\n",
       "      <td>20150830</td>\n",
       "      <td>3</td>\n",
       "      <td>1</td>\n",
       "      <td>0</td>\n",
       "      <td>0</td>\n",
       "      <td>4</td>\n",
       "      <td>7</td>\n",
       "      <td>1119.555</td>\n",
       "    </tr>\n",
       "  </tbody>\n",
       "</table>\n",
       "</div>"
      ],
      "text/plain": [
       "                                           msno      date  num_25  num_50  \\\n",
       "2  yxiEWwE9VR5utpUecLxVdQ5B7NysUPfrNtGINaM2zA8=  20150105       3       3   \n",
       "3  yxiEWwE9VR5utpUecLxVdQ5B7NysUPfrNtGINaM2zA8=  20150306       1       0   \n",
       "4  yxiEWwE9VR5utpUecLxVdQ5B7NysUPfrNtGINaM2zA8=  20150501       3       0   \n",
       "5  yxiEWwE9VR5utpUecLxVdQ5B7NysUPfrNtGINaM2zA8=  20150702       4       0   \n",
       "6  yxiEWwE9VR5utpUecLxVdQ5B7NysUPfrNtGINaM2zA8=  20150830       3       1   \n",
       "\n",
       "   num_75  num_985  num_100  num_unq  total_secs  \n",
       "2       0        0       68       36   17364.956  \n",
       "3       1        1       97       27   24667.317  \n",
       "4       0        0       38       38    9649.029  \n",
       "5       1        1       33       10   10021.520  \n",
       "6       0        0        4        7    1119.555  "
      ]
     },
     "execution_count": 7,
     "metadata": {},
     "output_type": "execute_result"
    }
   ],
   "source": [
    "# User logs : number and percentage of listened tracks, total seconds listened aggregated daily\n",
    "user_logs = dd.read_csv(os.path.join(data_dir, 'user_logs_final.csv'))\n",
    "user_logs = user_logs[user_logs[uid].isin(train[uid])]\n",
    "\n",
    "user_logs.head()"
   ]
  },
  {
   "cell_type": "markdown",
   "id": "770c37f5",
   "metadata": {},
   "source": [
    "The previous dataset has the daily user logs, it contains the listening behavior of each user.\n",
    "\n",
    "- **msno**: user id\n",
    "- **date**: format %Y%m%d\n",
    "- **num_25**: number of songs played less than 25% of the song length\n",
    "- **num_50**: number of songs played between 25% to 50% of the song length\n",
    "- **num_75**: number of songs played between 50% to 75% of of the song length\n",
    "- **num_985**: number of songs played between 75% to 98.5% of the song length\n",
    "- **num_100**: number of songs played over 98.5% of the song length\n",
    "- **num_unq**: number of unique songs played\n",
    "- **total_secs**: total seconds played"
   ]
  },
  {
   "cell_type": "code",
   "execution_count": null,
   "id": "98787450",
   "metadata": {
    "ExecuteTime": {
     "start_time": "2021-05-02T12:15:31.598Z"
    }
   },
   "outputs": [],
   "source": [
    "summary_user_logs = user_logs.describe().compute()"
   ]
  },
  {
   "cell_type": "code",
   "execution_count": 8,
   "id": "4af454b4",
   "metadata": {
    "ExecuteTime": {
     "end_time": "2021-05-02T13:15:54.049997Z",
     "start_time": "2021-05-02T13:14:54.411505Z"
    }
   },
   "outputs": [
    {
     "data": {
      "text/html": [
       "<div>\n",
       "<style scoped>\n",
       "    .dataframe tbody tr th:only-of-type {\n",
       "        vertical-align: middle;\n",
       "    }\n",
       "\n",
       "    .dataframe tbody tr th {\n",
       "        vertical-align: top;\n",
       "    }\n",
       "\n",
       "    .dataframe thead th {\n",
       "        text-align: right;\n",
       "    }\n",
       "</style>\n",
       "<table border=\"1\" class=\"dataframe\">\n",
       "  <thead>\n",
       "    <tr style=\"text-align: right;\">\n",
       "      <th></th>\n",
       "      <th>msno</th>\n",
       "      <th>payment_method_id</th>\n",
       "      <th>payment_plan_days</th>\n",
       "      <th>plan_list_price</th>\n",
       "      <th>actual_amount_paid</th>\n",
       "      <th>is_auto_renew</th>\n",
       "      <th>transaction_date</th>\n",
       "      <th>membership_expire_date</th>\n",
       "      <th>is_cancel</th>\n",
       "    </tr>\n",
       "  </thead>\n",
       "  <tbody>\n",
       "    <tr>\n",
       "      <th>0</th>\n",
       "      <td>ilnvctpFS1yQreLvFtfwzcy61RCqp1lqMjE+Fa3Makk=</td>\n",
       "      <td>41</td>\n",
       "      <td>30</td>\n",
       "      <td>149</td>\n",
       "      <td>149</td>\n",
       "      <td>1</td>\n",
       "      <td>20150101</td>\n",
       "      <td>20150201</td>\n",
       "      <td>0</td>\n",
       "    </tr>\n",
       "    <tr>\n",
       "      <th>1</th>\n",
       "      <td>mcQZRmsTjR/tzXhmCjRzTF8lOrP9X0WtfkK9FMs+EHU=</td>\n",
       "      <td>41</td>\n",
       "      <td>30</td>\n",
       "      <td>149</td>\n",
       "      <td>119</td>\n",
       "      <td>1</td>\n",
       "      <td>20150101</td>\n",
       "      <td>20150209</td>\n",
       "      <td>0</td>\n",
       "    </tr>\n",
       "    <tr>\n",
       "      <th>2</th>\n",
       "      <td>Vz6kFWULqt09djZYvvNTLPnulpBlulo2vXJ73sZGZmM=</td>\n",
       "      <td>40</td>\n",
       "      <td>31</td>\n",
       "      <td>149</td>\n",
       "      <td>149</td>\n",
       "      <td>1</td>\n",
       "      <td>20150101</td>\n",
       "      <td>20150131</td>\n",
       "      <td>0</td>\n",
       "    </tr>\n",
       "    <tr>\n",
       "      <th>3</th>\n",
       "      <td>KfY3ZJnGibtcGyENN6rIoezc4iX5iYJDLCwhkDL2IZw=</td>\n",
       "      <td>40</td>\n",
       "      <td>31</td>\n",
       "      <td>149</td>\n",
       "      <td>149</td>\n",
       "      <td>1</td>\n",
       "      <td>20150101</td>\n",
       "      <td>20150201</td>\n",
       "      <td>0</td>\n",
       "    </tr>\n",
       "    <tr>\n",
       "      <th>4</th>\n",
       "      <td>WTPUh0+3NKZc6Ey8S8bYHfYIdWpRdLGNKVq2ae98nP0=</td>\n",
       "      <td>40</td>\n",
       "      <td>31</td>\n",
       "      <td>149</td>\n",
       "      <td>149</td>\n",
       "      <td>1</td>\n",
       "      <td>20150101</td>\n",
       "      <td>20150202</td>\n",
       "      <td>0</td>\n",
       "    </tr>\n",
       "  </tbody>\n",
       "</table>\n",
       "</div>"
      ],
      "text/plain": [
       "                                           msno  payment_method_id  \\\n",
       "0  ilnvctpFS1yQreLvFtfwzcy61RCqp1lqMjE+Fa3Makk=                 41   \n",
       "1  mcQZRmsTjR/tzXhmCjRzTF8lOrP9X0WtfkK9FMs+EHU=                 41   \n",
       "2  Vz6kFWULqt09djZYvvNTLPnulpBlulo2vXJ73sZGZmM=                 40   \n",
       "3  KfY3ZJnGibtcGyENN6rIoezc4iX5iYJDLCwhkDL2IZw=                 40   \n",
       "4  WTPUh0+3NKZc6Ey8S8bYHfYIdWpRdLGNKVq2ae98nP0=                 40   \n",
       "\n",
       "   payment_plan_days  plan_list_price  actual_amount_paid  is_auto_renew  \\\n",
       "0                 30              149                 149              1   \n",
       "1                 30              149                 119              1   \n",
       "2                 31              149                 149              1   \n",
       "3                 31              149                 149              1   \n",
       "4                 31              149                 149              1   \n",
       "\n",
       "   transaction_date  membership_expire_date  is_cancel  \n",
       "0          20150101                20150201          0  \n",
       "1          20150101                20150209          0  \n",
       "2          20150101                20150131          0  \n",
       "3          20150101                20150201          0  \n",
       "4          20150101                20150202          0  "
      ]
     },
     "execution_count": 8,
     "metadata": {},
     "output_type": "execute_result"
    }
   ],
   "source": [
    "# Transaction data : subscription and cancel data, amount paid and length of membership in days\n",
    "transactions = pd.concat([pd.read_csv(os.path.join(data_dir, 'transactions.csv')), pd.read_csv(os.path.join(data_dir, 'transactions_v2.csv'))])\n",
    "\n",
    "# Since the training data is for the month of January, we only select data up to the 28th February for exploration\n",
    "transactions = transactions[(transactions.transaction_date <= 20170228) & (transactions[uid].isin(train[uid]))]\n",
    "transactions.sort_values('transaction_date', inplace=True)\n",
    "transactions.reset_index(drop=True, inplace=True)\n",
    "\n",
    "transactions.head()"
   ]
  },
  {
   "cell_type": "markdown",
   "id": "e7d3d0d1",
   "metadata": {},
   "source": [
    "The previous dataset contains the transactions history (both subscription and cancel transactions)\n",
    "\n",
    "- **msno**: user id\n",
    "- **payment_method_id**: payment method\n",
    "- **payment_plan_days**: length of membership plan in days\n",
    "- **plan_list_price**: in New Taiwan Dollar (NTD)\n",
    "- **actual_amount_paid**: in New Taiwan Dollar (NTD)\n",
    "- **is_auto_renew**\n",
    "- **transaction_date**: format %Y%m%d\n",
    "- **membership_expire_date**: format %Y%m%d\n",
    "- **is_cancel**: whether or not the user canceled the membership in this transaction."
   ]
  },
  {
   "cell_type": "code",
   "execution_count": 9,
   "id": "a80ca77a",
   "metadata": {
    "ExecuteTime": {
     "end_time": "2021-05-02T13:15:55.028936Z",
     "start_time": "2021-05-02T13:15:54.052380Z"
    }
   },
   "outputs": [
    {
     "name": "stdout",
     "output_type": "stream",
     "text": [
      "<class 'pandas.core.frame.DataFrame'>\n",
      "RangeIndex: 16072542 entries, 0 to 16072541\n",
      "Data columns (total 9 columns):\n",
      " #   Column                  Dtype \n",
      "---  ------                  ----- \n",
      " 0   msno                    object\n",
      " 1   payment_method_id       int64 \n",
      " 2   payment_plan_days       int64 \n",
      " 3   plan_list_price         int64 \n",
      " 4   actual_amount_paid      int64 \n",
      " 5   is_auto_renew           int64 \n",
      " 6   transaction_date        int64 \n",
      " 7   membership_expire_date  int64 \n",
      " 8   is_cancel               int64 \n",
      "dtypes: int64(8), object(1)\n",
      "memory usage: 1.1+ GB\n"
     ]
    },
    {
     "data": {
      "text/html": [
       "<div>\n",
       "<style scoped>\n",
       "    .dataframe tbody tr th:only-of-type {\n",
       "        vertical-align: middle;\n",
       "    }\n",
       "\n",
       "    .dataframe tbody tr th {\n",
       "        vertical-align: top;\n",
       "    }\n",
       "\n",
       "    .dataframe thead th {\n",
       "        text-align: right;\n",
       "    }\n",
       "</style>\n",
       "<table border=\"1\" class=\"dataframe\">\n",
       "  <thead>\n",
       "    <tr style=\"text-align: right;\">\n",
       "      <th></th>\n",
       "      <th>count</th>\n",
       "      <th>mean</th>\n",
       "      <th>std</th>\n",
       "      <th>min</th>\n",
       "      <th>25%</th>\n",
       "      <th>50%</th>\n",
       "      <th>75%</th>\n",
       "      <th>max</th>\n",
       "    </tr>\n",
       "  </thead>\n",
       "  <tbody>\n",
       "    <tr>\n",
       "      <th>plan_list_price</th>\n",
       "      <td>16072542.0</td>\n",
       "      <td>132.478276</td>\n",
       "      <td>79.543314</td>\n",
       "      <td>0.0</td>\n",
       "      <td>99.0</td>\n",
       "      <td>149.0</td>\n",
       "      <td>149.0</td>\n",
       "      <td>2000.0</td>\n",
       "    </tr>\n",
       "    <tr>\n",
       "      <th>actual_amount_paid</th>\n",
       "      <td>16072542.0</td>\n",
       "      <td>136.998733</td>\n",
       "      <td>76.347247</td>\n",
       "      <td>0.0</td>\n",
       "      <td>99.0</td>\n",
       "      <td>149.0</td>\n",
       "      <td>149.0</td>\n",
       "      <td>2000.0</td>\n",
       "    </tr>\n",
       "  </tbody>\n",
       "</table>\n",
       "</div>"
      ],
      "text/plain": [
       "                         count        mean        std  min   25%    50%  \\\n",
       "plan_list_price     16072542.0  132.478276  79.543314  0.0  99.0  149.0   \n",
       "actual_amount_paid  16072542.0  136.998733  76.347247  0.0  99.0  149.0   \n",
       "\n",
       "                      75%     max  \n",
       "plan_list_price     149.0  2000.0  \n",
       "actual_amount_paid  149.0  2000.0  "
      ]
     },
     "execution_count": 9,
     "metadata": {},
     "output_type": "execute_result"
    }
   ],
   "source": [
    "# A quick summary of the transactions data using .info() and .describe()\n",
    "transactions.info()\n",
    "transactions[['plan_list_price', 'actual_amount_paid']].describe().T"
   ]
  },
  {
   "cell_type": "markdown",
   "id": "edc3243f",
   "metadata": {
    "ExecuteTime": {
     "end_time": "2021-05-01T16:31:11.071870Z",
     "start_time": "2021-05-01T16:31:11.068529Z"
    }
   },
   "source": [
    "# Data Cleaning"
   ]
  },
  {
   "cell_type": "markdown",
   "id": "1f67bc36",
   "metadata": {
    "ExecuteTime": {
     "end_time": "2021-05-01T17:04:33.502140Z",
     "start_time": "2021-05-01T17:04:33.498888Z"
    }
   },
   "source": [
    "## Null Values Handling"
   ]
  },
  {
   "cell_type": "markdown",
   "id": "9e913ffd",
   "metadata": {
    "ExecuteTime": {
     "end_time": "2021-05-02T12:18:32.562377Z",
     "start_time": "2021-05-02T12:18:32.559825Z"
    }
   },
   "source": [
    "### Members data"
   ]
  },
  {
   "cell_type": "code",
   "execution_count": 10,
   "id": "7f7fa298",
   "metadata": {
    "ExecuteTime": {
     "end_time": "2021-05-02T13:15:55.295995Z",
     "start_time": "2021-05-02T13:15:55.032309Z"
    },
    "scrolled": true
   },
   "outputs": [
    {
     "data": {
      "text/html": [
       "<div>\n",
       "<style scoped>\n",
       "    .dataframe tbody tr th:only-of-type {\n",
       "        vertical-align: middle;\n",
       "    }\n",
       "\n",
       "    .dataframe tbody tr th {\n",
       "        vertical-align: top;\n",
       "    }\n",
       "\n",
       "    .dataframe thead th {\n",
       "        text-align: right;\n",
       "    }\n",
       "</style>\n",
       "<table border=\"1\" class=\"dataframe\">\n",
       "  <thead>\n",
       "    <tr style=\"text-align: right;\">\n",
       "      <th></th>\n",
       "      <th>null_mean</th>\n",
       "      <th>null_sum</th>\n",
       "    </tr>\n",
       "  </thead>\n",
       "  <tbody>\n",
       "    <tr>\n",
       "      <th>msno</th>\n",
       "      <td>0.000000</td>\n",
       "      <td>0.0</td>\n",
       "    </tr>\n",
       "    <tr>\n",
       "      <th>city</th>\n",
       "      <td>0.000000</td>\n",
       "      <td>0.0</td>\n",
       "    </tr>\n",
       "    <tr>\n",
       "      <th>bd</th>\n",
       "      <td>0.000000</td>\n",
       "      <td>0.0</td>\n",
       "    </tr>\n",
       "    <tr>\n",
       "      <th>gender</th>\n",
       "      <td>0.553455</td>\n",
       "      <td>485469.0</td>\n",
       "    </tr>\n",
       "    <tr>\n",
       "      <th>registered_via</th>\n",
       "      <td>0.000000</td>\n",
       "      <td>0.0</td>\n",
       "    </tr>\n",
       "    <tr>\n",
       "      <th>registration_init_time</th>\n",
       "      <td>0.000000</td>\n",
       "      <td>0.0</td>\n",
       "    </tr>\n",
       "  </tbody>\n",
       "</table>\n",
       "</div>"
      ],
      "text/plain": [
       "                        null_mean  null_sum\n",
       "msno                     0.000000       0.0\n",
       "city                     0.000000       0.0\n",
       "bd                       0.000000       0.0\n",
       "gender                   0.553455  485469.0\n",
       "registered_via           0.000000       0.0\n",
       "registration_init_time   0.000000       0.0"
      ]
     },
     "execution_count": 10,
     "metadata": {},
     "output_type": "execute_result"
    }
   ],
   "source": [
    "members.isnull().agg(['mean', 'sum']).T.add_prefix('null_')"
   ]
  },
  {
   "cell_type": "markdown",
   "id": "bc92c65c",
   "metadata": {},
   "source": [
    "We can see that **more than half** of the '**gender**' column contains null values. Since it might be a good feature of our model, it might be better to fill the values.\n",
    "\n",
    "Since it is a <ins>categorical</ins> variable, we'll use the **mode** as a *filling value*."
   ]
  },
  {
   "cell_type": "code",
   "execution_count": 11,
   "id": "1a7298ec",
   "metadata": {
    "ExecuteTime": {
     "end_time": "2021-05-02T13:15:55.387364Z",
     "start_time": "2021-05-02T13:15:55.298637Z"
    }
   },
   "outputs": [],
   "source": [
    "members['gender'].fillna(members['gender'].mode()[0], inplace=True)"
   ]
  },
  {
   "cell_type": "markdown",
   "id": "14e66938",
   "metadata": {
    "ExecuteTime": {
     "end_time": "2021-05-02T12:18:40.191400Z",
     "start_time": "2021-05-02T12:18:40.188393Z"
    }
   },
   "source": [
    "### Transactions Data"
   ]
  },
  {
   "cell_type": "code",
   "execution_count": 12,
   "id": "b3bb9a5d",
   "metadata": {
    "ExecuteTime": {
     "end_time": "2021-05-02T13:15:58.251861Z",
     "start_time": "2021-05-02T13:15:55.390021Z"
    }
   },
   "outputs": [
    {
     "data": {
      "text/html": [
       "<div>\n",
       "<style scoped>\n",
       "    .dataframe tbody tr th:only-of-type {\n",
       "        vertical-align: middle;\n",
       "    }\n",
       "\n",
       "    .dataframe tbody tr th {\n",
       "        vertical-align: top;\n",
       "    }\n",
       "\n",
       "    .dataframe thead th {\n",
       "        text-align: right;\n",
       "    }\n",
       "</style>\n",
       "<table border=\"1\" class=\"dataframe\">\n",
       "  <thead>\n",
       "    <tr style=\"text-align: right;\">\n",
       "      <th></th>\n",
       "      <th>null_mean</th>\n",
       "      <th>null_sum</th>\n",
       "    </tr>\n",
       "  </thead>\n",
       "  <tbody>\n",
       "    <tr>\n",
       "      <th>msno</th>\n",
       "      <td>0.0</td>\n",
       "      <td>0.0</td>\n",
       "    </tr>\n",
       "    <tr>\n",
       "      <th>payment_method_id</th>\n",
       "      <td>0.0</td>\n",
       "      <td>0.0</td>\n",
       "    </tr>\n",
       "    <tr>\n",
       "      <th>payment_plan_days</th>\n",
       "      <td>0.0</td>\n",
       "      <td>0.0</td>\n",
       "    </tr>\n",
       "    <tr>\n",
       "      <th>plan_list_price</th>\n",
       "      <td>0.0</td>\n",
       "      <td>0.0</td>\n",
       "    </tr>\n",
       "    <tr>\n",
       "      <th>actual_amount_paid</th>\n",
       "      <td>0.0</td>\n",
       "      <td>0.0</td>\n",
       "    </tr>\n",
       "    <tr>\n",
       "      <th>is_auto_renew</th>\n",
       "      <td>0.0</td>\n",
       "      <td>0.0</td>\n",
       "    </tr>\n",
       "    <tr>\n",
       "      <th>transaction_date</th>\n",
       "      <td>0.0</td>\n",
       "      <td>0.0</td>\n",
       "    </tr>\n",
       "    <tr>\n",
       "      <th>membership_expire_date</th>\n",
       "      <td>0.0</td>\n",
       "      <td>0.0</td>\n",
       "    </tr>\n",
       "    <tr>\n",
       "      <th>is_cancel</th>\n",
       "      <td>0.0</td>\n",
       "      <td>0.0</td>\n",
       "    </tr>\n",
       "  </tbody>\n",
       "</table>\n",
       "</div>"
      ],
      "text/plain": [
       "                        null_mean  null_sum\n",
       "msno                          0.0       0.0\n",
       "payment_method_id             0.0       0.0\n",
       "payment_plan_days             0.0       0.0\n",
       "plan_list_price               0.0       0.0\n",
       "actual_amount_paid            0.0       0.0\n",
       "is_auto_renew                 0.0       0.0\n",
       "transaction_date              0.0       0.0\n",
       "membership_expire_date        0.0       0.0\n",
       "is_cancel                     0.0       0.0"
      ]
     },
     "execution_count": 12,
     "metadata": {},
     "output_type": "execute_result"
    }
   ],
   "source": [
    "transactions.isnull().agg(['mean', 'sum']).T.add_prefix('null_')"
   ]
  },
  {
   "cell_type": "markdown",
   "id": "ece17e2d",
   "metadata": {},
   "source": [
    "There are no null values in the transactions dataset."
   ]
  },
  {
   "cell_type": "markdown",
   "id": "3eb48f02",
   "metadata": {},
   "source": [
    "### User Logs Data"
   ]
  },
  {
   "cell_type": "markdown",
   "id": "64b9f684",
   "metadata": {},
   "source": [
    "Since the user logs dataset is quite large, I will be loading it in chunks and checking for each chunk the number of null values."
   ]
  },
  {
   "cell_type": "code",
   "execution_count": 13,
   "id": "6c1b7db4",
   "metadata": {
    "ExecuteTime": {
     "end_time": "2021-05-02T13:15:58.258702Z",
     "start_time": "2021-05-02T13:15:58.254238Z"
    }
   },
   "outputs": [],
   "source": [
    "user_logs_iterator = pd.read_csv(os.path.join(data_dir, 'user_logs_final.csv'), chunksize=200000)"
   ]
  },
  {
   "cell_type": "code",
   "execution_count": 14,
   "id": "fc2a77df",
   "metadata": {
    "ExecuteTime": {
     "end_time": "2021-05-02T13:15:58.452803Z",
     "start_time": "2021-05-02T13:15:58.261370Z"
    }
   },
   "outputs": [],
   "source": [
    "first_chunk = next(user_logs_iterator)"
   ]
  },
  {
   "cell_type": "code",
   "execution_count": 17,
   "id": "5ac67cb8",
   "metadata": {
    "ExecuteTime": {
     "end_time": "2021-05-02T13:16:30.382441Z",
     "start_time": "2021-05-02T13:16:30.363112Z"
    }
   },
   "outputs": [
    {
     "data": {
      "text/plain": [
       "msno          0\n",
       "date          0\n",
       "num_25        0\n",
       "num_50        0\n",
       "num_75        0\n",
       "num_985       0\n",
       "num_100       0\n",
       "num_unq       0\n",
       "total_secs    0\n",
       "dtype: int64"
      ]
     },
     "execution_count": 17,
     "metadata": {},
     "output_type": "execute_result"
    }
   ],
   "source": [
    "first_chunk.isnull().sum()"
   ]
  },
  {
   "cell_type": "code",
   "execution_count": 16,
   "id": "d36f193a",
   "metadata": {
    "ExecuteTime": {
     "end_time": "2021-05-02T13:16:10.930487Z",
     "start_time": "2021-05-02T13:16:10.308373Z"
    }
   },
   "outputs": [
    {
     "name": "stdout",
     "output_type": "stream",
     "text": [
      "RangeIndex(start=200000, stop=400000, step=1)\n"
     ]
    }
   ],
   "source": [
    "for chunk in user_logs_iterator:\n",
    "    print(chunk.isnull().mean())\n",
    "    break"
   ]
  },
  {
   "cell_type": "code",
   "execution_count": null,
   "id": "b4e16858",
   "metadata": {},
   "outputs": [],
   "source": []
  }
 ],
 "metadata": {
  "kernelspec": {
   "display_name": "Python 3",
   "language": "python",
   "name": "python3"
  },
  "language_info": {
   "codemirror_mode": {
    "name": "ipython",
    "version": 3
   },
   "file_extension": ".py",
   "mimetype": "text/x-python",
   "name": "python",
   "nbconvert_exporter": "python",
   "pygments_lexer": "ipython3",
   "version": "3.7.10"
  },
  "toc": {
   "base_numbering": 1,
   "nav_menu": {},
   "number_sections": true,
   "sideBar": true,
   "skip_h1_title": false,
   "title_cell": "Table of Contents",
   "title_sidebar": "Contents",
   "toc_cell": true,
   "toc_position": {
    "height": "calc(100% - 180px)",
    "left": "10px",
    "top": "150px",
    "width": "181px"
   },
   "toc_section_display": true,
   "toc_window_display": true
  }
 },
 "nbformat": 4,
 "nbformat_minor": 5
}
