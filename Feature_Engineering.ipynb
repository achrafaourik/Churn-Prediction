{
 "cells": [
  {
   "cell_type": "markdown",
   "id": "346e2250",
   "metadata": {
    "pycharm": {
     "name": "#%% md\n"
    },
    "toc": true
   },
   "source": [
    "<h1>Table of Contents<span class=\"tocSkip\"></span></h1>\n",
    "<div class=\"toc\"><ul class=\"toc-item\"><li><span><a href=\"#Introduction\" data-toc-modified-id=\"Introduction-1\"><span class=\"toc-item-num\">1&nbsp;&nbsp;</span>Introduction</a></span></li><li><span><a href=\"#Library-imports\" data-toc-modified-id=\"Library-imports-2\"><span class=\"toc-item-num\">2&nbsp;&nbsp;</span>Library imports</a></span></li><li><span><a href=\"#Feature-Engineering\" data-toc-modified-id=\"Feature-Engineering-3\"><span class=\"toc-item-num\">3&nbsp;&nbsp;</span>Feature Engineering</a></span><ul class=\"toc-item\"><li><span><a href=\"#User-Logs-Features\" data-toc-modified-id=\"User-Logs-Features-3.1\"><span class=\"toc-item-num\">3.1&nbsp;&nbsp;</span>User Logs Features</a></span></li><li><span><a href=\"#Transactions-Features\" data-toc-modified-id=\"Transactions-Features-3.2\"><span class=\"toc-item-num\">3.2&nbsp;&nbsp;</span>Transactions Features</a></span></li><li><span><a href=\"#Members-Features\" data-toc-modified-id=\"Members-Features-3.3\"><span class=\"toc-item-num\">3.3&nbsp;&nbsp;</span>Members Features</a></span></li></ul></li><li><span><a href=\"#Merging-Features\" data-toc-modified-id=\"Merging-Features-4\"><span class=\"toc-item-num\">4&nbsp;&nbsp;</span>Merging Features</a></span></li></ul></div>"
   ]
  },
  {
   "cell_type": "markdown",
   "id": "c73b930a",
   "metadata": {
    "pycharm": {
     "name": "#%% md\n"
    }
   },
   "source": [
    "# Introduction"
   ]
  },
  {
   "cell_type": "markdown",
   "id": "15e0d361",
   "metadata": {
    "pycharm": {
     "name": "#%% md\n"
    }
   },
   "source": [
    "[(Back to top)](#Table-of-Contents)"
   ]
  },
  {
   "cell_type": "markdown",
   "id": "5a4eb59f",
   "metadata": {
    "pycharm": {
     "name": "#%% md\n"
    }
   },
   "source": [
    "Feature engineering is a very integral part of the machine learning process, it comes after the data pre-processing and cleaning steps.\n",
    "\n",
    "After having a clean data, we use it to generate features or input variables that the model will use to find correlations and patterns between these variables and the target variable that we want to predict.\n",
    "\n",
    "The features in this use case are engineered relative to dates selected in the past, meaning that for each given date, features will only be calculated using the history prior to that date. And thus giving us multiple master tables or multiple snapshots of clients behaviors that vary with time and therefore giving the model more data to train."
   ]
  },
  {
   "cell_type": "markdown",
   "id": "9674ab9c",
   "metadata": {
    "pycharm": {
     "name": "#%% md\n"
    }
   },
   "source": [
    "# Library imports"
   ]
  },
  {
   "cell_type": "markdown",
   "id": "421b1251",
   "metadata": {
    "pycharm": {
     "name": "#%% md\n"
    }
   },
   "source": [
    "[(Back to top)](#Table-of-Contents)"
   ]
  },
  {
   "cell_type": "code",
   "execution_count": 1,
   "id": "dabe7ce7",
   "metadata": {
    "ExecuteTime": {
     "end_time": "2022-05-01T16:31:31.088564Z",
     "start_time": "2022-05-01T16:31:27.308080Z"
    },
    "pycharm": {
     "name": "#%%\n"
    }
   },
   "outputs": [],
   "source": [
    "%matplotlib inline\n",
    "import pandas as pd\n",
    "import matplotlib.pyplot as plt\n",
    "import seaborn as sns\n",
    "import altair as alt\n",
    "import warnings\n",
    "from IPython.core.interactiveshell import InteractiveShell\n",
    "import numpy as np\n",
    "import dask.dataframe as dd\n",
    "import os\n",
    "import itertools\n",
    "import matplotlib.ticker as ticker\n",
    "import vaex\n",
    "from dask.distributed import Client\n",
    "from dask import delayed, compute\n",
    "from datetime import datetime\n",
    "from dateutil.relativedelta import relativedelta\n",
    "from functools import reduce\n",
    "from utils import *\n",
    "alt.renderers.enable('default')\n",
    "InteractiveShell.ast_node_interactivity = \"all\"\n",
    "sns.set_theme(style=\"darkgrid\")\n",
    "warnings.filterwarnings('ignore')\n",
    "sns.set_palette(sns.color_palette(\"Set3\"))\n",
    "client = Client(n_workers=6)\n"
   ]
  },
  {
   "cell_type": "code",
   "execution_count": 2,
   "id": "fd59580b",
   "metadata": {
    "ExecuteTime": {
     "end_time": "2022-05-01T16:31:31.099149Z",
     "start_time": "2022-05-01T16:31:31.091333Z"
    },
    "pycharm": {
     "name": "#%%\n"
    }
   },
   "outputs": [],
   "source": [
    "uid = 'msno'"
   ]
  },
  {
   "cell_type": "code",
   "execution_count": 3,
   "id": "94b7d769",
   "metadata": {
    "ExecuteTime": {
     "end_time": "2022-05-01T16:31:32.219500Z",
     "start_time": "2022-05-01T16:31:31.101495Z"
    },
    "pycharm": {
     "name": "#%%\n"
    },
    "scrolled": true
   },
   "outputs": [
    {
     "data": {
      "text/html": [
       "<div>\n",
       "<style scoped>\n",
       "    .dataframe tbody tr th:only-of-type {\n",
       "        vertical-align: middle;\n",
       "    }\n",
       "\n",
       "    .dataframe tbody tr th {\n",
       "        vertical-align: top;\n",
       "    }\n",
       "\n",
       "    .dataframe thead th {\n",
       "        text-align: right;\n",
       "    }\n",
       "</style>\n",
       "<table border=\"1\" class=\"dataframe\">\n",
       "  <thead>\n",
       "    <tr style=\"text-align: right;\">\n",
       "      <th></th>\n",
       "      <th>msno</th>\n",
       "      <th>is_churn</th>\n",
       "    </tr>\n",
       "  </thead>\n",
       "  <tbody>\n",
       "    <tr>\n",
       "      <th>0</th>\n",
       "      <td>waLDQMmcOu2jLDaV1ddDkgCrB/jl6sD66Xzs0Vqax1Y=</td>\n",
       "      <td>1</td>\n",
       "    </tr>\n",
       "    <tr>\n",
       "      <th>1</th>\n",
       "      <td>QA7uiXy8vIbUSPOkCf9RwQ3FsT8jVq2OxDr8zqa7bRQ=</td>\n",
       "      <td>1</td>\n",
       "    </tr>\n",
       "    <tr>\n",
       "      <th>2</th>\n",
       "      <td>fGwBva6hikQmTJzrbz/2Ezjm5Cth5jZUNvXigKK2AFA=</td>\n",
       "      <td>1</td>\n",
       "    </tr>\n",
       "    <tr>\n",
       "      <th>3</th>\n",
       "      <td>mT5V8rEpa+8wuqi6x0DoVd3H5icMKkE9Prt49UlmK+4=</td>\n",
       "      <td>1</td>\n",
       "    </tr>\n",
       "    <tr>\n",
       "      <th>4</th>\n",
       "      <td>XaPhtGLk/5UvvOYHcONTwsnH97P4eGECeq+BARGItRw=</td>\n",
       "      <td>1</td>\n",
       "    </tr>\n",
       "  </tbody>\n",
       "</table>\n",
       "</div>"
      ],
      "text/plain": [
       "                                           msno is_churn\n",
       "0  waLDQMmcOu2jLDaV1ddDkgCrB/jl6sD66Xzs0Vqax1Y=        1\n",
       "1  QA7uiXy8vIbUSPOkCf9RwQ3FsT8jVq2OxDr8zqa7bRQ=        1\n",
       "2  fGwBva6hikQmTJzrbz/2Ezjm5Cth5jZUNvXigKK2AFA=        1\n",
       "3  mT5V8rEpa+8wuqi6x0DoVd3H5icMKkE9Prt49UlmK+4=        1\n",
       "4  XaPhtGLk/5UvvOYHcONTwsnH97P4eGECeq+BARGItRw=        1"
      ]
     },
     "execution_count": 3,
     "metadata": {},
     "output_type": "execute_result"
    }
   ],
   "source": [
    "# This can be changed to the directory where the datasets are stored\n",
    "data_dir = './data'\n",
    "\n",
    "# Training data for january, contains two columns : user id and binary churn target variable\n",
    "train = pd.read_csv(os.path.join(data_dir, 'train.csv'), dtype={'is_churn': str})\n",
    "\n",
    "train.head()"
   ]
  },
  {
   "cell_type": "markdown",
   "id": "4b2e29e8",
   "metadata": {
    "pycharm": {
     "name": "#%% md\n"
    }
   },
   "source": [
    "# Feature Engineering"
   ]
  },
  {
   "cell_type": "markdown",
   "id": "55b14453",
   "metadata": {
    "pycharm": {
     "name": "#%% md\n"
    }
   },
   "source": [
    "## User Logs Features"
   ]
  },
  {
   "cell_type": "markdown",
   "id": "6a2cfa27",
   "metadata": {
    "pycharm": {
     "name": "#%% md\n"
    }
   },
   "source": [
    "[(Back to top)](#Table-of-Contents)"
   ]
  },
  {
   "cell_type": "markdown",
   "id": "073494f6",
   "metadata": {
    "pycharm": {
     "name": "#%% md\n"
    }
   },
   "source": [
    "In this step of the feature engineering process, we will be using the user logs data to generate features containing information about the listening behavior of the clients.\n",
    "\n",
    "Since the data is very large and cannot fit in the server's memory, I will be using the <a href=\"https://vaex.io/docs/api.html\">vaex</a> library to be able to generate features for such large dataset.\n",
    "\n",
    "I have previously used a python script to **split** the data (that has been provided in the `csv` format) into chunks with a format of `hdf5`."
   ]
  },
  {
   "cell_type": "code",
   "execution_count": 9,
   "id": "5cbd9fab",
   "metadata": {
    "ExecuteTime": {
     "end_time": "2022-04-29T13:11:32.402515Z",
     "start_time": "2022-04-29T13:11:31.166587Z"
    },
    "pycharm": {
     "name": "#%%\n"
    }
   },
   "outputs": [],
   "source": [
    "df = vaex.open('./data/user_logs_split_*.hdf5')"
   ]
  },
  {
   "cell_type": "code",
   "execution_count": 10,
   "id": "0fdfd569",
   "metadata": {
    "ExecuteTime": {
     "end_time": "2022-04-29T13:11:32.431238Z",
     "start_time": "2022-04-29T13:11:32.406442Z"
    },
    "pycharm": {
     "name": "#%%\n"
    },
    "scrolled": true
   },
   "outputs": [
    {
     "data": {
      "text/plain": [
       "'msno'"
      ]
     },
     "execution_count": 10,
     "metadata": {},
     "output_type": "execute_result"
    },
    {
     "data": {
      "text/plain": [
       "'date'"
      ]
     },
     "execution_count": 10,
     "metadata": {},
     "output_type": "execute_result"
    },
    {
     "data": {
      "text/plain": [
       "'num_25'"
      ]
     },
     "execution_count": 10,
     "metadata": {},
     "output_type": "execute_result"
    },
    {
     "data": {
      "text/plain": [
       "'num_50'"
      ]
     },
     "execution_count": 10,
     "metadata": {},
     "output_type": "execute_result"
    },
    {
     "data": {
      "text/plain": [
       "'num_75'"
      ]
     },
     "execution_count": 10,
     "metadata": {},
     "output_type": "execute_result"
    },
    {
     "data": {
      "text/plain": [
       "'num_985'"
      ]
     },
     "execution_count": 10,
     "metadata": {},
     "output_type": "execute_result"
    },
    {
     "data": {
      "text/plain": [
       "'num_100'"
      ]
     },
     "execution_count": 10,
     "metadata": {},
     "output_type": "execute_result"
    },
    {
     "data": {
      "text/plain": [
       "'num_unq'"
      ]
     },
     "execution_count": 10,
     "metadata": {},
     "output_type": "execute_result"
    },
    {
     "data": {
      "text/plain": [
       "'total_secs'"
      ]
     },
     "execution_count": 10,
     "metadata": {},
     "output_type": "execute_result"
    }
   ],
   "source": [
    "# Giving the columns their proper names\n",
    "names = ['msno','date','num_25','num_50','num_75','num_985','num_100','num_unq','total_secs']\n",
    "\n",
    "for i, new_name in enumerate(names):\n",
    "    df.rename(str(i), new_name)"
   ]
  },
  {
   "cell_type": "code",
   "execution_count": 6,
   "id": "5a8fb99a",
   "metadata": {
    "ExecuteTime": {
     "end_time": "2022-04-26T10:38:12.255786Z",
     "start_time": "2022-04-26T10:38:12.109697Z"
    },
    "pycharm": {
     "name": "#%%\n"
    },
    "scrolled": false
   },
   "outputs": [
    {
     "data": {
      "text/html": [
       "<table>\n",
       "<thead>\n",
       "<tr><th>#                                      </th><th>msno                                          </th><th>date    </th><th>num_25  </th><th>num_50  </th><th>num_75  </th><th>num_985  </th><th>num_100  </th><th>num_unq  </th><th>total_secs        </th><th>date_formatted                  </th></tr>\n",
       "</thead>\n",
       "<tbody>\n",
       "<tr><td><i style='opacity: 0.6'>0</i>          </td><td>&#x27;rxIP2f2aN0rYNp+toI0Obt/N/FYQX8hcO1fTmmy2h34=&#x27;</td><td>20150513</td><td>0       </td><td>0       </td><td>0       </td><td>0        </td><td>1        </td><td>1        </td><td>280.335           </td><td>Timestamp(&#x27;2015-05-13 00:00:00&#x27;)</td></tr>\n",
       "<tr><td><i style='opacity: 0.6'>1</i>          </td><td>&#x27;rxIP2f2aN0rYNp+toI0Obt/N/FYQX8hcO1fTmmy2h34=&#x27;</td><td>20150709</td><td>9       </td><td>1       </td><td>0       </td><td>0        </td><td>7        </td><td>11       </td><td>1658.9479999999999</td><td>Timestamp(&#x27;2015-07-09 00:00:00&#x27;)</td></tr>\n",
       "<tr><td><i style='opacity: 0.6'>2</i>          </td><td>&#x27;yxiEWwE9VR5utpUecLxVdQ5B7NysUPfrNtGINaM2zA8=&#x27;</td><td>20150105</td><td>3       </td><td>3       </td><td>0       </td><td>0        </td><td>68       </td><td>36       </td><td>17364.956000000002</td><td>Timestamp(&#x27;2015-01-05 00:00:00&#x27;)</td></tr>\n",
       "<tr><td><i style='opacity: 0.6'>3</i>          </td><td>&#x27;yxiEWwE9VR5utpUecLxVdQ5B7NysUPfrNtGINaM2zA8=&#x27;</td><td>20150306</td><td>1       </td><td>0       </td><td>1       </td><td>1        </td><td>97       </td><td>27       </td><td>24667.317000000003</td><td>Timestamp(&#x27;2015-03-06 00:00:00&#x27;)</td></tr>\n",
       "<tr><td><i style='opacity: 0.6'>4</i>          </td><td>&#x27;yxiEWwE9VR5utpUecLxVdQ5B7NysUPfrNtGINaM2zA8=&#x27;</td><td>20150501</td><td>3       </td><td>0       </td><td>0       </td><td>0        </td><td>38       </td><td>38       </td><td>9649.029          </td><td>Timestamp(&#x27;2015-05-01 00:00:00&#x27;)</td></tr>\n",
       "<tr><td>...                                    </td><td>...                                           </td><td>...     </td><td>...     </td><td>...     </td><td>...     </td><td>...      </td><td>...      </td><td>...      </td><td>...               </td><td>...                             </td></tr>\n",
       "<tr><td><i style='opacity: 0.6'>391,865,090</i></td><td>&#x27;ccyBVC3HXqPi7D8GoxT0u3jntamqtPubA9hKhRQUsu0=&#x27;</td><td>20150925</td><td>0       </td><td>1       </td><td>0       </td><td>0        </td><td>1        </td><td>2        </td><td>342.207           </td><td>Timestamp(&#x27;2015-09-25 00:00:00&#x27;)</td></tr>\n",
       "<tr><td><i style='opacity: 0.6'>391,865,091</i></td><td>&#x27;ccyBVC3HXqPi7D8GoxT0u3jntamqtPubA9hKhRQUsu0=&#x27;</td><td>20160216</td><td>12      </td><td>9       </td><td>2       </td><td>0        </td><td>13       </td><td>30       </td><td>4220.209          </td><td>Timestamp(&#x27;2016-02-16 00:00:00&#x27;)</td></tr>\n",
       "<tr><td><i style='opacity: 0.6'>391,865,092</i></td><td>&#x27;ccyBVC3HXqPi7D8GoxT0u3jntamqtPubA9hKhRQUsu0=&#x27;</td><td>20160515</td><td>15      </td><td>9       </td><td>10      </td><td>5        </td><td>15       </td><td>47       </td><td>7300.25           </td><td>Timestamp(&#x27;2016-05-15 00:00:00&#x27;)</td></tr>\n",
       "<tr><td><i style='opacity: 0.6'>391,865,093</i></td><td>&#x27;ccyBVC3HXqPi7D8GoxT0u3jntamqtPubA9hKhRQUsu0=&#x27;</td><td>20160725</td><td>8       </td><td>0       </td><td>0       </td><td>0        </td><td>10       </td><td>13       </td><td>2498.097          </td><td>Timestamp(&#x27;2016-07-25 00:00:00&#x27;)</td></tr>\n",
       "<tr><td><i style='opacity: 0.6'>391,865,094</i></td><td>&#x27;ccyBVC3HXqPi7D8GoxT0u3jntamqtPubA9hKhRQUsu0=&#x27;</td><td>20161005</td><td>0       </td><td>4       </td><td>1       </td><td>1        </td><td>11       </td><td>10       </td><td>3268.739          </td><td>Timestamp(&#x27;2016-10-05 00:00:00&#x27;)</td></tr>\n",
       "</tbody>\n",
       "</table>"
      ],
      "text/plain": [
       "#            msno                                            date      num_25    num_50    num_75    num_985    num_100    num_unq    total_secs          date_formatted\n",
       "0            'rxIP2f2aN0rYNp+toI0Obt/N/FYQX8hcO1fTmmy2h34='  20150513  0         0         0         0          1          1          280.335             Timestamp('2015-05-13 00:00:00')\n",
       "1            'rxIP2f2aN0rYNp+toI0Obt/N/FYQX8hcO1fTmmy2h34='  20150709  9         1         0         0          7          11         1658.9479999999999  Timestamp('2015-07-09 00:00:00')\n",
       "2            'yxiEWwE9VR5utpUecLxVdQ5B7NysUPfrNtGINaM2zA8='  20150105  3         3         0         0          68         36         17364.956000000002  Timestamp('2015-01-05 00:00:00')\n",
       "3            'yxiEWwE9VR5utpUecLxVdQ5B7NysUPfrNtGINaM2zA8='  20150306  1         0         1         1          97         27         24667.317000000003  Timestamp('2015-03-06 00:00:00')\n",
       "4            'yxiEWwE9VR5utpUecLxVdQ5B7NysUPfrNtGINaM2zA8='  20150501  3         0         0         0          38         38         9649.029            Timestamp('2015-05-01 00:00:00')\n",
       "...          ...                                             ...       ...       ...       ...       ...        ...        ...        ...                 ...\n",
       "391,865,090  'ccyBVC3HXqPi7D8GoxT0u3jntamqtPubA9hKhRQUsu0='  20150925  0         1         0         0          1          2          342.207             Timestamp('2015-09-25 00:00:00')\n",
       "391,865,091  'ccyBVC3HXqPi7D8GoxT0u3jntamqtPubA9hKhRQUsu0='  20160216  12        9         2         0          13         30         4220.209            Timestamp('2016-02-16 00:00:00')\n",
       "391,865,092  'ccyBVC3HXqPi7D8GoxT0u3jntamqtPubA9hKhRQUsu0='  20160515  15        9         10        5          15         47         7300.25             Timestamp('2016-05-15 00:00:00')\n",
       "391,865,093  'ccyBVC3HXqPi7D8GoxT0u3jntamqtPubA9hKhRQUsu0='  20160725  8         0         0         0          10         13         2498.097            Timestamp('2016-07-25 00:00:00')\n",
       "391,865,094  'ccyBVC3HXqPi7D8GoxT0u3jntamqtPubA9hKhRQUsu0='  20161005  0         4         1         1          11         10         3268.739            Timestamp('2016-10-05 00:00:00')"
      ]
     },
     "execution_count": 6,
     "metadata": {},
     "output_type": "execute_result"
    }
   ],
   "source": [
    "# The data contains a date column but that's in a format that cannot be handled by vaex\n",
    "# we will need to convert from this format 20160301 to this format 2016-03-01 before converting to datetime type\n",
    "\n",
    "df['year'] = df['date'] // 10000\n",
    "df['month'] = (df['date'] // 100) % 100\n",
    "df['day'] = df['date'] % 100\n",
    "\n",
    "df['year'] = df['year'].astype(str)\n",
    "df['month'] = df['month'].astype(str).str.zfill(2)\n",
    "df['day'] = df['day'].astype(str).str.zfill(2)\n",
    "\n",
    "df['date_formatted'] = df['year'] + '-' + df['month'] + '-' + df['day']\n",
    "df['date_formatted'] = df['date_formatted'].astype('datetime64')\n",
    "\n",
    "df.drop(['year', 'month', 'day'], inplace=True)"
   ]
  },
  {
   "cell_type": "code",
   "execution_count": 7,
   "id": "0ba8e66a",
   "metadata": {
    "ExecuteTime": {
     "end_time": "2022-04-26T10:38:16.459796Z",
     "start_time": "2022-04-26T10:38:16.453586Z"
    },
    "pycharm": {
     "name": "#%%\n"
    }
   },
   "outputs": [],
   "source": [
    "def compute_aggregations_history(df, date_filter=20160201, resolution=\"D\", resolution_value=30, list_aggs=None):\n",
    "    \"\"\"\n",
    "    Filter df by only taking history prior to <date_filter> then generate aggregations each :\n",
    "                                                                            <resolution_value> * <resolution>\n",
    "    :param df: vaex dataframe containing raw data of clients (daily listening behavior of each client)\n",
    "    :param date_filter: filter date, only take instances having a date inferior to this\n",
    "    :param resolution: datetime frequency of aggregations\n",
    "    :param resolution_value: number of units of <resolution> to take\n",
    "    :param list_aggs: dictionary mapping the name of the output column to the aggregation to perform\n",
    "    :return: pandas df containing aggregations performed\n",
    "    \"\"\"\n",
    "    if list_aggs is None:\n",
    "        list_aggs = []\n",
    "    df_filtered = df[df.date <= date_filter]\n",
    "    return df_filtered.groupby(['msno', vaex.BinnerTime(df_filtered['date_formatted'],\n",
    "                                               resolution=resolution,\n",
    "                                               every=resolution_value)]).agg(*list_aggs).to_pandas_df()\n"
   ]
  },
  {
   "cell_type": "code",
   "execution_count": 4,
   "id": "86fa7bed",
   "metadata": {
    "ExecuteTime": {
     "end_time": "2022-04-30T13:16:25.526941Z",
     "start_time": "2022-04-30T13:16:25.521960Z"
    },
    "pycharm": {
     "name": "#%%\n"
    }
   },
   "outputs": [],
   "source": [
    "def aggregate_user_logs_history(df, date_filter):\n",
    "    \"\"\"\n",
    "    Perform aggregations per client on their history prior to a given date.\n",
    "    :param df: vaex dataframe containing raw data of clients (daily listening behavior of each client)\n",
    "    :param date_filter: filter date, only take instances having a date inferior to this\n",
    "    :return: pandas df containing aggregations performed\n",
    "    \"\"\"\n",
    "    df_filtered = df[df.date < date_filter ]\n",
    "    res = df_filtered.groupby(df_filtered.msno,\n",
    "                          agg=[vaex.agg.sum('total_secs'), vaex.agg.mean('total_secs'), \n",
    "                               vaex.agg.std('total_secs'), vaex.agg.sum('num_unq'),\n",
    "                               vaex.agg.mean('num_unq'), vaex.agg.std('num_unq'),\n",
    "                               vaex.agg.count('msno')]).to_pandas_df()\n",
    "    res['date_pred'] = date_filter // 100\n",
    "    return res"
   ]
  },
  {
   "cell_type": "code",
   "execution_count": 8,
   "id": "2eac5f10",
   "metadata": {
    "ExecuteTime": {
     "end_time": "2022-04-26T10:38:26.498486Z",
     "start_time": "2022-04-26T10:38:26.494121Z"
    },
    "pycharm": {
     "name": "#%%\n"
    }
   },
   "outputs": [],
   "source": [
    "# Testing the function created on a sample \n",
    "sample = df[:10000000]"
   ]
  },
  {
   "cell_type": "code",
   "execution_count": 9,
   "id": "41b1f401",
   "metadata": {
    "ExecuteTime": {
     "end_time": "2022-04-16T16:31:44.853495Z",
     "start_time": "2022-04-16T16:31:12.336702Z"
    },
    "pycharm": {
     "name": "#%%\n"
    }
   },
   "outputs": [],
   "source": [
    "# This is an example of calculating the features total seconds and average seconds of songs listened\n",
    "# every 6 months for each client (this is only computed using the sample and not the whole dataset)\n",
    "res = compute_aggregations_history(sample, 20160603, \"M\", 6, [{'total_seconds_6_months': vaex.agg.sum(sample.total_secs),\n",
    "           'avg_seconds_6_months': vaex.agg.mean(sample.total_secs)}])"
   ]
  },
  {
   "cell_type": "code",
   "execution_count": 10,
   "id": "ef8738a5",
   "metadata": {
    "ExecuteTime": {
     "end_time": "2022-04-16T16:31:44.867739Z",
     "start_time": "2022-04-16T16:31:44.855465Z"
    },
    "pycharm": {
     "name": "#%%\n"
    }
   },
   "outputs": [
    {
     "data": {
      "text/html": [
       "<div>\n",
       "<style scoped>\n",
       "    .dataframe tbody tr th:only-of-type {\n",
       "        vertical-align: middle;\n",
       "    }\n",
       "\n",
       "    .dataframe tbody tr th {\n",
       "        vertical-align: top;\n",
       "    }\n",
       "\n",
       "    .dataframe thead th {\n",
       "        text-align: right;\n",
       "    }\n",
       "</style>\n",
       "<table border=\"1\" class=\"dataframe\">\n",
       "  <thead>\n",
       "    <tr style=\"text-align: right;\">\n",
       "      <th></th>\n",
       "      <th>msno</th>\n",
       "      <th>date_formatted</th>\n",
       "      <th>total_seconds_6_months</th>\n",
       "      <th>avg_seconds_6_months</th>\n",
       "    </tr>\n",
       "  </thead>\n",
       "  <tbody>\n",
       "    <tr>\n",
       "      <th>0</th>\n",
       "      <td>V5gendGLIUHUEI9hglLiWprbX62M9dVKxHz6Nqr6rYk=</td>\n",
       "      <td>2015-06-01</td>\n",
       "      <td>3204.518</td>\n",
       "      <td>3204.518</td>\n",
       "    </tr>\n",
       "    <tr>\n",
       "      <th>1</th>\n",
       "      <td>V5gendGLIUHUEI9hglLiWprbX62M9dVKxHz6Nqr6rYk=</td>\n",
       "      <td>2015-12-01</td>\n",
       "      <td>1396.129</td>\n",
       "      <td>1396.129</td>\n",
       "    </tr>\n",
       "    <tr>\n",
       "      <th>2</th>\n",
       "      <td>w5TmRNc/J/33Oz+x4Ur23N1tCgqsC/It4u83vW5rpEw=</td>\n",
       "      <td>2014-12-01</td>\n",
       "      <td>206.207</td>\n",
       "      <td>206.207</td>\n",
       "    </tr>\n",
       "    <tr>\n",
       "      <th>3</th>\n",
       "      <td>uWz9ubBCh0Y4klpCgPZtstkgF9CRWOq1JAvEuoldU40=</td>\n",
       "      <td>2014-12-01</td>\n",
       "      <td>3745.980</td>\n",
       "      <td>3745.980</td>\n",
       "    </tr>\n",
       "    <tr>\n",
       "      <th>4</th>\n",
       "      <td>uWz9ubBCh0Y4klpCgPZtstkgF9CRWOq1JAvEuoldU40=</td>\n",
       "      <td>2015-06-01</td>\n",
       "      <td>6098.470</td>\n",
       "      <td>3049.235</td>\n",
       "    </tr>\n",
       "    <tr>\n",
       "      <th>5</th>\n",
       "      <td>uWz9ubBCh0Y4klpCgPZtstkgF9CRWOq1JAvEuoldU40=</td>\n",
       "      <td>2015-12-01</td>\n",
       "      <td>48261.662</td>\n",
       "      <td>24130.831</td>\n",
       "    </tr>\n",
       "    <tr>\n",
       "      <th>6</th>\n",
       "      <td>ZU/wGdIJSUGkv0v85/dFboKnAxyqWL/XYbbBXDRxU9c=</td>\n",
       "      <td>2014-12-01</td>\n",
       "      <td>942.345</td>\n",
       "      <td>942.345</td>\n",
       "    </tr>\n",
       "    <tr>\n",
       "      <th>7</th>\n",
       "      <td>VsFHZOZyDS5JWMU9vrVAUkKiyOaj9hxwaokAkLtHiek=</td>\n",
       "      <td>2014-12-01</td>\n",
       "      <td>1056.457</td>\n",
       "      <td>1056.457</td>\n",
       "    </tr>\n",
       "    <tr>\n",
       "      <th>8</th>\n",
       "      <td>8xXFFiPwv1phcRn1d0ZFKpk8yBaAtdlm+WMlu9r0P0U=</td>\n",
       "      <td>2014-12-01</td>\n",
       "      <td>1147.958</td>\n",
       "      <td>1147.958</td>\n",
       "    </tr>\n",
       "    <tr>\n",
       "      <th>9</th>\n",
       "      <td>3ZOrqDxhkzWY7RkqxjPPSW8UuNd1OVUfLftWp4iVM1k=</td>\n",
       "      <td>2014-12-01</td>\n",
       "      <td>19276.360</td>\n",
       "      <td>19276.360</td>\n",
       "    </tr>\n",
       "  </tbody>\n",
       "</table>\n",
       "</div>"
      ],
      "text/plain": [
       "                                           msno date_formatted  \\\n",
       "0  V5gendGLIUHUEI9hglLiWprbX62M9dVKxHz6Nqr6rYk=     2015-06-01   \n",
       "1  V5gendGLIUHUEI9hglLiWprbX62M9dVKxHz6Nqr6rYk=     2015-12-01   \n",
       "2  w5TmRNc/J/33Oz+x4Ur23N1tCgqsC/It4u83vW5rpEw=     2014-12-01   \n",
       "3  uWz9ubBCh0Y4klpCgPZtstkgF9CRWOq1JAvEuoldU40=     2014-12-01   \n",
       "4  uWz9ubBCh0Y4klpCgPZtstkgF9CRWOq1JAvEuoldU40=     2015-06-01   \n",
       "5  uWz9ubBCh0Y4klpCgPZtstkgF9CRWOq1JAvEuoldU40=     2015-12-01   \n",
       "6  ZU/wGdIJSUGkv0v85/dFboKnAxyqWL/XYbbBXDRxU9c=     2014-12-01   \n",
       "7  VsFHZOZyDS5JWMU9vrVAUkKiyOaj9hxwaokAkLtHiek=     2014-12-01   \n",
       "8  8xXFFiPwv1phcRn1d0ZFKpk8yBaAtdlm+WMlu9r0P0U=     2014-12-01   \n",
       "9  3ZOrqDxhkzWY7RkqxjPPSW8UuNd1OVUfLftWp4iVM1k=     2014-12-01   \n",
       "\n",
       "   total_seconds_6_months  avg_seconds_6_months  \n",
       "0                3204.518              3204.518  \n",
       "1                1396.129              1396.129  \n",
       "2                 206.207               206.207  \n",
       "3                3745.980              3745.980  \n",
       "4                6098.470              3049.235  \n",
       "5               48261.662             24130.831  \n",
       "6                 942.345               942.345  \n",
       "7                1056.457              1056.457  \n",
       "8                1147.958              1147.958  \n",
       "9               19276.360             19276.360  "
      ]
     },
     "execution_count": 10,
     "metadata": {},
     "output_type": "execute_result"
    }
   ],
   "source": [
    "res.head(10)"
   ]
  },
  {
   "cell_type": "markdown",
   "id": "3e5c0d1d",
   "metadata": {
    "pycharm": {
     "name": "#%% md\n"
    }
   },
   "source": [
    "We can from the previous result, that for each client we get multiple instances (relative to multiple dates distanced by 6 months) that gives the total and average of seconds of songs that each user has listened to during the previous 6 months."
   ]
  },
  {
   "cell_type": "markdown",
   "id": "84c3fc0d",
   "metadata": {
    "pycharm": {
     "name": "#%% md\n"
    }
   },
   "source": [
    "We can also the user logs dataset to get the number of logins for each user, this can be a very important information for the model since inactive clients tend to churn more likely than active clients.\n",
    "\n",
    "Since the dataset is very large, I have tested multiple values for aggregations of number of logins of clients and have found that the monthly aggregations fit in memory."
   ]
  },
  {
   "cell_type": "code",
   "execution_count": 5,
   "id": "84146557",
   "metadata": {
    "ExecuteTime": {
     "end_time": "2022-04-30T13:16:25.533934Z",
     "start_time": "2022-04-30T13:16:25.529036Z"
    },
    "pycharm": {
     "name": "#%%\n"
    }
   },
   "outputs": [],
   "source": [
    "def last_login_days(user_logs, date):\n",
    "    \"\"\"\n",
    "    Compute the number of days for each client relative to a given date.\n",
    "    :param user_logs: vaex dataframe containing raw data of clients (daily listening behavior of each client)\n",
    "    :param date: filter date, only take instances having a date inferior to this\n",
    "    :return: pandas df containing aggregations performed\n",
    "    \"\"\"\n",
    "    user_logs_filtered = user_logs[user_logs.date < date * 100 + 1]\n",
    "    res = user_logs_filtered.groupby(uid, agg=[vaex.agg.max('date')]).to_pandas_df()\n",
    "    res['last_login_days'] = (datetime(date // 100, date % 100, 1) - pd.to_datetime(res['date_max'], format='%Y%m%d')).dt.days\n",
    "    res['date_pred'] = date\n",
    "    return res.drop('date_max', 1)"
   ]
  },
  {
   "cell_type": "code",
   "execution_count": 11,
   "id": "e4d7cc34",
   "metadata": {
    "ExecuteTime": {
     "end_time": "2022-04-16T16:31:59.370169Z",
     "start_time": "2022-04-16T16:31:44.869869Z"
    },
    "pycharm": {
     "name": "#%%\n"
    }
   },
   "outputs": [],
   "source": [
    "# computing the number of logins in each month for every client\n",
    "res = df.groupby(['msno', vaex.BinnerTime(df['date_formatted'],\n",
    "                                               resolution=\"M\",\n",
    "                                               every=1)]).agg({'nbr_logins_monthly' : vaex.agg.count(df.date)}).to_pandas_df()"
   ]
  },
  {
   "cell_type": "code",
   "execution_count": 12,
   "id": "3343e5ea",
   "metadata": {
    "ExecuteTime": {
     "end_time": "2022-04-16T16:31:59.380887Z",
     "start_time": "2022-04-16T16:31:59.372153Z"
    },
    "pycharm": {
     "name": "#%%\n"
    }
   },
   "outputs": [
    {
     "data": {
      "text/html": [
       "<div>\n",
       "<style scoped>\n",
       "    .dataframe tbody tr th:only-of-type {\n",
       "        vertical-align: middle;\n",
       "    }\n",
       "\n",
       "    .dataframe tbody tr th {\n",
       "        vertical-align: top;\n",
       "    }\n",
       "\n",
       "    .dataframe thead th {\n",
       "        text-align: right;\n",
       "    }\n",
       "</style>\n",
       "<table border=\"1\" class=\"dataframe\">\n",
       "  <thead>\n",
       "    <tr style=\"text-align: right;\">\n",
       "      <th></th>\n",
       "      <th>msno</th>\n",
       "      <th>date_formatted</th>\n",
       "      <th>nbr_logins_monthly</th>\n",
       "    </tr>\n",
       "  </thead>\n",
       "  <tbody>\n",
       "    <tr>\n",
       "      <th>0</th>\n",
       "      <td>rxIP2f2aN0rYNp+toI0Obt/N/FYQX8hcO1fTmmy2h34=</td>\n",
       "      <td>2015-03-01</td>\n",
       "      <td>6</td>\n",
       "    </tr>\n",
       "    <tr>\n",
       "      <th>1</th>\n",
       "      <td>rxIP2f2aN0rYNp+toI0Obt/N/FYQX8hcO1fTmmy2h34=</td>\n",
       "      <td>2015-04-01</td>\n",
       "      <td>29</td>\n",
       "    </tr>\n",
       "    <tr>\n",
       "      <th>2</th>\n",
       "      <td>rxIP2f2aN0rYNp+toI0Obt/N/FYQX8hcO1fTmmy2h34=</td>\n",
       "      <td>2015-05-01</td>\n",
       "      <td>27</td>\n",
       "    </tr>\n",
       "    <tr>\n",
       "      <th>3</th>\n",
       "      <td>rxIP2f2aN0rYNp+toI0Obt/N/FYQX8hcO1fTmmy2h34=</td>\n",
       "      <td>2015-06-01</td>\n",
       "      <td>26</td>\n",
       "    </tr>\n",
       "    <tr>\n",
       "      <th>4</th>\n",
       "      <td>rxIP2f2aN0rYNp+toI0Obt/N/FYQX8hcO1fTmmy2h34=</td>\n",
       "      <td>2015-07-01</td>\n",
       "      <td>28</td>\n",
       "    </tr>\n",
       "  </tbody>\n",
       "</table>\n",
       "</div>"
      ],
      "text/plain": [
       "                                           msno date_formatted  \\\n",
       "0  rxIP2f2aN0rYNp+toI0Obt/N/FYQX8hcO1fTmmy2h34=     2015-03-01   \n",
       "1  rxIP2f2aN0rYNp+toI0Obt/N/FYQX8hcO1fTmmy2h34=     2015-04-01   \n",
       "2  rxIP2f2aN0rYNp+toI0Obt/N/FYQX8hcO1fTmmy2h34=     2015-05-01   \n",
       "3  rxIP2f2aN0rYNp+toI0Obt/N/FYQX8hcO1fTmmy2h34=     2015-06-01   \n",
       "4  rxIP2f2aN0rYNp+toI0Obt/N/FYQX8hcO1fTmmy2h34=     2015-07-01   \n",
       "\n",
       "   nbr_logins_monthly  \n",
       "0                   6  \n",
       "1                  29  \n",
       "2                  27  \n",
       "3                  26  \n",
       "4                  28  "
      ]
     },
     "execution_count": 12,
     "metadata": {},
     "output_type": "execute_result"
    }
   ],
   "source": [
    "res.head()"
   ]
  },
  {
   "cell_type": "code",
   "execution_count": null,
   "id": "36798d98",
   "metadata": {
    "pycharm": {
     "name": "#%%\n"
    }
   },
   "outputs": [],
   "source": [
    "res.to_csv('nbr_logins_monthly.csv', index=False)"
   ]
  },
  {
   "cell_type": "code",
   "execution_count": 6,
   "id": "3416d599",
   "metadata": {
    "ExecuteTime": {
     "end_time": "2022-04-30T13:16:52.222636Z",
     "start_time": "2022-04-30T13:16:25.536360Z"
    },
    "pycharm": {
     "name": "#%%\n"
    }
   },
   "outputs": [],
   "source": [
    "nbr_logins = pd.read_csv('nbr_logins_monthly.csv')\n",
    "\n",
    "nbr_logins['date_formatted'] = pd.to_datetime(nbr_logins['date_formatted'], format='%Y-%m-%d')"
   ]
  },
  {
   "cell_type": "code",
   "execution_count": 7,
   "id": "73c327dc",
   "metadata": {
    "ExecuteTime": {
     "end_time": "2022-04-30T13:16:52.229208Z",
     "start_time": "2022-04-30T13:16:52.225480Z"
    },
    "pycharm": {
     "name": "#%%\n"
    }
   },
   "outputs": [],
   "source": [
    "date = 201603"
   ]
  },
  {
   "cell_type": "code",
   "execution_count": 8,
   "id": "a17266c0",
   "metadata": {
    "ExecuteTime": {
     "end_time": "2022-04-30T13:16:52.241952Z",
     "start_time": "2022-04-30T13:16:52.234376Z"
    },
    "pycharm": {
     "name": "#%%\n"
    }
   },
   "outputs": [],
   "source": [
    "def months_last_login(unstacked_df, date):\n",
    "    \"\"\"\n",
    "    Generates a dataframe that contains the number of months since last login, relative to a given date.\n",
    "    \"\"\"\n",
    "    temp = unstacked_df[[x for x in unstacked_df.columns if x < pd.to_datetime(date, format='%Y%m')]]\n",
    "    temp = temp.isnull()\n",
    "    res = temp.apply(\n",
    "        lambda x: x.where(x).last_valid_index(), axis=1).reset_index(name=\"date_last_login\")\n",
    "    res.date_last_login.fillna(datetime(2015, 1, 1), inplace=True)\n",
    "    res['months_since_login'] = (pd.to_datetime(date, format='%Y%m') - res['date_last_login']).dt.days / 30\n",
    "    res['date_pred'] = date\n",
    "    return res[[uid, 'date_pred', \"months_since_login\"]]"
   ]
  },
  {
   "cell_type": "code",
   "execution_count": 57,
   "id": "0a90fa6f",
   "metadata": {
    "ExecuteTime": {
     "end_time": "2022-04-26T09:45:01.720411Z",
     "start_time": "2022-04-26T09:45:01.717276Z"
    },
    "pycharm": {
     "name": "#%%\n"
    }
   },
   "outputs": [],
   "source": [
    "# the following function will be useful later for parallel execution of feature engineering relative to \n",
    "# multiple dates\n",
    "months_last_login_dates = lambda unstacked_df, dates: [months_last_login(unstacked_df, date) for date in dates]"
   ]
  },
  {
   "cell_type": "code",
   "execution_count": 19,
   "id": "09c85032",
   "metadata": {
    "ExecuteTime": {
     "end_time": "2022-04-16T16:34:26.894932Z",
     "start_time": "2022-04-16T16:33:29.097108Z"
    },
    "pycharm": {
     "name": "#%%\n"
    }
   },
   "outputs": [],
   "source": [
    "unstacked_df = nbr_logins.groupby(\n",
    "    [uid, \"date_formatted\"])[\n",
    "    'nbr_logins_monthly'].mean().unstack('date_formatted')"
   ]
  },
  {
   "cell_type": "code",
   "execution_count": 9,
   "id": "c05256e7",
   "metadata": {
    "ExecuteTime": {
     "end_time": "2022-04-30T13:16:52.291130Z",
     "start_time": "2022-04-30T13:16:52.245289Z"
    },
    "pycharm": {
     "name": "#%%\n"
    }
   },
   "outputs": [],
   "source": [
    "def stats_logins_monthly(df, date):\n",
    "    \"\"\"\n",
    "    Compute statistics of monthly listening behavior of ever client prior to a certain date.\n",
    "    :param df: vaex dataframe containing raw data of clients (daily listening behavior of each client)\n",
    "    :param date: filter date, only take instances having a date inferior to this\n",
    "    :return: pandas df containing aggregations performed\n",
    "    \"\"\"\n",
    "    df_filtered = df[df.date_formatted < datetime(date // 100, date % 100, 1)]\n",
    "    \n",
    "    stats_logins = df.groupby(uid)['nbr_logins_monthly'].agg(['mean', 'max', 'min', 'std', 'count'])\n",
    "    stats_logins.columns = ['_'.join(['nbr_logins_monthly', x]) for x in stats_logins.columns]\n",
    "\n",
    "    stats_logins = stats_logins.reset_index()\n",
    "    stats_logins.fillna(0, inplace=True)\n",
    "    stats_logins['date_pred'] = date\n",
    "    return stats_logins"
   ]
  },
  {
   "cell_type": "code",
   "execution_count": 30,
   "id": "d583e0f4",
   "metadata": {
    "ExecuteTime": {
     "end_time": "2022-04-16T16:44:43.683776Z",
     "start_time": "2022-04-16T16:44:15.197148Z"
    },
    "pycharm": {
     "name": "#%%\n"
    },
    "scrolled": false
   },
   "outputs": [
    {
     "data": {
      "text/html": [
       "<div>\n",
       "<style scoped>\n",
       "    .dataframe tbody tr th:only-of-type {\n",
       "        vertical-align: middle;\n",
       "    }\n",
       "\n",
       "    .dataframe tbody tr th {\n",
       "        vertical-align: top;\n",
       "    }\n",
       "\n",
       "    .dataframe thead th {\n",
       "        text-align: right;\n",
       "    }\n",
       "</style>\n",
       "<table border=\"1\" class=\"dataframe\">\n",
       "  <thead>\n",
       "    <tr style=\"text-align: right;\">\n",
       "      <th></th>\n",
       "      <th>msno</th>\n",
       "      <th>nbr_logins_monthly_mean</th>\n",
       "      <th>nbr_logins_monthly_max</th>\n",
       "      <th>nbr_logins_monthly_min</th>\n",
       "      <th>nbr_logins_monthly_std</th>\n",
       "      <th>nbr_logins_monthly_count</th>\n",
       "      <th>date_pred</th>\n",
       "    </tr>\n",
       "  </thead>\n",
       "  <tbody>\n",
       "    <tr>\n",
       "      <th>0</th>\n",
       "      <td>+++4vcS9aMH7KWdfh5git6nA5fC5jjisd5H/NcM++WM=</td>\n",
       "      <td>1.000000</td>\n",
       "      <td>1</td>\n",
       "      <td>1</td>\n",
       "      <td>0.000000</td>\n",
       "      <td>1</td>\n",
       "      <td>201601</td>\n",
       "    </tr>\n",
       "    <tr>\n",
       "      <th>1</th>\n",
       "      <td>+++EI4HgyhgcJHIPXk/VRP7bt17+2joG39T6oEfJ+tc=</td>\n",
       "      <td>1.000000</td>\n",
       "      <td>1</td>\n",
       "      <td>1</td>\n",
       "      <td>0.000000</td>\n",
       "      <td>1</td>\n",
       "      <td>201601</td>\n",
       "    </tr>\n",
       "    <tr>\n",
       "      <th>2</th>\n",
       "      <td>+++FOrTS7ab3tIgIh8eWwX4FqRv8w/FoiOuyXsFvphY=</td>\n",
       "      <td>7.000000</td>\n",
       "      <td>7</td>\n",
       "      <td>7</td>\n",
       "      <td>0.000000</td>\n",
       "      <td>1</td>\n",
       "      <td>201601</td>\n",
       "    </tr>\n",
       "    <tr>\n",
       "      <th>3</th>\n",
       "      <td>+++IZseRRiQS9aaSkH6cMYU6bGDcxUieAi/tH67sC5s=</td>\n",
       "      <td>23.923077</td>\n",
       "      <td>31</td>\n",
       "      <td>8</td>\n",
       "      <td>5.992816</td>\n",
       "      <td>26</td>\n",
       "      <td>201601</td>\n",
       "    </tr>\n",
       "    <tr>\n",
       "      <th>4</th>\n",
       "      <td>+++TipL0Kt3JvgNE9ahuJ8o+drJAnQINtxD4c5GePXI=</td>\n",
       "      <td>1.000000</td>\n",
       "      <td>1</td>\n",
       "      <td>1</td>\n",
       "      <td>0.000000</td>\n",
       "      <td>1</td>\n",
       "      <td>201601</td>\n",
       "    </tr>\n",
       "    <tr>\n",
       "      <th>...</th>\n",
       "      <td>...</td>\n",
       "      <td>...</td>\n",
       "      <td>...</td>\n",
       "      <td>...</td>\n",
       "      <td>...</td>\n",
       "      <td>...</td>\n",
       "      <td>...</td>\n",
       "    </tr>\n",
       "    <tr>\n",
       "      <th>5234029</th>\n",
       "      <td>zzzeSzWGUrQw+eP47oa1CXqL/im1Uq6/JYAJs8oGjI8=</td>\n",
       "      <td>1.000000</td>\n",
       "      <td>1</td>\n",
       "      <td>1</td>\n",
       "      <td>0.000000</td>\n",
       "      <td>1</td>\n",
       "      <td>201601</td>\n",
       "    </tr>\n",
       "    <tr>\n",
       "      <th>5234030</th>\n",
       "      <td>zzzqx+aMPSFYjW71JqJ6T/hita+iVemVWzJTE4yQRx8=</td>\n",
       "      <td>2.000000</td>\n",
       "      <td>2</td>\n",
       "      <td>2</td>\n",
       "      <td>0.000000</td>\n",
       "      <td>1</td>\n",
       "      <td>201601</td>\n",
       "    </tr>\n",
       "    <tr>\n",
       "      <th>5234031</th>\n",
       "      <td>zzztPAN9xjMytpZ0RN2gU9mScDULJnHQZK8eZb4uELU=</td>\n",
       "      <td>6.000000</td>\n",
       "      <td>10</td>\n",
       "      <td>2</td>\n",
       "      <td>3.265986</td>\n",
       "      <td>4</td>\n",
       "      <td>201601</td>\n",
       "    </tr>\n",
       "    <tr>\n",
       "      <th>5234032</th>\n",
       "      <td>zzztsqkufVj9DPVJDM3FxDkhlbCL5z4aiYxgPSGkIK4=</td>\n",
       "      <td>3.750000</td>\n",
       "      <td>9</td>\n",
       "      <td>1</td>\n",
       "      <td>3.593976</td>\n",
       "      <td>4</td>\n",
       "      <td>201601</td>\n",
       "    </tr>\n",
       "    <tr>\n",
       "      <th>5234033</th>\n",
       "      <td>zzzyOgMk9MljCerbCCYrVtvu85aSCiy7yCMjAEgNYMs=</td>\n",
       "      <td>1.000000</td>\n",
       "      <td>1</td>\n",
       "      <td>1</td>\n",
       "      <td>0.000000</td>\n",
       "      <td>1</td>\n",
       "      <td>201601</td>\n",
       "    </tr>\n",
       "  </tbody>\n",
       "</table>\n",
       "<p>5234034 rows × 7 columns</p>\n",
       "</div>"
      ],
      "text/plain": [
       "                                                 msno  \\\n",
       "0        +++4vcS9aMH7KWdfh5git6nA5fC5jjisd5H/NcM++WM=   \n",
       "1        +++EI4HgyhgcJHIPXk/VRP7bt17+2joG39T6oEfJ+tc=   \n",
       "2        +++FOrTS7ab3tIgIh8eWwX4FqRv8w/FoiOuyXsFvphY=   \n",
       "3        +++IZseRRiQS9aaSkH6cMYU6bGDcxUieAi/tH67sC5s=   \n",
       "4        +++TipL0Kt3JvgNE9ahuJ8o+drJAnQINtxD4c5GePXI=   \n",
       "...                                               ...   \n",
       "5234029  zzzeSzWGUrQw+eP47oa1CXqL/im1Uq6/JYAJs8oGjI8=   \n",
       "5234030  zzzqx+aMPSFYjW71JqJ6T/hita+iVemVWzJTE4yQRx8=   \n",
       "5234031  zzztPAN9xjMytpZ0RN2gU9mScDULJnHQZK8eZb4uELU=   \n",
       "5234032  zzztsqkufVj9DPVJDM3FxDkhlbCL5z4aiYxgPSGkIK4=   \n",
       "5234033  zzzyOgMk9MljCerbCCYrVtvu85aSCiy7yCMjAEgNYMs=   \n",
       "\n",
       "         nbr_logins_monthly_mean  nbr_logins_monthly_max  \\\n",
       "0                       1.000000                       1   \n",
       "1                       1.000000                       1   \n",
       "2                       7.000000                       7   \n",
       "3                      23.923077                      31   \n",
       "4                       1.000000                       1   \n",
       "...                          ...                     ...   \n",
       "5234029                 1.000000                       1   \n",
       "5234030                 2.000000                       2   \n",
       "5234031                 6.000000                      10   \n",
       "5234032                 3.750000                       9   \n",
       "5234033                 1.000000                       1   \n",
       "\n",
       "         nbr_logins_monthly_min  nbr_logins_monthly_std  \\\n",
       "0                             1                0.000000   \n",
       "1                             1                0.000000   \n",
       "2                             7                0.000000   \n",
       "3                             8                5.992816   \n",
       "4                             1                0.000000   \n",
       "...                         ...                     ...   \n",
       "5234029                       1                0.000000   \n",
       "5234030                       2                0.000000   \n",
       "5234031                       2                3.265986   \n",
       "5234032                       1                3.593976   \n",
       "5234033                       1                0.000000   \n",
       "\n",
       "         nbr_logins_monthly_count  date_pred  \n",
       "0                               1     201601  \n",
       "1                               1     201601  \n",
       "2                               1     201601  \n",
       "3                              26     201601  \n",
       "4                               1     201601  \n",
       "...                           ...        ...  \n",
       "5234029                         1     201601  \n",
       "5234030                         1     201601  \n",
       "5234031                         4     201601  \n",
       "5234032                         4     201601  \n",
       "5234033                         1     201601  \n",
       "\n",
       "[5234034 rows x 7 columns]"
      ]
     },
     "execution_count": 30,
     "metadata": {},
     "output_type": "execute_result"
    }
   ],
   "source": [
    "stats_logins_monthly(nbr_logins, 201601)"
   ]
  },
  {
   "cell_type": "code",
   "execution_count": 22,
   "id": "1df91063",
   "metadata": {
    "ExecuteTime": {
     "end_time": "2022-04-16T16:34:50.046462Z",
     "start_time": "2022-04-16T16:34:50.037812Z"
    },
    "pycharm": {
     "name": "#%%\n"
    }
   },
   "outputs": [],
   "source": [
    "dates = [201603, 201608]"
   ]
  },
  {
   "cell_type": "code",
   "execution_count": 10,
   "id": "c52d95c1",
   "metadata": {
    "ExecuteTime": {
     "end_time": "2022-04-30T13:16:52.297969Z",
     "start_time": "2022-04-30T13:16:52.293683Z"
    },
    "pycharm": {
     "name": "#%%\n"
    }
   },
   "outputs": [],
   "source": [
    "def distribute_processes(func, **kwargs):   \n",
    "    \"\"\"\n",
    "    Splits the process execution across multiple cores, useful for parallel execution of feature engineering\n",
    "    relative to multiple dates\n",
    "    :param func: the function to be parallelized\n",
    "    :param kwargs: keyword arguments for the function\n",
    "    :return: final pandas dataframe containing the joined dataframes after the parallel computing\n",
    "    \"\"\"\n",
    "    delayed_results = delayed(func)(**kwargs)\n",
    "    results = compute(delayed_results, scheduler=\"processes\")\n",
    "    final_res = pd.concat(results[0])\n",
    "    \n",
    "    return final_res"
   ]
  },
  {
   "cell_type": "markdown",
   "id": "90ca6ce4",
   "metadata": {
    "pycharm": {
     "name": "#%% md\n"
    }
   },
   "source": [
    "The previous function is very useful for reducing the amount of time required to generate the features (that are computed relative to multiple dates), and will be later implemented in a function that merges them all."
   ]
  },
  {
   "cell_type": "code",
   "execution_count": 27,
   "id": "f0a22a91",
   "metadata": {
    "ExecuteTime": {
     "end_time": "2022-04-16T16:38:16.206989Z",
     "start_time": "2022-04-16T16:38:14.587354Z"
    },
    "pycharm": {
     "name": "#%%\n"
    },
    "scrolled": false
   },
   "outputs": [
    {
     "data": {
      "text/html": [
       "<div>\n",
       "<style scoped>\n",
       "    .dataframe tbody tr th:only-of-type {\n",
       "        vertical-align: middle;\n",
       "    }\n",
       "\n",
       "    .dataframe tbody tr th {\n",
       "        vertical-align: top;\n",
       "    }\n",
       "\n",
       "    .dataframe thead th {\n",
       "        text-align: right;\n",
       "    }\n",
       "</style>\n",
       "<table border=\"1\" class=\"dataframe\">\n",
       "  <thead>\n",
       "    <tr style=\"text-align: right;\">\n",
       "      <th></th>\n",
       "      <th>msno</th>\n",
       "      <th>date_pred</th>\n",
       "      <th>months_since_login</th>\n",
       "    </tr>\n",
       "  </thead>\n",
       "  <tbody>\n",
       "    <tr>\n",
       "      <th>0</th>\n",
       "      <td>+++4vcS9aMH7KWdfh5git6nA5fC5jjisd5H/NcM++WM=</td>\n",
       "      <td>201603</td>\n",
       "      <td>0.966667</td>\n",
       "    </tr>\n",
       "    <tr>\n",
       "      <th>1</th>\n",
       "      <td>+++EI4HgyhgcJHIPXk/VRP7bt17+2joG39T6oEfJ+tc=</td>\n",
       "      <td>201603</td>\n",
       "      <td>0.966667</td>\n",
       "    </tr>\n",
       "    <tr>\n",
       "      <th>2</th>\n",
       "      <td>+++FOrTS7ab3tIgIh8eWwX4FqRv8w/FoiOuyXsFvphY=</td>\n",
       "      <td>201603</td>\n",
       "      <td>0.966667</td>\n",
       "    </tr>\n",
       "    <tr>\n",
       "      <th>3</th>\n",
       "      <td>+++IZseRRiQS9aaSkH6cMYU6bGDcxUieAi/tH67sC5s=</td>\n",
       "      <td>201603</td>\n",
       "      <td>14.166667</td>\n",
       "    </tr>\n",
       "    <tr>\n",
       "      <th>4</th>\n",
       "      <td>+++TipL0Kt3JvgNE9ahuJ8o+drJAnQINtxD4c5GePXI=</td>\n",
       "      <td>201603</td>\n",
       "      <td>0.966667</td>\n",
       "    </tr>\n",
       "    <tr>\n",
       "      <th>...</th>\n",
       "      <td>...</td>\n",
       "      <td>...</td>\n",
       "      <td>...</td>\n",
       "    </tr>\n",
       "    <tr>\n",
       "      <th>495</th>\n",
       "      <td>++OrO+qyw4KsyivgnrEzl5ALtN7gj7BNEodVdR5UIss=</td>\n",
       "      <td>201608</td>\n",
       "      <td>1.033333</td>\n",
       "    </tr>\n",
       "    <tr>\n",
       "      <th>496</th>\n",
       "      <td>++OtuWs8cKG2710CCnsZTeVKK9Co38gFamjS9nkus+8=</td>\n",
       "      <td>201608</td>\n",
       "      <td>1.033333</td>\n",
       "    </tr>\n",
       "    <tr>\n",
       "      <th>497</th>\n",
       "      <td>++OvJH5FmfZ5CRrYfmbQEk7tJwCZhsJnkWbxClRaUpw=</td>\n",
       "      <td>201608</td>\n",
       "      <td>6.066667</td>\n",
       "    </tr>\n",
       "    <tr>\n",
       "      <th>498</th>\n",
       "      <td>++OwfFddNO06garROtSdQUfkCwbKF+9pfndYHGRKDas=</td>\n",
       "      <td>201608</td>\n",
       "      <td>1.033333</td>\n",
       "    </tr>\n",
       "    <tr>\n",
       "      <th>499</th>\n",
       "      <td>++P/FDHkWGuv4MEI9DEwbwn6Yvks4lEObpi8H2DOZr0=</td>\n",
       "      <td>201608</td>\n",
       "      <td>1.033333</td>\n",
       "    </tr>\n",
       "  </tbody>\n",
       "</table>\n",
       "<p>1000 rows × 3 columns</p>\n",
       "</div>"
      ],
      "text/plain": [
       "                                             msno  date_pred  \\\n",
       "0    +++4vcS9aMH7KWdfh5git6nA5fC5jjisd5H/NcM++WM=     201603   \n",
       "1    +++EI4HgyhgcJHIPXk/VRP7bt17+2joG39T6oEfJ+tc=     201603   \n",
       "2    +++FOrTS7ab3tIgIh8eWwX4FqRv8w/FoiOuyXsFvphY=     201603   \n",
       "3    +++IZseRRiQS9aaSkH6cMYU6bGDcxUieAi/tH67sC5s=     201603   \n",
       "4    +++TipL0Kt3JvgNE9ahuJ8o+drJAnQINtxD4c5GePXI=     201603   \n",
       "..                                            ...        ...   \n",
       "495  ++OrO+qyw4KsyivgnrEzl5ALtN7gj7BNEodVdR5UIss=     201608   \n",
       "496  ++OtuWs8cKG2710CCnsZTeVKK9Co38gFamjS9nkus+8=     201608   \n",
       "497  ++OvJH5FmfZ5CRrYfmbQEk7tJwCZhsJnkWbxClRaUpw=     201608   \n",
       "498  ++OwfFddNO06garROtSdQUfkCwbKF+9pfndYHGRKDas=     201608   \n",
       "499  ++P/FDHkWGuv4MEI9DEwbwn6Yvks4lEObpi8H2DOZr0=     201608   \n",
       "\n",
       "     months_since_login  \n",
       "0              0.966667  \n",
       "1              0.966667  \n",
       "2              0.966667  \n",
       "3             14.166667  \n",
       "4              0.966667  \n",
       "..                  ...  \n",
       "495            1.033333  \n",
       "496            1.033333  \n",
       "497            6.066667  \n",
       "498            1.033333  \n",
       "499            1.033333  \n",
       "\n",
       "[1000 rows x 3 columns]"
      ]
     },
     "execution_count": 27,
     "metadata": {},
     "output_type": "execute_result"
    }
   ],
   "source": [
    "distribute_processes(months_last_login_dates, unstacked_df=unstacked_df.head(500), dates=dates)"
   ]
  },
  {
   "cell_type": "markdown",
   "id": "9abd2f64",
   "metadata": {
    "pycharm": {
     "name": "#%% md\n"
    }
   },
   "source": [
    "## Transactions Features"
   ]
  },
  {
   "cell_type": "markdown",
   "id": "61d4b7e6",
   "metadata": {
    "pycharm": {
     "name": "#%% md\n"
    }
   },
   "source": [
    "[(Back to top)](#Table-of-Contents)"
   ]
  },
  {
   "cell_type": "code",
   "execution_count": 11,
   "id": "630e4380",
   "metadata": {
    "ExecuteTime": {
     "end_time": "2022-04-30T13:17:31.834904Z",
     "start_time": "2022-04-30T13:16:52.300097Z"
    },
    "pycharm": {
     "name": "#%%\n"
    }
   },
   "outputs": [],
   "source": [
    "transactions = pd.read_csv(os.path.join(data_dir, 'transactions_cleaned_final.csv'))"
   ]
  },
  {
   "cell_type": "code",
   "execution_count": 12,
   "id": "71bd0287",
   "metadata": {
    "ExecuteTime": {
     "end_time": "2022-04-30T13:17:31.842015Z",
     "start_time": "2022-04-30T13:17:31.837724Z"
    },
    "pycharm": {
     "name": "#%%\n"
    }
   },
   "outputs": [],
   "source": [
    "date = 201603"
   ]
  },
  {
   "cell_type": "code",
   "execution_count": 13,
   "id": "7014c893",
   "metadata": {
    "ExecuteTime": {
     "end_time": "2022-04-30T13:17:31.947078Z",
     "start_time": "2022-04-30T13:17:31.845158Z"
    },
    "pycharm": {
     "name": "#%%\n"
    }
   },
   "outputs": [
    {
     "data": {
      "text/html": [
       "<div>\n",
       "<style scoped>\n",
       "    .dataframe tbody tr th:only-of-type {\n",
       "        vertical-align: middle;\n",
       "    }\n",
       "\n",
       "    .dataframe tbody tr th {\n",
       "        vertical-align: top;\n",
       "    }\n",
       "\n",
       "    .dataframe thead th {\n",
       "        text-align: right;\n",
       "    }\n",
       "</style>\n",
       "<table border=\"1\" class=\"dataframe\">\n",
       "  <thead>\n",
       "    <tr style=\"text-align: right;\">\n",
       "      <th></th>\n",
       "      <th>msno</th>\n",
       "      <th>payment_method_id</th>\n",
       "      <th>payment_plan_days</th>\n",
       "      <th>plan_list_price</th>\n",
       "      <th>actual_amount_paid</th>\n",
       "      <th>is_auto_renew</th>\n",
       "      <th>transaction_date</th>\n",
       "      <th>membership_expire_date</th>\n",
       "      <th>is_cancel</th>\n",
       "      <th>diff_dates</th>\n",
       "    </tr>\n",
       "  </thead>\n",
       "  <tbody>\n",
       "    <tr>\n",
       "      <th>0</th>\n",
       "      <td>JQqsvSC2BNWif2jSUS0BJ3JT1/oREqxrrL4jNjbjFWU=</td>\n",
       "      <td>41</td>\n",
       "      <td>30</td>\n",
       "      <td>149</td>\n",
       "      <td>149</td>\n",
       "      <td>1</td>\n",
       "      <td>2015-01-01</td>\n",
       "      <td>20150202</td>\n",
       "      <td>0</td>\n",
       "      <td>NaN</td>\n",
       "    </tr>\n",
       "    <tr>\n",
       "      <th>1</th>\n",
       "      <td>Z1CV2CrBP9tR4Xr5H4VqgGzx650b2HtwJWJV/ExQNaw=</td>\n",
       "      <td>41</td>\n",
       "      <td>30</td>\n",
       "      <td>149</td>\n",
       "      <td>149</td>\n",
       "      <td>1</td>\n",
       "      <td>2015-01-01</td>\n",
       "      <td>20150201</td>\n",
       "      <td>0</td>\n",
       "      <td>NaN</td>\n",
       "    </tr>\n",
       "    <tr>\n",
       "      <th>2</th>\n",
       "      <td>flo7XEv3URucBlewH+Y/QgdmrAapKq3+NMs97Z+A9Sc=</td>\n",
       "      <td>41</td>\n",
       "      <td>30</td>\n",
       "      <td>149</td>\n",
       "      <td>149</td>\n",
       "      <td>1</td>\n",
       "      <td>2015-01-01</td>\n",
       "      <td>20150201</td>\n",
       "      <td>0</td>\n",
       "      <td>NaN</td>\n",
       "    </tr>\n",
       "    <tr>\n",
       "      <th>3</th>\n",
       "      <td>Bv0w1EeVjiPLB8r5mR1ny2x8guIdqzGNpKa1LgJ1d9M=</td>\n",
       "      <td>41</td>\n",
       "      <td>30</td>\n",
       "      <td>149</td>\n",
       "      <td>149</td>\n",
       "      <td>1</td>\n",
       "      <td>2015-01-01</td>\n",
       "      <td>20150203</td>\n",
       "      <td>0</td>\n",
       "      <td>NaN</td>\n",
       "    </tr>\n",
       "    <tr>\n",
       "      <th>4</th>\n",
       "      <td>fSn3mhLjNEREk1f/84iU1FFas2l4zAaMk4JT15WLlvE=</td>\n",
       "      <td>41</td>\n",
       "      <td>30</td>\n",
       "      <td>149</td>\n",
       "      <td>149</td>\n",
       "      <td>1</td>\n",
       "      <td>2015-01-01</td>\n",
       "      <td>20150201</td>\n",
       "      <td>0</td>\n",
       "      <td>NaN</td>\n",
       "    </tr>\n",
       "  </tbody>\n",
       "</table>\n",
       "</div>"
      ],
      "text/plain": [
       "                                           msno  payment_method_id  \\\n",
       "0  JQqsvSC2BNWif2jSUS0BJ3JT1/oREqxrrL4jNjbjFWU=                 41   \n",
       "1  Z1CV2CrBP9tR4Xr5H4VqgGzx650b2HtwJWJV/ExQNaw=                 41   \n",
       "2  flo7XEv3URucBlewH+Y/QgdmrAapKq3+NMs97Z+A9Sc=                 41   \n",
       "3  Bv0w1EeVjiPLB8r5mR1ny2x8guIdqzGNpKa1LgJ1d9M=                 41   \n",
       "4  fSn3mhLjNEREk1f/84iU1FFas2l4zAaMk4JT15WLlvE=                 41   \n",
       "\n",
       "   payment_plan_days  plan_list_price  actual_amount_paid  is_auto_renew  \\\n",
       "0                 30              149                 149              1   \n",
       "1                 30              149                 149              1   \n",
       "2                 30              149                 149              1   \n",
       "3                 30              149                 149              1   \n",
       "4                 30              149                 149              1   \n",
       "\n",
       "  transaction_date  membership_expire_date  is_cancel  diff_dates  \n",
       "0       2015-01-01                20150202          0         NaN  \n",
       "1       2015-01-01                20150201          0         NaN  \n",
       "2       2015-01-01                20150201          0         NaN  \n",
       "3       2015-01-01                20150203          0         NaN  \n",
       "4       2015-01-01                20150201          0         NaN  "
      ]
     },
     "execution_count": 13,
     "metadata": {},
     "output_type": "execute_result"
    }
   ],
   "source": [
    "transactions.head()"
   ]
  },
  {
   "cell_type": "code",
   "execution_count": 14,
   "id": "5007951f",
   "metadata": {
    "ExecuteTime": {
     "end_time": "2022-04-30T13:17:34.810986Z",
     "start_time": "2022-04-30T13:17:31.949383Z"
    },
    "pycharm": {
     "name": "#%%\n"
    }
   },
   "outputs": [],
   "source": [
    "transactions['transaction_date'] = pd.to_datetime(transactions['transaction_date'], format='%Y-%m-%d')"
   ]
  },
  {
   "cell_type": "code",
   "execution_count": 43,
   "id": "305f0ee6",
   "metadata": {
    "ExecuteTime": {
     "end_time": "2022-04-30T13:41:07.463424Z",
     "start_time": "2022-04-30T13:41:07.429049Z"
    },
    "pycharm": {
     "name": "#%%\n"
    }
   },
   "outputs": [],
   "source": [
    "def agg_trx(transactions, date, aggs={}):\n",
    "    \"\"\"\n",
    "    Compute aggregations of features related to transactions for every client prior to a certain date\n",
    "    :param transactions: the transactions dataframe\n",
    "    :param date: filter date, only take instances having a date inferior to this date\n",
    "    :param aggs: a list containing the aggregations to perform (a list of dictionaries)\n",
    "    :return: pandas df containing aggregations performed \n",
    "    \"\"\"\n",
    "    filtered_transactions = transactions[transactions.transaction_date < datetime(date // 100, date % 100, 1)]\n",
    "    aggs_trx = filtered_transactions.groupby(uid).agg(aggs)\n",
    "    aggs_trx.columns = ['_'.join(x) for x in aggs_trx.columns.ravel()]\n",
    "    aggs_trx.reset_index(inplace=True)\n",
    "    \n",
    "    aggs_trx['date_pred'] = date\n",
    "    return aggs_trx"
   ]
  },
  {
   "cell_type": "code",
   "execution_count": 9,
   "id": "c2fc82d9",
   "metadata": {
    "ExecuteTime": {
     "end_time": "2022-04-24T20:11:20.825535Z",
     "start_time": "2022-04-24T20:11:02.487487Z"
    },
    "pycharm": {
     "name": "#%%\n"
    }
   },
   "outputs": [
    {
     "data": {
      "text/html": [
       "<div>\n",
       "<style scoped>\n",
       "    .dataframe tbody tr th:only-of-type {\n",
       "        vertical-align: middle;\n",
       "    }\n",
       "\n",
       "    .dataframe tbody tr th {\n",
       "        vertical-align: top;\n",
       "    }\n",
       "\n",
       "    .dataframe thead th {\n",
       "        text-align: right;\n",
       "    }\n",
       "</style>\n",
       "<table border=\"1\" class=\"dataframe\">\n",
       "  <thead>\n",
       "    <tr style=\"text-align: right;\">\n",
       "      <th></th>\n",
       "      <th>msno</th>\n",
       "      <th>actual_amount_paid_min</th>\n",
       "      <th>actual_amount_paid_max</th>\n",
       "      <th>actual_amount_paid_mean</th>\n",
       "      <th>actual_amount_paid_std</th>\n",
       "      <th>actual_amount_paid_sum</th>\n",
       "      <th>is_auto_renew_mean</th>\n",
       "      <th>is_auto_renew_sum</th>\n",
       "      <th>is_cancel_sum</th>\n",
       "      <th>is_cancel_mean</th>\n",
       "      <th>msno_count</th>\n",
       "    </tr>\n",
       "  </thead>\n",
       "  <tbody>\n",
       "    <tr>\n",
       "      <th>0</th>\n",
       "      <td>+++IZseRRiQS9aaSkH6cMYU6bGDcxUieAi/tH67sC5s=</td>\n",
       "      <td>1788</td>\n",
       "      <td>1788</td>\n",
       "      <td>1788.000000</td>\n",
       "      <td>NaN</td>\n",
       "      <td>1788</td>\n",
       "      <td>0.000000</td>\n",
       "      <td>0</td>\n",
       "      <td>0</td>\n",
       "      <td>0.000000</td>\n",
       "      <td>1</td>\n",
       "    </tr>\n",
       "    <tr>\n",
       "      <th>1</th>\n",
       "      <td>+++l/EXNMLTijfLBa8p2TUVVVp2aFGSuUI/h7mLmthw=</td>\n",
       "      <td>149</td>\n",
       "      <td>149</td>\n",
       "      <td>149.000000</td>\n",
       "      <td>0.000000</td>\n",
       "      <td>1788</td>\n",
       "      <td>1.000000</td>\n",
       "      <td>12</td>\n",
       "      <td>0</td>\n",
       "      <td>0.000000</td>\n",
       "      <td>12</td>\n",
       "    </tr>\n",
       "    <tr>\n",
       "      <th>2</th>\n",
       "      <td>+++snpr7pmobhLKUgSHTv/mpkqgBT0tQJ0zQj6qKrqc=</td>\n",
       "      <td>149</td>\n",
       "      <td>149</td>\n",
       "      <td>149.000000</td>\n",
       "      <td>0.000000</td>\n",
       "      <td>2086</td>\n",
       "      <td>1.000000</td>\n",
       "      <td>14</td>\n",
       "      <td>0</td>\n",
       "      <td>0.000000</td>\n",
       "      <td>14</td>\n",
       "    </tr>\n",
       "    <tr>\n",
       "      <th>3</th>\n",
       "      <td>++/Gw1B9K+XOlB3hLTloeUK2QlCa2m+BJ8TrzGf7djI=</td>\n",
       "      <td>149</td>\n",
       "      <td>894</td>\n",
       "      <td>231.777778</td>\n",
       "      <td>248.333333</td>\n",
       "      <td>2086</td>\n",
       "      <td>0.888889</td>\n",
       "      <td>8</td>\n",
       "      <td>1</td>\n",
       "      <td>0.111111</td>\n",
       "      <td>9</td>\n",
       "    </tr>\n",
       "    <tr>\n",
       "      <th>4</th>\n",
       "      <td>++/TR7WI15q2ZCtOXmoap7jR+kEhbMVE5swOqsfqpqI=</td>\n",
       "      <td>149</td>\n",
       "      <td>149</td>\n",
       "      <td>149.000000</td>\n",
       "      <td>0.000000</td>\n",
       "      <td>1341</td>\n",
       "      <td>1.000000</td>\n",
       "      <td>9</td>\n",
       "      <td>1</td>\n",
       "      <td>0.111111</td>\n",
       "      <td>9</td>\n",
       "    </tr>\n",
       "    <tr>\n",
       "      <th>...</th>\n",
       "      <td>...</td>\n",
       "      <td>...</td>\n",
       "      <td>...</td>\n",
       "      <td>...</td>\n",
       "      <td>...</td>\n",
       "      <td>...</td>\n",
       "      <td>...</td>\n",
       "      <td>...</td>\n",
       "      <td>...</td>\n",
       "      <td>...</td>\n",
       "      <td>...</td>\n",
       "    </tr>\n",
       "    <tr>\n",
       "      <th>1639823</th>\n",
       "      <td>zzz4xr5LLzoxUqD6LfKiieCt8Or4dUWFQ0RA5gmkx8I=</td>\n",
       "      <td>119</td>\n",
       "      <td>149</td>\n",
       "      <td>125.428571</td>\n",
       "      <td>12.774459</td>\n",
       "      <td>1756</td>\n",
       "      <td>1.000000</td>\n",
       "      <td>14</td>\n",
       "      <td>0</td>\n",
       "      <td>0.000000</td>\n",
       "      <td>14</td>\n",
       "    </tr>\n",
       "    <tr>\n",
       "      <th>1639824</th>\n",
       "      <td>zzz672Xpk1wKox75rJ5gak43ZkFQUV1f7Xek3jnPeRM=</td>\n",
       "      <td>0</td>\n",
       "      <td>0</td>\n",
       "      <td>0.000000</td>\n",
       "      <td>NaN</td>\n",
       "      <td>0</td>\n",
       "      <td>0.000000</td>\n",
       "      <td>0</td>\n",
       "      <td>0</td>\n",
       "      <td>0.000000</td>\n",
       "      <td>1</td>\n",
       "    </tr>\n",
       "    <tr>\n",
       "      <th>1639825</th>\n",
       "      <td>zzz9+ZF4+GMyt63oU8xfjo1EkvRqH5OINlES0RUJI6I=</td>\n",
       "      <td>129</td>\n",
       "      <td>129</td>\n",
       "      <td>129.000000</td>\n",
       "      <td>0.000000</td>\n",
       "      <td>645</td>\n",
       "      <td>1.000000</td>\n",
       "      <td>5</td>\n",
       "      <td>0</td>\n",
       "      <td>0.000000</td>\n",
       "      <td>5</td>\n",
       "    </tr>\n",
       "    <tr>\n",
       "      <th>1639826</th>\n",
       "      <td>zzztsqkufVj9DPVJDM3FxDkhlbCL5z4aiYxgPSGkIK4=</td>\n",
       "      <td>0</td>\n",
       "      <td>0</td>\n",
       "      <td>0.000000</td>\n",
       "      <td>NaN</td>\n",
       "      <td>0</td>\n",
       "      <td>0.000000</td>\n",
       "      <td>0</td>\n",
       "      <td>0</td>\n",
       "      <td>0.000000</td>\n",
       "      <td>1</td>\n",
       "    </tr>\n",
       "    <tr>\n",
       "      <th>1639827</th>\n",
       "      <td>zzzyOgMk9MljCerbCCYrVtvu85aSCiy7yCMjAEgNYMs=</td>\n",
       "      <td>0</td>\n",
       "      <td>0</td>\n",
       "      <td>0.000000</td>\n",
       "      <td>NaN</td>\n",
       "      <td>0</td>\n",
       "      <td>0.000000</td>\n",
       "      <td>0</td>\n",
       "      <td>0</td>\n",
       "      <td>0.000000</td>\n",
       "      <td>1</td>\n",
       "    </tr>\n",
       "  </tbody>\n",
       "</table>\n",
       "<p>1639828 rows × 11 columns</p>\n",
       "</div>"
      ],
      "text/plain": [
       "                                                 msno  actual_amount_paid_min  \\\n",
       "0        +++IZseRRiQS9aaSkH6cMYU6bGDcxUieAi/tH67sC5s=                    1788   \n",
       "1        +++l/EXNMLTijfLBa8p2TUVVVp2aFGSuUI/h7mLmthw=                     149   \n",
       "2        +++snpr7pmobhLKUgSHTv/mpkqgBT0tQJ0zQj6qKrqc=                     149   \n",
       "3        ++/Gw1B9K+XOlB3hLTloeUK2QlCa2m+BJ8TrzGf7djI=                     149   \n",
       "4        ++/TR7WI15q2ZCtOXmoap7jR+kEhbMVE5swOqsfqpqI=                     149   \n",
       "...                                               ...                     ...   \n",
       "1639823  zzz4xr5LLzoxUqD6LfKiieCt8Or4dUWFQ0RA5gmkx8I=                     119   \n",
       "1639824  zzz672Xpk1wKox75rJ5gak43ZkFQUV1f7Xek3jnPeRM=                       0   \n",
       "1639825  zzz9+ZF4+GMyt63oU8xfjo1EkvRqH5OINlES0RUJI6I=                     129   \n",
       "1639826  zzztsqkufVj9DPVJDM3FxDkhlbCL5z4aiYxgPSGkIK4=                       0   \n",
       "1639827  zzzyOgMk9MljCerbCCYrVtvu85aSCiy7yCMjAEgNYMs=                       0   \n",
       "\n",
       "         actual_amount_paid_max  actual_amount_paid_mean  \\\n",
       "0                          1788              1788.000000   \n",
       "1                           149               149.000000   \n",
       "2                           149               149.000000   \n",
       "3                           894               231.777778   \n",
       "4                           149               149.000000   \n",
       "...                         ...                      ...   \n",
       "1639823                     149               125.428571   \n",
       "1639824                       0                 0.000000   \n",
       "1639825                     129               129.000000   \n",
       "1639826                       0                 0.000000   \n",
       "1639827                       0                 0.000000   \n",
       "\n",
       "         actual_amount_paid_std  actual_amount_paid_sum  is_auto_renew_mean  \\\n",
       "0                           NaN                    1788            0.000000   \n",
       "1                      0.000000                    1788            1.000000   \n",
       "2                      0.000000                    2086            1.000000   \n",
       "3                    248.333333                    2086            0.888889   \n",
       "4                      0.000000                    1341            1.000000   \n",
       "...                         ...                     ...                 ...   \n",
       "1639823               12.774459                    1756            1.000000   \n",
       "1639824                     NaN                       0            0.000000   \n",
       "1639825                0.000000                     645            1.000000   \n",
       "1639826                     NaN                       0            0.000000   \n",
       "1639827                     NaN                       0            0.000000   \n",
       "\n",
       "         is_auto_renew_sum  is_cancel_sum  is_cancel_mean  msno_count  \n",
       "0                        0              0        0.000000           1  \n",
       "1                       12              0        0.000000          12  \n",
       "2                       14              0        0.000000          14  \n",
       "3                        8              1        0.111111           9  \n",
       "4                        9              1        0.111111           9  \n",
       "...                    ...            ...             ...         ...  \n",
       "1639823                 14              0        0.000000          14  \n",
       "1639824                  0              0        0.000000           1  \n",
       "1639825                  5              0        0.000000           5  \n",
       "1639826                  0              0        0.000000           1  \n",
       "1639827                  0              0        0.000000           1  \n",
       "\n",
       "[1639828 rows x 11 columns]"
      ]
     },
     "execution_count": 9,
     "metadata": {},
     "output_type": "execute_result"
    }
   ],
   "source": [
    "agg_trx(transactions, date, aggs={'actual_amount_paid': ['min', 'max', 'mean', 'std', 'sum'],\n",
    "                                  'is_auto_renew': ['mean', 'sum'],\n",
    "                                 'is_cancel': ['sum', 'mean'], \n",
    "                                  'msno': 'count'})"
   ]
  },
  {
   "cell_type": "code",
   "execution_count": 100,
   "id": "1035804a",
   "metadata": {
    "ExecuteTime": {
     "end_time": "2022-04-25T22:13:17.335840Z",
     "start_time": "2022-04-25T22:00:03.140406Z"
    },
    "pycharm": {
     "name": "#%%\n"
    }
   },
   "outputs": [],
   "source": [
    "res = transactions.groupby(uid)['transaction_date'].diff()"
   ]
  },
  {
   "cell_type": "code",
   "execution_count": 101,
   "id": "ce857485",
   "metadata": {
    "ExecuteTime": {
     "end_time": "2022-04-25T22:13:18.148803Z",
     "start_time": "2022-04-25T22:13:17.343231Z"
    },
    "pycharm": {
     "name": "#%%\n"
    }
   },
   "outputs": [],
   "source": [
    "transactions['diff_dates'] = res.dt.days"
   ]
  },
  {
   "cell_type": "markdown",
   "id": "d2d072eb",
   "metadata": {
    "pycharm": {
     "name": "#%% md\n"
    }
   },
   "source": [
    "The column `diff_dates` contains the **difference in days** between transactions performed by each client.\n",
    "\n",
    "This feature should be very useful for the model, since it will give great insights for the model about the frequency of subscriptions of the client."
   ]
  },
  {
   "cell_type": "code",
   "execution_count": 112,
   "id": "8daf9788",
   "metadata": {
    "ExecuteTime": {
     "end_time": "2022-04-25T22:30:12.402588Z",
     "start_time": "2022-04-25T22:25:23.009706Z"
    },
    "pycharm": {
     "name": "#%%\n"
    }
   },
   "outputs": [],
   "source": [
    "transactions.to_csv('./data/transactions_cleaned_final.csv', index=False)"
   ]
  },
  {
   "cell_type": "code",
   "execution_count": 41,
   "id": "903bed05",
   "metadata": {
    "ExecuteTime": {
     "end_time": "2022-04-26T09:34:56.295237Z",
     "start_time": "2022-04-26T09:34:54.345403Z"
    },
    "pycharm": {
     "name": "#%%\n"
    }
   },
   "outputs": [],
   "source": [
    "transactions_cleaned = transactions.dropna(subset=['diff_dates'])"
   ]
  },
  {
   "cell_type": "code",
   "execution_count": 16,
   "id": "61d7dd34",
   "metadata": {
    "ExecuteTime": {
     "end_time": "2022-04-30T13:17:34.826135Z",
     "start_time": "2022-04-30T13:17:34.821099Z"
    },
    "pycharm": {
     "name": "#%%\n"
    }
   },
   "outputs": [],
   "source": [
    "def stats_diff_dates(trx_cleaned, date):\n",
    "    \"\"\"\n",
    "    Compute statistics for the frequency of subscriptions.\n",
    "    :param trx_cleaned: cleaned transactions dataframe\n",
    "    :param date: filter date, only take instances having a date inferior to this date\n",
    "    :return: pandas df containing aggregations performed \n",
    "    \"\"\"\n",
    "    trx_cleaned_filtered = trx_cleaned[trx_cleaned.transaction_date < datetime(date // 100, date % 100, 1)]\n",
    "    \n",
    "    res_diff_dates = trx_cleaned_filtered.groupby(uid)['diff_dates'].agg(['min', 'max', 'mean', 'std'])\n",
    "    res_diff_dates.columns = ['_'.join(['diff_dates', x]) for x in res_diff_dates.columns]\n",
    "    res_diff_dates.reset_index(inplace=True)\n",
    "    \n",
    "    res_diff_dates['date_pred'] = date\n",
    "    return res_diff_dates"
   ]
  },
  {
   "cell_type": "code",
   "execution_count": 59,
   "id": "8ed61a4b",
   "metadata": {
    "ExecuteTime": {
     "end_time": "2022-04-24T13:15:56.430416Z",
     "start_time": "2022-04-24T13:15:45.796110Z"
    },
    "pycharm": {
     "name": "#%%\n"
    },
    "scrolled": false
   },
   "outputs": [
    {
     "data": {
      "text/html": [
       "<div>\n",
       "<style scoped>\n",
       "    .dataframe tbody tr th:only-of-type {\n",
       "        vertical-align: middle;\n",
       "    }\n",
       "\n",
       "    .dataframe tbody tr th {\n",
       "        vertical-align: top;\n",
       "    }\n",
       "\n",
       "    .dataframe thead th {\n",
       "        text-align: right;\n",
       "    }\n",
       "</style>\n",
       "<table border=\"1\" class=\"dataframe\">\n",
       "  <thead>\n",
       "    <tr style=\"text-align: right;\">\n",
       "      <th></th>\n",
       "      <th>msno</th>\n",
       "      <th>diff_dates_min</th>\n",
       "      <th>diff_dates_max</th>\n",
       "      <th>diff_dates_mean</th>\n",
       "      <th>diff_dates_std</th>\n",
       "      <th>date_pred</th>\n",
       "    </tr>\n",
       "  </thead>\n",
       "  <tbody>\n",
       "    <tr>\n",
       "      <th>0</th>\n",
       "      <td>+++l/EXNMLTijfLBa8p2TUVVVp2aFGSuUI/h7mLmthw=</td>\n",
       "      <td>28.0</td>\n",
       "      <td>60.0</td>\n",
       "      <td>33.181818</td>\n",
       "      <td>8.975725</td>\n",
       "      <td>201603</td>\n",
       "    </tr>\n",
       "    <tr>\n",
       "      <th>1</th>\n",
       "      <td>+++snpr7pmobhLKUgSHTv/mpkqgBT0tQJ0zQj6qKrqc=</td>\n",
       "      <td>28.0</td>\n",
       "      <td>31.0</td>\n",
       "      <td>30.461538</td>\n",
       "      <td>0.877058</td>\n",
       "      <td>201603</td>\n",
       "    </tr>\n",
       "    <tr>\n",
       "      <th>2</th>\n",
       "      <td>++/Gw1B9K+XOlB3hLTloeUK2QlCa2m+BJ8TrzGf7djI=</td>\n",
       "      <td>8.0</td>\n",
       "      <td>31.0</td>\n",
       "      <td>27.250000</td>\n",
       "      <td>7.851297</td>\n",
       "      <td>201603</td>\n",
       "    </tr>\n",
       "    <tr>\n",
       "      <th>3</th>\n",
       "      <td>++/TR7WI15q2ZCtOXmoap7jR+kEhbMVE5swOqsfqpqI=</td>\n",
       "      <td>1.0</td>\n",
       "      <td>31.0</td>\n",
       "      <td>26.750000</td>\n",
       "      <td>10.430039</td>\n",
       "      <td>201603</td>\n",
       "    </tr>\n",
       "    <tr>\n",
       "      <th>4</th>\n",
       "      <td>++/UDNo9DLrxT8QVGiDi1OnWfczAdEwThaVyD0fXO50=</td>\n",
       "      <td>28.0</td>\n",
       "      <td>60.0</td>\n",
       "      <td>33.181818</td>\n",
       "      <td>8.975725</td>\n",
       "      <td>201603</td>\n",
       "    </tr>\n",
       "    <tr>\n",
       "      <th>...</th>\n",
       "      <td>...</td>\n",
       "      <td>...</td>\n",
       "      <td>...</td>\n",
       "      <td>...</td>\n",
       "      <td>...</td>\n",
       "      <td>...</td>\n",
       "    </tr>\n",
       "    <tr>\n",
       "      <th>1267967</th>\n",
       "      <td>zzyHq6TK2+cBkeGFUHvh12Z7UxFZiSM7dOOSllSBPDw=</td>\n",
       "      <td>0.0</td>\n",
       "      <td>31.0</td>\n",
       "      <td>27.090909</td>\n",
       "      <td>9.278519</td>\n",
       "      <td>201603</td>\n",
       "    </tr>\n",
       "    <tr>\n",
       "      <th>1267968</th>\n",
       "      <td>zzyuTnRVQQGxs0UN8qzU2Pedh3z8F7UeoiQpNhJRomM=</td>\n",
       "      <td>30.0</td>\n",
       "      <td>31.0</td>\n",
       "      <td>30.500000</td>\n",
       "      <td>0.547723</td>\n",
       "      <td>201603</td>\n",
       "    </tr>\n",
       "    <tr>\n",
       "      <th>1267969</th>\n",
       "      <td>zzz1Dc3P9s53HAowRTrm3fNsWju5yeN4YBfNDq7Z99Q=</td>\n",
       "      <td>7.0</td>\n",
       "      <td>154.0</td>\n",
       "      <td>44.000000</td>\n",
       "      <td>47.056197</td>\n",
       "      <td>201603</td>\n",
       "    </tr>\n",
       "    <tr>\n",
       "      <th>1267970</th>\n",
       "      <td>zzz4xr5LLzoxUqD6LfKiieCt8Or4dUWFQ0RA5gmkx8I=</td>\n",
       "      <td>28.0</td>\n",
       "      <td>31.0</td>\n",
       "      <td>30.461538</td>\n",
       "      <td>0.877058</td>\n",
       "      <td>201603</td>\n",
       "    </tr>\n",
       "    <tr>\n",
       "      <th>1267971</th>\n",
       "      <td>zzz9+ZF4+GMyt63oU8xfjo1EkvRqH5OINlES0RUJI6I=</td>\n",
       "      <td>30.0</td>\n",
       "      <td>31.0</td>\n",
       "      <td>30.500000</td>\n",
       "      <td>0.577350</td>\n",
       "      <td>201603</td>\n",
       "    </tr>\n",
       "  </tbody>\n",
       "</table>\n",
       "<p>1267972 rows × 6 columns</p>\n",
       "</div>"
      ],
      "text/plain": [
       "                                                 msno  diff_dates_min  \\\n",
       "0        +++l/EXNMLTijfLBa8p2TUVVVp2aFGSuUI/h7mLmthw=            28.0   \n",
       "1        +++snpr7pmobhLKUgSHTv/mpkqgBT0tQJ0zQj6qKrqc=            28.0   \n",
       "2        ++/Gw1B9K+XOlB3hLTloeUK2QlCa2m+BJ8TrzGf7djI=             8.0   \n",
       "3        ++/TR7WI15q2ZCtOXmoap7jR+kEhbMVE5swOqsfqpqI=             1.0   \n",
       "4        ++/UDNo9DLrxT8QVGiDi1OnWfczAdEwThaVyD0fXO50=            28.0   \n",
       "...                                               ...             ...   \n",
       "1267967  zzyHq6TK2+cBkeGFUHvh12Z7UxFZiSM7dOOSllSBPDw=             0.0   \n",
       "1267968  zzyuTnRVQQGxs0UN8qzU2Pedh3z8F7UeoiQpNhJRomM=            30.0   \n",
       "1267969  zzz1Dc3P9s53HAowRTrm3fNsWju5yeN4YBfNDq7Z99Q=             7.0   \n",
       "1267970  zzz4xr5LLzoxUqD6LfKiieCt8Or4dUWFQ0RA5gmkx8I=            28.0   \n",
       "1267971  zzz9+ZF4+GMyt63oU8xfjo1EkvRqH5OINlES0RUJI6I=            30.0   \n",
       "\n",
       "         diff_dates_max  diff_dates_mean  diff_dates_std  date_pred  \n",
       "0                  60.0        33.181818        8.975725     201603  \n",
       "1                  31.0        30.461538        0.877058     201603  \n",
       "2                  31.0        27.250000        7.851297     201603  \n",
       "3                  31.0        26.750000       10.430039     201603  \n",
       "4                  60.0        33.181818        8.975725     201603  \n",
       "...                 ...              ...             ...        ...  \n",
       "1267967            31.0        27.090909        9.278519     201603  \n",
       "1267968            31.0        30.500000        0.547723     201603  \n",
       "1267969           154.0        44.000000       47.056197     201603  \n",
       "1267970            31.0        30.461538        0.877058     201603  \n",
       "1267971            31.0        30.500000        0.577350     201603  \n",
       "\n",
       "[1267972 rows x 6 columns]"
      ]
     },
     "execution_count": 59,
     "metadata": {},
     "output_type": "execute_result"
    }
   ],
   "source": [
    "stats_diff_dates(transactions_cleaned, date)"
   ]
  },
  {
   "cell_type": "code",
   "execution_count": 17,
   "id": "caa2045a",
   "metadata": {
    "ExecuteTime": {
     "end_time": "2022-04-30T13:17:34.833831Z",
     "start_time": "2022-04-30T13:17:34.829159Z"
    },
    "pycharm": {
     "name": "#%%\n"
    }
   },
   "outputs": [],
   "source": [
    "# parsing through every training data set, each training data set contains three columns: the column <uid>\n",
    "# the column <is_churn> and the <date_prediction> column\n",
    "paths_churn_data = [x for x in os.listdir('data') if x.startswith('train_set')]"
   ]
  },
  {
   "cell_type": "code",
   "execution_count": 18,
   "id": "db34f173",
   "metadata": {
    "ExecuteTime": {
     "end_time": "2022-04-30T13:17:51.972435Z",
     "start_time": "2022-04-30T13:17:34.839936Z"
    },
    "pycharm": {
     "name": "#%%\n"
    }
   },
   "outputs": [],
   "source": [
    "churn_dfs = [pd.read_csv(os.path.join('data', x)) for x in paths_churn_data]"
   ]
  },
  {
   "cell_type": "code",
   "execution_count": 19,
   "id": "d93eaac6",
   "metadata": {
    "ExecuteTime": {
     "end_time": "2022-04-30T13:17:52.324185Z",
     "start_time": "2022-04-30T13:17:51.974491Z"
    },
    "pycharm": {
     "name": "#%%\n"
    }
   },
   "outputs": [],
   "source": [
    "history_churn_clients = pd.concat(churn_dfs)"
   ]
  },
  {
   "cell_type": "code",
   "execution_count": 20,
   "id": "5e59bfc1",
   "metadata": {
    "ExecuteTime": {
     "end_time": "2022-04-30T13:17:52.627856Z",
     "start_time": "2022-04-30T13:17:52.326252Z"
    },
    "pycharm": {
     "name": "#%%\n"
    }
   },
   "outputs": [],
   "source": [
    "history_churn_clients['is_churn'] = history_churn_clients['is_churn'].astype(int)\n",
    "\n",
    "history_churn_clients['date_prediction'] = pd.to_datetime(history_churn_clients['date_prediction'], format='%Y%m%d')"
   ]
  },
  {
   "cell_type": "code",
   "execution_count": 21,
   "id": "2fbef4ea",
   "metadata": {
    "ExecuteTime": {
     "end_time": "2022-04-30T13:17:52.636269Z",
     "start_time": "2022-04-30T13:17:52.630415Z"
    },
    "pycharm": {
     "name": "#%%\n"
    }
   },
   "outputs": [],
   "source": [
    "def stats_churn(history_churn_clients, date):\n",
    "    \"\"\"\n",
    "    Compute aggregations of features related to the churn history.\n",
    "    :param history_churn_clients: churn history dataframe\n",
    "    :param date: filter date, only take instances having a date inferior to this date\n",
    "    :return: pandas df containing aggregations performed \n",
    "    \"\"\"\n",
    "    history_filtered = history_churn_clients[history_churn_clients.date_prediction < datetime(date // 100, date % 100, 1)]\n",
    "    res_stats_churn = history_filtered.groupby(uid)['is_churn'].agg(['mean', 'sum'])\n",
    "    res_stats_churn.columns = ['_'.join(['churn', x]) for x in res_stats_churn.columns]\n",
    "    \n",
    "    res_stats_churn.reset_index(inplace=True)\n",
    "    res_stats_churn['date_pred'] = date\n",
    "    \n",
    "    return res_stats_churn"
   ]
  },
  {
   "cell_type": "code",
   "execution_count": 94,
   "id": "2d468828",
   "metadata": {
    "ExecuteTime": {
     "end_time": "2022-04-24T13:46:25.758059Z",
     "start_time": "2022-04-24T13:46:22.882745Z"
    },
    "pycharm": {
     "name": "#%%\n"
    }
   },
   "outputs": [
    {
     "data": {
      "text/html": [
       "<div>\n",
       "<style scoped>\n",
       "    .dataframe tbody tr th:only-of-type {\n",
       "        vertical-align: middle;\n",
       "    }\n",
       "\n",
       "    .dataframe tbody tr th {\n",
       "        vertical-align: top;\n",
       "    }\n",
       "\n",
       "    .dataframe thead th {\n",
       "        text-align: right;\n",
       "    }\n",
       "</style>\n",
       "<table border=\"1\" class=\"dataframe\">\n",
       "  <thead>\n",
       "    <tr style=\"text-align: right;\">\n",
       "      <th></th>\n",
       "      <th>msno</th>\n",
       "      <th>churn_mean</th>\n",
       "      <th>churn_sum</th>\n",
       "      <th>date_pred</th>\n",
       "    </tr>\n",
       "  </thead>\n",
       "  <tbody>\n",
       "    <tr>\n",
       "      <th>0</th>\n",
       "      <td>+++l/EXNMLTijfLBa8p2TUVVVp2aFGSuUI/h7mLmthw=</td>\n",
       "      <td>0.5</td>\n",
       "      <td>1</td>\n",
       "      <td>201603</td>\n",
       "    </tr>\n",
       "    <tr>\n",
       "      <th>1</th>\n",
       "      <td>+++snpr7pmobhLKUgSHTv/mpkqgBT0tQJ0zQj6qKrqc=</td>\n",
       "      <td>0.0</td>\n",
       "      <td>0</td>\n",
       "      <td>201603</td>\n",
       "    </tr>\n",
       "    <tr>\n",
       "      <th>2</th>\n",
       "      <td>++/Gw1B9K+XOlB3hLTloeUK2QlCa2m+BJ8TrzGf7djI=</td>\n",
       "      <td>1.0</td>\n",
       "      <td>1</td>\n",
       "      <td>201603</td>\n",
       "    </tr>\n",
       "    <tr>\n",
       "      <th>3</th>\n",
       "      <td>++/UDNo9DLrxT8QVGiDi1OnWfczAdEwThaVyD0fXO50=</td>\n",
       "      <td>0.5</td>\n",
       "      <td>1</td>\n",
       "      <td>201603</td>\n",
       "    </tr>\n",
       "    <tr>\n",
       "      <th>4</th>\n",
       "      <td>++/gTmVgKUbNFmsTiriZdWV1uZIrLXCUiEWN0fEU6BM=</td>\n",
       "      <td>0.0</td>\n",
       "      <td>0</td>\n",
       "      <td>201603</td>\n",
       "    </tr>\n",
       "    <tr>\n",
       "      <th>...</th>\n",
       "      <td>...</td>\n",
       "      <td>...</td>\n",
       "      <td>...</td>\n",
       "      <td>...</td>\n",
       "    </tr>\n",
       "    <tr>\n",
       "      <th>968145</th>\n",
       "      <td>zzyuTnRVQQGxs0UN8qzU2Pedh3z8F7UeoiQpNhJRomM=</td>\n",
       "      <td>0.0</td>\n",
       "      <td>0</td>\n",
       "      <td>201603</td>\n",
       "    </tr>\n",
       "    <tr>\n",
       "      <th>968146</th>\n",
       "      <td>zzz/5bh+8EOZTpIRKWiiaAwEH4uYwfDUaiahJlvABiQ=</td>\n",
       "      <td>0.0</td>\n",
       "      <td>0</td>\n",
       "      <td>201603</td>\n",
       "    </tr>\n",
       "    <tr>\n",
       "      <th>968147</th>\n",
       "      <td>zzz1Dc3P9s53HAowRTrm3fNsWju5yeN4YBfNDq7Z99Q=</td>\n",
       "      <td>0.5</td>\n",
       "      <td>1</td>\n",
       "      <td>201603</td>\n",
       "    </tr>\n",
       "    <tr>\n",
       "      <th>968148</th>\n",
       "      <td>zzz4xr5LLzoxUqD6LfKiieCt8Or4dUWFQ0RA5gmkx8I=</td>\n",
       "      <td>0.0</td>\n",
       "      <td>0</td>\n",
       "      <td>201603</td>\n",
       "    </tr>\n",
       "    <tr>\n",
       "      <th>968149</th>\n",
       "      <td>zzz9+ZF4+GMyt63oU8xfjo1EkvRqH5OINlES0RUJI6I=</td>\n",
       "      <td>0.0</td>\n",
       "      <td>0</td>\n",
       "      <td>201603</td>\n",
       "    </tr>\n",
       "  </tbody>\n",
       "</table>\n",
       "<p>968150 rows × 4 columns</p>\n",
       "</div>"
      ],
      "text/plain": [
       "                                                msno  churn_mean  churn_sum  \\\n",
       "0       +++l/EXNMLTijfLBa8p2TUVVVp2aFGSuUI/h7mLmthw=         0.5          1   \n",
       "1       +++snpr7pmobhLKUgSHTv/mpkqgBT0tQJ0zQj6qKrqc=         0.0          0   \n",
       "2       ++/Gw1B9K+XOlB3hLTloeUK2QlCa2m+BJ8TrzGf7djI=         1.0          1   \n",
       "3       ++/UDNo9DLrxT8QVGiDi1OnWfczAdEwThaVyD0fXO50=         0.5          1   \n",
       "4       ++/gTmVgKUbNFmsTiriZdWV1uZIrLXCUiEWN0fEU6BM=         0.0          0   \n",
       "...                                              ...         ...        ...   \n",
       "968145  zzyuTnRVQQGxs0UN8qzU2Pedh3z8F7UeoiQpNhJRomM=         0.0          0   \n",
       "968146  zzz/5bh+8EOZTpIRKWiiaAwEH4uYwfDUaiahJlvABiQ=         0.0          0   \n",
       "968147  zzz1Dc3P9s53HAowRTrm3fNsWju5yeN4YBfNDq7Z99Q=         0.5          1   \n",
       "968148  zzz4xr5LLzoxUqD6LfKiieCt8Or4dUWFQ0RA5gmkx8I=         0.0          0   \n",
       "968149  zzz9+ZF4+GMyt63oU8xfjo1EkvRqH5OINlES0RUJI6I=         0.0          0   \n",
       "\n",
       "        date_pred  \n",
       "0          201603  \n",
       "1          201603  \n",
       "2          201603  \n",
       "3          201603  \n",
       "4          201603  \n",
       "...           ...  \n",
       "968145     201603  \n",
       "968146     201603  \n",
       "968147     201603  \n",
       "968148     201603  \n",
       "968149     201603  \n",
       "\n",
       "[968150 rows x 4 columns]"
      ]
     },
     "execution_count": 94,
     "metadata": {},
     "output_type": "execute_result"
    }
   ],
   "source": [
    "stats_churn(history_churn_clients, date)"
   ]
  },
  {
   "cell_type": "code",
   "execution_count": 22,
   "id": "37aaa854",
   "metadata": {
    "ExecuteTime": {
     "end_time": "2022-04-30T13:17:52.645201Z",
     "start_time": "2022-04-30T13:17:52.638632Z"
    },
    "pycharm": {
     "name": "#%%\n"
    }
   },
   "outputs": [],
   "source": [
    "def days_last_trx(transactions, date):\n",
    "    \"\"\"\n",
    "    Compute the number of days since the last transaction (subscription) made each client.\n",
    "    :param transactions: transactions dataframe\n",
    "    :param date: filter date, only take instances having a date inferior to this date\n",
    "    :return: pandas df containing the number of days since last transaction\n",
    "    \"\"\"    \n",
    "    transactions_filtered = transactions[transactions.transaction_date < datetime(date // 100, date % 100, 1)]\n",
    "    res_last_trx = transactions_filtered.groupby(uid)['transaction_date'].max().reset_index(name=\"last_trx_date\")\n",
    "    res_last_trx['date_pred'] = date\n",
    "    res_last_trx['days_last_trx'] = (datetime(date // 100, date % 100, 1) - res_last_trx['last_trx_date']).dt.days\n",
    "    \n",
    "    return res_last_trx[[uid, 'date_pred', 'days_last_trx']]"
   ]
  },
  {
   "cell_type": "code",
   "execution_count": 100,
   "id": "266f1274",
   "metadata": {
    "ExecuteTime": {
     "end_time": "2022-04-24T21:23:27.663343Z",
     "start_time": "2022-04-24T21:23:16.003503Z"
    },
    "pycharm": {
     "name": "#%%\n"
    }
   },
   "outputs": [
    {
     "data": {
      "text/html": [
       "<div>\n",
       "<style scoped>\n",
       "    .dataframe tbody tr th:only-of-type {\n",
       "        vertical-align: middle;\n",
       "    }\n",
       "\n",
       "    .dataframe tbody tr th {\n",
       "        vertical-align: top;\n",
       "    }\n",
       "\n",
       "    .dataframe thead th {\n",
       "        text-align: right;\n",
       "    }\n",
       "</style>\n",
       "<table border=\"1\" class=\"dataframe\">\n",
       "  <thead>\n",
       "    <tr style=\"text-align: right;\">\n",
       "      <th></th>\n",
       "      <th>msno</th>\n",
       "      <th>date_pred</th>\n",
       "      <th>days_last_trx</th>\n",
       "    </tr>\n",
       "  </thead>\n",
       "  <tbody>\n",
       "    <tr>\n",
       "      <th>0</th>\n",
       "      <td>+++IZseRRiQS9aaSkH6cMYU6bGDcxUieAi/tH67sC5s=</td>\n",
       "      <td>201603</td>\n",
       "      <td>101</td>\n",
       "    </tr>\n",
       "    <tr>\n",
       "      <th>1</th>\n",
       "      <td>+++l/EXNMLTijfLBa8p2TUVVVp2aFGSuUI/h7mLmthw=</td>\n",
       "      <td>201603</td>\n",
       "      <td>30</td>\n",
       "    </tr>\n",
       "    <tr>\n",
       "      <th>2</th>\n",
       "      <td>+++snpr7pmobhLKUgSHTv/mpkqgBT0tQJ0zQj6qKrqc=</td>\n",
       "      <td>201603</td>\n",
       "      <td>4</td>\n",
       "    </tr>\n",
       "    <tr>\n",
       "      <th>3</th>\n",
       "      <td>++/Gw1B9K+XOlB3hLTloeUK2QlCa2m+BJ8TrzGf7djI=</td>\n",
       "      <td>201603</td>\n",
       "      <td>195</td>\n",
       "    </tr>\n",
       "    <tr>\n",
       "      <th>4</th>\n",
       "      <td>++/TR7WI15q2ZCtOXmoap7jR+kEhbMVE5swOqsfqpqI=</td>\n",
       "      <td>201603</td>\n",
       "      <td>188</td>\n",
       "    </tr>\n",
       "    <tr>\n",
       "      <th>...</th>\n",
       "      <td>...</td>\n",
       "      <td>...</td>\n",
       "      <td>...</td>\n",
       "    </tr>\n",
       "    <tr>\n",
       "      <th>1639823</th>\n",
       "      <td>zzz4xr5LLzoxUqD6LfKiieCt8Or4dUWFQ0RA5gmkx8I=</td>\n",
       "      <td>201603</td>\n",
       "      <td>26</td>\n",
       "    </tr>\n",
       "    <tr>\n",
       "      <th>1639824</th>\n",
       "      <td>zzz672Xpk1wKox75rJ5gak43ZkFQUV1f7Xek3jnPeRM=</td>\n",
       "      <td>201603</td>\n",
       "      <td>270</td>\n",
       "    </tr>\n",
       "    <tr>\n",
       "      <th>1639825</th>\n",
       "      <td>zzz9+ZF4+GMyt63oU8xfjo1EkvRqH5OINlES0RUJI6I=</td>\n",
       "      <td>201603</td>\n",
       "      <td>17</td>\n",
       "    </tr>\n",
       "    <tr>\n",
       "      <th>1639826</th>\n",
       "      <td>zzztsqkufVj9DPVJDM3FxDkhlbCL5z4aiYxgPSGkIK4=</td>\n",
       "      <td>201603</td>\n",
       "      <td>267</td>\n",
       "    </tr>\n",
       "    <tr>\n",
       "      <th>1639827</th>\n",
       "      <td>zzzyOgMk9MljCerbCCYrVtvu85aSCiy7yCMjAEgNYMs=</td>\n",
       "      <td>201603</td>\n",
       "      <td>262</td>\n",
       "    </tr>\n",
       "  </tbody>\n",
       "</table>\n",
       "<p>1639828 rows × 3 columns</p>\n",
       "</div>"
      ],
      "text/plain": [
       "                                                 msno  date_pred  \\\n",
       "0        +++IZseRRiQS9aaSkH6cMYU6bGDcxUieAi/tH67sC5s=     201603   \n",
       "1        +++l/EXNMLTijfLBa8p2TUVVVp2aFGSuUI/h7mLmthw=     201603   \n",
       "2        +++snpr7pmobhLKUgSHTv/mpkqgBT0tQJ0zQj6qKrqc=     201603   \n",
       "3        ++/Gw1B9K+XOlB3hLTloeUK2QlCa2m+BJ8TrzGf7djI=     201603   \n",
       "4        ++/TR7WI15q2ZCtOXmoap7jR+kEhbMVE5swOqsfqpqI=     201603   \n",
       "...                                               ...        ...   \n",
       "1639823  zzz4xr5LLzoxUqD6LfKiieCt8Or4dUWFQ0RA5gmkx8I=     201603   \n",
       "1639824  zzz672Xpk1wKox75rJ5gak43ZkFQUV1f7Xek3jnPeRM=     201603   \n",
       "1639825  zzz9+ZF4+GMyt63oU8xfjo1EkvRqH5OINlES0RUJI6I=     201603   \n",
       "1639826  zzztsqkufVj9DPVJDM3FxDkhlbCL5z4aiYxgPSGkIK4=     201603   \n",
       "1639827  zzzyOgMk9MljCerbCCYrVtvu85aSCiy7yCMjAEgNYMs=     201603   \n",
       "\n",
       "         days_last_trx  \n",
       "0                  101  \n",
       "1                   30  \n",
       "2                    4  \n",
       "3                  195  \n",
       "4                  188  \n",
       "...                ...  \n",
       "1639823             26  \n",
       "1639824            270  \n",
       "1639825             17  \n",
       "1639826            267  \n",
       "1639827            262  \n",
       "\n",
       "[1639828 rows x 3 columns]"
      ]
     },
     "execution_count": 100,
     "metadata": {},
     "output_type": "execute_result"
    }
   ],
   "source": [
    "days_last_trx(transactions, date)"
   ]
  },
  {
   "cell_type": "markdown",
   "id": "531e05b1",
   "metadata": {
    "pycharm": {
     "name": "#%% md\n"
    }
   },
   "source": [
    "## Members Features"
   ]
  },
  {
   "cell_type": "markdown",
   "id": "35d187f9",
   "metadata": {
    "pycharm": {
     "name": "#%% md\n"
    }
   },
   "source": [
    "[(Back to top)](#Table-of-Contents)"
   ]
  },
  {
   "cell_type": "code",
   "execution_count": 23,
   "id": "03b97b04",
   "metadata": {
    "ExecuteTime": {
     "end_time": "2022-04-30T13:18:04.346722Z",
     "start_time": "2022-04-30T13:17:52.655056Z"
    },
    "pycharm": {
     "name": "#%%\n"
    }
   },
   "outputs": [],
   "source": [
    "members = pd.read_csv(os.path.join('data', 'members_cleaned.csv'))"
   ]
  },
  {
   "cell_type": "code",
   "execution_count": 24,
   "id": "97d6f2b2",
   "metadata": {
    "ExecuteTime": {
     "end_time": "2022-04-30T13:18:05.572803Z",
     "start_time": "2022-04-30T13:18:04.349672Z"
    },
    "pycharm": {
     "name": "#%%\n"
    }
   },
   "outputs": [],
   "source": [
    "members.drop('Unnamed: 0', axis=1, inplace=True)\n",
    "members['registration_init_time'] = pd.to_datetime(members['registration_init_time'], format='%Y%m%d')\n",
    "members['gender'] = members['gender'].astype(\"category\").cat.codes"
   ]
  },
  {
   "cell_type": "code",
   "execution_count": 11,
   "id": "75aeb848",
   "metadata": {
    "ExecuteTime": {
     "end_time": "2022-04-29T15:19:30.667177Z",
     "start_time": "2022-04-29T15:19:30.655675Z"
    },
    "pycharm": {
     "name": "#%%\n"
    }
   },
   "outputs": [
    {
     "data": {
      "text/html": [
       "<div>\n",
       "<style scoped>\n",
       "    .dataframe tbody tr th:only-of-type {\n",
       "        vertical-align: middle;\n",
       "    }\n",
       "\n",
       "    .dataframe tbody tr th {\n",
       "        vertical-align: top;\n",
       "    }\n",
       "\n",
       "    .dataframe thead th {\n",
       "        text-align: right;\n",
       "    }\n",
       "</style>\n",
       "<table border=\"1\" class=\"dataframe\">\n",
       "  <thead>\n",
       "    <tr style=\"text-align: right;\">\n",
       "      <th></th>\n",
       "      <th>msno</th>\n",
       "      <th>city</th>\n",
       "      <th>bd</th>\n",
       "      <th>gender</th>\n",
       "      <th>registered_via</th>\n",
       "      <th>registration_init_time</th>\n",
       "    </tr>\n",
       "  </thead>\n",
       "  <tbody>\n",
       "    <tr>\n",
       "      <th>0</th>\n",
       "      <td>Rb9UwLQTrxzBVwCB6+bCcSQWZ9JiNLC9dXtM1oEsZA8=</td>\n",
       "      <td>1</td>\n",
       "      <td>27.0</td>\n",
       "      <td>1</td>\n",
       "      <td>11</td>\n",
       "      <td>2011-09-11</td>\n",
       "    </tr>\n",
       "    <tr>\n",
       "      <th>1</th>\n",
       "      <td>+tJonkh+O1CA796Fm5X60UMOtB6POHAwPjbTRVl/EuU=</td>\n",
       "      <td>1</td>\n",
       "      <td>27.0</td>\n",
       "      <td>1</td>\n",
       "      <td>7</td>\n",
       "      <td>2011-09-14</td>\n",
       "    </tr>\n",
       "    <tr>\n",
       "      <th>2</th>\n",
       "      <td>cV358ssn7a0f7jZOwGNWS07wCKVqxyiImJUX6xcIwKw=</td>\n",
       "      <td>1</td>\n",
       "      <td>27.0</td>\n",
       "      <td>1</td>\n",
       "      <td>11</td>\n",
       "      <td>2011-09-15</td>\n",
       "    </tr>\n",
       "    <tr>\n",
       "      <th>3</th>\n",
       "      <td>9bzDeJP6sQodK73K5CBlJ6fgIQzPeLnRl0p5B77XP+g=</td>\n",
       "      <td>1</td>\n",
       "      <td>27.0</td>\n",
       "      <td>1</td>\n",
       "      <td>11</td>\n",
       "      <td>2011-09-15</td>\n",
       "    </tr>\n",
       "    <tr>\n",
       "      <th>4</th>\n",
       "      <td>WFLY3s7z4EZsieHCt63XrsdtfTEmJ+2PnnKLH5GY4Tk=</td>\n",
       "      <td>6</td>\n",
       "      <td>32.0</td>\n",
       "      <td>0</td>\n",
       "      <td>9</td>\n",
       "      <td>2011-09-15</td>\n",
       "    </tr>\n",
       "  </tbody>\n",
       "</table>\n",
       "</div>"
      ],
      "text/plain": [
       "                                           msno  city    bd  gender  \\\n",
       "0  Rb9UwLQTrxzBVwCB6+bCcSQWZ9JiNLC9dXtM1oEsZA8=     1  27.0       1   \n",
       "1  +tJonkh+O1CA796Fm5X60UMOtB6POHAwPjbTRVl/EuU=     1  27.0       1   \n",
       "2  cV358ssn7a0f7jZOwGNWS07wCKVqxyiImJUX6xcIwKw=     1  27.0       1   \n",
       "3  9bzDeJP6sQodK73K5CBlJ6fgIQzPeLnRl0p5B77XP+g=     1  27.0       1   \n",
       "4  WFLY3s7z4EZsieHCt63XrsdtfTEmJ+2PnnKLH5GY4Tk=     6  32.0       0   \n",
       "\n",
       "   registered_via registration_init_time  \n",
       "0              11             2011-09-11  \n",
       "1               7             2011-09-14  \n",
       "2              11             2011-09-15  \n",
       "3              11             2011-09-15  \n",
       "4               9             2011-09-15  "
      ]
     },
     "execution_count": 11,
     "metadata": {},
     "output_type": "execute_result"
    }
   ],
   "source": [
    "members.head()"
   ]
  },
  {
   "cell_type": "code",
   "execution_count": 31,
   "id": "43060f2c",
   "metadata": {
    "ExecuteTime": {
     "end_time": "2022-04-26T09:33:15.376182Z",
     "start_time": "2022-04-26T09:33:15.339701Z"
    },
    "pycharm": {
     "name": "#%%\n"
    }
   },
   "outputs": [
    {
     "data": {
      "text/plain": [
       "msno                              object\n",
       "city                               int64\n",
       "bd                               float64\n",
       "gender                              int8\n",
       "registered_via                     int64\n",
       "registration_init_time    datetime64[ns]\n",
       "dtype: object"
      ]
     },
     "execution_count": 31,
     "metadata": {},
     "output_type": "execute_result"
    }
   ],
   "source": [
    "members.dtypes"
   ]
  },
  {
   "cell_type": "code",
   "execution_count": 2,
   "id": "d274baac",
   "metadata": {
    "ExecuteTime": {
     "end_time": "2022-06-29T15:29:38.852793Z",
     "start_time": "2022-06-29T15:29:38.848959Z"
    },
    "pycharm": {
     "name": "#%%\n"
    }
   },
   "outputs": [],
   "source": [
    "def dummify_column_top_5(members, column):\n",
    "    \"\"\"\n",
    "    Perform one hot encoding and only select the top 5 (most recurring) values\n",
    "    :param members: members dataframe\n",
    "    :param column: the categorical column to which we apply the dummyfying\n",
    "    :return: pandas dataframe\n",
    "    \"\"\"    \n",
    "    top_5_column = members[column].value_counts().reset_index().loc[:5, 'index'].tolist()\n",
    "    members.loc[~members[column].isin(top_5_column), column] = 'other'\n",
    "    dummies_column = pd.get_dummies(members[column])\n",
    "    dummies_column.columns = ['_'.join([column, str(x)]) for x in dummies_column.columns]    \n",
    "    return dummies_column"
   ]
  },
  {
   "cell_type": "code",
   "execution_count": 33,
   "id": "598e067d",
   "metadata": {
    "ExecuteTime": {
     "end_time": "2022-04-26T09:33:16.162601Z",
     "start_time": "2022-04-26T09:33:15.384474Z"
    },
    "pycharm": {
     "name": "#%%\n"
    },
    "scrolled": true
   },
   "outputs": [
    {
     "data": {
      "text/html": [
       "<div>\n",
       "<style scoped>\n",
       "    .dataframe tbody tr th:only-of-type {\n",
       "        vertical-align: middle;\n",
       "    }\n",
       "\n",
       "    .dataframe tbody tr th {\n",
       "        vertical-align: top;\n",
       "    }\n",
       "\n",
       "    .dataframe thead th {\n",
       "        text-align: right;\n",
       "    }\n",
       "</style>\n",
       "<table border=\"1\" class=\"dataframe\">\n",
       "  <thead>\n",
       "    <tr style=\"text-align: right;\">\n",
       "      <th></th>\n",
       "      <th>city_1</th>\n",
       "      <th>city_4</th>\n",
       "      <th>city_5</th>\n",
       "      <th>city_13</th>\n",
       "      <th>city_15</th>\n",
       "      <th>city_22</th>\n",
       "      <th>city_other</th>\n",
       "    </tr>\n",
       "  </thead>\n",
       "  <tbody>\n",
       "    <tr>\n",
       "      <th>0</th>\n",
       "      <td>1</td>\n",
       "      <td>0</td>\n",
       "      <td>0</td>\n",
       "      <td>0</td>\n",
       "      <td>0</td>\n",
       "      <td>0</td>\n",
       "      <td>0</td>\n",
       "    </tr>\n",
       "    <tr>\n",
       "      <th>1</th>\n",
       "      <td>1</td>\n",
       "      <td>0</td>\n",
       "      <td>0</td>\n",
       "      <td>0</td>\n",
       "      <td>0</td>\n",
       "      <td>0</td>\n",
       "      <td>0</td>\n",
       "    </tr>\n",
       "    <tr>\n",
       "      <th>2</th>\n",
       "      <td>1</td>\n",
       "      <td>0</td>\n",
       "      <td>0</td>\n",
       "      <td>0</td>\n",
       "      <td>0</td>\n",
       "      <td>0</td>\n",
       "      <td>0</td>\n",
       "    </tr>\n",
       "    <tr>\n",
       "      <th>3</th>\n",
       "      <td>1</td>\n",
       "      <td>0</td>\n",
       "      <td>0</td>\n",
       "      <td>0</td>\n",
       "      <td>0</td>\n",
       "      <td>0</td>\n",
       "      <td>0</td>\n",
       "    </tr>\n",
       "    <tr>\n",
       "      <th>4</th>\n",
       "      <td>0</td>\n",
       "      <td>0</td>\n",
       "      <td>0</td>\n",
       "      <td>0</td>\n",
       "      <td>0</td>\n",
       "      <td>0</td>\n",
       "      <td>1</td>\n",
       "    </tr>\n",
       "    <tr>\n",
       "      <th>...</th>\n",
       "      <td>...</td>\n",
       "      <td>...</td>\n",
       "      <td>...</td>\n",
       "      <td>...</td>\n",
       "      <td>...</td>\n",
       "      <td>...</td>\n",
       "      <td>...</td>\n",
       "    </tr>\n",
       "    <tr>\n",
       "      <th>6769468</th>\n",
       "      <td>1</td>\n",
       "      <td>0</td>\n",
       "      <td>0</td>\n",
       "      <td>0</td>\n",
       "      <td>0</td>\n",
       "      <td>0</td>\n",
       "      <td>0</td>\n",
       "    </tr>\n",
       "    <tr>\n",
       "      <th>6769469</th>\n",
       "      <td>1</td>\n",
       "      <td>0</td>\n",
       "      <td>0</td>\n",
       "      <td>0</td>\n",
       "      <td>0</td>\n",
       "      <td>0</td>\n",
       "      <td>0</td>\n",
       "    </tr>\n",
       "    <tr>\n",
       "      <th>6769470</th>\n",
       "      <td>0</td>\n",
       "      <td>0</td>\n",
       "      <td>0</td>\n",
       "      <td>0</td>\n",
       "      <td>1</td>\n",
       "      <td>0</td>\n",
       "      <td>0</td>\n",
       "    </tr>\n",
       "    <tr>\n",
       "      <th>6769471</th>\n",
       "      <td>1</td>\n",
       "      <td>0</td>\n",
       "      <td>0</td>\n",
       "      <td>0</td>\n",
       "      <td>0</td>\n",
       "      <td>0</td>\n",
       "      <td>0</td>\n",
       "    </tr>\n",
       "    <tr>\n",
       "      <th>6769472</th>\n",
       "      <td>1</td>\n",
       "      <td>0</td>\n",
       "      <td>0</td>\n",
       "      <td>0</td>\n",
       "      <td>0</td>\n",
       "      <td>0</td>\n",
       "      <td>0</td>\n",
       "    </tr>\n",
       "  </tbody>\n",
       "</table>\n",
       "<p>6769473 rows × 7 columns</p>\n",
       "</div>"
      ],
      "text/plain": [
       "         city_1  city_4  city_5  city_13  city_15  city_22  city_other\n",
       "0             1       0       0        0        0        0           0\n",
       "1             1       0       0        0        0        0           0\n",
       "2             1       0       0        0        0        0           0\n",
       "3             1       0       0        0        0        0           0\n",
       "4             0       0       0        0        0        0           1\n",
       "...         ...     ...     ...      ...      ...      ...         ...\n",
       "6769468       1       0       0        0        0        0           0\n",
       "6769469       1       0       0        0        0        0           0\n",
       "6769470       0       0       0        0        1        0           0\n",
       "6769471       1       0       0        0        0        0           0\n",
       "6769472       1       0       0        0        0        0           0\n",
       "\n",
       "[6769473 rows x 7 columns]"
      ]
     },
     "execution_count": 33,
     "metadata": {},
     "output_type": "execute_result"
    }
   ],
   "source": [
    "dummify_column_top_5(members, 'city')"
   ]
  },
  {
   "cell_type": "code",
   "execution_count": 26,
   "id": "b7567393",
   "metadata": {
    "ExecuteTime": {
     "end_time": "2022-04-30T13:18:05.586936Z",
     "start_time": "2022-04-30T13:18:05.581996Z"
    },
    "pycharm": {
     "name": "#%%\n"
    }
   },
   "outputs": [],
   "source": [
    "def members_static_features(members, date):\n",
    "    \"\"\"\n",
    "    Select static features for each client\n",
    "    :param members: members dataframe\n",
    "    :param date: filter date, only take instances having a date inferior to this date\n",
    "    :return: pandas dataframe\n",
    "    \"\"\"\n",
    "    static_features = members[[uid, 'bd', 'gender']]\n",
    "    dummies_city  = dummify_column_top_5(members, 'city')\n",
    "    dummies_registration  = dummify_column_top_5(members, 'registered_via')\n",
    "    \n",
    "    final_res = pd.concat([static_features, dummies_city, dummies_registration], axis=1)\n",
    "    final_res['date_pred'] = date\n",
    "    \n",
    "    return final_res"
   ]
  },
  {
   "cell_type": "code",
   "execution_count": 35,
   "id": "8c52f542",
   "metadata": {
    "ExecuteTime": {
     "end_time": "2022-04-26T09:33:19.021541Z",
     "start_time": "2022-04-26T09:33:16.170748Z"
    },
    "pycharm": {
     "name": "#%%\n"
    }
   },
   "outputs": [
    {
     "data": {
      "text/html": [
       "<div>\n",
       "<style scoped>\n",
       "    .dataframe tbody tr th:only-of-type {\n",
       "        vertical-align: middle;\n",
       "    }\n",
       "\n",
       "    .dataframe tbody tr th {\n",
       "        vertical-align: top;\n",
       "    }\n",
       "\n",
       "    .dataframe thead th {\n",
       "        text-align: right;\n",
       "    }\n",
       "</style>\n",
       "<table border=\"1\" class=\"dataframe\">\n",
       "  <thead>\n",
       "    <tr style=\"text-align: right;\">\n",
       "      <th></th>\n",
       "      <th>msno</th>\n",
       "      <th>bd</th>\n",
       "      <th>gender</th>\n",
       "      <th>city_1</th>\n",
       "      <th>city_4</th>\n",
       "      <th>city_5</th>\n",
       "      <th>city_13</th>\n",
       "      <th>city_22</th>\n",
       "      <th>city_other</th>\n",
       "      <th>registered_via_3</th>\n",
       "      <th>registered_via_4</th>\n",
       "      <th>registered_via_7</th>\n",
       "      <th>registered_via_9</th>\n",
       "      <th>registered_via_11</th>\n",
       "      <th>registered_via_13</th>\n",
       "      <th>registered_via_other</th>\n",
       "    </tr>\n",
       "  </thead>\n",
       "  <tbody>\n",
       "    <tr>\n",
       "      <th>0</th>\n",
       "      <td>Rb9UwLQTrxzBVwCB6+bCcSQWZ9JiNLC9dXtM1oEsZA8=</td>\n",
       "      <td>27.0</td>\n",
       "      <td>1</td>\n",
       "      <td>1</td>\n",
       "      <td>0</td>\n",
       "      <td>0</td>\n",
       "      <td>0</td>\n",
       "      <td>0</td>\n",
       "      <td>0</td>\n",
       "      <td>0</td>\n",
       "      <td>0</td>\n",
       "      <td>0</td>\n",
       "      <td>0</td>\n",
       "      <td>1</td>\n",
       "      <td>0</td>\n",
       "      <td>0</td>\n",
       "    </tr>\n",
       "    <tr>\n",
       "      <th>1</th>\n",
       "      <td>+tJonkh+O1CA796Fm5X60UMOtB6POHAwPjbTRVl/EuU=</td>\n",
       "      <td>27.0</td>\n",
       "      <td>1</td>\n",
       "      <td>1</td>\n",
       "      <td>0</td>\n",
       "      <td>0</td>\n",
       "      <td>0</td>\n",
       "      <td>0</td>\n",
       "      <td>0</td>\n",
       "      <td>0</td>\n",
       "      <td>0</td>\n",
       "      <td>1</td>\n",
       "      <td>0</td>\n",
       "      <td>0</td>\n",
       "      <td>0</td>\n",
       "      <td>0</td>\n",
       "    </tr>\n",
       "    <tr>\n",
       "      <th>2</th>\n",
       "      <td>cV358ssn7a0f7jZOwGNWS07wCKVqxyiImJUX6xcIwKw=</td>\n",
       "      <td>27.0</td>\n",
       "      <td>1</td>\n",
       "      <td>1</td>\n",
       "      <td>0</td>\n",
       "      <td>0</td>\n",
       "      <td>0</td>\n",
       "      <td>0</td>\n",
       "      <td>0</td>\n",
       "      <td>0</td>\n",
       "      <td>0</td>\n",
       "      <td>0</td>\n",
       "      <td>0</td>\n",
       "      <td>1</td>\n",
       "      <td>0</td>\n",
       "      <td>0</td>\n",
       "    </tr>\n",
       "    <tr>\n",
       "      <th>3</th>\n",
       "      <td>9bzDeJP6sQodK73K5CBlJ6fgIQzPeLnRl0p5B77XP+g=</td>\n",
       "      <td>27.0</td>\n",
       "      <td>1</td>\n",
       "      <td>1</td>\n",
       "      <td>0</td>\n",
       "      <td>0</td>\n",
       "      <td>0</td>\n",
       "      <td>0</td>\n",
       "      <td>0</td>\n",
       "      <td>0</td>\n",
       "      <td>0</td>\n",
       "      <td>0</td>\n",
       "      <td>0</td>\n",
       "      <td>1</td>\n",
       "      <td>0</td>\n",
       "      <td>0</td>\n",
       "    </tr>\n",
       "    <tr>\n",
       "      <th>4</th>\n",
       "      <td>WFLY3s7z4EZsieHCt63XrsdtfTEmJ+2PnnKLH5GY4Tk=</td>\n",
       "      <td>32.0</td>\n",
       "      <td>0</td>\n",
       "      <td>0</td>\n",
       "      <td>0</td>\n",
       "      <td>0</td>\n",
       "      <td>0</td>\n",
       "      <td>0</td>\n",
       "      <td>1</td>\n",
       "      <td>0</td>\n",
       "      <td>0</td>\n",
       "      <td>0</td>\n",
       "      <td>1</td>\n",
       "      <td>0</td>\n",
       "      <td>0</td>\n",
       "      <td>0</td>\n",
       "    </tr>\n",
       "    <tr>\n",
       "      <th>...</th>\n",
       "      <td>...</td>\n",
       "      <td>...</td>\n",
       "      <td>...</td>\n",
       "      <td>...</td>\n",
       "      <td>...</td>\n",
       "      <td>...</td>\n",
       "      <td>...</td>\n",
       "      <td>...</td>\n",
       "      <td>...</td>\n",
       "      <td>...</td>\n",
       "      <td>...</td>\n",
       "      <td>...</td>\n",
       "      <td>...</td>\n",
       "      <td>...</td>\n",
       "      <td>...</td>\n",
       "      <td>...</td>\n",
       "    </tr>\n",
       "    <tr>\n",
       "      <th>6769468</th>\n",
       "      <td>VSGkb3hyBRUtb/b1MQUZbvOkktS3vKLnhMHW0CF8eyU=</td>\n",
       "      <td>27.0</td>\n",
       "      <td>1</td>\n",
       "      <td>1</td>\n",
       "      <td>0</td>\n",
       "      <td>0</td>\n",
       "      <td>0</td>\n",
       "      <td>0</td>\n",
       "      <td>0</td>\n",
       "      <td>0</td>\n",
       "      <td>0</td>\n",
       "      <td>1</td>\n",
       "      <td>0</td>\n",
       "      <td>0</td>\n",
       "      <td>0</td>\n",
       "      <td>0</td>\n",
       "    </tr>\n",
       "    <tr>\n",
       "      <th>6769469</th>\n",
       "      <td>nWjH7glPkZ7jOVaCRwwjlpmp0T1hSWdv8hMJxiWCwKc=</td>\n",
       "      <td>27.0</td>\n",
       "      <td>1</td>\n",
       "      <td>1</td>\n",
       "      <td>0</td>\n",
       "      <td>0</td>\n",
       "      <td>0</td>\n",
       "      <td>0</td>\n",
       "      <td>0</td>\n",
       "      <td>0</td>\n",
       "      <td>0</td>\n",
       "      <td>1</td>\n",
       "      <td>0</td>\n",
       "      <td>0</td>\n",
       "      <td>0</td>\n",
       "      <td>0</td>\n",
       "    </tr>\n",
       "    <tr>\n",
       "      <th>6769470</th>\n",
       "      <td>GH+b5+1tlv7ZZXsA8upBzVXMTLyffKcsF7WoU8b5rOI=</td>\n",
       "      <td>26.0</td>\n",
       "      <td>0</td>\n",
       "      <td>0</td>\n",
       "      <td>0</td>\n",
       "      <td>0</td>\n",
       "      <td>0</td>\n",
       "      <td>0</td>\n",
       "      <td>1</td>\n",
       "      <td>0</td>\n",
       "      <td>1</td>\n",
       "      <td>0</td>\n",
       "      <td>0</td>\n",
       "      <td>0</td>\n",
       "      <td>0</td>\n",
       "      <td>0</td>\n",
       "    </tr>\n",
       "    <tr>\n",
       "      <th>6769471</th>\n",
       "      <td>XVlwT3fdCFGKqerEKBzUIjK+jzI6jzSke4cDMVhYyjE=</td>\n",
       "      <td>27.0</td>\n",
       "      <td>1</td>\n",
       "      <td>1</td>\n",
       "      <td>0</td>\n",
       "      <td>0</td>\n",
       "      <td>0</td>\n",
       "      <td>0</td>\n",
       "      <td>0</td>\n",
       "      <td>0</td>\n",
       "      <td>1</td>\n",
       "      <td>0</td>\n",
       "      <td>0</td>\n",
       "      <td>0</td>\n",
       "      <td>0</td>\n",
       "      <td>0</td>\n",
       "    </tr>\n",
       "    <tr>\n",
       "      <th>6769472</th>\n",
       "      <td>isBt+JlgvZRNy6lxVr5vvuJ4lD00ofTaKyJ+uRnGcPg=</td>\n",
       "      <td>27.0</td>\n",
       "      <td>1</td>\n",
       "      <td>1</td>\n",
       "      <td>0</td>\n",
       "      <td>0</td>\n",
       "      <td>0</td>\n",
       "      <td>0</td>\n",
       "      <td>0</td>\n",
       "      <td>0</td>\n",
       "      <td>1</td>\n",
       "      <td>0</td>\n",
       "      <td>0</td>\n",
       "      <td>0</td>\n",
       "      <td>0</td>\n",
       "      <td>0</td>\n",
       "    </tr>\n",
       "  </tbody>\n",
       "</table>\n",
       "<p>6769473 rows × 16 columns</p>\n",
       "</div>"
      ],
      "text/plain": [
       "                                                 msno    bd  gender  city_1  \\\n",
       "0        Rb9UwLQTrxzBVwCB6+bCcSQWZ9JiNLC9dXtM1oEsZA8=  27.0       1       1   \n",
       "1        +tJonkh+O1CA796Fm5X60UMOtB6POHAwPjbTRVl/EuU=  27.0       1       1   \n",
       "2        cV358ssn7a0f7jZOwGNWS07wCKVqxyiImJUX6xcIwKw=  27.0       1       1   \n",
       "3        9bzDeJP6sQodK73K5CBlJ6fgIQzPeLnRl0p5B77XP+g=  27.0       1       1   \n",
       "4        WFLY3s7z4EZsieHCt63XrsdtfTEmJ+2PnnKLH5GY4Tk=  32.0       0       0   \n",
       "...                                               ...   ...     ...     ...   \n",
       "6769468  VSGkb3hyBRUtb/b1MQUZbvOkktS3vKLnhMHW0CF8eyU=  27.0       1       1   \n",
       "6769469  nWjH7glPkZ7jOVaCRwwjlpmp0T1hSWdv8hMJxiWCwKc=  27.0       1       1   \n",
       "6769470  GH+b5+1tlv7ZZXsA8upBzVXMTLyffKcsF7WoU8b5rOI=  26.0       0       0   \n",
       "6769471  XVlwT3fdCFGKqerEKBzUIjK+jzI6jzSke4cDMVhYyjE=  27.0       1       1   \n",
       "6769472  isBt+JlgvZRNy6lxVr5vvuJ4lD00ofTaKyJ+uRnGcPg=  27.0       1       1   \n",
       "\n",
       "         city_4  city_5  city_13  city_22  city_other  registered_via_3  \\\n",
       "0             0       0        0        0           0                 0   \n",
       "1             0       0        0        0           0                 0   \n",
       "2             0       0        0        0           0                 0   \n",
       "3             0       0        0        0           0                 0   \n",
       "4             0       0        0        0           1                 0   \n",
       "...         ...     ...      ...      ...         ...               ...   \n",
       "6769468       0       0        0        0           0                 0   \n",
       "6769469       0       0        0        0           0                 0   \n",
       "6769470       0       0        0        0           1                 0   \n",
       "6769471       0       0        0        0           0                 0   \n",
       "6769472       0       0        0        0           0                 0   \n",
       "\n",
       "         registered_via_4  registered_via_7  registered_via_9  \\\n",
       "0                       0                 0                 0   \n",
       "1                       0                 1                 0   \n",
       "2                       0                 0                 0   \n",
       "3                       0                 0                 0   \n",
       "4                       0                 0                 1   \n",
       "...                   ...               ...               ...   \n",
       "6769468                 0                 1                 0   \n",
       "6769469                 0                 1                 0   \n",
       "6769470                 1                 0                 0   \n",
       "6769471                 1                 0                 0   \n",
       "6769472                 1                 0                 0   \n",
       "\n",
       "         registered_via_11  registered_via_13  registered_via_other  \n",
       "0                        1                  0                     0  \n",
       "1                        0                  0                     0  \n",
       "2                        1                  0                     0  \n",
       "3                        1                  0                     0  \n",
       "4                        0                  0                     0  \n",
       "...                    ...                ...                   ...  \n",
       "6769468                  0                  0                     0  \n",
       "6769469                  0                  0                     0  \n",
       "6769470                  0                  0                     0  \n",
       "6769471                  0                  0                     0  \n",
       "6769472                  0                  0                     0  \n",
       "\n",
       "[6769473 rows x 16 columns]"
      ]
     },
     "execution_count": 35,
     "metadata": {},
     "output_type": "execute_result"
    }
   ],
   "source": [
    "members_static_features(members)"
   ]
  },
  {
   "cell_type": "code",
   "execution_count": 27,
   "id": "c99558bf",
   "metadata": {
    "ExecuteTime": {
     "end_time": "2022-04-30T13:18:05.594225Z",
     "start_time": "2022-04-30T13:18:05.588686Z"
    },
    "pycharm": {
     "name": "#%%\n"
    }
   },
   "outputs": [],
   "source": [
    "def compute_tenure(members, date):\n",
    "    \"\"\"\n",
    "    Compute the number of days since the client started being a member.\n",
    "    :param members: members dataframe\n",
    "    :param date: filter date, only take instances having a date inferior to this date\n",
    "    :return: pandas dataframe\n",
    "    \"\"\"\n",
    "    members['tenure_days'] = (datetime(date // 100, date % 100, 1) - members['registration_init_time']).dt.days\n",
    "    members['date_pred'] = date\n",
    "    \n",
    "    return members[[uid, 'tenure_days', \"date_pred\"]]"
   ]
  },
  {
   "cell_type": "code",
   "execution_count": 74,
   "id": "f9bd748d",
   "metadata": {
    "ExecuteTime": {
     "end_time": "2022-04-24T21:07:34.696228Z",
     "start_time": "2022-04-24T21:07:34.143021Z"
    },
    "pycharm": {
     "name": "#%%\n"
    },
    "scrolled": true
   },
   "outputs": [
    {
     "data": {
      "text/html": [
       "<div>\n",
       "<style scoped>\n",
       "    .dataframe tbody tr th:only-of-type {\n",
       "        vertical-align: middle;\n",
       "    }\n",
       "\n",
       "    .dataframe tbody tr th {\n",
       "        vertical-align: top;\n",
       "    }\n",
       "\n",
       "    .dataframe thead th {\n",
       "        text-align: right;\n",
       "    }\n",
       "</style>\n",
       "<table border=\"1\" class=\"dataframe\">\n",
       "  <thead>\n",
       "    <tr style=\"text-align: right;\">\n",
       "      <th></th>\n",
       "      <th>msno</th>\n",
       "      <th>tenure_days</th>\n",
       "      <th>date_pred</th>\n",
       "    </tr>\n",
       "  </thead>\n",
       "  <tbody>\n",
       "    <tr>\n",
       "      <th>0</th>\n",
       "      <td>Rb9UwLQTrxzBVwCB6+bCcSQWZ9JiNLC9dXtM1oEsZA8=</td>\n",
       "      <td>1633</td>\n",
       "      <td>201603</td>\n",
       "    </tr>\n",
       "    <tr>\n",
       "      <th>1</th>\n",
       "      <td>+tJonkh+O1CA796Fm5X60UMOtB6POHAwPjbTRVl/EuU=</td>\n",
       "      <td>1630</td>\n",
       "      <td>201603</td>\n",
       "    </tr>\n",
       "    <tr>\n",
       "      <th>2</th>\n",
       "      <td>cV358ssn7a0f7jZOwGNWS07wCKVqxyiImJUX6xcIwKw=</td>\n",
       "      <td>1629</td>\n",
       "      <td>201603</td>\n",
       "    </tr>\n",
       "    <tr>\n",
       "      <th>3</th>\n",
       "      <td>9bzDeJP6sQodK73K5CBlJ6fgIQzPeLnRl0p5B77XP+g=</td>\n",
       "      <td>1629</td>\n",
       "      <td>201603</td>\n",
       "    </tr>\n",
       "    <tr>\n",
       "      <th>4</th>\n",
       "      <td>WFLY3s7z4EZsieHCt63XrsdtfTEmJ+2PnnKLH5GY4Tk=</td>\n",
       "      <td>1629</td>\n",
       "      <td>201603</td>\n",
       "    </tr>\n",
       "    <tr>\n",
       "      <th>...</th>\n",
       "      <td>...</td>\n",
       "      <td>...</td>\n",
       "      <td>...</td>\n",
       "    </tr>\n",
       "    <tr>\n",
       "      <th>6769468</th>\n",
       "      <td>VSGkb3hyBRUtb/b1MQUZbvOkktS3vKLnhMHW0CF8eyU=</td>\n",
       "      <td>133</td>\n",
       "      <td>201603</td>\n",
       "    </tr>\n",
       "    <tr>\n",
       "      <th>6769469</th>\n",
       "      <td>nWjH7glPkZ7jOVaCRwwjlpmp0T1hSWdv8hMJxiWCwKc=</td>\n",
       "      <td>133</td>\n",
       "      <td>201603</td>\n",
       "    </tr>\n",
       "    <tr>\n",
       "      <th>6769470</th>\n",
       "      <td>GH+b5+1tlv7ZZXsA8upBzVXMTLyffKcsF7WoU8b5rOI=</td>\n",
       "      <td>133</td>\n",
       "      <td>201603</td>\n",
       "    </tr>\n",
       "    <tr>\n",
       "      <th>6769471</th>\n",
       "      <td>XVlwT3fdCFGKqerEKBzUIjK+jzI6jzSke4cDMVhYyjE=</td>\n",
       "      <td>133</td>\n",
       "      <td>201603</td>\n",
       "    </tr>\n",
       "    <tr>\n",
       "      <th>6769472</th>\n",
       "      <td>isBt+JlgvZRNy6lxVr5vvuJ4lD00ofTaKyJ+uRnGcPg=</td>\n",
       "      <td>132</td>\n",
       "      <td>201603</td>\n",
       "    </tr>\n",
       "  </tbody>\n",
       "</table>\n",
       "<p>6769473 rows × 3 columns</p>\n",
       "</div>"
      ],
      "text/plain": [
       "                                                 msno  tenure_days  date_pred\n",
       "0        Rb9UwLQTrxzBVwCB6+bCcSQWZ9JiNLC9dXtM1oEsZA8=         1633     201603\n",
       "1        +tJonkh+O1CA796Fm5X60UMOtB6POHAwPjbTRVl/EuU=         1630     201603\n",
       "2        cV358ssn7a0f7jZOwGNWS07wCKVqxyiImJUX6xcIwKw=         1629     201603\n",
       "3        9bzDeJP6sQodK73K5CBlJ6fgIQzPeLnRl0p5B77XP+g=         1629     201603\n",
       "4        WFLY3s7z4EZsieHCt63XrsdtfTEmJ+2PnnKLH5GY4Tk=         1629     201603\n",
       "...                                               ...          ...        ...\n",
       "6769468  VSGkb3hyBRUtb/b1MQUZbvOkktS3vKLnhMHW0CF8eyU=          133     201603\n",
       "6769469  nWjH7glPkZ7jOVaCRwwjlpmp0T1hSWdv8hMJxiWCwKc=          133     201603\n",
       "6769470  GH+b5+1tlv7ZZXsA8upBzVXMTLyffKcsF7WoU8b5rOI=          133     201603\n",
       "6769471  XVlwT3fdCFGKqerEKBzUIjK+jzI6jzSke4cDMVhYyjE=          133     201603\n",
       "6769472  isBt+JlgvZRNy6lxVr5vvuJ4lD00ofTaKyJ+uRnGcPg=          132     201603\n",
       "\n",
       "[6769473 rows x 3 columns]"
      ]
     },
     "execution_count": 74,
     "metadata": {},
     "output_type": "execute_result"
    }
   ],
   "source": [
    "compute_tenure(members, date)"
   ]
  },
  {
   "cell_type": "markdown",
   "id": "dac61387",
   "metadata": {
    "pycharm": {
     "name": "#%% md\n"
    }
   },
   "source": [
    "# Merging Features"
   ]
  },
  {
   "cell_type": "markdown",
   "id": "08d5872c",
   "metadata": {
    "pycharm": {
     "name": "#%% md\n"
    }
   },
   "source": [
    "[(Back to top)](#Table-of-Contents)"
   ]
  },
  {
   "cell_type": "code",
   "execution_count": 4,
   "id": "37ab6970",
   "metadata": {
    "ExecuteTime": {
     "end_time": "2022-05-01T16:31:40.741326Z",
     "start_time": "2022-05-01T16:31:40.736891Z"
    },
    "pycharm": {
     "name": "#%%\n"
    }
   },
   "outputs": [],
   "source": [
    "train_paths = sorted([os.path.join('./data', x) for x in os.listdir('data') if x.startswith('train_set')])"
   ]
  },
  {
   "cell_type": "code",
   "execution_count": 5,
   "id": "a0c70eec",
   "metadata": {
    "ExecuteTime": {
     "end_time": "2022-05-01T16:31:40.773583Z",
     "start_time": "2022-05-01T16:31:40.743926Z"
    },
    "pycharm": {
     "name": "#%%\n"
    },
    "scrolled": true
   },
   "outputs": [
    {
     "data": {
      "text/plain": [
       "['./data/train_set20151231.csv',\n",
       " './data/train_set20160131.csv',\n",
       " './data/train_set20160229.csv',\n",
       " './data/train_set20160331.csv',\n",
       " './data/train_set20160430.csv',\n",
       " './data/train_set20160531.csv',\n",
       " './data/train_set20160630.csv',\n",
       " './data/train_set20160731.csv',\n",
       " './data/train_set20160831.csv',\n",
       " './data/train_set20160930.csv',\n",
       " './data/train_set20161031.csv',\n",
       " './data/train_set20161130.csv',\n",
       " './data/train_set20161231.csv',\n",
       " './data/train_set20170131.csv',\n",
       " './data/train_set20170228.csv',\n",
       " './data/train_set20170331.csv']"
      ]
     },
     "execution_count": 5,
     "metadata": {},
     "output_type": "execute_result"
    }
   ],
   "source": [
    "train_paths"
   ]
  },
  {
   "cell_type": "code",
   "execution_count": 6,
   "id": "994bfedb",
   "metadata": {
    "ExecuteTime": {
     "end_time": "2022-05-01T16:31:40.784420Z",
     "start_time": "2022-05-01T16:31:40.776206Z"
    },
    "pycharm": {
     "name": "#%%\n"
    }
   },
   "outputs": [],
   "source": [
    "def train_data(date):\n",
    "    \"\"\"\n",
    "    Generate a dataframe containing for each client a Flag 0/1 if the client will churn the following month \n",
    "    relative to a date. This dataset will be used as a \"reference\", since it will be the first one before\n",
    "    left merging with the other dataframes generated by building the features.\n",
    "    \"\"\"\n",
    "    history_cutoff = pd.to_datetime(date, format='%Y%m') - relativedelta(days=1)\n",
    "    train_set_path = 'train_set' + str(history_cutoff.year * 10000 + history_cutoff.month * 100 + history_cutoff.day) + '.csv'\n",
    "    train_df = pd.read_csv(os.path.join('./data', train_set_path))\n",
    "    train_df['date_pred'] = date\n",
    "    try: \n",
    "        train_df.drop('date_prediction', axis=1, inplace=True)\n",
    "    except:\n",
    "        pass\n",
    "    train_df['is_churn'] = train_df['is_churn'].astype(int)\n",
    "    return train_df"
   ]
  },
  {
   "cell_type": "code",
   "execution_count": 7,
   "id": "106b2b9b",
   "metadata": {
    "ExecuteTime": {
     "end_time": "2022-05-01T16:31:41.828652Z",
     "start_time": "2022-05-01T16:31:40.786899Z"
    },
    "pycharm": {
     "name": "#%%\n"
    },
    "scrolled": true
   },
   "outputs": [
    {
     "data": {
      "text/html": [
       "<div>\n",
       "<style scoped>\n",
       "    .dataframe tbody tr th:only-of-type {\n",
       "        vertical-align: middle;\n",
       "    }\n",
       "\n",
       "    .dataframe tbody tr th {\n",
       "        vertical-align: top;\n",
       "    }\n",
       "\n",
       "    .dataframe thead th {\n",
       "        text-align: right;\n",
       "    }\n",
       "</style>\n",
       "<table border=\"1\" class=\"dataframe\">\n",
       "  <thead>\n",
       "    <tr style=\"text-align: right;\">\n",
       "      <th></th>\n",
       "      <th>msno</th>\n",
       "      <th>is_churn</th>\n",
       "      <th>date_pred</th>\n",
       "    </tr>\n",
       "  </thead>\n",
       "  <tbody>\n",
       "    <tr>\n",
       "      <th>0</th>\n",
       "      <td>waLDQMmcOu2jLDaV1ddDkgCrB/jl6sD66Xzs0Vqax1Y=</td>\n",
       "      <td>1</td>\n",
       "      <td>201702</td>\n",
       "    </tr>\n",
       "    <tr>\n",
       "      <th>1</th>\n",
       "      <td>QA7uiXy8vIbUSPOkCf9RwQ3FsT8jVq2OxDr8zqa7bRQ=</td>\n",
       "      <td>1</td>\n",
       "      <td>201702</td>\n",
       "    </tr>\n",
       "    <tr>\n",
       "      <th>2</th>\n",
       "      <td>fGwBva6hikQmTJzrbz/2Ezjm5Cth5jZUNvXigKK2AFA=</td>\n",
       "      <td>1</td>\n",
       "      <td>201702</td>\n",
       "    </tr>\n",
       "    <tr>\n",
       "      <th>3</th>\n",
       "      <td>mT5V8rEpa+8wuqi6x0DoVd3H5icMKkE9Prt49UlmK+4=</td>\n",
       "      <td>1</td>\n",
       "      <td>201702</td>\n",
       "    </tr>\n",
       "    <tr>\n",
       "      <th>4</th>\n",
       "      <td>XaPhtGLk/5UvvOYHcONTwsnH97P4eGECeq+BARGItRw=</td>\n",
       "      <td>1</td>\n",
       "      <td>201702</td>\n",
       "    </tr>\n",
       "    <tr>\n",
       "      <th>...</th>\n",
       "      <td>...</td>\n",
       "      <td>...</td>\n",
       "      <td>...</td>\n",
       "    </tr>\n",
       "    <tr>\n",
       "      <th>992926</th>\n",
       "      <td>tUM0yxAj50Vc35vQZ++xMlomdyeLJUW9lEcoPnt3H+g=</td>\n",
       "      <td>0</td>\n",
       "      <td>201702</td>\n",
       "    </tr>\n",
       "    <tr>\n",
       "      <th>992927</th>\n",
       "      <td>KQS8etmfGgvE/7Y9gK+E9wdLnRTI0lyyPXaXL3I8E4c=</td>\n",
       "      <td>0</td>\n",
       "      <td>201702</td>\n",
       "    </tr>\n",
       "    <tr>\n",
       "      <th>992928</th>\n",
       "      <td>8/jDLgNREuWI9hcKVYp8723nmavn01T+AuMWkK3uM7g=</td>\n",
       "      <td>0</td>\n",
       "      <td>201702</td>\n",
       "    </tr>\n",
       "    <tr>\n",
       "      <th>992929</th>\n",
       "      <td>iNV99F1Rml7EMndOeLI0Y/iek6aCj/Qp1Z4dZvR+sak=</td>\n",
       "      <td>0</td>\n",
       "      <td>201702</td>\n",
       "    </tr>\n",
       "    <tr>\n",
       "      <th>992930</th>\n",
       "      <td>ZoVEIVMCpKT9/MJgqO+fh9xYrNM2vNisLhJ4xY/CVyk=</td>\n",
       "      <td>0</td>\n",
       "      <td>201702</td>\n",
       "    </tr>\n",
       "  </tbody>\n",
       "</table>\n",
       "<p>992931 rows × 3 columns</p>\n",
       "</div>"
      ],
      "text/plain": [
       "                                                msno  is_churn  date_pred\n",
       "0       waLDQMmcOu2jLDaV1ddDkgCrB/jl6sD66Xzs0Vqax1Y=         1     201702\n",
       "1       QA7uiXy8vIbUSPOkCf9RwQ3FsT8jVq2OxDr8zqa7bRQ=         1     201702\n",
       "2       fGwBva6hikQmTJzrbz/2Ezjm5Cth5jZUNvXigKK2AFA=         1     201702\n",
       "3       mT5V8rEpa+8wuqi6x0DoVd3H5icMKkE9Prt49UlmK+4=         1     201702\n",
       "4       XaPhtGLk/5UvvOYHcONTwsnH97P4eGECeq+BARGItRw=         1     201702\n",
       "...                                              ...       ...        ...\n",
       "992926  tUM0yxAj50Vc35vQZ++xMlomdyeLJUW9lEcoPnt3H+g=         0     201702\n",
       "992927  KQS8etmfGgvE/7Y9gK+E9wdLnRTI0lyyPXaXL3I8E4c=         0     201702\n",
       "992928  8/jDLgNREuWI9hcKVYp8723nmavn01T+AuMWkK3uM7g=         0     201702\n",
       "992929  iNV99F1Rml7EMndOeLI0Y/iek6aCj/Qp1Z4dZvR+sak=         0     201702\n",
       "992930  ZoVEIVMCpKT9/MJgqO+fh9xYrNM2vNisLhJ4xY/CVyk=         0     201702\n",
       "\n",
       "[992931 rows x 3 columns]"
      ]
     },
     "execution_count": 7,
     "metadata": {},
     "output_type": "execute_result"
    }
   ],
   "source": [
    "train_data(201702)"
   ]
  },
  {
   "cell_type": "code",
   "execution_count": 8,
   "id": "8c934300",
   "metadata": {
    "ExecuteTime": {
     "end_time": "2022-05-01T16:31:51.117502Z",
     "start_time": "2022-05-01T16:31:41.830937Z"
    },
    "pycharm": {
     "name": "#%%\n"
    }
   },
   "outputs": [],
   "source": [
    "members = pd.read_csv(os.path.join('data', 'members_cleaned.csv'))"
   ]
  },
  {
   "cell_type": "code",
   "execution_count": 9,
   "id": "6d7f5cc5",
   "metadata": {
    "ExecuteTime": {
     "end_time": "2022-05-01T16:31:52.357049Z",
     "start_time": "2022-05-01T16:31:51.120605Z"
    },
    "pycharm": {
     "name": "#%%\n"
    }
   },
   "outputs": [],
   "source": [
    "members.drop('Unnamed: 0', axis=1, inplace=True)\n",
    "members['registration_init_time'] = pd.to_datetime(members['registration_init_time'], format='%Y%m%d')\n",
    "members['gender'] = members['gender'].astype(\"category\").cat.codes"
   ]
  },
  {
   "cell_type": "code",
   "execution_count": 10,
   "id": "7905f542",
   "metadata": {
    "ExecuteTime": {
     "end_time": "2022-05-01T16:32:14.152824Z",
     "start_time": "2022-05-01T16:31:52.359215Z"
    },
    "pycharm": {
     "name": "#%%\n"
    }
   },
   "outputs": [],
   "source": [
    "nbr_logins = pd.read_csv('nbr_logins_monthly.csv')\n",
    "\n",
    "nbr_logins['date_formatted'] = pd.to_datetime(nbr_logins['date_formatted'], format='%Y-%m-%d')"
   ]
  },
  {
   "cell_type": "code",
   "execution_count": 11,
   "id": "9dd47ea9",
   "metadata": {
    "ExecuteTime": {
     "end_time": "2022-05-01T16:32:29.897111Z",
     "start_time": "2022-05-01T16:32:14.155583Z"
    },
    "pycharm": {
     "name": "#%%\n"
    }
   },
   "outputs": [],
   "source": [
    "paths_churn_data = [x for x in os.listdir('data') if x.startswith('train_set')]\n",
    "\n",
    "churn_dfs = [pd.read_csv(os.path.join('data', x)) for x in paths_churn_data]\n",
    "\n",
    "history_churn_clients = pd.concat(churn_dfs)\n",
    "\n",
    "history_churn_clients['is_churn'] =history_churn_clients['is_churn'].astype(int)\n",
    "\n",
    "history_churn_clients['date_prediction'] = pd.to_datetime(history_churn_clients['date_prediction'], format='%Y%m%d')"
   ]
  },
  {
   "cell_type": "code",
   "execution_count": 12,
   "id": "597ae850",
   "metadata": {
    "ExecuteTime": {
     "end_time": "2022-05-01T16:33:04.125492Z",
     "start_time": "2022-05-01T16:32:29.901272Z"
    },
    "pycharm": {
     "name": "#%%\n"
    }
   },
   "outputs": [],
   "source": [
    "transactions = pd.read_csv(os.path.join(data_dir, 'transactions_cleaned_final.csv'))"
   ]
  },
  {
   "cell_type": "code",
   "execution_count": 13,
   "id": "f65a69f0",
   "metadata": {
    "ExecuteTime": {
     "end_time": "2022-05-01T16:33:07.275879Z",
     "start_time": "2022-05-01T16:33:04.128707Z"
    },
    "pycharm": {
     "name": "#%%\n"
    }
   },
   "outputs": [],
   "source": [
    "transactions['transaction_date'] = pd.to_datetime(transactions['transaction_date'], format='%Y-%m-%d')"
   ]
  },
  {
   "cell_type": "code",
   "execution_count": 14,
   "id": "af6d16b5",
   "metadata": {
    "ExecuteTime": {
     "end_time": "2022-05-01T16:33:09.023820Z",
     "start_time": "2022-05-01T16:33:07.278528Z"
    },
    "pycharm": {
     "name": "#%%\n"
    }
   },
   "outputs": [],
   "source": [
    "transactions_cleaned = transactions.dropna(subset=['diff_dates'])"
   ]
  },
  {
   "cell_type": "code",
   "execution_count": 15,
   "id": "b1f264fa",
   "metadata": {
    "ExecuteTime": {
     "end_time": "2022-05-01T16:33:10.138777Z",
     "start_time": "2022-05-01T16:33:09.026914Z"
    },
    "pycharm": {
     "name": "#%%\n"
    }
   },
   "outputs": [],
   "source": [
    "user_logs = vaex.open('./data/user_logs_split_*.hdf5')"
   ]
  },
  {
   "cell_type": "code",
   "execution_count": 16,
   "id": "36fcc3cf",
   "metadata": {
    "ExecuteTime": {
     "end_time": "2022-05-01T16:33:10.164149Z",
     "start_time": "2022-05-01T16:33:10.140944Z"
    },
    "pycharm": {
     "name": "#%%\n"
    },
    "scrolled": false
   },
   "outputs": [
    {
     "data": {
      "text/plain": [
       "'msno'"
      ]
     },
     "execution_count": 16,
     "metadata": {},
     "output_type": "execute_result"
    },
    {
     "data": {
      "text/plain": [
       "'date'"
      ]
     },
     "execution_count": 16,
     "metadata": {},
     "output_type": "execute_result"
    },
    {
     "data": {
      "text/plain": [
       "'num_25'"
      ]
     },
     "execution_count": 16,
     "metadata": {},
     "output_type": "execute_result"
    },
    {
     "data": {
      "text/plain": [
       "'num_50'"
      ]
     },
     "execution_count": 16,
     "metadata": {},
     "output_type": "execute_result"
    },
    {
     "data": {
      "text/plain": [
       "'num_75'"
      ]
     },
     "execution_count": 16,
     "metadata": {},
     "output_type": "execute_result"
    },
    {
     "data": {
      "text/plain": [
       "'num_985'"
      ]
     },
     "execution_count": 16,
     "metadata": {},
     "output_type": "execute_result"
    },
    {
     "data": {
      "text/plain": [
       "'num_100'"
      ]
     },
     "execution_count": 16,
     "metadata": {},
     "output_type": "execute_result"
    },
    {
     "data": {
      "text/plain": [
       "'num_unq'"
      ]
     },
     "execution_count": 16,
     "metadata": {},
     "output_type": "execute_result"
    },
    {
     "data": {
      "text/plain": [
       "'total_secs'"
      ]
     },
     "execution_count": 16,
     "metadata": {},
     "output_type": "execute_result"
    }
   ],
   "source": [
    "names = ['msno','date','num_25','num_50','num_75','num_985','num_100','num_unq','total_secs']\n",
    "\n",
    "for i, new_name in enumerate(names):\n",
    "    user_logs.rename(str(i), new_name)"
   ]
  },
  {
   "cell_type": "code",
   "execution_count": 17,
   "id": "603f38e0",
   "metadata": {
    "ExecuteTime": {
     "end_time": "2022-05-01T16:33:10.191505Z",
     "start_time": "2022-05-01T16:33:10.166420Z"
    },
    "pycharm": {
     "name": "#%%\n"
    }
   },
   "outputs": [],
   "source": [
    "uid = \"msno\""
   ]
  },
  {
   "cell_type": "code",
   "execution_count": 18,
   "id": "fe4b90b6",
   "metadata": {
    "ExecuteTime": {
     "end_time": "2022-05-01T16:33:10.211056Z",
     "start_time": "2022-05-01T16:33:10.193456Z"
    },
    "pycharm": {
     "name": "#%%\n"
    },
    "scrolled": false
   },
   "outputs": [
    {
     "data": {
      "text/html": [
       "<div>\n",
       "<style scoped>\n",
       "    .dataframe tbody tr th:only-of-type {\n",
       "        vertical-align: middle;\n",
       "    }\n",
       "\n",
       "    .dataframe tbody tr th {\n",
       "        vertical-align: top;\n",
       "    }\n",
       "\n",
       "    .dataframe thead th {\n",
       "        text-align: right;\n",
       "    }\n",
       "</style>\n",
       "<table border=\"1\" class=\"dataframe\">\n",
       "  <thead>\n",
       "    <tr style=\"text-align: right;\">\n",
       "      <th></th>\n",
       "      <th>msno</th>\n",
       "      <th>is_churn</th>\n",
       "      <th>date_prediction</th>\n",
       "    </tr>\n",
       "  </thead>\n",
       "  <tbody>\n",
       "    <tr>\n",
       "      <th>0</th>\n",
       "      <td>++4RuqBw0Ss6bQU4oMxaRlbBPoWzoEiIZaxPM04Y4+U=</td>\n",
       "      <td>0</td>\n",
       "      <td>2016-09-30</td>\n",
       "    </tr>\n",
       "    <tr>\n",
       "      <th>1</th>\n",
       "      <td>+/HS8LzrRGXolKbxRzDLqrmwuXqPOYixBIPXkyNcKNI=</td>\n",
       "      <td>0</td>\n",
       "      <td>2016-09-30</td>\n",
       "    </tr>\n",
       "    <tr>\n",
       "      <th>2</th>\n",
       "      <td>+/namlXq+u3izRjHCFJV4MgqcXcLidZYszVsROOq/y4=</td>\n",
       "      <td>0</td>\n",
       "      <td>2016-09-30</td>\n",
       "    </tr>\n",
       "    <tr>\n",
       "      <th>3</th>\n",
       "      <td>+0/X9tkmyHyet9X80G6GTrDFHnJqvai8d1ZPhayT0os=</td>\n",
       "      <td>0</td>\n",
       "      <td>2016-09-30</td>\n",
       "    </tr>\n",
       "    <tr>\n",
       "      <th>4</th>\n",
       "      <td>+09YGn842g6h2EZUXe0VWeC4bBoCbDGfUboitc0vIHw=</td>\n",
       "      <td>0</td>\n",
       "      <td>2016-09-30</td>\n",
       "    </tr>\n",
       "    <tr>\n",
       "      <th>...</th>\n",
       "      <td>...</td>\n",
       "      <td>...</td>\n",
       "      <td>...</td>\n",
       "    </tr>\n",
       "    <tr>\n",
       "      <th>880719</th>\n",
       "      <td>ybSNUcJTHwuKAbs1wSbFrjkqRnk15vzIrryj2EfZlX4=</td>\n",
       "      <td>1</td>\n",
       "      <td>2016-11-30</td>\n",
       "    </tr>\n",
       "    <tr>\n",
       "      <th>880720</th>\n",
       "      <td>yrjWpxd2aX3gFdU7gBADbuB2eAVt3FSY0SgwOM82lmE=</td>\n",
       "      <td>1</td>\n",
       "      <td>2016-11-30</td>\n",
       "    </tr>\n",
       "    <tr>\n",
       "      <th>880721</th>\n",
       "      <td>z4v8bvd2GRRo4QYHluYY4iyus4cAuoKEj64MPOgDOzU=</td>\n",
       "      <td>1</td>\n",
       "      <td>2016-11-30</td>\n",
       "    </tr>\n",
       "    <tr>\n",
       "      <th>880722</th>\n",
       "      <td>z9CSElpjKfTDWmwBIRla8dCGAWNzQZmvR41qgERkxac=</td>\n",
       "      <td>1</td>\n",
       "      <td>2016-11-30</td>\n",
       "    </tr>\n",
       "    <tr>\n",
       "      <th>880723</th>\n",
       "      <td>zqQC3mjmKKjvxx/lmTU/C+vhDBAxxETSD4f4bbK+KGM=</td>\n",
       "      <td>1</td>\n",
       "      <td>2016-11-30</td>\n",
       "    </tr>\n",
       "  </tbody>\n",
       "</table>\n",
       "<p>13222363 rows × 3 columns</p>\n",
       "</div>"
      ],
      "text/plain": [
       "                                                msno  is_churn date_prediction\n",
       "0       ++4RuqBw0Ss6bQU4oMxaRlbBPoWzoEiIZaxPM04Y4+U=         0      2016-09-30\n",
       "1       +/HS8LzrRGXolKbxRzDLqrmwuXqPOYixBIPXkyNcKNI=         0      2016-09-30\n",
       "2       +/namlXq+u3izRjHCFJV4MgqcXcLidZYszVsROOq/y4=         0      2016-09-30\n",
       "3       +0/X9tkmyHyet9X80G6GTrDFHnJqvai8d1ZPhayT0os=         0      2016-09-30\n",
       "4       +09YGn842g6h2EZUXe0VWeC4bBoCbDGfUboitc0vIHw=         0      2016-09-30\n",
       "...                                              ...       ...             ...\n",
       "880719  ybSNUcJTHwuKAbs1wSbFrjkqRnk15vzIrryj2EfZlX4=         1      2016-11-30\n",
       "880720  yrjWpxd2aX3gFdU7gBADbuB2eAVt3FSY0SgwOM82lmE=         1      2016-11-30\n",
       "880721  z4v8bvd2GRRo4QYHluYY4iyus4cAuoKEj64MPOgDOzU=         1      2016-11-30\n",
       "880722  z9CSElpjKfTDWmwBIRla8dCGAWNzQZmvR41qgERkxac=         1      2016-11-30\n",
       "880723  zqQC3mjmKKjvxx/lmTU/C+vhDBAxxETSD4f4bbK+KGM=         1      2016-11-30\n",
       "\n",
       "[13222363 rows x 3 columns]"
      ]
     },
     "execution_count": 18,
     "metadata": {},
     "output_type": "execute_result"
    }
   ],
   "source": [
    "history_churn_clients"
   ]
  },
  {
   "cell_type": "code",
   "execution_count": 19,
   "id": "a6723323",
   "metadata": {
    "ExecuteTime": {
     "end_time": "2022-05-01T16:33:10.219999Z",
     "start_time": "2022-05-01T16:33:10.213033Z"
    },
    "pycharm": {
     "name": "#%%\n"
    }
   },
   "outputs": [],
   "source": [
    "def merge_all_features(date):\n",
    "    \"\"\"\n",
    "    Construct all features prior to a certain date and join them in a single master table.\n",
    "    :param date: filter date, only take instances having a date inferior to this date\n",
    "    :return: pandas dataframe containing merged features\n",
    "    \"\"\"\n",
    "    print(date)\n",
    "    df0 = train_data(date)\n",
    "    \n",
    "    df1 = members_static_features(members, date)\n",
    "\n",
    "    df2 = compute_tenure(members, date)\n",
    "\n",
    "    df3 = agg_trx(transactions, date, aggs={'actual_amount_paid': ['min', 'max', 'mean', 'std', 'sum'],\n",
    "                                      'is_auto_renew': ['mean', 'sum'],\n",
    "                                     'is_cancel': ['sum', 'mean'], \n",
    "                                      'msno': 'count'})\n",
    "\n",
    "    df4 = stats_diff_dates(transactions_cleaned, date)\n",
    "\n",
    "    df5 = stats_churn(history_churn_clients, date)\n",
    "\n",
    "    df6 = days_last_trx(transactions, date)\n",
    "\n",
    "    df7 = aggregate_user_logs_history(user_logs, date * 100  + 1)\n",
    "    \n",
    "    df8 = stats_logins_monthly(nbr_logins, date)\n",
    "    \n",
    "    df9 = last_login_days(user_logs, date)\n",
    "    \n",
    "    final_df = reduce(lambda left, right: left.merge(right, how=\"left\", on=[uid, \"date_pred\"]), \n",
    "                      [df0, df1, df2, df3, df4, df5, df6, df7, df8, df9])\n",
    "    \n",
    "    return final_df"
   ]
  },
  {
   "cell_type": "code",
   "execution_count": 20,
   "id": "4eb11184",
   "metadata": {
    "ExecuteTime": {
     "end_time": "2022-05-01T16:33:10.225821Z",
     "start_time": "2022-05-01T16:33:10.221893Z"
    },
    "pycharm": {
     "name": "#%%\n"
    }
   },
   "outputs": [],
   "source": [
    "# list of dates relative to which the features will be constructed\n",
    "dates_preds = [201702, 201703, 201704]"
   ]
  },
  {
   "cell_type": "code",
   "execution_count": 21,
   "id": "befa68b6",
   "metadata": {
    "ExecuteTime": {
     "end_time": "2022-05-01T17:41:01.852780Z",
     "start_time": "2022-05-01T16:33:10.227740Z"
    },
    "pycharm": {
     "name": "#%%\n"
    }
   },
   "outputs": [],
   "source": [
    "dfMasterTable = pd.concat([merge_all_features(date) for date in dates_preds])"
   ]
  },
  {
   "cell_type": "code",
   "execution_count": 23,
   "id": "48f841a2",
   "metadata": {
    "ExecuteTime": {
     "end_time": "2022-05-01T17:48:00.845698Z",
     "start_time": "2022-05-01T17:45:28.080933Z"
    },
    "pycharm": {
     "name": "#%%\n"
    }
   },
   "outputs": [],
   "source": [
    "dfMasterTable.to_csv('dfMasterTable.csv', index=False)"
   ]
  },
  {
   "cell_type": "code",
   "execution_count": 7,
   "id": "c65efcde",
   "metadata": {
    "ExecuteTime": {
     "end_time": "2022-06-30T09:56:53.277451Z",
     "start_time": "2022-06-30T09:56:53.233441Z"
    },
    "pycharm": {
     "name": "#%%\n"
    }
   },
   "outputs": [
    {
     "data": {
      "text/html": [
       "<div>\n",
       "<style scoped>\n",
       "    .dataframe tbody tr th:only-of-type {\n",
       "        vertical-align: middle;\n",
       "    }\n",
       "\n",
       "    .dataframe tbody tr th {\n",
       "        vertical-align: top;\n",
       "    }\n",
       "\n",
       "    .dataframe thead th {\n",
       "        text-align: right;\n",
       "    }\n",
       "</style>\n",
       "<table border=\"1\" class=\"dataframe\">\n",
       "  <thead>\n",
       "    <tr style=\"text-align: right;\">\n",
       "      <th></th>\n",
       "      <th>msno</th>\n",
       "      <th>is_churn</th>\n",
       "      <th>date_pred</th>\n",
       "      <th>bd</th>\n",
       "      <th>gender</th>\n",
       "      <th>city_1</th>\n",
       "      <th>city_4</th>\n",
       "      <th>city_5</th>\n",
       "      <th>city_13</th>\n",
       "      <th>city_15</th>\n",
       "      <th>city_22</th>\n",
       "      <th>city_other</th>\n",
       "      <th>registered_via_3</th>\n",
       "      <th>registered_via_4</th>\n",
       "      <th>registered_via_7</th>\n",
       "      <th>registered_via_9</th>\n",
       "      <th>registered_via_11</th>\n",
       "      <th>registered_via_13</th>\n",
       "      <th>registered_via_other</th>\n",
       "      <th>tenure_days</th>\n",
       "      <th>actual_amount_paid_min</th>\n",
       "      <th>actual_amount_paid_max</th>\n",
       "      <th>actual_amount_paid_mean</th>\n",
       "      <th>actual_amount_paid_std</th>\n",
       "      <th>actual_amount_paid_sum</th>\n",
       "      <th>is_auto_renew_mean</th>\n",
       "      <th>is_auto_renew_sum</th>\n",
       "      <th>is_cancel_sum</th>\n",
       "      <th>is_cancel_mean</th>\n",
       "      <th>msno_count_x</th>\n",
       "      <th>diff_dates_min</th>\n",
       "      <th>diff_dates_max</th>\n",
       "      <th>diff_dates_mean</th>\n",
       "      <th>diff_dates_std</th>\n",
       "      <th>churn_mean</th>\n",
       "      <th>churn_sum</th>\n",
       "      <th>days_last_trx</th>\n",
       "      <th>total_secs_sum</th>\n",
       "      <th>total_secs_mean</th>\n",
       "      <th>total_secs_std</th>\n",
       "      <th>num_unq_sum</th>\n",
       "      <th>num_unq_mean</th>\n",
       "      <th>num_unq_std</th>\n",
       "      <th>msno_count_y</th>\n",
       "      <th>nbr_logins_monthly_mean</th>\n",
       "      <th>nbr_logins_monthly_max</th>\n",
       "      <th>nbr_logins_monthly_min</th>\n",
       "      <th>nbr_logins_monthly_std</th>\n",
       "      <th>nbr_logins_monthly_count</th>\n",
       "      <th>last_login_days</th>\n",
       "    </tr>\n",
       "  </thead>\n",
       "  <tbody>\n",
       "    <tr>\n",
       "      <th>0</th>\n",
       "      <td>waLDQMmcOu2jLDaV1ddDkgCrB/jl6sD66Xzs0Vqax1Y=</td>\n",
       "      <td>1</td>\n",
       "      <td>201702</td>\n",
       "      <td>36.0</td>\n",
       "      <td>0.0</td>\n",
       "      <td>0.0</td>\n",
       "      <td>0.0</td>\n",
       "      <td>0.0</td>\n",
       "      <td>0.0</td>\n",
       "      <td>0.0</td>\n",
       "      <td>0.0</td>\n",
       "      <td>1.0</td>\n",
       "      <td>0.0</td>\n",
       "      <td>0.0</td>\n",
       "      <td>0.0</td>\n",
       "      <td>1.0</td>\n",
       "      <td>0.0</td>\n",
       "      <td>0.0</td>\n",
       "      <td>0.0</td>\n",
       "      <td>4319.0</td>\n",
       "      <td>0.0</td>\n",
       "      <td>149.0</td>\n",
       "      <td>74.500000</td>\n",
       "      <td>105.358910</td>\n",
       "      <td>149.0</td>\n",
       "      <td>0.000000</td>\n",
       "      <td>0.0</td>\n",
       "      <td>0.0</td>\n",
       "      <td>0.000000</td>\n",
       "      <td>2.0</td>\n",
       "      <td>68.0</td>\n",
       "      <td>68.0</td>\n",
       "      <td>68.000000</td>\n",
       "      <td>NaN</td>\n",
       "      <td>1.000000</td>\n",
       "      <td>1.0</td>\n",
       "      <td>25.0</td>\n",
       "      <td>9.227921e+04</td>\n",
       "      <td>4613.960400</td>\n",
       "      <td>4240.848005</td>\n",
       "      <td>394.0</td>\n",
       "      <td>19.700000</td>\n",
       "      <td>16.012807</td>\n",
       "      <td>20.0</td>\n",
       "      <td>8.666667</td>\n",
       "      <td>18.0</td>\n",
       "      <td>2.0</td>\n",
       "      <td>8.326664</td>\n",
       "      <td>3.0</td>\n",
       "      <td>3.0</td>\n",
       "    </tr>\n",
       "    <tr>\n",
       "      <th>1</th>\n",
       "      <td>QA7uiXy8vIbUSPOkCf9RwQ3FsT8jVq2OxDr8zqa7bRQ=</td>\n",
       "      <td>1</td>\n",
       "      <td>201702</td>\n",
       "      <td>38.0</td>\n",
       "      <td>1.0</td>\n",
       "      <td>0.0</td>\n",
       "      <td>0.0</td>\n",
       "      <td>0.0</td>\n",
       "      <td>0.0</td>\n",
       "      <td>0.0</td>\n",
       "      <td>0.0</td>\n",
       "      <td>1.0</td>\n",
       "      <td>0.0</td>\n",
       "      <td>0.0</td>\n",
       "      <td>0.0</td>\n",
       "      <td>1.0</td>\n",
       "      <td>0.0</td>\n",
       "      <td>0.0</td>\n",
       "      <td>0.0</td>\n",
       "      <td>4318.0</td>\n",
       "      <td>149.0</td>\n",
       "      <td>180.0</td>\n",
       "      <td>150.409091</td>\n",
       "      <td>6.609222</td>\n",
       "      <td>3309.0</td>\n",
       "      <td>0.954545</td>\n",
       "      <td>21.0</td>\n",
       "      <td>1.0</td>\n",
       "      <td>0.045455</td>\n",
       "      <td>22.0</td>\n",
       "      <td>16.0</td>\n",
       "      <td>95.0</td>\n",
       "      <td>34.809524</td>\n",
       "      <td>16.095400</td>\n",
       "      <td>0.250000</td>\n",
       "      <td>1.0</td>\n",
       "      <td>1.0</td>\n",
       "      <td>2.614515e+06</td>\n",
       "      <td>5027.913888</td>\n",
       "      <td>5564.554567</td>\n",
       "      <td>7229.0</td>\n",
       "      <td>13.901923</td>\n",
       "      <td>14.006454</td>\n",
       "      <td>520.0</td>\n",
       "      <td>20.840000</td>\n",
       "      <td>31.0</td>\n",
       "      <td>1.0</td>\n",
       "      <td>9.485427</td>\n",
       "      <td>25.0</td>\n",
       "      <td>33.0</td>\n",
       "    </tr>\n",
       "    <tr>\n",
       "      <th>2</th>\n",
       "      <td>fGwBva6hikQmTJzrbz/2Ezjm5Cth5jZUNvXigKK2AFA=</td>\n",
       "      <td>1</td>\n",
       "      <td>201702</td>\n",
       "      <td>27.0</td>\n",
       "      <td>0.0</td>\n",
       "      <td>0.0</td>\n",
       "      <td>0.0</td>\n",
       "      <td>0.0</td>\n",
       "      <td>0.0</td>\n",
       "      <td>0.0</td>\n",
       "      <td>0.0</td>\n",
       "      <td>1.0</td>\n",
       "      <td>0.0</td>\n",
       "      <td>0.0</td>\n",
       "      <td>0.0</td>\n",
       "      <td>1.0</td>\n",
       "      <td>0.0</td>\n",
       "      <td>0.0</td>\n",
       "      <td>0.0</td>\n",
       "      <td>4126.0</td>\n",
       "      <td>149.0</td>\n",
       "      <td>150.0</td>\n",
       "      <td>149.200000</td>\n",
       "      <td>0.421637</td>\n",
       "      <td>1492.0</td>\n",
       "      <td>0.800000</td>\n",
       "      <td>8.0</td>\n",
       "      <td>1.0</td>\n",
       "      <td>0.100000</td>\n",
       "      <td>10.0</td>\n",
       "      <td>12.0</td>\n",
       "      <td>118.0</td>\n",
       "      <td>38.333333</td>\n",
       "      <td>30.512293</td>\n",
       "      <td>0.333333</td>\n",
       "      <td>1.0</td>\n",
       "      <td>20.0</td>\n",
       "      <td>2.597385e+06</td>\n",
       "      <td>10959.428928</td>\n",
       "      <td>8172.306431</td>\n",
       "      <td>11533.0</td>\n",
       "      <td>48.662447</td>\n",
       "      <td>35.829472</td>\n",
       "      <td>237.0</td>\n",
       "      <td>19.750000</td>\n",
       "      <td>30.0</td>\n",
       "      <td>4.0</td>\n",
       "      <td>8.945542</td>\n",
       "      <td>12.0</td>\n",
       "      <td>1.0</td>\n",
       "    </tr>\n",
       "    <tr>\n",
       "      <th>3</th>\n",
       "      <td>mT5V8rEpa+8wuqi6x0DoVd3H5icMKkE9Prt49UlmK+4=</td>\n",
       "      <td>1</td>\n",
       "      <td>201702</td>\n",
       "      <td>23.0</td>\n",
       "      <td>0.0</td>\n",
       "      <td>0.0</td>\n",
       "      <td>0.0</td>\n",
       "      <td>0.0</td>\n",
       "      <td>1.0</td>\n",
       "      <td>0.0</td>\n",
       "      <td>0.0</td>\n",
       "      <td>0.0</td>\n",
       "      <td>0.0</td>\n",
       "      <td>0.0</td>\n",
       "      <td>0.0</td>\n",
       "      <td>1.0</td>\n",
       "      <td>0.0</td>\n",
       "      <td>0.0</td>\n",
       "      <td>0.0</td>\n",
       "      <td>4109.0</td>\n",
       "      <td>0.0</td>\n",
       "      <td>1788.0</td>\n",
       "      <td>894.000000</td>\n",
       "      <td>1264.306925</td>\n",
       "      <td>1788.0</td>\n",
       "      <td>0.000000</td>\n",
       "      <td>0.0</td>\n",
       "      <td>0.0</td>\n",
       "      <td>0.000000</td>\n",
       "      <td>2.0</td>\n",
       "      <td>2.0</td>\n",
       "      <td>2.0</td>\n",
       "      <td>2.000000</td>\n",
       "      <td>NaN</td>\n",
       "      <td>NaN</td>\n",
       "      <td>NaN</td>\n",
       "      <td>392.0</td>\n",
       "      <td>4.840589e+06</td>\n",
       "      <td>6779.536436</td>\n",
       "      <td>6303.076898</td>\n",
       "      <td>17943.0</td>\n",
       "      <td>25.130252</td>\n",
       "      <td>24.978054</td>\n",
       "      <td>714.0</td>\n",
       "      <td>28.269231</td>\n",
       "      <td>31.0</td>\n",
       "      <td>21.0</td>\n",
       "      <td>3.244166</td>\n",
       "      <td>26.0</td>\n",
       "      <td>2.0</td>\n",
       "    </tr>\n",
       "    <tr>\n",
       "      <th>4</th>\n",
       "      <td>XaPhtGLk/5UvvOYHcONTwsnH97P4eGECeq+BARGItRw=</td>\n",
       "      <td>1</td>\n",
       "      <td>201702</td>\n",
       "      <td>27.0</td>\n",
       "      <td>1.0</td>\n",
       "      <td>0.0</td>\n",
       "      <td>0.0</td>\n",
       "      <td>0.0</td>\n",
       "      <td>0.0</td>\n",
       "      <td>0.0</td>\n",
       "      <td>0.0</td>\n",
       "      <td>1.0</td>\n",
       "      <td>0.0</td>\n",
       "      <td>0.0</td>\n",
       "      <td>0.0</td>\n",
       "      <td>1.0</td>\n",
       "      <td>0.0</td>\n",
       "      <td>0.0</td>\n",
       "      <td>0.0</td>\n",
       "      <td>4053.0</td>\n",
       "      <td>149.0</td>\n",
       "      <td>1788.0</td>\n",
       "      <td>447.000000</td>\n",
       "      <td>601.297882</td>\n",
       "      <td>3576.0</td>\n",
       "      <td>0.000000</td>\n",
       "      <td>0.0</td>\n",
       "      <td>0.0</td>\n",
       "      <td>0.000000</td>\n",
       "      <td>8.0</td>\n",
       "      <td>3.0</td>\n",
       "      <td>409.0</td>\n",
       "      <td>108.142857</td>\n",
       "      <td>151.258530</td>\n",
       "      <td>0.000000</td>\n",
       "      <td>0.0</td>\n",
       "      <td>4.0</td>\n",
       "      <td>1.837821e+07</td>\n",
       "      <td>25038.428218</td>\n",
       "      <td>11939.337626</td>\n",
       "      <td>71565.0</td>\n",
       "      <td>97.500000</td>\n",
       "      <td>45.000447</td>\n",
       "      <td>734.0</td>\n",
       "      <td>29.153846</td>\n",
       "      <td>31.0</td>\n",
       "      <td>21.0</td>\n",
       "      <td>2.460769</td>\n",
       "      <td>26.0</td>\n",
       "      <td>2.0</td>\n",
       "    </tr>\n",
       "  </tbody>\n",
       "</table>\n",
       "</div>"
      ],
      "text/plain": [
       "                                           msno  is_churn  date_pred    bd  \\\n",
       "0  waLDQMmcOu2jLDaV1ddDkgCrB/jl6sD66Xzs0Vqax1Y=         1     201702  36.0   \n",
       "1  QA7uiXy8vIbUSPOkCf9RwQ3FsT8jVq2OxDr8zqa7bRQ=         1     201702  38.0   \n",
       "2  fGwBva6hikQmTJzrbz/2Ezjm5Cth5jZUNvXigKK2AFA=         1     201702  27.0   \n",
       "3  mT5V8rEpa+8wuqi6x0DoVd3H5icMKkE9Prt49UlmK+4=         1     201702  23.0   \n",
       "4  XaPhtGLk/5UvvOYHcONTwsnH97P4eGECeq+BARGItRw=         1     201702  27.0   \n",
       "\n",
       "   gender  city_1  city_4  city_5  city_13  city_15  city_22  city_other  \\\n",
       "0     0.0     0.0     0.0     0.0      0.0      0.0      0.0         1.0   \n",
       "1     1.0     0.0     0.0     0.0      0.0      0.0      0.0         1.0   \n",
       "2     0.0     0.0     0.0     0.0      0.0      0.0      0.0         1.0   \n",
       "3     0.0     0.0     0.0     0.0      1.0      0.0      0.0         0.0   \n",
       "4     1.0     0.0     0.0     0.0      0.0      0.0      0.0         1.0   \n",
       "\n",
       "   registered_via_3  registered_via_4  registered_via_7  registered_via_9  \\\n",
       "0               0.0               0.0               0.0               1.0   \n",
       "1               0.0               0.0               0.0               1.0   \n",
       "2               0.0               0.0               0.0               1.0   \n",
       "3               0.0               0.0               0.0               1.0   \n",
       "4               0.0               0.0               0.0               1.0   \n",
       "\n",
       "   registered_via_11  registered_via_13  registered_via_other  tenure_days  \\\n",
       "0                0.0                0.0                   0.0       4319.0   \n",
       "1                0.0                0.0                   0.0       4318.0   \n",
       "2                0.0                0.0                   0.0       4126.0   \n",
       "3                0.0                0.0                   0.0       4109.0   \n",
       "4                0.0                0.0                   0.0       4053.0   \n",
       "\n",
       "   actual_amount_paid_min  actual_amount_paid_max  actual_amount_paid_mean  \\\n",
       "0                     0.0                   149.0                74.500000   \n",
       "1                   149.0                   180.0               150.409091   \n",
       "2                   149.0                   150.0               149.200000   \n",
       "3                     0.0                  1788.0               894.000000   \n",
       "4                   149.0                  1788.0               447.000000   \n",
       "\n",
       "   actual_amount_paid_std  actual_amount_paid_sum  is_auto_renew_mean  \\\n",
       "0              105.358910                   149.0            0.000000   \n",
       "1                6.609222                  3309.0            0.954545   \n",
       "2                0.421637                  1492.0            0.800000   \n",
       "3             1264.306925                  1788.0            0.000000   \n",
       "4              601.297882                  3576.0            0.000000   \n",
       "\n",
       "   is_auto_renew_sum  is_cancel_sum  is_cancel_mean  msno_count_x  \\\n",
       "0                0.0            0.0        0.000000           2.0   \n",
       "1               21.0            1.0        0.045455          22.0   \n",
       "2                8.0            1.0        0.100000          10.0   \n",
       "3                0.0            0.0        0.000000           2.0   \n",
       "4                0.0            0.0        0.000000           8.0   \n",
       "\n",
       "   diff_dates_min  diff_dates_max  diff_dates_mean  diff_dates_std  \\\n",
       "0            68.0            68.0        68.000000             NaN   \n",
       "1            16.0            95.0        34.809524       16.095400   \n",
       "2            12.0           118.0        38.333333       30.512293   \n",
       "3             2.0             2.0         2.000000             NaN   \n",
       "4             3.0           409.0       108.142857      151.258530   \n",
       "\n",
       "   churn_mean  churn_sum  days_last_trx  total_secs_sum  total_secs_mean  \\\n",
       "0    1.000000        1.0           25.0    9.227921e+04      4613.960400   \n",
       "1    0.250000        1.0            1.0    2.614515e+06      5027.913888   \n",
       "2    0.333333        1.0           20.0    2.597385e+06     10959.428928   \n",
       "3         NaN        NaN          392.0    4.840589e+06      6779.536436   \n",
       "4    0.000000        0.0            4.0    1.837821e+07     25038.428218   \n",
       "\n",
       "   total_secs_std  num_unq_sum  num_unq_mean  num_unq_std  msno_count_y  \\\n",
       "0     4240.848005        394.0     19.700000    16.012807          20.0   \n",
       "1     5564.554567       7229.0     13.901923    14.006454         520.0   \n",
       "2     8172.306431      11533.0     48.662447    35.829472         237.0   \n",
       "3     6303.076898      17943.0     25.130252    24.978054         714.0   \n",
       "4    11939.337626      71565.0     97.500000    45.000447         734.0   \n",
       "\n",
       "   nbr_logins_monthly_mean  nbr_logins_monthly_max  nbr_logins_monthly_min  \\\n",
       "0                 8.666667                    18.0                     2.0   \n",
       "1                20.840000                    31.0                     1.0   \n",
       "2                19.750000                    30.0                     4.0   \n",
       "3                28.269231                    31.0                    21.0   \n",
       "4                29.153846                    31.0                    21.0   \n",
       "\n",
       "   nbr_logins_monthly_std  nbr_logins_monthly_count  last_login_days  \n",
       "0                8.326664                       3.0              3.0  \n",
       "1                9.485427                      25.0             33.0  \n",
       "2                8.945542                      12.0              1.0  \n",
       "3                3.244166                      26.0              2.0  \n",
       "4                2.460769                      26.0              2.0  "
      ]
     },
     "execution_count": 7,
     "metadata": {},
     "output_type": "execute_result"
    }
   ],
   "source": [
    "dfMasterTable.head(5)"
   ]
  },
  {
   "cell_type": "code",
   "execution_count": 6,
   "id": "709eb72c",
   "metadata": {
    "ExecuteTime": {
     "end_time": "2022-06-30T09:56:45.046970Z",
     "start_time": "2022-06-30T09:56:45.043018Z"
    },
    "pycharm": {
     "name": "#%%\n"
    }
   },
   "outputs": [
    {
     "data": {
      "text/plain": [
       "Index(['msno', 'is_churn', 'date_pred', 'bd', 'gender', 'city_1', 'city_4',\n",
       "       'city_5', 'city_13', 'city_15', 'city_22', 'city_other',\n",
       "       'registered_via_3', 'registered_via_4', 'registered_via_7',\n",
       "       'registered_via_9', 'registered_via_11', 'registered_via_13',\n",
       "       'registered_via_other', 'tenure_days', 'actual_amount_paid_min',\n",
       "       'actual_amount_paid_max', 'actual_amount_paid_mean',\n",
       "       'actual_amount_paid_std', 'actual_amount_paid_sum',\n",
       "       'is_auto_renew_mean', 'is_auto_renew_sum', 'is_cancel_sum',\n",
       "       'is_cancel_mean', 'msno_count_x', 'diff_dates_min', 'diff_dates_max',\n",
       "       'diff_dates_mean', 'diff_dates_std', 'churn_mean', 'churn_sum',\n",
       "       'days_last_trx', 'total_secs_sum', 'total_secs_mean', 'total_secs_std',\n",
       "       'num_unq_sum', 'num_unq_mean', 'num_unq_std', 'msno_count_y',\n",
       "       'nbr_logins_monthly_mean', 'nbr_logins_monthly_max',\n",
       "       'nbr_logins_monthly_min', 'nbr_logins_monthly_std',\n",
       "       'nbr_logins_monthly_count', 'last_login_days'],\n",
       "      dtype='object')"
      ]
     },
     "execution_count": 6,
     "metadata": {},
     "output_type": "execute_result"
    }
   ],
   "source": [
    "dfMasterTable.columns"
   ]
  },
  {
   "cell_type": "markdown",
   "id": "9fb310b6",
   "metadata": {
    "pycharm": {
     "name": "#%% md\n"
    }
   },
   "source": [
    "The final master table contains multiple kinds of features that are constructed using the provided raw data of the clients of the music streaming service company. They are listed as follows:\n",
    "\n",
    "- Static features (using the `members` dataset) that don't vary through time i.e: **Gender**, **City**, **Registration method** ...\n",
    "\n",
    "- Statistics of listeting behavior (using the `transactions` dataset) : by aggregating the history of transactions for each client and computing the **statistics of the amount paid**, the **number of months on auto renew**, the **history of cancels**, **days since last transaction** and **statistics of time difference between transactions**.\n",
    "\n",
    "- Statistics of the login behavior (using the `user_logs` dataset) : by aggregation the daily listening behavior for each client and computing the **statistics of total seconds** spent on the app, the **statistics of the the songs listened to**, **last login in days** and **tenure**."
   ]
  },
  {
   "cell_type": "markdown",
   "id": "78377e8a",
   "metadata": {
    "pycharm": {
     "name": "#%% md\n"
    }
   },
   "source": [
    "This data should be cleaned further by **filling the null values** and **getting rid of the outliers** before plugging it to the model. **Getting rid of highly correlated features** is also necessary as well as doing proper **Feature Selection**."
   ]
  }
 ],
 "metadata": {
  "kernelspec": {
   "display_name": "Python 3 (ipykernel)",
   "language": "python",
   "name": "python3"
  },
  "language_info": {
   "codemirror_mode": {
    "name": "ipython",
    "version": 3
   },
   "file_extension": ".py",
   "mimetype": "text/x-python",
   "name": "python",
   "nbconvert_exporter": "python",
   "pygments_lexer": "ipython3",
   "version": "3.9.7"
  },
  "toc": {
   "base_numbering": 1,
   "nav_menu": {},
   "number_sections": true,
   "sideBar": true,
   "skip_h1_title": false,
   "title_cell": "Table of Contents",
   "title_sidebar": "Contents",
   "toc_cell": true,
   "toc_position": {
    "height": "795px",
    "left": "35px",
    "top": "111.125px",
    "width": "311px"
   },
   "toc_section_display": true,
   "toc_window_display": true
  }
 },
 "nbformat": 4,
 "nbformat_minor": 5
}