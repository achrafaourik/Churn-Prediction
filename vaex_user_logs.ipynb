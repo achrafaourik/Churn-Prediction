{
 "cells": [
  {
   "cell_type": "code",
   "execution_count": 5,
   "id": "616876bf",
   "metadata": {
    "ExecuteTime": {
     "end_time": "2022-04-04T10:51:37.593515Z",
     "start_time": "2022-04-04T10:51:24.947636Z"
    }
   },
   "outputs": [],
   "source": [
    "%matplotlib inline\n",
    "import pandas as pd\n",
    "import matplotlib.pyplot as plt\n",
    "import seaborn as sns\n",
    "import altair as alt\n",
    "import warnings\n",
    "from IPython.core.interactiveshell import InteractiveShell\n",
    "import numpy as np\n",
    "import dask.dataframe as dd\n",
    "import os\n",
    "import itertools\n",
    "import matplotlib.ticker as ticker\n",
    "alt.renderers.enable('default')\n",
    "InteractiveShell.ast_node_interactivity = \"all\"\n",
    "sns.set_theme(style=\"darkgrid\")\n",
    "warnings.filterwarnings('ignore')\n",
    "sns.set_palette(sns.color_palette(\"Set3\"))"
   ]
  },
  {
   "cell_type": "code",
   "execution_count": 6,
   "id": "e37bf427",
   "metadata": {
    "ExecuteTime": {
     "end_time": "2022-04-04T10:51:37.598671Z",
     "start_time": "2022-04-04T10:51:37.595760Z"
    }
   },
   "outputs": [],
   "source": [
    "uid = 'msno'"
   ]
  },
  {
   "cell_type": "code",
   "execution_count": 21,
   "id": "42041886",
   "metadata": {
    "ExecuteTime": {
     "end_time": "2022-02-17T17:28:30.923170Z",
     "start_time": "2022-02-17T17:28:29.956131Z"
    },
    "scrolled": true
   },
   "outputs": [
    {
     "data": {
      "text/html": [
       "<div>\n",
       "<style scoped>\n",
       "    .dataframe tbody tr th:only-of-type {\n",
       "        vertical-align: middle;\n",
       "    }\n",
       "\n",
       "    .dataframe tbody tr th {\n",
       "        vertical-align: top;\n",
       "    }\n",
       "\n",
       "    .dataframe thead th {\n",
       "        text-align: right;\n",
       "    }\n",
       "</style>\n",
       "<table border=\"1\" class=\"dataframe\">\n",
       "  <thead>\n",
       "    <tr style=\"text-align: right;\">\n",
       "      <th></th>\n",
       "      <th>msno</th>\n",
       "      <th>is_churn</th>\n",
       "    </tr>\n",
       "  </thead>\n",
       "  <tbody>\n",
       "    <tr>\n",
       "      <th>0</th>\n",
       "      <td>waLDQMmcOu2jLDaV1ddDkgCrB/jl6sD66Xzs0Vqax1Y=</td>\n",
       "      <td>1</td>\n",
       "    </tr>\n",
       "    <tr>\n",
       "      <th>1</th>\n",
       "      <td>QA7uiXy8vIbUSPOkCf9RwQ3FsT8jVq2OxDr8zqa7bRQ=</td>\n",
       "      <td>1</td>\n",
       "    </tr>\n",
       "    <tr>\n",
       "      <th>2</th>\n",
       "      <td>fGwBva6hikQmTJzrbz/2Ezjm5Cth5jZUNvXigKK2AFA=</td>\n",
       "      <td>1</td>\n",
       "    </tr>\n",
       "    <tr>\n",
       "      <th>3</th>\n",
       "      <td>mT5V8rEpa+8wuqi6x0DoVd3H5icMKkE9Prt49UlmK+4=</td>\n",
       "      <td>1</td>\n",
       "    </tr>\n",
       "    <tr>\n",
       "      <th>4</th>\n",
       "      <td>XaPhtGLk/5UvvOYHcONTwsnH97P4eGECeq+BARGItRw=</td>\n",
       "      <td>1</td>\n",
       "    </tr>\n",
       "  </tbody>\n",
       "</table>\n",
       "</div>"
      ],
      "text/plain": [
       "                                           msno is_churn\n",
       "0  waLDQMmcOu2jLDaV1ddDkgCrB/jl6sD66Xzs0Vqax1Y=        1\n",
       "1  QA7uiXy8vIbUSPOkCf9RwQ3FsT8jVq2OxDr8zqa7bRQ=        1\n",
       "2  fGwBva6hikQmTJzrbz/2Ezjm5Cth5jZUNvXigKK2AFA=        1\n",
       "3  mT5V8rEpa+8wuqi6x0DoVd3H5icMKkE9Prt49UlmK+4=        1\n",
       "4  XaPhtGLk/5UvvOYHcONTwsnH97P4eGECeq+BARGItRw=        1"
      ]
     },
     "execution_count": 21,
     "metadata": {},
     "output_type": "execute_result"
    }
   ],
   "source": [
    "# This can be changed to the directory where the datasets are stored\n",
    "data_dir = './data'\n",
    "\n",
    "# Training data for january, contains two columns : user id and binary churn target variable\n",
    "train = pd.read_csv(os.path.join(data_dir, 'train.csv'), dtype={'is_churn': str})\n",
    "\n",
    "train.head()"
   ]
  },
  {
   "cell_type": "code",
   "execution_count": 22,
   "id": "7abe4977",
   "metadata": {
    "ExecuteTime": {
     "end_time": "2022-02-17T17:28:31.046934Z",
     "start_time": "2022-02-17T17:28:31.043976Z"
    }
   },
   "outputs": [],
   "source": [
    "import vaex"
   ]
  },
  {
   "cell_type": "code",
   "execution_count": 23,
   "id": "903b32e1",
   "metadata": {
    "ExecuteTime": {
     "end_time": "2022-02-17T17:28:31.915973Z",
     "start_time": "2022-02-17T17:28:31.391822Z"
    }
   },
   "outputs": [],
   "source": [
    "df = vaex.open('./data/user_logs_split_*.hdf5')"
   ]
  },
  {
   "cell_type": "code",
   "execution_count": 24,
   "id": "00e38a77",
   "metadata": {
    "ExecuteTime": {
     "end_time": "2022-02-17T17:28:32.198857Z",
     "start_time": "2022-02-17T17:28:32.175992Z"
    },
    "scrolled": true
   },
   "outputs": [
    {
     "data": {
      "text/plain": [
       "'msno'"
      ]
     },
     "execution_count": 24,
     "metadata": {},
     "output_type": "execute_result"
    },
    {
     "data": {
      "text/plain": [
       "'date'"
      ]
     },
     "execution_count": 24,
     "metadata": {},
     "output_type": "execute_result"
    },
    {
     "data": {
      "text/plain": [
       "'num_25'"
      ]
     },
     "execution_count": 24,
     "metadata": {},
     "output_type": "execute_result"
    },
    {
     "data": {
      "text/plain": [
       "'num_50'"
      ]
     },
     "execution_count": 24,
     "metadata": {},
     "output_type": "execute_result"
    },
    {
     "data": {
      "text/plain": [
       "'num_75'"
      ]
     },
     "execution_count": 24,
     "metadata": {},
     "output_type": "execute_result"
    },
    {
     "data": {
      "text/plain": [
       "'num_985'"
      ]
     },
     "execution_count": 24,
     "metadata": {},
     "output_type": "execute_result"
    },
    {
     "data": {
      "text/plain": [
       "'num_100'"
      ]
     },
     "execution_count": 24,
     "metadata": {},
     "output_type": "execute_result"
    },
    {
     "data": {
      "text/plain": [
       "'num_unq'"
      ]
     },
     "execution_count": 24,
     "metadata": {},
     "output_type": "execute_result"
    },
    {
     "data": {
      "text/plain": [
       "'total_secs'"
      ]
     },
     "execution_count": 24,
     "metadata": {},
     "output_type": "execute_result"
    }
   ],
   "source": [
    "names = ['msno','date','num_25','num_50','num_75','num_985','num_100','num_unq','total_secs']\n",
    "\n",
    "for i, new_name in enumerate(names):\n",
    "    df.rename(str(i), new_name)"
   ]
  },
  {
   "cell_type": "code",
   "execution_count": 25,
   "id": "121a87c1",
   "metadata": {
    "ExecuteTime": {
     "end_time": "2022-02-17T17:28:33.089176Z",
     "start_time": "2022-02-17T17:28:33.000272Z"
    },
    "scrolled": false
   },
   "outputs": [
    {
     "data": {
      "text/html": [
       "<table>\n",
       "<thead>\n",
       "<tr><th>#                                      </th><th>msno                                          </th><th>date    </th><th>num_25  </th><th>num_50  </th><th>num_75  </th><th>num_985  </th><th>num_100  </th><th>num_unq  </th><th>total_secs        </th><th>date_formatted                  </th></tr>\n",
       "</thead>\n",
       "<tbody>\n",
       "<tr><td><i style='opacity: 0.6'>0</i>          </td><td>&#x27;rxIP2f2aN0rYNp+toI0Obt/N/FYQX8hcO1fTmmy2h34=&#x27;</td><td>20150513</td><td>0       </td><td>0       </td><td>0       </td><td>0        </td><td>1        </td><td>1        </td><td>280.335           </td><td>Timestamp(&#x27;2015-05-13 00:00:00&#x27;)</td></tr>\n",
       "<tr><td><i style='opacity: 0.6'>1</i>          </td><td>&#x27;rxIP2f2aN0rYNp+toI0Obt/N/FYQX8hcO1fTmmy2h34=&#x27;</td><td>20150709</td><td>9       </td><td>1       </td><td>0       </td><td>0        </td><td>7        </td><td>11       </td><td>1658.9479999999999</td><td>Timestamp(&#x27;2015-07-09 00:00:00&#x27;)</td></tr>\n",
       "<tr><td><i style='opacity: 0.6'>2</i>          </td><td>&#x27;yxiEWwE9VR5utpUecLxVdQ5B7NysUPfrNtGINaM2zA8=&#x27;</td><td>20150105</td><td>3       </td><td>3       </td><td>0       </td><td>0        </td><td>68       </td><td>36       </td><td>17364.956000000002</td><td>Timestamp(&#x27;2015-01-05 00:00:00&#x27;)</td></tr>\n",
       "<tr><td><i style='opacity: 0.6'>3</i>          </td><td>&#x27;yxiEWwE9VR5utpUecLxVdQ5B7NysUPfrNtGINaM2zA8=&#x27;</td><td>20150306</td><td>1       </td><td>0       </td><td>1       </td><td>1        </td><td>97       </td><td>27       </td><td>24667.317000000003</td><td>Timestamp(&#x27;2015-03-06 00:00:00&#x27;)</td></tr>\n",
       "<tr><td><i style='opacity: 0.6'>4</i>          </td><td>&#x27;yxiEWwE9VR5utpUecLxVdQ5B7NysUPfrNtGINaM2zA8=&#x27;</td><td>20150501</td><td>3       </td><td>0       </td><td>0       </td><td>0        </td><td>38       </td><td>38       </td><td>9649.029          </td><td>Timestamp(&#x27;2015-05-01 00:00:00&#x27;)</td></tr>\n",
       "<tr><td>...                                    </td><td>...                                           </td><td>...     </td><td>...     </td><td>...     </td><td>...     </td><td>...      </td><td>...      </td><td>...      </td><td>...               </td><td>...                             </td></tr>\n",
       "<tr><td><i style='opacity: 0.6'>391,865,090</i></td><td>&#x27;ccyBVC3HXqPi7D8GoxT0u3jntamqtPubA9hKhRQUsu0=&#x27;</td><td>20150925</td><td>0       </td><td>1       </td><td>0       </td><td>0        </td><td>1        </td><td>2        </td><td>342.207           </td><td>Timestamp(&#x27;2015-09-25 00:00:00&#x27;)</td></tr>\n",
       "<tr><td><i style='opacity: 0.6'>391,865,091</i></td><td>&#x27;ccyBVC3HXqPi7D8GoxT0u3jntamqtPubA9hKhRQUsu0=&#x27;</td><td>20160216</td><td>12      </td><td>9       </td><td>2       </td><td>0        </td><td>13       </td><td>30       </td><td>4220.209          </td><td>Timestamp(&#x27;2016-02-16 00:00:00&#x27;)</td></tr>\n",
       "<tr><td><i style='opacity: 0.6'>391,865,092</i></td><td>&#x27;ccyBVC3HXqPi7D8GoxT0u3jntamqtPubA9hKhRQUsu0=&#x27;</td><td>20160515</td><td>15      </td><td>9       </td><td>10      </td><td>5        </td><td>15       </td><td>47       </td><td>7300.25           </td><td>Timestamp(&#x27;2016-05-15 00:00:00&#x27;)</td></tr>\n",
       "<tr><td><i style='opacity: 0.6'>391,865,093</i></td><td>&#x27;ccyBVC3HXqPi7D8GoxT0u3jntamqtPubA9hKhRQUsu0=&#x27;</td><td>20160725</td><td>8       </td><td>0       </td><td>0       </td><td>0        </td><td>10       </td><td>13       </td><td>2498.097          </td><td>Timestamp(&#x27;2016-07-25 00:00:00&#x27;)</td></tr>\n",
       "<tr><td><i style='opacity: 0.6'>391,865,094</i></td><td>&#x27;ccyBVC3HXqPi7D8GoxT0u3jntamqtPubA9hKhRQUsu0=&#x27;</td><td>20161005</td><td>0       </td><td>4       </td><td>1       </td><td>1        </td><td>11       </td><td>10       </td><td>3268.739          </td><td>Timestamp(&#x27;2016-10-05 00:00:00&#x27;)</td></tr>\n",
       "</tbody>\n",
       "</table>"
      ],
      "text/plain": [
       "#            msno                                            date      num_25    num_50    num_75    num_985    num_100    num_unq    total_secs          date_formatted\n",
       "0            'rxIP2f2aN0rYNp+toI0Obt/N/FYQX8hcO1fTmmy2h34='  20150513  0         0         0         0          1          1          280.335             Timestamp('2015-05-13 00:00:00')\n",
       "1            'rxIP2f2aN0rYNp+toI0Obt/N/FYQX8hcO1fTmmy2h34='  20150709  9         1         0         0          7          11         1658.9479999999999  Timestamp('2015-07-09 00:00:00')\n",
       "2            'yxiEWwE9VR5utpUecLxVdQ5B7NysUPfrNtGINaM2zA8='  20150105  3         3         0         0          68         36         17364.956000000002  Timestamp('2015-01-05 00:00:00')\n",
       "3            'yxiEWwE9VR5utpUecLxVdQ5B7NysUPfrNtGINaM2zA8='  20150306  1         0         1         1          97         27         24667.317000000003  Timestamp('2015-03-06 00:00:00')\n",
       "4            'yxiEWwE9VR5utpUecLxVdQ5B7NysUPfrNtGINaM2zA8='  20150501  3         0         0         0          38         38         9649.029            Timestamp('2015-05-01 00:00:00')\n",
       "...          ...                                             ...       ...       ...       ...       ...        ...        ...        ...                 ...\n",
       "391,865,090  'ccyBVC3HXqPi7D8GoxT0u3jntamqtPubA9hKhRQUsu0='  20150925  0         1         0         0          1          2          342.207             Timestamp('2015-09-25 00:00:00')\n",
       "391,865,091  'ccyBVC3HXqPi7D8GoxT0u3jntamqtPubA9hKhRQUsu0='  20160216  12        9         2         0          13         30         4220.209            Timestamp('2016-02-16 00:00:00')\n",
       "391,865,092  'ccyBVC3HXqPi7D8GoxT0u3jntamqtPubA9hKhRQUsu0='  20160515  15        9         10        5          15         47         7300.25             Timestamp('2016-05-15 00:00:00')\n",
       "391,865,093  'ccyBVC3HXqPi7D8GoxT0u3jntamqtPubA9hKhRQUsu0='  20160725  8         0         0         0          10         13         2498.097            Timestamp('2016-07-25 00:00:00')\n",
       "391,865,094  'ccyBVC3HXqPi7D8GoxT0u3jntamqtPubA9hKhRQUsu0='  20161005  0         4         1         1          11         10         3268.739            Timestamp('2016-10-05 00:00:00')"
      ]
     },
     "execution_count": 25,
     "metadata": {},
     "output_type": "execute_result"
    }
   ],
   "source": [
    "df['year'] = df['date'] // 10000\n",
    "df['month'] = (df['date'] // 100) % 100\n",
    "df['day'] = df['date'] % 100\n",
    "\n",
    "df['year'] = df['year'].astype(str)\n",
    "df['month'] = df['month'].astype(str).str.zfill(2)\n",
    "df['day'] = df['day'].astype(str).str.zfill(2)\n",
    "\n",
    "df['date_formatted'] = df['year'] + '-' + df['month'] + '-' + df['day']\n",
    "df['date_formatted'] = df['date_formatted'].astype('datetime64')\n",
    "\n",
    "df.drop(['year', 'month', 'day'], inplace=True)"
   ]
  },
  {
   "cell_type": "code",
   "execution_count": 26,
   "id": "88b04c89",
   "metadata": {
    "ExecuteTime": {
     "end_time": "2022-02-17T17:28:36.017722Z",
     "start_time": "2022-02-17T17:28:36.013143Z"
    },
    "scrolled": true
   },
   "outputs": [
    {
     "data": {
      "text/plain": [
       "(391865095, 10)"
      ]
     },
     "execution_count": 26,
     "metadata": {},
     "output_type": "execute_result"
    }
   ],
   "source": [
    "df.shape"
   ]
  },
  {
   "cell_type": "code",
   "execution_count": 10,
   "id": "23cbe7a1",
   "metadata": {
    "ExecuteTime": {
     "end_time": "2022-02-17T17:23:23.710050Z",
     "start_time": "2022-02-17T17:23:23.705625Z"
    }
   },
   "outputs": [],
   "source": [
    "sample = df[:10000000]"
   ]
  },
  {
   "cell_type": "code",
   "execution_count": 12,
   "id": "48af84e5",
   "metadata": {
    "ExecuteTime": {
     "end_time": "2022-02-11T17:09:09.241782Z",
     "start_time": "2022-02-11T17:09:09.071929Z"
    },
    "scrolled": false
   },
   "outputs": [
    {
     "data": {
      "text/html": [
       "<table>\n",
       "<thead>\n",
       "<tr><th>#                              </th><th>msno                                          </th><th>date_formatted  </th><th>total_seconds_6_months  </th><th>avg_seconds_6_months  </th></tr>\n",
       "</thead>\n",
       "<tbody>\n",
       "<tr><td><i style='opacity: 0.6'>0</i>  </td><td>&#x27;rxIP2f2aN0rYNp+toI0Obt/N/FYQX8hcO1fTmmy2h34=&#x27;</td><td>2015-04-30      </td><td>280.335                 </td><td>280.335               </td></tr>\n",
       "<tr><td><i style='opacity: 0.6'>1</i>  </td><td>&#x27;rxIP2f2aN0rYNp+toI0Obt/N/FYQX8hcO1fTmmy2h34=&#x27;</td><td>2015-06-29      </td><td>1658.9479999999999      </td><td>1658.9479999999999    </td></tr>\n",
       "<tr><td><i style='opacity: 0.6'>2</i>  </td><td>&#x27;yxiEWwE9VR5utpUecLxVdQ5B7NysUPfrNtGINaM2zA8=&#x27;</td><td>2014-12-31      </td><td>17364.956000000002      </td><td>17364.956000000002    </td></tr>\n",
       "<tr><td><i style='opacity: 0.6'>3</i>  </td><td>&#x27;yxiEWwE9VR5utpUecLxVdQ5B7NysUPfrNtGINaM2zA8=&#x27;</td><td>2015-03-01      </td><td>24667.317000000003      </td><td>24667.317000000003    </td></tr>\n",
       "<tr><td><i style='opacity: 0.6'>4</i>  </td><td>&#x27;yxiEWwE9VR5utpUecLxVdQ5B7NysUPfrNtGINaM2zA8=&#x27;</td><td>2015-04-30      </td><td>9649.029                </td><td>9649.029              </td></tr>\n",
       "<tr><td>...                            </td><td>...                                           </td><td>...             </td><td>...                     </td><td>...                   </td></tr>\n",
       "<tr><td><i style='opacity: 0.6'>959</i></td><td>&#x27;GsxqOgdbfqplwVMVVMu/0spt8ysfkSjexZqzyTb5T/E=&#x27;</td><td>2016-02-24      </td><td>982.0                   </td><td>982.0                 </td></tr>\n",
       "<tr><td><i style='opacity: 0.6'>960</i></td><td>&#x27;GsxqOgdbfqplwVMVVMu/0spt8ysfkSjexZqzyTb5T/E=&#x27;</td><td>2016-06-23      </td><td>1993.35                 </td><td>1993.35               </td></tr>\n",
       "<tr><td><i style='opacity: 0.6'>961</i></td><td>&#x27;GsxqOgdbfqplwVMVVMu/0spt8ysfkSjexZqzyTb5T/E=&#x27;</td><td>2016-08-22      </td><td>2236.254                </td><td>2236.254              </td></tr>\n",
       "<tr><td><i style='opacity: 0.6'>962</i></td><td>&#x27;GsxqOgdbfqplwVMVVMu/0spt8ysfkSjexZqzyTb5T/E=&#x27;</td><td>2016-12-20      </td><td>5719.019                </td><td>5719.019              </td></tr>\n",
       "<tr><td><i style='opacity: 0.6'>963</i></td><td>&#x27;wyzgGFDQuTiy23ZpvnNuJqD7MfjRtjwyCegyznmOtH8=&#x27;</td><td>2015-03-01      </td><td>15381.218               </td><td>15381.218             </td></tr>\n",
       "</tbody>\n",
       "</table>"
      ],
      "text/plain": [
       "#    msno                                            date_formatted    total_seconds_6_months    avg_seconds_6_months\n",
       "0    'rxIP2f2aN0rYNp+toI0Obt/N/FYQX8hcO1fTmmy2h34='  2015-04-30        280.335                   280.335\n",
       "1    'rxIP2f2aN0rYNp+toI0Obt/N/FYQX8hcO1fTmmy2h34='  2015-06-29        1658.9479999999999        1658.9479999999999\n",
       "2    'yxiEWwE9VR5utpUecLxVdQ5B7NysUPfrNtGINaM2zA8='  2014-12-31        17364.956000000002        17364.956000000002\n",
       "3    'yxiEWwE9VR5utpUecLxVdQ5B7NysUPfrNtGINaM2zA8='  2015-03-01        24667.317000000003        24667.317000000003\n",
       "4    'yxiEWwE9VR5utpUecLxVdQ5B7NysUPfrNtGINaM2zA8='  2015-04-30        9649.029                  9649.029\n",
       "...  ...                                             ...               ...                       ...\n",
       "959  'GsxqOgdbfqplwVMVVMu/0spt8ysfkSjexZqzyTb5T/E='  2016-02-24        982.0                     982.0\n",
       "960  'GsxqOgdbfqplwVMVVMu/0spt8ysfkSjexZqzyTb5T/E='  2016-06-23        1993.35                   1993.35\n",
       "961  'GsxqOgdbfqplwVMVVMu/0spt8ysfkSjexZqzyTb5T/E='  2016-08-22        2236.254                  2236.254\n",
       "962  'GsxqOgdbfqplwVMVVMu/0spt8ysfkSjexZqzyTb5T/E='  2016-12-20        5719.019                  5719.019\n",
       "963  'wyzgGFDQuTiy23ZpvnNuJqD7MfjRtjwyCegyznmOtH8='  2015-03-01        15381.218                 15381.218"
      ]
     },
     "execution_count": 12,
     "metadata": {},
     "output_type": "execute_result"
    }
   ],
   "source": [
    "temp = sample.groupby(['msno', vaex.BinnerTime(sample['date_formatted'], resolution='D', every=60)]).agg(\n",
    "    *[{'total_seconds_6_months': vaex.agg.sum(sample.total_secs),\n",
    "    'avg_seconds_6_months': vaex.agg.mean(sample.total_secs)}])\n",
    "\n",
    "temp"
   ]
  },
  {
   "cell_type": "code",
   "execution_count": 15,
   "id": "55cba680",
   "metadata": {
    "ExecuteTime": {
     "end_time": "2022-02-11T17:27:02.920088Z",
     "start_time": "2022-02-11T17:27:02.915224Z"
    }
   },
   "outputs": [],
   "source": [
    "def compute_aggregations_history(df, date_filter=20160201, resolution=\"D\", resolution_value=30, list_aggs=None):\n",
    "    \"\"\"\n",
    "    Filter df by only taking history inferior to <date_filter> then generate aggregations each :\n",
    "                                                                            <resolution_value> * <resolution>\n",
    "    :param df: vaex dataframe\n",
    "    :param date_filter: filter date, only take instances having a date inferior to this\n",
    "    :param resolution: datetime frequency of aggregations\n",
    "    :param resolution_value: number of units of <resolution> to take\n",
    "    :param list_aggs: dictionary mapping the name of the output column to the aggregation to perform\n",
    "    :return: pandas df containing aggregations performed\n",
    "    \"\"\"\n",
    "    if list_aggs is None:\n",
    "        list_aggs = []\n",
    "    df_filtered = df[df.date <= date_filter]\n",
    "    return df_filtered.groupby(['msno', vaex.BinnerTime(df_filtered['date_formatted'],\n",
    "                                               resolution=resolution,\n",
    "                                               every=resolution_value)]).agg(*list_aggs).to_pandas_df()\n"
   ]
  },
  {
   "cell_type": "code",
   "execution_count": 16,
   "id": "9bfde53c",
   "metadata": {
    "ExecuteTime": {
     "end_time": "2022-02-11T17:27:03.556138Z",
     "start_time": "2022-02-11T17:27:03.496140Z"
    }
   },
   "outputs": [],
   "source": [
    "res = compute_aggregations_history(sample, 20160603, \"M\", 6, [{'total_seconds_6_months': vaex.agg.sum(sample.total_secs),\n",
    "           'avg_seconds_6_months': vaex.agg.mean(sample.total_secs)}])"
   ]
  },
  {
   "cell_type": "code",
   "execution_count": 17,
   "id": "4987a5c3",
   "metadata": {
    "ExecuteTime": {
     "end_time": "2022-02-11T17:27:07.301607Z",
     "start_time": "2022-02-11T17:27:07.265685Z"
    },
    "scrolled": true
   },
   "outputs": [
    {
     "data": {
      "text/html": [
       "<div>\n",
       "<style scoped>\n",
       "    .dataframe tbody tr th:only-of-type {\n",
       "        vertical-align: middle;\n",
       "    }\n",
       "\n",
       "    .dataframe tbody tr th {\n",
       "        vertical-align: top;\n",
       "    }\n",
       "\n",
       "    .dataframe thead th {\n",
       "        text-align: right;\n",
       "    }\n",
       "</style>\n",
       "<table border=\"1\" class=\"dataframe\">\n",
       "  <thead>\n",
       "    <tr style=\"text-align: right;\">\n",
       "      <th></th>\n",
       "      <th>msno</th>\n",
       "      <th>date_formatted</th>\n",
       "      <th>total_seconds_6_months</th>\n",
       "      <th>avg_seconds_6_months</th>\n",
       "    </tr>\n",
       "  </thead>\n",
       "  <tbody>\n",
       "    <tr>\n",
       "      <th>0</th>\n",
       "      <td>rxIP2f2aN0rYNp+toI0Obt/N/FYQX8hcO1fTmmy2h34=</td>\n",
       "      <td>2014-12-01</td>\n",
       "      <td>280.335</td>\n",
       "      <td>280.335000</td>\n",
       "    </tr>\n",
       "    <tr>\n",
       "      <th>1</th>\n",
       "      <td>rxIP2f2aN0rYNp+toI0Obt/N/FYQX8hcO1fTmmy2h34=</td>\n",
       "      <td>2015-06-01</td>\n",
       "      <td>1658.948</td>\n",
       "      <td>1658.948000</td>\n",
       "    </tr>\n",
       "    <tr>\n",
       "      <th>2</th>\n",
       "      <td>yxiEWwE9VR5utpUecLxVdQ5B7NysUPfrNtGINaM2zA8=</td>\n",
       "      <td>2014-12-01</td>\n",
       "      <td>51681.302</td>\n",
       "      <td>17227.100667</td>\n",
       "    </tr>\n",
       "    <tr>\n",
       "      <th>3</th>\n",
       "      <td>yxiEWwE9VR5utpUecLxVdQ5B7NysUPfrNtGINaM2zA8=</td>\n",
       "      <td>2015-06-01</td>\n",
       "      <td>12079.097</td>\n",
       "      <td>4026.365667</td>\n",
       "    </tr>\n",
       "    <tr>\n",
       "      <th>4</th>\n",
       "      <td>yxiEWwE9VR5utpUecLxVdQ5B7NysUPfrNtGINaM2zA8=</td>\n",
       "      <td>2015-12-01</td>\n",
       "      <td>38025.935</td>\n",
       "      <td>12675.311667</td>\n",
       "    </tr>\n",
       "    <tr>\n",
       "      <th>...</th>\n",
       "      <td>...</td>\n",
       "      <td>...</td>\n",
       "      <td>...</td>\n",
       "      <td>...</td>\n",
       "    </tr>\n",
       "    <tr>\n",
       "      <th>311</th>\n",
       "      <td>sTJMA5qPerG7atP3EH4Cqu2OZprKCCnW1oE6fOFOJDs=</td>\n",
       "      <td>2015-12-01</td>\n",
       "      <td>24419.594</td>\n",
       "      <td>8139.864667</td>\n",
       "    </tr>\n",
       "    <tr>\n",
       "      <th>312</th>\n",
       "      <td>GsxqOgdbfqplwVMVVMu/0spt8ysfkSjexZqzyTb5T/E=</td>\n",
       "      <td>2014-12-01</td>\n",
       "      <td>5271.971</td>\n",
       "      <td>1757.323667</td>\n",
       "    </tr>\n",
       "    <tr>\n",
       "      <th>313</th>\n",
       "      <td>GsxqOgdbfqplwVMVVMu/0spt8ysfkSjexZqzyTb5T/E=</td>\n",
       "      <td>2015-06-01</td>\n",
       "      <td>2613.544</td>\n",
       "      <td>1306.772000</td>\n",
       "    </tr>\n",
       "    <tr>\n",
       "      <th>314</th>\n",
       "      <td>GsxqOgdbfqplwVMVVMu/0spt8ysfkSjexZqzyTb5T/E=</td>\n",
       "      <td>2015-12-01</td>\n",
       "      <td>4907.802</td>\n",
       "      <td>1635.934000</td>\n",
       "    </tr>\n",
       "    <tr>\n",
       "      <th>315</th>\n",
       "      <td>wyzgGFDQuTiy23ZpvnNuJqD7MfjRtjwyCegyznmOtH8=</td>\n",
       "      <td>2014-12-01</td>\n",
       "      <td>15381.218</td>\n",
       "      <td>15381.218000</td>\n",
       "    </tr>\n",
       "  </tbody>\n",
       "</table>\n",
       "<p>316 rows × 4 columns</p>\n",
       "</div>"
      ],
      "text/plain": [
       "                                             msno date_formatted  \\\n",
       "0    rxIP2f2aN0rYNp+toI0Obt/N/FYQX8hcO1fTmmy2h34=     2014-12-01   \n",
       "1    rxIP2f2aN0rYNp+toI0Obt/N/FYQX8hcO1fTmmy2h34=     2015-06-01   \n",
       "2    yxiEWwE9VR5utpUecLxVdQ5B7NysUPfrNtGINaM2zA8=     2014-12-01   \n",
       "3    yxiEWwE9VR5utpUecLxVdQ5B7NysUPfrNtGINaM2zA8=     2015-06-01   \n",
       "4    yxiEWwE9VR5utpUecLxVdQ5B7NysUPfrNtGINaM2zA8=     2015-12-01   \n",
       "..                                            ...            ...   \n",
       "311  sTJMA5qPerG7atP3EH4Cqu2OZprKCCnW1oE6fOFOJDs=     2015-12-01   \n",
       "312  GsxqOgdbfqplwVMVVMu/0spt8ysfkSjexZqzyTb5T/E=     2014-12-01   \n",
       "313  GsxqOgdbfqplwVMVVMu/0spt8ysfkSjexZqzyTb5T/E=     2015-06-01   \n",
       "314  GsxqOgdbfqplwVMVVMu/0spt8ysfkSjexZqzyTb5T/E=     2015-12-01   \n",
       "315  wyzgGFDQuTiy23ZpvnNuJqD7MfjRtjwyCegyznmOtH8=     2014-12-01   \n",
       "\n",
       "     total_seconds_6_months  avg_seconds_6_months  \n",
       "0                   280.335            280.335000  \n",
       "1                  1658.948           1658.948000  \n",
       "2                 51681.302          17227.100667  \n",
       "3                 12079.097           4026.365667  \n",
       "4                 38025.935          12675.311667  \n",
       "..                      ...                   ...  \n",
       "311               24419.594           8139.864667  \n",
       "312                5271.971           1757.323667  \n",
       "313                2613.544           1306.772000  \n",
       "314                4907.802           1635.934000  \n",
       "315               15381.218          15381.218000  \n",
       "\n",
       "[316 rows x 4 columns]"
      ]
     },
     "execution_count": 17,
     "metadata": {},
     "output_type": "execute_result"
    }
   ],
   "source": [
    "res"
   ]
  },
  {
   "cell_type": "code",
   "execution_count": null,
   "id": "7d81fb6e",
   "metadata": {
    "ExecuteTime": {
     "start_time": "2022-02-17T17:28:52.983Z"
    }
   },
   "outputs": [],
   "source": [
    "res = df.groupby(['msno', vaex.BinnerTime(df['date_formatted'],\n",
    "                                               resolution=\"M\",\n",
    "                                               every=1)]).agg({'nbr_logins_monthly' : vaex.agg.count(df.date)}).to_pandas_df()"
   ]
  },
  {
   "cell_type": "code",
   "execution_count": 29,
   "id": "73c24712",
   "metadata": {
    "ExecuteTime": {
     "end_time": "2022-02-18T09:10:53.965297Z",
     "start_time": "2022-02-18T09:10:53.833157Z"
    },
    "scrolled": true
   },
   "outputs": [
    {
     "data": {
      "text/html": [
       "<div>\n",
       "<style scoped>\n",
       "    .dataframe tbody tr th:only-of-type {\n",
       "        vertical-align: middle;\n",
       "    }\n",
       "\n",
       "    .dataframe tbody tr th {\n",
       "        vertical-align: top;\n",
       "    }\n",
       "\n",
       "    .dataframe thead th {\n",
       "        text-align: right;\n",
       "    }\n",
       "</style>\n",
       "<table border=\"1\" class=\"dataframe\">\n",
       "  <thead>\n",
       "    <tr style=\"text-align: right;\">\n",
       "      <th></th>\n",
       "      <th>msno</th>\n",
       "      <th>date_formatted</th>\n",
       "      <th>nbr_logins_monthly</th>\n",
       "    </tr>\n",
       "  </thead>\n",
       "  <tbody>\n",
       "    <tr>\n",
       "      <th>0</th>\n",
       "      <td>rxIP2f2aN0rYNp+toI0Obt/N/FYQX8hcO1fTmmy2h34=</td>\n",
       "      <td>2015-03-01</td>\n",
       "      <td>6</td>\n",
       "    </tr>\n",
       "    <tr>\n",
       "      <th>1</th>\n",
       "      <td>rxIP2f2aN0rYNp+toI0Obt/N/FYQX8hcO1fTmmy2h34=</td>\n",
       "      <td>2015-04-01</td>\n",
       "      <td>29</td>\n",
       "    </tr>\n",
       "    <tr>\n",
       "      <th>2</th>\n",
       "      <td>rxIP2f2aN0rYNp+toI0Obt/N/FYQX8hcO1fTmmy2h34=</td>\n",
       "      <td>2015-05-01</td>\n",
       "      <td>27</td>\n",
       "    </tr>\n",
       "    <tr>\n",
       "      <th>3</th>\n",
       "      <td>rxIP2f2aN0rYNp+toI0Obt/N/FYQX8hcO1fTmmy2h34=</td>\n",
       "      <td>2015-06-01</td>\n",
       "      <td>26</td>\n",
       "    </tr>\n",
       "    <tr>\n",
       "      <th>4</th>\n",
       "      <td>rxIP2f2aN0rYNp+toI0Obt/N/FYQX8hcO1fTmmy2h34=</td>\n",
       "      <td>2015-07-01</td>\n",
       "      <td>28</td>\n",
       "    </tr>\n",
       "  </tbody>\n",
       "</table>\n",
       "</div>"
      ],
      "text/plain": [
       "                                           msno date_formatted  \\\n",
       "0  rxIP2f2aN0rYNp+toI0Obt/N/FYQX8hcO1fTmmy2h34=     2015-03-01   \n",
       "1  rxIP2f2aN0rYNp+toI0Obt/N/FYQX8hcO1fTmmy2h34=     2015-04-01   \n",
       "2  rxIP2f2aN0rYNp+toI0Obt/N/FYQX8hcO1fTmmy2h34=     2015-05-01   \n",
       "3  rxIP2f2aN0rYNp+toI0Obt/N/FYQX8hcO1fTmmy2h34=     2015-06-01   \n",
       "4  rxIP2f2aN0rYNp+toI0Obt/N/FYQX8hcO1fTmmy2h34=     2015-07-01   \n",
       "\n",
       "   nbr_logins_monthly  \n",
       "0                   6  \n",
       "1                  29  \n",
       "2                  27  \n",
       "3                  26  \n",
       "4                  28  "
      ]
     },
     "execution_count": 29,
     "metadata": {},
     "output_type": "execute_result"
    }
   ],
   "source": [
    "res.head()"
   ]
  },
  {
   "cell_type": "code",
   "execution_count": 28,
   "id": "c1d6da25",
   "metadata": {
    "ExecuteTime": {
     "end_time": "2022-02-18T09:10:35.021123Z",
     "start_time": "2022-02-18T09:10:35.014338Z"
    },
    "scrolled": true
   },
   "outputs": [
    {
     "data": {
      "text/plain": [
       "(26758112, 3)"
      ]
     },
     "execution_count": 28,
     "metadata": {},
     "output_type": "execute_result"
    }
   ],
   "source": [
    "res.shape"
   ]
  },
  {
   "cell_type": "code",
   "execution_count": null,
   "id": "a2e865c2",
   "metadata": {
    "ExecuteTime": {
     "start_time": "2022-02-18T09:11:14.626Z"
    }
   },
   "outputs": [],
   "source": [
    "res.to_csv('nbr_logins_monthly.csv', index=False)"
   ]
  },
  {
   "cell_type": "code",
   "execution_count": 31,
   "id": "a69f7d89",
   "metadata": {
    "ExecuteTime": {
     "end_time": "2022-02-18T09:24:27.262241Z",
     "start_time": "2022-02-18T09:24:27.251936Z"
    },
    "scrolled": true
   },
   "outputs": [
    {
     "data": {
      "text/html": [
       "<div>\n",
       "<style scoped>\n",
       "    .dataframe tbody tr th:only-of-type {\n",
       "        vertical-align: middle;\n",
       "    }\n",
       "\n",
       "    .dataframe tbody tr th {\n",
       "        vertical-align: top;\n",
       "    }\n",
       "\n",
       "    .dataframe thead th {\n",
       "        text-align: right;\n",
       "    }\n",
       "</style>\n",
       "<table border=\"1\" class=\"dataframe\">\n",
       "  <thead>\n",
       "    <tr style=\"text-align: right;\">\n",
       "      <th></th>\n",
       "      <th>msno</th>\n",
       "      <th>date_formatted</th>\n",
       "      <th>nbr_logins_monthly</th>\n",
       "    </tr>\n",
       "  </thead>\n",
       "  <tbody>\n",
       "    <tr>\n",
       "      <th>0</th>\n",
       "      <td>rxIP2f2aN0rYNp+toI0Obt/N/FYQX8hcO1fTmmy2h34=</td>\n",
       "      <td>2015-03-01</td>\n",
       "      <td>6</td>\n",
       "    </tr>\n",
       "    <tr>\n",
       "      <th>1</th>\n",
       "      <td>rxIP2f2aN0rYNp+toI0Obt/N/FYQX8hcO1fTmmy2h34=</td>\n",
       "      <td>2015-04-01</td>\n",
       "      <td>29</td>\n",
       "    </tr>\n",
       "    <tr>\n",
       "      <th>2</th>\n",
       "      <td>rxIP2f2aN0rYNp+toI0Obt/N/FYQX8hcO1fTmmy2h34=</td>\n",
       "      <td>2015-05-01</td>\n",
       "      <td>27</td>\n",
       "    </tr>\n",
       "    <tr>\n",
       "      <th>3</th>\n",
       "      <td>rxIP2f2aN0rYNp+toI0Obt/N/FYQX8hcO1fTmmy2h34=</td>\n",
       "      <td>2015-06-01</td>\n",
       "      <td>26</td>\n",
       "    </tr>\n",
       "    <tr>\n",
       "      <th>4</th>\n",
       "      <td>rxIP2f2aN0rYNp+toI0Obt/N/FYQX8hcO1fTmmy2h34=</td>\n",
       "      <td>2015-07-01</td>\n",
       "      <td>28</td>\n",
       "    </tr>\n",
       "  </tbody>\n",
       "</table>\n",
       "</div>"
      ],
      "text/plain": [
       "                                           msno date_formatted  \\\n",
       "0  rxIP2f2aN0rYNp+toI0Obt/N/FYQX8hcO1fTmmy2h34=     2015-03-01   \n",
       "1  rxIP2f2aN0rYNp+toI0Obt/N/FYQX8hcO1fTmmy2h34=     2015-04-01   \n",
       "2  rxIP2f2aN0rYNp+toI0Obt/N/FYQX8hcO1fTmmy2h34=     2015-05-01   \n",
       "3  rxIP2f2aN0rYNp+toI0Obt/N/FYQX8hcO1fTmmy2h34=     2015-06-01   \n",
       "4  rxIP2f2aN0rYNp+toI0Obt/N/FYQX8hcO1fTmmy2h34=     2015-07-01   \n",
       "\n",
       "   nbr_logins_monthly  \n",
       "0                   6  \n",
       "1                  29  \n",
       "2                  27  \n",
       "3                  26  \n",
       "4                  28  "
      ]
     },
     "execution_count": 31,
     "metadata": {},
     "output_type": "execute_result"
    }
   ],
   "source": [
    "res.head()"
   ]
  },
  {
   "cell_type": "code",
   "execution_count": 33,
   "id": "a4eceee5",
   "metadata": {
    "ExecuteTime": {
     "end_time": "2022-02-18T09:25:13.785066Z",
     "start_time": "2022-02-18T09:25:06.701796Z"
    },
    "scrolled": true
   },
   "outputs": [
    {
     "data": {
      "text/plain": [
       "5"
      ]
     },
     "execution_count": 33,
     "metadata": {},
     "output_type": "execute_result"
    }
   ],
   "source": [
    "res.msno.nunique() // 10 ** 6"
   ]
  },
  {
   "cell_type": "code",
   "execution_count": 29,
   "id": "a9d6e35e",
   "metadata": {
    "ExecuteTime": {
     "end_time": "2022-04-14T10:38:00.784964Z",
     "start_time": "2022-04-14T10:38:00.781931Z"
    }
   },
   "outputs": [],
   "source": [
    "import pandas as pd\n",
    "from datetime import datetime"
   ]
  },
  {
   "cell_type": "code",
   "execution_count": 30,
   "id": "c44ce5a8",
   "metadata": {
    "ExecuteTime": {
     "end_time": "2022-04-14T10:38:01.031019Z",
     "start_time": "2022-04-14T10:38:01.027472Z"
    }
   },
   "outputs": [],
   "source": [
    "uid = \"msno\""
   ]
  },
  {
   "cell_type": "code",
   "execution_count": 31,
   "id": "28932455",
   "metadata": {
    "ExecuteTime": {
     "end_time": "2022-04-14T10:38:26.310964Z",
     "start_time": "2022-04-14T10:38:01.245874Z"
    }
   },
   "outputs": [],
   "source": [
    "df = pd.read_csv('nbr_logins_monthly.csv')\n",
    "\n",
    "df['date_formatted'] = pd.to_datetime(df['date_formatted'], format='%Y-%m-%d')"
   ]
  },
  {
   "cell_type": "code",
   "execution_count": 32,
   "id": "df5b2911",
   "metadata": {
    "ExecuteTime": {
     "end_time": "2022-04-14T10:38:26.321375Z",
     "start_time": "2022-04-14T10:38:26.314310Z"
    },
    "scrolled": true
   },
   "outputs": [
    {
     "data": {
      "text/plain": [
       "(26758112, 3)"
      ]
     },
     "execution_count": 32,
     "metadata": {},
     "output_type": "execute_result"
    }
   ],
   "source": [
    "df.shape"
   ]
  },
  {
   "cell_type": "code",
   "execution_count": 33,
   "id": "8fa0f9d8",
   "metadata": {
    "ExecuteTime": {
     "end_time": "2022-04-14T10:38:26.330455Z",
     "start_time": "2022-04-14T10:38:26.326373Z"
    }
   },
   "outputs": [],
   "source": [
    "date = 201603"
   ]
  },
  {
   "cell_type": "code",
   "execution_count": 34,
   "id": "563d9129",
   "metadata": {
    "ExecuteTime": {
     "end_time": "2022-04-14T10:38:26.342042Z",
     "start_time": "2022-04-14T10:38:26.334034Z"
    }
   },
   "outputs": [],
   "source": [
    "def months_last_login(unstacked_df, date):\n",
    "    \"\"\"\n",
    "    Generates a dataframe that contains the number of months since last login, relative to a given date.\n",
    "    \"\"\"\n",
    "    temp = unstacked_df[[x for x in unstacked_df.columns if x < pd.to_datetime(date, format='%Y%m')]]\n",
    "    temp = temp.isnull()\n",
    "    res = temp.apply(\n",
    "        lambda x: x.where(x).last_valid_index(), axis=1).reset_index(name=\"date_last_login\")\n",
    "    res.date_last_login.fillna(datetime(2015, 1, 1), inplace=True)\n",
    "    res['months_since_login'] = (pd.to_datetime(date, format='%Y%m') - res['date_last_login']).dt.days / 30\n",
    "    res['date_pred'] = date\n",
    "    return res[[uid, 'date_pred', \"months_since_login\"]]"
   ]
  },
  {
   "cell_type": "code",
   "execution_count": 41,
   "id": "2709d851",
   "metadata": {
    "ExecuteTime": {
     "end_time": "2022-04-14T10:48:51.957580Z",
     "start_time": "2022-04-14T10:48:51.952752Z"
    }
   },
   "outputs": [],
   "source": [
    "months_last_login_dates = lambda unstacked_df, dates: [months_last_login(unstacked_df, date) for date in dates]"
   ]
  },
  {
   "cell_type": "code",
   "execution_count": 35,
   "id": "42915e14",
   "metadata": {
    "ExecuteTime": {
     "end_time": "2022-04-14T10:39:27.459927Z",
     "start_time": "2022-04-14T10:38:26.347351Z"
    }
   },
   "outputs": [],
   "source": [
    "unstacked_df = df.groupby(\n",
    "    [uid, \"date_formatted\"])[\n",
    "    'nbr_logins_monthly'].mean().unstack('date_formatted')"
   ]
  },
  {
   "cell_type": "code",
   "execution_count": 8,
   "id": "17c4c8fb",
   "metadata": {
    "ExecuteTime": {
     "end_time": "2022-04-13T09:43:42.396292Z",
     "start_time": "2022-04-13T09:43:38.564900Z"
    }
   },
   "outputs": [],
   "source": [
    "from dask.distributed import Client\n",
    "client = Client(n_workers=6)\n",
    "\n",
    "from dask import delayed, compute\n",
    "\n",
    "dates = [201603, 201608]\n",
    "\n",
    "%%time\n",
    "delayed_results = [delayed(months_last_login)(unstacked_df.head(1000), date) for date in dates]\n",
    "results = compute(*delayed_results, scheduler=\"processes\")"
   ]
  },
  {
   "cell_type": "code",
   "execution_count": 36,
   "id": "09fb54a3",
   "metadata": {
    "ExecuteTime": {
     "end_time": "2022-04-14T10:39:27.468798Z",
     "start_time": "2022-04-14T10:39:27.462887Z"
    }
   },
   "outputs": [],
   "source": [
    "def stats_logins_monthly(df, date):\n",
    "    df_filtered = df[df.date_formatted < datetime(date // 100, date % 100, 1)]\n",
    "    \n",
    "    stats_logins = df.groupby(uid)['nbr_logins_monthly'].agg(['mean', 'max', 'min', 'std', 'count'])\n",
    "    stats_logins.columns = ['_'.join(['nbr_logins_monthly', x]) for x in stats_logins.columns]\n",
    "\n",
    "    stats_logins = stats_logins.reset_index()\n",
    "    stats_logins.fillna(0, inplace=True)\n",
    "    stats_logins['date_pred'] = date\n",
    "    return stats_logins"
   ]
  },
  {
   "cell_type": "code",
   "execution_count": 37,
   "id": "862ca2c5",
   "metadata": {
    "ExecuteTime": {
     "end_time": "2022-04-13T09:58:04.010156Z",
     "start_time": "2022-04-13T09:57:36.672308Z"
    }
   },
   "outputs": [
    {
     "data": {
      "text/html": [
       "<div>\n",
       "<style scoped>\n",
       "    .dataframe tbody tr th:only-of-type {\n",
       "        vertical-align: middle;\n",
       "    }\n",
       "\n",
       "    .dataframe tbody tr th {\n",
       "        vertical-align: top;\n",
       "    }\n",
       "\n",
       "    .dataframe thead th {\n",
       "        text-align: right;\n",
       "    }\n",
       "</style>\n",
       "<table border=\"1\" class=\"dataframe\">\n",
       "  <thead>\n",
       "    <tr style=\"text-align: right;\">\n",
       "      <th></th>\n",
       "      <th>msno</th>\n",
       "      <th>nbr_logins_monthly_mean</th>\n",
       "      <th>nbr_logins_monthly_max</th>\n",
       "      <th>nbr_logins_monthly_min</th>\n",
       "      <th>nbr_logins_monthly_std</th>\n",
       "      <th>nbr_logins_monthly_count</th>\n",
       "      <th>date_pred</th>\n",
       "    </tr>\n",
       "  </thead>\n",
       "  <tbody>\n",
       "    <tr>\n",
       "      <th>0</th>\n",
       "      <td>+++4vcS9aMH7KWdfh5git6nA5fC5jjisd5H/NcM++WM=</td>\n",
       "      <td>1.000000</td>\n",
       "      <td>1</td>\n",
       "      <td>1</td>\n",
       "      <td>0.000000</td>\n",
       "      <td>1</td>\n",
       "      <td>201601</td>\n",
       "    </tr>\n",
       "    <tr>\n",
       "      <th>1</th>\n",
       "      <td>+++EI4HgyhgcJHIPXk/VRP7bt17+2joG39T6oEfJ+tc=</td>\n",
       "      <td>1.000000</td>\n",
       "      <td>1</td>\n",
       "      <td>1</td>\n",
       "      <td>0.000000</td>\n",
       "      <td>1</td>\n",
       "      <td>201601</td>\n",
       "    </tr>\n",
       "    <tr>\n",
       "      <th>2</th>\n",
       "      <td>+++FOrTS7ab3tIgIh8eWwX4FqRv8w/FoiOuyXsFvphY=</td>\n",
       "      <td>7.000000</td>\n",
       "      <td>7</td>\n",
       "      <td>7</td>\n",
       "      <td>0.000000</td>\n",
       "      <td>1</td>\n",
       "      <td>201601</td>\n",
       "    </tr>\n",
       "    <tr>\n",
       "      <th>3</th>\n",
       "      <td>+++IZseRRiQS9aaSkH6cMYU6bGDcxUieAi/tH67sC5s=</td>\n",
       "      <td>23.923077</td>\n",
       "      <td>31</td>\n",
       "      <td>8</td>\n",
       "      <td>5.992816</td>\n",
       "      <td>26</td>\n",
       "      <td>201601</td>\n",
       "    </tr>\n",
       "    <tr>\n",
       "      <th>4</th>\n",
       "      <td>+++TipL0Kt3JvgNE9ahuJ8o+drJAnQINtxD4c5GePXI=</td>\n",
       "      <td>1.000000</td>\n",
       "      <td>1</td>\n",
       "      <td>1</td>\n",
       "      <td>0.000000</td>\n",
       "      <td>1</td>\n",
       "      <td>201601</td>\n",
       "    </tr>\n",
       "    <tr>\n",
       "      <th>...</th>\n",
       "      <td>...</td>\n",
       "      <td>...</td>\n",
       "      <td>...</td>\n",
       "      <td>...</td>\n",
       "      <td>...</td>\n",
       "      <td>...</td>\n",
       "      <td>...</td>\n",
       "    </tr>\n",
       "    <tr>\n",
       "      <th>5234029</th>\n",
       "      <td>zzzeSzWGUrQw+eP47oa1CXqL/im1Uq6/JYAJs8oGjI8=</td>\n",
       "      <td>1.000000</td>\n",
       "      <td>1</td>\n",
       "      <td>1</td>\n",
       "      <td>0.000000</td>\n",
       "      <td>1</td>\n",
       "      <td>201601</td>\n",
       "    </tr>\n",
       "    <tr>\n",
       "      <th>5234030</th>\n",
       "      <td>zzzqx+aMPSFYjW71JqJ6T/hita+iVemVWzJTE4yQRx8=</td>\n",
       "      <td>2.000000</td>\n",
       "      <td>2</td>\n",
       "      <td>2</td>\n",
       "      <td>0.000000</td>\n",
       "      <td>1</td>\n",
       "      <td>201601</td>\n",
       "    </tr>\n",
       "    <tr>\n",
       "      <th>5234031</th>\n",
       "      <td>zzztPAN9xjMytpZ0RN2gU9mScDULJnHQZK8eZb4uELU=</td>\n",
       "      <td>6.000000</td>\n",
       "      <td>10</td>\n",
       "      <td>2</td>\n",
       "      <td>3.265986</td>\n",
       "      <td>4</td>\n",
       "      <td>201601</td>\n",
       "    </tr>\n",
       "    <tr>\n",
       "      <th>5234032</th>\n",
       "      <td>zzztsqkufVj9DPVJDM3FxDkhlbCL5z4aiYxgPSGkIK4=</td>\n",
       "      <td>3.750000</td>\n",
       "      <td>9</td>\n",
       "      <td>1</td>\n",
       "      <td>3.593976</td>\n",
       "      <td>4</td>\n",
       "      <td>201601</td>\n",
       "    </tr>\n",
       "    <tr>\n",
       "      <th>5234033</th>\n",
       "      <td>zzzyOgMk9MljCerbCCYrVtvu85aSCiy7yCMjAEgNYMs=</td>\n",
       "      <td>1.000000</td>\n",
       "      <td>1</td>\n",
       "      <td>1</td>\n",
       "      <td>0.000000</td>\n",
       "      <td>1</td>\n",
       "      <td>201601</td>\n",
       "    </tr>\n",
       "  </tbody>\n",
       "</table>\n",
       "<p>5234034 rows × 7 columns</p>\n",
       "</div>"
      ],
      "text/plain": [
       "                                                 msno  \\\n",
       "0        +++4vcS9aMH7KWdfh5git6nA5fC5jjisd5H/NcM++WM=   \n",
       "1        +++EI4HgyhgcJHIPXk/VRP7bt17+2joG39T6oEfJ+tc=   \n",
       "2        +++FOrTS7ab3tIgIh8eWwX4FqRv8w/FoiOuyXsFvphY=   \n",
       "3        +++IZseRRiQS9aaSkH6cMYU6bGDcxUieAi/tH67sC5s=   \n",
       "4        +++TipL0Kt3JvgNE9ahuJ8o+drJAnQINtxD4c5GePXI=   \n",
       "...                                               ...   \n",
       "5234029  zzzeSzWGUrQw+eP47oa1CXqL/im1Uq6/JYAJs8oGjI8=   \n",
       "5234030  zzzqx+aMPSFYjW71JqJ6T/hita+iVemVWzJTE4yQRx8=   \n",
       "5234031  zzztPAN9xjMytpZ0RN2gU9mScDULJnHQZK8eZb4uELU=   \n",
       "5234032  zzztsqkufVj9DPVJDM3FxDkhlbCL5z4aiYxgPSGkIK4=   \n",
       "5234033  zzzyOgMk9MljCerbCCYrVtvu85aSCiy7yCMjAEgNYMs=   \n",
       "\n",
       "         nbr_logins_monthly_mean  nbr_logins_monthly_max  \\\n",
       "0                       1.000000                       1   \n",
       "1                       1.000000                       1   \n",
       "2                       7.000000                       7   \n",
       "3                      23.923077                      31   \n",
       "4                       1.000000                       1   \n",
       "...                          ...                     ...   \n",
       "5234029                 1.000000                       1   \n",
       "5234030                 2.000000                       2   \n",
       "5234031                 6.000000                      10   \n",
       "5234032                 3.750000                       9   \n",
       "5234033                 1.000000                       1   \n",
       "\n",
       "         nbr_logins_monthly_min  nbr_logins_monthly_std  \\\n",
       "0                             1                0.000000   \n",
       "1                             1                0.000000   \n",
       "2                             7                0.000000   \n",
       "3                             8                5.992816   \n",
       "4                             1                0.000000   \n",
       "...                         ...                     ...   \n",
       "5234029                       1                0.000000   \n",
       "5234030                       2                0.000000   \n",
       "5234031                       2                3.265986   \n",
       "5234032                       1                3.593976   \n",
       "5234033                       1                0.000000   \n",
       "\n",
       "         nbr_logins_monthly_count  date_pred  \n",
       "0                               1     201601  \n",
       "1                               1     201601  \n",
       "2                               1     201601  \n",
       "3                              26     201601  \n",
       "4                               1     201601  \n",
       "...                           ...        ...  \n",
       "5234029                         1     201601  \n",
       "5234030                         1     201601  \n",
       "5234031                         4     201601  \n",
       "5234032                         4     201601  \n",
       "5234033                         1     201601  \n",
       "\n",
       "[5234034 rows x 7 columns]"
      ]
     },
     "execution_count": 37,
     "metadata": {},
     "output_type": "execute_result"
    }
   ],
   "source": [
    "stats_logins_monthly(df, 201601)"
   ]
  },
  {
   "cell_type": "code",
   "execution_count": 4,
   "id": "22a91f40",
   "metadata": {
    "ExecuteTime": {
     "end_time": "2022-04-14T10:34:18.761093Z",
     "start_time": "2022-04-14T10:34:15.005492Z"
    }
   },
   "outputs": [],
   "source": [
    "from dask.distributed import Client\n",
    "from dask import delayed, compute\n",
    "\n",
    "\n",
    "\n",
    "client = Client(n_workers=6)\n"
   ]
  },
  {
   "cell_type": "code",
   "execution_count": 37,
   "id": "254b8590",
   "metadata": {
    "ExecuteTime": {
     "end_time": "2022-04-14T10:39:27.505936Z",
     "start_time": "2022-04-14T10:39:27.471484Z"
    }
   },
   "outputs": [],
   "source": [
    "dates = [201603, 201608]"
   ]
  },
  {
   "cell_type": "code",
   "execution_count": 45,
   "id": "2f4670b5",
   "metadata": {
    "ExecuteTime": {
     "end_time": "2022-04-14T10:51:12.325025Z",
     "start_time": "2022-04-14T10:51:12.320586Z"
    }
   },
   "outputs": [],
   "source": [
    "def distribute_processes(func, **kwargs):\n",
    "    \"\"\"\n",
    "    Splits the process execution across multiple cores, useful for parallel execution of feature engineering\n",
    "    relative to multiple dates\n",
    "    \"\"\"\n",
    "    delayed_results = delayed(func)(**kwargs)\n",
    "    results = compute(delayed_results, scheduler=\"processes\")\n",
    "    final_res = pd.concat(results[0])\n",
    "    \n",
    "    return final_res"
   ]
  },
  {
   "cell_type": "code",
   "execution_count": 46,
   "id": "e8c34c4c",
   "metadata": {
    "ExecuteTime": {
     "end_time": "2022-04-14T10:51:17.479454Z",
     "start_time": "2022-04-14T10:51:16.127348Z"
    },
    "scrolled": false
   },
   "outputs": [
    {
     "data": {
      "text/html": [
       "<div>\n",
       "<style scoped>\n",
       "    .dataframe tbody tr th:only-of-type {\n",
       "        vertical-align: middle;\n",
       "    }\n",
       "\n",
       "    .dataframe tbody tr th {\n",
       "        vertical-align: top;\n",
       "    }\n",
       "\n",
       "    .dataframe thead th {\n",
       "        text-align: right;\n",
       "    }\n",
       "</style>\n",
       "<table border=\"1\" class=\"dataframe\">\n",
       "  <thead>\n",
       "    <tr style=\"text-align: right;\">\n",
       "      <th></th>\n",
       "      <th>msno</th>\n",
       "      <th>date_pred</th>\n",
       "      <th>months_since_login</th>\n",
       "    </tr>\n",
       "  </thead>\n",
       "  <tbody>\n",
       "    <tr>\n",
       "      <th>0</th>\n",
       "      <td>+++4vcS9aMH7KWdfh5git6nA5fC5jjisd5H/NcM++WM=</td>\n",
       "      <td>201603</td>\n",
       "      <td>0.966667</td>\n",
       "    </tr>\n",
       "    <tr>\n",
       "      <th>1</th>\n",
       "      <td>+++EI4HgyhgcJHIPXk/VRP7bt17+2joG39T6oEfJ+tc=</td>\n",
       "      <td>201603</td>\n",
       "      <td>0.966667</td>\n",
       "    </tr>\n",
       "    <tr>\n",
       "      <th>2</th>\n",
       "      <td>+++FOrTS7ab3tIgIh8eWwX4FqRv8w/FoiOuyXsFvphY=</td>\n",
       "      <td>201603</td>\n",
       "      <td>0.966667</td>\n",
       "    </tr>\n",
       "    <tr>\n",
       "      <th>3</th>\n",
       "      <td>+++IZseRRiQS9aaSkH6cMYU6bGDcxUieAi/tH67sC5s=</td>\n",
       "      <td>201603</td>\n",
       "      <td>14.166667</td>\n",
       "    </tr>\n",
       "    <tr>\n",
       "      <th>4</th>\n",
       "      <td>+++TipL0Kt3JvgNE9ahuJ8o+drJAnQINtxD4c5GePXI=</td>\n",
       "      <td>201603</td>\n",
       "      <td>0.966667</td>\n",
       "    </tr>\n",
       "    <tr>\n",
       "      <th>...</th>\n",
       "      <td>...</td>\n",
       "      <td>...</td>\n",
       "      <td>...</td>\n",
       "    </tr>\n",
       "    <tr>\n",
       "      <th>495</th>\n",
       "      <td>++OrO+qyw4KsyivgnrEzl5ALtN7gj7BNEodVdR5UIss=</td>\n",
       "      <td>201608</td>\n",
       "      <td>1.033333</td>\n",
       "    </tr>\n",
       "    <tr>\n",
       "      <th>496</th>\n",
       "      <td>++OtuWs8cKG2710CCnsZTeVKK9Co38gFamjS9nkus+8=</td>\n",
       "      <td>201608</td>\n",
       "      <td>1.033333</td>\n",
       "    </tr>\n",
       "    <tr>\n",
       "      <th>497</th>\n",
       "      <td>++OvJH5FmfZ5CRrYfmbQEk7tJwCZhsJnkWbxClRaUpw=</td>\n",
       "      <td>201608</td>\n",
       "      <td>6.066667</td>\n",
       "    </tr>\n",
       "    <tr>\n",
       "      <th>498</th>\n",
       "      <td>++OwfFddNO06garROtSdQUfkCwbKF+9pfndYHGRKDas=</td>\n",
       "      <td>201608</td>\n",
       "      <td>1.033333</td>\n",
       "    </tr>\n",
       "    <tr>\n",
       "      <th>499</th>\n",
       "      <td>++P/FDHkWGuv4MEI9DEwbwn6Yvks4lEObpi8H2DOZr0=</td>\n",
       "      <td>201608</td>\n",
       "      <td>1.033333</td>\n",
       "    </tr>\n",
       "  </tbody>\n",
       "</table>\n",
       "<p>1000 rows × 3 columns</p>\n",
       "</div>"
      ],
      "text/plain": [
       "                                             msno  date_pred  \\\n",
       "0    +++4vcS9aMH7KWdfh5git6nA5fC5jjisd5H/NcM++WM=     201603   \n",
       "1    +++EI4HgyhgcJHIPXk/VRP7bt17+2joG39T6oEfJ+tc=     201603   \n",
       "2    +++FOrTS7ab3tIgIh8eWwX4FqRv8w/FoiOuyXsFvphY=     201603   \n",
       "3    +++IZseRRiQS9aaSkH6cMYU6bGDcxUieAi/tH67sC5s=     201603   \n",
       "4    +++TipL0Kt3JvgNE9ahuJ8o+drJAnQINtxD4c5GePXI=     201603   \n",
       "..                                            ...        ...   \n",
       "495  ++OrO+qyw4KsyivgnrEzl5ALtN7gj7BNEodVdR5UIss=     201608   \n",
       "496  ++OtuWs8cKG2710CCnsZTeVKK9Co38gFamjS9nkus+8=     201608   \n",
       "497  ++OvJH5FmfZ5CRrYfmbQEk7tJwCZhsJnkWbxClRaUpw=     201608   \n",
       "498  ++OwfFddNO06garROtSdQUfkCwbKF+9pfndYHGRKDas=     201608   \n",
       "499  ++P/FDHkWGuv4MEI9DEwbwn6Yvks4lEObpi8H2DOZr0=     201608   \n",
       "\n",
       "     months_since_login  \n",
       "0              0.966667  \n",
       "1              0.966667  \n",
       "2              0.966667  \n",
       "3             14.166667  \n",
       "4              0.966667  \n",
       "..                  ...  \n",
       "495            1.033333  \n",
       "496            1.033333  \n",
       "497            6.066667  \n",
       "498            1.033333  \n",
       "499            1.033333  \n",
       "\n",
       "[1000 rows x 3 columns]"
      ]
     },
     "execution_count": 46,
     "metadata": {},
     "output_type": "execute_result"
    }
   ],
   "source": [
    "distribute_processes(months_last_login_dates, unstacked_df=unstacked_df.head(500), dates=dates)"
   ]
  },
  {
   "cell_type": "code",
   "execution_count": null,
   "id": "04332489",
   "metadata": {},
   "outputs": [],
   "source": []
  }
 ],
 "metadata": {
  "kernelspec": {
   "display_name": "env",
   "language": "python",
   "name": "env"
  },
  "language_info": {
   "codemirror_mode": {
    "name": "ipython",
    "version": 3
   },
   "file_extension": ".py",
   "mimetype": "text/x-python",
   "name": "python",
   "nbconvert_exporter": "python",
   "pygments_lexer": "ipython3",
   "version": "3.7.10"
  },
  "toc": {
   "base_numbering": 1,
   "nav_menu": {},
   "number_sections": true,
   "sideBar": true,
   "skip_h1_title": false,
   "title_cell": "Table of Contents",
   "title_sidebar": "Contents",
   "toc_cell": false,
   "toc_position": {},
   "toc_section_display": true,
   "toc_window_display": true
  }
 },
 "nbformat": 4,
 "nbformat_minor": 5
}
