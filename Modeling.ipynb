{
 "cells": [
  {
   "cell_type": "code",
   "execution_count": 1,
   "id": "55b05c2d",
   "metadata": {
    "ExecuteTime": {
     "end_time": "2022-07-11T09:36:15.110590Z",
     "start_time": "2022-07-11T09:36:13.856904Z"
    }
   },
   "outputs": [],
   "source": [
    "%matplotlib inline\n",
    "import pandas as pd\n",
    "import matplotlib.pyplot as plt\n",
    "import seaborn as sns\n",
    "import altair as alt\n",
    "import warnings\n",
    "import numpy as np\n",
    "import dask.dataframe as dd\n",
    "import os\n",
    "import itertools\n",
    "import matplotlib.ticker as ticker\n",
    "from xgboost import XGBClassifier\n",
    "from sklearn.metrics import roc_auc_score\n",
    "from sklearn.metrics import log_loss\n",
    "from sklearn.ensemble import RandomForestClassifier\n",
    "from imblearn.over_sampling import SMOTE \n",
    "\n",
    "pd.set_option('display.max_columns', 500)\n",
    "pd.set_option('display.max_rows', 500)\n",
    "alt.renderers.enable('default')\n",
    "sns.set_theme(style=\"darkgrid\")\n",
    "warnings.filterwarnings('ignore')\n",
    "sns.set_palette(sns.color_palette(\"Set3\"))"
   ]
  },
  {
   "cell_type": "code",
   "execution_count": 2,
   "id": "50fa4e20",
   "metadata": {
    "ExecuteTime": {
     "end_time": "2022-07-11T09:36:25.855308Z",
     "start_time": "2022-07-11T09:36:15.112916Z"
    }
   },
   "outputs": [],
   "source": [
    "dfMasterTable = pd.read_csv('dfMasterTable.csv')"
   ]
  },
  {
   "cell_type": "code",
   "execution_count": 3,
   "id": "de8cd754",
   "metadata": {
    "ExecuteTime": {
     "end_time": "2022-07-11T09:36:25.892153Z",
     "start_time": "2022-07-11T09:36:25.856341Z"
    },
    "scrolled": false
   },
   "outputs": [
    {
     "data": {
      "text/html": [
       "<div>\n",
       "<style scoped>\n",
       "    .dataframe tbody tr th:only-of-type {\n",
       "        vertical-align: middle;\n",
       "    }\n",
       "\n",
       "    .dataframe tbody tr th {\n",
       "        vertical-align: top;\n",
       "    }\n",
       "\n",
       "    .dataframe thead th {\n",
       "        text-align: right;\n",
       "    }\n",
       "</style>\n",
       "<table border=\"1\" class=\"dataframe\">\n",
       "  <thead>\n",
       "    <tr style=\"text-align: right;\">\n",
       "      <th></th>\n",
       "      <th>msno</th>\n",
       "      <th>is_churn</th>\n",
       "      <th>date_pred</th>\n",
       "      <th>bd</th>\n",
       "      <th>gender</th>\n",
       "      <th>city_1</th>\n",
       "      <th>city_4</th>\n",
       "      <th>city_5</th>\n",
       "      <th>city_13</th>\n",
       "      <th>city_15</th>\n",
       "      <th>city_22</th>\n",
       "      <th>city_other</th>\n",
       "      <th>registered_via_3</th>\n",
       "      <th>registered_via_4</th>\n",
       "      <th>registered_via_7</th>\n",
       "      <th>registered_via_9</th>\n",
       "      <th>registered_via_11</th>\n",
       "      <th>registered_via_13</th>\n",
       "      <th>registered_via_other</th>\n",
       "      <th>tenure_days</th>\n",
       "      <th>actual_amount_paid_min</th>\n",
       "      <th>actual_amount_paid_max</th>\n",
       "      <th>actual_amount_paid_mean</th>\n",
       "      <th>actual_amount_paid_std</th>\n",
       "      <th>actual_amount_paid_sum</th>\n",
       "      <th>is_auto_renew_mean</th>\n",
       "      <th>is_auto_renew_sum</th>\n",
       "      <th>is_cancel_sum</th>\n",
       "      <th>is_cancel_mean</th>\n",
       "      <th>msno_count_x</th>\n",
       "      <th>diff_dates_min</th>\n",
       "      <th>diff_dates_max</th>\n",
       "      <th>diff_dates_mean</th>\n",
       "      <th>diff_dates_std</th>\n",
       "      <th>churn_mean</th>\n",
       "      <th>churn_sum</th>\n",
       "      <th>days_last_trx</th>\n",
       "      <th>total_secs_sum</th>\n",
       "      <th>total_secs_mean</th>\n",
       "      <th>total_secs_std</th>\n",
       "      <th>num_unq_sum</th>\n",
       "      <th>num_unq_mean</th>\n",
       "      <th>num_unq_std</th>\n",
       "      <th>msno_count_y</th>\n",
       "      <th>nbr_logins_monthly_mean</th>\n",
       "      <th>nbr_logins_monthly_max</th>\n",
       "      <th>nbr_logins_monthly_min</th>\n",
       "      <th>nbr_logins_monthly_std</th>\n",
       "      <th>nbr_logins_monthly_count</th>\n",
       "      <th>last_login_days</th>\n",
       "    </tr>\n",
       "  </thead>\n",
       "  <tbody>\n",
       "    <tr>\n",
       "      <th>0</th>\n",
       "      <td>waLDQMmcOu2jLDaV1ddDkgCrB/jl6sD66Xzs0Vqax1Y=</td>\n",
       "      <td>1</td>\n",
       "      <td>201702</td>\n",
       "      <td>36.0</td>\n",
       "      <td>0.0</td>\n",
       "      <td>0.0</td>\n",
       "      <td>0.0</td>\n",
       "      <td>0.0</td>\n",
       "      <td>0.0</td>\n",
       "      <td>0.0</td>\n",
       "      <td>0.0</td>\n",
       "      <td>1.0</td>\n",
       "      <td>0.0</td>\n",
       "      <td>0.0</td>\n",
       "      <td>0.0</td>\n",
       "      <td>1.0</td>\n",
       "      <td>0.0</td>\n",
       "      <td>0.0</td>\n",
       "      <td>0.0</td>\n",
       "      <td>4319.0</td>\n",
       "      <td>0.0</td>\n",
       "      <td>149.0</td>\n",
       "      <td>74.500000</td>\n",
       "      <td>105.358910</td>\n",
       "      <td>149.0</td>\n",
       "      <td>0.000000</td>\n",
       "      <td>0.0</td>\n",
       "      <td>0.0</td>\n",
       "      <td>0.000000</td>\n",
       "      <td>2.0</td>\n",
       "      <td>68.0</td>\n",
       "      <td>68.0</td>\n",
       "      <td>68.000000</td>\n",
       "      <td>NaN</td>\n",
       "      <td>1.000000</td>\n",
       "      <td>1.0</td>\n",
       "      <td>25.0</td>\n",
       "      <td>9.227921e+04</td>\n",
       "      <td>4613.960400</td>\n",
       "      <td>4240.848005</td>\n",
       "      <td>394.0</td>\n",
       "      <td>19.700000</td>\n",
       "      <td>16.012807</td>\n",
       "      <td>20.0</td>\n",
       "      <td>8.666667</td>\n",
       "      <td>18.0</td>\n",
       "      <td>2.0</td>\n",
       "      <td>8.326664</td>\n",
       "      <td>3.0</td>\n",
       "      <td>3.0</td>\n",
       "    </tr>\n",
       "    <tr>\n",
       "      <th>1</th>\n",
       "      <td>QA7uiXy8vIbUSPOkCf9RwQ3FsT8jVq2OxDr8zqa7bRQ=</td>\n",
       "      <td>1</td>\n",
       "      <td>201702</td>\n",
       "      <td>38.0</td>\n",
       "      <td>1.0</td>\n",
       "      <td>0.0</td>\n",
       "      <td>0.0</td>\n",
       "      <td>0.0</td>\n",
       "      <td>0.0</td>\n",
       "      <td>0.0</td>\n",
       "      <td>0.0</td>\n",
       "      <td>1.0</td>\n",
       "      <td>0.0</td>\n",
       "      <td>0.0</td>\n",
       "      <td>0.0</td>\n",
       "      <td>1.0</td>\n",
       "      <td>0.0</td>\n",
       "      <td>0.0</td>\n",
       "      <td>0.0</td>\n",
       "      <td>4318.0</td>\n",
       "      <td>149.0</td>\n",
       "      <td>180.0</td>\n",
       "      <td>150.409091</td>\n",
       "      <td>6.609222</td>\n",
       "      <td>3309.0</td>\n",
       "      <td>0.954545</td>\n",
       "      <td>21.0</td>\n",
       "      <td>1.0</td>\n",
       "      <td>0.045455</td>\n",
       "      <td>22.0</td>\n",
       "      <td>16.0</td>\n",
       "      <td>95.0</td>\n",
       "      <td>34.809524</td>\n",
       "      <td>16.095400</td>\n",
       "      <td>0.250000</td>\n",
       "      <td>1.0</td>\n",
       "      <td>1.0</td>\n",
       "      <td>2.614515e+06</td>\n",
       "      <td>5027.913888</td>\n",
       "      <td>5564.554567</td>\n",
       "      <td>7229.0</td>\n",
       "      <td>13.901923</td>\n",
       "      <td>14.006454</td>\n",
       "      <td>520.0</td>\n",
       "      <td>20.840000</td>\n",
       "      <td>31.0</td>\n",
       "      <td>1.0</td>\n",
       "      <td>9.485427</td>\n",
       "      <td>25.0</td>\n",
       "      <td>33.0</td>\n",
       "    </tr>\n",
       "    <tr>\n",
       "      <th>2</th>\n",
       "      <td>fGwBva6hikQmTJzrbz/2Ezjm5Cth5jZUNvXigKK2AFA=</td>\n",
       "      <td>1</td>\n",
       "      <td>201702</td>\n",
       "      <td>27.0</td>\n",
       "      <td>0.0</td>\n",
       "      <td>0.0</td>\n",
       "      <td>0.0</td>\n",
       "      <td>0.0</td>\n",
       "      <td>0.0</td>\n",
       "      <td>0.0</td>\n",
       "      <td>0.0</td>\n",
       "      <td>1.0</td>\n",
       "      <td>0.0</td>\n",
       "      <td>0.0</td>\n",
       "      <td>0.0</td>\n",
       "      <td>1.0</td>\n",
       "      <td>0.0</td>\n",
       "      <td>0.0</td>\n",
       "      <td>0.0</td>\n",
       "      <td>4126.0</td>\n",
       "      <td>149.0</td>\n",
       "      <td>150.0</td>\n",
       "      <td>149.200000</td>\n",
       "      <td>0.421637</td>\n",
       "      <td>1492.0</td>\n",
       "      <td>0.800000</td>\n",
       "      <td>8.0</td>\n",
       "      <td>1.0</td>\n",
       "      <td>0.100000</td>\n",
       "      <td>10.0</td>\n",
       "      <td>12.0</td>\n",
       "      <td>118.0</td>\n",
       "      <td>38.333333</td>\n",
       "      <td>30.512293</td>\n",
       "      <td>0.333333</td>\n",
       "      <td>1.0</td>\n",
       "      <td>20.0</td>\n",
       "      <td>2.597385e+06</td>\n",
       "      <td>10959.428928</td>\n",
       "      <td>8172.306431</td>\n",
       "      <td>11533.0</td>\n",
       "      <td>48.662447</td>\n",
       "      <td>35.829472</td>\n",
       "      <td>237.0</td>\n",
       "      <td>19.750000</td>\n",
       "      <td>30.0</td>\n",
       "      <td>4.0</td>\n",
       "      <td>8.945542</td>\n",
       "      <td>12.0</td>\n",
       "      <td>1.0</td>\n",
       "    </tr>\n",
       "    <tr>\n",
       "      <th>3</th>\n",
       "      <td>mT5V8rEpa+8wuqi6x0DoVd3H5icMKkE9Prt49UlmK+4=</td>\n",
       "      <td>1</td>\n",
       "      <td>201702</td>\n",
       "      <td>23.0</td>\n",
       "      <td>0.0</td>\n",
       "      <td>0.0</td>\n",
       "      <td>0.0</td>\n",
       "      <td>0.0</td>\n",
       "      <td>1.0</td>\n",
       "      <td>0.0</td>\n",
       "      <td>0.0</td>\n",
       "      <td>0.0</td>\n",
       "      <td>0.0</td>\n",
       "      <td>0.0</td>\n",
       "      <td>0.0</td>\n",
       "      <td>1.0</td>\n",
       "      <td>0.0</td>\n",
       "      <td>0.0</td>\n",
       "      <td>0.0</td>\n",
       "      <td>4109.0</td>\n",
       "      <td>0.0</td>\n",
       "      <td>1788.0</td>\n",
       "      <td>894.000000</td>\n",
       "      <td>1264.306925</td>\n",
       "      <td>1788.0</td>\n",
       "      <td>0.000000</td>\n",
       "      <td>0.0</td>\n",
       "      <td>0.0</td>\n",
       "      <td>0.000000</td>\n",
       "      <td>2.0</td>\n",
       "      <td>2.0</td>\n",
       "      <td>2.0</td>\n",
       "      <td>2.000000</td>\n",
       "      <td>NaN</td>\n",
       "      <td>NaN</td>\n",
       "      <td>NaN</td>\n",
       "      <td>392.0</td>\n",
       "      <td>4.840589e+06</td>\n",
       "      <td>6779.536436</td>\n",
       "      <td>6303.076898</td>\n",
       "      <td>17943.0</td>\n",
       "      <td>25.130252</td>\n",
       "      <td>24.978054</td>\n",
       "      <td>714.0</td>\n",
       "      <td>28.269231</td>\n",
       "      <td>31.0</td>\n",
       "      <td>21.0</td>\n",
       "      <td>3.244166</td>\n",
       "      <td>26.0</td>\n",
       "      <td>2.0</td>\n",
       "    </tr>\n",
       "    <tr>\n",
       "      <th>4</th>\n",
       "      <td>XaPhtGLk/5UvvOYHcONTwsnH97P4eGECeq+BARGItRw=</td>\n",
       "      <td>1</td>\n",
       "      <td>201702</td>\n",
       "      <td>27.0</td>\n",
       "      <td>1.0</td>\n",
       "      <td>0.0</td>\n",
       "      <td>0.0</td>\n",
       "      <td>0.0</td>\n",
       "      <td>0.0</td>\n",
       "      <td>0.0</td>\n",
       "      <td>0.0</td>\n",
       "      <td>1.0</td>\n",
       "      <td>0.0</td>\n",
       "      <td>0.0</td>\n",
       "      <td>0.0</td>\n",
       "      <td>1.0</td>\n",
       "      <td>0.0</td>\n",
       "      <td>0.0</td>\n",
       "      <td>0.0</td>\n",
       "      <td>4053.0</td>\n",
       "      <td>149.0</td>\n",
       "      <td>1788.0</td>\n",
       "      <td>447.000000</td>\n",
       "      <td>601.297882</td>\n",
       "      <td>3576.0</td>\n",
       "      <td>0.000000</td>\n",
       "      <td>0.0</td>\n",
       "      <td>0.0</td>\n",
       "      <td>0.000000</td>\n",
       "      <td>8.0</td>\n",
       "      <td>3.0</td>\n",
       "      <td>409.0</td>\n",
       "      <td>108.142857</td>\n",
       "      <td>151.258530</td>\n",
       "      <td>0.000000</td>\n",
       "      <td>0.0</td>\n",
       "      <td>4.0</td>\n",
       "      <td>1.837821e+07</td>\n",
       "      <td>25038.428218</td>\n",
       "      <td>11939.337626</td>\n",
       "      <td>71565.0</td>\n",
       "      <td>97.500000</td>\n",
       "      <td>45.000447</td>\n",
       "      <td>734.0</td>\n",
       "      <td>29.153846</td>\n",
       "      <td>31.0</td>\n",
       "      <td>21.0</td>\n",
       "      <td>2.460769</td>\n",
       "      <td>26.0</td>\n",
       "      <td>2.0</td>\n",
       "    </tr>\n",
       "  </tbody>\n",
       "</table>\n",
       "</div>"
      ],
      "text/plain": [
       "                                           msno  is_churn  date_pred    bd  \\\n",
       "0  waLDQMmcOu2jLDaV1ddDkgCrB/jl6sD66Xzs0Vqax1Y=         1     201702  36.0   \n",
       "1  QA7uiXy8vIbUSPOkCf9RwQ3FsT8jVq2OxDr8zqa7bRQ=         1     201702  38.0   \n",
       "2  fGwBva6hikQmTJzrbz/2Ezjm5Cth5jZUNvXigKK2AFA=         1     201702  27.0   \n",
       "3  mT5V8rEpa+8wuqi6x0DoVd3H5icMKkE9Prt49UlmK+4=         1     201702  23.0   \n",
       "4  XaPhtGLk/5UvvOYHcONTwsnH97P4eGECeq+BARGItRw=         1     201702  27.0   \n",
       "\n",
       "   gender  city_1  city_4  city_5  city_13  city_15  city_22  city_other  \\\n",
       "0     0.0     0.0     0.0     0.0      0.0      0.0      0.0         1.0   \n",
       "1     1.0     0.0     0.0     0.0      0.0      0.0      0.0         1.0   \n",
       "2     0.0     0.0     0.0     0.0      0.0      0.0      0.0         1.0   \n",
       "3     0.0     0.0     0.0     0.0      1.0      0.0      0.0         0.0   \n",
       "4     1.0     0.0     0.0     0.0      0.0      0.0      0.0         1.0   \n",
       "\n",
       "   registered_via_3  registered_via_4  registered_via_7  registered_via_9  \\\n",
       "0               0.0               0.0               0.0               1.0   \n",
       "1               0.0               0.0               0.0               1.0   \n",
       "2               0.0               0.0               0.0               1.0   \n",
       "3               0.0               0.0               0.0               1.0   \n",
       "4               0.0               0.0               0.0               1.0   \n",
       "\n",
       "   registered_via_11  registered_via_13  registered_via_other  tenure_days  \\\n",
       "0                0.0                0.0                   0.0       4319.0   \n",
       "1                0.0                0.0                   0.0       4318.0   \n",
       "2                0.0                0.0                   0.0       4126.0   \n",
       "3                0.0                0.0                   0.0       4109.0   \n",
       "4                0.0                0.0                   0.0       4053.0   \n",
       "\n",
       "   actual_amount_paid_min  actual_amount_paid_max  actual_amount_paid_mean  \\\n",
       "0                     0.0                   149.0                74.500000   \n",
       "1                   149.0                   180.0               150.409091   \n",
       "2                   149.0                   150.0               149.200000   \n",
       "3                     0.0                  1788.0               894.000000   \n",
       "4                   149.0                  1788.0               447.000000   \n",
       "\n",
       "   actual_amount_paid_std  actual_amount_paid_sum  is_auto_renew_mean  \\\n",
       "0              105.358910                   149.0            0.000000   \n",
       "1                6.609222                  3309.0            0.954545   \n",
       "2                0.421637                  1492.0            0.800000   \n",
       "3             1264.306925                  1788.0            0.000000   \n",
       "4              601.297882                  3576.0            0.000000   \n",
       "\n",
       "   is_auto_renew_sum  is_cancel_sum  is_cancel_mean  msno_count_x  \\\n",
       "0                0.0            0.0        0.000000           2.0   \n",
       "1               21.0            1.0        0.045455          22.0   \n",
       "2                8.0            1.0        0.100000          10.0   \n",
       "3                0.0            0.0        0.000000           2.0   \n",
       "4                0.0            0.0        0.000000           8.0   \n",
       "\n",
       "   diff_dates_min  diff_dates_max  diff_dates_mean  diff_dates_std  \\\n",
       "0            68.0            68.0        68.000000             NaN   \n",
       "1            16.0            95.0        34.809524       16.095400   \n",
       "2            12.0           118.0        38.333333       30.512293   \n",
       "3             2.0             2.0         2.000000             NaN   \n",
       "4             3.0           409.0       108.142857      151.258530   \n",
       "\n",
       "   churn_mean  churn_sum  days_last_trx  total_secs_sum  total_secs_mean  \\\n",
       "0    1.000000        1.0           25.0    9.227921e+04      4613.960400   \n",
       "1    0.250000        1.0            1.0    2.614515e+06      5027.913888   \n",
       "2    0.333333        1.0           20.0    2.597385e+06     10959.428928   \n",
       "3         NaN        NaN          392.0    4.840589e+06      6779.536436   \n",
       "4    0.000000        0.0            4.0    1.837821e+07     25038.428218   \n",
       "\n",
       "   total_secs_std  num_unq_sum  num_unq_mean  num_unq_std  msno_count_y  \\\n",
       "0     4240.848005        394.0     19.700000    16.012807          20.0   \n",
       "1     5564.554567       7229.0     13.901923    14.006454         520.0   \n",
       "2     8172.306431      11533.0     48.662447    35.829472         237.0   \n",
       "3     6303.076898      17943.0     25.130252    24.978054         714.0   \n",
       "4    11939.337626      71565.0     97.500000    45.000447         734.0   \n",
       "\n",
       "   nbr_logins_monthly_mean  nbr_logins_monthly_max  nbr_logins_monthly_min  \\\n",
       "0                 8.666667                    18.0                     2.0   \n",
       "1                20.840000                    31.0                     1.0   \n",
       "2                19.750000                    30.0                     4.0   \n",
       "3                28.269231                    31.0                    21.0   \n",
       "4                29.153846                    31.0                    21.0   \n",
       "\n",
       "   nbr_logins_monthly_std  nbr_logins_monthly_count  last_login_days  \n",
       "0                8.326664                       3.0              3.0  \n",
       "1                9.485427                      25.0             33.0  \n",
       "2                8.945542                      12.0              1.0  \n",
       "3                3.244166                      26.0              2.0  \n",
       "4                2.460769                      26.0              2.0  "
      ]
     },
     "execution_count": 3,
     "metadata": {},
     "output_type": "execute_result"
    }
   ],
   "source": [
    "dfMasterTable.head()"
   ]
  },
  {
   "cell_type": "code",
   "execution_count": 4,
   "id": "2c9abb0b",
   "metadata": {
    "ExecuteTime": {
     "end_time": "2022-07-11T09:36:26.033933Z",
     "start_time": "2022-07-11T09:36:25.893595Z"
    }
   },
   "outputs": [
    {
     "data": {
      "text/plain": [
       "date_pred  is_churn\n",
       "201702     0           929460\n",
       "           1            63471\n",
       "201703     0           883630\n",
       "           1            87330\n",
       "201704     0           907471\n",
       "Name: is_churn, dtype: int64"
      ]
     },
     "execution_count": 4,
     "metadata": {},
     "output_type": "execute_result"
    }
   ],
   "source": [
    "dfMasterTable.groupby('date_pred')['is_churn'].value_counts()"
   ]
  },
  {
   "cell_type": "code",
   "execution_count": 5,
   "id": "b3cf3b47",
   "metadata": {
    "ExecuteTime": {
     "end_time": "2022-07-11T09:36:26.037984Z",
     "start_time": "2022-07-11T09:36:26.034935Z"
    }
   },
   "outputs": [
    {
     "data": {
      "text/plain": [
       "Index(['msno', 'is_churn', 'date_pred', 'bd', 'gender', 'city_1', 'city_4',\n",
       "       'city_5', 'city_13', 'city_15', 'city_22', 'city_other',\n",
       "       'registered_via_3', 'registered_via_4', 'registered_via_7',\n",
       "       'registered_via_9', 'registered_via_11', 'registered_via_13',\n",
       "       'registered_via_other', 'tenure_days', 'actual_amount_paid_min',\n",
       "       'actual_amount_paid_max', 'actual_amount_paid_mean',\n",
       "       'actual_amount_paid_std', 'actual_amount_paid_sum',\n",
       "       'is_auto_renew_mean', 'is_auto_renew_sum', 'is_cancel_sum',\n",
       "       'is_cancel_mean', 'msno_count_x', 'diff_dates_min', 'diff_dates_max',\n",
       "       'diff_dates_mean', 'diff_dates_std', 'churn_mean', 'churn_sum',\n",
       "       'days_last_trx', 'total_secs_sum', 'total_secs_mean', 'total_secs_std',\n",
       "       'num_unq_sum', 'num_unq_mean', 'num_unq_std', 'msno_count_y',\n",
       "       'nbr_logins_monthly_mean', 'nbr_logins_monthly_max',\n",
       "       'nbr_logins_monthly_min', 'nbr_logins_monthly_std',\n",
       "       'nbr_logins_monthly_count', 'last_login_days'],\n",
       "      dtype='object')"
      ]
     },
     "execution_count": 5,
     "metadata": {},
     "output_type": "execute_result"
    }
   ],
   "source": [
    "dfMasterTable.columns"
   ]
  },
  {
   "cell_type": "code",
   "execution_count": 6,
   "id": "346673e3",
   "metadata": {
    "ExecuteTime": {
     "end_time": "2022-07-11T09:36:26.041861Z",
     "start_time": "2022-07-11T09:36:26.039161Z"
    }
   },
   "outputs": [],
   "source": [
    "cont_cols = [x for x in dfMasterTable.columns if not (x.startswith('city') or x.startswith('registered') or x in ['gender', 'msno', 'is_churn', 'date_pred'])]"
   ]
  },
  {
   "cell_type": "code",
   "execution_count": 7,
   "id": "1c470213",
   "metadata": {
    "ExecuteTime": {
     "end_time": "2022-07-11T09:36:26.568652Z",
     "start_time": "2022-07-11T09:36:26.043287Z"
    }
   },
   "outputs": [],
   "source": [
    "dfMasterTable.fillna(0, inplace=True)"
   ]
  },
  {
   "cell_type": "markdown",
   "id": "5e80e110",
   "metadata": {},
   "source": [
    "## Training using all columns"
   ]
  },
  {
   "cell_type": "markdown",
   "id": "ab482d5f",
   "metadata": {},
   "source": [
    "### Basic Default Parameters XGBoost Model"
   ]
  },
  {
   "cell_type": "code",
   "execution_count": 41,
   "id": "2efdd586",
   "metadata": {
    "ExecuteTime": {
     "end_time": "2022-07-11T09:59:31.239568Z",
     "start_time": "2022-07-11T09:59:30.714691Z"
    }
   },
   "outputs": [],
   "source": [
    "train_df = dfMasterTable[dfMasterTable.date_pred <= 201702]\n",
    "validation_df = dfMasterTable[dfMasterTable.date_pred == 201703]\n",
    "\n",
    "X_train = train_df.drop(['msno', 'is_churn', 'date_pred'], 1).values\n",
    "y_train = train_df['is_churn'].values\n",
    "\n",
    "X_val = validation_df.drop(['msno', 'is_churn', 'date_pred'], 1).values\n",
    "y_val = validation_df['is_churn'].values"
   ]
  },
  {
   "cell_type": "code",
   "execution_count": 42,
   "id": "b9a24446",
   "metadata": {
    "ExecuteTime": {
     "end_time": "2022-07-11T09:59:38.710692Z",
     "start_time": "2022-07-11T09:59:31.241003Z"
    },
    "scrolled": true
   },
   "outputs": [
    {
     "data": {
      "text/html": [
       "<style>#sk-container-id-5 {color: black;background-color: white;}#sk-container-id-5 pre{padding: 0;}#sk-container-id-5 div.sk-toggleable {background-color: white;}#sk-container-id-5 label.sk-toggleable__label {cursor: pointer;display: block;width: 100%;margin-bottom: 0;padding: 0.3em;box-sizing: border-box;text-align: center;}#sk-container-id-5 label.sk-toggleable__label-arrow:before {content: \"▸\";float: left;margin-right: 0.25em;color: #696969;}#sk-container-id-5 label.sk-toggleable__label-arrow:hover:before {color: black;}#sk-container-id-5 div.sk-estimator:hover label.sk-toggleable__label-arrow:before {color: black;}#sk-container-id-5 div.sk-toggleable__content {max-height: 0;max-width: 0;overflow: hidden;text-align: left;background-color: #f0f8ff;}#sk-container-id-5 div.sk-toggleable__content pre {margin: 0.2em;color: black;border-radius: 0.25em;background-color: #f0f8ff;}#sk-container-id-5 input.sk-toggleable__control:checked~div.sk-toggleable__content {max-height: 200px;max-width: 100%;overflow: auto;}#sk-container-id-5 input.sk-toggleable__control:checked~label.sk-toggleable__label-arrow:before {content: \"▾\";}#sk-container-id-5 div.sk-estimator input.sk-toggleable__control:checked~label.sk-toggleable__label {background-color: #d4ebff;}#sk-container-id-5 div.sk-label input.sk-toggleable__control:checked~label.sk-toggleable__label {background-color: #d4ebff;}#sk-container-id-5 input.sk-hidden--visually {border: 0;clip: rect(1px 1px 1px 1px);clip: rect(1px, 1px, 1px, 1px);height: 1px;margin: -1px;overflow: hidden;padding: 0;position: absolute;width: 1px;}#sk-container-id-5 div.sk-estimator {font-family: monospace;background-color: #f0f8ff;border: 1px dotted black;border-radius: 0.25em;box-sizing: border-box;margin-bottom: 0.5em;}#sk-container-id-5 div.sk-estimator:hover {background-color: #d4ebff;}#sk-container-id-5 div.sk-parallel-item::after {content: \"\";width: 100%;border-bottom: 1px solid gray;flex-grow: 1;}#sk-container-id-5 div.sk-label:hover label.sk-toggleable__label {background-color: #d4ebff;}#sk-container-id-5 div.sk-serial::before {content: \"\";position: absolute;border-left: 1px solid gray;box-sizing: border-box;top: 0;bottom: 0;left: 50%;z-index: 0;}#sk-container-id-5 div.sk-serial {display: flex;flex-direction: column;align-items: center;background-color: white;padding-right: 0.2em;padding-left: 0.2em;position: relative;}#sk-container-id-5 div.sk-item {position: relative;z-index: 1;}#sk-container-id-5 div.sk-parallel {display: flex;align-items: stretch;justify-content: center;background-color: white;position: relative;}#sk-container-id-5 div.sk-item::before, #sk-container-id-5 div.sk-parallel-item::before {content: \"\";position: absolute;border-left: 1px solid gray;box-sizing: border-box;top: 0;bottom: 0;left: 50%;z-index: -1;}#sk-container-id-5 div.sk-parallel-item {display: flex;flex-direction: column;z-index: 1;position: relative;background-color: white;}#sk-container-id-5 div.sk-parallel-item:first-child::after {align-self: flex-end;width: 50%;}#sk-container-id-5 div.sk-parallel-item:last-child::after {align-self: flex-start;width: 50%;}#sk-container-id-5 div.sk-parallel-item:only-child::after {width: 0;}#sk-container-id-5 div.sk-dashed-wrapped {border: 1px dashed gray;margin: 0 0.4em 0.5em 0.4em;box-sizing: border-box;padding-bottom: 0.4em;background-color: white;}#sk-container-id-5 div.sk-label label {font-family: monospace;font-weight: bold;display: inline-block;line-height: 1.2em;}#sk-container-id-5 div.sk-label-container {text-align: center;}#sk-container-id-5 div.sk-container {/* jupyter's `normalize.less` sets `[hidden] { display: none; }` but bootstrap.min.css set `[hidden] { display: none !important; }` so we also need the `!important` here to be able to override the default hidden behavior on the sphinx rendered scikit-learn.org. See: https://github.com/scikit-learn/scikit-learn/issues/21755 */display: inline-block !important;position: relative;}#sk-container-id-5 div.sk-text-repr-fallback {display: none;}</style><div id=\"sk-container-id-5\" class=\"sk-top-container\"><div class=\"sk-text-repr-fallback\"><pre>XGBClassifier(base_score=0.5, booster=&#x27;gbtree&#x27;, callbacks=None,\n",
       "              colsample_bylevel=1, colsample_bynode=1, colsample_bytree=1,\n",
       "              early_stopping_rounds=None, enable_categorical=False,\n",
       "              eval_metric=&#x27;logloss&#x27;, gamma=0, gpu_id=-1,\n",
       "              grow_policy=&#x27;depthwise&#x27;, importance_type=None,\n",
       "              interaction_constraints=&#x27;&#x27;, learning_rate=0.300000012,\n",
       "              max_bin=256, max_cat_to_onehot=4, max_delta_step=0, max_depth=6,\n",
       "              max_leaves=0, min_child_weight=1, missing=nan,\n",
       "              monotone_constraints=&#x27;()&#x27;, n_estimators=100, n_jobs=-1,\n",
       "              num_parallel_tree=1, predictor=&#x27;auto&#x27;, random_state=0,\n",
       "              reg_alpha=0, reg_lambda=1, ...)</pre><b>In a Jupyter environment, please rerun this cell to show the HTML representation or trust the notebook. <br />On GitHub, the HTML representation is unable to render, please try loading this page with nbviewer.org.</b></div><div class=\"sk-container\" hidden><div class=\"sk-item\"><div class=\"sk-estimator sk-toggleable\"><input class=\"sk-toggleable__control sk-hidden--visually\" id=\"sk-estimator-id-5\" type=\"checkbox\" checked><label for=\"sk-estimator-id-5\" class=\"sk-toggleable__label sk-toggleable__label-arrow\">XGBClassifier</label><div class=\"sk-toggleable__content\"><pre>XGBClassifier(base_score=0.5, booster=&#x27;gbtree&#x27;, callbacks=None,\n",
       "              colsample_bylevel=1, colsample_bynode=1, colsample_bytree=1,\n",
       "              early_stopping_rounds=None, enable_categorical=False,\n",
       "              eval_metric=&#x27;logloss&#x27;, gamma=0, gpu_id=-1,\n",
       "              grow_policy=&#x27;depthwise&#x27;, importance_type=None,\n",
       "              interaction_constraints=&#x27;&#x27;, learning_rate=0.300000012,\n",
       "              max_bin=256, max_cat_to_onehot=4, max_delta_step=0, max_depth=6,\n",
       "              max_leaves=0, min_child_weight=1, missing=nan,\n",
       "              monotone_constraints=&#x27;()&#x27;, n_estimators=100, n_jobs=-1,\n",
       "              num_parallel_tree=1, predictor=&#x27;auto&#x27;, random_state=0,\n",
       "              reg_alpha=0, reg_lambda=1, ...)</pre></div></div></div></div></div>"
      ],
      "text/plain": [
       "XGBClassifier(base_score=0.5, booster='gbtree', callbacks=None,\n",
       "              colsample_bylevel=1, colsample_bynode=1, colsample_bytree=1,\n",
       "              early_stopping_rounds=None, enable_categorical=False,\n",
       "              eval_metric='logloss', gamma=0, gpu_id=-1,\n",
       "              grow_policy='depthwise', importance_type=None,\n",
       "              interaction_constraints='', learning_rate=0.300000012,\n",
       "              max_bin=256, max_cat_to_onehot=4, max_delta_step=0, max_depth=6,\n",
       "              max_leaves=0, min_child_weight=1, missing=nan,\n",
       "              monotone_constraints='()', n_estimators=100, n_jobs=-1,\n",
       "              num_parallel_tree=1, predictor='auto', random_state=0,\n",
       "              reg_alpha=0, reg_lambda=1, ...)"
      ]
     },
     "execution_count": 42,
     "metadata": {},
     "output_type": "execute_result"
    }
   ],
   "source": [
    "xgb_all_cols = XGBClassifier(n_jobs=-1, tree_method=\"hist\", random_state=0, eval_metric=\"logloss\")\n",
    "xgb_all_cols.fit(X_train, y_train)"
   ]
  },
  {
   "cell_type": "code",
   "execution_count": 43,
   "id": "79508638",
   "metadata": {
    "ExecuteTime": {
     "end_time": "2022-07-11T09:59:38.715519Z",
     "start_time": "2022-07-11T09:59:38.712709Z"
    }
   },
   "outputs": [],
   "source": [
    "def evaluate_model(model):\n",
    "    y_pred = model.predict_proba(X_val)[:, 1]\n",
    "    auc = roc_auc_score(y_val, y_pred)\n",
    "    return auc"
   ]
  },
  {
   "cell_type": "code",
   "execution_count": 44,
   "id": "6a3e7617",
   "metadata": {
    "ExecuteTime": {
     "end_time": "2022-07-11T09:59:39.637438Z",
     "start_time": "2022-07-11T09:59:38.716979Z"
    },
    "scrolled": true
   },
   "outputs": [
    {
     "data": {
      "text/plain": [
       "0.8375388410642726"
      ]
     },
     "execution_count": 44,
     "metadata": {},
     "output_type": "execute_result"
    }
   ],
   "source": [
    "evaluate_model(xgb_all_cols)"
   ]
  },
  {
   "cell_type": "code",
   "execution_count": 46,
   "id": "d6dfa6ea",
   "metadata": {
    "ExecuteTime": {
     "end_time": "2022-07-11T10:06:49.165322Z",
     "start_time": "2022-07-11T10:04:19.332002Z"
    },
    "scrolled": true
   },
   "outputs": [
    {
     "data": {
      "text/html": [
       "<style>#sk-container-id-6 {color: black;background-color: white;}#sk-container-id-6 pre{padding: 0;}#sk-container-id-6 div.sk-toggleable {background-color: white;}#sk-container-id-6 label.sk-toggleable__label {cursor: pointer;display: block;width: 100%;margin-bottom: 0;padding: 0.3em;box-sizing: border-box;text-align: center;}#sk-container-id-6 label.sk-toggleable__label-arrow:before {content: \"▸\";float: left;margin-right: 0.25em;color: #696969;}#sk-container-id-6 label.sk-toggleable__label-arrow:hover:before {color: black;}#sk-container-id-6 div.sk-estimator:hover label.sk-toggleable__label-arrow:before {color: black;}#sk-container-id-6 div.sk-toggleable__content {max-height: 0;max-width: 0;overflow: hidden;text-align: left;background-color: #f0f8ff;}#sk-container-id-6 div.sk-toggleable__content pre {margin: 0.2em;color: black;border-radius: 0.25em;background-color: #f0f8ff;}#sk-container-id-6 input.sk-toggleable__control:checked~div.sk-toggleable__content {max-height: 200px;max-width: 100%;overflow: auto;}#sk-container-id-6 input.sk-toggleable__control:checked~label.sk-toggleable__label-arrow:before {content: \"▾\";}#sk-container-id-6 div.sk-estimator input.sk-toggleable__control:checked~label.sk-toggleable__label {background-color: #d4ebff;}#sk-container-id-6 div.sk-label input.sk-toggleable__control:checked~label.sk-toggleable__label {background-color: #d4ebff;}#sk-container-id-6 input.sk-hidden--visually {border: 0;clip: rect(1px 1px 1px 1px);clip: rect(1px, 1px, 1px, 1px);height: 1px;margin: -1px;overflow: hidden;padding: 0;position: absolute;width: 1px;}#sk-container-id-6 div.sk-estimator {font-family: monospace;background-color: #f0f8ff;border: 1px dotted black;border-radius: 0.25em;box-sizing: border-box;margin-bottom: 0.5em;}#sk-container-id-6 div.sk-estimator:hover {background-color: #d4ebff;}#sk-container-id-6 div.sk-parallel-item::after {content: \"\";width: 100%;border-bottom: 1px solid gray;flex-grow: 1;}#sk-container-id-6 div.sk-label:hover label.sk-toggleable__label {background-color: #d4ebff;}#sk-container-id-6 div.sk-serial::before {content: \"\";position: absolute;border-left: 1px solid gray;box-sizing: border-box;top: 0;bottom: 0;left: 50%;z-index: 0;}#sk-container-id-6 div.sk-serial {display: flex;flex-direction: column;align-items: center;background-color: white;padding-right: 0.2em;padding-left: 0.2em;position: relative;}#sk-container-id-6 div.sk-item {position: relative;z-index: 1;}#sk-container-id-6 div.sk-parallel {display: flex;align-items: stretch;justify-content: center;background-color: white;position: relative;}#sk-container-id-6 div.sk-item::before, #sk-container-id-6 div.sk-parallel-item::before {content: \"\";position: absolute;border-left: 1px solid gray;box-sizing: border-box;top: 0;bottom: 0;left: 50%;z-index: -1;}#sk-container-id-6 div.sk-parallel-item {display: flex;flex-direction: column;z-index: 1;position: relative;background-color: white;}#sk-container-id-6 div.sk-parallel-item:first-child::after {align-self: flex-end;width: 50%;}#sk-container-id-6 div.sk-parallel-item:last-child::after {align-self: flex-start;width: 50%;}#sk-container-id-6 div.sk-parallel-item:only-child::after {width: 0;}#sk-container-id-6 div.sk-dashed-wrapped {border: 1px dashed gray;margin: 0 0.4em 0.5em 0.4em;box-sizing: border-box;padding-bottom: 0.4em;background-color: white;}#sk-container-id-6 div.sk-label label {font-family: monospace;font-weight: bold;display: inline-block;line-height: 1.2em;}#sk-container-id-6 div.sk-label-container {text-align: center;}#sk-container-id-6 div.sk-container {/* jupyter's `normalize.less` sets `[hidden] { display: none; }` but bootstrap.min.css set `[hidden] { display: none !important; }` so we also need the `!important` here to be able to override the default hidden behavior on the sphinx rendered scikit-learn.org. See: https://github.com/scikit-learn/scikit-learn/issues/21755 */display: inline-block !important;position: relative;}#sk-container-id-6 div.sk-text-repr-fallback {display: none;}</style><div id=\"sk-container-id-6\" class=\"sk-top-container\"><div class=\"sk-text-repr-fallback\"><pre>RandomForestClassifier(n_jobs=-1, random_state=42)</pre><b>In a Jupyter environment, please rerun this cell to show the HTML representation or trust the notebook. <br />On GitHub, the HTML representation is unable to render, please try loading this page with nbviewer.org.</b></div><div class=\"sk-container\" hidden><div class=\"sk-item\"><div class=\"sk-estimator sk-toggleable\"><input class=\"sk-toggleable__control sk-hidden--visually\" id=\"sk-estimator-id-6\" type=\"checkbox\" checked><label for=\"sk-estimator-id-6\" class=\"sk-toggleable__label sk-toggleable__label-arrow\">RandomForestClassifier</label><div class=\"sk-toggleable__content\"><pre>RandomForestClassifier(n_jobs=-1, random_state=42)</pre></div></div></div></div></div>"
      ],
      "text/plain": [
       "RandomForestClassifier(n_jobs=-1, random_state=42)"
      ]
     },
     "execution_count": 46,
     "metadata": {},
     "output_type": "execute_result"
    }
   ],
   "source": [
    "rf_all_cols = RandomForestClassifier(n_estimators=100, n_jobs=-1, random_state=42)\n",
    "rf_all_cols.fit(X_train, y_train)"
   ]
  },
  {
   "cell_type": "code",
   "execution_count": 47,
   "id": "0882d2cf",
   "metadata": {
    "ExecuteTime": {
     "end_time": "2022-07-11T10:06:58.180921Z",
     "start_time": "2022-07-11T10:06:49.166782Z"
    }
   },
   "outputs": [
    {
     "data": {
      "text/plain": [
       "0.8345624302096066"
      ]
     },
     "execution_count": 47,
     "metadata": {},
     "output_type": "execute_result"
    }
   ],
   "source": [
    "evaluate_model(rf_all_cols)"
   ]
  },
  {
   "cell_type": "markdown",
   "id": "4412a422",
   "metadata": {
    "ExecuteTime": {
     "end_time": "2022-07-10T18:17:45.902249Z",
     "start_time": "2022-07-10T18:17:45.899734Z"
    }
   },
   "source": [
    "### Training using only continuous columns"
   ]
  },
  {
   "cell_type": "code",
   "execution_count": 12,
   "id": "4db245f6",
   "metadata": {
    "ExecuteTime": {
     "end_time": "2022-07-11T09:36:35.808223Z",
     "start_time": "2022-07-11T09:36:35.197713Z"
    },
    "scrolled": true
   },
   "outputs": [],
   "source": [
    "train_df = dfMasterTable[dfMasterTable.date_pred <= 201702]\n",
    "validation_df = dfMasterTable[dfMasterTable.date_pred == 201703]\n",
    "\n",
    "X_train = train_df.drop(['msno', 'is_churn', 'date_pred'], 1)[cont_cols].values\n",
    "y_train = train_df['is_churn'].values\n",
    "\n",
    "X_val = validation_df.drop(['msno', 'is_churn', 'date_pred'], 1)[cont_cols].values\n",
    "y_val = validation_df['is_churn'].values"
   ]
  },
  {
   "cell_type": "code",
   "execution_count": 13,
   "id": "66a7d1b2",
   "metadata": {
    "ExecuteTime": {
     "end_time": "2022-07-11T09:36:42.285315Z",
     "start_time": "2022-07-11T09:36:35.809388Z"
    },
    "scrolled": true
   },
   "outputs": [
    {
     "data": {
      "text/html": [
       "<style>#sk-container-id-2 {color: black;background-color: white;}#sk-container-id-2 pre{padding: 0;}#sk-container-id-2 div.sk-toggleable {background-color: white;}#sk-container-id-2 label.sk-toggleable__label {cursor: pointer;display: block;width: 100%;margin-bottom: 0;padding: 0.3em;box-sizing: border-box;text-align: center;}#sk-container-id-2 label.sk-toggleable__label-arrow:before {content: \"▸\";float: left;margin-right: 0.25em;color: #696969;}#sk-container-id-2 label.sk-toggleable__label-arrow:hover:before {color: black;}#sk-container-id-2 div.sk-estimator:hover label.sk-toggleable__label-arrow:before {color: black;}#sk-container-id-2 div.sk-toggleable__content {max-height: 0;max-width: 0;overflow: hidden;text-align: left;background-color: #f0f8ff;}#sk-container-id-2 div.sk-toggleable__content pre {margin: 0.2em;color: black;border-radius: 0.25em;background-color: #f0f8ff;}#sk-container-id-2 input.sk-toggleable__control:checked~div.sk-toggleable__content {max-height: 200px;max-width: 100%;overflow: auto;}#sk-container-id-2 input.sk-toggleable__control:checked~label.sk-toggleable__label-arrow:before {content: \"▾\";}#sk-container-id-2 div.sk-estimator input.sk-toggleable__control:checked~label.sk-toggleable__label {background-color: #d4ebff;}#sk-container-id-2 div.sk-label input.sk-toggleable__control:checked~label.sk-toggleable__label {background-color: #d4ebff;}#sk-container-id-2 input.sk-hidden--visually {border: 0;clip: rect(1px 1px 1px 1px);clip: rect(1px, 1px, 1px, 1px);height: 1px;margin: -1px;overflow: hidden;padding: 0;position: absolute;width: 1px;}#sk-container-id-2 div.sk-estimator {font-family: monospace;background-color: #f0f8ff;border: 1px dotted black;border-radius: 0.25em;box-sizing: border-box;margin-bottom: 0.5em;}#sk-container-id-2 div.sk-estimator:hover {background-color: #d4ebff;}#sk-container-id-2 div.sk-parallel-item::after {content: \"\";width: 100%;border-bottom: 1px solid gray;flex-grow: 1;}#sk-container-id-2 div.sk-label:hover label.sk-toggleable__label {background-color: #d4ebff;}#sk-container-id-2 div.sk-serial::before {content: \"\";position: absolute;border-left: 1px solid gray;box-sizing: border-box;top: 0;bottom: 0;left: 50%;z-index: 0;}#sk-container-id-2 div.sk-serial {display: flex;flex-direction: column;align-items: center;background-color: white;padding-right: 0.2em;padding-left: 0.2em;position: relative;}#sk-container-id-2 div.sk-item {position: relative;z-index: 1;}#sk-container-id-2 div.sk-parallel {display: flex;align-items: stretch;justify-content: center;background-color: white;position: relative;}#sk-container-id-2 div.sk-item::before, #sk-container-id-2 div.sk-parallel-item::before {content: \"\";position: absolute;border-left: 1px solid gray;box-sizing: border-box;top: 0;bottom: 0;left: 50%;z-index: -1;}#sk-container-id-2 div.sk-parallel-item {display: flex;flex-direction: column;z-index: 1;position: relative;background-color: white;}#sk-container-id-2 div.sk-parallel-item:first-child::after {align-self: flex-end;width: 50%;}#sk-container-id-2 div.sk-parallel-item:last-child::after {align-self: flex-start;width: 50%;}#sk-container-id-2 div.sk-parallel-item:only-child::after {width: 0;}#sk-container-id-2 div.sk-dashed-wrapped {border: 1px dashed gray;margin: 0 0.4em 0.5em 0.4em;box-sizing: border-box;padding-bottom: 0.4em;background-color: white;}#sk-container-id-2 div.sk-label label {font-family: monospace;font-weight: bold;display: inline-block;line-height: 1.2em;}#sk-container-id-2 div.sk-label-container {text-align: center;}#sk-container-id-2 div.sk-container {/* jupyter's `normalize.less` sets `[hidden] { display: none; }` but bootstrap.min.css set `[hidden] { display: none !important; }` so we also need the `!important` here to be able to override the default hidden behavior on the sphinx rendered scikit-learn.org. See: https://github.com/scikit-learn/scikit-learn/issues/21755 */display: inline-block !important;position: relative;}#sk-container-id-2 div.sk-text-repr-fallback {display: none;}</style><div id=\"sk-container-id-2\" class=\"sk-top-container\"><div class=\"sk-text-repr-fallback\"><pre>XGBClassifier(base_score=0.5, booster=&#x27;gbtree&#x27;, callbacks=None,\n",
       "              colsample_bylevel=1, colsample_bynode=1, colsample_bytree=1,\n",
       "              early_stopping_rounds=None, enable_categorical=False,\n",
       "              eval_metric=&#x27;logloss&#x27;, gamma=0, gpu_id=-1,\n",
       "              grow_policy=&#x27;depthwise&#x27;, importance_type=None,\n",
       "              interaction_constraints=&#x27;&#x27;, learning_rate=0.300000012,\n",
       "              max_bin=256, max_cat_to_onehot=4, max_delta_step=0, max_depth=6,\n",
       "              max_leaves=0, min_child_weight=1, missing=nan,\n",
       "              monotone_constraints=&#x27;()&#x27;, n_estimators=100, n_jobs=-1,\n",
       "              num_parallel_tree=1, predictor=&#x27;auto&#x27;, random_state=0,\n",
       "              reg_alpha=0, reg_lambda=1, ...)</pre><b>In a Jupyter environment, please rerun this cell to show the HTML representation or trust the notebook. <br />On GitHub, the HTML representation is unable to render, please try loading this page with nbviewer.org.</b></div><div class=\"sk-container\" hidden><div class=\"sk-item\"><div class=\"sk-estimator sk-toggleable\"><input class=\"sk-toggleable__control sk-hidden--visually\" id=\"sk-estimator-id-2\" type=\"checkbox\" checked><label for=\"sk-estimator-id-2\" class=\"sk-toggleable__label sk-toggleable__label-arrow\">XGBClassifier</label><div class=\"sk-toggleable__content\"><pre>XGBClassifier(base_score=0.5, booster=&#x27;gbtree&#x27;, callbacks=None,\n",
       "              colsample_bylevel=1, colsample_bynode=1, colsample_bytree=1,\n",
       "              early_stopping_rounds=None, enable_categorical=False,\n",
       "              eval_metric=&#x27;logloss&#x27;, gamma=0, gpu_id=-1,\n",
       "              grow_policy=&#x27;depthwise&#x27;, importance_type=None,\n",
       "              interaction_constraints=&#x27;&#x27;, learning_rate=0.300000012,\n",
       "              max_bin=256, max_cat_to_onehot=4, max_delta_step=0, max_depth=6,\n",
       "              max_leaves=0, min_child_weight=1, missing=nan,\n",
       "              monotone_constraints=&#x27;()&#x27;, n_estimators=100, n_jobs=-1,\n",
       "              num_parallel_tree=1, predictor=&#x27;auto&#x27;, random_state=0,\n",
       "              reg_alpha=0, reg_lambda=1, ...)</pre></div></div></div></div></div>"
      ],
      "text/plain": [
       "XGBClassifier(base_score=0.5, booster='gbtree', callbacks=None,\n",
       "              colsample_bylevel=1, colsample_bynode=1, colsample_bytree=1,\n",
       "              early_stopping_rounds=None, enable_categorical=False,\n",
       "              eval_metric='logloss', gamma=0, gpu_id=-1,\n",
       "              grow_policy='depthwise', importance_type=None,\n",
       "              interaction_constraints='', learning_rate=0.300000012,\n",
       "              max_bin=256, max_cat_to_onehot=4, max_delta_step=0, max_depth=6,\n",
       "              max_leaves=0, min_child_weight=1, missing=nan,\n",
       "              monotone_constraints='()', n_estimators=100, n_jobs=-1,\n",
       "              num_parallel_tree=1, predictor='auto', random_state=0,\n",
       "              reg_alpha=0, reg_lambda=1, ...)"
      ]
     },
     "execution_count": 13,
     "metadata": {},
     "output_type": "execute_result"
    }
   ],
   "source": [
    "xgb_cont_cols = XGBClassifier(n_jobs=-1, tree_method=\"hist\", random_state=0, eval_metric=\"logloss\")\n",
    "xgb_cont_cols.fit(X_train, y_train)"
   ]
  },
  {
   "cell_type": "code",
   "execution_count": 14,
   "id": "a49fed78",
   "metadata": {
    "ExecuteTime": {
     "end_time": "2022-07-11T09:36:43.235872Z",
     "start_time": "2022-07-11T09:36:42.287303Z"
    },
    "scrolled": true
   },
   "outputs": [
    {
     "data": {
      "text/plain": [
       "0.8383515160420465"
      ]
     },
     "execution_count": 14,
     "metadata": {},
     "output_type": "execute_result"
    }
   ],
   "source": [
    "evaluate_model(xgb_cont_cols)"
   ]
  },
  {
   "cell_type": "markdown",
   "id": "52fcd027",
   "metadata": {},
   "source": [
    "### Oversampling the minority class using SMOTE (continuous variables only)\n"
   ]
  },
  {
   "cell_type": "code",
   "execution_count": 15,
   "id": "11de7ca0",
   "metadata": {
    "ExecuteTime": {
     "end_time": "2022-07-11T09:36:49.426097Z",
     "start_time": "2022-07-11T09:36:43.237185Z"
    }
   },
   "outputs": [],
   "source": [
    "sm = SMOTE(random_state=42, k_neighbors=25)\n",
    "X_res, y_res = sm.fit_resample(X_train, y_train)"
   ]
  },
  {
   "cell_type": "code",
   "execution_count": 16,
   "id": "09347bf9",
   "metadata": {
    "ExecuteTime": {
     "end_time": "2022-07-11T09:36:49.430700Z",
     "start_time": "2022-07-11T09:36:49.427431Z"
    }
   },
   "outputs": [
    {
     "data": {
      "text/plain": [
       "((992931, 32), (1858920, 32))"
      ]
     },
     "execution_count": 16,
     "metadata": {},
     "output_type": "execute_result"
    }
   ],
   "source": [
    "X_train.shape, X_res.shape"
   ]
  },
  {
   "cell_type": "code",
   "execution_count": 17,
   "id": "13c654da",
   "metadata": {
    "ExecuteTime": {
     "end_time": "2022-07-11T09:37:03.232096Z",
     "start_time": "2022-07-11T09:36:49.431868Z"
    },
    "scrolled": true
   },
   "outputs": [
    {
     "data": {
      "text/html": [
       "<style>#sk-container-id-3 {color: black;background-color: white;}#sk-container-id-3 pre{padding: 0;}#sk-container-id-3 div.sk-toggleable {background-color: white;}#sk-container-id-3 label.sk-toggleable__label {cursor: pointer;display: block;width: 100%;margin-bottom: 0;padding: 0.3em;box-sizing: border-box;text-align: center;}#sk-container-id-3 label.sk-toggleable__label-arrow:before {content: \"▸\";float: left;margin-right: 0.25em;color: #696969;}#sk-container-id-3 label.sk-toggleable__label-arrow:hover:before {color: black;}#sk-container-id-3 div.sk-estimator:hover label.sk-toggleable__label-arrow:before {color: black;}#sk-container-id-3 div.sk-toggleable__content {max-height: 0;max-width: 0;overflow: hidden;text-align: left;background-color: #f0f8ff;}#sk-container-id-3 div.sk-toggleable__content pre {margin: 0.2em;color: black;border-radius: 0.25em;background-color: #f0f8ff;}#sk-container-id-3 input.sk-toggleable__control:checked~div.sk-toggleable__content {max-height: 200px;max-width: 100%;overflow: auto;}#sk-container-id-3 input.sk-toggleable__control:checked~label.sk-toggleable__label-arrow:before {content: \"▾\";}#sk-container-id-3 div.sk-estimator input.sk-toggleable__control:checked~label.sk-toggleable__label {background-color: #d4ebff;}#sk-container-id-3 div.sk-label input.sk-toggleable__control:checked~label.sk-toggleable__label {background-color: #d4ebff;}#sk-container-id-3 input.sk-hidden--visually {border: 0;clip: rect(1px 1px 1px 1px);clip: rect(1px, 1px, 1px, 1px);height: 1px;margin: -1px;overflow: hidden;padding: 0;position: absolute;width: 1px;}#sk-container-id-3 div.sk-estimator {font-family: monospace;background-color: #f0f8ff;border: 1px dotted black;border-radius: 0.25em;box-sizing: border-box;margin-bottom: 0.5em;}#sk-container-id-3 div.sk-estimator:hover {background-color: #d4ebff;}#sk-container-id-3 div.sk-parallel-item::after {content: \"\";width: 100%;border-bottom: 1px solid gray;flex-grow: 1;}#sk-container-id-3 div.sk-label:hover label.sk-toggleable__label {background-color: #d4ebff;}#sk-container-id-3 div.sk-serial::before {content: \"\";position: absolute;border-left: 1px solid gray;box-sizing: border-box;top: 0;bottom: 0;left: 50%;z-index: 0;}#sk-container-id-3 div.sk-serial {display: flex;flex-direction: column;align-items: center;background-color: white;padding-right: 0.2em;padding-left: 0.2em;position: relative;}#sk-container-id-3 div.sk-item {position: relative;z-index: 1;}#sk-container-id-3 div.sk-parallel {display: flex;align-items: stretch;justify-content: center;background-color: white;position: relative;}#sk-container-id-3 div.sk-item::before, #sk-container-id-3 div.sk-parallel-item::before {content: \"\";position: absolute;border-left: 1px solid gray;box-sizing: border-box;top: 0;bottom: 0;left: 50%;z-index: -1;}#sk-container-id-3 div.sk-parallel-item {display: flex;flex-direction: column;z-index: 1;position: relative;background-color: white;}#sk-container-id-3 div.sk-parallel-item:first-child::after {align-self: flex-end;width: 50%;}#sk-container-id-3 div.sk-parallel-item:last-child::after {align-self: flex-start;width: 50%;}#sk-container-id-3 div.sk-parallel-item:only-child::after {width: 0;}#sk-container-id-3 div.sk-dashed-wrapped {border: 1px dashed gray;margin: 0 0.4em 0.5em 0.4em;box-sizing: border-box;padding-bottom: 0.4em;background-color: white;}#sk-container-id-3 div.sk-label label {font-family: monospace;font-weight: bold;display: inline-block;line-height: 1.2em;}#sk-container-id-3 div.sk-label-container {text-align: center;}#sk-container-id-3 div.sk-container {/* jupyter's `normalize.less` sets `[hidden] { display: none; }` but bootstrap.min.css set `[hidden] { display: none !important; }` so we also need the `!important` here to be able to override the default hidden behavior on the sphinx rendered scikit-learn.org. See: https://github.com/scikit-learn/scikit-learn/issues/21755 */display: inline-block !important;position: relative;}#sk-container-id-3 div.sk-text-repr-fallback {display: none;}</style><div id=\"sk-container-id-3\" class=\"sk-top-container\"><div class=\"sk-text-repr-fallback\"><pre>XGBClassifier(base_score=0.5, booster=&#x27;gbtree&#x27;, callbacks=None,\n",
       "              colsample_bylevel=1, colsample_bynode=1, colsample_bytree=1,\n",
       "              early_stopping_rounds=None, enable_categorical=False,\n",
       "              eval_metric=&#x27;logloss&#x27;, gamma=0, gpu_id=-1,\n",
       "              grow_policy=&#x27;depthwise&#x27;, importance_type=None,\n",
       "              interaction_constraints=&#x27;&#x27;, learning_rate=0.300000012,\n",
       "              max_bin=256, max_cat_to_onehot=4, max_delta_step=0, max_depth=6,\n",
       "              max_leaves=0, min_child_weight=1, missing=nan,\n",
       "              monotone_constraints=&#x27;()&#x27;, n_estimators=100, n_jobs=-1,\n",
       "              num_parallel_tree=1, predictor=&#x27;auto&#x27;, random_state=0,\n",
       "              reg_alpha=0, reg_lambda=1, ...)</pre><b>In a Jupyter environment, please rerun this cell to show the HTML representation or trust the notebook. <br />On GitHub, the HTML representation is unable to render, please try loading this page with nbviewer.org.</b></div><div class=\"sk-container\" hidden><div class=\"sk-item\"><div class=\"sk-estimator sk-toggleable\"><input class=\"sk-toggleable__control sk-hidden--visually\" id=\"sk-estimator-id-3\" type=\"checkbox\" checked><label for=\"sk-estimator-id-3\" class=\"sk-toggleable__label sk-toggleable__label-arrow\">XGBClassifier</label><div class=\"sk-toggleable__content\"><pre>XGBClassifier(base_score=0.5, booster=&#x27;gbtree&#x27;, callbacks=None,\n",
       "              colsample_bylevel=1, colsample_bynode=1, colsample_bytree=1,\n",
       "              early_stopping_rounds=None, enable_categorical=False,\n",
       "              eval_metric=&#x27;logloss&#x27;, gamma=0, gpu_id=-1,\n",
       "              grow_policy=&#x27;depthwise&#x27;, importance_type=None,\n",
       "              interaction_constraints=&#x27;&#x27;, learning_rate=0.300000012,\n",
       "              max_bin=256, max_cat_to_onehot=4, max_delta_step=0, max_depth=6,\n",
       "              max_leaves=0, min_child_weight=1, missing=nan,\n",
       "              monotone_constraints=&#x27;()&#x27;, n_estimators=100, n_jobs=-1,\n",
       "              num_parallel_tree=1, predictor=&#x27;auto&#x27;, random_state=0,\n",
       "              reg_alpha=0, reg_lambda=1, ...)</pre></div></div></div></div></div>"
      ],
      "text/plain": [
       "XGBClassifier(base_score=0.5, booster='gbtree', callbacks=None,\n",
       "              colsample_bylevel=1, colsample_bynode=1, colsample_bytree=1,\n",
       "              early_stopping_rounds=None, enable_categorical=False,\n",
       "              eval_metric='logloss', gamma=0, gpu_id=-1,\n",
       "              grow_policy='depthwise', importance_type=None,\n",
       "              interaction_constraints='', learning_rate=0.300000012,\n",
       "              max_bin=256, max_cat_to_onehot=4, max_delta_step=0, max_depth=6,\n",
       "              max_leaves=0, min_child_weight=1, missing=nan,\n",
       "              monotone_constraints='()', n_estimators=100, n_jobs=-1,\n",
       "              num_parallel_tree=1, predictor='auto', random_state=0,\n",
       "              reg_alpha=0, reg_lambda=1, ...)"
      ]
     },
     "execution_count": 17,
     "metadata": {},
     "output_type": "execute_result"
    }
   ],
   "source": [
    "xgb_cont_cols_res = XGBClassifier(n_jobs=-1, tree_method=\"hist\", random_state=0, eval_metric=\"logloss\")\n",
    "xgb_cont_cols_res.fit(X_res, y_res)"
   ]
  },
  {
   "cell_type": "code",
   "execution_count": 18,
   "id": "5bd08ae0",
   "metadata": {
    "ExecuteTime": {
     "end_time": "2022-07-11T09:37:04.175484Z",
     "start_time": "2022-07-11T09:37:03.234088Z"
    }
   },
   "outputs": [
    {
     "data": {
      "text/plain": [
       "0.8161753543298687"
      ]
     },
     "execution_count": 18,
     "metadata": {},
     "output_type": "execute_result"
    }
   ],
   "source": [
    "evaluate_model(xgb_cont_cols_res)"
   ]
  },
  {
   "cell_type": "markdown",
   "id": "837e3c81",
   "metadata": {},
   "source": [
    "###  Basic For Loop for Feature Selection  "
   ]
  },
  {
   "cell_type": "code",
   "execution_count": 19,
   "id": "6f7b79c2",
   "metadata": {
    "ExecuteTime": {
     "end_time": "2022-07-11T09:39:08.331489Z",
     "start_time": "2022-07-11T09:37:04.176719Z"
    },
    "scrolled": true
   },
   "outputs": [
    {
     "name": "stdout",
     "output_type": "stream",
     "text": [
      "(['bd'], 0.6159114065758324)\n",
      "(['bd', 'tenure_days'], 0.6379051564073593)\n",
      "(['bd', 'tenure_days', 'actual_amount_paid_min'], 0.7680373258591725)\n",
      "(['bd', 'tenure_days', 'actual_amount_paid_min', 'actual_amount_paid_max'], 0.7862980927794)\n",
      "(['bd', 'tenure_days', 'actual_amount_paid_min', 'actual_amount_paid_max', 'actual_amount_paid_mean'], 0.7897941704544412)\n",
      "(['bd', 'tenure_days', 'actual_amount_paid_min', 'actual_amount_paid_max', 'actual_amount_paid_mean', 'actual_amount_paid_std'], 0.7907600573233717)\n",
      "(['bd', 'tenure_days', 'actual_amount_paid_min', 'actual_amount_paid_max', 'actual_amount_paid_mean', 'actual_amount_paid_std', 'actual_amount_paid_sum'], 0.7989305859008905)\n",
      "(['bd', 'tenure_days', 'actual_amount_paid_min', 'actual_amount_paid_max', 'actual_amount_paid_mean', 'actual_amount_paid_std', 'actual_amount_paid_sum', 'is_auto_renew_mean'], 0.8110515772034894)\n",
      "(['bd', 'tenure_days', 'actual_amount_paid_min', 'actual_amount_paid_max', 'actual_amount_paid_mean', 'actual_amount_paid_std', 'actual_amount_paid_sum', 'is_auto_renew_mean', 'is_auto_renew_sum'], 0.8165552789094008)\n",
      "(['bd', 'tenure_days', 'actual_amount_paid_min', 'actual_amount_paid_max', 'actual_amount_paid_mean', 'actual_amount_paid_std', 'actual_amount_paid_sum', 'is_auto_renew_mean', 'is_auto_renew_sum', 'is_cancel_sum'], 0.8390008153753211)\n",
      "(['bd', 'tenure_days', 'actual_amount_paid_min', 'actual_amount_paid_max', 'actual_amount_paid_mean', 'actual_amount_paid_std', 'actual_amount_paid_sum', 'is_auto_renew_mean', 'is_auto_renew_sum', 'is_cancel_sum', 'is_cancel_mean'], 0.8362458612659969)\n",
      "(['bd', 'tenure_days', 'actual_amount_paid_min', 'actual_amount_paid_max', 'actual_amount_paid_mean', 'actual_amount_paid_std', 'actual_amount_paid_sum', 'is_auto_renew_mean', 'is_auto_renew_sum', 'is_cancel_sum', 'is_cancel_mean', 'msno_count_x'], 0.8356292745645018)\n",
      "(['bd', 'tenure_days', 'actual_amount_paid_min', 'actual_amount_paid_max', 'actual_amount_paid_mean', 'actual_amount_paid_std', 'actual_amount_paid_sum', 'is_auto_renew_mean', 'is_auto_renew_sum', 'is_cancel_sum', 'is_cancel_mean', 'msno_count_x', 'diff_dates_min'], 0.8379178243526305)\n",
      "(['bd', 'tenure_days', 'actual_amount_paid_min', 'actual_amount_paid_max', 'actual_amount_paid_mean', 'actual_amount_paid_std', 'actual_amount_paid_sum', 'is_auto_renew_mean', 'is_auto_renew_sum', 'is_cancel_sum', 'is_cancel_mean', 'msno_count_x', 'diff_dates_min', 'diff_dates_max'], 0.8404104480681927)\n",
      "(['bd', 'tenure_days', 'actual_amount_paid_min', 'actual_amount_paid_max', 'actual_amount_paid_mean', 'actual_amount_paid_std', 'actual_amount_paid_sum', 'is_auto_renew_mean', 'is_auto_renew_sum', 'is_cancel_sum', 'is_cancel_mean', 'msno_count_x', 'diff_dates_min', 'diff_dates_max', 'diff_dates_mean'], 0.8457484191133495)\n",
      "(['bd', 'tenure_days', 'actual_amount_paid_min', 'actual_amount_paid_max', 'actual_amount_paid_mean', 'actual_amount_paid_std', 'actual_amount_paid_sum', 'is_auto_renew_mean', 'is_auto_renew_sum', 'is_cancel_sum', 'is_cancel_mean', 'msno_count_x', 'diff_dates_min', 'diff_dates_max', 'diff_dates_mean', 'diff_dates_std'], 0.8396134719914572)\n",
      "(['bd', 'tenure_days', 'actual_amount_paid_min', 'actual_amount_paid_max', 'actual_amount_paid_mean', 'actual_amount_paid_std', 'actual_amount_paid_sum', 'is_auto_renew_mean', 'is_auto_renew_sum', 'is_cancel_sum', 'is_cancel_mean', 'msno_count_x', 'diff_dates_min', 'diff_dates_max', 'diff_dates_mean', 'diff_dates_std', 'churn_mean'], 0.8450958009177862)\n",
      "(['bd', 'tenure_days', 'actual_amount_paid_min', 'actual_amount_paid_max', 'actual_amount_paid_mean', 'actual_amount_paid_std', 'actual_amount_paid_sum', 'is_auto_renew_mean', 'is_auto_renew_sum', 'is_cancel_sum', 'is_cancel_mean', 'msno_count_x', 'diff_dates_min', 'diff_dates_max', 'diff_dates_mean', 'diff_dates_std', 'churn_mean', 'churn_sum'], 0.8402960774065342)\n",
      "(['bd', 'tenure_days', 'actual_amount_paid_min', 'actual_amount_paid_max', 'actual_amount_paid_mean', 'actual_amount_paid_std', 'actual_amount_paid_sum', 'is_auto_renew_mean', 'is_auto_renew_sum', 'is_cancel_sum', 'is_cancel_mean', 'msno_count_x', 'diff_dates_min', 'diff_dates_max', 'diff_dates_mean', 'diff_dates_std', 'churn_mean', 'churn_sum', 'days_last_trx'], 0.8435332432554079)\n",
      "(['bd', 'tenure_days', 'actual_amount_paid_min', 'actual_amount_paid_max', 'actual_amount_paid_mean', 'actual_amount_paid_std', 'actual_amount_paid_sum', 'is_auto_renew_mean', 'is_auto_renew_sum', 'is_cancel_sum', 'is_cancel_mean', 'msno_count_x', 'diff_dates_min', 'diff_dates_max', 'diff_dates_mean', 'diff_dates_std', 'churn_mean', 'churn_sum', 'days_last_trx', 'total_secs_sum'], 0.8428005328529377)\n",
      "(['bd', 'tenure_days', 'actual_amount_paid_min', 'actual_amount_paid_max', 'actual_amount_paid_mean', 'actual_amount_paid_std', 'actual_amount_paid_sum', 'is_auto_renew_mean', 'is_auto_renew_sum', 'is_cancel_sum', 'is_cancel_mean', 'msno_count_x', 'diff_dates_min', 'diff_dates_max', 'diff_dates_mean', 'diff_dates_std', 'churn_mean', 'churn_sum', 'days_last_trx', 'total_secs_sum', 'total_secs_mean'], 0.8454476447432931)\n",
      "(['bd', 'tenure_days', 'actual_amount_paid_min', 'actual_amount_paid_max', 'actual_amount_paid_mean', 'actual_amount_paid_std', 'actual_amount_paid_sum', 'is_auto_renew_mean', 'is_auto_renew_sum', 'is_cancel_sum', 'is_cancel_mean', 'msno_count_x', 'diff_dates_min', 'diff_dates_max', 'diff_dates_mean', 'diff_dates_std', 'churn_mean', 'churn_sum', 'days_last_trx', 'total_secs_sum', 'total_secs_mean', 'total_secs_std'], 0.843603909125215)\n",
      "(['bd', 'tenure_days', 'actual_amount_paid_min', 'actual_amount_paid_max', 'actual_amount_paid_mean', 'actual_amount_paid_std', 'actual_amount_paid_sum', 'is_auto_renew_mean', 'is_auto_renew_sum', 'is_cancel_sum', 'is_cancel_mean', 'msno_count_x', 'diff_dates_min', 'diff_dates_max', 'diff_dates_mean', 'diff_dates_std', 'churn_mean', 'churn_sum', 'days_last_trx', 'total_secs_sum', 'total_secs_mean', 'total_secs_std', 'num_unq_sum'], 0.8428075168441675)\n",
      "(['bd', 'tenure_days', 'actual_amount_paid_min', 'actual_amount_paid_max', 'actual_amount_paid_mean', 'actual_amount_paid_std', 'actual_amount_paid_sum', 'is_auto_renew_mean', 'is_auto_renew_sum', 'is_cancel_sum', 'is_cancel_mean', 'msno_count_x', 'diff_dates_min', 'diff_dates_max', 'diff_dates_mean', 'diff_dates_std', 'churn_mean', 'churn_sum', 'days_last_trx', 'total_secs_sum', 'total_secs_mean', 'total_secs_std', 'num_unq_sum', 'num_unq_mean'], 0.8434922543057197)\n",
      "(['bd', 'tenure_days', 'actual_amount_paid_min', 'actual_amount_paid_max', 'actual_amount_paid_mean', 'actual_amount_paid_std', 'actual_amount_paid_sum', 'is_auto_renew_mean', 'is_auto_renew_sum', 'is_cancel_sum', 'is_cancel_mean', 'msno_count_x', 'diff_dates_min', 'diff_dates_max', 'diff_dates_mean', 'diff_dates_std', 'churn_mean', 'churn_sum', 'days_last_trx', 'total_secs_sum', 'total_secs_mean', 'total_secs_std', 'num_unq_sum', 'num_unq_mean', 'num_unq_std'], 0.8433644251318695)\n",
      "(['bd', 'tenure_days', 'actual_amount_paid_min', 'actual_amount_paid_max', 'actual_amount_paid_mean', 'actual_amount_paid_std', 'actual_amount_paid_sum', 'is_auto_renew_mean', 'is_auto_renew_sum', 'is_cancel_sum', 'is_cancel_mean', 'msno_count_x', 'diff_dates_min', 'diff_dates_max', 'diff_dates_mean', 'diff_dates_std', 'churn_mean', 'churn_sum', 'days_last_trx', 'total_secs_sum', 'total_secs_mean', 'total_secs_std', 'num_unq_sum', 'num_unq_mean', 'num_unq_std', 'msno_count_y'], 0.8468989242089082)\n",
      "(['bd', 'tenure_days', 'actual_amount_paid_min', 'actual_amount_paid_max', 'actual_amount_paid_mean', 'actual_amount_paid_std', 'actual_amount_paid_sum', 'is_auto_renew_mean', 'is_auto_renew_sum', 'is_cancel_sum', 'is_cancel_mean', 'msno_count_x', 'diff_dates_min', 'diff_dates_max', 'diff_dates_mean', 'diff_dates_std', 'churn_mean', 'churn_sum', 'days_last_trx', 'total_secs_sum', 'total_secs_mean', 'total_secs_std', 'num_unq_sum', 'num_unq_mean', 'num_unq_std', 'msno_count_y', 'nbr_logins_monthly_mean'], 0.8430265213106892)\n",
      "(['bd', 'tenure_days', 'actual_amount_paid_min', 'actual_amount_paid_max', 'actual_amount_paid_mean', 'actual_amount_paid_std', 'actual_amount_paid_sum', 'is_auto_renew_mean', 'is_auto_renew_sum', 'is_cancel_sum', 'is_cancel_mean', 'msno_count_x', 'diff_dates_min', 'diff_dates_max', 'diff_dates_mean', 'diff_dates_std', 'churn_mean', 'churn_sum', 'days_last_trx', 'total_secs_sum', 'total_secs_mean', 'total_secs_std', 'num_unq_sum', 'num_unq_mean', 'num_unq_std', 'msno_count_y', 'nbr_logins_monthly_mean', 'nbr_logins_monthly_max'], 0.8419235164111298)\n"
     ]
    },
    {
     "name": "stdout",
     "output_type": "stream",
     "text": [
      "(['bd', 'tenure_days', 'actual_amount_paid_min', 'actual_amount_paid_max', 'actual_amount_paid_mean', 'actual_amount_paid_std', 'actual_amount_paid_sum', 'is_auto_renew_mean', 'is_auto_renew_sum', 'is_cancel_sum', 'is_cancel_mean', 'msno_count_x', 'diff_dates_min', 'diff_dates_max', 'diff_dates_mean', 'diff_dates_std', 'churn_mean', 'churn_sum', 'days_last_trx', 'total_secs_sum', 'total_secs_mean', 'total_secs_std', 'num_unq_sum', 'num_unq_mean', 'num_unq_std', 'msno_count_y', 'nbr_logins_monthly_mean', 'nbr_logins_monthly_max', 'nbr_logins_monthly_min'], 0.8383552603430133)\n",
      "(['bd', 'tenure_days', 'actual_amount_paid_min', 'actual_amount_paid_max', 'actual_amount_paid_mean', 'actual_amount_paid_std', 'actual_amount_paid_sum', 'is_auto_renew_mean', 'is_auto_renew_sum', 'is_cancel_sum', 'is_cancel_mean', 'msno_count_x', 'diff_dates_min', 'diff_dates_max', 'diff_dates_mean', 'diff_dates_std', 'churn_mean', 'churn_sum', 'days_last_trx', 'total_secs_sum', 'total_secs_mean', 'total_secs_std', 'num_unq_sum', 'num_unq_mean', 'num_unq_std', 'msno_count_y', 'nbr_logins_monthly_mean', 'nbr_logins_monthly_max', 'nbr_logins_monthly_min', 'nbr_logins_monthly_std'], 0.83896050966745)\n",
      "(['bd', 'tenure_days', 'actual_amount_paid_min', 'actual_amount_paid_max', 'actual_amount_paid_mean', 'actual_amount_paid_std', 'actual_amount_paid_sum', 'is_auto_renew_mean', 'is_auto_renew_sum', 'is_cancel_sum', 'is_cancel_mean', 'msno_count_x', 'diff_dates_min', 'diff_dates_max', 'diff_dates_mean', 'diff_dates_std', 'churn_mean', 'churn_sum', 'days_last_trx', 'total_secs_sum', 'total_secs_mean', 'total_secs_std', 'num_unq_sum', 'num_unq_mean', 'num_unq_std', 'msno_count_y', 'nbr_logins_monthly_mean', 'nbr_logins_monthly_max', 'nbr_logins_monthly_min', 'nbr_logins_monthly_std', 'nbr_logins_monthly_count'], 0.832512755407714)\n",
      "(['bd', 'tenure_days', 'actual_amount_paid_min', 'actual_amount_paid_max', 'actual_amount_paid_mean', 'actual_amount_paid_std', 'actual_amount_paid_sum', 'is_auto_renew_mean', 'is_auto_renew_sum', 'is_cancel_sum', 'is_cancel_mean', 'msno_count_x', 'diff_dates_min', 'diff_dates_max', 'diff_dates_mean', 'diff_dates_std', 'churn_mean', 'churn_sum', 'days_last_trx', 'total_secs_sum', 'total_secs_mean', 'total_secs_std', 'num_unq_sum', 'num_unq_mean', 'num_unq_std', 'msno_count_y', 'nbr_logins_monthly_mean', 'nbr_logins_monthly_max', 'nbr_logins_monthly_min', 'nbr_logins_monthly_std', 'nbr_logins_monthly_count', 'last_login_days'], 0.8390873057043555)\n"
     ]
    }
   ],
   "source": [
    "auc_feature_selection = []\n",
    "\n",
    "for i, column in enumerate(cont_cols):\n",
    "    keep_cols = cont_cols[:i+1]\n",
    "    \n",
    "    X_train, y_train = train_df[keep_cols], train_df['is_churn']\n",
    "    X_val, y_val = validation_df[keep_cols], validation_df['is_churn']\n",
    "    evaluation = [( X_train, y_train), ( X_val, y_val)]\n",
    "    \n",
    "    \n",
    "    clf = XGBClassifier(n_jobs=-1, tree_method=\"hist\", random_state=0, eval_metric=\"logloss\")\n",
    "    clf.fit(X_train, y_train,\n",
    "            eval_set=evaluation,\n",
    "            early_stopping_rounds=10,verbose=False)\n",
    "\n",
    "    auc = evaluate_model(clf)\n",
    "    auc_feature_selection.append((list(keep_cols), auc))\n",
    "    print(auc_feature_selection[i])\n"
   ]
  },
  {
   "cell_type": "code",
   "execution_count": 20,
   "id": "022a73e4",
   "metadata": {
    "ExecuteTime": {
     "end_time": "2022-07-11T09:39:08.337769Z",
     "start_time": "2022-07-11T09:39:08.333273Z"
    }
   },
   "outputs": [],
   "source": [
    "city_columns = [x for x in train_df.columns if x.startswith('city')]\n",
    "registration_columns = [x for x in train_df.columns if x.startswith('registered')]\n",
    "\n",
    "categ_columns = [city_columns, registration_columns]\n",
    "\n",
    "auc_copy = auc_feature_selection.copy()\n",
    "\n",
    "auc_feature_selection = auc_copy\n",
    "\n",
    "keep_cols = list(cont_cols)"
   ]
  },
  {
   "cell_type": "code",
   "execution_count": 21,
   "id": "4364fc37",
   "metadata": {
    "ExecuteTime": {
     "end_time": "2022-07-11T09:39:20.430247Z",
     "start_time": "2022-07-11T09:39:08.339601Z"
    }
   },
   "outputs": [
    {
     "name": "stdout",
     "output_type": "stream",
     "text": [
      "(['bd', 'tenure_days', 'actual_amount_paid_min', 'actual_amount_paid_max', 'actual_amount_paid_mean', 'actual_amount_paid_std', 'actual_amount_paid_sum', 'is_auto_renew_mean', 'is_auto_renew_sum', 'is_cancel_sum', 'is_cancel_mean', 'msno_count_x', 'diff_dates_min', 'diff_dates_max', 'diff_dates_mean', 'diff_dates_std', 'churn_mean', 'churn_sum', 'days_last_trx', 'total_secs_sum', 'total_secs_mean', 'total_secs_std', 'num_unq_sum', 'num_unq_mean', 'num_unq_std', 'msno_count_y', 'nbr_logins_monthly_mean', 'nbr_logins_monthly_max', 'nbr_logins_monthly_min', 'nbr_logins_monthly_std', 'nbr_logins_monthly_count', 'last_login_days', 'city_1', 'city_4', 'city_5', 'city_13', 'city_15', 'city_22', 'city_other'], 0.8379866982547692)\n",
      "(['bd', 'tenure_days', 'actual_amount_paid_min', 'actual_amount_paid_max', 'actual_amount_paid_mean', 'actual_amount_paid_std', 'actual_amount_paid_sum', 'is_auto_renew_mean', 'is_auto_renew_sum', 'is_cancel_sum', 'is_cancel_mean', 'msno_count_x', 'diff_dates_min', 'diff_dates_max', 'diff_dates_mean', 'diff_dates_std', 'churn_mean', 'churn_sum', 'days_last_trx', 'total_secs_sum', 'total_secs_mean', 'total_secs_std', 'num_unq_sum', 'num_unq_mean', 'num_unq_std', 'msno_count_y', 'nbr_logins_monthly_mean', 'nbr_logins_monthly_max', 'nbr_logins_monthly_min', 'nbr_logins_monthly_std', 'nbr_logins_monthly_count', 'last_login_days', 'city_1', 'city_4', 'city_5', 'city_13', 'city_15', 'city_22', 'city_other', 'registered_via_3', 'registered_via_4', 'registered_via_7', 'registered_via_9', 'registered_via_11', 'registered_via_13', 'registered_via_other'], 0.8390647256145557)\n"
     ]
    }
   ],
   "source": [
    "for i, categ_feature in enumerate(categ_columns):\n",
    "    keep_cols += categ_feature\n",
    "    \n",
    "    X_train, y_train = train_df[keep_cols], train_df['is_churn']\n",
    "    X_val, y_val = validation_df[keep_cols], validation_df['is_churn']\n",
    "    evaluation = [( X_train, y_train), ( X_val, y_val)]\n",
    "    \n",
    "    \n",
    "    clf = XGBClassifier(n_jobs=-1, tree_method=\"hist\", random_state=0, eval_metric=\"logloss\")\n",
    "    clf.fit(X_train, y_train,\n",
    "            eval_set=evaluation,\n",
    "            early_stopping_rounds=10,verbose=False)\n",
    "    \n",
    "    \n",
    "    auc = evaluate_model(clf)\n",
    "    auc_feature_selection.append((list(keep_cols), auc))\n",
    "    print(auc_feature_selection[len(cont_cols) + i])\n",
    "    "
   ]
  },
  {
   "cell_type": "code",
   "execution_count": 22,
   "id": "81a2a26c",
   "metadata": {
    "ExecuteTime": {
     "end_time": "2022-07-11T09:39:20.434211Z",
     "start_time": "2022-07-11T09:39:20.431571Z"
    }
   },
   "outputs": [],
   "source": [
    "final_auc = [x[1] for x in auc_feature_selection]"
   ]
  },
  {
   "cell_type": "code",
   "execution_count": 23,
   "id": "f35e16d8",
   "metadata": {
    "ExecuteTime": {
     "end_time": "2022-07-11T09:39:20.442213Z",
     "start_time": "2022-07-11T09:39:20.435798Z"
    },
    "scrolled": true
   },
   "outputs": [
    {
     "name": "stdout",
     "output_type": "stream",
     "text": [
      "[0.6159114065758324, 0.6379051564073593, 0.7680373258591725, 0.7862980927794, 0.7897941704544412, 0.7907600573233717, 0.7989305859008905, 0.8110515772034894, 0.8165552789094008, 0.8390008153753211, 0.8362458612659969, 0.8356292745645018, 0.8379178243526305, 0.8404104480681927, 0.8457484191133495, 0.8396134719914572, 0.8450958009177862, 0.8402960774065342, 0.8435332432554079, 0.8428005328529377, 0.8454476447432931, 0.843603909125215, 0.8428075168441675, 0.8434922543057197, 0.8433644251318695, 0.8468989242089082, 0.8430265213106892, 0.8419235164111298, 0.8383552603430133, 0.83896050966745, 0.832512755407714, 0.8390873057043555, 0.8379866982547692, 0.8390647256145557]\n"
     ]
    }
   ],
   "source": [
    "print(final_auc)"
   ]
  },
  {
   "cell_type": "code",
   "execution_count": 24,
   "id": "ae88d71f",
   "metadata": {
    "ExecuteTime": {
     "end_time": "2022-07-11T09:39:20.447937Z",
     "start_time": "2022-07-11T09:39:20.444257Z"
    }
   },
   "outputs": [],
   "source": [
    "keep_features = [True] + [True if final_auc[i] > final_auc[i-1] else False for i in range(1, len(final_auc))] "
   ]
  },
  {
   "cell_type": "code",
   "execution_count": 25,
   "id": "1109eca8",
   "metadata": {
    "ExecuteTime": {
     "end_time": "2022-07-11T09:39:20.456469Z",
     "start_time": "2022-07-11T09:39:20.451510Z"
    }
   },
   "outputs": [
    {
     "name": "stdout",
     "output_type": "stream",
     "text": [
      "[True, True, True, True, True, True, True, True, True, True, False, False, True, True, True, False, True, False, True, False, True, False, False, True, False, True, False, False, False, True, False, True, False, True]\n"
     ]
    }
   ],
   "source": [
    "print(keep_features)"
   ]
  },
  {
   "cell_type": "code",
   "execution_count": 29,
   "id": "b4017a1b",
   "metadata": {
    "ExecuteTime": {
     "end_time": "2022-07-11T09:39:39.848602Z",
     "start_time": "2022-07-11T09:39:39.845371Z"
    }
   },
   "outputs": [],
   "source": [
    "result_feature_selection = list(zip(auc_feature_selection, keep_features))\n",
    "\n",
    "result_continous = result_feature_selection[:-2]\n",
    "\n",
    "final_keep_cols = [x[0][0][-1] for x in result_continous if x[1] ]\n",
    "\n",
    "# continuous columns kept after feature selection\n",
    "cont_keep_cols = final_keep_cols.copy()\n",
    "\n",
    "# we keep all the continuous columns that we got from the feature selection and we agg the registration columns\n",
    "registration_columns = [x for x in train_df.columns if x.startswith('registered')]\n",
    "\n",
    "final_keep_cols += registration_columns"
   ]
  },
  {
   "cell_type": "code",
   "execution_count": 33,
   "id": "e2d87d43",
   "metadata": {
    "ExecuteTime": {
     "end_time": "2022-07-11T09:40:01.391850Z",
     "start_time": "2022-07-11T09:40:01.389176Z"
    }
   },
   "outputs": [
    {
     "name": "stdout",
     "output_type": "stream",
     "text": [
      "['bd', 'tenure_days', 'actual_amount_paid_min', 'actual_amount_paid_max', 'actual_amount_paid_mean', 'actual_amount_paid_std', 'actual_amount_paid_sum', 'is_auto_renew_mean', 'is_auto_renew_sum', 'is_cancel_sum', 'diff_dates_min', 'diff_dates_max', 'diff_dates_mean', 'churn_mean', 'days_last_trx', 'total_secs_mean', 'num_unq_mean', 'msno_count_y', 'nbr_logins_monthly_std', 'last_login_days']\n"
     ]
    }
   ],
   "source": [
    "print(cont_keep_cols)"
   ]
  },
  {
   "cell_type": "code",
   "execution_count": 36,
   "id": "c769253d",
   "metadata": {
    "ExecuteTime": {
     "end_time": "2022-07-11T09:40:46.842493Z",
     "start_time": "2022-07-11T09:40:43.232779Z"
    }
   },
   "outputs": [
    {
     "data": {
      "text/plain": [
       "0.8474713248855934"
      ]
     },
     "execution_count": 36,
     "metadata": {},
     "output_type": "execute_result"
    }
   ],
   "source": [
    "X_train, y_train = train_df[cont_keep_cols], train_df['is_churn']\n",
    "X_val, y_val = validation_df[cont_keep_cols], validation_df['is_churn']\n",
    "evaluation = [( X_train, y_train), ( X_val, y_val)]\n",
    "\n",
    "\n",
    "clf = XGBClassifier(n_jobs=-1, tree_method=\"hist\", random_state=0, eval_metric=\"logloss\")\n",
    "clf.fit(X_train, y_train,\n",
    "        eval_set=evaluation,\n",
    "        early_stopping_rounds=10,verbose=False)\n",
    "\n",
    "\n",
    "evaluate_model(clf)"
   ]
  },
  {
   "cell_type": "code",
   "execution_count": 37,
   "id": "8acfeed8",
   "metadata": {
    "ExecuteTime": {
     "end_time": "2022-07-11T09:40:52.126371Z",
     "start_time": "2022-07-11T09:40:47.589390Z"
    }
   },
   "outputs": [],
   "source": [
    "sm = SMOTE(random_state=42, k_neighbors=25)\n",
    "X_res, y_res = sm.fit_resample(X_train, y_train)"
   ]
  },
  {
   "cell_type": "code",
   "execution_count": 38,
   "id": "326d5d96",
   "metadata": {
    "ExecuteTime": {
     "end_time": "2022-07-11T09:41:23.954421Z",
     "start_time": "2022-07-11T09:41:13.475354Z"
    },
    "scrolled": true
   },
   "outputs": [
    {
     "data": {
      "text/html": [
       "<style>#sk-container-id-4 {color: black;background-color: white;}#sk-container-id-4 pre{padding: 0;}#sk-container-id-4 div.sk-toggleable {background-color: white;}#sk-container-id-4 label.sk-toggleable__label {cursor: pointer;display: block;width: 100%;margin-bottom: 0;padding: 0.3em;box-sizing: border-box;text-align: center;}#sk-container-id-4 label.sk-toggleable__label-arrow:before {content: \"▸\";float: left;margin-right: 0.25em;color: #696969;}#sk-container-id-4 label.sk-toggleable__label-arrow:hover:before {color: black;}#sk-container-id-4 div.sk-estimator:hover label.sk-toggleable__label-arrow:before {color: black;}#sk-container-id-4 div.sk-toggleable__content {max-height: 0;max-width: 0;overflow: hidden;text-align: left;background-color: #f0f8ff;}#sk-container-id-4 div.sk-toggleable__content pre {margin: 0.2em;color: black;border-radius: 0.25em;background-color: #f0f8ff;}#sk-container-id-4 input.sk-toggleable__control:checked~div.sk-toggleable__content {max-height: 200px;max-width: 100%;overflow: auto;}#sk-container-id-4 input.sk-toggleable__control:checked~label.sk-toggleable__label-arrow:before {content: \"▾\";}#sk-container-id-4 div.sk-estimator input.sk-toggleable__control:checked~label.sk-toggleable__label {background-color: #d4ebff;}#sk-container-id-4 div.sk-label input.sk-toggleable__control:checked~label.sk-toggleable__label {background-color: #d4ebff;}#sk-container-id-4 input.sk-hidden--visually {border: 0;clip: rect(1px 1px 1px 1px);clip: rect(1px, 1px, 1px, 1px);height: 1px;margin: -1px;overflow: hidden;padding: 0;position: absolute;width: 1px;}#sk-container-id-4 div.sk-estimator {font-family: monospace;background-color: #f0f8ff;border: 1px dotted black;border-radius: 0.25em;box-sizing: border-box;margin-bottom: 0.5em;}#sk-container-id-4 div.sk-estimator:hover {background-color: #d4ebff;}#sk-container-id-4 div.sk-parallel-item::after {content: \"\";width: 100%;border-bottom: 1px solid gray;flex-grow: 1;}#sk-container-id-4 div.sk-label:hover label.sk-toggleable__label {background-color: #d4ebff;}#sk-container-id-4 div.sk-serial::before {content: \"\";position: absolute;border-left: 1px solid gray;box-sizing: border-box;top: 0;bottom: 0;left: 50%;z-index: 0;}#sk-container-id-4 div.sk-serial {display: flex;flex-direction: column;align-items: center;background-color: white;padding-right: 0.2em;padding-left: 0.2em;position: relative;}#sk-container-id-4 div.sk-item {position: relative;z-index: 1;}#sk-container-id-4 div.sk-parallel {display: flex;align-items: stretch;justify-content: center;background-color: white;position: relative;}#sk-container-id-4 div.sk-item::before, #sk-container-id-4 div.sk-parallel-item::before {content: \"\";position: absolute;border-left: 1px solid gray;box-sizing: border-box;top: 0;bottom: 0;left: 50%;z-index: -1;}#sk-container-id-4 div.sk-parallel-item {display: flex;flex-direction: column;z-index: 1;position: relative;background-color: white;}#sk-container-id-4 div.sk-parallel-item:first-child::after {align-self: flex-end;width: 50%;}#sk-container-id-4 div.sk-parallel-item:last-child::after {align-self: flex-start;width: 50%;}#sk-container-id-4 div.sk-parallel-item:only-child::after {width: 0;}#sk-container-id-4 div.sk-dashed-wrapped {border: 1px dashed gray;margin: 0 0.4em 0.5em 0.4em;box-sizing: border-box;padding-bottom: 0.4em;background-color: white;}#sk-container-id-4 div.sk-label label {font-family: monospace;font-weight: bold;display: inline-block;line-height: 1.2em;}#sk-container-id-4 div.sk-label-container {text-align: center;}#sk-container-id-4 div.sk-container {/* jupyter's `normalize.less` sets `[hidden] { display: none; }` but bootstrap.min.css set `[hidden] { display: none !important; }` so we also need the `!important` here to be able to override the default hidden behavior on the sphinx rendered scikit-learn.org. See: https://github.com/scikit-learn/scikit-learn/issues/21755 */display: inline-block !important;position: relative;}#sk-container-id-4 div.sk-text-repr-fallback {display: none;}</style><div id=\"sk-container-id-4\" class=\"sk-top-container\"><div class=\"sk-text-repr-fallback\"><pre>XGBClassifier(base_score=0.5, booster=&#x27;gbtree&#x27;, callbacks=None,\n",
       "              colsample_bylevel=1, colsample_bynode=1, colsample_bytree=1,\n",
       "              early_stopping_rounds=None, enable_categorical=False,\n",
       "              eval_metric=&#x27;logloss&#x27;, gamma=0, gpu_id=-1,\n",
       "              grow_policy=&#x27;depthwise&#x27;, importance_type=None,\n",
       "              interaction_constraints=&#x27;&#x27;, learning_rate=0.300000012,\n",
       "              max_bin=256, max_cat_to_onehot=4, max_delta_step=0, max_depth=6,\n",
       "              max_leaves=0, min_child_weight=1, missing=nan,\n",
       "              monotone_constraints=&#x27;()&#x27;, n_estimators=100, n_jobs=-1,\n",
       "              num_parallel_tree=1, predictor=&#x27;auto&#x27;, random_state=0,\n",
       "              reg_alpha=0, reg_lambda=1, ...)</pre><b>In a Jupyter environment, please rerun this cell to show the HTML representation or trust the notebook. <br />On GitHub, the HTML representation is unable to render, please try loading this page with nbviewer.org.</b></div><div class=\"sk-container\" hidden><div class=\"sk-item\"><div class=\"sk-estimator sk-toggleable\"><input class=\"sk-toggleable__control sk-hidden--visually\" id=\"sk-estimator-id-4\" type=\"checkbox\" checked><label for=\"sk-estimator-id-4\" class=\"sk-toggleable__label sk-toggleable__label-arrow\">XGBClassifier</label><div class=\"sk-toggleable__content\"><pre>XGBClassifier(base_score=0.5, booster=&#x27;gbtree&#x27;, callbacks=None,\n",
       "              colsample_bylevel=1, colsample_bynode=1, colsample_bytree=1,\n",
       "              early_stopping_rounds=None, enable_categorical=False,\n",
       "              eval_metric=&#x27;logloss&#x27;, gamma=0, gpu_id=-1,\n",
       "              grow_policy=&#x27;depthwise&#x27;, importance_type=None,\n",
       "              interaction_constraints=&#x27;&#x27;, learning_rate=0.300000012,\n",
       "              max_bin=256, max_cat_to_onehot=4, max_delta_step=0, max_depth=6,\n",
       "              max_leaves=0, min_child_weight=1, missing=nan,\n",
       "              monotone_constraints=&#x27;()&#x27;, n_estimators=100, n_jobs=-1,\n",
       "              num_parallel_tree=1, predictor=&#x27;auto&#x27;, random_state=0,\n",
       "              reg_alpha=0, reg_lambda=1, ...)</pre></div></div></div></div></div>"
      ],
      "text/plain": [
       "XGBClassifier(base_score=0.5, booster='gbtree', callbacks=None,\n",
       "              colsample_bylevel=1, colsample_bynode=1, colsample_bytree=1,\n",
       "              early_stopping_rounds=None, enable_categorical=False,\n",
       "              eval_metric='logloss', gamma=0, gpu_id=-1,\n",
       "              grow_policy='depthwise', importance_type=None,\n",
       "              interaction_constraints='', learning_rate=0.300000012,\n",
       "              max_bin=256, max_cat_to_onehot=4, max_delta_step=0, max_depth=6,\n",
       "              max_leaves=0, min_child_weight=1, missing=nan,\n",
       "              monotone_constraints='()', n_estimators=100, n_jobs=-1,\n",
       "              num_parallel_tree=1, predictor='auto', random_state=0,\n",
       "              reg_alpha=0, reg_lambda=1, ...)"
      ]
     },
     "execution_count": 38,
     "metadata": {},
     "output_type": "execute_result"
    }
   ],
   "source": [
    "xgb_cont_cols_res = XGBClassifier(n_jobs=-1, tree_method=\"hist\", random_state=0, eval_metric=\"logloss\")\n",
    "xgb_cont_cols_res.fit(X_res, y_res)"
   ]
  },
  {
   "cell_type": "code",
   "execution_count": 39,
   "id": "9690f44c",
   "metadata": {
    "ExecuteTime": {
     "end_time": "2022-07-11T09:41:24.753442Z",
     "start_time": "2022-07-11T09:41:23.957536Z"
    }
   },
   "outputs": [
    {
     "data": {
      "text/plain": [
       "0.8094146524066411"
      ]
     },
     "execution_count": 39,
     "metadata": {},
     "output_type": "execute_result"
    }
   ],
   "source": [
    "evaluate_model(xgb_cont_cols_res)"
   ]
  },
  {
   "cell_type": "code",
   "execution_count": 35,
   "id": "e7a08c2c",
   "metadata": {
    "ExecuteTime": {
     "end_time": "2022-07-11T09:40:23.338959Z",
     "start_time": "2022-07-11T09:40:18.936637Z"
    }
   },
   "outputs": [
    {
     "data": {
      "text/plain": [
       "0.849724805412312"
      ]
     },
     "execution_count": 35,
     "metadata": {},
     "output_type": "execute_result"
    }
   ],
   "source": [
    "X_train, y_train = train_df[final_keep_cols], train_df['is_churn']\n",
    "X_val, y_val = validation_df[final_keep_cols], validation_df['is_churn']\n",
    "evaluation = [( X_train, y_train), ( X_val, y_val)]\n",
    "\n",
    "\n",
    "clf = XGBClassifier(n_jobs=-1, tree_method=\"hist\", random_state=0, eval_metric=\"logloss\")\n",
    "clf.fit(X_train, y_train,\n",
    "        eval_set=evaluation,\n",
    "        early_stopping_rounds=10,verbose=False)\n",
    "\n",
    "\n",
    "evaluate_model(clf)"
   ]
  },
  {
   "cell_type": "code",
   "execution_count": 48,
   "id": "2c65c0d9",
   "metadata": {
    "ExecuteTime": {
     "end_time": "2022-07-11T10:25:09.230090Z",
     "start_time": "2022-07-11T10:24:58.214610Z"
    }
   },
   "outputs": [],
   "source": [
    "old = pd.read_csv('old_data_dfMasterTable.csv')"
   ]
  },
  {
   "cell_type": "code",
   "execution_count": 49,
   "id": "cf088516",
   "metadata": {
    "ExecuteTime": {
     "end_time": "2022-07-11T10:25:09.271495Z",
     "start_time": "2022-07-11T10:25:09.239426Z"
    }
   },
   "outputs": [
    {
     "data": {
      "text/html": [
       "<div>\n",
       "<style scoped>\n",
       "    .dataframe tbody tr th:only-of-type {\n",
       "        vertical-align: middle;\n",
       "    }\n",
       "\n",
       "    .dataframe tbody tr th {\n",
       "        vertical-align: top;\n",
       "    }\n",
       "\n",
       "    .dataframe thead th {\n",
       "        text-align: right;\n",
       "    }\n",
       "</style>\n",
       "<table border=\"1\" class=\"dataframe\">\n",
       "  <thead>\n",
       "    <tr style=\"text-align: right;\">\n",
       "      <th></th>\n",
       "      <th>msno</th>\n",
       "      <th>is_churn</th>\n",
       "      <th>date_pred</th>\n",
       "      <th>bd</th>\n",
       "      <th>gender</th>\n",
       "      <th>city_1</th>\n",
       "      <th>city_4</th>\n",
       "      <th>city_5</th>\n",
       "      <th>city_13</th>\n",
       "      <th>city_15</th>\n",
       "      <th>city_22</th>\n",
       "      <th>city_other</th>\n",
       "      <th>registered_via_3</th>\n",
       "      <th>registered_via_4</th>\n",
       "      <th>registered_via_7</th>\n",
       "      <th>registered_via_9</th>\n",
       "      <th>registered_via_11</th>\n",
       "      <th>registered_via_13</th>\n",
       "      <th>registered_via_other</th>\n",
       "      <th>tenure_days</th>\n",
       "      <th>actual_amount_paid_min</th>\n",
       "      <th>actual_amount_paid_max</th>\n",
       "      <th>actual_amount_paid_mean</th>\n",
       "      <th>actual_amount_paid_std</th>\n",
       "      <th>actual_amount_paid_sum</th>\n",
       "      <th>is_auto_renew_mean</th>\n",
       "      <th>is_auto_renew_sum</th>\n",
       "      <th>is_cancel_sum</th>\n",
       "      <th>is_cancel_mean</th>\n",
       "      <th>msno_count_x</th>\n",
       "      <th>diff_dates_min</th>\n",
       "      <th>diff_dates_max</th>\n",
       "      <th>diff_dates_mean</th>\n",
       "      <th>diff_dates_std</th>\n",
       "      <th>churn_mean</th>\n",
       "      <th>churn_sum</th>\n",
       "      <th>days_last_trx</th>\n",
       "      <th>total_secs_sum</th>\n",
       "      <th>total_secs_mean</th>\n",
       "      <th>total_secs_std</th>\n",
       "      <th>num_unq_sum</th>\n",
       "      <th>num_unq_mean</th>\n",
       "      <th>num_unq_std</th>\n",
       "      <th>msno_count_y</th>\n",
       "      <th>nbr_logins_monthly_mean</th>\n",
       "      <th>nbr_logins_monthly_max</th>\n",
       "      <th>nbr_logins_monthly_min</th>\n",
       "      <th>nbr_logins_monthly_std</th>\n",
       "      <th>nbr_logins_monthly_count</th>\n",
       "      <th>last_login_days</th>\n",
       "    </tr>\n",
       "  </thead>\n",
       "  <tbody>\n",
       "    <tr>\n",
       "      <th>0</th>\n",
       "      <td>++4RuqBw0Ss6bQU4oMxaRlbBPoWzoEiIZaxPM04Y4+U=</td>\n",
       "      <td>0</td>\n",
       "      <td>201603</td>\n",
       "      <td>27.0</td>\n",
       "      <td>1.0</td>\n",
       "      <td>1.0</td>\n",
       "      <td>0.0</td>\n",
       "      <td>0.0</td>\n",
       "      <td>0.0</td>\n",
       "      <td>0.0</td>\n",
       "      <td>0.0</td>\n",
       "      <td>0.0</td>\n",
       "      <td>0.0</td>\n",
       "      <td>0.0</td>\n",
       "      <td>1.0</td>\n",
       "      <td>0.0</td>\n",
       "      <td>0.0</td>\n",
       "      <td>0.0</td>\n",
       "      <td>0.0</td>\n",
       "      <td>596.0</td>\n",
       "      <td>129</td>\n",
       "      <td>149</td>\n",
       "      <td>140.428571</td>\n",
       "      <td>10.271052</td>\n",
       "      <td>1966</td>\n",
       "      <td>1.0</td>\n",
       "      <td>14</td>\n",
       "      <td>0</td>\n",
       "      <td>0.0</td>\n",
       "      <td>14</td>\n",
       "      <td>28.0</td>\n",
       "      <td>31.0</td>\n",
       "      <td>30.461538</td>\n",
       "      <td>0.877058</td>\n",
       "      <td>0.0</td>\n",
       "      <td>0</td>\n",
       "      <td>17</td>\n",
       "      <td>734871.354</td>\n",
       "      <td>4175.405420</td>\n",
       "      <td>4063.203137</td>\n",
       "      <td>3793.0</td>\n",
       "      <td>21.551136</td>\n",
       "      <td>19.234430</td>\n",
       "      <td>176.0</td>\n",
       "      <td>16.576923</td>\n",
       "      <td>29.0</td>\n",
       "      <td>1.0</td>\n",
       "      <td>8.782588</td>\n",
       "      <td>26.0</td>\n",
       "      <td>1.0</td>\n",
       "    </tr>\n",
       "    <tr>\n",
       "      <th>1</th>\n",
       "      <td>++OepqRK4wiYg4Chl+qqo7TrwM+i9KZc3Ez/Swbjjew=</td>\n",
       "      <td>0</td>\n",
       "      <td>201603</td>\n",
       "      <td>27.0</td>\n",
       "      <td>1.0</td>\n",
       "      <td>1.0</td>\n",
       "      <td>0.0</td>\n",
       "      <td>0.0</td>\n",
       "      <td>0.0</td>\n",
       "      <td>0.0</td>\n",
       "      <td>0.0</td>\n",
       "      <td>0.0</td>\n",
       "      <td>0.0</td>\n",
       "      <td>0.0</td>\n",
       "      <td>1.0</td>\n",
       "      <td>0.0</td>\n",
       "      <td>0.0</td>\n",
       "      <td>0.0</td>\n",
       "      <td>0.0</td>\n",
       "      <td>36.0</td>\n",
       "      <td>0</td>\n",
       "      <td>149</td>\n",
       "      <td>74.500000</td>\n",
       "      <td>105.358910</td>\n",
       "      <td>149</td>\n",
       "      <td>1.0</td>\n",
       "      <td>2</td>\n",
       "      <td>0</td>\n",
       "      <td>0.0</td>\n",
       "      <td>2</td>\n",
       "      <td>30.0</td>\n",
       "      <td>30.0</td>\n",
       "      <td>30.000000</td>\n",
       "      <td>NaN</td>\n",
       "      <td>0.0</td>\n",
       "      <td>0</td>\n",
       "      <td>6</td>\n",
       "      <td>324433.423</td>\n",
       "      <td>10138.544469</td>\n",
       "      <td>8666.467367</td>\n",
       "      <td>1217.0</td>\n",
       "      <td>38.031250</td>\n",
       "      <td>29.233419</td>\n",
       "      <td>32.0</td>\n",
       "      <td>16.750000</td>\n",
       "      <td>29.0</td>\n",
       "      <td>5.0</td>\n",
       "      <td>13.022417</td>\n",
       "      <td>4.0</td>\n",
       "      <td>1.0</td>\n",
       "    </tr>\n",
       "    <tr>\n",
       "      <th>2</th>\n",
       "      <td>+/namlXq+u3izRjHCFJV4MgqcXcLidZYszVsROOq/y4=</td>\n",
       "      <td>0</td>\n",
       "      <td>201603</td>\n",
       "      <td>31.0</td>\n",
       "      <td>1.0</td>\n",
       "      <td>0.0</td>\n",
       "      <td>0.0</td>\n",
       "      <td>0.0</td>\n",
       "      <td>0.0</td>\n",
       "      <td>1.0</td>\n",
       "      <td>0.0</td>\n",
       "      <td>0.0</td>\n",
       "      <td>0.0</td>\n",
       "      <td>0.0</td>\n",
       "      <td>0.0</td>\n",
       "      <td>1.0</td>\n",
       "      <td>0.0</td>\n",
       "      <td>0.0</td>\n",
       "      <td>0.0</td>\n",
       "      <td>3559.0</td>\n",
       "      <td>149</td>\n",
       "      <td>149</td>\n",
       "      <td>149.000000</td>\n",
       "      <td>0.000000</td>\n",
       "      <td>1490</td>\n",
       "      <td>1.0</td>\n",
       "      <td>10</td>\n",
       "      <td>0</td>\n",
       "      <td>0.0</td>\n",
       "      <td>10</td>\n",
       "      <td>29.0</td>\n",
       "      <td>91.0</td>\n",
       "      <td>37.222222</td>\n",
       "      <td>20.179060</td>\n",
       "      <td>0.0</td>\n",
       "      <td>0</td>\n",
       "      <td>1</td>\n",
       "      <td>69004.891</td>\n",
       "      <td>9857.841571</td>\n",
       "      <td>14085.226397</td>\n",
       "      <td>234.0</td>\n",
       "      <td>33.428571</td>\n",
       "      <td>31.775359</td>\n",
       "      <td>7.0</td>\n",
       "      <td>6.882353</td>\n",
       "      <td>25.0</td>\n",
       "      <td>1.0</td>\n",
       "      <td>8.469669</td>\n",
       "      <td>17.0</td>\n",
       "      <td>1.0</td>\n",
       "    </tr>\n",
       "    <tr>\n",
       "      <th>3</th>\n",
       "      <td>+0/X9tkmyHyet9X80G6GTrDFHnJqvai8d1ZPhayT0os=</td>\n",
       "      <td>0</td>\n",
       "      <td>201603</td>\n",
       "      <td>31.0</td>\n",
       "      <td>1.0</td>\n",
       "      <td>0.0</td>\n",
       "      <td>0.0</td>\n",
       "      <td>0.0</td>\n",
       "      <td>0.0</td>\n",
       "      <td>0.0</td>\n",
       "      <td>0.0</td>\n",
       "      <td>1.0</td>\n",
       "      <td>0.0</td>\n",
       "      <td>0.0</td>\n",
       "      <td>0.0</td>\n",
       "      <td>1.0</td>\n",
       "      <td>0.0</td>\n",
       "      <td>0.0</td>\n",
       "      <td>0.0</td>\n",
       "      <td>4354.0</td>\n",
       "      <td>149</td>\n",
       "      <td>149</td>\n",
       "      <td>149.000000</td>\n",
       "      <td>0.000000</td>\n",
       "      <td>1490</td>\n",
       "      <td>1.0</td>\n",
       "      <td>10</td>\n",
       "      <td>0</td>\n",
       "      <td>0.0</td>\n",
       "      <td>10</td>\n",
       "      <td>29.0</td>\n",
       "      <td>91.0</td>\n",
       "      <td>37.222222</td>\n",
       "      <td>20.179060</td>\n",
       "      <td>0.0</td>\n",
       "      <td>0</td>\n",
       "      <td>1</td>\n",
       "      <td>2648108.911</td>\n",
       "      <td>8301.281853</td>\n",
       "      <td>6947.821911</td>\n",
       "      <td>10616.0</td>\n",
       "      <td>33.278997</td>\n",
       "      <td>26.210037</td>\n",
       "      <td>319.0</td>\n",
       "      <td>24.269231</td>\n",
       "      <td>31.0</td>\n",
       "      <td>14.0</td>\n",
       "      <td>4.229021</td>\n",
       "      <td>26.0</td>\n",
       "      <td>1.0</td>\n",
       "    </tr>\n",
       "    <tr>\n",
       "      <th>4</th>\n",
       "      <td>+09YGn842g6h2EZUXe0VWeC4bBoCbDGfUboitc0vIHw=</td>\n",
       "      <td>0</td>\n",
       "      <td>201603</td>\n",
       "      <td>29.0</td>\n",
       "      <td>1.0</td>\n",
       "      <td>0.0</td>\n",
       "      <td>0.0</td>\n",
       "      <td>0.0</td>\n",
       "      <td>0.0</td>\n",
       "      <td>1.0</td>\n",
       "      <td>0.0</td>\n",
       "      <td>0.0</td>\n",
       "      <td>0.0</td>\n",
       "      <td>0.0</td>\n",
       "      <td>0.0</td>\n",
       "      <td>1.0</td>\n",
       "      <td>0.0</td>\n",
       "      <td>0.0</td>\n",
       "      <td>0.0</td>\n",
       "      <td>2901.0</td>\n",
       "      <td>149</td>\n",
       "      <td>149</td>\n",
       "      <td>149.000000</td>\n",
       "      <td>0.000000</td>\n",
       "      <td>1490</td>\n",
       "      <td>1.0</td>\n",
       "      <td>10</td>\n",
       "      <td>0</td>\n",
       "      <td>0.0</td>\n",
       "      <td>10</td>\n",
       "      <td>29.0</td>\n",
       "      <td>91.0</td>\n",
       "      <td>37.222222</td>\n",
       "      <td>20.179060</td>\n",
       "      <td>0.0</td>\n",
       "      <td>0</td>\n",
       "      <td>1</td>\n",
       "      <td>4114332.184</td>\n",
       "      <td>12172.580426</td>\n",
       "      <td>10113.703549</td>\n",
       "      <td>14881.0</td>\n",
       "      <td>44.026627</td>\n",
       "      <td>35.228870</td>\n",
       "      <td>338.0</td>\n",
       "      <td>25.038462</td>\n",
       "      <td>30.0</td>\n",
       "      <td>19.0</td>\n",
       "      <td>3.504064</td>\n",
       "      <td>26.0</td>\n",
       "      <td>1.0</td>\n",
       "    </tr>\n",
       "  </tbody>\n",
       "</table>\n",
       "</div>"
      ],
      "text/plain": [
       "                                           msno  is_churn  date_pred    bd  \\\n",
       "0  ++4RuqBw0Ss6bQU4oMxaRlbBPoWzoEiIZaxPM04Y4+U=         0     201603  27.0   \n",
       "1  ++OepqRK4wiYg4Chl+qqo7TrwM+i9KZc3Ez/Swbjjew=         0     201603  27.0   \n",
       "2  +/namlXq+u3izRjHCFJV4MgqcXcLidZYszVsROOq/y4=         0     201603  31.0   \n",
       "3  +0/X9tkmyHyet9X80G6GTrDFHnJqvai8d1ZPhayT0os=         0     201603  31.0   \n",
       "4  +09YGn842g6h2EZUXe0VWeC4bBoCbDGfUboitc0vIHw=         0     201603  29.0   \n",
       "\n",
       "   gender  city_1  city_4  city_5  city_13  city_15  city_22  city_other  \\\n",
       "0     1.0     1.0     0.0     0.0      0.0      0.0      0.0         0.0   \n",
       "1     1.0     1.0     0.0     0.0      0.0      0.0      0.0         0.0   \n",
       "2     1.0     0.0     0.0     0.0      0.0      1.0      0.0         0.0   \n",
       "3     1.0     0.0     0.0     0.0      0.0      0.0      0.0         1.0   \n",
       "4     1.0     0.0     0.0     0.0      0.0      1.0      0.0         0.0   \n",
       "\n",
       "   registered_via_3  registered_via_4  registered_via_7  registered_via_9  \\\n",
       "0               0.0               0.0               1.0               0.0   \n",
       "1               0.0               0.0               1.0               0.0   \n",
       "2               0.0               0.0               0.0               1.0   \n",
       "3               0.0               0.0               0.0               1.0   \n",
       "4               0.0               0.0               0.0               1.0   \n",
       "\n",
       "   registered_via_11  registered_via_13  registered_via_other  tenure_days  \\\n",
       "0                0.0                0.0                   0.0        596.0   \n",
       "1                0.0                0.0                   0.0         36.0   \n",
       "2                0.0                0.0                   0.0       3559.0   \n",
       "3                0.0                0.0                   0.0       4354.0   \n",
       "4                0.0                0.0                   0.0       2901.0   \n",
       "\n",
       "   actual_amount_paid_min  actual_amount_paid_max  actual_amount_paid_mean  \\\n",
       "0                     129                     149               140.428571   \n",
       "1                       0                     149                74.500000   \n",
       "2                     149                     149               149.000000   \n",
       "3                     149                     149               149.000000   \n",
       "4                     149                     149               149.000000   \n",
       "\n",
       "   actual_amount_paid_std  actual_amount_paid_sum  is_auto_renew_mean  \\\n",
       "0               10.271052                    1966                 1.0   \n",
       "1              105.358910                     149                 1.0   \n",
       "2                0.000000                    1490                 1.0   \n",
       "3                0.000000                    1490                 1.0   \n",
       "4                0.000000                    1490                 1.0   \n",
       "\n",
       "   is_auto_renew_sum  is_cancel_sum  is_cancel_mean  msno_count_x  \\\n",
       "0                 14              0             0.0            14   \n",
       "1                  2              0             0.0             2   \n",
       "2                 10              0             0.0            10   \n",
       "3                 10              0             0.0            10   \n",
       "4                 10              0             0.0            10   \n",
       "\n",
       "   diff_dates_min  diff_dates_max  diff_dates_mean  diff_dates_std  \\\n",
       "0            28.0            31.0        30.461538        0.877058   \n",
       "1            30.0            30.0        30.000000             NaN   \n",
       "2            29.0            91.0        37.222222       20.179060   \n",
       "3            29.0            91.0        37.222222       20.179060   \n",
       "4            29.0            91.0        37.222222       20.179060   \n",
       "\n",
       "   churn_mean  churn_sum  days_last_trx  total_secs_sum  total_secs_mean  \\\n",
       "0         0.0          0             17      734871.354      4175.405420   \n",
       "1         0.0          0              6      324433.423     10138.544469   \n",
       "2         0.0          0              1       69004.891      9857.841571   \n",
       "3         0.0          0              1     2648108.911      8301.281853   \n",
       "4         0.0          0              1     4114332.184     12172.580426   \n",
       "\n",
       "   total_secs_std  num_unq_sum  num_unq_mean  num_unq_std  msno_count_y  \\\n",
       "0     4063.203137       3793.0     21.551136    19.234430         176.0   \n",
       "1     8666.467367       1217.0     38.031250    29.233419          32.0   \n",
       "2    14085.226397        234.0     33.428571    31.775359           7.0   \n",
       "3     6947.821911      10616.0     33.278997    26.210037         319.0   \n",
       "4    10113.703549      14881.0     44.026627    35.228870         338.0   \n",
       "\n",
       "   nbr_logins_monthly_mean  nbr_logins_monthly_max  nbr_logins_monthly_min  \\\n",
       "0                16.576923                    29.0                     1.0   \n",
       "1                16.750000                    29.0                     5.0   \n",
       "2                 6.882353                    25.0                     1.0   \n",
       "3                24.269231                    31.0                    14.0   \n",
       "4                25.038462                    30.0                    19.0   \n",
       "\n",
       "   nbr_logins_monthly_std  nbr_logins_monthly_count  last_login_days  \n",
       "0                8.782588                      26.0              1.0  \n",
       "1               13.022417                       4.0              1.0  \n",
       "2                8.469669                      17.0              1.0  \n",
       "3                4.229021                      26.0              1.0  \n",
       "4                3.504064                      26.0              1.0  "
      ]
     },
     "execution_count": 49,
     "metadata": {},
     "output_type": "execute_result"
    }
   ],
   "source": [
    "old.head()"
   ]
  },
  {
   "cell_type": "code",
   "execution_count": 51,
   "id": "16f55266",
   "metadata": {
    "ExecuteTime": {
     "end_time": "2022-07-11T10:25:28.853534Z",
     "start_time": "2022-07-11T10:25:28.830394Z"
    }
   },
   "outputs": [
    {
     "data": {
      "text/plain": [
       "201701    867529\n",
       "201603    806704\n",
       "201604    730156\n",
       "Name: date_pred, dtype: int64"
      ]
     },
     "execution_count": 51,
     "metadata": {},
     "output_type": "execute_result"
    }
   ],
   "source": [
    "old.date_pred.value_counts()"
   ]
  },
  {
   "cell_type": "code",
   "execution_count": null,
   "id": "34ce3f48",
   "metadata": {},
   "outputs": [],
   "source": []
  }
 ],
 "metadata": {
  "kernelspec": {
   "display_name": "env",
   "language": "python",
   "name": "env"
  },
  "language_info": {
   "codemirror_mode": {
    "name": "ipython",
    "version": 3
   },
   "file_extension": ".py",
   "mimetype": "text/x-python",
   "name": "python",
   "nbconvert_exporter": "python",
   "pygments_lexer": "ipython3",
   "version": "3.8.13"
  },
  "toc": {
   "base_numbering": 1,
   "nav_menu": {},
   "number_sections": true,
   "sideBar": true,
   "skip_h1_title": false,
   "title_cell": "Table of Contents",
   "title_sidebar": "Contents",
   "toc_cell": false,
   "toc_position": {},
   "toc_section_display": true,
   "toc_window_display": false
  }
 },
 "nbformat": 4,
 "nbformat_minor": 5
}
