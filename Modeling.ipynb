{
 "cells": [
  {
   "cell_type": "markdown",
   "metadata": {
    "toc": true
   },
   "source": [
    "<h1>Table of Contents<span class=\"tocSkip\"></span></h1>\n",
    "<div class=\"toc\"><ul class=\"toc-item\"><li><span><a href=\"#Training-using-all-columns-and-25%-training-sample\" data-toc-modified-id=\"Training-using-all-columns-and-25%-training-sample-1\"><span class=\"toc-item-num\">1&nbsp;&nbsp;</span>Training using all columns and 25% training sample</a></span><ul class=\"toc-item\"><li><span><a href=\"#XGBoost-with-default-parameters\" data-toc-modified-id=\"XGBoost-with-default-parameters-1.1\"><span class=\"toc-item-num\">1.1&nbsp;&nbsp;</span>XGBoost with default parameters</a></span></li><li><span><a href=\"#Random-Forest-with-default-parameters\" data-toc-modified-id=\"Random-Forest-with-default-parameters-1.2\"><span class=\"toc-item-num\">1.2&nbsp;&nbsp;</span>Random Forest with default parameters</a></span></li><li><span><a href=\"#Catboost-with-default-parameters\" data-toc-modified-id=\"Catboost-with-default-parameters-1.3\"><span class=\"toc-item-num\">1.3&nbsp;&nbsp;</span>Catboost with default parameters</a></span></li><li><span><a href=\"#K-nearest-Neighbors\" data-toc-modified-id=\"K-nearest-Neighbors-1.4\"><span class=\"toc-item-num\">1.4&nbsp;&nbsp;</span>K-nearest Neighbors</a></span></li><li><span><a href=\"#Logistic-Regression\" data-toc-modified-id=\"Logistic-Regression-1.5\"><span class=\"toc-item-num\">1.5&nbsp;&nbsp;</span>Logistic Regression</a></span></li><li><span><a href=\"#Plotting-the-ROC-curves\" data-toc-modified-id=\"Plotting-the-ROC-curves-1.6\"><span class=\"toc-item-num\">1.6&nbsp;&nbsp;</span>Plotting the ROC curves</a></span><ul class=\"toc-item\"><li><span><a href=\"#Validation-Set-Performance\" data-toc-modified-id=\"Validation-Set-Performance-1.6.1\"><span class=\"toc-item-num\">1.6.1&nbsp;&nbsp;</span>Validation Set Performance</a></span></li><li><span><a href=\"#Test-set-Performance\" data-toc-modified-id=\"Test-set-Performance-1.6.2\"><span class=\"toc-item-num\">1.6.2&nbsp;&nbsp;</span>Test set Performance</a></span></li></ul></li></ul></li><li><span><a href=\"#Training-using-all-columns-and-undersampling-the-majority-class\" data-toc-modified-id=\"Training-using-all-columns-and-undersampling-the-majority-class-2\"><span class=\"toc-item-num\">2&nbsp;&nbsp;</span>Training using all columns and undersampling the majority class</a></span><ul class=\"toc-item\"><li><span><a href=\"#XGBoost-with-default-parameters\" data-toc-modified-id=\"XGBoost-with-default-parameters-2.1\"><span class=\"toc-item-num\">2.1&nbsp;&nbsp;</span>XGBoost with default parameters</a></span></li><li><span><a href=\"#Random-Forest\" data-toc-modified-id=\"Random-Forest-2.2\"><span class=\"toc-item-num\">2.2&nbsp;&nbsp;</span>Random Forest</a></span></li><li><span><a href=\"#CatBoost\" data-toc-modified-id=\"CatBoost-2.3\"><span class=\"toc-item-num\">2.3&nbsp;&nbsp;</span>CatBoost</a></span></li><li><span><a href=\"#Plotting-the-ROC-curves\" data-toc-modified-id=\"Plotting-the-ROC-curves-2.4\"><span class=\"toc-item-num\">2.4&nbsp;&nbsp;</span>Plotting the ROC curves</a></span><ul class=\"toc-item\"><li><span><a href=\"#Validation-Set-Performance\" data-toc-modified-id=\"Validation-Set-Performance-2.4.1\"><span class=\"toc-item-num\">2.4.1&nbsp;&nbsp;</span>Validation Set Performance</a></span></li><li><span><a href=\"#Test-set-Performance\" data-toc-modified-id=\"Test-set-Performance-2.4.2\"><span class=\"toc-item-num\">2.4.2&nbsp;&nbsp;</span>Test set Performance</a></span></li></ul></li></ul></li><li><span><a href=\"#Training-using-all-the-data-and-all-columns\" data-toc-modified-id=\"Training-using-all-the-data-and-all-columns-3\"><span class=\"toc-item-num\">3&nbsp;&nbsp;</span>Training using all the data and all columns</a></span></li><li><span><a href=\"#Training-using-undersampled-data-and-continuous-columns\" data-toc-modified-id=\"Training-using-undersampled-data-and-continuous-columns-4\"><span class=\"toc-item-num\">4&nbsp;&nbsp;</span>Training using undersampled data and continuous columns</a></span></li><li><span><a href=\"#Oversampling-using-SMOTE\" data-toc-modified-id=\"Oversampling-using-SMOTE-5\"><span class=\"toc-item-num\">5&nbsp;&nbsp;</span>Oversampling using SMOTE</a></span></li><li><span><a href=\"#Balancing-positive-and-negative-weights-with-scale_pos_weight\" data-toc-modified-id=\"Balancing-positive-and-negative-weights-with-scale_pos_weight-6\"><span class=\"toc-item-num\">6&nbsp;&nbsp;</span>Balancing positive and negative weights with <code>scale_pos_weight</code></a></span></li><li><span><a href=\"#Basic-For-Loop-for-Feature-Selection\" data-toc-modified-id=\"Basic-For-Loop-for-Feature-Selection-7\"><span class=\"toc-item-num\">7&nbsp;&nbsp;</span>Basic For Loop for Feature Selection</a></span></li><li><span><a href=\"#Hyperrparameter-Tuning-for-XGBoost\" data-toc-modified-id=\"Hyperrparameter-Tuning-for-XGBoost-8\"><span class=\"toc-item-num\">8&nbsp;&nbsp;</span>Hyperrparameter Tuning for XGBoost</a></span></li></ul></div>"
   ]
  },
  {
   "cell_type": "code",
   "execution_count": 183,
   "metadata": {
    "ExecuteTime": {
     "end_time": "2022-07-14T23:32:46.283329Z",
     "start_time": "2022-07-14T23:32:45.928611Z"
    },
    "colab": {
     "base_uri": "https://localhost:8080/"
    },
    "id": "abaC3wwGGnHs",
    "outputId": "38447258-b896-46a5-e71c-66e35be50289"
   },
   "outputs": [],
   "source": [
    "%matplotlib inline\n",
    "import pandas as pd\n",
    "import matplotlib.pyplot as plt\n",
    "import seaborn as sns\n",
    "import altair as alt\n",
    "import warnings\n",
    "import numpy as np\n",
    "import dask.dataframe as dd\n",
    "import os\n",
    "import itertools\n",
    "import matplotlib.ticker as ticker\n",
    "from xgboost import XGBClassifier\n",
    "from sklearn.metrics import roc_auc_score\n",
    "from sklearn.metrics import log_loss\n",
    "from sklearn.ensemble import RandomForestClassifier\n",
    "from imblearn.over_sampling import SMOTE \n",
    "from catboost import CatBoostClassifier\n",
    "from sklearn.preprocessing import StandardScaler\n",
    "from sklearn.metrics import roc_curve\n",
    "from sklearn.neighbors import KNeighborsClassifier\n",
    "from imblearn.under_sampling import RandomUnderSampler\n",
    "from sklearn.linear_model import LogisticRegression\n",
    "from imblearn.over_sampling import SMOTE \n",
    "from hyperopt import hp, fmin, tpe, STATUS_OK, Trials\n",
    "# from google.colab import drive\n",
    "\n",
    "# drive.mount('/content/drive', force_remount=True)\n",
    "pd.set_option('display.max_columns', 500)\n",
    "pd.set_option('display.max_rows', 500)\n",
    "alt.renderers.enable('default')\n",
    "sns.set_theme(style=\"darkgrid\")\n",
    "warnings.filterwarnings('ignore')\n",
    "sns.set_palette(sns.color_palette(\"Set3\"))"
   ]
  },
  {
   "cell_type": "code",
   "execution_count": 2,
   "metadata": {
    "ExecuteTime": {
     "end_time": "2022-07-14T22:26:51.740868Z",
     "start_time": "2022-07-14T22:26:37.379280Z"
    },
    "id": "wf-FDLMGGroH"
   },
   "outputs": [],
   "source": [
    "# df = pd.read_csv('/content/drive/MyDrive/ml_projects/churn_prediction/final_masterTable.csv')\n",
    "df = pd.read_csv('final_masterTable.csv')"
   ]
  },
  {
   "cell_type": "code",
   "execution_count": 3,
   "metadata": {
    "ExecuteTime": {
     "end_time": "2022-07-14T22:26:51.907919Z",
     "start_time": "2022-07-14T22:26:51.743612Z"
    },
    "colab": {
     "base_uri": "https://localhost:8080/",
     "height": 300
    },
    "id": "k6o6ltzMI9UH",
    "outputId": "c23a0062-9d89-4cd2-b408-4eac21fb382c"
   },
   "outputs": [
    {
     "data": {
      "text/html": [
       "<div>\n",
       "<style scoped>\n",
       "    .dataframe tbody tr th:only-of-type {\n",
       "        vertical-align: middle;\n",
       "    }\n",
       "\n",
       "    .dataframe tbody tr th {\n",
       "        vertical-align: top;\n",
       "    }\n",
       "\n",
       "    .dataframe thead th {\n",
       "        text-align: right;\n",
       "    }\n",
       "</style>\n",
       "<table border=\"1\" class=\"dataframe\">\n",
       "  <thead>\n",
       "    <tr style=\"text-align: right;\">\n",
       "      <th></th>\n",
       "      <th></th>\n",
       "      <th>count_churn</th>\n",
       "    </tr>\n",
       "    <tr>\n",
       "      <th>date_pred</th>\n",
       "      <th>is_churn</th>\n",
       "      <th></th>\n",
       "    </tr>\n",
       "  </thead>\n",
       "  <tbody>\n",
       "    <tr>\n",
       "      <th rowspan=\"2\" valign=\"top\">201701</th>\n",
       "      <th>0</th>\n",
       "      <td>828403</td>\n",
       "    </tr>\n",
       "    <tr>\n",
       "      <th>1</th>\n",
       "      <td>39126</td>\n",
       "    </tr>\n",
       "    <tr>\n",
       "      <th rowspan=\"2\" valign=\"top\">201702</th>\n",
       "      <th>0</th>\n",
       "      <td>929460</td>\n",
       "    </tr>\n",
       "    <tr>\n",
       "      <th>1</th>\n",
       "      <td>63471</td>\n",
       "    </tr>\n",
       "    <tr>\n",
       "      <th rowspan=\"2\" valign=\"top\">201703</th>\n",
       "      <th>0</th>\n",
       "      <td>883630</td>\n",
       "    </tr>\n",
       "    <tr>\n",
       "      <th>1</th>\n",
       "      <td>87330</td>\n",
       "    </tr>\n",
       "    <tr>\n",
       "      <th>201704</th>\n",
       "      <th>0</th>\n",
       "      <td>907471</td>\n",
       "    </tr>\n",
       "  </tbody>\n",
       "</table>\n",
       "</div>"
      ],
      "text/plain": [
       "                    count_churn\n",
       "date_pred is_churn             \n",
       "201701    0              828403\n",
       "          1               39126\n",
       "201702    0              929460\n",
       "          1               63471\n",
       "201703    0              883630\n",
       "          1               87330\n",
       "201704    0              907471"
      ]
     },
     "execution_count": 3,
     "metadata": {},
     "output_type": "execute_result"
    }
   ],
   "source": [
    "df.groupby('date_pred')['is_churn'].value_counts().to_frame('count_churn')"
   ]
  },
  {
   "cell_type": "code",
   "execution_count": 4,
   "metadata": {
    "ExecuteTime": {
     "end_time": "2022-07-14T22:26:52.631528Z",
     "start_time": "2022-07-14T22:26:51.914232Z"
    },
    "id": "5lxFOGdTOand"
   },
   "outputs": [],
   "source": [
    "df.fillna(0, inplace=True)\n",
    "df.reset_index(drop=True, inplace=True)"
   ]
  },
  {
   "cell_type": "markdown",
   "metadata": {
    "id": "O_zqBYamKxSk"
   },
   "source": [
    "# Training using all columns and 25% training sample"
   ]
  },
  {
   "cell_type": "code",
   "execution_count": 5,
   "metadata": {
    "ExecuteTime": {
     "end_time": "2022-07-14T22:26:52.912476Z",
     "start_time": "2022-07-14T22:26:52.632550Z"
    },
    "id": "57Tn0VQGRsJF"
   },
   "outputs": [],
   "source": [
    "sample_train = df[df.date_pred == 201701].sample(frac=0.25, random_state=0).reset_index(drop=True)"
   ]
  },
  {
   "cell_type": "code",
   "execution_count": 6,
   "metadata": {
    "ExecuteTime": {
     "end_time": "2022-07-14T22:26:53.726618Z",
     "start_time": "2022-07-14T22:26:52.913605Z"
    },
    "id": "PGR557vNQ9KQ"
   },
   "outputs": [],
   "source": [
    "dfMasterTable = pd.concat([sample_train, df[df.date_pred >= 201702]])"
   ]
  },
  {
   "cell_type": "code",
   "execution_count": 7,
   "metadata": {
    "ExecuteTime": {
     "end_time": "2022-07-14T22:26:53.873584Z",
     "start_time": "2022-07-14T22:26:53.727737Z"
    },
    "colab": {
     "base_uri": "https://localhost:8080/",
     "height": 300
    },
    "id": "Hnyj0v66SsDN",
    "outputId": "ee626c85-a4bc-4218-eac6-4d94c005a375"
   },
   "outputs": [
    {
     "data": {
      "text/html": [
       "<div>\n",
       "<style scoped>\n",
       "    .dataframe tbody tr th:only-of-type {\n",
       "        vertical-align: middle;\n",
       "    }\n",
       "\n",
       "    .dataframe tbody tr th {\n",
       "        vertical-align: top;\n",
       "    }\n",
       "\n",
       "    .dataframe thead th {\n",
       "        text-align: right;\n",
       "    }\n",
       "</style>\n",
       "<table border=\"1\" class=\"dataframe\">\n",
       "  <thead>\n",
       "    <tr style=\"text-align: right;\">\n",
       "      <th></th>\n",
       "      <th></th>\n",
       "      <th>count_churn</th>\n",
       "    </tr>\n",
       "    <tr>\n",
       "      <th>date_pred</th>\n",
       "      <th>is_churn</th>\n",
       "      <th></th>\n",
       "    </tr>\n",
       "  </thead>\n",
       "  <tbody>\n",
       "    <tr>\n",
       "      <th rowspan=\"2\" valign=\"top\">201701</th>\n",
       "      <th>0</th>\n",
       "      <td>207202</td>\n",
       "    </tr>\n",
       "    <tr>\n",
       "      <th>1</th>\n",
       "      <td>9680</td>\n",
       "    </tr>\n",
       "    <tr>\n",
       "      <th rowspan=\"2\" valign=\"top\">201702</th>\n",
       "      <th>0</th>\n",
       "      <td>929460</td>\n",
       "    </tr>\n",
       "    <tr>\n",
       "      <th>1</th>\n",
       "      <td>63471</td>\n",
       "    </tr>\n",
       "    <tr>\n",
       "      <th rowspan=\"2\" valign=\"top\">201703</th>\n",
       "      <th>0</th>\n",
       "      <td>883630</td>\n",
       "    </tr>\n",
       "    <tr>\n",
       "      <th>1</th>\n",
       "      <td>87330</td>\n",
       "    </tr>\n",
       "    <tr>\n",
       "      <th>201704</th>\n",
       "      <th>0</th>\n",
       "      <td>907471</td>\n",
       "    </tr>\n",
       "  </tbody>\n",
       "</table>\n",
       "</div>"
      ],
      "text/plain": [
       "                    count_churn\n",
       "date_pred is_churn             \n",
       "201701    0              207202\n",
       "          1                9680\n",
       "201702    0              929460\n",
       "          1               63471\n",
       "201703    0              883630\n",
       "          1               87330\n",
       "201704    0              907471"
      ]
     },
     "execution_count": 7,
     "metadata": {},
     "output_type": "execute_result"
    }
   ],
   "source": [
    "dfMasterTable.groupby('date_pred')['is_churn'].value_counts().to_frame('count_churn')"
   ]
  },
  {
   "cell_type": "code",
   "execution_count": 8,
   "metadata": {
    "ExecuteTime": {
     "end_time": "2022-07-14T22:26:53.877583Z",
     "start_time": "2022-07-14T22:26:53.874773Z"
    },
    "id": "EzBCcNX5Wnw_"
   },
   "outputs": [],
   "source": [
    "cont_cols = [x for x in dfMasterTable.columns if not (x.startswith('city') or x.startswith('registered') or x in ['gender', 'msno', 'is_churn', 'date_pred'])]"
   ]
  },
  {
   "cell_type": "code",
   "execution_count": 9,
   "metadata": {
    "ExecuteTime": {
     "end_time": "2022-07-14T22:26:53.883635Z",
     "start_time": "2022-07-14T22:26:53.881219Z"
    },
    "colab": {
     "base_uri": "https://localhost:8080/"
    },
    "id": "L8vfq7ggYsu3",
    "outputId": "35499753-6344-4c3b-ea42-487bdae89d86"
   },
   "outputs": [
    {
     "name": "stdout",
     "output_type": "stream",
     "text": [
      "['bd', 'tenure_days', 'actual_amount_paid_min', 'actual_amount_paid_max', 'actual_amount_paid_mean', 'actual_amount_paid_std', 'actual_amount_paid_sum', 'is_auto_renew_mean', 'is_auto_renew_sum', 'is_cancel_sum', 'is_cancel_mean', 'msno_count_x', 'diff_dates_min', 'diff_dates_max', 'diff_dates_mean', 'diff_dates_std', 'churn_mean', 'churn_sum', 'days_last_trx', 'total_secs_sum', 'total_secs_mean', 'total_secs_std', 'num_unq_sum', 'num_unq_mean', 'num_unq_std', 'msno_count_y', 'nbr_logins_monthly_mean', 'nbr_logins_monthly_max', 'nbr_logins_monthly_min', 'nbr_logins_monthly_std', 'nbr_logins_monthly_count', 'last_login_days']\n"
     ]
    }
   ],
   "source": [
    "print(cont_cols)"
   ]
  },
  {
   "cell_type": "code",
   "execution_count": 10,
   "metadata": {
    "ExecuteTime": {
     "end_time": "2022-07-14T22:27:03.063758Z",
     "start_time": "2022-07-14T22:26:53.884844Z"
    },
    "id": "aqtykiuhXR5u"
   },
   "outputs": [],
   "source": [
    "dfMasterTable_scaled = dfMasterTable.copy()\n",
    "sc = StandardScaler()\n",
    "dfMasterTable_scaled[cont_cols] = sc.fit_transform(dfMasterTable_scaled[cont_cols])"
   ]
  },
  {
   "cell_type": "code",
   "execution_count": 11,
   "metadata": {
    "ExecuteTime": {
     "end_time": "2022-07-14T22:27:03.394987Z",
     "start_time": "2022-07-14T22:27:03.064835Z"
    },
    "id": "-CWYzFEVKqX3"
   },
   "outputs": [],
   "source": [
    "train_df = dfMasterTable[dfMasterTable.date_pred == 201701]\n",
    "validation_df = dfMasterTable[dfMasterTable.date_pred == 201702]\n",
    "test_df = dfMasterTable[dfMasterTable.date_pred == 201703]"
   ]
  },
  {
   "cell_type": "code",
   "execution_count": 12,
   "metadata": {
    "ExecuteTime": {
     "end_time": "2022-07-14T22:27:03.642264Z",
     "start_time": "2022-07-14T22:27:03.396052Z"
    },
    "id": "q6sZS7J4MMQM"
   },
   "outputs": [],
   "source": [
    "X_train = train_df.drop(['msno', 'is_churn', 'date_pred'], 1).values\n",
    "y_train = train_df['is_churn'].values\n",
    "\n",
    "X_val = validation_df.drop(['msno', 'is_churn', 'date_pred'], 1).values\n",
    "y_val = validation_df['is_churn'].values\n",
    "\n",
    "X_test = test_df.drop(['msno', 'is_churn', 'date_pred'], 1).values\n",
    "y_test = test_df['is_churn'].values"
   ]
  },
  {
   "cell_type": "code",
   "execution_count": 13,
   "metadata": {
    "ExecuteTime": {
     "end_time": "2022-07-14T22:27:05.303267Z",
     "start_time": "2022-07-14T22:27:03.643346Z"
    },
    "id": "A1rDzl_tXWfA"
   },
   "outputs": [],
   "source": [
    "train_df_scaled = dfMasterTable_scaled[dfMasterTable_scaled.date_pred == 201701]\n",
    "validation_df_scaled = dfMasterTable_scaled[dfMasterTable_scaled.date_pred == 201702]\n",
    "test_df_scaled = dfMasterTable_scaled[dfMasterTable_scaled.date_pred == 201703]"
   ]
  },
  {
   "cell_type": "code",
   "execution_count": 14,
   "metadata": {
    "ExecuteTime": {
     "end_time": "2022-07-14T22:27:05.540954Z",
     "start_time": "2022-07-14T22:27:05.304359Z"
    },
    "id": "aszm5UlNYVhL"
   },
   "outputs": [],
   "source": [
    "X_train_scaled = train_df_scaled.drop(['msno', 'is_churn', 'date_pred'], 1).values\n",
    "\n",
    "X_val_scaled = validation_df_scaled.drop(['msno', 'is_churn', 'date_pred'], 1).values\n",
    "\n",
    "X_test_scaled = test_df_scaled.drop(['msno', 'is_churn', 'date_pred'], 1).values"
   ]
  },
  {
   "cell_type": "code",
   "execution_count": 15,
   "metadata": {
    "ExecuteTime": {
     "end_time": "2022-07-14T22:27:05.738263Z",
     "start_time": "2022-07-14T22:27:05.542133Z"
    },
    "id": "Nii1Uiq3ltGW"
   },
   "outputs": [],
   "source": [
    "del dfMasterTable, dfMasterTable_scaled, train_df, validation_df, test_df, train_df_scaled, test_df_scaled, validation_df_scaled"
   ]
  },
  {
   "cell_type": "markdown",
   "metadata": {
    "id": "5VKdFPTzK2Fk"
   },
   "source": [
    "## XGBoost with default parameters"
   ]
  },
  {
   "cell_type": "code",
   "execution_count": 16,
   "metadata": {
    "ExecuteTime": {
     "end_time": "2022-07-14T22:27:07.631738Z",
     "start_time": "2022-07-14T22:27:05.739338Z"
    },
    "colab": {
     "base_uri": "https://localhost:8080/"
    },
    "id": "8FQ_OiRXMToZ",
    "outputId": "b9b063c9-2ce4-4715-82d8-90cca7cf8c66"
   },
   "outputs": [
    {
     "data": {
      "text/html": [
       "<style>#sk-container-id-1 {color: black;background-color: white;}#sk-container-id-1 pre{padding: 0;}#sk-container-id-1 div.sk-toggleable {background-color: white;}#sk-container-id-1 label.sk-toggleable__label {cursor: pointer;display: block;width: 100%;margin-bottom: 0;padding: 0.3em;box-sizing: border-box;text-align: center;}#sk-container-id-1 label.sk-toggleable__label-arrow:before {content: \"▸\";float: left;margin-right: 0.25em;color: #696969;}#sk-container-id-1 label.sk-toggleable__label-arrow:hover:before {color: black;}#sk-container-id-1 div.sk-estimator:hover label.sk-toggleable__label-arrow:before {color: black;}#sk-container-id-1 div.sk-toggleable__content {max-height: 0;max-width: 0;overflow: hidden;text-align: left;background-color: #f0f8ff;}#sk-container-id-1 div.sk-toggleable__content pre {margin: 0.2em;color: black;border-radius: 0.25em;background-color: #f0f8ff;}#sk-container-id-1 input.sk-toggleable__control:checked~div.sk-toggleable__content {max-height: 200px;max-width: 100%;overflow: auto;}#sk-container-id-1 input.sk-toggleable__control:checked~label.sk-toggleable__label-arrow:before {content: \"▾\";}#sk-container-id-1 div.sk-estimator input.sk-toggleable__control:checked~label.sk-toggleable__label {background-color: #d4ebff;}#sk-container-id-1 div.sk-label input.sk-toggleable__control:checked~label.sk-toggleable__label {background-color: #d4ebff;}#sk-container-id-1 input.sk-hidden--visually {border: 0;clip: rect(1px 1px 1px 1px);clip: rect(1px, 1px, 1px, 1px);height: 1px;margin: -1px;overflow: hidden;padding: 0;position: absolute;width: 1px;}#sk-container-id-1 div.sk-estimator {font-family: monospace;background-color: #f0f8ff;border: 1px dotted black;border-radius: 0.25em;box-sizing: border-box;margin-bottom: 0.5em;}#sk-container-id-1 div.sk-estimator:hover {background-color: #d4ebff;}#sk-container-id-1 div.sk-parallel-item::after {content: \"\";width: 100%;border-bottom: 1px solid gray;flex-grow: 1;}#sk-container-id-1 div.sk-label:hover label.sk-toggleable__label {background-color: #d4ebff;}#sk-container-id-1 div.sk-serial::before {content: \"\";position: absolute;border-left: 1px solid gray;box-sizing: border-box;top: 0;bottom: 0;left: 50%;z-index: 0;}#sk-container-id-1 div.sk-serial {display: flex;flex-direction: column;align-items: center;background-color: white;padding-right: 0.2em;padding-left: 0.2em;position: relative;}#sk-container-id-1 div.sk-item {position: relative;z-index: 1;}#sk-container-id-1 div.sk-parallel {display: flex;align-items: stretch;justify-content: center;background-color: white;position: relative;}#sk-container-id-1 div.sk-item::before, #sk-container-id-1 div.sk-parallel-item::before {content: \"\";position: absolute;border-left: 1px solid gray;box-sizing: border-box;top: 0;bottom: 0;left: 50%;z-index: -1;}#sk-container-id-1 div.sk-parallel-item {display: flex;flex-direction: column;z-index: 1;position: relative;background-color: white;}#sk-container-id-1 div.sk-parallel-item:first-child::after {align-self: flex-end;width: 50%;}#sk-container-id-1 div.sk-parallel-item:last-child::after {align-self: flex-start;width: 50%;}#sk-container-id-1 div.sk-parallel-item:only-child::after {width: 0;}#sk-container-id-1 div.sk-dashed-wrapped {border: 1px dashed gray;margin: 0 0.4em 0.5em 0.4em;box-sizing: border-box;padding-bottom: 0.4em;background-color: white;}#sk-container-id-1 div.sk-label label {font-family: monospace;font-weight: bold;display: inline-block;line-height: 1.2em;}#sk-container-id-1 div.sk-label-container {text-align: center;}#sk-container-id-1 div.sk-container {/* jupyter's `normalize.less` sets `[hidden] { display: none; }` but bootstrap.min.css set `[hidden] { display: none !important; }` so we also need the `!important` here to be able to override the default hidden behavior on the sphinx rendered scikit-learn.org. See: https://github.com/scikit-learn/scikit-learn/issues/21755 */display: inline-block !important;position: relative;}#sk-container-id-1 div.sk-text-repr-fallback {display: none;}</style><div id=\"sk-container-id-1\" class=\"sk-top-container\"><div class=\"sk-text-repr-fallback\"><pre>XGBClassifier(base_score=0.5, booster=&#x27;gbtree&#x27;, callbacks=None,\n",
       "              colsample_bylevel=1, colsample_bynode=1, colsample_bytree=1,\n",
       "              early_stopping_rounds=None, enable_categorical=False,\n",
       "              eval_metric=None, gamma=0, gpu_id=-1, grow_policy=&#x27;depthwise&#x27;,\n",
       "              importance_type=None, interaction_constraints=&#x27;&#x27;,\n",
       "              learning_rate=0.300000012, max_bin=256, max_cat_to_onehot=4,\n",
       "              max_delta_step=0, max_depth=6, max_leaves=0, min_child_weight=1,\n",
       "              missing=nan, monotone_constraints=&#x27;()&#x27;, n_estimators=100,\n",
       "              n_jobs=-1, num_parallel_tree=1, predictor=&#x27;auto&#x27;, random_state=0,\n",
       "              reg_alpha=0, reg_lambda=1, ...)</pre><b>In a Jupyter environment, please rerun this cell to show the HTML representation or trust the notebook. <br />On GitHub, the HTML representation is unable to render, please try loading this page with nbviewer.org.</b></div><div class=\"sk-container\" hidden><div class=\"sk-item\"><div class=\"sk-estimator sk-toggleable\"><input class=\"sk-toggleable__control sk-hidden--visually\" id=\"sk-estimator-id-1\" type=\"checkbox\" checked><label for=\"sk-estimator-id-1\" class=\"sk-toggleable__label sk-toggleable__label-arrow\">XGBClassifier</label><div class=\"sk-toggleable__content\"><pre>XGBClassifier(base_score=0.5, booster=&#x27;gbtree&#x27;, callbacks=None,\n",
       "              colsample_bylevel=1, colsample_bynode=1, colsample_bytree=1,\n",
       "              early_stopping_rounds=None, enable_categorical=False,\n",
       "              eval_metric=None, gamma=0, gpu_id=-1, grow_policy=&#x27;depthwise&#x27;,\n",
       "              importance_type=None, interaction_constraints=&#x27;&#x27;,\n",
       "              learning_rate=0.300000012, max_bin=256, max_cat_to_onehot=4,\n",
       "              max_delta_step=0, max_depth=6, max_leaves=0, min_child_weight=1,\n",
       "              missing=nan, monotone_constraints=&#x27;()&#x27;, n_estimators=100,\n",
       "              n_jobs=-1, num_parallel_tree=1, predictor=&#x27;auto&#x27;, random_state=0,\n",
       "              reg_alpha=0, reg_lambda=1, ...)</pre></div></div></div></div></div>"
      ],
      "text/plain": [
       "XGBClassifier(base_score=0.5, booster='gbtree', callbacks=None,\n",
       "              colsample_bylevel=1, colsample_bynode=1, colsample_bytree=1,\n",
       "              early_stopping_rounds=None, enable_categorical=False,\n",
       "              eval_metric=None, gamma=0, gpu_id=-1, grow_policy='depthwise',\n",
       "              importance_type=None, interaction_constraints='',\n",
       "              learning_rate=0.300000012, max_bin=256, max_cat_to_onehot=4,\n",
       "              max_delta_step=0, max_depth=6, max_leaves=0, min_child_weight=1,\n",
       "              missing=nan, monotone_constraints='()', n_estimators=100,\n",
       "              n_jobs=-1, num_parallel_tree=1, predictor='auto', random_state=0,\n",
       "              reg_alpha=0, reg_lambda=1, ...)"
      ]
     },
     "execution_count": 16,
     "metadata": {},
     "output_type": "execute_result"
    }
   ],
   "source": [
    "# we will use history binning for XGBoost to speed up the training process\n",
    "xgb_all_cols = XGBClassifier(n_jobs=-1, tree_method=\"hist\", random_state=0)\n",
    "xgb_all_cols.fit(X_train, y_train)"
   ]
  },
  {
   "cell_type": "code",
   "execution_count": 17,
   "metadata": {
    "ExecuteTime": {
     "end_time": "2022-07-14T22:27:07.638879Z",
     "start_time": "2022-07-14T22:27:07.634771Z"
    },
    "id": "HMCrL4-BBBm9"
   },
   "outputs": [],
   "source": [
    "def model_predictions(model, validation=X_val, test=X_test):\n",
    "    preds_val_model_all_cols = model.predict_proba(validation)[:, 1]\n",
    "    preds_test_model_all_cols = model.predict_proba(test)[:, 1]\n",
    "    print('validation performance : {:.2f}'.format(roc_auc_score(y_val, preds_val_model_all_cols) * 100))\n",
    "    print('test performance :{:.2f}'.format(roc_auc_score(y_test, preds_test_model_all_cols) * 100))\n",
    "    return preds_val_model_all_cols, preds_test_model_all_cols"
   ]
  },
  {
   "cell_type": "code",
   "execution_count": 18,
   "metadata": {
    "ExecuteTime": {
     "end_time": "2022-07-14T22:27:09.043261Z",
     "start_time": "2022-07-14T22:27:07.640477Z"
    },
    "colab": {
     "base_uri": "https://localhost:8080/"
    },
    "id": "tkv4LY9YBgoT",
    "outputId": "cd914763-c2c4-45e7-8359-1905b311e567"
   },
   "outputs": [
    {
     "name": "stdout",
     "output_type": "stream",
     "text": [
      "validation performance : 69.26\n",
      "test performance :65.01\n"
     ]
    }
   ],
   "source": [
    "preds_val_xgb_all_cols, preds_test_xgb_all_cols = model_predictions(xgb_all_cols)"
   ]
  },
  {
   "cell_type": "code",
   "execution_count": 19,
   "metadata": {
    "ExecuteTime": {
     "end_time": "2022-07-14T22:27:09.046670Z",
     "start_time": "2022-07-14T22:27:09.044517Z"
    },
    "id": "kbBcnzw2Bopk"
   },
   "outputs": [],
   "source": [
    "del xgb_all_cols"
   ]
  },
  {
   "cell_type": "markdown",
   "metadata": {
    "id": "-61IvsxNPTBK"
   },
   "source": [
    "## Random Forest with default parameters"
   ]
  },
  {
   "cell_type": "code",
   "execution_count": 20,
   "metadata": {
    "ExecuteTime": {
     "end_time": "2022-07-14T22:27:33.195120Z",
     "start_time": "2022-07-14T22:27:09.048270Z"
    },
    "colab": {
     "base_uri": "https://localhost:8080/"
    },
    "id": "fy-CulxDLJhc",
    "outputId": "cfac8758-6e97-478f-f2ed-d12cbaf4918e"
   },
   "outputs": [
    {
     "data": {
      "text/html": [
       "<style>#sk-container-id-2 {color: black;background-color: white;}#sk-container-id-2 pre{padding: 0;}#sk-container-id-2 div.sk-toggleable {background-color: white;}#sk-container-id-2 label.sk-toggleable__label {cursor: pointer;display: block;width: 100%;margin-bottom: 0;padding: 0.3em;box-sizing: border-box;text-align: center;}#sk-container-id-2 label.sk-toggleable__label-arrow:before {content: \"▸\";float: left;margin-right: 0.25em;color: #696969;}#sk-container-id-2 label.sk-toggleable__label-arrow:hover:before {color: black;}#sk-container-id-2 div.sk-estimator:hover label.sk-toggleable__label-arrow:before {color: black;}#sk-container-id-2 div.sk-toggleable__content {max-height: 0;max-width: 0;overflow: hidden;text-align: left;background-color: #f0f8ff;}#sk-container-id-2 div.sk-toggleable__content pre {margin: 0.2em;color: black;border-radius: 0.25em;background-color: #f0f8ff;}#sk-container-id-2 input.sk-toggleable__control:checked~div.sk-toggleable__content {max-height: 200px;max-width: 100%;overflow: auto;}#sk-container-id-2 input.sk-toggleable__control:checked~label.sk-toggleable__label-arrow:before {content: \"▾\";}#sk-container-id-2 div.sk-estimator input.sk-toggleable__control:checked~label.sk-toggleable__label {background-color: #d4ebff;}#sk-container-id-2 div.sk-label input.sk-toggleable__control:checked~label.sk-toggleable__label {background-color: #d4ebff;}#sk-container-id-2 input.sk-hidden--visually {border: 0;clip: rect(1px 1px 1px 1px);clip: rect(1px, 1px, 1px, 1px);height: 1px;margin: -1px;overflow: hidden;padding: 0;position: absolute;width: 1px;}#sk-container-id-2 div.sk-estimator {font-family: monospace;background-color: #f0f8ff;border: 1px dotted black;border-radius: 0.25em;box-sizing: border-box;margin-bottom: 0.5em;}#sk-container-id-2 div.sk-estimator:hover {background-color: #d4ebff;}#sk-container-id-2 div.sk-parallel-item::after {content: \"\";width: 100%;border-bottom: 1px solid gray;flex-grow: 1;}#sk-container-id-2 div.sk-label:hover label.sk-toggleable__label {background-color: #d4ebff;}#sk-container-id-2 div.sk-serial::before {content: \"\";position: absolute;border-left: 1px solid gray;box-sizing: border-box;top: 0;bottom: 0;left: 50%;z-index: 0;}#sk-container-id-2 div.sk-serial {display: flex;flex-direction: column;align-items: center;background-color: white;padding-right: 0.2em;padding-left: 0.2em;position: relative;}#sk-container-id-2 div.sk-item {position: relative;z-index: 1;}#sk-container-id-2 div.sk-parallel {display: flex;align-items: stretch;justify-content: center;background-color: white;position: relative;}#sk-container-id-2 div.sk-item::before, #sk-container-id-2 div.sk-parallel-item::before {content: \"\";position: absolute;border-left: 1px solid gray;box-sizing: border-box;top: 0;bottom: 0;left: 50%;z-index: -1;}#sk-container-id-2 div.sk-parallel-item {display: flex;flex-direction: column;z-index: 1;position: relative;background-color: white;}#sk-container-id-2 div.sk-parallel-item:first-child::after {align-self: flex-end;width: 50%;}#sk-container-id-2 div.sk-parallel-item:last-child::after {align-self: flex-start;width: 50%;}#sk-container-id-2 div.sk-parallel-item:only-child::after {width: 0;}#sk-container-id-2 div.sk-dashed-wrapped {border: 1px dashed gray;margin: 0 0.4em 0.5em 0.4em;box-sizing: border-box;padding-bottom: 0.4em;background-color: white;}#sk-container-id-2 div.sk-label label {font-family: monospace;font-weight: bold;display: inline-block;line-height: 1.2em;}#sk-container-id-2 div.sk-label-container {text-align: center;}#sk-container-id-2 div.sk-container {/* jupyter's `normalize.less` sets `[hidden] { display: none; }` but bootstrap.min.css set `[hidden] { display: none !important; }` so we also need the `!important` here to be able to override the default hidden behavior on the sphinx rendered scikit-learn.org. See: https://github.com/scikit-learn/scikit-learn/issues/21755 */display: inline-block !important;position: relative;}#sk-container-id-2 div.sk-text-repr-fallback {display: none;}</style><div id=\"sk-container-id-2\" class=\"sk-top-container\"><div class=\"sk-text-repr-fallback\"><pre>RandomForestClassifier(n_estimators=300, n_jobs=-1, random_state=0)</pre><b>In a Jupyter environment, please rerun this cell to show the HTML representation or trust the notebook. <br />On GitHub, the HTML representation is unable to render, please try loading this page with nbviewer.org.</b></div><div class=\"sk-container\" hidden><div class=\"sk-item\"><div class=\"sk-estimator sk-toggleable\"><input class=\"sk-toggleable__control sk-hidden--visually\" id=\"sk-estimator-id-2\" type=\"checkbox\" checked><label for=\"sk-estimator-id-2\" class=\"sk-toggleable__label sk-toggleable__label-arrow\">RandomForestClassifier</label><div class=\"sk-toggleable__content\"><pre>RandomForestClassifier(n_estimators=300, n_jobs=-1, random_state=0)</pre></div></div></div></div></div>"
      ],
      "text/plain": [
       "RandomForestClassifier(n_estimators=300, n_jobs=-1, random_state=0)"
      ]
     },
     "execution_count": 20,
     "metadata": {},
     "output_type": "execute_result"
    }
   ],
   "source": [
    "rf_all_cols = RandomForestClassifier(n_jobs=-1, n_estimators=300, random_state=0)\n",
    "rf_all_cols.fit(X_train, y_train)"
   ]
  },
  {
   "cell_type": "code",
   "execution_count": 21,
   "metadata": {
    "ExecuteTime": {
     "end_time": "2022-07-14T22:27:47.269772Z",
     "start_time": "2022-07-14T22:27:33.196448Z"
    },
    "colab": {
     "base_uri": "https://localhost:8080/"
    },
    "id": "ufzAQk_LCC3B",
    "outputId": "b6551a4d-28d0-40d7-dff8-4191321a7e9b"
   },
   "outputs": [
    {
     "name": "stdout",
     "output_type": "stream",
     "text": [
      "validation performance : 71.75\n",
      "test performance :69.45\n"
     ]
    }
   ],
   "source": [
    "preds_val_rf_all_cols, preds_test_rf_all_cols = model_predictions(rf_all_cols)"
   ]
  },
  {
   "cell_type": "code",
   "execution_count": 22,
   "metadata": {
    "ExecuteTime": {
     "end_time": "2022-07-14T22:27:47.273018Z",
     "start_time": "2022-07-14T22:27:47.270965Z"
    },
    "id": "aHDV5nb8CYH2"
   },
   "outputs": [],
   "source": [
    "del rf_all_cols"
   ]
  },
  {
   "cell_type": "markdown",
   "metadata": {
    "id": "u9h1XQEDLVLS"
   },
   "source": [
    "## Catboost with default parameters"
   ]
  },
  {
   "cell_type": "code",
   "execution_count": 23,
   "metadata": {
    "ExecuteTime": {
     "end_time": "2022-07-14T22:28:10.307486Z",
     "start_time": "2022-07-14T22:27:47.273967Z"
    },
    "colab": {
     "base_uri": "https://localhost:8080/"
    },
    "id": "hzaxPcUmLoRf",
    "outputId": "11a51376-2352-46e5-fa23-5524ebff5863"
   },
   "outputs": [
    {
     "data": {
      "text/plain": [
       "<catboost.core.CatBoostClassifier at 0x7fbe5300ab80>"
      ]
     },
     "execution_count": 23,
     "metadata": {},
     "output_type": "execute_result"
    }
   ],
   "source": [
    "cat_all_cols = CatBoostClassifier(random_state=0, verbose=0)\n",
    "cat_all_cols.fit(X_train, y_train)"
   ]
  },
  {
   "cell_type": "code",
   "execution_count": 24,
   "metadata": {
    "ExecuteTime": {
     "end_time": "2022-07-14T22:28:11.953432Z",
     "start_time": "2022-07-14T22:28:10.308575Z"
    },
    "colab": {
     "base_uri": "https://localhost:8080/"
    },
    "id": "ZALrFdFSCnYA",
    "outputId": "0b3289a0-7d6e-4459-f49b-a60c7b3394e1"
   },
   "outputs": [
    {
     "name": "stdout",
     "output_type": "stream",
     "text": [
      "validation performance : 69.93\n",
      "test performance :66.82\n"
     ]
    }
   ],
   "source": [
    "preds_val_cat_all_cols, preds_test_cat_all_cols = model_predictions(cat_all_cols)"
   ]
  },
  {
   "cell_type": "code",
   "execution_count": 25,
   "metadata": {
    "ExecuteTime": {
     "end_time": "2022-07-14T22:28:11.956629Z",
     "start_time": "2022-07-14T22:28:11.954565Z"
    },
    "id": "pBmhGQ_TCrzp"
   },
   "outputs": [],
   "source": [
    "del cat_all_cols"
   ]
  },
  {
   "cell_type": "markdown",
   "metadata": {
    "id": "yj0d-p5wZtUN"
   },
   "source": [
    "## K-nearest Neighbors"
   ]
  },
  {
   "cell_type": "markdown",
   "metadata": {
    "id": "1Hr12I0agfga"
   },
   "source": [
    "We need to use the sclaed data for the knn algorithm since the scale of the \n",
    "features is different and since the algorithm is based on distance and uses \n",
    "feature values that particular feature will dominate the distance"
   ]
  },
  {
   "cell_type": "code",
   "execution_count": 26,
   "metadata": {
    "ExecuteTime": {
     "end_time": "2022-07-14T22:28:11.964463Z",
     "start_time": "2022-07-14T22:28:11.957749Z"
    },
    "id": "bJEN1resfvpb"
   },
   "outputs": [],
   "source": [
    "# knn_all_columns = KNeighborsClassifier(n_neighbors=15, n_jobs=-1)\n",
    "# knn_all_columns.fit(X_train_scaled, y_train)\n",
    "# preds_val_knn_all_cols, preds_test_knn_all_cols = model_predictions(knn_all_columns)\n",
    "# del knn_all_columns"
   ]
  },
  {
   "cell_type": "markdown",
   "metadata": {
    "id": "x40kSoung4Ku"
   },
   "source": [
    "## Logistic Regression"
   ]
  },
  {
   "cell_type": "markdown",
   "metadata": {
    "id": "a0xQoduNjqgM"
   },
   "source": [
    "We need to use the scaled data for the logistic regression since it highly recommended especially when using the regularization since Regularization makes the predictor dependent on the scale of the features."
   ]
  },
  {
   "cell_type": "code",
   "execution_count": 27,
   "metadata": {
    "ExecuteTime": {
     "end_time": "2022-07-14T22:28:30.330313Z",
     "start_time": "2022-07-14T22:28:11.968862Z"
    },
    "colab": {
     "base_uri": "https://localhost:8080/"
    },
    "id": "L1CPIG_nkzfa",
    "outputId": "6c5f7ae3-9a92-4f38-878f-9607d4202e45"
   },
   "outputs": [
    {
     "data": {
      "text/html": [
       "<style>#sk-container-id-3 {color: black;background-color: white;}#sk-container-id-3 pre{padding: 0;}#sk-container-id-3 div.sk-toggleable {background-color: white;}#sk-container-id-3 label.sk-toggleable__label {cursor: pointer;display: block;width: 100%;margin-bottom: 0;padding: 0.3em;box-sizing: border-box;text-align: center;}#sk-container-id-3 label.sk-toggleable__label-arrow:before {content: \"▸\";float: left;margin-right: 0.25em;color: #696969;}#sk-container-id-3 label.sk-toggleable__label-arrow:hover:before {color: black;}#sk-container-id-3 div.sk-estimator:hover label.sk-toggleable__label-arrow:before {color: black;}#sk-container-id-3 div.sk-toggleable__content {max-height: 0;max-width: 0;overflow: hidden;text-align: left;background-color: #f0f8ff;}#sk-container-id-3 div.sk-toggleable__content pre {margin: 0.2em;color: black;border-radius: 0.25em;background-color: #f0f8ff;}#sk-container-id-3 input.sk-toggleable__control:checked~div.sk-toggleable__content {max-height: 200px;max-width: 100%;overflow: auto;}#sk-container-id-3 input.sk-toggleable__control:checked~label.sk-toggleable__label-arrow:before {content: \"▾\";}#sk-container-id-3 div.sk-estimator input.sk-toggleable__control:checked~label.sk-toggleable__label {background-color: #d4ebff;}#sk-container-id-3 div.sk-label input.sk-toggleable__control:checked~label.sk-toggleable__label {background-color: #d4ebff;}#sk-container-id-3 input.sk-hidden--visually {border: 0;clip: rect(1px 1px 1px 1px);clip: rect(1px, 1px, 1px, 1px);height: 1px;margin: -1px;overflow: hidden;padding: 0;position: absolute;width: 1px;}#sk-container-id-3 div.sk-estimator {font-family: monospace;background-color: #f0f8ff;border: 1px dotted black;border-radius: 0.25em;box-sizing: border-box;margin-bottom: 0.5em;}#sk-container-id-3 div.sk-estimator:hover {background-color: #d4ebff;}#sk-container-id-3 div.sk-parallel-item::after {content: \"\";width: 100%;border-bottom: 1px solid gray;flex-grow: 1;}#sk-container-id-3 div.sk-label:hover label.sk-toggleable__label {background-color: #d4ebff;}#sk-container-id-3 div.sk-serial::before {content: \"\";position: absolute;border-left: 1px solid gray;box-sizing: border-box;top: 0;bottom: 0;left: 50%;z-index: 0;}#sk-container-id-3 div.sk-serial {display: flex;flex-direction: column;align-items: center;background-color: white;padding-right: 0.2em;padding-left: 0.2em;position: relative;}#sk-container-id-3 div.sk-item {position: relative;z-index: 1;}#sk-container-id-3 div.sk-parallel {display: flex;align-items: stretch;justify-content: center;background-color: white;position: relative;}#sk-container-id-3 div.sk-item::before, #sk-container-id-3 div.sk-parallel-item::before {content: \"\";position: absolute;border-left: 1px solid gray;box-sizing: border-box;top: 0;bottom: 0;left: 50%;z-index: -1;}#sk-container-id-3 div.sk-parallel-item {display: flex;flex-direction: column;z-index: 1;position: relative;background-color: white;}#sk-container-id-3 div.sk-parallel-item:first-child::after {align-self: flex-end;width: 50%;}#sk-container-id-3 div.sk-parallel-item:last-child::after {align-self: flex-start;width: 50%;}#sk-container-id-3 div.sk-parallel-item:only-child::after {width: 0;}#sk-container-id-3 div.sk-dashed-wrapped {border: 1px dashed gray;margin: 0 0.4em 0.5em 0.4em;box-sizing: border-box;padding-bottom: 0.4em;background-color: white;}#sk-container-id-3 div.sk-label label {font-family: monospace;font-weight: bold;display: inline-block;line-height: 1.2em;}#sk-container-id-3 div.sk-label-container {text-align: center;}#sk-container-id-3 div.sk-container {/* jupyter's `normalize.less` sets `[hidden] { display: none; }` but bootstrap.min.css set `[hidden] { display: none !important; }` so we also need the `!important` here to be able to override the default hidden behavior on the sphinx rendered scikit-learn.org. See: https://github.com/scikit-learn/scikit-learn/issues/21755 */display: inline-block !important;position: relative;}#sk-container-id-3 div.sk-text-repr-fallback {display: none;}</style><div id=\"sk-container-id-3\" class=\"sk-top-container\"><div class=\"sk-text-repr-fallback\"><pre>LogisticRegression(n_jobs=-1, random_state=0)</pre><b>In a Jupyter environment, please rerun this cell to show the HTML representation or trust the notebook. <br />On GitHub, the HTML representation is unable to render, please try loading this page with nbviewer.org.</b></div><div class=\"sk-container\" hidden><div class=\"sk-item\"><div class=\"sk-estimator sk-toggleable\"><input class=\"sk-toggleable__control sk-hidden--visually\" id=\"sk-estimator-id-3\" type=\"checkbox\" checked><label for=\"sk-estimator-id-3\" class=\"sk-toggleable__label sk-toggleable__label-arrow\">LogisticRegression</label><div class=\"sk-toggleable__content\"><pre>LogisticRegression(n_jobs=-1, random_state=0)</pre></div></div></div></div></div>"
      ],
      "text/plain": [
       "LogisticRegression(n_jobs=-1, random_state=0)"
      ]
     },
     "execution_count": 27,
     "metadata": {},
     "output_type": "execute_result"
    }
   ],
   "source": [
    "lr_all_cols = LogisticRegression(random_state=0, n_jobs=-1)\n",
    "lr_all_cols.fit(X_train_scaled, y_train)"
   ]
  },
  {
   "cell_type": "code",
   "execution_count": 28,
   "metadata": {
    "ExecuteTime": {
     "end_time": "2022-07-14T22:28:30.899283Z",
     "start_time": "2022-07-14T22:28:30.331725Z"
    },
    "colab": {
     "base_uri": "https://localhost:8080/"
    },
    "id": "iRCocYZ6Flzx",
    "outputId": "a48d0dcc-2986-4d9f-9830-76bf829213a6"
   },
   "outputs": [
    {
     "name": "stdout",
     "output_type": "stream",
     "text": [
      "validation performance : 49.57\n",
      "test performance :46.82\n"
     ]
    }
   ],
   "source": [
    "preds_val_lr_all_cols, preds_test_lr_all_cols = model_predictions(lr_all_cols)"
   ]
  },
  {
   "cell_type": "code",
   "execution_count": 29,
   "metadata": {
    "ExecuteTime": {
     "end_time": "2022-07-14T22:28:30.903093Z",
     "start_time": "2022-07-14T22:28:30.901032Z"
    },
    "id": "_JrLFHP3Fw4P"
   },
   "outputs": [],
   "source": [
    "del lr_all_cols"
   ]
  },
  {
   "cell_type": "markdown",
   "metadata": {
    "id": "jltAOqNzGKMH"
   },
   "source": [
    "## Plotting the ROC curves"
   ]
  },
  {
   "cell_type": "code",
   "execution_count": 30,
   "metadata": {
    "ExecuteTime": {
     "end_time": "2022-07-14T22:28:30.910715Z",
     "start_time": "2022-07-14T22:28:30.904068Z"
    },
    "id": "gEs7Mxg3GGl1"
   },
   "outputs": [],
   "source": [
    "labels = ['XGBoost', 'Random Forest', 'Logistic Regression', 'CatBoost', 'No Skill']"
   ]
  },
  {
   "cell_type": "markdown",
   "metadata": {
    "id": "o9gKvh8DGgfo"
   },
   "source": [
    "### Validation Set Performance"
   ]
  },
  {
   "cell_type": "code",
   "execution_count": 31,
   "metadata": {
    "ExecuteTime": {
     "end_time": "2022-07-14T22:28:31.113378Z",
     "start_time": "2022-07-14T22:28:30.912246Z"
    },
    "id": "JwuKFW3cFytU"
   },
   "outputs": [],
   "source": [
    "ns_probs_val = np.random.randint(0, 2, y_val.shape[0])\n",
    "ns_auc_val = roc_auc_score(y_val, ns_probs_val)\n",
    "predictions_models_val = [preds_val_xgb_all_cols, preds_val_rf_all_cols, preds_val_lr_all_cols, preds_val_cat_all_cols, ns_probs_val]\n",
    "predictions_val = [{'label': x , \"prediction\": predictions_models_val[i]} for i, x in enumerate(labels)]"
   ]
  },
  {
   "cell_type": "code",
   "execution_count": 32,
   "metadata": {
    "ExecuteTime": {
     "end_time": "2022-07-14T22:28:32.960464Z",
     "start_time": "2022-07-14T22:28:31.114944Z"
    },
    "colab": {
     "base_uri": "https://localhost:8080/",
     "height": 627
    },
    "id": "y_R7TJxmGQ2V",
    "outputId": "11a55cff-ba38-4f49-88bf-230334ffd94e"
   },
   "outputs": [
    {
     "data": {
      "image/png": "[encoded data removed]",
      "text/plain": [
       "<Figure size 1296x720 with 1 Axes>"
      ]
     },
     "metadata": {},
     "output_type": "display_data"
    }
   ],
   "source": [
    "plt.figure(figsize=(18, 10))\n",
    "for x in predictions_val:\n",
    "    label, prediction = x['label'], x['prediction']\n",
    "    fpr, tpr, thresholds = roc_curve(y_val, prediction)\n",
    "    auc = roc_auc_score(y_val, prediction) * 100\n",
    "    plt.plot(fpr, tpr, label=\"{}'s auc = {:.2f}\".format(label, auc))\n",
    "\n",
    "plt.plot([0, 1], [0, 1],'r--')\n",
    "plt.xlim([0.0, 1.0])\n",
    "plt.ylim([0.0, 1.0])\n",
    "plt.xlabel('Specificity(False Positive Rate)')\n",
    "plt.ylabel('Sensitivity(True Positive Rate)')\n",
    "plt.title('Validation set ROC Curves - 25% train data sample and all columns')\n",
    "plt.legend(loc=\"lower right\")\n",
    "plt.show()"
   ]
  },
  {
   "cell_type": "markdown",
   "metadata": {
    "id": "VVHjRSNPGnB_"
   },
   "source": [
    "### Test set Performance"
   ]
  },
  {
   "cell_type": "code",
   "execution_count": 33,
   "metadata": {
    "ExecuteTime": {
     "end_time": "2022-07-14T22:28:33.171233Z",
     "start_time": "2022-07-14T22:28:32.961858Z"
    },
    "id": "F4PWRljiGvrA"
   },
   "outputs": [],
   "source": [
    "ns_probs_test = np.random.randint(0, 2, len(y_test))\n",
    "ns_auc_test = roc_auc_score(y_test, ns_probs_test)\n",
    "predictions_models_test = [preds_test_xgb_all_cols, preds_test_rf_all_cols, preds_test_lr_all_cols, preds_test_cat_all_cols, ns_probs_test]\n",
    "predictions_test = [{'label': x , \"prediction\": predictions_models_test[i]} for i, x in enumerate(labels)]"
   ]
  },
  {
   "cell_type": "code",
   "execution_count": 34,
   "metadata": {
    "ExecuteTime": {
     "end_time": "2022-07-14T22:28:34.997477Z",
     "start_time": "2022-07-14T22:28:33.172409Z"
    },
    "colab": {
     "base_uri": "https://localhost:8080/",
     "height": 627
    },
    "id": "VjPBZfnVGvrB",
    "outputId": "000acd75-d9eb-4619-9a64-369c81a1ee24"
   },
   "outputs": [
    {
     "data": {
      "image/png": "[encoded data removed]",
      "text/plain": [
       "<Figure size 1296x720 with 1 Axes>"
      ]
     },
     "metadata": {},
     "output_type": "display_data"
    }
   ],
   "source": [
    "plt.figure(figsize=(18, 10))\n",
    "for x in predictions_test:\n",
    "    label, prediction = x['label'], x['prediction']\n",
    "    fpr, tpr, thresholds = roc_curve(y_test, prediction)\n",
    "    auc = roc_auc_score(y_test, prediction) * 100\n",
    "    plt.plot(fpr, tpr, label=\"{}'s auc = {:.2f}\".format(label, auc))\n",
    "\n",
    "plt.plot([0, 1], [0, 1],'r--')\n",
    "plt.xlim([0.0, 1.0])\n",
    "plt.ylim([0.0, 1.0])\n",
    "plt.xlabel('Specificity(False Positive Rate)')\n",
    "plt.ylabel('Sensitivity(True Positive Rate)')\n",
    "plt.title('Test set ROC Curves - 25% train data sample and all columns')\n",
    "plt.legend(loc=\"lower right\")\n",
    "plt.show()"
   ]
  },
  {
   "cell_type": "markdown",
   "metadata": {
    "id": "TyNkq6nCIAUY"
   },
   "source": [
    "# Training using all columns and undersampling the majority class"
   ]
  },
  {
   "cell_type": "code",
   "execution_count": 35,
   "metadata": {
    "ExecuteTime": {
     "end_time": "2022-07-14T22:28:35.457550Z",
     "start_time": "2022-07-14T22:28:34.998617Z"
    },
    "id": "oOTluCPmPrNO"
   },
   "outputs": [],
   "source": [
    "train_df_all = df[df.date_pred == 201701]\n",
    "validation_df = df[df.date_pred == 201702]\n",
    "test_df = df[df.date_pred == 201703]"
   ]
  },
  {
   "cell_type": "code",
   "execution_count": 36,
   "metadata": {
    "ExecuteTime": {
     "end_time": "2022-07-14T22:28:35.787409Z",
     "start_time": "2022-07-14T22:28:35.458787Z"
    },
    "id": "2ARIbw--PrNO"
   },
   "outputs": [],
   "source": [
    "X_train_all = train_df_all.drop(['msno', 'is_churn', 'date_pred'], 1).values\n",
    "y_train_all = train_df_all['is_churn'].values\n",
    "\n",
    "X_val = validation_df.drop(['msno', 'is_churn', 'date_pred'], 1).values\n",
    "y_val = validation_df['is_churn'].values\n",
    "\n",
    "X_test = test_df.drop(['msno', 'is_churn', 'date_pred'], 1).values\n",
    "y_test = test_df['is_churn'].values"
   ]
  },
  {
   "cell_type": "code",
   "execution_count": 37,
   "metadata": {
    "ExecuteTime": {
     "end_time": "2022-07-14T22:28:35.987229Z",
     "start_time": "2022-07-14T22:28:35.788535Z"
    },
    "id": "Mw-NO59bIARo"
   },
   "outputs": [],
   "source": [
    "rus = RandomUnderSampler(random_state=0)\n",
    "X_train_resampled, y_train_resampled = rus.fit_resample(X_train_all, y_train_all)"
   ]
  },
  {
   "cell_type": "code",
   "execution_count": 38,
   "metadata": {
    "ExecuteTime": {
     "end_time": "2022-07-14T22:28:35.991113Z",
     "start_time": "2022-07-14T22:28:35.988280Z"
    },
    "colab": {
     "base_uri": "https://localhost:8080/"
    },
    "id": "j5cxgmeRPXbf",
    "outputId": "33644401-d4cf-4ead-f02d-8aa4d5843e1b"
   },
   "outputs": [
    {
     "data": {
      "text/plain": [
       "(78252, 47)"
      ]
     },
     "execution_count": 38,
     "metadata": {},
     "output_type": "execute_result"
    }
   ],
   "source": [
    "X_train_resampled.shape"
   ]
  },
  {
   "cell_type": "code",
   "execution_count": 39,
   "metadata": {
    "ExecuteTime": {
     "end_time": "2022-07-14T22:28:36.000997Z",
     "start_time": "2022-07-14T22:28:35.992335Z"
    },
    "colab": {
     "base_uri": "https://localhost:8080/"
    },
    "id": "pxllX5bkQBX3",
    "outputId": "4734147e-edae-4759-f85f-a53d6a95b104"
   },
   "outputs": [
    {
     "data": {
      "text/plain": [
       "0    828403\n",
       "1     39126\n",
       "dtype: int64"
      ]
     },
     "execution_count": 39,
     "metadata": {},
     "output_type": "execute_result"
    }
   ],
   "source": [
    "pd.Series(y_train_all).value_counts()"
   ]
  },
  {
   "cell_type": "code",
   "execution_count": 40,
   "metadata": {
    "ExecuteTime": {
     "end_time": "2022-07-14T22:28:36.005874Z",
     "start_time": "2022-07-14T22:28:36.001990Z"
    },
    "colab": {
     "base_uri": "https://localhost:8080/"
    },
    "id": "KhFsTu5aQFUg",
    "outputId": "afc877c5-dfad-4c66-f1cc-af97ca05dd9f"
   },
   "outputs": [
    {
     "data": {
      "text/plain": [
       "0    39126\n",
       "1    39126\n",
       "dtype: int64"
      ]
     },
     "execution_count": 40,
     "metadata": {},
     "output_type": "execute_result"
    }
   ],
   "source": [
    "pd.Series(y_train_resampled).value_counts()"
   ]
  },
  {
   "cell_type": "code",
   "execution_count": 41,
   "metadata": {
    "ExecuteTime": {
     "end_time": "2022-07-14T22:28:36.050640Z",
     "start_time": "2022-07-14T22:28:36.006781Z"
    },
    "id": "1SgP8cgXQdFr"
   },
   "outputs": [],
   "source": [
    "del train_df_all, validation_df, test_df"
   ]
  },
  {
   "cell_type": "markdown",
   "metadata": {
    "id": "sfv079JmNNQZ"
   },
   "source": [
    "## XGBoost with default parameters"
   ]
  },
  {
   "cell_type": "code",
   "execution_count": 42,
   "metadata": {
    "ExecuteTime": {
     "end_time": "2022-07-14T22:28:37.123938Z",
     "start_time": "2022-07-14T22:28:36.051845Z"
    },
    "colab": {
     "base_uri": "https://localhost:8080/"
    },
    "id": "4bK7rsWEMfJu",
    "outputId": "5fd777eb-8e8f-47ff-cc13-7c78c55bcf26"
   },
   "outputs": [
    {
     "data": {
      "text/html": [
       "<style>#sk-container-id-4 {color: black;background-color: white;}#sk-container-id-4 pre{padding: 0;}#sk-container-id-4 div.sk-toggleable {background-color: white;}#sk-container-id-4 label.sk-toggleable__label {cursor: pointer;display: block;width: 100%;margin-bottom: 0;padding: 0.3em;box-sizing: border-box;text-align: center;}#sk-container-id-4 label.sk-toggleable__label-arrow:before {content: \"▸\";float: left;margin-right: 0.25em;color: #696969;}#sk-container-id-4 label.sk-toggleable__label-arrow:hover:before {color: black;}#sk-container-id-4 div.sk-estimator:hover label.sk-toggleable__label-arrow:before {color: black;}#sk-container-id-4 div.sk-toggleable__content {max-height: 0;max-width: 0;overflow: hidden;text-align: left;background-color: #f0f8ff;}#sk-container-id-4 div.sk-toggleable__content pre {margin: 0.2em;color: black;border-radius: 0.25em;background-color: #f0f8ff;}#sk-container-id-4 input.sk-toggleable__control:checked~div.sk-toggleable__content {max-height: 200px;max-width: 100%;overflow: auto;}#sk-container-id-4 input.sk-toggleable__control:checked~label.sk-toggleable__label-arrow:before {content: \"▾\";}#sk-container-id-4 div.sk-estimator input.sk-toggleable__control:checked~label.sk-toggleable__label {background-color: #d4ebff;}#sk-container-id-4 div.sk-label input.sk-toggleable__control:checked~label.sk-toggleable__label {background-color: #d4ebff;}#sk-container-id-4 input.sk-hidden--visually {border: 0;clip: rect(1px 1px 1px 1px);clip: rect(1px, 1px, 1px, 1px);height: 1px;margin: -1px;overflow: hidden;padding: 0;position: absolute;width: 1px;}#sk-container-id-4 div.sk-estimator {font-family: monospace;background-color: #f0f8ff;border: 1px dotted black;border-radius: 0.25em;box-sizing: border-box;margin-bottom: 0.5em;}#sk-container-id-4 div.sk-estimator:hover {background-color: #d4ebff;}#sk-container-id-4 div.sk-parallel-item::after {content: \"\";width: 100%;border-bottom: 1px solid gray;flex-grow: 1;}#sk-container-id-4 div.sk-label:hover label.sk-toggleable__label {background-color: #d4ebff;}#sk-container-id-4 div.sk-serial::before {content: \"\";position: absolute;border-left: 1px solid gray;box-sizing: border-box;top: 0;bottom: 0;left: 50%;z-index: 0;}#sk-container-id-4 div.sk-serial {display: flex;flex-direction: column;align-items: center;background-color: white;padding-right: 0.2em;padding-left: 0.2em;position: relative;}#sk-container-id-4 div.sk-item {position: relative;z-index: 1;}#sk-container-id-4 div.sk-parallel {display: flex;align-items: stretch;justify-content: center;background-color: white;position: relative;}#sk-container-id-4 div.sk-item::before, #sk-container-id-4 div.sk-parallel-item::before {content: \"\";position: absolute;border-left: 1px solid gray;box-sizing: border-box;top: 0;bottom: 0;left: 50%;z-index: -1;}#sk-container-id-4 div.sk-parallel-item {display: flex;flex-direction: column;z-index: 1;position: relative;background-color: white;}#sk-container-id-4 div.sk-parallel-item:first-child::after {align-self: flex-end;width: 50%;}#sk-container-id-4 div.sk-parallel-item:last-child::after {align-self: flex-start;width: 50%;}#sk-container-id-4 div.sk-parallel-item:only-child::after {width: 0;}#sk-container-id-4 div.sk-dashed-wrapped {border: 1px dashed gray;margin: 0 0.4em 0.5em 0.4em;box-sizing: border-box;padding-bottom: 0.4em;background-color: white;}#sk-container-id-4 div.sk-label label {font-family: monospace;font-weight: bold;display: inline-block;line-height: 1.2em;}#sk-container-id-4 div.sk-label-container {text-align: center;}#sk-container-id-4 div.sk-container {/* jupyter's `normalize.less` sets `[hidden] { display: none; }` but bootstrap.min.css set `[hidden] { display: none !important; }` so we also need the `!important` here to be able to override the default hidden behavior on the sphinx rendered scikit-learn.org. See: https://github.com/scikit-learn/scikit-learn/issues/21755 */display: inline-block !important;position: relative;}#sk-container-id-4 div.sk-text-repr-fallback {display: none;}</style><div id=\"sk-container-id-4\" class=\"sk-top-container\"><div class=\"sk-text-repr-fallback\"><pre>XGBClassifier(base_score=0.5, booster=&#x27;gbtree&#x27;, callbacks=None,\n",
       "              colsample_bylevel=1, colsample_bynode=1, colsample_bytree=1,\n",
       "              early_stopping_rounds=None, enable_categorical=False,\n",
       "              eval_metric=None, gamma=0, gpu_id=-1, grow_policy=&#x27;depthwise&#x27;,\n",
       "              importance_type=None, interaction_constraints=&#x27;&#x27;,\n",
       "              learning_rate=0.300000012, max_bin=256, max_cat_to_onehot=4,\n",
       "              max_delta_step=0, max_depth=6, max_leaves=0, min_child_weight=1,\n",
       "              missing=nan, monotone_constraints=&#x27;()&#x27;, n_estimators=100,\n",
       "              n_jobs=-1, num_parallel_tree=1, predictor=&#x27;auto&#x27;, random_state=0,\n",
       "              reg_alpha=0, reg_lambda=1, ...)</pre><b>In a Jupyter environment, please rerun this cell to show the HTML representation or trust the notebook. <br />On GitHub, the HTML representation is unable to render, please try loading this page with nbviewer.org.</b></div><div class=\"sk-container\" hidden><div class=\"sk-item\"><div class=\"sk-estimator sk-toggleable\"><input class=\"sk-toggleable__control sk-hidden--visually\" id=\"sk-estimator-id-4\" type=\"checkbox\" checked><label for=\"sk-estimator-id-4\" class=\"sk-toggleable__label sk-toggleable__label-arrow\">XGBClassifier</label><div class=\"sk-toggleable__content\"><pre>XGBClassifier(base_score=0.5, booster=&#x27;gbtree&#x27;, callbacks=None,\n",
       "              colsample_bylevel=1, colsample_bynode=1, colsample_bytree=1,\n",
       "              early_stopping_rounds=None, enable_categorical=False,\n",
       "              eval_metric=None, gamma=0, gpu_id=-1, grow_policy=&#x27;depthwise&#x27;,\n",
       "              importance_type=None, interaction_constraints=&#x27;&#x27;,\n",
       "              learning_rate=0.300000012, max_bin=256, max_cat_to_onehot=4,\n",
       "              max_delta_step=0, max_depth=6, max_leaves=0, min_child_weight=1,\n",
       "              missing=nan, monotone_constraints=&#x27;()&#x27;, n_estimators=100,\n",
       "              n_jobs=-1, num_parallel_tree=1, predictor=&#x27;auto&#x27;, random_state=0,\n",
       "              reg_alpha=0, reg_lambda=1, ...)</pre></div></div></div></div></div>"
      ],
      "text/plain": [
       "XGBClassifier(base_score=0.5, booster='gbtree', callbacks=None,\n",
       "              colsample_bylevel=1, colsample_bynode=1, colsample_bytree=1,\n",
       "              early_stopping_rounds=None, enable_categorical=False,\n",
       "              eval_metric=None, gamma=0, gpu_id=-1, grow_policy='depthwise',\n",
       "              importance_type=None, interaction_constraints='',\n",
       "              learning_rate=0.300000012, max_bin=256, max_cat_to_onehot=4,\n",
       "              max_delta_step=0, max_depth=6, max_leaves=0, min_child_weight=1,\n",
       "              missing=nan, monotone_constraints='()', n_estimators=100,\n",
       "              n_jobs=-1, num_parallel_tree=1, predictor='auto', random_state=0,\n",
       "              reg_alpha=0, reg_lambda=1, ...)"
      ]
     },
     "execution_count": 42,
     "metadata": {},
     "output_type": "execute_result"
    }
   ],
   "source": [
    "# we will use history binning for XGBoost to speed up the training process\n",
    "xgb_all_cols_resampled = XGBClassifier(n_jobs=-1, tree_method=\"hist\", random_state=0)\n",
    "xgb_all_cols_resampled.fit(X_train_resampled, y_train_resampled)"
   ]
  },
  {
   "cell_type": "code",
   "execution_count": 43,
   "metadata": {
    "ExecuteTime": {
     "end_time": "2022-07-14T22:28:38.572440Z",
     "start_time": "2022-07-14T22:28:37.125403Z"
    },
    "colab": {
     "base_uri": "https://localhost:8080/"
    },
    "id": "3pRDPQ0yGt1V",
    "outputId": "3c3f0951-c24c-4b4a-9f46-fbad60cfbdac"
   },
   "outputs": [
    {
     "name": "stdout",
     "output_type": "stream",
     "text": [
      "validation performance : 72.41\n",
      "test performance :68.56\n"
     ]
    }
   ],
   "source": [
    "preds_val_xgb_rus, preds_test_xgb_rus = model_predictions(xgb_all_cols_resampled)"
   ]
  },
  {
   "cell_type": "code",
   "execution_count": 44,
   "metadata": {
    "ExecuteTime": {
     "end_time": "2022-07-14T22:28:38.575491Z",
     "start_time": "2022-07-14T22:28:38.573587Z"
    },
    "id": "zrR4c1sbR2t0"
   },
   "outputs": [],
   "source": [
    "del xgb_all_cols_resampled"
   ]
  },
  {
   "cell_type": "markdown",
   "metadata": {
    "id": "IZbj9gKJOdmF"
   },
   "source": [
    "## Random Forest "
   ]
  },
  {
   "cell_type": "code",
   "execution_count": 45,
   "metadata": {
    "ExecuteTime": {
     "end_time": "2022-07-14T22:28:47.862424Z",
     "start_time": "2022-07-14T22:28:38.576479Z"
    },
    "colab": {
     "base_uri": "https://localhost:8080/"
    },
    "id": "RqsRD8muRACr",
    "outputId": "5b7cf015-54ba-45ec-c2da-b1d87faaff9c"
   },
   "outputs": [
    {
     "data": {
      "text/html": [
       "<style>#sk-container-id-5 {color: black;background-color: white;}#sk-container-id-5 pre{padding: 0;}#sk-container-id-5 div.sk-toggleable {background-color: white;}#sk-container-id-5 label.sk-toggleable__label {cursor: pointer;display: block;width: 100%;margin-bottom: 0;padding: 0.3em;box-sizing: border-box;text-align: center;}#sk-container-id-5 label.sk-toggleable__label-arrow:before {content: \"▸\";float: left;margin-right: 0.25em;color: #696969;}#sk-container-id-5 label.sk-toggleable__label-arrow:hover:before {color: black;}#sk-container-id-5 div.sk-estimator:hover label.sk-toggleable__label-arrow:before {color: black;}#sk-container-id-5 div.sk-toggleable__content {max-height: 0;max-width: 0;overflow: hidden;text-align: left;background-color: #f0f8ff;}#sk-container-id-5 div.sk-toggleable__content pre {margin: 0.2em;color: black;border-radius: 0.25em;background-color: #f0f8ff;}#sk-container-id-5 input.sk-toggleable__control:checked~div.sk-toggleable__content {max-height: 200px;max-width: 100%;overflow: auto;}#sk-container-id-5 input.sk-toggleable__control:checked~label.sk-toggleable__label-arrow:before {content: \"▾\";}#sk-container-id-5 div.sk-estimator input.sk-toggleable__control:checked~label.sk-toggleable__label {background-color: #d4ebff;}#sk-container-id-5 div.sk-label input.sk-toggleable__control:checked~label.sk-toggleable__label {background-color: #d4ebff;}#sk-container-id-5 input.sk-hidden--visually {border: 0;clip: rect(1px 1px 1px 1px);clip: rect(1px, 1px, 1px, 1px);height: 1px;margin: -1px;overflow: hidden;padding: 0;position: absolute;width: 1px;}#sk-container-id-5 div.sk-estimator {font-family: monospace;background-color: #f0f8ff;border: 1px dotted black;border-radius: 0.25em;box-sizing: border-box;margin-bottom: 0.5em;}#sk-container-id-5 div.sk-estimator:hover {background-color: #d4ebff;}#sk-container-id-5 div.sk-parallel-item::after {content: \"\";width: 100%;border-bottom: 1px solid gray;flex-grow: 1;}#sk-container-id-5 div.sk-label:hover label.sk-toggleable__label {background-color: #d4ebff;}#sk-container-id-5 div.sk-serial::before {content: \"\";position: absolute;border-left: 1px solid gray;box-sizing: border-box;top: 0;bottom: 0;left: 50%;z-index: 0;}#sk-container-id-5 div.sk-serial {display: flex;flex-direction: column;align-items: center;background-color: white;padding-right: 0.2em;padding-left: 0.2em;position: relative;}#sk-container-id-5 div.sk-item {position: relative;z-index: 1;}#sk-container-id-5 div.sk-parallel {display: flex;align-items: stretch;justify-content: center;background-color: white;position: relative;}#sk-container-id-5 div.sk-item::before, #sk-container-id-5 div.sk-parallel-item::before {content: \"\";position: absolute;border-left: 1px solid gray;box-sizing: border-box;top: 0;bottom: 0;left: 50%;z-index: -1;}#sk-container-id-5 div.sk-parallel-item {display: flex;flex-direction: column;z-index: 1;position: relative;background-color: white;}#sk-container-id-5 div.sk-parallel-item:first-child::after {align-self: flex-end;width: 50%;}#sk-container-id-5 div.sk-parallel-item:last-child::after {align-self: flex-start;width: 50%;}#sk-container-id-5 div.sk-parallel-item:only-child::after {width: 0;}#sk-container-id-5 div.sk-dashed-wrapped {border: 1px dashed gray;margin: 0 0.4em 0.5em 0.4em;box-sizing: border-box;padding-bottom: 0.4em;background-color: white;}#sk-container-id-5 div.sk-label label {font-family: monospace;font-weight: bold;display: inline-block;line-height: 1.2em;}#sk-container-id-5 div.sk-label-container {text-align: center;}#sk-container-id-5 div.sk-container {/* jupyter's `normalize.less` sets `[hidden] { display: none; }` but bootstrap.min.css set `[hidden] { display: none !important; }` so we also need the `!important` here to be able to override the default hidden behavior on the sphinx rendered scikit-learn.org. See: https://github.com/scikit-learn/scikit-learn/issues/21755 */display: inline-block !important;position: relative;}#sk-container-id-5 div.sk-text-repr-fallback {display: none;}</style><div id=\"sk-container-id-5\" class=\"sk-top-container\"><div class=\"sk-text-repr-fallback\"><pre>RandomForestClassifier(n_estimators=300, n_jobs=-1, random_state=0)</pre><b>In a Jupyter environment, please rerun this cell to show the HTML representation or trust the notebook. <br />On GitHub, the HTML representation is unable to render, please try loading this page with nbviewer.org.</b></div><div class=\"sk-container\" hidden><div class=\"sk-item\"><div class=\"sk-estimator sk-toggleable\"><input class=\"sk-toggleable__control sk-hidden--visually\" id=\"sk-estimator-id-5\" type=\"checkbox\" checked><label for=\"sk-estimator-id-5\" class=\"sk-toggleable__label sk-toggleable__label-arrow\">RandomForestClassifier</label><div class=\"sk-toggleable__content\"><pre>RandomForestClassifier(n_estimators=300, n_jobs=-1, random_state=0)</pre></div></div></div></div></div>"
      ],
      "text/plain": [
       "RandomForestClassifier(n_estimators=300, n_jobs=-1, random_state=0)"
      ]
     },
     "execution_count": 45,
     "metadata": {},
     "output_type": "execute_result"
    }
   ],
   "source": [
    "rf_all_cols_rus = RandomForestClassifier(n_jobs=-1, n_estimators=300, random_state=0)\n",
    "rf_all_cols_rus.fit(X_train_resampled, y_train_resampled)"
   ]
  },
  {
   "cell_type": "code",
   "execution_count": 46,
   "metadata": {
    "ExecuteTime": {
     "end_time": "2022-07-14T22:29:03.871933Z",
     "start_time": "2022-07-14T22:28:47.863566Z"
    },
    "colab": {
     "base_uri": "https://localhost:8080/"
    },
    "id": "Y9g0Tv8tRpdS",
    "outputId": "4cccd909-0bc6-494e-a1e1-e46785875876"
   },
   "outputs": [
    {
     "name": "stdout",
     "output_type": "stream",
     "text": [
      "validation performance : 75.01\n",
      "test performance :72.75\n"
     ]
    }
   ],
   "source": [
    "preds_val_rf_rus_all_cols, preds_test_rf_rus_all_cols = model_predictions(rf_all_cols_rus)"
   ]
  },
  {
   "cell_type": "code",
   "execution_count": 47,
   "metadata": {
    "ExecuteTime": {
     "end_time": "2022-07-14T22:29:03.874930Z",
     "start_time": "2022-07-14T22:29:03.873070Z"
    },
    "id": "N5MnBC8ER4oO"
   },
   "outputs": [],
   "source": [
    "del rf_all_cols_rus"
   ]
  },
  {
   "cell_type": "markdown",
   "metadata": {
    "id": "5tl4LtwkRwgx"
   },
   "source": [
    "## CatBoost"
   ]
  },
  {
   "cell_type": "code",
   "execution_count": 48,
   "metadata": {
    "ExecuteTime": {
     "end_time": "2022-07-14T22:29:14.988584Z",
     "start_time": "2022-07-14T22:29:03.875900Z"
    },
    "colab": {
     "base_uri": "https://localhost:8080/"
    },
    "id": "MgXBYIGcR17g",
    "outputId": "863d1cf4-4210-494c-c228-83f8f739e6e2"
   },
   "outputs": [
    {
     "data": {
      "text/plain": [
       "<catboost.core.CatBoostClassifier at 0x7fbe4012f610>"
      ]
     },
     "execution_count": 48,
     "metadata": {},
     "output_type": "execute_result"
    }
   ],
   "source": [
    "cat_all_cols_rus = CatBoostClassifier(random_state=0, verbose=0)\n",
    "cat_all_cols_rus.fit(X_train_resampled, y_train_resampled)"
   ]
  },
  {
   "cell_type": "code",
   "execution_count": 49,
   "metadata": {
    "ExecuteTime": {
     "end_time": "2022-07-14T22:29:16.470260Z",
     "start_time": "2022-07-14T22:29:14.990156Z"
    },
    "colab": {
     "base_uri": "https://localhost:8080/"
    },
    "id": "LUEqnrbNR17h",
    "outputId": "01d2f737-8cad-465a-cb13-ebb2e92efe18"
   },
   "outputs": [
    {
     "name": "stdout",
     "output_type": "stream",
     "text": [
      "validation performance : 64.98\n",
      "test performance :63.36\n"
     ]
    }
   ],
   "source": [
    "preds_val_cat_all_cols_rus, preds_test_cat_all_cols_rus = model_predictions(cat_all_cols_rus)"
   ]
  },
  {
   "cell_type": "code",
   "execution_count": 50,
   "metadata": {
    "ExecuteTime": {
     "end_time": "2022-07-14T22:29:16.473355Z",
     "start_time": "2022-07-14T22:29:16.471374Z"
    },
    "id": "tJH2cp2ZR17h"
   },
   "outputs": [],
   "source": [
    "del cat_all_cols_rus"
   ]
  },
  {
   "cell_type": "markdown",
   "metadata": {
    "id": "BKu31VvQT-BW"
   },
   "source": [
    "## Plotting the ROC curves"
   ]
  },
  {
   "cell_type": "code",
   "execution_count": 51,
   "metadata": {
    "ExecuteTime": {
     "end_time": "2022-07-14T22:29:16.481960Z",
     "start_time": "2022-07-14T22:29:16.474393Z"
    },
    "id": "2bQAGoM_T-BW"
   },
   "outputs": [],
   "source": [
    "labels = ['XGBoost', 'Random Forest', 'CatBoost', 'No Skill']"
   ]
  },
  {
   "cell_type": "markdown",
   "metadata": {
    "id": "puWb7G8ZT-BW"
   },
   "source": [
    "### Validation Set Performance"
   ]
  },
  {
   "cell_type": "code",
   "execution_count": 52,
   "metadata": {
    "ExecuteTime": {
     "end_time": "2022-07-14T22:29:16.645459Z",
     "start_time": "2022-07-14T22:29:16.483299Z"
    },
    "id": "4xbJlfZdT-BX"
   },
   "outputs": [],
   "source": [
    "ns_probs_val = np.random.randint(0, 2, len(y_val))\n",
    "ns_auc_val = roc_auc_score(y_val, ns_probs_val)\n",
    "predictions_models_val = [preds_val_xgb_rus, preds_val_rf_rus_all_cols, preds_val_cat_all_cols_rus, ns_probs_val]\n",
    "predictions_val = [{'label': x , \"prediction\": predictions_models_val[i]} for i, x in enumerate(labels)]"
   ]
  },
  {
   "cell_type": "code",
   "execution_count": 53,
   "metadata": {
    "ExecuteTime": {
     "end_time": "2022-07-14T22:29:18.438784Z",
     "start_time": "2022-07-14T22:29:16.646602Z"
    },
    "colab": {
     "base_uri": "https://localhost:8080/",
     "height": 627
    },
    "id": "1fOax4ZpT-BX",
    "outputId": "38d80ef6-b99b-410a-8601-6ae6407f1d79"
   },
   "outputs": [
    {
     "data": {
      "image/png": "[encoded data removed]",
      "text/plain": [
       "<Figure size 1296x720 with 1 Axes>"
      ]
     },
     "metadata": {},
     "output_type": "display_data"
    }
   ],
   "source": [
    "plt.figure(figsize=(18, 10))\n",
    "for x in predictions_val:\n",
    "    label, prediction = x['label'], x['prediction']\n",
    "    fpr, tpr, thresholds = roc_curve(y_val, prediction)\n",
    "    auc = roc_auc_score(y_val, prediction) * 100\n",
    "    plt.plot(fpr, tpr, label=\"{}'s auc = {:.2f}\".format(label, auc))\n",
    "\n",
    "plt.plot([0, 1], [0, 1],'r--')\n",
    "plt.xlim([0.0, 1.0])\n",
    "plt.ylim([0.0, 1.0])\n",
    "plt.xlabel('Specificity(False Positive Rate)')\n",
    "plt.ylabel('Sensitivity(True Positive Rate)')\n",
    "plt.title('Validation set ROC Curves - Undersamplde majority class (train data) and all columns')\n",
    "plt.legend(loc=\"lower right\")\n",
    "plt.show()"
   ]
  },
  {
   "cell_type": "markdown",
   "metadata": {
    "id": "zwfWJKreT-BX"
   },
   "source": [
    "### Test set Performance"
   ]
  },
  {
   "cell_type": "code",
   "execution_count": 54,
   "metadata": {
    "ExecuteTime": {
     "end_time": "2022-07-14T22:29:18.687996Z",
     "start_time": "2022-07-14T22:29:18.439899Z"
    },
    "id": "9bcGZZTdT-BX"
   },
   "outputs": [],
   "source": [
    "ns_probs_test = np.random.randint(0, 2, len(y_test))\n",
    "ns_auc_test = roc_auc_score(y_test, ns_probs_test)\n",
    "predictions_models_test = [preds_test_xgb_rus, preds_test_rf_rus_all_cols, preds_test_cat_all_cols_rus, ns_probs_test]\n",
    "predictions_test = [{'label': x , \"prediction\": predictions_models_test[i]} for i, x in enumerate(labels)]"
   ]
  },
  {
   "cell_type": "code",
   "execution_count": 55,
   "metadata": {
    "ExecuteTime": {
     "end_time": "2022-07-14T22:29:20.501802Z",
     "start_time": "2022-07-14T22:29:18.689440Z"
    },
    "colab": {
     "base_uri": "https://localhost:8080/",
     "height": 627
    },
    "id": "FNrvjGUsT-BX",
    "outputId": "42ee9f97-fe9e-40c5-b2c2-21dd0680620e"
   },
   "outputs": [
    {
     "data": {
      "image/png": "[encoded data removed]",
      "text/plain": [
       "<Figure size 1296x720 with 1 Axes>"
      ]
     },
     "metadata": {},
     "output_type": "display_data"
    }
   ],
   "source": [
    "plt.figure(figsize=(18, 10))\n",
    "for x in predictions_test:\n",
    "    label, prediction = x['label'], x['prediction']\n",
    "    fpr, tpr, thresholds = roc_curve(y_test, prediction)\n",
    "    auc = roc_auc_score(y_test, prediction) * 100\n",
    "    plt.plot(fpr, tpr, label=\"{}'s auc = {:.2f}\".format(label, auc))\n",
    "\n",
    "plt.plot([0, 1], [0, 1],'r--')\n",
    "plt.xlim([0.0, 1.0])\n",
    "plt.ylim([0.0, 1.0])\n",
    "plt.xlabel('Specificity(False Positive Rate)')\n",
    "plt.ylabel('Sensitivity(True Positive Rate)')\n",
    "plt.title('Test set ROC Curves - 25% train data sample and all columns')\n",
    "plt.legend(loc=\"lower right\")\n",
    "plt.show()"
   ]
  },
  {
   "cell_type": "markdown",
   "metadata": {
    "id": "NrYripVFRzFF"
   },
   "source": [
    "We can see from the previous results that both of the models `XGBoost` and the `Random Forest` perform the best on the two experiments that we did : **25% training sample** and **undersampled (majority class)**.\n",
    "\n",
    "We will use `XGBoost` for the rest of the modeling phase since it trains much faster (due to using the `tree_method=\"hist\"`). The results obtained from the other models can be used later on by combining their predictions (averaging the probabilities) by giving larger weights to the models that perform the best, or by `stacking`them."
   ]
  },
  {
   "cell_type": "markdown",
   "metadata": {
    "id": "av5HKAFbYVAS"
   },
   "source": [
    "# Training using all the data and all columns"
   ]
  },
  {
   "cell_type": "code",
   "execution_count": 56,
   "metadata": {
    "ExecuteTime": {
     "end_time": "2022-07-14T22:29:27.584179Z",
     "start_time": "2022-07-14T22:29:20.503405Z"
    },
    "colab": {
     "base_uri": "https://localhost:8080/"
    },
    "id": "WVsz8hPcN60Y",
    "outputId": "f6a5c557-52ec-467f-907d-74e26b287aff"
   },
   "outputs": [
    {
     "data": {
      "text/html": [
       "<style>#sk-container-id-6 {color: black;background-color: white;}#sk-container-id-6 pre{padding: 0;}#sk-container-id-6 div.sk-toggleable {background-color: white;}#sk-container-id-6 label.sk-toggleable__label {cursor: pointer;display: block;width: 100%;margin-bottom: 0;padding: 0.3em;box-sizing: border-box;text-align: center;}#sk-container-id-6 label.sk-toggleable__label-arrow:before {content: \"▸\";float: left;margin-right: 0.25em;color: #696969;}#sk-container-id-6 label.sk-toggleable__label-arrow:hover:before {color: black;}#sk-container-id-6 div.sk-estimator:hover label.sk-toggleable__label-arrow:before {color: black;}#sk-container-id-6 div.sk-toggleable__content {max-height: 0;max-width: 0;overflow: hidden;text-align: left;background-color: #f0f8ff;}#sk-container-id-6 div.sk-toggleable__content pre {margin: 0.2em;color: black;border-radius: 0.25em;background-color: #f0f8ff;}#sk-container-id-6 input.sk-toggleable__control:checked~div.sk-toggleable__content {max-height: 200px;max-width: 100%;overflow: auto;}#sk-container-id-6 input.sk-toggleable__control:checked~label.sk-toggleable__label-arrow:before {content: \"▾\";}#sk-container-id-6 div.sk-estimator input.sk-toggleable__control:checked~label.sk-toggleable__label {background-color: #d4ebff;}#sk-container-id-6 div.sk-label input.sk-toggleable__control:checked~label.sk-toggleable__label {background-color: #d4ebff;}#sk-container-id-6 input.sk-hidden--visually {border: 0;clip: rect(1px 1px 1px 1px);clip: rect(1px, 1px, 1px, 1px);height: 1px;margin: -1px;overflow: hidden;padding: 0;position: absolute;width: 1px;}#sk-container-id-6 div.sk-estimator {font-family: monospace;background-color: #f0f8ff;border: 1px dotted black;border-radius: 0.25em;box-sizing: border-box;margin-bottom: 0.5em;}#sk-container-id-6 div.sk-estimator:hover {background-color: #d4ebff;}#sk-container-id-6 div.sk-parallel-item::after {content: \"\";width: 100%;border-bottom: 1px solid gray;flex-grow: 1;}#sk-container-id-6 div.sk-label:hover label.sk-toggleable__label {background-color: #d4ebff;}#sk-container-id-6 div.sk-serial::before {content: \"\";position: absolute;border-left: 1px solid gray;box-sizing: border-box;top: 0;bottom: 0;left: 50%;z-index: 0;}#sk-container-id-6 div.sk-serial {display: flex;flex-direction: column;align-items: center;background-color: white;padding-right: 0.2em;padding-left: 0.2em;position: relative;}#sk-container-id-6 div.sk-item {position: relative;z-index: 1;}#sk-container-id-6 div.sk-parallel {display: flex;align-items: stretch;justify-content: center;background-color: white;position: relative;}#sk-container-id-6 div.sk-item::before, #sk-container-id-6 div.sk-parallel-item::before {content: \"\";position: absolute;border-left: 1px solid gray;box-sizing: border-box;top: 0;bottom: 0;left: 50%;z-index: -1;}#sk-container-id-6 div.sk-parallel-item {display: flex;flex-direction: column;z-index: 1;position: relative;background-color: white;}#sk-container-id-6 div.sk-parallel-item:first-child::after {align-self: flex-end;width: 50%;}#sk-container-id-6 div.sk-parallel-item:last-child::after {align-self: flex-start;width: 50%;}#sk-container-id-6 div.sk-parallel-item:only-child::after {width: 0;}#sk-container-id-6 div.sk-dashed-wrapped {border: 1px dashed gray;margin: 0 0.4em 0.5em 0.4em;box-sizing: border-box;padding-bottom: 0.4em;background-color: white;}#sk-container-id-6 div.sk-label label {font-family: monospace;font-weight: bold;display: inline-block;line-height: 1.2em;}#sk-container-id-6 div.sk-label-container {text-align: center;}#sk-container-id-6 div.sk-container {/* jupyter's `normalize.less` sets `[hidden] { display: none; }` but bootstrap.min.css set `[hidden] { display: none !important; }` so we also need the `!important` here to be able to override the default hidden behavior on the sphinx rendered scikit-learn.org. See: https://github.com/scikit-learn/scikit-learn/issues/21755 */display: inline-block !important;position: relative;}#sk-container-id-6 div.sk-text-repr-fallback {display: none;}</style><div id=\"sk-container-id-6\" class=\"sk-top-container\"><div class=\"sk-text-repr-fallback\"><pre>XGBClassifier(base_score=0.5, booster=&#x27;gbtree&#x27;, callbacks=None,\n",
       "              colsample_bylevel=1, colsample_bynode=1, colsample_bytree=1,\n",
       "              early_stopping_rounds=None, enable_categorical=False,\n",
       "              eval_metric=None, gamma=0, gpu_id=-1, grow_policy=&#x27;depthwise&#x27;,\n",
       "              importance_type=None, interaction_constraints=&#x27;&#x27;,\n",
       "              learning_rate=0.300000012, max_bin=256, max_cat_to_onehot=4,\n",
       "              max_delta_step=0, max_depth=6, max_leaves=0, min_child_weight=1,\n",
       "              missing=nan, monotone_constraints=&#x27;()&#x27;, n_estimators=100,\n",
       "              n_jobs=-1, num_parallel_tree=1, predictor=&#x27;auto&#x27;, random_state=0,\n",
       "              reg_alpha=0, reg_lambda=1, ...)</pre><b>In a Jupyter environment, please rerun this cell to show the HTML representation or trust the notebook. <br />On GitHub, the HTML representation is unable to render, please try loading this page with nbviewer.org.</b></div><div class=\"sk-container\" hidden><div class=\"sk-item\"><div class=\"sk-estimator sk-toggleable\"><input class=\"sk-toggleable__control sk-hidden--visually\" id=\"sk-estimator-id-6\" type=\"checkbox\" checked><label for=\"sk-estimator-id-6\" class=\"sk-toggleable__label sk-toggleable__label-arrow\">XGBClassifier</label><div class=\"sk-toggleable__content\"><pre>XGBClassifier(base_score=0.5, booster=&#x27;gbtree&#x27;, callbacks=None,\n",
       "              colsample_bylevel=1, colsample_bynode=1, colsample_bytree=1,\n",
       "              early_stopping_rounds=None, enable_categorical=False,\n",
       "              eval_metric=None, gamma=0, gpu_id=-1, grow_policy=&#x27;depthwise&#x27;,\n",
       "              importance_type=None, interaction_constraints=&#x27;&#x27;,\n",
       "              learning_rate=0.300000012, max_bin=256, max_cat_to_onehot=4,\n",
       "              max_delta_step=0, max_depth=6, max_leaves=0, min_child_weight=1,\n",
       "              missing=nan, monotone_constraints=&#x27;()&#x27;, n_estimators=100,\n",
       "              n_jobs=-1, num_parallel_tree=1, predictor=&#x27;auto&#x27;, random_state=0,\n",
       "              reg_alpha=0, reg_lambda=1, ...)</pre></div></div></div></div></div>"
      ],
      "text/plain": [
       "XGBClassifier(base_score=0.5, booster='gbtree', callbacks=None,\n",
       "              colsample_bylevel=1, colsample_bynode=1, colsample_bytree=1,\n",
       "              early_stopping_rounds=None, enable_categorical=False,\n",
       "              eval_metric=None, gamma=0, gpu_id=-1, grow_policy='depthwise',\n",
       "              importance_type=None, interaction_constraints='',\n",
       "              learning_rate=0.300000012, max_bin=256, max_cat_to_onehot=4,\n",
       "              max_delta_step=0, max_depth=6, max_leaves=0, min_child_weight=1,\n",
       "              missing=nan, monotone_constraints='()', n_estimators=100,\n",
       "              n_jobs=-1, num_parallel_tree=1, predictor='auto', random_state=0,\n",
       "              reg_alpha=0, reg_lambda=1, ...)"
      ]
     },
     "execution_count": 56,
     "metadata": {},
     "output_type": "execute_result"
    }
   ],
   "source": [
    "# we will use history binning for XGBoost to speed up the training process\n",
    "xgb_all = XGBClassifier(n_jobs=-1, tree_method=\"hist\", random_state=0)\n",
    "xgb_all.fit(X_train_all, y_train_all)"
   ]
  },
  {
   "cell_type": "code",
   "execution_count": 57,
   "metadata": {
    "ExecuteTime": {
     "end_time": "2022-07-14T22:29:29.146598Z",
     "start_time": "2022-07-14T22:29:27.586202Z"
    },
    "colab": {
     "base_uri": "https://localhost:8080/"
    },
    "id": "dEZQxVfyOHZ4",
    "outputId": "708832c8-46ad-436a-a94c-3ad3581242d7"
   },
   "outputs": [
    {
     "name": "stdout",
     "output_type": "stream",
     "text": [
      "validation performance : 68.75\n",
      "test performance :63.54\n"
     ]
    }
   ],
   "source": [
    "preds_val_xgb_all, preds_test_xgb_all = model_predictions(xgb_all)"
   ]
  },
  {
   "cell_type": "code",
   "execution_count": 58,
   "metadata": {
    "ExecuteTime": {
     "end_time": "2022-07-14T22:29:29.149810Z",
     "start_time": "2022-07-14T22:29:29.147721Z"
    },
    "id": "xuH8LL4lOl-1"
   },
   "outputs": [],
   "source": [
    "del xgb_all"
   ]
  },
  {
   "cell_type": "markdown",
   "metadata": {
    "id": "BpDmKC1uU8I-"
   },
   "source": [
    "We can see from the previous results that the performance hasn't increased by much compared to the previous experiments where we did undersampling (**~2 to 3% increase** in `auc`) but the training has gotten much slower. Therefore, we will **keep using the undersampled data for the rest of the modeling process**."
   ]
  },
  {
   "cell_type": "markdown",
   "metadata": {
    "id": "tLH1AmKOVkw4"
   },
   "source": [
    "# Training using undersampled data and continuous columns"
   ]
  },
  {
   "cell_type": "code",
   "execution_count": 59,
   "metadata": {
    "ExecuteTime": {
     "end_time": "2022-07-14T22:29:29.527738Z",
     "start_time": "2022-07-14T22:29:29.151281Z"
    },
    "id": "vKuDmlO9YUGk"
   },
   "outputs": [],
   "source": [
    "train_df_all = df[df.date_pred == 201701]\n",
    "validation_df = df[df.date_pred == 201702]\n",
    "test_df = df[df.date_pred == 201703]"
   ]
  },
  {
   "cell_type": "code",
   "execution_count": 60,
   "metadata": {
    "ExecuteTime": {
     "end_time": "2022-07-14T22:29:30.624005Z",
     "start_time": "2022-07-14T22:29:29.528989Z"
    },
    "id": "gX9e33U9YUGr"
   },
   "outputs": [],
   "source": [
    "X_train_cont = train_df_all.drop(['msno', 'is_churn', 'date_pred'], 1)[cont_cols].values\n",
    "y_train = train_df_all['is_churn'].values\n",
    "\n",
    "X_val_cont = validation_df.drop(['msno', 'is_churn', 'date_pred'], 1)[cont_cols].values\n",
    "y_val = validation_df['is_churn'].values\n",
    "\n",
    "X_test_cont = test_df.drop(['msno', 'is_churn', 'date_pred'], 1)[cont_cols].values\n",
    "y_test = test_df['is_churn'].values"
   ]
  },
  {
   "cell_type": "code",
   "execution_count": 61,
   "metadata": {
    "ExecuteTime": {
     "end_time": "2022-07-14T22:29:30.807216Z",
     "start_time": "2022-07-14T22:29:30.625109Z"
    },
    "id": "3SOpnsIbYUGr"
   },
   "outputs": [],
   "source": [
    "rus = RandomUnderSampler(random_state=0)\n",
    "X_train_resampled_cont, y_train_resampled_cont = rus.fit_resample(X_train_cont, y_train)"
   ]
  },
  {
   "cell_type": "code",
   "execution_count": 62,
   "metadata": {
    "ExecuteTime": {
     "end_time": "2022-07-14T22:29:30.811075Z",
     "start_time": "2022-07-14T22:29:30.808449Z"
    },
    "colab": {
     "base_uri": "https://localhost:8080/"
    },
    "id": "s_PDjy4pYUGr",
    "outputId": "acdeed7a-9299-40b1-d115-45c3ccc8fe4c"
   },
   "outputs": [
    {
     "data": {
      "text/plain": [
       "(78252, 32)"
      ]
     },
     "execution_count": 62,
     "metadata": {},
     "output_type": "execute_result"
    }
   ],
   "source": [
    "X_train_resampled_cont.shape"
   ]
  },
  {
   "cell_type": "code",
   "execution_count": 63,
   "metadata": {
    "ExecuteTime": {
     "end_time": "2022-07-14T22:29:30.850699Z",
     "start_time": "2022-07-14T22:29:30.812183Z"
    },
    "id": "fr5BF4I_ZMR4"
   },
   "outputs": [],
   "source": [
    "del train_df_all, validation_df, test_df"
   ]
  },
  {
   "cell_type": "code",
   "execution_count": 64,
   "metadata": {
    "ExecuteTime": {
     "end_time": "2022-07-14T22:29:31.859928Z",
     "start_time": "2022-07-14T22:29:30.851923Z"
    },
    "colab": {
     "base_uri": "https://localhost:8080/"
    },
    "id": "_n3c0qHKY-MQ",
    "outputId": "f02e2fd2-83c9-4b05-ca21-ecc90b31516d"
   },
   "outputs": [
    {
     "data": {
      "text/html": [
       "<style>#sk-container-id-7 {color: black;background-color: white;}#sk-container-id-7 pre{padding: 0;}#sk-container-id-7 div.sk-toggleable {background-color: white;}#sk-container-id-7 label.sk-toggleable__label {cursor: pointer;display: block;width: 100%;margin-bottom: 0;padding: 0.3em;box-sizing: border-box;text-align: center;}#sk-container-id-7 label.sk-toggleable__label-arrow:before {content: \"▸\";float: left;margin-right: 0.25em;color: #696969;}#sk-container-id-7 label.sk-toggleable__label-arrow:hover:before {color: black;}#sk-container-id-7 div.sk-estimator:hover label.sk-toggleable__label-arrow:before {color: black;}#sk-container-id-7 div.sk-toggleable__content {max-height: 0;max-width: 0;overflow: hidden;text-align: left;background-color: #f0f8ff;}#sk-container-id-7 div.sk-toggleable__content pre {margin: 0.2em;color: black;border-radius: 0.25em;background-color: #f0f8ff;}#sk-container-id-7 input.sk-toggleable__control:checked~div.sk-toggleable__content {max-height: 200px;max-width: 100%;overflow: auto;}#sk-container-id-7 input.sk-toggleable__control:checked~label.sk-toggleable__label-arrow:before {content: \"▾\";}#sk-container-id-7 div.sk-estimator input.sk-toggleable__control:checked~label.sk-toggleable__label {background-color: #d4ebff;}#sk-container-id-7 div.sk-label input.sk-toggleable__control:checked~label.sk-toggleable__label {background-color: #d4ebff;}#sk-container-id-7 input.sk-hidden--visually {border: 0;clip: rect(1px 1px 1px 1px);clip: rect(1px, 1px, 1px, 1px);height: 1px;margin: -1px;overflow: hidden;padding: 0;position: absolute;width: 1px;}#sk-container-id-7 div.sk-estimator {font-family: monospace;background-color: #f0f8ff;border: 1px dotted black;border-radius: 0.25em;box-sizing: border-box;margin-bottom: 0.5em;}#sk-container-id-7 div.sk-estimator:hover {background-color: #d4ebff;}#sk-container-id-7 div.sk-parallel-item::after {content: \"\";width: 100%;border-bottom: 1px solid gray;flex-grow: 1;}#sk-container-id-7 div.sk-label:hover label.sk-toggleable__label {background-color: #d4ebff;}#sk-container-id-7 div.sk-serial::before {content: \"\";position: absolute;border-left: 1px solid gray;box-sizing: border-box;top: 0;bottom: 0;left: 50%;z-index: 0;}#sk-container-id-7 div.sk-serial {display: flex;flex-direction: column;align-items: center;background-color: white;padding-right: 0.2em;padding-left: 0.2em;position: relative;}#sk-container-id-7 div.sk-item {position: relative;z-index: 1;}#sk-container-id-7 div.sk-parallel {display: flex;align-items: stretch;justify-content: center;background-color: white;position: relative;}#sk-container-id-7 div.sk-item::before, #sk-container-id-7 div.sk-parallel-item::before {content: \"\";position: absolute;border-left: 1px solid gray;box-sizing: border-box;top: 0;bottom: 0;left: 50%;z-index: -1;}#sk-container-id-7 div.sk-parallel-item {display: flex;flex-direction: column;z-index: 1;position: relative;background-color: white;}#sk-container-id-7 div.sk-parallel-item:first-child::after {align-self: flex-end;width: 50%;}#sk-container-id-7 div.sk-parallel-item:last-child::after {align-self: flex-start;width: 50%;}#sk-container-id-7 div.sk-parallel-item:only-child::after {width: 0;}#sk-container-id-7 div.sk-dashed-wrapped {border: 1px dashed gray;margin: 0 0.4em 0.5em 0.4em;box-sizing: border-box;padding-bottom: 0.4em;background-color: white;}#sk-container-id-7 div.sk-label label {font-family: monospace;font-weight: bold;display: inline-block;line-height: 1.2em;}#sk-container-id-7 div.sk-label-container {text-align: center;}#sk-container-id-7 div.sk-container {/* jupyter's `normalize.less` sets `[hidden] { display: none; }` but bootstrap.min.css set `[hidden] { display: none !important; }` so we also need the `!important` here to be able to override the default hidden behavior on the sphinx rendered scikit-learn.org. See: https://github.com/scikit-learn/scikit-learn/issues/21755 */display: inline-block !important;position: relative;}#sk-container-id-7 div.sk-text-repr-fallback {display: none;}</style><div id=\"sk-container-id-7\" class=\"sk-top-container\"><div class=\"sk-text-repr-fallback\"><pre>XGBClassifier(base_score=0.5, booster=&#x27;gbtree&#x27;, callbacks=None,\n",
       "              colsample_bylevel=1, colsample_bynode=1, colsample_bytree=1,\n",
       "              early_stopping_rounds=None, enable_categorical=False,\n",
       "              eval_metric=None, gamma=0, gpu_id=-1, grow_policy=&#x27;depthwise&#x27;,\n",
       "              importance_type=None, interaction_constraints=&#x27;&#x27;,\n",
       "              learning_rate=0.300000012, max_bin=256, max_cat_to_onehot=4,\n",
       "              max_delta_step=0, max_depth=6, max_leaves=0, min_child_weight=1,\n",
       "              missing=nan, monotone_constraints=&#x27;()&#x27;, n_estimators=100,\n",
       "              n_jobs=-1, num_parallel_tree=1, predictor=&#x27;auto&#x27;, random_state=0,\n",
       "              reg_alpha=0, reg_lambda=1, ...)</pre><b>In a Jupyter environment, please rerun this cell to show the HTML representation or trust the notebook. <br />On GitHub, the HTML representation is unable to render, please try loading this page with nbviewer.org.</b></div><div class=\"sk-container\" hidden><div class=\"sk-item\"><div class=\"sk-estimator sk-toggleable\"><input class=\"sk-toggleable__control sk-hidden--visually\" id=\"sk-estimator-id-7\" type=\"checkbox\" checked><label for=\"sk-estimator-id-7\" class=\"sk-toggleable__label sk-toggleable__label-arrow\">XGBClassifier</label><div class=\"sk-toggleable__content\"><pre>XGBClassifier(base_score=0.5, booster=&#x27;gbtree&#x27;, callbacks=None,\n",
       "              colsample_bylevel=1, colsample_bynode=1, colsample_bytree=1,\n",
       "              early_stopping_rounds=None, enable_categorical=False,\n",
       "              eval_metric=None, gamma=0, gpu_id=-1, grow_policy=&#x27;depthwise&#x27;,\n",
       "              importance_type=None, interaction_constraints=&#x27;&#x27;,\n",
       "              learning_rate=0.300000012, max_bin=256, max_cat_to_onehot=4,\n",
       "              max_delta_step=0, max_depth=6, max_leaves=0, min_child_weight=1,\n",
       "              missing=nan, monotone_constraints=&#x27;()&#x27;, n_estimators=100,\n",
       "              n_jobs=-1, num_parallel_tree=1, predictor=&#x27;auto&#x27;, random_state=0,\n",
       "              reg_alpha=0, reg_lambda=1, ...)</pre></div></div></div></div></div>"
      ],
      "text/plain": [
       "XGBClassifier(base_score=0.5, booster='gbtree', callbacks=None,\n",
       "              colsample_bylevel=1, colsample_bynode=1, colsample_bytree=1,\n",
       "              early_stopping_rounds=None, enable_categorical=False,\n",
       "              eval_metric=None, gamma=0, gpu_id=-1, grow_policy='depthwise',\n",
       "              importance_type=None, interaction_constraints='',\n",
       "              learning_rate=0.300000012, max_bin=256, max_cat_to_onehot=4,\n",
       "              max_delta_step=0, max_depth=6, max_leaves=0, min_child_weight=1,\n",
       "              missing=nan, monotone_constraints='()', n_estimators=100,\n",
       "              n_jobs=-1, num_parallel_tree=1, predictor='auto', random_state=0,\n",
       "              reg_alpha=0, reg_lambda=1, ...)"
      ]
     },
     "execution_count": 64,
     "metadata": {},
     "output_type": "execute_result"
    }
   ],
   "source": [
    "# we will use history binning for XGBoost to speed up the training process\n",
    "xgb_cont_cols_resampled = XGBClassifier(n_jobs=-1, tree_method=\"hist\", random_state=0)\n",
    "xgb_cont_cols_resampled.fit(X_train_resampled_cont, y_train_resampled_cont)"
   ]
  },
  {
   "cell_type": "code",
   "execution_count": 65,
   "metadata": {
    "ExecuteTime": {
     "end_time": "2022-07-14T22:29:33.390107Z",
     "start_time": "2022-07-14T22:29:31.861421Z"
    },
    "colab": {
     "base_uri": "https://localhost:8080/"
    },
    "id": "pPD9obPrZQdw",
    "outputId": "c190164b-61f7-4ca2-aa95-d13b905c11d7"
   },
   "outputs": [
    {
     "name": "stdout",
     "output_type": "stream",
     "text": [
      "validation performance : 72.23\n",
      "test performance :67.81\n"
     ]
    }
   ],
   "source": [
    "preds_val_xgb_cont, preds_test_xgb_cont = model_predictions(xgb_cont_cols_resampled, X_val_cont, X_test_cont)"
   ]
  },
  {
   "cell_type": "code",
   "execution_count": 66,
   "metadata": {
    "ExecuteTime": {
     "end_time": "2022-07-14T22:29:33.393227Z",
     "start_time": "2022-07-14T22:29:33.391222Z"
    },
    "id": "H2f0etYzZTxK"
   },
   "outputs": [],
   "source": [
    "del xgb_cont_cols_resampled"
   ]
  },
  {
   "cell_type": "markdown",
   "metadata": {
    "id": "F07vuHhXZqLc"
   },
   "source": [
    "# Oversampling using SMOTE "
   ]
  },
  {
   "cell_type": "markdown",
   "metadata": {
    "id": "cud9mOZNaTCc"
   },
   "source": [
    "We can now apply `SMOTE` to generate new instances of the minority class in order to balance out the huge class imbalance that we see in the dataset. It is **only possible to apply `SMOTE` when we have continous variables** because `SMOTE` relies on computing the distances and computing them when points have mixed features (continuous and categorical) using the euclidean distance doesn't make sense."
   ]
  },
  {
   "cell_type": "code",
   "execution_count": 67,
   "metadata": {
    "ExecuteTime": {
     "end_time": "2022-07-14T22:29:33.407461Z",
     "start_time": "2022-07-14T22:29:33.394587Z"
    },
    "colab": {
     "base_uri": "https://localhost:8080/"
    },
    "id": "n6UNWVkccJue",
    "outputId": "6c45d0a1-02dc-4641-daa3-b4fcc8a19872"
   },
   "outputs": [
    {
     "data": {
      "text/plain": [
       "0    828403\n",
       "1     39126\n",
       "dtype: int64"
      ]
     },
     "execution_count": 67,
     "metadata": {},
     "output_type": "execute_result"
    }
   ],
   "source": [
    "pd.Series(y_train).value_counts()"
   ]
  },
  {
   "cell_type": "code",
   "execution_count": 68,
   "metadata": {
    "ExecuteTime": {
     "end_time": "2022-07-14T22:29:36.180985Z",
     "start_time": "2022-07-14T22:29:33.408608Z"
    },
    "id": "eWfKnztPaxRL"
   },
   "outputs": [],
   "source": [
    "sm = SMOTE(random_state=0, k_neighbors=5)\n",
    "X_train_smote, y_train_smote = sm.fit_resample(X_train_cont, y_train)"
   ]
  },
  {
   "cell_type": "code",
   "execution_count": 69,
   "metadata": {
    "ExecuteTime": {
     "end_time": "2022-07-14T22:29:36.199074Z",
     "start_time": "2022-07-14T22:29:36.182621Z"
    },
    "colab": {
     "base_uri": "https://localhost:8080/"
    },
    "id": "nb6wciJhdedh",
    "outputId": "60e3418b-927b-4b31-ea1e-99a8693fed5b"
   },
   "outputs": [
    {
     "data": {
      "text/plain": [
       "0    828403\n",
       "1    828403\n",
       "dtype: int64"
      ]
     },
     "execution_count": 69,
     "metadata": {},
     "output_type": "execute_result"
    }
   ],
   "source": [
    "pd.Series(y_train_smote).value_counts()"
   ]
  },
  {
   "cell_type": "code",
   "execution_count": 70,
   "metadata": {
    "ExecuteTime": {
     "end_time": "2022-07-14T22:29:48.058020Z",
     "start_time": "2022-07-14T22:29:36.200797Z"
    },
    "colab": {
     "base_uri": "https://localhost:8080/"
    },
    "id": "Ld4zCxi4dY9Y",
    "outputId": "f1f8dca7-6b55-47af-f19e-9de6dbafeea3"
   },
   "outputs": [
    {
     "data": {
      "text/html": [
       "<style>#sk-container-id-8 {color: black;background-color: white;}#sk-container-id-8 pre{padding: 0;}#sk-container-id-8 div.sk-toggleable {background-color: white;}#sk-container-id-8 label.sk-toggleable__label {cursor: pointer;display: block;width: 100%;margin-bottom: 0;padding: 0.3em;box-sizing: border-box;text-align: center;}#sk-container-id-8 label.sk-toggleable__label-arrow:before {content: \"▸\";float: left;margin-right: 0.25em;color: #696969;}#sk-container-id-8 label.sk-toggleable__label-arrow:hover:before {color: black;}#sk-container-id-8 div.sk-estimator:hover label.sk-toggleable__label-arrow:before {color: black;}#sk-container-id-8 div.sk-toggleable__content {max-height: 0;max-width: 0;overflow: hidden;text-align: left;background-color: #f0f8ff;}#sk-container-id-8 div.sk-toggleable__content pre {margin: 0.2em;color: black;border-radius: 0.25em;background-color: #f0f8ff;}#sk-container-id-8 input.sk-toggleable__control:checked~div.sk-toggleable__content {max-height: 200px;max-width: 100%;overflow: auto;}#sk-container-id-8 input.sk-toggleable__control:checked~label.sk-toggleable__label-arrow:before {content: \"▾\";}#sk-container-id-8 div.sk-estimator input.sk-toggleable__control:checked~label.sk-toggleable__label {background-color: #d4ebff;}#sk-container-id-8 div.sk-label input.sk-toggleable__control:checked~label.sk-toggleable__label {background-color: #d4ebff;}#sk-container-id-8 input.sk-hidden--visually {border: 0;clip: rect(1px 1px 1px 1px);clip: rect(1px, 1px, 1px, 1px);height: 1px;margin: -1px;overflow: hidden;padding: 0;position: absolute;width: 1px;}#sk-container-id-8 div.sk-estimator {font-family: monospace;background-color: #f0f8ff;border: 1px dotted black;border-radius: 0.25em;box-sizing: border-box;margin-bottom: 0.5em;}#sk-container-id-8 div.sk-estimator:hover {background-color: #d4ebff;}#sk-container-id-8 div.sk-parallel-item::after {content: \"\";width: 100%;border-bottom: 1px solid gray;flex-grow: 1;}#sk-container-id-8 div.sk-label:hover label.sk-toggleable__label {background-color: #d4ebff;}#sk-container-id-8 div.sk-serial::before {content: \"\";position: absolute;border-left: 1px solid gray;box-sizing: border-box;top: 0;bottom: 0;left: 50%;z-index: 0;}#sk-container-id-8 div.sk-serial {display: flex;flex-direction: column;align-items: center;background-color: white;padding-right: 0.2em;padding-left: 0.2em;position: relative;}#sk-container-id-8 div.sk-item {position: relative;z-index: 1;}#sk-container-id-8 div.sk-parallel {display: flex;align-items: stretch;justify-content: center;background-color: white;position: relative;}#sk-container-id-8 div.sk-item::before, #sk-container-id-8 div.sk-parallel-item::before {content: \"\";position: absolute;border-left: 1px solid gray;box-sizing: border-box;top: 0;bottom: 0;left: 50%;z-index: -1;}#sk-container-id-8 div.sk-parallel-item {display: flex;flex-direction: column;z-index: 1;position: relative;background-color: white;}#sk-container-id-8 div.sk-parallel-item:first-child::after {align-self: flex-end;width: 50%;}#sk-container-id-8 div.sk-parallel-item:last-child::after {align-self: flex-start;width: 50%;}#sk-container-id-8 div.sk-parallel-item:only-child::after {width: 0;}#sk-container-id-8 div.sk-dashed-wrapped {border: 1px dashed gray;margin: 0 0.4em 0.5em 0.4em;box-sizing: border-box;padding-bottom: 0.4em;background-color: white;}#sk-container-id-8 div.sk-label label {font-family: monospace;font-weight: bold;display: inline-block;line-height: 1.2em;}#sk-container-id-8 div.sk-label-container {text-align: center;}#sk-container-id-8 div.sk-container {/* jupyter's `normalize.less` sets `[hidden] { display: none; }` but bootstrap.min.css set `[hidden] { display: none !important; }` so we also need the `!important` here to be able to override the default hidden behavior on the sphinx rendered scikit-learn.org. See: https://github.com/scikit-learn/scikit-learn/issues/21755 */display: inline-block !important;position: relative;}#sk-container-id-8 div.sk-text-repr-fallback {display: none;}</style><div id=\"sk-container-id-8\" class=\"sk-top-container\"><div class=\"sk-text-repr-fallback\"><pre>XGBClassifier(base_score=0.5, booster=&#x27;gbtree&#x27;, callbacks=None,\n",
       "              colsample_bylevel=1, colsample_bynode=1, colsample_bytree=1,\n",
       "              early_stopping_rounds=None, enable_categorical=False,\n",
       "              eval_metric=None, gamma=0, gpu_id=-1, grow_policy=&#x27;depthwise&#x27;,\n",
       "              importance_type=None, interaction_constraints=&#x27;&#x27;,\n",
       "              learning_rate=0.300000012, max_bin=256, max_cat_to_onehot=4,\n",
       "              max_delta_step=0, max_depth=6, max_leaves=0, min_child_weight=1,\n",
       "              missing=nan, monotone_constraints=&#x27;()&#x27;, n_estimators=100,\n",
       "              n_jobs=-1, num_parallel_tree=1, predictor=&#x27;auto&#x27;, random_state=0,\n",
       "              reg_alpha=0, reg_lambda=1, ...)</pre><b>In a Jupyter environment, please rerun this cell to show the HTML representation or trust the notebook. <br />On GitHub, the HTML representation is unable to render, please try loading this page with nbviewer.org.</b></div><div class=\"sk-container\" hidden><div class=\"sk-item\"><div class=\"sk-estimator sk-toggleable\"><input class=\"sk-toggleable__control sk-hidden--visually\" id=\"sk-estimator-id-8\" type=\"checkbox\" checked><label for=\"sk-estimator-id-8\" class=\"sk-toggleable__label sk-toggleable__label-arrow\">XGBClassifier</label><div class=\"sk-toggleable__content\"><pre>XGBClassifier(base_score=0.5, booster=&#x27;gbtree&#x27;, callbacks=None,\n",
       "              colsample_bylevel=1, colsample_bynode=1, colsample_bytree=1,\n",
       "              early_stopping_rounds=None, enable_categorical=False,\n",
       "              eval_metric=None, gamma=0, gpu_id=-1, grow_policy=&#x27;depthwise&#x27;,\n",
       "              importance_type=None, interaction_constraints=&#x27;&#x27;,\n",
       "              learning_rate=0.300000012, max_bin=256, max_cat_to_onehot=4,\n",
       "              max_delta_step=0, max_depth=6, max_leaves=0, min_child_weight=1,\n",
       "              missing=nan, monotone_constraints=&#x27;()&#x27;, n_estimators=100,\n",
       "              n_jobs=-1, num_parallel_tree=1, predictor=&#x27;auto&#x27;, random_state=0,\n",
       "              reg_alpha=0, reg_lambda=1, ...)</pre></div></div></div></div></div>"
      ],
      "text/plain": [
       "XGBClassifier(base_score=0.5, booster='gbtree', callbacks=None,\n",
       "              colsample_bylevel=1, colsample_bynode=1, colsample_bytree=1,\n",
       "              early_stopping_rounds=None, enable_categorical=False,\n",
       "              eval_metric=None, gamma=0, gpu_id=-1, grow_policy='depthwise',\n",
       "              importance_type=None, interaction_constraints='',\n",
       "              learning_rate=0.300000012, max_bin=256, max_cat_to_onehot=4,\n",
       "              max_delta_step=0, max_depth=6, max_leaves=0, min_child_weight=1,\n",
       "              missing=nan, monotone_constraints='()', n_estimators=100,\n",
       "              n_jobs=-1, num_parallel_tree=1, predictor='auto', random_state=0,\n",
       "              reg_alpha=0, reg_lambda=1, ...)"
      ]
     },
     "execution_count": 70,
     "metadata": {},
     "output_type": "execute_result"
    }
   ],
   "source": [
    "# we will use history binning for XGBoost to speed up the training process\n",
    "xgb_smote = XGBClassifier(n_jobs=-1, tree_method=\"hist\", random_state=0)\n",
    "xgb_smote.fit(X_train_smote, y_train_smote)"
   ]
  },
  {
   "cell_type": "code",
   "execution_count": 71,
   "metadata": {
    "ExecuteTime": {
     "end_time": "2022-07-14T22:29:49.538918Z",
     "start_time": "2022-07-14T22:29:48.059465Z"
    },
    "colab": {
     "base_uri": "https://localhost:8080/"
    },
    "id": "rYWQdoN_dY9Y",
    "outputId": "4431dcf8-e8dd-4b56-a7c6-a6147835b4de"
   },
   "outputs": [
    {
     "name": "stdout",
     "output_type": "stream",
     "text": [
      "validation performance : 67.72\n",
      "test performance :64.38\n"
     ]
    }
   ],
   "source": [
    "preds_val_xgb_smote, preds_test_xgb_smote = model_predictions(xgb_smote, X_val_cont, X_test_cont)"
   ]
  },
  {
   "cell_type": "code",
   "execution_count": 72,
   "metadata": {
    "ExecuteTime": {
     "end_time": "2022-07-14T22:29:49.543957Z",
     "start_time": "2022-07-14T22:29:49.540127Z"
    },
    "id": "18m_aRoZdY9Y"
   },
   "outputs": [],
   "source": [
    "del xgb_smote, X_train_smote, y_train_smote"
   ]
  },
  {
   "cell_type": "markdown",
   "metadata": {
    "id": "0sW5zjR3ktdv"
   },
   "source": [
    "# Balancing positive and negative weights with `scale_pos_weight`"
   ]
  },
  {
   "cell_type": "code",
   "execution_count": 73,
   "metadata": {
    "ExecuteTime": {
     "end_time": "2022-07-14T22:29:49.554886Z",
     "start_time": "2022-07-14T22:29:49.545335Z"
    },
    "colab": {
     "base_uri": "https://localhost:8080/"
    },
    "id": "OqDqBYTTjJSI",
    "outputId": "f4c32a24-d30f-4288-f491-1d3c02b1b929"
   },
   "outputs": [
    {
     "name": "stdout",
     "output_type": "stream",
     "text": [
      "21.172698461381177\n"
     ]
    }
   ],
   "source": [
    "scale_pos_weight = (y_train.shape[0] - y_train.sum()) / y_train.sum()\n",
    "print(scale_pos_weight)"
   ]
  },
  {
   "cell_type": "code",
   "execution_count": 74,
   "metadata": {
    "ExecuteTime": {
     "end_time": "2022-07-14T22:29:58.303325Z",
     "start_time": "2022-07-14T22:29:49.556239Z"
    },
    "colab": {
     "base_uri": "https://localhost:8080/"
    },
    "id": "Pm3PvPMScRRY",
    "outputId": "6141504c-b200-49ca-a2a4-b93b1b82ddf2"
   },
   "outputs": [
    {
     "data": {
      "text/html": [
       "<style>#sk-container-id-9 {color: black;background-color: white;}#sk-container-id-9 pre{padding: 0;}#sk-container-id-9 div.sk-toggleable {background-color: white;}#sk-container-id-9 label.sk-toggleable__label {cursor: pointer;display: block;width: 100%;margin-bottom: 0;padding: 0.3em;box-sizing: border-box;text-align: center;}#sk-container-id-9 label.sk-toggleable__label-arrow:before {content: \"▸\";float: left;margin-right: 0.25em;color: #696969;}#sk-container-id-9 label.sk-toggleable__label-arrow:hover:before {color: black;}#sk-container-id-9 div.sk-estimator:hover label.sk-toggleable__label-arrow:before {color: black;}#sk-container-id-9 div.sk-toggleable__content {max-height: 0;max-width: 0;overflow: hidden;text-align: left;background-color: #f0f8ff;}#sk-container-id-9 div.sk-toggleable__content pre {margin: 0.2em;color: black;border-radius: 0.25em;background-color: #f0f8ff;}#sk-container-id-9 input.sk-toggleable__control:checked~div.sk-toggleable__content {max-height: 200px;max-width: 100%;overflow: auto;}#sk-container-id-9 input.sk-toggleable__control:checked~label.sk-toggleable__label-arrow:before {content: \"▾\";}#sk-container-id-9 div.sk-estimator input.sk-toggleable__control:checked~label.sk-toggleable__label {background-color: #d4ebff;}#sk-container-id-9 div.sk-label input.sk-toggleable__control:checked~label.sk-toggleable__label {background-color: #d4ebff;}#sk-container-id-9 input.sk-hidden--visually {border: 0;clip: rect(1px 1px 1px 1px);clip: rect(1px, 1px, 1px, 1px);height: 1px;margin: -1px;overflow: hidden;padding: 0;position: absolute;width: 1px;}#sk-container-id-9 div.sk-estimator {font-family: monospace;background-color: #f0f8ff;border: 1px dotted black;border-radius: 0.25em;box-sizing: border-box;margin-bottom: 0.5em;}#sk-container-id-9 div.sk-estimator:hover {background-color: #d4ebff;}#sk-container-id-9 div.sk-parallel-item::after {content: \"\";width: 100%;border-bottom: 1px solid gray;flex-grow: 1;}#sk-container-id-9 div.sk-label:hover label.sk-toggleable__label {background-color: #d4ebff;}#sk-container-id-9 div.sk-serial::before {content: \"\";position: absolute;border-left: 1px solid gray;box-sizing: border-box;top: 0;bottom: 0;left: 50%;z-index: 0;}#sk-container-id-9 div.sk-serial {display: flex;flex-direction: column;align-items: center;background-color: white;padding-right: 0.2em;padding-left: 0.2em;position: relative;}#sk-container-id-9 div.sk-item {position: relative;z-index: 1;}#sk-container-id-9 div.sk-parallel {display: flex;align-items: stretch;justify-content: center;background-color: white;position: relative;}#sk-container-id-9 div.sk-item::before, #sk-container-id-9 div.sk-parallel-item::before {content: \"\";position: absolute;border-left: 1px solid gray;box-sizing: border-box;top: 0;bottom: 0;left: 50%;z-index: -1;}#sk-container-id-9 div.sk-parallel-item {display: flex;flex-direction: column;z-index: 1;position: relative;background-color: white;}#sk-container-id-9 div.sk-parallel-item:first-child::after {align-self: flex-end;width: 50%;}#sk-container-id-9 div.sk-parallel-item:last-child::after {align-self: flex-start;width: 50%;}#sk-container-id-9 div.sk-parallel-item:only-child::after {width: 0;}#sk-container-id-9 div.sk-dashed-wrapped {border: 1px dashed gray;margin: 0 0.4em 0.5em 0.4em;box-sizing: border-box;padding-bottom: 0.4em;background-color: white;}#sk-container-id-9 div.sk-label label {font-family: monospace;font-weight: bold;display: inline-block;line-height: 1.2em;}#sk-container-id-9 div.sk-label-container {text-align: center;}#sk-container-id-9 div.sk-container {/* jupyter's `normalize.less` sets `[hidden] { display: none; }` but bootstrap.min.css set `[hidden] { display: none !important; }` so we also need the `!important` here to be able to override the default hidden behavior on the sphinx rendered scikit-learn.org. See: https://github.com/scikit-learn/scikit-learn/issues/21755 */display: inline-block !important;position: relative;}#sk-container-id-9 div.sk-text-repr-fallback {display: none;}</style><div id=\"sk-container-id-9\" class=\"sk-top-container\"><div class=\"sk-text-repr-fallback\"><pre>XGBClassifier(base_score=0.5, booster=&#x27;gbtree&#x27;, callbacks=None,\n",
       "              colsample_bylevel=1, colsample_bynode=1, colsample_bytree=1,\n",
       "              early_stopping_rounds=None, enable_categorical=False,\n",
       "              eval_metric=None, gamma=0, gpu_id=-1, grow_policy=&#x27;depthwise&#x27;,\n",
       "              importance_type=None, interaction_constraints=&#x27;&#x27;,\n",
       "              learning_rate=0.300000012, max_bin=256, max_cat_to_onehot=4,\n",
       "              max_delta_step=0, max_depth=6, max_leaves=0, min_child_weight=1,\n",
       "              missing=nan, monotone_constraints=&#x27;()&#x27;, n_estimators=100,\n",
       "              n_jobs=-1, num_parallel_tree=1, predictor=&#x27;auto&#x27;, random_state=0,\n",
       "              reg_alpha=0, reg_lambda=1, ...)</pre><b>In a Jupyter environment, please rerun this cell to show the HTML representation or trust the notebook. <br />On GitHub, the HTML representation is unable to render, please try loading this page with nbviewer.org.</b></div><div class=\"sk-container\" hidden><div class=\"sk-item\"><div class=\"sk-estimator sk-toggleable\"><input class=\"sk-toggleable__control sk-hidden--visually\" id=\"sk-estimator-id-9\" type=\"checkbox\" checked><label for=\"sk-estimator-id-9\" class=\"sk-toggleable__label sk-toggleable__label-arrow\">XGBClassifier</label><div class=\"sk-toggleable__content\"><pre>XGBClassifier(base_score=0.5, booster=&#x27;gbtree&#x27;, callbacks=None,\n",
       "              colsample_bylevel=1, colsample_bynode=1, colsample_bytree=1,\n",
       "              early_stopping_rounds=None, enable_categorical=False,\n",
       "              eval_metric=None, gamma=0, gpu_id=-1, grow_policy=&#x27;depthwise&#x27;,\n",
       "              importance_type=None, interaction_constraints=&#x27;&#x27;,\n",
       "              learning_rate=0.300000012, max_bin=256, max_cat_to_onehot=4,\n",
       "              max_delta_step=0, max_depth=6, max_leaves=0, min_child_weight=1,\n",
       "              missing=nan, monotone_constraints=&#x27;()&#x27;, n_estimators=100,\n",
       "              n_jobs=-1, num_parallel_tree=1, predictor=&#x27;auto&#x27;, random_state=0,\n",
       "              reg_alpha=0, reg_lambda=1, ...)</pre></div></div></div></div></div>"
      ],
      "text/plain": [
       "XGBClassifier(base_score=0.5, booster='gbtree', callbacks=None,\n",
       "              colsample_bylevel=1, colsample_bynode=1, colsample_bytree=1,\n",
       "              early_stopping_rounds=None, enable_categorical=False,\n",
       "              eval_metric=None, gamma=0, gpu_id=-1, grow_policy='depthwise',\n",
       "              importance_type=None, interaction_constraints='',\n",
       "              learning_rate=0.300000012, max_bin=256, max_cat_to_onehot=4,\n",
       "              max_delta_step=0, max_depth=6, max_leaves=0, min_child_weight=1,\n",
       "              missing=nan, monotone_constraints='()', n_estimators=100,\n",
       "              n_jobs=-1, num_parallel_tree=1, predictor='auto', random_state=0,\n",
       "              reg_alpha=0, reg_lambda=1, ...)"
      ]
     },
     "execution_count": 74,
     "metadata": {},
     "output_type": "execute_result"
    }
   ],
   "source": [
    "# we will use history binning for XGBoost to speed up the training process\n",
    "xgb_all_penalized = XGBClassifier(n_jobs=-1, tree_method=\"hist\", random_state=0, scale_pos_weight=scale_pos_weight)\n",
    "xgb_all_penalized.fit(X_train_all, y_train_all)"
   ]
  },
  {
   "cell_type": "code",
   "execution_count": 75,
   "metadata": {
    "ExecuteTime": {
     "end_time": "2022-07-14T22:30:00.098353Z",
     "start_time": "2022-07-14T22:29:58.305182Z"
    },
    "colab": {
     "base_uri": "https://localhost:8080/"
    },
    "id": "86wsOJj9j1ra",
    "outputId": "58468004-8764-418b-8d07-fb1f54eeaab5"
   },
   "outputs": [
    {
     "name": "stdout",
     "output_type": "stream",
     "text": [
      "validation performance : 70.19\n",
      "test performance :64.06\n"
     ]
    }
   ],
   "source": [
    "preds_val_xgb_all_penalized, preds_test_xgb_all_penalized = model_predictions(xgb_all_penalized)"
   ]
  },
  {
   "cell_type": "code",
   "execution_count": 76,
   "metadata": {
    "ExecuteTime": {
     "end_time": "2022-07-14T22:30:00.102188Z",
     "start_time": "2022-07-14T22:30:00.099750Z"
    },
    "id": "hqyfZeb9kBfy"
   },
   "outputs": [],
   "source": [
    "del xgb_all_penalized"
   ]
  },
  {
   "cell_type": "code",
   "execution_count": 77,
   "metadata": {
    "ExecuteTime": {
     "end_time": "2022-07-14T22:30:00.585878Z",
     "start_time": "2022-07-14T22:30:00.103493Z"
    },
    "colab": {
     "base_uri": "https://localhost:8080/"
    },
    "id": "DZClzc08lJyN",
    "outputId": "b16056a2-ef33-4dad-9a6f-87a757172b42"
   },
   "outputs": [
    {
     "data": {
      "text/plain": [
       "[('df', 1843273404),\n",
       " ('sample_train', 106922967),\n",
       " ('X_train_resampled', 29422880),\n",
       " ('X_train_resampled_cont', 20032640),\n",
       " ('ns_probs_val', 7943560),\n",
       " ('ns_probs_test', 7767792),\n",
       " ('prediction', 7767792),\n",
       " ('y_train_resampled', 626128),\n",
       " ('y_train_resampled_cont', 626128),\n",
       " ('RandomForestClassifier', 2008)]"
      ]
     },
     "execution_count": 77,
     "metadata": {},
     "output_type": "execute_result"
    }
   ],
   "source": [
    "import sys\n",
    "\n",
    "ipython_vars = ['In', 'Out', 'exit', 'quit', 'get_ipython', 'ipython_vars']\n",
    "\n",
    "# Get a sorted list of the objects and their sizes\n",
    "sorted([(x, sys.getsizeof(globals().get(x))) for x in dir() if not x.startswith('_') and x not in sys.modules and x not in ipython_vars], key=lambda x: x[1], reverse=True)[:10]\n"
   ]
  },
  {
   "cell_type": "code",
   "execution_count": 78,
   "metadata": {
    "ExecuteTime": {
     "end_time": "2022-07-14T22:30:00.595336Z",
     "start_time": "2022-07-14T22:30:00.587351Z"
    },
    "id": "BvwWql2HltA_"
   },
   "outputs": [],
   "source": [
    "del sample_train, X_train_resampled, X_train_resampled_cont, ns_probs_val, ns_probs_test, prediction, y_train_resampled, y_train_resampled_cont"
   ]
  },
  {
   "cell_type": "markdown",
   "metadata": {
    "id": "rGKegx1IqxjB"
   },
   "source": [
    "# Basic For Loop for Feature Selection"
   ]
  },
  {
   "cell_type": "code",
   "execution_count": 79,
   "metadata": {
    "ExecuteTime": {
     "end_time": "2022-07-14T22:30:01.152660Z",
     "start_time": "2022-07-14T22:30:00.596871Z"
    },
    "id": "zy4cp1rSpyM2"
   },
   "outputs": [],
   "source": [
    "train_df = df[df.date_pred == 201701]\n",
    "validation_df = df[df.date_pred == 201702]\n",
    "test_df = df[df.date_pred == 201703]"
   ]
  },
  {
   "cell_type": "code",
   "execution_count": 104,
   "metadata": {
    "ExecuteTime": {
     "end_time": "2022-07-14T22:51:35.589699Z",
     "start_time": "2022-07-14T22:49:09.298722Z"
    },
    "colab": {
     "base_uri": "https://localhost:8080/"
    },
    "id": "xHLNkfGtnIwV",
    "outputId": "37d8b4b1-949c-48cf-bcf6-21c91342692e",
    "scrolled": true
   },
   "outputs": [
    {
     "name": "stdout",
     "output_type": "stream",
     "text": [
      "('bd', 0.5963032636918917)\n",
      "('tenure_days', 0.624654764461558)\n",
      "('actual_amount_paid_min', 0.7558299273991331)\n",
      "('actual_amount_paid_max', 0.7744721398027364)\n",
      "('actual_amount_paid_mean', 0.7749386148930597)\n",
      "('actual_amount_paid_std', 0.7742643126460682)\n",
      "('actual_amount_paid_sum', 0.7762783321244138)\n",
      "('is_auto_renew_mean', 0.7941068822265926)\n",
      "('is_auto_renew_sum', 0.7953513492583767)\n",
      "('is_cancel_sum', 0.8220235626629369)\n",
      "('is_cancel_mean', 0.8246194248738901)\n",
      "('msno_count_x', 0.8242663590321417)\n",
      "('diff_dates_min', 0.8004069610966686)\n",
      "('diff_dates_max', 0.8122154083756464)\n",
      "('diff_dates_mean', 0.7802787242313367)\n",
      "('diff_dates_std', 0.8105131913125599)\n",
      "('churn_mean', 0.6417777434480427)\n",
      "('churn_sum', 0.6077585675192119)\n",
      "('days_last_trx', 0.6529901807238152)\n",
      "('total_secs_sum', 0.6318396409075137)\n",
      "('total_secs_mean', 0.6361109616291888)\n",
      "('total_secs_std', 0.664033764043969)\n",
      "('num_unq_sum', 0.6544866838115116)\n",
      "('num_unq_mean', 0.6379194504396807)\n",
      "('num_unq_std', 0.67587187199602)\n",
      "('msno_count_y', 0.6475309666358678)\n",
      "('nbr_logins_monthly_mean', 0.6221821666862835)\n",
      "('nbr_logins_monthly_max', 0.6847109189454169)\n",
      "('nbr_logins_monthly_min', 0.6913392980615669)\n",
      "('nbr_logins_monthly_std', 0.7178553667539125)\n",
      "('nbr_logins_monthly_count', 0.7072580230349758)\n",
      "('last_login_days', 0.7130745268184882)\n"
     ]
    }
   ],
   "source": [
    "auc_feature_selection = []\n",
    "\n",
    "for i, column in enumerate(cont_cols):\n",
    "    keep_cols = cont_cols[:i+1]\n",
    "    \n",
    "    X_train, y_train = train_df[keep_cols], train_df['is_churn']\n",
    "    X_val, y_val = validation_df[keep_cols], validation_df['is_churn']    \n",
    "    \n",
    "    clf = XGBClassifier(n_jobs=-1, tree_method=\"hist\", random_state=0)\n",
    "    clf.fit(X_train, y_train, verbose=False)\n",
    "    \n",
    "    preds = clf.predict_proba(X_val)[:, 1]\n",
    "\n",
    "    auc = roc_auc_score(y_val, preds)\n",
    "    auc_feature_selection.append((column, auc))\n",
    "    print(auc_feature_selection[i])"
   ]
  },
  {
   "cell_type": "markdown",
   "metadata": {},
   "source": [
    "We can see here that there is a huge dip in performance after adding the two variables `churn_mean` and `churn_sum`, this might be due to the fact that they are highly correlated with `is_cancel_mean` and `is_cancel_sum`. There is no need to actually check or remove correlated variables since we will only keep the variables that will increase the performance after getting added to the model."
   ]
  },
  {
   "cell_type": "code",
   "execution_count": 105,
   "metadata": {
    "ExecuteTime": {
     "end_time": "2022-07-14T22:51:35.594572Z",
     "start_time": "2022-07-14T22:51:35.591452Z"
    },
    "id": "WxatlSzFrBsf"
   },
   "outputs": [],
   "source": [
    "city_columns = [x for x in train_df.columns if x.startswith('city')]\n",
    "registration_columns = [x for x in train_df.columns if x.startswith('registered')]\n",
    "\n",
    "categ_columns = [city_columns, registration_columns]\n",
    "\n",
    "auc_copy = auc_feature_selection.copy()\n",
    "\n",
    "auc_feature_selection = auc_copy\n",
    "\n",
    "keep_cols = list(cont_cols)"
   ]
  },
  {
   "cell_type": "code",
   "execution_count": 112,
   "metadata": {
    "ExecuteTime": {
     "end_time": "2022-07-14T22:57:14.890451Z",
     "start_time": "2022-07-14T22:57:00.786860Z"
    },
    "colab": {
     "base_uri": "https://localhost:8080/"
    },
    "id": "4XTyJhGasXOC",
    "outputId": "afb5f2d5-802b-4523-fca2-9c5a568e367a"
   },
   "outputs": [
    {
     "name": "stdout",
     "output_type": "stream",
     "text": [
      "(['city_1', 'city_4', 'city_5', 'city_13', 'city_15', 'city_22', 'city_other'], 0.7008727448765381)\n",
      "(['registered_via_3', 'registered_via_4', 'registered_via_7', 'registered_via_9', 'registered_via_11', 'registered_via_13', 'registered_via_other'], 0.6994829462006826)\n"
     ]
    }
   ],
   "source": [
    "for i, categ_feature in enumerate(categ_columns):\n",
    "    keep_cols += categ_feature\n",
    "    \n",
    "    X_train, y_train = train_df[keep_cols], train_df['is_churn']\n",
    "    X_val, y_val = validation_df[keep_cols], validation_df['is_churn']\n",
    "    \n",
    "    clf = XGBClassifier(n_jobs=-1, tree_method=\"hist\", random_state=0)\n",
    "    clf.fit(X_train, y_train)\n",
    "    \n",
    "    preds = clf.predict_proba(X_val)[:, 1]\n",
    "    \n",
    "    auc = roc_auc_score(y_val, preds)\n",
    "    auc_feature_selection.append((categ_feature, auc))\n",
    "    print(auc_feature_selection[-1])\n",
    "    "
   ]
  },
  {
   "cell_type": "code",
   "execution_count": 113,
   "metadata": {
    "ExecuteTime": {
     "end_time": "2022-07-14T22:57:34.318272Z",
     "start_time": "2022-07-14T22:57:34.315991Z"
    }
   },
   "outputs": [
    {
     "name": "stdout",
     "output_type": "stream",
     "text": [
      "[('bd', 0.5963032636918917), ('tenure_days', 0.624654764461558), ('actual_amount_paid_min', 0.7558299273991331), ('actual_amount_paid_max', 0.7744721398027364), ('actual_amount_paid_mean', 0.7749386148930597), ('actual_amount_paid_std', 0.7742643126460682), ('actual_amount_paid_sum', 0.7762783321244138), ('is_auto_renew_mean', 0.7941068822265926), ('is_auto_renew_sum', 0.7953513492583767), ('is_cancel_sum', 0.8220235626629369), ('is_cancel_mean', 0.8246194248738901), ('msno_count_x', 0.8242663590321417), ('diff_dates_min', 0.8004069610966686), ('diff_dates_max', 0.8122154083756464), ('diff_dates_mean', 0.7802787242313367), ('diff_dates_std', 0.8105131913125599), ('churn_mean', 0.6417777434480427), ('churn_sum', 0.6077585675192119), ('days_last_trx', 0.6529901807238152), ('total_secs_sum', 0.6318396409075137), ('total_secs_mean', 0.6361109616291888), ('total_secs_std', 0.664033764043969), ('num_unq_sum', 0.6544866838115116), ('num_unq_mean', 0.6379194504396807), ('num_unq_std', 0.67587187199602), ('msno_count_y', 0.6475309666358678), ('nbr_logins_monthly_mean', 0.6221821666862835), ('nbr_logins_monthly_max', 0.6847109189454169), ('nbr_logins_monthly_min', 0.6913392980615669), ('nbr_logins_monthly_std', 0.7178553667539125), ('nbr_logins_monthly_count', 0.7072580230349758), ('last_login_days', 0.7130745268184882), (['city_1', 'city_4', 'city_5', 'city_13', 'city_15', 'city_22', 'city_other'], 0.7008727448765381), (['registered_via_3', 'registered_via_4', 'registered_via_7', 'registered_via_9', 'registered_via_11', 'registered_via_13', 'registered_via_other'], 0.6994829462006826)]\n"
     ]
    }
   ],
   "source": [
    "print(auc_feature_selection)"
   ]
  },
  {
   "cell_type": "code",
   "execution_count": 114,
   "metadata": {
    "ExecuteTime": {
     "end_time": "2022-07-14T22:57:45.433717Z",
     "start_time": "2022-07-14T22:57:45.431641Z"
    },
    "id": "DenfuQEDshXB"
   },
   "outputs": [],
   "source": [
    "final_auc = [x[1] for x in auc_feature_selection]"
   ]
  },
  {
   "cell_type": "code",
   "execution_count": 115,
   "metadata": {
    "ExecuteTime": {
     "end_time": "2022-07-14T22:57:45.942111Z",
     "start_time": "2022-07-14T22:57:45.939783Z"
    },
    "id": "NMbHUmDMsklM"
   },
   "outputs": [],
   "source": [
    "keep_features = [True] + [True if final_auc[i] > final_auc[i-1] else False for i in range(1, len(final_auc))] "
   ]
  },
  {
   "cell_type": "code",
   "execution_count": 116,
   "metadata": {
    "ExecuteTime": {
     "end_time": "2022-07-14T22:57:46.422756Z",
     "start_time": "2022-07-14T22:57:46.420405Z"
    }
   },
   "outputs": [
    {
     "name": "stdout",
     "output_type": "stream",
     "text": [
      "[True, True, True, True, True, False, True, True, True, True, True, False, False, True, False, True, False, False, True, False, True, True, False, False, True, False, False, True, True, True, False, True, False, False]\n"
     ]
    }
   ],
   "source": [
    "print(keep_features)"
   ]
  },
  {
   "cell_type": "code",
   "execution_count": 85,
   "metadata": {
    "ExecuteTime": {
     "end_time": "2022-07-14T22:32:52.267873Z",
     "start_time": "2022-07-14T22:32:52.263260Z"
    },
    "id": "jOGcObxGs6Dc"
   },
   "outputs": [
    {
     "name": "stderr",
     "output_type": "stream",
     "text": [
      "/home/achraf/anaconda3/envs/env/lib/python3.8/site-packages/sklearn/linear_model/_logistic.py:444: ConvergenceWarning: lbfgs failed to converge (status=1):\n",
      "STOP: TOTAL NO. of ITERATIONS REACHED LIMIT.\n",
      "\n",
      "Increase the number of iterations (max_iter) or scale the data as shown in:\n",
      "    https://scikit-learn.org/stable/modules/preprocessing.html\n",
      "Please also refer to the documentation for alternative solver options:\n",
      "    https://scikit-learn.org/stable/modules/linear_model.html#logistic-regression\n",
      "  n_iter_i = _check_optimize_result(\n"
     ]
    }
   ],
   "source": [
    "result_feature_selection = list(zip(auc_feature_selection, keep_features))\n",
    "\n",
    "result_continous = result_feature_selection[:-2]\n",
    "\n",
    "final_keep_cols = [x[0][0][-1] for x in result_continous if x[1] ]"
   ]
  },
  {
   "cell_type": "code",
   "execution_count": 117,
   "metadata": {
    "ExecuteTime": {
     "end_time": "2022-07-14T22:58:04.246935Z",
     "start_time": "2022-07-14T22:58:04.244677Z"
    }
   },
   "outputs": [],
   "source": [
    "result_feature_selection = list(zip(auc_feature_selection, keep_features))"
   ]
  },
  {
   "cell_type": "code",
   "execution_count": 164,
   "metadata": {
    "ExecuteTime": {
     "end_time": "2022-07-14T23:13:22.269976Z",
     "start_time": "2022-07-14T23:13:22.267938Z"
    }
   },
   "outputs": [],
   "source": [
    "keep_columns = [x[0][0] for x in result_feature_selection if x[1]]"
   ]
  },
  {
   "cell_type": "code",
   "execution_count": 167,
   "metadata": {
    "ExecuteTime": {
     "end_time": "2022-07-14T23:14:05.454073Z",
     "start_time": "2022-07-14T23:14:05.451587Z"
    }
   },
   "outputs": [],
   "source": [
    "res_feature_selection = [keep_columns[0]]\n",
    "\n",
    "for x in test[1:]:\n",
    "    if type(x) == list:\n",
    "        print([x])\n",
    "        res_feature_selection += x\n",
    "    else:\n",
    "        res_feature_selection += [x]"
   ]
  },
  {
   "cell_type": "code",
   "execution_count": 170,
   "metadata": {
    "ExecuteTime": {
     "end_time": "2022-07-14T23:20:54.007019Z",
     "start_time": "2022-07-14T23:20:54.004345Z"
    }
   },
   "outputs": [
    {
     "name": "stdout",
     "output_type": "stream",
     "text": [
      "['bd', 'tenure_days', 'actual_amount_paid_min', 'actual_amount_paid_max', 'actual_amount_paid_mean', 'actual_amount_paid_sum', 'is_auto_renew_mean', 'is_auto_renew_sum', 'is_cancel_sum', 'is_cancel_mean', 'diff_dates_max', 'diff_dates_std', 'days_last_trx', 'total_secs_mean', 'total_secs_std', 'num_unq_std', 'nbr_logins_monthly_max', 'nbr_logins_monthly_min', 'nbr_logins_monthly_std', 'last_login_days']\n"
     ]
    }
   ],
   "source": [
    "print(res_feature_selection)"
   ]
  },
  {
   "cell_type": "code",
   "execution_count": 171,
   "metadata": {
    "ExecuteTime": {
     "end_time": "2022-07-14T23:23:22.943661Z",
     "start_time": "2022-07-14T23:23:18.428662Z"
    },
    "scrolled": true
   },
   "outputs": [
    {
     "data": {
      "text/html": [
       "<style>#sk-container-id-10 {color: black;background-color: white;}#sk-container-id-10 pre{padding: 0;}#sk-container-id-10 div.sk-toggleable {background-color: white;}#sk-container-id-10 label.sk-toggleable__label {cursor: pointer;display: block;width: 100%;margin-bottom: 0;padding: 0.3em;box-sizing: border-box;text-align: center;}#sk-container-id-10 label.sk-toggleable__label-arrow:before {content: \"▸\";float: left;margin-right: 0.25em;color: #696969;}#sk-container-id-10 label.sk-toggleable__label-arrow:hover:before {color: black;}#sk-container-id-10 div.sk-estimator:hover label.sk-toggleable__label-arrow:before {color: black;}#sk-container-id-10 div.sk-toggleable__content {max-height: 0;max-width: 0;overflow: hidden;text-align: left;background-color: #f0f8ff;}#sk-container-id-10 div.sk-toggleable__content pre {margin: 0.2em;color: black;border-radius: 0.25em;background-color: #f0f8ff;}#sk-container-id-10 input.sk-toggleable__control:checked~div.sk-toggleable__content {max-height: 200px;max-width: 100%;overflow: auto;}#sk-container-id-10 input.sk-toggleable__control:checked~label.sk-toggleable__label-arrow:before {content: \"▾\";}#sk-container-id-10 div.sk-estimator input.sk-toggleable__control:checked~label.sk-toggleable__label {background-color: #d4ebff;}#sk-container-id-10 div.sk-label input.sk-toggleable__control:checked~label.sk-toggleable__label {background-color: #d4ebff;}#sk-container-id-10 input.sk-hidden--visually {border: 0;clip: rect(1px 1px 1px 1px);clip: rect(1px, 1px, 1px, 1px);height: 1px;margin: -1px;overflow: hidden;padding: 0;position: absolute;width: 1px;}#sk-container-id-10 div.sk-estimator {font-family: monospace;background-color: #f0f8ff;border: 1px dotted black;border-radius: 0.25em;box-sizing: border-box;margin-bottom: 0.5em;}#sk-container-id-10 div.sk-estimator:hover {background-color: #d4ebff;}#sk-container-id-10 div.sk-parallel-item::after {content: \"\";width: 100%;border-bottom: 1px solid gray;flex-grow: 1;}#sk-container-id-10 div.sk-label:hover label.sk-toggleable__label {background-color: #d4ebff;}#sk-container-id-10 div.sk-serial::before {content: \"\";position: absolute;border-left: 1px solid gray;box-sizing: border-box;top: 0;bottom: 0;left: 50%;z-index: 0;}#sk-container-id-10 div.sk-serial {display: flex;flex-direction: column;align-items: center;background-color: white;padding-right: 0.2em;padding-left: 0.2em;position: relative;}#sk-container-id-10 div.sk-item {position: relative;z-index: 1;}#sk-container-id-10 div.sk-parallel {display: flex;align-items: stretch;justify-content: center;background-color: white;position: relative;}#sk-container-id-10 div.sk-item::before, #sk-container-id-10 div.sk-parallel-item::before {content: \"\";position: absolute;border-left: 1px solid gray;box-sizing: border-box;top: 0;bottom: 0;left: 50%;z-index: -1;}#sk-container-id-10 div.sk-parallel-item {display: flex;flex-direction: column;z-index: 1;position: relative;background-color: white;}#sk-container-id-10 div.sk-parallel-item:first-child::after {align-self: flex-end;width: 50%;}#sk-container-id-10 div.sk-parallel-item:last-child::after {align-self: flex-start;width: 50%;}#sk-container-id-10 div.sk-parallel-item:only-child::after {width: 0;}#sk-container-id-10 div.sk-dashed-wrapped {border: 1px dashed gray;margin: 0 0.4em 0.5em 0.4em;box-sizing: border-box;padding-bottom: 0.4em;background-color: white;}#sk-container-id-10 div.sk-label label {font-family: monospace;font-weight: bold;display: inline-block;line-height: 1.2em;}#sk-container-id-10 div.sk-label-container {text-align: center;}#sk-container-id-10 div.sk-container {/* jupyter's `normalize.less` sets `[hidden] { display: none; }` but bootstrap.min.css set `[hidden] { display: none !important; }` so we also need the `!important` here to be able to override the default hidden behavior on the sphinx rendered scikit-learn.org. See: https://github.com/scikit-learn/scikit-learn/issues/21755 */display: inline-block !important;position: relative;}#sk-container-id-10 div.sk-text-repr-fallback {display: none;}</style><div id=\"sk-container-id-10\" class=\"sk-top-container\"><div class=\"sk-text-repr-fallback\"><pre>XGBClassifier(base_score=0.5, booster=&#x27;gbtree&#x27;, callbacks=None,\n",
       "              colsample_bylevel=1, colsample_bynode=1, colsample_bytree=1,\n",
       "              early_stopping_rounds=None, enable_categorical=False,\n",
       "              eval_metric=None, gamma=0, gpu_id=-1, grow_policy=&#x27;depthwise&#x27;,\n",
       "              importance_type=None, interaction_constraints=&#x27;&#x27;,\n",
       "              learning_rate=0.300000012, max_bin=256, max_cat_to_onehot=4,\n",
       "              max_delta_step=0, max_depth=6, max_leaves=0, min_child_weight=1,\n",
       "              missing=nan, monotone_constraints=&#x27;()&#x27;, n_estimators=100,\n",
       "              n_jobs=-1, num_parallel_tree=1, predictor=&#x27;auto&#x27;, random_state=0,\n",
       "              reg_alpha=0, reg_lambda=1, ...)</pre><b>In a Jupyter environment, please rerun this cell to show the HTML representation or trust the notebook. <br />On GitHub, the HTML representation is unable to render, please try loading this page with nbviewer.org.</b></div><div class=\"sk-container\" hidden><div class=\"sk-item\"><div class=\"sk-estimator sk-toggleable\"><input class=\"sk-toggleable__control sk-hidden--visually\" id=\"sk-estimator-id-10\" type=\"checkbox\" checked><label for=\"sk-estimator-id-10\" class=\"sk-toggleable__label sk-toggleable__label-arrow\">XGBClassifier</label><div class=\"sk-toggleable__content\"><pre>XGBClassifier(base_score=0.5, booster=&#x27;gbtree&#x27;, callbacks=None,\n",
       "              colsample_bylevel=1, colsample_bynode=1, colsample_bytree=1,\n",
       "              early_stopping_rounds=None, enable_categorical=False,\n",
       "              eval_metric=None, gamma=0, gpu_id=-1, grow_policy=&#x27;depthwise&#x27;,\n",
       "              importance_type=None, interaction_constraints=&#x27;&#x27;,\n",
       "              learning_rate=0.300000012, max_bin=256, max_cat_to_onehot=4,\n",
       "              max_delta_step=0, max_depth=6, max_leaves=0, min_child_weight=1,\n",
       "              missing=nan, monotone_constraints=&#x27;()&#x27;, n_estimators=100,\n",
       "              n_jobs=-1, num_parallel_tree=1, predictor=&#x27;auto&#x27;, random_state=0,\n",
       "              reg_alpha=0, reg_lambda=1, ...)</pre></div></div></div></div></div>"
      ],
      "text/plain": [
       "XGBClassifier(base_score=0.5, booster='gbtree', callbacks=None,\n",
       "              colsample_bylevel=1, colsample_bynode=1, colsample_bytree=1,\n",
       "              early_stopping_rounds=None, enable_categorical=False,\n",
       "              eval_metric=None, gamma=0, gpu_id=-1, grow_policy='depthwise',\n",
       "              importance_type=None, interaction_constraints='',\n",
       "              learning_rate=0.300000012, max_bin=256, max_cat_to_onehot=4,\n",
       "              max_delta_step=0, max_depth=6, max_leaves=0, min_child_weight=1,\n",
       "              missing=nan, monotone_constraints='()', n_estimators=100,\n",
       "              n_jobs=-1, num_parallel_tree=1, predictor='auto', random_state=0,\n",
       "              reg_alpha=0, reg_lambda=1, ...)"
      ]
     },
     "execution_count": 171,
     "metadata": {},
     "output_type": "execute_result"
    }
   ],
   "source": [
    "X_train, y_train = train_df[res_feature_selection], train_df['is_churn']\n",
    "X_val, y_val = validation_df[res_feature_selection], validation_df['is_churn']\n",
    "X_test, y_test = test_df[res_feature_selection], test_df['is_churn']\n",
    "\n",
    "xgb_feat_selec = XGBClassifier(n_jobs=-1, tree_method=\"hist\", random_state=0)\n",
    "xgb_feat_selec.fit(X_train, y_train)"
   ]
  },
  {
   "cell_type": "code",
   "execution_count": 178,
   "metadata": {
    "ExecuteTime": {
     "end_time": "2022-07-14T23:25:30.344774Z",
     "start_time": "2022-07-14T23:25:28.990856Z"
    }
   },
   "outputs": [
    {
     "name": "stdout",
     "output_type": "stream",
     "text": [
      "validation performance : 83.64\n",
      "test performance :78.62\n"
     ]
    }
   ],
   "source": [
    "preds_val_xgb_fs, preds_test_xgb_fs = model_predictions(xgb_feat_selec, X_val, X_test)"
   ]
  },
  {
   "cell_type": "code",
   "execution_count": 179,
   "metadata": {
    "ExecuteTime": {
     "end_time": "2022-07-14T23:29:39.950700Z",
     "start_time": "2022-07-14T23:29:37.606672Z"
    }
   },
   "outputs": [],
   "source": [
    "sm = SMOTE(random_state=0, k_neighbors=5)\n",
    "X_res, y_res = sm.fit_resample(X_train, y_train)"
   ]
  },
  {
   "cell_type": "code",
   "execution_count": null,
   "metadata": {},
   "outputs": [],
   "source": []
  },
  {
   "cell_type": "code",
   "execution_count": 181,
   "metadata": {
    "ExecuteTime": {
     "end_time": "2022-07-14T23:30:15.719714Z",
     "start_time": "2022-07-14T23:30:06.126482Z"
    },
    "scrolled": true
   },
   "outputs": [
    {
     "data": {
      "text/html": [
       "<style>#sk-container-id-11 {color: black;background-color: white;}#sk-container-id-11 pre{padding: 0;}#sk-container-id-11 div.sk-toggleable {background-color: white;}#sk-container-id-11 label.sk-toggleable__label {cursor: pointer;display: block;width: 100%;margin-bottom: 0;padding: 0.3em;box-sizing: border-box;text-align: center;}#sk-container-id-11 label.sk-toggleable__label-arrow:before {content: \"▸\";float: left;margin-right: 0.25em;color: #696969;}#sk-container-id-11 label.sk-toggleable__label-arrow:hover:before {color: black;}#sk-container-id-11 div.sk-estimator:hover label.sk-toggleable__label-arrow:before {color: black;}#sk-container-id-11 div.sk-toggleable__content {max-height: 0;max-width: 0;overflow: hidden;text-align: left;background-color: #f0f8ff;}#sk-container-id-11 div.sk-toggleable__content pre {margin: 0.2em;color: black;border-radius: 0.25em;background-color: #f0f8ff;}#sk-container-id-11 input.sk-toggleable__control:checked~div.sk-toggleable__content {max-height: 200px;max-width: 100%;overflow: auto;}#sk-container-id-11 input.sk-toggleable__control:checked~label.sk-toggleable__label-arrow:before {content: \"▾\";}#sk-container-id-11 div.sk-estimator input.sk-toggleable__control:checked~label.sk-toggleable__label {background-color: #d4ebff;}#sk-container-id-11 div.sk-label input.sk-toggleable__control:checked~label.sk-toggleable__label {background-color: #d4ebff;}#sk-container-id-11 input.sk-hidden--visually {border: 0;clip: rect(1px 1px 1px 1px);clip: rect(1px, 1px, 1px, 1px);height: 1px;margin: -1px;overflow: hidden;padding: 0;position: absolute;width: 1px;}#sk-container-id-11 div.sk-estimator {font-family: monospace;background-color: #f0f8ff;border: 1px dotted black;border-radius: 0.25em;box-sizing: border-box;margin-bottom: 0.5em;}#sk-container-id-11 div.sk-estimator:hover {background-color: #d4ebff;}#sk-container-id-11 div.sk-parallel-item::after {content: \"\";width: 100%;border-bottom: 1px solid gray;flex-grow: 1;}#sk-container-id-11 div.sk-label:hover label.sk-toggleable__label {background-color: #d4ebff;}#sk-container-id-11 div.sk-serial::before {content: \"\";position: absolute;border-left: 1px solid gray;box-sizing: border-box;top: 0;bottom: 0;left: 50%;z-index: 0;}#sk-container-id-11 div.sk-serial {display: flex;flex-direction: column;align-items: center;background-color: white;padding-right: 0.2em;padding-left: 0.2em;position: relative;}#sk-container-id-11 div.sk-item {position: relative;z-index: 1;}#sk-container-id-11 div.sk-parallel {display: flex;align-items: stretch;justify-content: center;background-color: white;position: relative;}#sk-container-id-11 div.sk-item::before, #sk-container-id-11 div.sk-parallel-item::before {content: \"\";position: absolute;border-left: 1px solid gray;box-sizing: border-box;top: 0;bottom: 0;left: 50%;z-index: -1;}#sk-container-id-11 div.sk-parallel-item {display: flex;flex-direction: column;z-index: 1;position: relative;background-color: white;}#sk-container-id-11 div.sk-parallel-item:first-child::after {align-self: flex-end;width: 50%;}#sk-container-id-11 div.sk-parallel-item:last-child::after {align-self: flex-start;width: 50%;}#sk-container-id-11 div.sk-parallel-item:only-child::after {width: 0;}#sk-container-id-11 div.sk-dashed-wrapped {border: 1px dashed gray;margin: 0 0.4em 0.5em 0.4em;box-sizing: border-box;padding-bottom: 0.4em;background-color: white;}#sk-container-id-11 div.sk-label label {font-family: monospace;font-weight: bold;display: inline-block;line-height: 1.2em;}#sk-container-id-11 div.sk-label-container {text-align: center;}#sk-container-id-11 div.sk-container {/* jupyter's `normalize.less` sets `[hidden] { display: none; }` but bootstrap.min.css set `[hidden] { display: none !important; }` so we also need the `!important` here to be able to override the default hidden behavior on the sphinx rendered scikit-learn.org. See: https://github.com/scikit-learn/scikit-learn/issues/21755 */display: inline-block !important;position: relative;}#sk-container-id-11 div.sk-text-repr-fallback {display: none;}</style><div id=\"sk-container-id-11\" class=\"sk-top-container\"><div class=\"sk-text-repr-fallback\"><pre>XGBClassifier(base_score=0.5, booster=&#x27;gbtree&#x27;, callbacks=None,\n",
       "              colsample_bylevel=1, colsample_bynode=1, colsample_bytree=1,\n",
       "              early_stopping_rounds=None, enable_categorical=False,\n",
       "              eval_metric=None, gamma=0, gpu_id=-1, grow_policy=&#x27;depthwise&#x27;,\n",
       "              importance_type=None, interaction_constraints=&#x27;&#x27;,\n",
       "              learning_rate=0.300000012, max_bin=256, max_cat_to_onehot=4,\n",
       "              max_delta_step=0, max_depth=6, max_leaves=0, min_child_weight=1,\n",
       "              missing=nan, monotone_constraints=&#x27;()&#x27;, n_estimators=100,\n",
       "              n_jobs=-1, num_parallel_tree=1, predictor=&#x27;auto&#x27;, random_state=0,\n",
       "              reg_alpha=0, reg_lambda=1, ...)</pre><b>In a Jupyter environment, please rerun this cell to show the HTML representation or trust the notebook. <br />On GitHub, the HTML representation is unable to render, please try loading this page with nbviewer.org.</b></div><div class=\"sk-container\" hidden><div class=\"sk-item\"><div class=\"sk-estimator sk-toggleable\"><input class=\"sk-toggleable__control sk-hidden--visually\" id=\"sk-estimator-id-11\" type=\"checkbox\" checked><label for=\"sk-estimator-id-11\" class=\"sk-toggleable__label sk-toggleable__label-arrow\">XGBClassifier</label><div class=\"sk-toggleable__content\"><pre>XGBClassifier(base_score=0.5, booster=&#x27;gbtree&#x27;, callbacks=None,\n",
       "              colsample_bylevel=1, colsample_bynode=1, colsample_bytree=1,\n",
       "              early_stopping_rounds=None, enable_categorical=False,\n",
       "              eval_metric=None, gamma=0, gpu_id=-1, grow_policy=&#x27;depthwise&#x27;,\n",
       "              importance_type=None, interaction_constraints=&#x27;&#x27;,\n",
       "              learning_rate=0.300000012, max_bin=256, max_cat_to_onehot=4,\n",
       "              max_delta_step=0, max_depth=6, max_leaves=0, min_child_weight=1,\n",
       "              missing=nan, monotone_constraints=&#x27;()&#x27;, n_estimators=100,\n",
       "              n_jobs=-1, num_parallel_tree=1, predictor=&#x27;auto&#x27;, random_state=0,\n",
       "              reg_alpha=0, reg_lambda=1, ...)</pre></div></div></div></div></div>"
      ],
      "text/plain": [
       "XGBClassifier(base_score=0.5, booster='gbtree', callbacks=None,\n",
       "              colsample_bylevel=1, colsample_bynode=1, colsample_bytree=1,\n",
       "              early_stopping_rounds=None, enable_categorical=False,\n",
       "              eval_metric=None, gamma=0, gpu_id=-1, grow_policy='depthwise',\n",
       "              importance_type=None, interaction_constraints='',\n",
       "              learning_rate=0.300000012, max_bin=256, max_cat_to_onehot=4,\n",
       "              max_delta_step=0, max_depth=6, max_leaves=0, min_child_weight=1,\n",
       "              missing=nan, monotone_constraints='()', n_estimators=100,\n",
       "              n_jobs=-1, num_parallel_tree=1, predictor='auto', random_state=0,\n",
       "              reg_alpha=0, reg_lambda=1, ...)"
      ]
     },
     "execution_count": 181,
     "metadata": {},
     "output_type": "execute_result"
    }
   ],
   "source": [
    "xgb_fs_res = XGBClassifier(n_jobs=-1, tree_method=\"hist\", random_state=0)\n",
    "xgb_fs_res.fit(X_res, y_res)"
   ]
  },
  {
   "cell_type": "code",
   "execution_count": 182,
   "metadata": {
    "ExecuteTime": {
     "end_time": "2022-07-14T23:31:07.241784Z",
     "start_time": "2022-07-14T23:31:05.778523Z"
    }
   },
   "outputs": [
    {
     "name": "stdout",
     "output_type": "stream",
     "text": [
      "validation performance : 81.82\n",
      "test performance :76.24\n"
     ]
    }
   ],
   "source": [
    "preds_val_xgb_fs_res, preds_test_xgb_fs_res = model_predictions(xgb_fs_res, X_val, X_test)"
   ]
  },
  {
   "cell_type": "code",
   "execution_count": 193,
   "metadata": {
    "ExecuteTime": {
     "end_time": "2022-07-14T23:38:33.883847Z",
     "start_time": "2022-07-14T23:38:33.882047Z"
    }
   },
   "outputs": [],
   "source": [
    "del X_res, y_res"
   ]
  },
  {
   "cell_type": "markdown",
   "metadata": {},
   "source": [
    "# Hyperrparameter Tuning for XGBoost"
   ]
  },
  {
   "cell_type": "code",
   "execution_count": 194,
   "metadata": {
    "ExecuteTime": {
     "end_time": "2022-07-14T23:38:41.432076Z",
     "start_time": "2022-07-14T23:38:41.429750Z"
    }
   },
   "outputs": [],
   "source": [
    "best_auc = 0\n",
    "best_model = xgb_fs_res\n",
    "best_params = {}"
   ]
  },
  {
   "cell_type": "code",
   "execution_count": 195,
   "metadata": {
    "ExecuteTime": {
     "end_time": "2022-07-14T23:38:41.677085Z",
     "start_time": "2022-07-14T23:38:41.673239Z"
    }
   },
   "outputs": [],
   "source": [
    "def objective(space):\n",
    "    # Instantiate the classifier\n",
    "    clf = XGBClassifier(\n",
    "                 learning_rate =0.1,\n",
    "                 n_estimators=150,\n",
    "                 max_depth=int(space['max_depth']),\n",
    "                 min_child_weight=space['min_child_weight'],\n",
    "                 gamma=space['gamma'],\n",
    "                 subsample=space['subsample'],\n",
    "                 colsample_bytree=space['colsample_bytree'],\n",
    "                 objective= 'binary:logistic',\n",
    "        n_jobs=-1,\n",
    "        tree_method='hist',\n",
    "                 seed=0)\n",
    "    \n",
    "    # Fit the classsifier\n",
    "    clf.fit(X_train, y_train)\n",
    "    \n",
    "    # Predict on Validation data\n",
    "    pred = clf.predict_proba(X_val)[:,1]\n",
    "    \n",
    "    # Calculate our Metric : loss = - AUC\n",
    "    auc = roc_auc_score(y_val, pred)\n",
    "    print(auc)\n",
    "    global best_auc\n",
    "    global best_model\n",
    "    global best_params\n",
    "    if auc >  best_auc:\n",
    "        best_auc = auc\n",
    "        best_model = clf\n",
    "        best_params = space\n",
    "    # return needs to be in this below format. We use negative of auc since we want to maximize it.\n",
    "    return {'loss': - auc, 'status': STATUS_OK }\n"
   ]
  },
  {
   "cell_type": "code",
   "execution_count": 196,
   "metadata": {
    "ExecuteTime": {
     "end_time": "2022-07-14T23:45:13.535394Z",
     "start_time": "2022-07-14T23:38:47.210218Z"
    }
   },
   "outputs": [
    {
     "name": "stdout",
     "output_type": "stream",
     "text": [
      "0.8382353775965719                                                                                                                                                                            \n",
      "0.8454552329055769                                                                                                                                                                            \n",
      "0.8394514587173173                                                                                                                                                                            \n",
      "0.8441027557813905                                                                                                                                                                            \n",
      "0.8370043413082815                                                                                                                                                                            \n",
      "0.8391355754633778                                                                                                                                                                            \n",
      "0.84455703953058                                                                                                                                                                              \n",
      "0.8396261954480897                                                                                                                                                                            \n",
      "0.8358332350831044                                                                                                                                                                            \n",
      "0.8376940124530462                                                                                                                                                                            \n",
      "0.8370104016869774                                                                                                                                                                            \n",
      "0.8371329458684612                                                                                                                                                                            \n",
      "0.8379088756848949                                                                                                                                                                            \n",
      "0.838170828688685                                                                                                                                                                             \n",
      "0.8380388526784633                                                                                                                                                                            \n",
      "0.8348289299098339                                                                                                                                                                            \n",
      "0.834301152814586                                                                                                                                                                             \n",
      "0.8422336121361629                                                                                                                                                                            \n",
      "0.842918270682616                                                                                                                                                                             \n",
      "0.8405436239266547                                                                                                                                                                            \n",
      "0.8355658886779882                                                                                                                                                                            \n",
      "0.8432762685294004                                                                                                                                                                            \n",
      "0.8413789895844037                                                                                                                                                                            \n",
      "0.8419075038169895                                                                                                                                                                            \n",
      "0.8375602379473936                                                                                                                                                                            \n",
      "100%|██████████████████████████████████████████████████████████████████████████████████████████████████████████████████████| 25/25 [06:26<00:00, 15.45s/trial, best loss: -0.8454552329055769]\n",
      "{'colsample_bytree': 0.8328106247297329, 'gamma': 0.1349603744889184, 'max_depth': 6.0, 'min_child_weight': 7.0, 'subsample': 0.8977075040105472}\n"
     ]
    }
   ],
   "source": [
    "space ={'max_depth': hp.quniform(\"max_depth\", 4, 16, 1),\n",
    "        'min_child_weight': hp.quniform ('min_child_weight', 1, 10, 1),\n",
    "        'subsample': hp.uniform ('subsample', 0.7, 1),\n",
    "        'gamma' : hp.uniform ('gamma', 0.1,0.5),\n",
    "        'colsample_bytree' : hp.uniform ('colsample_bytree', 0.7,1),\n",
    "    }\n",
    "\n",
    "trials = Trials()\n",
    "best = fmin(fn=objective,\n",
    "            space=space,\n",
    "            algo=tpe.suggest,\n",
    "            max_evals=25,\n",
    "            trials=trials)\n",
    "print(best)"
   ]
  },
  {
   "cell_type": "code",
   "execution_count": 203,
   "metadata": {
    "ExecuteTime": {
     "end_time": "2022-07-14T23:47:24.430986Z",
     "start_time": "2022-07-14T23:47:24.428060Z"
    }
   },
   "outputs": [],
   "source": [
    "xgb_fs_hyp = XGBClassifier(\n",
    "             learning_rate =0.1,\n",
    "             n_estimators=150,\n",
    "             max_depth=int(best['max_depth']),\n",
    "             min_child_weight=best['min_child_weight'],\n",
    "             gamma=best['gamma'],\n",
    "             subsample=best['subsample'],\n",
    "             colsample_bytree=best['colsample_bytree'],\n",
    "             objective= 'binary:logistic',\n",
    "    n_jobs=-1,\n",
    "    tree_method='hist',\n",
    "             seed=0)"
   ]
  },
  {
   "cell_type": "code",
   "execution_count": 204,
   "metadata": {
    "ExecuteTime": {
     "end_time": "2022-07-14T23:47:36.479694Z",
     "start_time": "2022-07-14T23:47:25.510263Z"
    }
   },
   "outputs": [
    {
     "data": {
      "text/html": [
       "<style>#sk-container-id-14 {color: black;background-color: white;}#sk-container-id-14 pre{padding: 0;}#sk-container-id-14 div.sk-toggleable {background-color: white;}#sk-container-id-14 label.sk-toggleable__label {cursor: pointer;display: block;width: 100%;margin-bottom: 0;padding: 0.3em;box-sizing: border-box;text-align: center;}#sk-container-id-14 label.sk-toggleable__label-arrow:before {content: \"▸\";float: left;margin-right: 0.25em;color: #696969;}#sk-container-id-14 label.sk-toggleable__label-arrow:hover:before {color: black;}#sk-container-id-14 div.sk-estimator:hover label.sk-toggleable__label-arrow:before {color: black;}#sk-container-id-14 div.sk-toggleable__content {max-height: 0;max-width: 0;overflow: hidden;text-align: left;background-color: #f0f8ff;}#sk-container-id-14 div.sk-toggleable__content pre {margin: 0.2em;color: black;border-radius: 0.25em;background-color: #f0f8ff;}#sk-container-id-14 input.sk-toggleable__control:checked~div.sk-toggleable__content {max-height: 200px;max-width: 100%;overflow: auto;}#sk-container-id-14 input.sk-toggleable__control:checked~label.sk-toggleable__label-arrow:before {content: \"▾\";}#sk-container-id-14 div.sk-estimator input.sk-toggleable__control:checked~label.sk-toggleable__label {background-color: #d4ebff;}#sk-container-id-14 div.sk-label input.sk-toggleable__control:checked~label.sk-toggleable__label {background-color: #d4ebff;}#sk-container-id-14 input.sk-hidden--visually {border: 0;clip: rect(1px 1px 1px 1px);clip: rect(1px, 1px, 1px, 1px);height: 1px;margin: -1px;overflow: hidden;padding: 0;position: absolute;width: 1px;}#sk-container-id-14 div.sk-estimator {font-family: monospace;background-color: #f0f8ff;border: 1px dotted black;border-radius: 0.25em;box-sizing: border-box;margin-bottom: 0.5em;}#sk-container-id-14 div.sk-estimator:hover {background-color: #d4ebff;}#sk-container-id-14 div.sk-parallel-item::after {content: \"\";width: 100%;border-bottom: 1px solid gray;flex-grow: 1;}#sk-container-id-14 div.sk-label:hover label.sk-toggleable__label {background-color: #d4ebff;}#sk-container-id-14 div.sk-serial::before {content: \"\";position: absolute;border-left: 1px solid gray;box-sizing: border-box;top: 0;bottom: 0;left: 50%;z-index: 0;}#sk-container-id-14 div.sk-serial {display: flex;flex-direction: column;align-items: center;background-color: white;padding-right: 0.2em;padding-left: 0.2em;position: relative;}#sk-container-id-14 div.sk-item {position: relative;z-index: 1;}#sk-container-id-14 div.sk-parallel {display: flex;align-items: stretch;justify-content: center;background-color: white;position: relative;}#sk-container-id-14 div.sk-item::before, #sk-container-id-14 div.sk-parallel-item::before {content: \"\";position: absolute;border-left: 1px solid gray;box-sizing: border-box;top: 0;bottom: 0;left: 50%;z-index: -1;}#sk-container-id-14 div.sk-parallel-item {display: flex;flex-direction: column;z-index: 1;position: relative;background-color: white;}#sk-container-id-14 div.sk-parallel-item:first-child::after {align-self: flex-end;width: 50%;}#sk-container-id-14 div.sk-parallel-item:last-child::after {align-self: flex-start;width: 50%;}#sk-container-id-14 div.sk-parallel-item:only-child::after {width: 0;}#sk-container-id-14 div.sk-dashed-wrapped {border: 1px dashed gray;margin: 0 0.4em 0.5em 0.4em;box-sizing: border-box;padding-bottom: 0.4em;background-color: white;}#sk-container-id-14 div.sk-label label {font-family: monospace;font-weight: bold;display: inline-block;line-height: 1.2em;}#sk-container-id-14 div.sk-label-container {text-align: center;}#sk-container-id-14 div.sk-container {/* jupyter's `normalize.less` sets `[hidden] { display: none; }` but bootstrap.min.css set `[hidden] { display: none !important; }` so we also need the `!important` here to be able to override the default hidden behavior on the sphinx rendered scikit-learn.org. See: https://github.com/scikit-learn/scikit-learn/issues/21755 */display: inline-block !important;position: relative;}#sk-container-id-14 div.sk-text-repr-fallback {display: none;}</style><div id=\"sk-container-id-14\" class=\"sk-top-container\"><div class=\"sk-text-repr-fallback\"><pre>XGBClassifier(base_score=0.5, booster=&#x27;gbtree&#x27;, callbacks=None,\n",
       "              colsample_bylevel=1, colsample_bynode=1,\n",
       "              colsample_bytree=0.8328106247297329, early_stopping_rounds=None,\n",
       "              enable_categorical=False, eval_metric=None,\n",
       "              gamma=0.1349603744889184, gpu_id=-1, grow_policy=&#x27;depthwise&#x27;,\n",
       "              importance_type=None, interaction_constraints=&#x27;&#x27;,\n",
       "              learning_rate=0.1, max_bin=256, max_cat_to_onehot=4,\n",
       "              max_delta_step=0, max_depth=6, max_leaves=0, min_child_weight=7.0,\n",
       "              missing=nan, monotone_constraints=&#x27;()&#x27;, n_estimators=250,\n",
       "              n_jobs=-1, num_parallel_tree=1, predictor=&#x27;auto&#x27;, random_state=0,\n",
       "              reg_alpha=0, reg_lambda=1, ...)</pre><b>In a Jupyter environment, please rerun this cell to show the HTML representation or trust the notebook. <br />On GitHub, the HTML representation is unable to render, please try loading this page with nbviewer.org.</b></div><div class=\"sk-container\" hidden><div class=\"sk-item\"><div class=\"sk-estimator sk-toggleable\"><input class=\"sk-toggleable__control sk-hidden--visually\" id=\"sk-estimator-id-14\" type=\"checkbox\" checked><label for=\"sk-estimator-id-14\" class=\"sk-toggleable__label sk-toggleable__label-arrow\">XGBClassifier</label><div class=\"sk-toggleable__content\"><pre>XGBClassifier(base_score=0.5, booster=&#x27;gbtree&#x27;, callbacks=None,\n",
       "              colsample_bylevel=1, colsample_bynode=1,\n",
       "              colsample_bytree=0.8328106247297329, early_stopping_rounds=None,\n",
       "              enable_categorical=False, eval_metric=None,\n",
       "              gamma=0.1349603744889184, gpu_id=-1, grow_policy=&#x27;depthwise&#x27;,\n",
       "              importance_type=None, interaction_constraints=&#x27;&#x27;,\n",
       "              learning_rate=0.1, max_bin=256, max_cat_to_onehot=4,\n",
       "              max_delta_step=0, max_depth=6, max_leaves=0, min_child_weight=7.0,\n",
       "              missing=nan, monotone_constraints=&#x27;()&#x27;, n_estimators=250,\n",
       "              n_jobs=-1, num_parallel_tree=1, predictor=&#x27;auto&#x27;, random_state=0,\n",
       "              reg_alpha=0, reg_lambda=1, ...)</pre></div></div></div></div></div>"
      ],
      "text/plain": [
       "XGBClassifier(base_score=0.5, booster='gbtree', callbacks=None,\n",
       "              colsample_bylevel=1, colsample_bynode=1,\n",
       "              colsample_bytree=0.8328106247297329, early_stopping_rounds=None,\n",
       "              enable_categorical=False, eval_metric=None,\n",
       "              gamma=0.1349603744889184, gpu_id=-1, grow_policy='depthwise',\n",
       "              importance_type=None, interaction_constraints='',\n",
       "              learning_rate=0.1, max_bin=256, max_cat_to_onehot=4,\n",
       "              max_delta_step=0, max_depth=6, max_leaves=0, min_child_weight=7.0,\n",
       "              missing=nan, monotone_constraints='()', n_estimators=250,\n",
       "              n_jobs=-1, num_parallel_tree=1, predictor='auto', random_state=0,\n",
       "              reg_alpha=0, reg_lambda=1, ...)"
      ]
     },
     "execution_count": 204,
     "metadata": {},
     "output_type": "execute_result"
    }
   ],
   "source": [
    "xgb_fs_hyp.fit(X_train, y_train)"
   ]
  },
  {
   "cell_type": "code",
   "execution_count": 205,
   "metadata": {
    "ExecuteTime": {
     "end_time": "2022-07-14T23:47:39.321410Z",
     "start_time": "2022-07-14T23:47:36.481907Z"
    }
   },
   "outputs": [
    {
     "name": "stdout",
     "output_type": "stream",
     "text": [
      "validation performance : 84.49\n",
      "test performance :79.12\n"
     ]
    }
   ],
   "source": [
    "preds_val_xgb_fs_hyp, preds_test_xgb_fs_hyp = model_predictions(xgb_fs_hyp, X_val, X_test)"
   ]
  },
  {
   "cell_type": "code",
   "execution_count": 210,
   "metadata": {
    "ExecuteTime": {
     "end_time": "2022-07-14T23:52:20.298390Z",
     "start_time": "2022-07-14T23:52:20.296457Z"
    }
   },
   "outputs": [],
   "source": [
    "rf_fs_hyp = RandomForestClassifier(n_estimators=100, n_jobs=-1, random_state=0, verbose=1)"
   ]
  },
  {
   "cell_type": "code",
   "execution_count": 211,
   "metadata": {
    "ExecuteTime": {
     "end_time": "2022-07-14T23:54:10.429179Z",
     "start_time": "2022-07-14T23:52:20.812543Z"
    }
   },
   "outputs": [
    {
     "name": "stderr",
     "output_type": "stream",
     "text": [
      "[Parallel(n_jobs=-1)]: Using backend ThreadingBackend with 8 concurrent workers.\n",
      "[Parallel(n_jobs=-1)]: Done  34 tasks      | elapsed:   40.2s\n",
      "[Parallel(n_jobs=-1)]: Done 100 out of 100 | elapsed:  1.8min finished\n"
     ]
    },
    {
     "data": {
      "text/html": [
       "<style>#sk-container-id-15 {color: black;background-color: white;}#sk-container-id-15 pre{padding: 0;}#sk-container-id-15 div.sk-toggleable {background-color: white;}#sk-container-id-15 label.sk-toggleable__label {cursor: pointer;display: block;width: 100%;margin-bottom: 0;padding: 0.3em;box-sizing: border-box;text-align: center;}#sk-container-id-15 label.sk-toggleable__label-arrow:before {content: \"▸\";float: left;margin-right: 0.25em;color: #696969;}#sk-container-id-15 label.sk-toggleable__label-arrow:hover:before {color: black;}#sk-container-id-15 div.sk-estimator:hover label.sk-toggleable__label-arrow:before {color: black;}#sk-container-id-15 div.sk-toggleable__content {max-height: 0;max-width: 0;overflow: hidden;text-align: left;background-color: #f0f8ff;}#sk-container-id-15 div.sk-toggleable__content pre {margin: 0.2em;color: black;border-radius: 0.25em;background-color: #f0f8ff;}#sk-container-id-15 input.sk-toggleable__control:checked~div.sk-toggleable__content {max-height: 200px;max-width: 100%;overflow: auto;}#sk-container-id-15 input.sk-toggleable__control:checked~label.sk-toggleable__label-arrow:before {content: \"▾\";}#sk-container-id-15 div.sk-estimator input.sk-toggleable__control:checked~label.sk-toggleable__label {background-color: #d4ebff;}#sk-container-id-15 div.sk-label input.sk-toggleable__control:checked~label.sk-toggleable__label {background-color: #d4ebff;}#sk-container-id-15 input.sk-hidden--visually {border: 0;clip: rect(1px 1px 1px 1px);clip: rect(1px, 1px, 1px, 1px);height: 1px;margin: -1px;overflow: hidden;padding: 0;position: absolute;width: 1px;}#sk-container-id-15 div.sk-estimator {font-family: monospace;background-color: #f0f8ff;border: 1px dotted black;border-radius: 0.25em;box-sizing: border-box;margin-bottom: 0.5em;}#sk-container-id-15 div.sk-estimator:hover {background-color: #d4ebff;}#sk-container-id-15 div.sk-parallel-item::after {content: \"\";width: 100%;border-bottom: 1px solid gray;flex-grow: 1;}#sk-container-id-15 div.sk-label:hover label.sk-toggleable__label {background-color: #d4ebff;}#sk-container-id-15 div.sk-serial::before {content: \"\";position: absolute;border-left: 1px solid gray;box-sizing: border-box;top: 0;bottom: 0;left: 50%;z-index: 0;}#sk-container-id-15 div.sk-serial {display: flex;flex-direction: column;align-items: center;background-color: white;padding-right: 0.2em;padding-left: 0.2em;position: relative;}#sk-container-id-15 div.sk-item {position: relative;z-index: 1;}#sk-container-id-15 div.sk-parallel {display: flex;align-items: stretch;justify-content: center;background-color: white;position: relative;}#sk-container-id-15 div.sk-item::before, #sk-container-id-15 div.sk-parallel-item::before {content: \"\";position: absolute;border-left: 1px solid gray;box-sizing: border-box;top: 0;bottom: 0;left: 50%;z-index: -1;}#sk-container-id-15 div.sk-parallel-item {display: flex;flex-direction: column;z-index: 1;position: relative;background-color: white;}#sk-container-id-15 div.sk-parallel-item:first-child::after {align-self: flex-end;width: 50%;}#sk-container-id-15 div.sk-parallel-item:last-child::after {align-self: flex-start;width: 50%;}#sk-container-id-15 div.sk-parallel-item:only-child::after {width: 0;}#sk-container-id-15 div.sk-dashed-wrapped {border: 1px dashed gray;margin: 0 0.4em 0.5em 0.4em;box-sizing: border-box;padding-bottom: 0.4em;background-color: white;}#sk-container-id-15 div.sk-label label {font-family: monospace;font-weight: bold;display: inline-block;line-height: 1.2em;}#sk-container-id-15 div.sk-label-container {text-align: center;}#sk-container-id-15 div.sk-container {/* jupyter's `normalize.less` sets `[hidden] { display: none; }` but bootstrap.min.css set `[hidden] { display: none !important; }` so we also need the `!important` here to be able to override the default hidden behavior on the sphinx rendered scikit-learn.org. See: https://github.com/scikit-learn/scikit-learn/issues/21755 */display: inline-block !important;position: relative;}#sk-container-id-15 div.sk-text-repr-fallback {display: none;}</style><div id=\"sk-container-id-15\" class=\"sk-top-container\"><div class=\"sk-text-repr-fallback\"><pre>RandomForestClassifier(n_jobs=-1, random_state=0, verbose=1)</pre><b>In a Jupyter environment, please rerun this cell to show the HTML representation or trust the notebook. <br />On GitHub, the HTML representation is unable to render, please try loading this page with nbviewer.org.</b></div><div class=\"sk-container\" hidden><div class=\"sk-item\"><div class=\"sk-estimator sk-toggleable\"><input class=\"sk-toggleable__control sk-hidden--visually\" id=\"sk-estimator-id-15\" type=\"checkbox\" checked><label for=\"sk-estimator-id-15\" class=\"sk-toggleable__label sk-toggleable__label-arrow\">RandomForestClassifier</label><div class=\"sk-toggleable__content\"><pre>RandomForestClassifier(n_jobs=-1, random_state=0, verbose=1)</pre></div></div></div></div></div>"
      ],
      "text/plain": [
       "RandomForestClassifier(n_jobs=-1, random_state=0, verbose=1)"
      ]
     },
     "execution_count": 211,
     "metadata": {},
     "output_type": "execute_result"
    }
   ],
   "source": [
    "rf_fs_hyp.fit(X_train, y_train)"
   ]
  },
  {
   "cell_type": "code",
   "execution_count": 212,
   "metadata": {
    "ExecuteTime": {
     "end_time": "2022-07-14T23:54:52.028698Z",
     "start_time": "2022-07-14T23:54:41.508830Z"
    }
   },
   "outputs": [
    {
     "name": "stderr",
     "output_type": "stream",
     "text": [
      "[Parallel(n_jobs=8)]: Using backend ThreadingBackend with 8 concurrent workers.\n",
      "[Parallel(n_jobs=8)]: Done  34 tasks      | elapsed:    2.0s\n",
      "[Parallel(n_jobs=8)]: Done 100 out of 100 | elapsed:    5.1s finished\n",
      "[Parallel(n_jobs=8)]: Using backend ThreadingBackend with 8 concurrent workers.\n",
      "[Parallel(n_jobs=8)]: Done  34 tasks      | elapsed:    1.9s\n",
      "[Parallel(n_jobs=8)]: Done 100 out of 100 | elapsed:    4.9s finished\n"
     ]
    },
    {
     "name": "stdout",
     "output_type": "stream",
     "text": [
      "validation performance : 81.74\n",
      "test performance :78.06\n"
     ]
    }
   ],
   "source": [
    "preds_val_rf_fs_hyp, preds_test_rf_fs_hyp = model_predictions(rf_fs_hyp, X_val, X_test)"
   ]
  },
  {
   "cell_type": "code",
   "execution_count": 204,
   "metadata": {
    "ExecuteTime": {
     "end_time": "2022-07-14T23:47:36.479694Z",
     "start_time": "2022-07-14T23:47:25.510263Z"
    }
   },
   "outputs": [
    {
     "data": {
      "text/html": [
       "<style>#sk-container-id-14 {color: black;background-color: white;}#sk-container-id-14 pre{padding: 0;}#sk-container-id-14 div.sk-toggleable {background-color: white;}#sk-container-id-14 label.sk-toggleable__label {cursor: pointer;display: block;width: 100%;margin-bottom: 0;padding: 0.3em;box-sizing: border-box;text-align: center;}#sk-container-id-14 label.sk-toggleable__label-arrow:before {content: \"▸\";float: left;margin-right: 0.25em;color: #696969;}#sk-container-id-14 label.sk-toggleable__label-arrow:hover:before {color: black;}#sk-container-id-14 div.sk-estimator:hover label.sk-toggleable__label-arrow:before {color: black;}#sk-container-id-14 div.sk-toggleable__content {max-height: 0;max-width: 0;overflow: hidden;text-align: left;background-color: #f0f8ff;}#sk-container-id-14 div.sk-toggleable__content pre {margin: 0.2em;color: black;border-radius: 0.25em;background-color: #f0f8ff;}#sk-container-id-14 input.sk-toggleable__control:checked~div.sk-toggleable__content {max-height: 200px;max-width: 100%;overflow: auto;}#sk-container-id-14 input.sk-toggleable__control:checked~label.sk-toggleable__label-arrow:before {content: \"▾\";}#sk-container-id-14 div.sk-estimator input.sk-toggleable__control:checked~label.sk-toggleable__label {background-color: #d4ebff;}#sk-container-id-14 div.sk-label input.sk-toggleable__control:checked~label.sk-toggleable__label {background-color: #d4ebff;}#sk-container-id-14 input.sk-hidden--visually {border: 0;clip: rect(1px 1px 1px 1px);clip: rect(1px, 1px, 1px, 1px);height: 1px;margin: -1px;overflow: hidden;padding: 0;position: absolute;width: 1px;}#sk-container-id-14 div.sk-estimator {font-family: monospace;background-color: #f0f8ff;border: 1px dotted black;border-radius: 0.25em;box-sizing: border-box;margin-bottom: 0.5em;}#sk-container-id-14 div.sk-estimator:hover {background-color: #d4ebff;}#sk-container-id-14 div.sk-parallel-item::after {content: \"\";width: 100%;border-bottom: 1px solid gray;flex-grow: 1;}#sk-container-id-14 div.sk-label:hover label.sk-toggleable__label {background-color: #d4ebff;}#sk-container-id-14 div.sk-serial::before {content: \"\";position: absolute;border-left: 1px solid gray;box-sizing: border-box;top: 0;bottom: 0;left: 50%;z-index: 0;}#sk-container-id-14 div.sk-serial {display: flex;flex-direction: column;align-items: center;background-color: white;padding-right: 0.2em;padding-left: 0.2em;position: relative;}#sk-container-id-14 div.sk-item {position: relative;z-index: 1;}#sk-container-id-14 div.sk-parallel {display: flex;align-items: stretch;justify-content: center;background-color: white;position: relative;}#sk-container-id-14 div.sk-item::before, #sk-container-id-14 div.sk-parallel-item::before {content: \"\";position: absolute;border-left: 1px solid gray;box-sizing: border-box;top: 0;bottom: 0;left: 50%;z-index: -1;}#sk-container-id-14 div.sk-parallel-item {display: flex;flex-direction: column;z-index: 1;position: relative;background-color: white;}#sk-container-id-14 div.sk-parallel-item:first-child::after {align-self: flex-end;width: 50%;}#sk-container-id-14 div.sk-parallel-item:last-child::after {align-self: flex-start;width: 50%;}#sk-container-id-14 div.sk-parallel-item:only-child::after {width: 0;}#sk-container-id-14 div.sk-dashed-wrapped {border: 1px dashed gray;margin: 0 0.4em 0.5em 0.4em;box-sizing: border-box;padding-bottom: 0.4em;background-color: white;}#sk-container-id-14 div.sk-label label {font-family: monospace;font-weight: bold;display: inline-block;line-height: 1.2em;}#sk-container-id-14 div.sk-label-container {text-align: center;}#sk-container-id-14 div.sk-container {/* jupyter's `normalize.less` sets `[hidden] { display: none; }` but bootstrap.min.css set `[hidden] { display: none !important; }` so we also need the `!important` here to be able to override the default hidden behavior on the sphinx rendered scikit-learn.org. See: https://github.com/scikit-learn/scikit-learn/issues/21755 */display: inline-block !important;position: relative;}#sk-container-id-14 div.sk-text-repr-fallback {display: none;}</style><div id=\"sk-container-id-14\" class=\"sk-top-container\"><div class=\"sk-text-repr-fallback\"><pre>XGBClassifier(base_score=0.5, booster=&#x27;gbtree&#x27;, callbacks=None,\n",
       "              colsample_bylevel=1, colsample_bynode=1,\n",
       "              colsample_bytree=0.8328106247297329, early_stopping_rounds=None,\n",
       "              enable_categorical=False, eval_metric=None,\n",
       "              gamma=0.1349603744889184, gpu_id=-1, grow_policy=&#x27;depthwise&#x27;,\n",
       "              importance_type=None, interaction_constraints=&#x27;&#x27;,\n",
       "              learning_rate=0.1, max_bin=256, max_cat_to_onehot=4,\n",
       "              max_delta_step=0, max_depth=6, max_leaves=0, min_child_weight=7.0,\n",
       "              missing=nan, monotone_constraints=&#x27;()&#x27;, n_estimators=250,\n",
       "              n_jobs=-1, num_parallel_tree=1, predictor=&#x27;auto&#x27;, random_state=0,\n",
       "              reg_alpha=0, reg_lambda=1, ...)</pre><b>In a Jupyter environment, please rerun this cell to show the HTML representation or trust the notebook. <br />On GitHub, the HTML representation is unable to render, please try loading this page with nbviewer.org.</b></div><div class=\"sk-container\" hidden><div class=\"sk-item\"><div class=\"sk-estimator sk-toggleable\"><input class=\"sk-toggleable__control sk-hidden--visually\" id=\"sk-estimator-id-14\" type=\"checkbox\" checked><label for=\"sk-estimator-id-14\" class=\"sk-toggleable__label sk-toggleable__label-arrow\">XGBClassifier</label><div class=\"sk-toggleable__content\"><pre>XGBClassifier(base_score=0.5, booster=&#x27;gbtree&#x27;, callbacks=None,\n",
       "              colsample_bylevel=1, colsample_bynode=1,\n",
       "              colsample_bytree=0.8328106247297329, early_stopping_rounds=None,\n",
       "              enable_categorical=False, eval_metric=None,\n",
       "              gamma=0.1349603744889184, gpu_id=-1, grow_policy=&#x27;depthwise&#x27;,\n",
       "              importance_type=None, interaction_constraints=&#x27;&#x27;,\n",
       "              learning_rate=0.1, max_bin=256, max_cat_to_onehot=4,\n",
       "              max_delta_step=0, max_depth=6, max_leaves=0, min_child_weight=7.0,\n",
       "              missing=nan, monotone_constraints=&#x27;()&#x27;, n_estimators=250,\n",
       "              n_jobs=-1, num_parallel_tree=1, predictor=&#x27;auto&#x27;, random_state=0,\n",
       "              reg_alpha=0, reg_lambda=1, ...)</pre></div></div></div></div></div>"
      ],
      "text/plain": [
       "XGBClassifier(base_score=0.5, booster='gbtree', callbacks=None,\n",
       "              colsample_bylevel=1, colsample_bynode=1,\n",
       "              colsample_bytree=0.8328106247297329, early_stopping_rounds=None,\n",
       "              enable_categorical=False, eval_metric=None,\n",
       "              gamma=0.1349603744889184, gpu_id=-1, grow_policy='depthwise',\n",
       "              importance_type=None, interaction_constraints='',\n",
       "              learning_rate=0.1, max_bin=256, max_cat_to_onehot=4,\n",
       "              max_delta_step=0, max_depth=6, max_leaves=0, min_child_weight=7.0,\n",
       "              missing=nan, monotone_constraints='()', n_estimators=250,\n",
       "              n_jobs=-1, num_parallel_tree=1, predictor='auto', random_state=0,\n",
       "              reg_alpha=0, reg_lambda=1, ...)"
      ]
     },
     "execution_count": 204,
     "metadata": {},
     "output_type": "execute_result"
    }
   ],
   "source": [
    "xgb_fs_hyp.fit(X_train, y_train)"
   ]
  },
  {
   "cell_type": "code",
   "execution_count": 205,
   "metadata": {
    "ExecuteTime": {
     "end_time": "2022-07-14T23:47:39.321410Z",
     "start_time": "2022-07-14T23:47:36.481907Z"
    }
   },
   "outputs": [
    {
     "name": "stdout",
     "output_type": "stream",
     "text": [
      "validation performance : 84.49\n",
      "test performance :79.12\n"
     ]
    }
   ],
   "source": [
    "preds_val_xgb_fs_hyp, preds_test_xgb_fs_hyp = model_predictions(xgb_fs_hyp, X_val, X_test)"
   ]
  },
  {
   "cell_type": "code",
   "execution_count": 221,
   "metadata": {
    "ExecuteTime": {
     "end_time": "2022-07-14T23:57:58.176315Z",
     "start_time": "2022-07-14T23:57:58.173603Z"
    }
   },
   "outputs": [],
   "source": [
    "xgb_fs_hyp_no_hist = XGBClassifier(\n",
    "             learning_rate =0.1,\n",
    "             n_estimators=150,\n",
    "             max_depth=int(best['max_depth']),\n",
    "             min_child_weight=best['min_child_weight'],\n",
    "             gamma=best['gamma'],\n",
    "             subsample=best['subsample'],\n",
    "             colsample_bytree=best['colsample_bytree'],\n",
    "             objective= 'binary:logistic',\n",
    "    n_jobs=-1,\n",
    "             seed=0)"
   ]
  },
  {
   "cell_type": "code",
   "execution_count": null,
   "metadata": {
    "ExecuteTime": {
     "start_time": "2022-07-14T23:57:58.409Z"
    }
   },
   "outputs": [],
   "source": [
    "xgb_fs_hyp_no_hist.fit(X_train, y_train, verbose=2)\n",
    "\n",
    "preds_val_xgb_fs_hyp_no_hist, preds_test_xgb_fs_hyp_no_hist = model_predictions(xgb_fs_hyp_no_hist, X_val, X_test)"
   ]
  },
  {
   "cell_type": "code",
   "execution_count": null,
   "metadata": {},
   "outputs": [],
   "source": []
  }
 ],
 "metadata": {
  "colab": {
   "collapsed_sections": [],
   "name": "modeling_final_1.ipynb",
   "provenance": [],
   "toc_visible": true
  },
  "kernelspec": {
   "display_name": "Python 3 (ipykernel)",
   "language": "python",
   "name": "python3"
  },
  "language_info": {
   "codemirror_mode": {
    "name": "ipython",
    "version": 3
   },
   "file_extension": ".py",
   "mimetype": "text/x-python",
   "name": "python",
   "nbconvert_exporter": "python",
   "pygments_lexer": "ipython3",
   "version": "3.8.13"
  },
  "toc": {
   "base_numbering": 1,
   "nav_menu": {},
   "number_sections": true,
   "sideBar": true,
   "skip_h1_title": false,
   "title_cell": "Table of Contents",
   "title_sidebar": "Contents",
   "toc_cell": true,
   "toc_position": {
    "height": "calc(100% - 180px)",
    "left": "10px",
    "top": "150px",
    "width": "301px"
   },
   "toc_section_display": true,
   "toc_window_display": true
  }
 },
 "nbformat": 4,
 "nbformat_minor": 1
}
