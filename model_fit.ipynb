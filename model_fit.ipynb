{
 "cells": [
  {
   "cell_type": "code",
   "execution_count": 40,
   "id": "abdf18c8",
   "metadata": {
    "ExecuteTime": {
     "end_time": "2022-05-04T13:02:26.934535Z",
     "start_time": "2022-05-04T13:02:24.893351Z"
    }
   },
   "outputs": [],
   "source": [
    "import pandas as pd\n",
    "from xgboost import XGBClassifier\n",
    "from sklearn.metrics import roc_auc_score\n",
    "from sklearn.metrics import log_loss\n",
    "from sklearn.ensemble import RandomForestClassifier"
   ]
  },
  {
   "cell_type": "code",
   "execution_count": 2,
   "id": "d3d6e186",
   "metadata": {
    "ExecuteTime": {
     "end_time": "2022-05-04T12:56:31.678444Z",
     "start_time": "2022-05-04T12:56:14.483432Z"
    }
   },
   "outputs": [],
   "source": [
    "dfMasterTable = pd.read_csv('dfMasterTable.csv')"
   ]
  },
  {
   "cell_type": "code",
   "execution_count": 3,
   "id": "7cd5e01d",
   "metadata": {
    "ExecuteTime": {
     "end_time": "2022-05-04T12:56:31.712177Z",
     "start_time": "2022-05-04T12:56:31.680999Z"
    },
    "scrolled": true
   },
   "outputs": [
    {
     "data": {
      "text/html": [
       "<div>\n",
       "<style scoped>\n",
       "    .dataframe tbody tr th:only-of-type {\n",
       "        vertical-align: middle;\n",
       "    }\n",
       "\n",
       "    .dataframe tbody tr th {\n",
       "        vertical-align: top;\n",
       "    }\n",
       "\n",
       "    .dataframe thead th {\n",
       "        text-align: right;\n",
       "    }\n",
       "</style>\n",
       "<table border=\"1\" class=\"dataframe\">\n",
       "  <thead>\n",
       "    <tr style=\"text-align: right;\">\n",
       "      <th></th>\n",
       "      <th>msno</th>\n",
       "      <th>is_churn</th>\n",
       "      <th>date_pred</th>\n",
       "      <th>bd</th>\n",
       "      <th>gender</th>\n",
       "      <th>city_1</th>\n",
       "      <th>city_4</th>\n",
       "      <th>city_5</th>\n",
       "      <th>city_13</th>\n",
       "      <th>city_15</th>\n",
       "      <th>...</th>\n",
       "      <th>num_unq_sum</th>\n",
       "      <th>num_unq_mean</th>\n",
       "      <th>num_unq_std</th>\n",
       "      <th>msno_count_y</th>\n",
       "      <th>nbr_logins_monthly_mean</th>\n",
       "      <th>nbr_logins_monthly_max</th>\n",
       "      <th>nbr_logins_monthly_min</th>\n",
       "      <th>nbr_logins_monthly_std</th>\n",
       "      <th>nbr_logins_monthly_count</th>\n",
       "      <th>last_login_days</th>\n",
       "    </tr>\n",
       "  </thead>\n",
       "  <tbody>\n",
       "    <tr>\n",
       "      <th>0</th>\n",
       "      <td>waLDQMmcOu2jLDaV1ddDkgCrB/jl6sD66Xzs0Vqax1Y=</td>\n",
       "      <td>1</td>\n",
       "      <td>201702</td>\n",
       "      <td>36.0</td>\n",
       "      <td>0.0</td>\n",
       "      <td>0.0</td>\n",
       "      <td>0.0</td>\n",
       "      <td>0.0</td>\n",
       "      <td>0.0</td>\n",
       "      <td>0.0</td>\n",
       "      <td>...</td>\n",
       "      <td>394.0</td>\n",
       "      <td>19.700000</td>\n",
       "      <td>16.012807</td>\n",
       "      <td>20.0</td>\n",
       "      <td>8.666667</td>\n",
       "      <td>18.0</td>\n",
       "      <td>2.0</td>\n",
       "      <td>8.326664</td>\n",
       "      <td>3.0</td>\n",
       "      <td>3.0</td>\n",
       "    </tr>\n",
       "    <tr>\n",
       "      <th>1</th>\n",
       "      <td>QA7uiXy8vIbUSPOkCf9RwQ3FsT8jVq2OxDr8zqa7bRQ=</td>\n",
       "      <td>1</td>\n",
       "      <td>201702</td>\n",
       "      <td>38.0</td>\n",
       "      <td>1.0</td>\n",
       "      <td>0.0</td>\n",
       "      <td>0.0</td>\n",
       "      <td>0.0</td>\n",
       "      <td>0.0</td>\n",
       "      <td>0.0</td>\n",
       "      <td>...</td>\n",
       "      <td>7229.0</td>\n",
       "      <td>13.901923</td>\n",
       "      <td>14.006454</td>\n",
       "      <td>520.0</td>\n",
       "      <td>20.840000</td>\n",
       "      <td>31.0</td>\n",
       "      <td>1.0</td>\n",
       "      <td>9.485427</td>\n",
       "      <td>25.0</td>\n",
       "      <td>33.0</td>\n",
       "    </tr>\n",
       "    <tr>\n",
       "      <th>2</th>\n",
       "      <td>fGwBva6hikQmTJzrbz/2Ezjm5Cth5jZUNvXigKK2AFA=</td>\n",
       "      <td>1</td>\n",
       "      <td>201702</td>\n",
       "      <td>27.0</td>\n",
       "      <td>0.0</td>\n",
       "      <td>0.0</td>\n",
       "      <td>0.0</td>\n",
       "      <td>0.0</td>\n",
       "      <td>0.0</td>\n",
       "      <td>0.0</td>\n",
       "      <td>...</td>\n",
       "      <td>11533.0</td>\n",
       "      <td>48.662447</td>\n",
       "      <td>35.829472</td>\n",
       "      <td>237.0</td>\n",
       "      <td>19.750000</td>\n",
       "      <td>30.0</td>\n",
       "      <td>4.0</td>\n",
       "      <td>8.945542</td>\n",
       "      <td>12.0</td>\n",
       "      <td>1.0</td>\n",
       "    </tr>\n",
       "    <tr>\n",
       "      <th>3</th>\n",
       "      <td>mT5V8rEpa+8wuqi6x0DoVd3H5icMKkE9Prt49UlmK+4=</td>\n",
       "      <td>1</td>\n",
       "      <td>201702</td>\n",
       "      <td>23.0</td>\n",
       "      <td>0.0</td>\n",
       "      <td>0.0</td>\n",
       "      <td>0.0</td>\n",
       "      <td>0.0</td>\n",
       "      <td>1.0</td>\n",
       "      <td>0.0</td>\n",
       "      <td>...</td>\n",
       "      <td>17943.0</td>\n",
       "      <td>25.130252</td>\n",
       "      <td>24.978054</td>\n",
       "      <td>714.0</td>\n",
       "      <td>28.269231</td>\n",
       "      <td>31.0</td>\n",
       "      <td>21.0</td>\n",
       "      <td>3.244166</td>\n",
       "      <td>26.0</td>\n",
       "      <td>2.0</td>\n",
       "    </tr>\n",
       "    <tr>\n",
       "      <th>4</th>\n",
       "      <td>XaPhtGLk/5UvvOYHcONTwsnH97P4eGECeq+BARGItRw=</td>\n",
       "      <td>1</td>\n",
       "      <td>201702</td>\n",
       "      <td>27.0</td>\n",
       "      <td>1.0</td>\n",
       "      <td>0.0</td>\n",
       "      <td>0.0</td>\n",
       "      <td>0.0</td>\n",
       "      <td>0.0</td>\n",
       "      <td>0.0</td>\n",
       "      <td>...</td>\n",
       "      <td>71565.0</td>\n",
       "      <td>97.500000</td>\n",
       "      <td>45.000447</td>\n",
       "      <td>734.0</td>\n",
       "      <td>29.153846</td>\n",
       "      <td>31.0</td>\n",
       "      <td>21.0</td>\n",
       "      <td>2.460769</td>\n",
       "      <td>26.0</td>\n",
       "      <td>2.0</td>\n",
       "    </tr>\n",
       "  </tbody>\n",
       "</table>\n",
       "<p>5 rows × 50 columns</p>\n",
       "</div>"
      ],
      "text/plain": [
       "                                           msno  is_churn  date_pred    bd  \\\n",
       "0  waLDQMmcOu2jLDaV1ddDkgCrB/jl6sD66Xzs0Vqax1Y=         1     201702  36.0   \n",
       "1  QA7uiXy8vIbUSPOkCf9RwQ3FsT8jVq2OxDr8zqa7bRQ=         1     201702  38.0   \n",
       "2  fGwBva6hikQmTJzrbz/2Ezjm5Cth5jZUNvXigKK2AFA=         1     201702  27.0   \n",
       "3  mT5V8rEpa+8wuqi6x0DoVd3H5icMKkE9Prt49UlmK+4=         1     201702  23.0   \n",
       "4  XaPhtGLk/5UvvOYHcONTwsnH97P4eGECeq+BARGItRw=         1     201702  27.0   \n",
       "\n",
       "   gender  city_1  city_4  city_5  city_13  city_15  ...  num_unq_sum  \\\n",
       "0     0.0     0.0     0.0     0.0      0.0      0.0  ...        394.0   \n",
       "1     1.0     0.0     0.0     0.0      0.0      0.0  ...       7229.0   \n",
       "2     0.0     0.0     0.0     0.0      0.0      0.0  ...      11533.0   \n",
       "3     0.0     0.0     0.0     0.0      1.0      0.0  ...      17943.0   \n",
       "4     1.0     0.0     0.0     0.0      0.0      0.0  ...      71565.0   \n",
       "\n",
       "   num_unq_mean  num_unq_std  msno_count_y  nbr_logins_monthly_mean  \\\n",
       "0     19.700000    16.012807          20.0                 8.666667   \n",
       "1     13.901923    14.006454         520.0                20.840000   \n",
       "2     48.662447    35.829472         237.0                19.750000   \n",
       "3     25.130252    24.978054         714.0                28.269231   \n",
       "4     97.500000    45.000447         734.0                29.153846   \n",
       "\n",
       "   nbr_logins_monthly_max  nbr_logins_monthly_min  nbr_logins_monthly_std  \\\n",
       "0                    18.0                     2.0                8.326664   \n",
       "1                    31.0                     1.0                9.485427   \n",
       "2                    30.0                     4.0                8.945542   \n",
       "3                    31.0                    21.0                3.244166   \n",
       "4                    31.0                    21.0                2.460769   \n",
       "\n",
       "   nbr_logins_monthly_count  last_login_days  \n",
       "0                       3.0              3.0  \n",
       "1                      25.0             33.0  \n",
       "2                      12.0              1.0  \n",
       "3                      26.0              2.0  \n",
       "4                      26.0              2.0  \n",
       "\n",
       "[5 rows x 50 columns]"
      ]
     },
     "execution_count": 3,
     "metadata": {},
     "output_type": "execute_result"
    }
   ],
   "source": [
    "dfMasterTable.head()"
   ]
  },
  {
   "cell_type": "code",
   "execution_count": 47,
   "id": "714f5bc7",
   "metadata": {
    "ExecuteTime": {
     "end_time": "2022-05-04T13:12:02.440550Z",
     "start_time": "2022-05-04T13:12:01.953581Z"
    }
   },
   "outputs": [],
   "source": [
    "dfMasterTable.fillna(0, inplace=True)"
   ]
  },
  {
   "cell_type": "code",
   "execution_count": 48,
   "id": "4538232e",
   "metadata": {
    "ExecuteTime": {
     "end_time": "2022-05-04T13:12:03.879057Z",
     "start_time": "2022-05-04T13:12:03.457831Z"
    }
   },
   "outputs": [],
   "source": [
    "train_set = dfMasterTable[dfMasterTable.date_pred < 201703]\n",
    "test_set = dfMasterTable[dfMasterTable.date_pred == 201703]"
   ]
  },
  {
   "cell_type": "code",
   "execution_count": 49,
   "id": "f3bae984",
   "metadata": {
    "ExecuteTime": {
     "end_time": "2022-05-04T13:12:05.227969Z",
     "start_time": "2022-05-04T13:12:05.037709Z"
    },
    "scrolled": true
   },
   "outputs": [
    {
     "data": {
      "text/plain": [
       "msno                        0.0\n",
       "is_churn                    0.0\n",
       "date_pred                   0.0\n",
       "bd                          0.0\n",
       "gender                      0.0\n",
       "city_1                      0.0\n",
       "city_4                      0.0\n",
       "city_5                      0.0\n",
       "city_13                     0.0\n",
       "city_15                     0.0\n",
       "city_22                     0.0\n",
       "city_other                  0.0\n",
       "registered_via_3            0.0\n",
       "registered_via_4            0.0\n",
       "registered_via_7            0.0\n",
       "registered_via_9            0.0\n",
       "registered_via_11           0.0\n",
       "registered_via_13           0.0\n",
       "registered_via_other        0.0\n",
       "tenure_days                 0.0\n",
       "actual_amount_paid_min      0.0\n",
       "actual_amount_paid_max      0.0\n",
       "actual_amount_paid_mean     0.0\n",
       "actual_amount_paid_std      0.0\n",
       "actual_amount_paid_sum      0.0\n",
       "is_auto_renew_mean          0.0\n",
       "is_auto_renew_sum           0.0\n",
       "is_cancel_sum               0.0\n",
       "is_cancel_mean              0.0\n",
       "msno_count_x                0.0\n",
       "diff_dates_min              0.0\n",
       "diff_dates_max              0.0\n",
       "diff_dates_mean             0.0\n",
       "diff_dates_std              0.0\n",
       "churn_mean                  0.0\n",
       "churn_sum                   0.0\n",
       "days_last_trx               0.0\n",
       "total_secs_sum              0.0\n",
       "total_secs_mean             0.0\n",
       "total_secs_std              0.0\n",
       "num_unq_sum                 0.0\n",
       "num_unq_mean                0.0\n",
       "num_unq_std                 0.0\n",
       "msno_count_y                0.0\n",
       "nbr_logins_monthly_mean     0.0\n",
       "nbr_logins_monthly_max      0.0\n",
       "nbr_logins_monthly_min      0.0\n",
       "nbr_logins_monthly_std      0.0\n",
       "nbr_logins_monthly_count    0.0\n",
       "last_login_days             0.0\n",
       "dtype: float64"
      ]
     },
     "execution_count": 49,
     "metadata": {},
     "output_type": "execute_result"
    }
   ],
   "source": [
    "train_set.isnull().mean()"
   ]
  },
  {
   "cell_type": "code",
   "execution_count": 50,
   "id": "4d4d3db0",
   "metadata": {
    "ExecuteTime": {
     "end_time": "2022-05-04T13:12:08.872710Z",
     "start_time": "2022-05-04T13:12:08.867807Z"
    }
   },
   "outputs": [
    {
     "data": {
      "text/plain": [
       "(992931, 50)"
      ]
     },
     "execution_count": 50,
     "metadata": {},
     "output_type": "execute_result"
    }
   ],
   "source": [
    "train_set.shape"
   ]
  },
  {
   "cell_type": "code",
   "execution_count": 51,
   "id": "4fbd035e",
   "metadata": {
    "ExecuteTime": {
     "end_time": "2022-05-04T13:12:09.112031Z",
     "start_time": "2022-05-04T13:12:09.107612Z"
    }
   },
   "outputs": [
    {
     "data": {
      "text/plain": [
       "(970960, 50)"
      ]
     },
     "execution_count": 51,
     "metadata": {},
     "output_type": "execute_result"
    }
   ],
   "source": [
    "test_set.shape"
   ]
  },
  {
   "cell_type": "code",
   "execution_count": 52,
   "id": "67fc0816",
   "metadata": {
    "ExecuteTime": {
     "end_time": "2022-05-04T13:12:10.826021Z",
     "start_time": "2022-05-04T13:12:10.512521Z"
    }
   },
   "outputs": [],
   "source": [
    "X_train, y_train = train_set.drop(['msno', 'is_churn', 'date_pred'], 1).values, train_set.is_churn.values\n",
    "X_test, y_test = test_set.drop(['msno', 'is_churn', 'date_pred'], 1).values, test_set.is_churn.values"
   ]
  },
  {
   "cell_type": "code",
   "execution_count": 53,
   "id": "e0c48cf1",
   "metadata": {
    "ExecuteTime": {
     "end_time": "2022-05-04T13:12:11.035710Z",
     "start_time": "2022-05-04T13:12:11.032401Z"
    }
   },
   "outputs": [],
   "source": [
    "clf = XGBClassifier(n_jobs=-1)"
   ]
  },
  {
   "cell_type": "code",
   "execution_count": 54,
   "id": "16503a3c",
   "metadata": {
    "ExecuteTime": {
     "end_time": "2022-05-04T13:14:20.908494Z",
     "start_time": "2022-05-04T13:12:11.812699Z"
    }
   },
   "outputs": [
    {
     "data": {
      "text/plain": [
       "XGBClassifier(base_score=0.5, booster='gbtree', callbacks=None,\n",
       "              colsample_bylevel=1, colsample_bynode=1, colsample_bytree=1,\n",
       "              early_stopping_rounds=None, enable_categorical=False,\n",
       "              eval_metric=None, gamma=0, gpu_id=-1, grow_policy='depthwise',\n",
       "              importance_type=None, interaction_constraints='',\n",
       "              learning_rate=0.300000012, max_bin=256, max_cat_to_onehot=4,\n",
       "              max_delta_step=0, max_depth=6, max_leaves=0, min_child_weight=1,\n",
       "              missing=nan, monotone_constraints='()', n_estimators=100,\n",
       "              n_jobs=-1, num_parallel_tree=1, predictor='auto', random_state=0,\n",
       "              reg_alpha=0, reg_lambda=1, ...)"
      ]
     },
     "execution_count": 54,
     "metadata": {},
     "output_type": "execute_result"
    }
   ],
   "source": [
    "clf.fit(X_train, y_train)"
   ]
  },
  {
   "cell_type": "code",
   "execution_count": 55,
   "id": "95d77ef2",
   "metadata": {
    "ExecuteTime": {
     "end_time": "2022-05-04T13:14:21.672469Z",
     "start_time": "2022-05-04T13:14:20.911085Z"
    }
   },
   "outputs": [],
   "source": [
    "y_pred = clf.predict_proba(X_test)[:, 1]"
   ]
  },
  {
   "cell_type": "code",
   "execution_count": 56,
   "id": "97935400",
   "metadata": {
    "ExecuteTime": {
     "end_time": "2022-05-04T13:14:22.062196Z",
     "start_time": "2022-05-04T13:14:21.674746Z"
    }
   },
   "outputs": [
    {
     "data": {
      "text/plain": [
       "0.8383135342038617"
      ]
     },
     "execution_count": 56,
     "metadata": {},
     "output_type": "execute_result"
    }
   ],
   "source": [
    "roc_auc_score(y_test, y_pred)"
   ]
  },
  {
   "cell_type": "code",
   "execution_count": 57,
   "id": "9664eb2e",
   "metadata": {
    "ExecuteTime": {
     "end_time": "2022-05-04T13:14:22.260448Z",
     "start_time": "2022-05-04T13:14:22.064779Z"
    }
   },
   "outputs": [
    {
     "data": {
      "text/plain": [
       "0.22475174649606028"
      ]
     },
     "execution_count": 57,
     "metadata": {},
     "output_type": "execute_result"
    }
   ],
   "source": [
    "log_loss(y_test, y_pred)"
   ]
  },
  {
   "cell_type": "code",
   "execution_count": 58,
   "id": "60e6aaad",
   "metadata": {
    "ExecuteTime": {
     "end_time": "2022-05-04T13:14:22.265413Z",
     "start_time": "2022-05-04T13:14:22.262470Z"
    }
   },
   "outputs": [],
   "source": [
    "rf = RandomForestClassifier(n_estimators=400, n_jobs=-1)"
   ]
  },
  {
   "cell_type": "code",
   "execution_count": 59,
   "id": "46ba547c",
   "metadata": {
    "ExecuteTime": {
     "end_time": "2022-05-04T13:22:55.493600Z",
     "start_time": "2022-05-04T13:14:22.267450Z"
    }
   },
   "outputs": [
    {
     "data": {
      "text/plain": [
       "RandomForestClassifier(n_estimators=400, n_jobs=-1)"
      ]
     },
     "execution_count": 59,
     "metadata": {},
     "output_type": "execute_result"
    }
   ],
   "source": [
    "rf.fit(X_train, y_train)"
   ]
  },
  {
   "cell_type": "code",
   "execution_count": 62,
   "id": "ad0445f6",
   "metadata": {
    "ExecuteTime": {
     "end_time": "2022-05-04T13:23:28.062830Z",
     "start_time": "2022-05-04T13:22:56.667492Z"
    }
   },
   "outputs": [],
   "source": [
    "y_pred = rf.predict_proba(X_test)[:, 1]"
   ]
  },
  {
   "cell_type": "code",
   "execution_count": 63,
   "id": "0318ab67",
   "metadata": {
    "ExecuteTime": {
     "end_time": "2022-05-04T13:23:28.310977Z",
     "start_time": "2022-05-04T13:23:28.065052Z"
    }
   },
   "outputs": [
    {
     "data": {
      "text/plain": [
       "0.24658377413898053"
      ]
     },
     "execution_count": 63,
     "metadata": {},
     "output_type": "execute_result"
    }
   ],
   "source": [
    "log_loss(y_test, y_pred)"
   ]
  },
  {
   "cell_type": "code",
   "execution_count": 64,
   "id": "603b4e09",
   "metadata": {
    "ExecuteTime": {
     "end_time": "2022-05-04T13:23:28.606077Z",
     "start_time": "2022-05-04T13:23:28.313032Z"
    }
   },
   "outputs": [
    {
     "data": {
      "text/plain": [
       "0.8401701599788997"
      ]
     },
     "execution_count": 64,
     "metadata": {},
     "output_type": "execute_result"
    }
   ],
   "source": [
    "roc_auc_score(y_test, y_pred)"
   ]
  },
  {
   "cell_type": "code",
   "execution_count": null,
   "id": "9fc1bd01",
   "metadata": {},
   "outputs": [],
   "source": []
  }
 ],
 "metadata": {
  "kernelspec": {
   "display_name": "env",
   "language": "python",
   "name": "env"
  },
  "language_info": {
   "codemirror_mode": {
    "name": "ipython",
    "version": 3
   },
   "file_extension": ".py",
   "mimetype": "text/x-python",
   "name": "python",
   "nbconvert_exporter": "python",
   "pygments_lexer": "ipython3",
   "version": "3.8.13"
  },
  "toc": {
   "base_numbering": 1,
   "nav_menu": {},
   "number_sections": true,
   "sideBar": true,
   "skip_h1_title": false,
   "title_cell": "Table of Contents",
   "title_sidebar": "Contents",
   "toc_cell": false,
   "toc_position": {},
   "toc_section_display": true,
   "toc_window_display": true
  }
 },
 "nbformat": 4,
 "nbformat_minor": 5
}
